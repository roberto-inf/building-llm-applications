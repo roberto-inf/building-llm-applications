{
 "cells": [
  {
   "cell_type": "markdown",
   "id": "03802b13-6e39-4060-a5f3-e2aef8d1d909",
   "metadata": {},
   "source": [
    "# Query generation"
   ]
  },
  {
   "cell_type": "markdown",
   "id": "27eeb02e-dfa9-406c-890f-c21edf39e3ce",
   "metadata": {},
   "source": [
    "# Self metadata query"
   ]
  },
  {
   "cell_type": "markdown",
   "id": "1a629219-63c0-418d-b153-150a9a7dfd32",
   "metadata": {},
   "source": [
    "## Ingestion (metadata enriched)"
   ]
  },
  {
   "cell_type": "markdown",
   "id": "676d4d6c-7355-4c8e-bcaa-5d0e144d7072",
   "metadata": {},
   "source": [
    "### Preparing the Chroma DB collection"
   ]
  },
  {
   "cell_type": "code",
   "execution_count": 44,
   "id": "a439e8d5-fd79-4746-9a0d-78da3c845043",
   "metadata": {},
   "outputs": [
    {
     "name": "stdin",
     "output_type": "stream",
     "text": [
      "Enter your OPENAI_API_KEY ········\n"
     ]
    }
   ],
   "source": [
    "from langchain_chroma import Chroma\n",
    "from langchain_openai import OpenAIEmbeddings\n",
    "import getpass\n",
    "\n",
    "OPENAI_API_KEY = getpass.getpass('Enter your OPENAI_API_KEY')"
   ]
  },
  {
   "cell_type": "code",
   "execution_count": 2,
   "id": "f59cd0b0-b0ea-4d86-8a40-7df51d4ceeca",
   "metadata": {},
   "outputs": [],
   "source": [
    "uk_with_metadata_collection = Chroma(\n",
    "    collection_name=\"uk_with_metadata_collection\",\n",
    "    embedding_function=OpenAIEmbeddings(openai_api_key=OPENAI_API_KEY),\n",
    ")\n",
    "\n",
    "uk_with_metadata_collection.reset_collection() #in case it already exists"
   ]
  },
  {
   "cell_type": "markdown",
   "id": "fafa138e-4052-4500-acf9-4452ed0bfdac",
   "metadata": {},
   "source": [
    "### Setting up the RecursiveCharacterTextSplitter "
   ]
  },
  {
   "cell_type": "code",
   "execution_count": 3,
   "id": "025cab7f-3936-4a9d-b91f-bd02c11e8a49",
   "metadata": {},
   "outputs": [
    {
     "name": "stderr",
     "output_type": "stream",
     "text": [
      "USER_AGENT environment variable not set, consider setting it to identify your requests.\n"
     ]
    }
   ],
   "source": [
    "from langchain_community.document_loaders import AsyncHtmlLoader\n",
    "from langchain_community.document_transformers import Html2TextTransformer\n",
    "from langchain_text_splitters import RecursiveCharacterTextSplitter\n",
    "from langchain_core.documents import Document"
   ]
  },
  {
   "cell_type": "code",
   "execution_count": 4,
   "id": "cc393d6f-1eb1-452c-b7dd-a5ef0e7dcca3",
   "metadata": {},
   "outputs": [],
   "source": [
    "html2text_transformer = Html2TextTransformer()"
   ]
  },
  {
   "cell_type": "code",
   "execution_count": 5,
   "id": "c90e6091-dac6-4d3e-8b7f-49136337f4a8",
   "metadata": {},
   "outputs": [],
   "source": [
    "text_splitter = RecursiveCharacterTextSplitter(\n",
    "    chunk_size=1000, chunk_overlap=100\n",
    ")"
   ]
  },
  {
   "cell_type": "code",
   "execution_count": 6,
   "id": "4edb93ca-5bf9-44aa-a72b-2261256c9ff8",
   "metadata": {},
   "outputs": [],
   "source": [
    "def split_docs_into_chunks(docs):\n",
    "    text_docs = html2text_transformer.transform_documents(docs) #A \n",
    "    chunks = text_splitter.split_documents(text_docs)\n",
    "\n",
    "    return chunks\n",
    "#A transform HTML docs into clean text docs"
   ]
  },
  {
   "cell_type": "code",
   "execution_count": 7,
   "id": "68a5568c-26ea-493b-b262-a85d078d11a5",
   "metadata": {},
   "outputs": [],
   "source": [
    "uk_destinations = [\n",
    "    (\"Cornwall\", \"Cornwall\"), (\"North_Cornwall\", \"Cornwall\"), \n",
    "    (\"South_Cornwall\", \"Cornwall\"), (\"West_Cornwall\", \"Cornwall\"),\n",
    "    (\"Tintagel\", \"Cornwall\"), (\"Bodmin\", \"Cornwall\"), (\"Wadebridge\", \"Cornwall\"),\n",
    "    (\"Penzance\", \"Cornwall\"), (\"Newquay\", \"Cornwall\"), (\"St_Ives\", \"Cornwall\"),\n",
    "    (\"Port_Isaac\", \"Cornwall\"), (\"Looe\", \"Cornwall\"), (\"Polperro\", \"Cornwall\"),\n",
    "    (\"Porthleven\", \"Cornwall\"),\n",
    "    (\"East_Sussex\", \"East_Sussex\"), (\"Brighton\", \"East_Sussex\"),\n",
    "    (\"Battle\", \"East_Sussex\"), (\"Hastings_(England)\", \"East_Sussex\"),\n",
    "    (\"Rye_(England)\", \"East_Sussex\"), (\"Seaford\", \"East_Sussex\"), \n",
    "    (\"Ashdown_Forest\", \"East_Sussex\")\n",
    "]\n",
    "\n",
    "wikivoyage_root_url = \"https://en.wikivoyage.org/wiki\""
   ]
  },
  {
   "cell_type": "code",
   "execution_count": 8,
   "id": "ef2fb0f8-2f27-40f4-88f0-3769c70de741",
   "metadata": {},
   "outputs": [],
   "source": [
    "uk_destination_url_with_metadata = [\n",
    "    ( f'{wikivoyage_root_url}/{destination}', destination, region)\n",
    "    for destination, region in uk_destinations]"
   ]
  },
  {
   "cell_type": "markdown",
   "id": "2de9ff55-996c-46fb-8f11-67b5ccb6e080",
   "metadata": {},
   "source": [
    "### Enriching a document with metadata: updating metadata "
   ]
  },
  {
   "cell_type": "code",
   "execution_count": 9,
   "id": "24b1fedc-d735-40fa-ba5f-803a1b6a553d",
   "metadata": {},
   "outputs": [],
   "source": [
    "tintagel_url, tintagel_destination, tintagel_region = uk_destination_url_with_metadata[4]"
   ]
  },
  {
   "cell_type": "code",
   "execution_count": 10,
   "id": "87b9f9d6-4bb7-4f54-a252-4d725711efc9",
   "metadata": {},
   "outputs": [
    {
     "name": "stderr",
     "output_type": "stream",
     "text": [
      "Fetching pages: 100%|####################################################################| 1/1 [00:00<00:00,  1.18it/s]\n"
     ]
    }
   ],
   "source": [
    "tintagel_html_loader =AsyncHtmlLoader(tintagel_url)\n",
    "tintagel_docs = tintagel_html_loader.load()"
   ]
  },
  {
   "cell_type": "code",
   "execution_count": 11,
   "id": "b46529f7-9bf9-4569-8ab5-e04ff0a207b8",
   "metadata": {},
   "outputs": [],
   "source": [
    "# tintagel_docs # COMMENT: LangChain loaders create docs which contain metadata"
   ]
  },
  {
   "cell_type": "code",
   "execution_count": 12,
   "id": "fcd154f4-0935-4418-ac18-894e8b35b5a1",
   "metadata": {},
   "outputs": [
    {
     "name": "stdout",
     "output_type": "stream",
     "text": [
      "{'source': 'https://en.wikivoyage.org/wiki/Tintagel', 'title': 'Tintagel – Travel guide at Wikivoyage', 'language': 'en', 'destination': 'Tintagel', 'region': 'Cornwall'}\n"
     ]
    }
   ],
   "source": [
    "for doc in tintagel_docs:\n",
    "    doc.metadata['destination'] = tintagel_destination\n",
    "    doc.metadata['region'] = tintagel_region\n",
    "    print(doc.metadata)"
   ]
  },
  {
   "cell_type": "markdown",
   "id": "843f0fd5-efb0-43bc-bf3e-1bcb6f241395",
   "metadata": {},
   "source": [
    "### Enriching a document with metadata: creating metadata "
   ]
  },
  {
   "cell_type": "code",
   "execution_count": 13,
   "id": "9fbac6dc-d222-4972-9440-d2a93741c93a",
   "metadata": {},
   "outputs": [],
   "source": [
    "tintagel_docs_with_metadata = [\n",
    "    Document(page_content=d.page_content,\n",
    "             metadata = {\n",
    "                 'source': tintagel_url,\n",
    "                 'destination': tintagel_destination,\n",
    "                 'region': tintagel_region\n",
    "             })\n",
    "    for d in tintagel_docs\n",
    "]"
   ]
  },
  {
   "cell_type": "code",
   "execution_count": 14,
   "id": "08a646f6-1bed-4e0c-8977-9e329324da80",
   "metadata": {},
   "outputs": [],
   "source": [
    "# tintagel_docs_with_metadata # examine the Document"
   ]
  },
  {
   "cell_type": "markdown",
   "id": "d8dc82aa-0ace-4c1d-b343-8861630db344",
   "metadata": {},
   "source": [
    "### Enriching the UK destination documents with metadata: creating metadata "
   ]
  },
  {
   "cell_type": "code",
   "execution_count": 15,
   "id": "b77e8118-7741-44e0-a6cc-c5ea67108e2c",
   "metadata": {},
   "outputs": [
    {
     "name": "stderr",
     "output_type": "stream",
     "text": [
      "Fetching pages: 100%|####################################################################| 1/1 [00:01<00:00,  1.18s/it]\n"
     ]
    },
    {
     "name": "stdout",
     "output_type": "stream",
     "text": [
      "Importing: Cornwall\n"
     ]
    },
    {
     "name": "stderr",
     "output_type": "stream",
     "text": [
      "Fetching pages: 100%|####################################################################| 1/1 [00:00<00:00,  1.69it/s]\n"
     ]
    },
    {
     "name": "stdout",
     "output_type": "stream",
     "text": [
      "Importing: North_Cornwall\n"
     ]
    },
    {
     "name": "stderr",
     "output_type": "stream",
     "text": [
      "Fetching pages: 100%|####################################################################| 1/1 [00:01<00:00,  1.39s/it]\n"
     ]
    },
    {
     "name": "stdout",
     "output_type": "stream",
     "text": [
      "Importing: South_Cornwall\n"
     ]
    },
    {
     "name": "stderr",
     "output_type": "stream",
     "text": [
      "Fetching pages: 100%|####################################################################| 1/1 [00:00<00:00,  1.53it/s]\n"
     ]
    },
    {
     "name": "stdout",
     "output_type": "stream",
     "text": [
      "Importing: West_Cornwall\n"
     ]
    },
    {
     "name": "stderr",
     "output_type": "stream",
     "text": [
      "Fetching pages: 100%|####################################################################| 1/1 [00:00<00:00, 10.75it/s]\n"
     ]
    },
    {
     "name": "stdout",
     "output_type": "stream",
     "text": [
      "Importing: Tintagel\n"
     ]
    },
    {
     "name": "stderr",
     "output_type": "stream",
     "text": [
      "Fetching pages: 100%|####################################################################| 1/1 [00:00<00:00,  1.48it/s]\n"
     ]
    },
    {
     "name": "stdout",
     "output_type": "stream",
     "text": [
      "Importing: Bodmin\n"
     ]
    },
    {
     "name": "stderr",
     "output_type": "stream",
     "text": [
      "Fetching pages: 100%|####################################################################| 1/1 [00:00<00:00,  1.23it/s]\n"
     ]
    },
    {
     "name": "stdout",
     "output_type": "stream",
     "text": [
      "Importing: Wadebridge\n"
     ]
    },
    {
     "name": "stderr",
     "output_type": "stream",
     "text": [
      "Fetching pages: 100%|####################################################################| 1/1 [00:01<00:00,  1.04s/it]\n"
     ]
    },
    {
     "name": "stdout",
     "output_type": "stream",
     "text": [
      "Importing: Penzance\n"
     ]
    },
    {
     "name": "stderr",
     "output_type": "stream",
     "text": [
      "Fetching pages: 100%|####################################################################| 1/1 [00:00<00:00,  1.05it/s]\n"
     ]
    },
    {
     "name": "stdout",
     "output_type": "stream",
     "text": [
      "Importing: Newquay\n"
     ]
    },
    {
     "name": "stderr",
     "output_type": "stream",
     "text": [
      "Fetching pages: 100%|####################################################################| 1/1 [00:01<00:00,  1.07s/it]\n"
     ]
    },
    {
     "name": "stdout",
     "output_type": "stream",
     "text": [
      "Importing: St_Ives\n"
     ]
    },
    {
     "name": "stderr",
     "output_type": "stream",
     "text": [
      "Fetching pages: 100%|####################################################################| 1/1 [00:00<00:00,  2.14it/s]\n"
     ]
    },
    {
     "name": "stdout",
     "output_type": "stream",
     "text": [
      "Importing: Port_Isaac\n"
     ]
    },
    {
     "name": "stderr",
     "output_type": "stream",
     "text": [
      "Fetching pages: 100%|####################################################################| 1/1 [00:00<00:00,  1.99it/s]\n"
     ]
    },
    {
     "name": "stdout",
     "output_type": "stream",
     "text": [
      "Importing: Looe\n"
     ]
    },
    {
     "name": "stderr",
     "output_type": "stream",
     "text": [
      "Fetching pages: 100%|####################################################################| 1/1 [00:00<00:00,  2.23it/s]\n"
     ]
    },
    {
     "name": "stdout",
     "output_type": "stream",
     "text": [
      "Importing: Polperro\n"
     ]
    },
    {
     "name": "stderr",
     "output_type": "stream",
     "text": [
      "Fetching pages: 100%|####################################################################| 1/1 [00:00<00:00,  2.33it/s]\n"
     ]
    },
    {
     "name": "stdout",
     "output_type": "stream",
     "text": [
      "Importing: Porthleven\n"
     ]
    },
    {
     "name": "stderr",
     "output_type": "stream",
     "text": [
      "Fetching pages: 100%|####################################################################| 1/1 [00:00<00:00,  1.07it/s]\n"
     ]
    },
    {
     "name": "stdout",
     "output_type": "stream",
     "text": [
      "Importing: East_Sussex\n"
     ]
    },
    {
     "name": "stderr",
     "output_type": "stream",
     "text": [
      "Fetching pages: 100%|####################################################################| 1/1 [00:00<00:00,  7.10it/s]\n"
     ]
    },
    {
     "name": "stdout",
     "output_type": "stream",
     "text": [
      "Importing: Brighton\n"
     ]
    },
    {
     "name": "stderr",
     "output_type": "stream",
     "text": [
      "Fetching pages: 100%|####################################################################| 1/1 [00:00<00:00,  1.66it/s]\n"
     ]
    },
    {
     "name": "stdout",
     "output_type": "stream",
     "text": [
      "Importing: Battle\n"
     ]
    },
    {
     "name": "stderr",
     "output_type": "stream",
     "text": [
      "Fetching pages: 100%|####################################################################| 1/1 [00:00<00:00, 16.10it/s]\n"
     ]
    },
    {
     "name": "stdout",
     "output_type": "stream",
     "text": [
      "Importing: Hastings_(England)\n"
     ]
    },
    {
     "name": "stderr",
     "output_type": "stream",
     "text": [
      "Fetching pages: 100%|####################################################################| 1/1 [00:00<00:00, 15.42it/s]\n"
     ]
    },
    {
     "name": "stdout",
     "output_type": "stream",
     "text": [
      "Importing: Rye_(England)\n"
     ]
    },
    {
     "name": "stderr",
     "output_type": "stream",
     "text": [
      "Fetching pages: 100%|####################################################################| 1/1 [00:00<00:00,  1.74it/s]\n"
     ]
    },
    {
     "name": "stdout",
     "output_type": "stream",
     "text": [
      "Importing: Seaford\n"
     ]
    },
    {
     "name": "stderr",
     "output_type": "stream",
     "text": [
      "Fetching pages: 100%|####################################################################| 1/1 [00:00<00:00,  1.18it/s]\n"
     ]
    },
    {
     "name": "stdout",
     "output_type": "stream",
     "text": [
      "Importing: Ashdown_Forest\n"
     ]
    }
   ],
   "source": [
    "for (url, destination, region) in uk_destination_url_with_metadata:\n",
    "    html_loader = AsyncHtmlLoader(url) #A\n",
    "    docs =  html_loader.load() #B\n",
    "    \n",
    "    docs_with_metadata = [\n",
    "        Document(page_content=d.page_content,\n",
    "        metadata = {\n",
    "            'source': url,\n",
    "            'destination': destination,\n",
    "            'region': region})\n",
    "        for d in docs]\n",
    "             \n",
    "    chunks = split_docs_into_chunks(docs_with_metadata)\n",
    "\n",
    "    print(f'Importing: {destination}')\n",
    "    uk_with_metadata_collection.add_documents(documents=chunks)\n",
    "#A Loader for one destination\n",
    "#B Documents of one destination "
   ]
  },
  {
   "cell_type": "markdown",
   "id": "716dff66-4c5b-4869-948c-32d3c5dd1a41",
   "metadata": {},
   "source": [
    "## Q & A on a collection enriched with metadata"
   ]
  },
  {
   "cell_type": "markdown",
   "id": "63a8fcd9-99ec-4ed4-810f-86899e4d4444",
   "metadata": {},
   "source": [
    "### Searching the collection with a metadata filter explicitly"
   ]
  },
  {
   "cell_type": "code",
   "execution_count": 16,
   "id": "0818682c-00ed-42d7-b8c5-0b5239812539",
   "metadata": {},
   "outputs": [],
   "source": [
    "question =  \"Events or festivals\"\n",
    "metadata_retriever = uk_with_metadata_collection.as_retriever(search_kwargs={'k':1, 'filter':{'destination': 'Newquay'}})\n",
    "\n",
    "result_docs = metadata_retriever.invoke(question)"
   ]
  },
  {
   "cell_type": "code",
   "execution_count": 17,
   "id": "366120c6-7b6e-41f6-a000-c6cd86a57869",
   "metadata": {},
   "outputs": [
    {
     "data": {
      "text/plain": [
       "[Document(metadata={'destination': 'Newquay', 'region': 'Cornwall', 'source': 'https://en.wikivoyage.org/wiki/Newquay'}, page_content=\"## Do\\n\\n[edit]\\n\\n  * Cornish Film Festival. Held annually for two weeks each November around Newquay. (updated Jan 2024)\\n  * 50.415741-5.0914781 Newquay Golf Club, Tower Road, TR7 1LT, ☏ +44 1637 872091, info@newquaygolfclub.co.uk. 9AM-4PM. A semi-private golf club established in 1890. Total yardage Championship: 6141, Men: 5708, and Women: 5364. £31 for non-members. (updated Apr 2019)\\n\\n### Beaches\\n\\n[edit]\\n\\nFistral Beach\\n\\nNewquay is well known as a surfer's paradise. Therefore it offers plenty of\\nbeaches:\")]"
      ]
     },
     "execution_count": 17,
     "metadata": {},
     "output_type": "execute_result"
    }
   ],
   "source": [
    "result_docs"
   ]
  },
  {
   "cell_type": "code",
   "execution_count": 18,
   "id": "f52ee5fa-928d-4a71-988e-5da32d75032e",
   "metadata": {},
   "outputs": [],
   "source": [
    "# COMMENT: As you can see, only chunks associated with'destination': 'Newquay' have been selected"
   ]
  },
  {
   "cell_type": "markdown",
   "id": "c80a9af8-bcd4-4383-a2fe-325d87332ea2",
   "metadata": {},
   "source": [
    "### Generating the self metadata query with the SelfQueryRetriever"
   ]
  },
  {
   "cell_type": "code",
   "execution_count": 19,
   "id": "6b47611c-7919-4582-86ff-da4d9f208264",
   "metadata": {},
   "outputs": [],
   "source": [
    "from langchain.chains.query_constructor.base import AttributeInfo\n",
    "from langchain.retrievers.self_query.base import SelfQueryRetriever #A\n",
    "from langchain_openai import ChatOpenAI\n",
    "#A this requires pip install lark"
   ]
  },
  {
   "cell_type": "code",
   "execution_count": 20,
   "id": "8a1e4bc0-b22c-4a40-b814-e0604f58138f",
   "metadata": {},
   "outputs": [],
   "source": [
    "metadata_field_info = [\n",
    "    AttributeInfo(\n",
    "        name=\"destination\",\n",
    "        description=\"The specific UK destination to be searched\",\n",
    "        type=\"string\",\n",
    "    ),\n",
    "    AttributeInfo(\n",
    "        name=\"region\",\n",
    "        description=\"The name of the UK region to be searched\",\n",
    "        type=\"string\",\n",
    "    )\n",
    "]"
   ]
  },
  {
   "cell_type": "code",
   "execution_count": 21,
   "id": "71dc32f0-9c24-45ab-8e71-27f631237e44",
   "metadata": {},
   "outputs": [],
   "source": [
    "question = \"Tell me about events or festivals in the UK town of Newquay\""
   ]
  },
  {
   "cell_type": "code",
   "execution_count": 22,
   "id": "e726d2b0-2a3d-40f4-8fc4-dcd5473a2ae1",
   "metadata": {},
   "outputs": [],
   "source": [
    "document_content_description = \"Brief summary of a movie\"\n",
    "llm = ChatOpenAI(model=\"gpt-4o-mini\", openai_api_key=OPENAI_API_KEY)\n",
    "\n",
    "self_query_retriever = SelfQueryRetriever.from_llm(\n",
    "    llm, uk_with_metadata_collection, question, metadata_field_info, verbose=True\n",
    ")"
   ]
  },
  {
   "cell_type": "code",
   "execution_count": 23,
   "id": "df4f920b-bc96-4773-8c39-0f61a47ea691",
   "metadata": {},
   "outputs": [],
   "source": [
    "result_docs = self_query_retriever.invoke(question)"
   ]
  },
  {
   "cell_type": "code",
   "execution_count": 24,
   "id": "6d0784e2-1f4f-40ae-9519-89d2231fddd7",
   "metadata": {},
   "outputs": [
    {
     "data": {
      "text/plain": [
       "[Document(metadata={'destination': 'Cornwall', 'region': 'Cornwall', 'source': 'https://en.wikivoyage.org/wiki/Cornwall'}, page_content=\"The **Cornish Film Festival** is held annually each November around Newquay.\\n\\nCornwall, in particular Newquay, is the UK's **surfing** capital, with\\nequipment hire and surf schools present on many of the county's beaches, and\\nevents like the UK championships or Boardmasters festival.\\n\\n## Eat\\n\\n[edit]\\n\\nCornwall has become famous for its Michelin-starred seafood restaurants, with\\nJamie Oliver and Rick Stein opening swanky restaurants in the county/country.\\nCornwall may have the most distinct and finest cuisine of all Britain, and a\\nnumber of regional specialities, such as:\\n\\n### Savoury\\n\\n[edit]\\n\\nCornish Pasty\"),\n",
       " Document(metadata={'destination': 'North_Cornwall', 'region': 'Cornwall', 'source': 'https://en.wikivoyage.org/wiki/North_Cornwall'}, page_content='The **Cornish Film Festival** is held annually each November around Newquay.\\n\\nThe **Royal Cornwall Show** is an agricultural show at the beginning of June\\neach year. It is one of Cornwall\\'s major tourist attractions.\\n\\n**Camel Creek Adventure Park** , Tredinnick, Wadebridge offers great family\\ndays out at Cornwall\\'s top theme park.\\n\\n### Festivals\\n\\n[edit]\\n\\n**Mummer\\'s Day** , or \"Darkie Day\" as it is sometimes known, is an ancient\\nCornish midwinter celebration that occurs every year on Boxing Day and New\\nYear\\'s Day in Padstow. Now considered somewhat \"un-PC\" as people will paint\\nthemselves black.\\n\\n\\'**Obby \\'Oss** is held annually on May Day (1 May), mainly in Padstow, with\\nlarge marching bands and traditional music. It attracts large crowds, so show\\nup early.'),\n",
       " Document(metadata={'destination': 'Penzance', 'region': 'Cornwall', 'source': 'https://en.wikivoyage.org/wiki/Penzance'}, page_content='* Golowan Festival. Late June. Week-long festival every year at the end of June. The festival is part revival of ancient midsummer customs practiced in the Penzance area (and throughout Cornwall) and part arts festival. The two busiest days are Mazey Day and Quay Fair Day where many streets are closed to traffic and the town fills with tens of thousands of people for the processions, traditional dance, and musicians from many Celtic nations. (updated Jun 2017)'),\n",
       " Document(metadata={'destination': 'Newquay', 'region': 'Cornwall', 'source': 'https://en.wikivoyage.org/wiki/Newquay'}, page_content=\"## Do\\n\\n[edit]\\n\\n  * Cornish Film Festival. Held annually for two weeks each November around Newquay. (updated Jan 2024)\\n  * 50.415741-5.0914781 Newquay Golf Club, Tower Road, TR7 1LT, ☏ +44 1637 872091, info@newquaygolfclub.co.uk. 9AM-4PM. A semi-private golf club established in 1890. Total yardage Championship: 6141, Men: 5708, and Women: 5364. £31 for non-members. (updated Apr 2019)\\n\\n### Beaches\\n\\n[edit]\\n\\nFistral Beach\\n\\nNewquay is well known as a surfer's paradise. Therefore it offers plenty of\\nbeaches:\")]"
      ]
     },
     "execution_count": 24,
     "metadata": {},
     "output_type": "execute_result"
    }
   ],
   "source": [
    "result_docs"
   ]
  },
  {
   "cell_type": "markdown",
   "id": "8b1be6ea-1b48-4d01-9ac5-57a0af619e93",
   "metadata": {},
   "source": [
    "### Generating the self metadata query with a LLM function call"
   ]
  },
  {
   "cell_type": "markdown",
   "id": "784dcef4-90bb-48a8-91d6-990b4542fe81",
   "metadata": {},
   "source": [
    "#### Query schema"
   ]
  },
  {
   "cell_type": "code",
   "execution_count": 25,
   "id": "6bee2c48-210b-4219-88b8-9a624259a8a7",
   "metadata": {},
   "outputs": [],
   "source": [
    "import datetime\n",
    "from typing import Literal, Optional, Tuple, List\n",
    "\n",
    "from langchain_core.pydantic_v1 import BaseModel, Field\n",
    "from langchain.chains.query_constructor.ir import (\n",
    "    Comparator,\n",
    "    Comparison,\n",
    "    Operation,\n",
    "    Operator,\n",
    "    StructuredQuery,\n",
    ")\n",
    "from langchain.retrievers.self_query.chroma import ChromaTranslator"
   ]
  },
  {
   "cell_type": "code",
   "execution_count": 26,
   "id": "45194204-2e90-47cc-a14a-ff7693f0c78b",
   "metadata": {},
   "outputs": [],
   "source": [
    "class DestinationSearch(BaseModel):\n",
    "    \"\"\"Search over a vector database of tourist destinations.\"\"\"\n",
    "\n",
    "    content_search: str = Field(\n",
    "        \"\",\n",
    "        description=\"Similarity search query applied to tourist destinations.\",\n",
    "    )\n",
    "    destination: str = Field(\n",
    "        ...,\n",
    "        description=\"The specific UK destination to be searched.\",\n",
    "    )\n",
    "    region: str = Field(\n",
    "        ...,\n",
    "        description=\"The name of the UK region to be searched.\",\n",
    "    )\n",
    "\n",
    "    def pretty_print(self) -> None:\n",
    "        for field in self.__fields__:\n",
    "            if getattr(self, field) is not None and getattr(self, field) != getattr(\n",
    "                self.__fields__[field], \"default\", None\n",
    "            ):\n",
    "                print(f\"{field}: {getattr(self, field)}\")"
   ]
  },
  {
   "cell_type": "code",
   "execution_count": 27,
   "id": "74625267-79e9-4682-b689-46b336ddb41b",
   "metadata": {},
   "outputs": [],
   "source": [
    "def build_filter(destination_search: DestinationSearch):\n",
    "    comparisons = []\n",
    "\n",
    "    destination = destination_search.destination #A\n",
    "    region = destination_search.region #A\n",
    "    \n",
    "    if destination and destination != '': #B\n",
    "        comparisons.append(\n",
    "            Comparison(\n",
    "                comparator=Comparator.EQ,\n",
    "                attribute=\"destination\",\n",
    "                value=destination,\n",
    "            )\n",
    "        )\n",
    "    if region and region != '': #C\n",
    "        comparisons.append(\n",
    "            Comparison(\n",
    "                comparator=Comparator.EQ,\n",
    "                attribute=\"region\",\n",
    "                value=region,\n",
    "            )\n",
    "        )    \n",
    "\n",
    "    search_filter = Operation(operator=Operator.AND, arguments=comparisons) #D\n",
    "\n",
    "    chroma_filter = ChromaTranslator().visit_operation(search_filter) #E\n",
    "        \n",
    "    return chroma_filter\n",
    "#A Get destination and region from the structured query\n",
    "#B If the destination exists, create an 'equality' operation\n",
    "#C If the region exists, create an 'equality' operation\n",
    "#D Create a combined search filter\n",
    "#E Transform the filter into Chroma format"
   ]
  },
  {
   "cell_type": "markdown",
   "id": "4dd4d58b-23e2-4018-b130-87b77e3f9015",
   "metadata": {},
   "source": [
    "#### Conversion of user question to structured query including metadata filter"
   ]
  },
  {
   "cell_type": "code",
   "execution_count": 28,
   "id": "a5b866f4-4b8b-4dbf-b16a-9e398f23313d",
   "metadata": {},
   "outputs": [],
   "source": [
    "from langchain_core.prompts import ChatPromptTemplate\n",
    "from langchain_openai import ChatOpenAI\n",
    "\n",
    "system_message = \"\"\"You are an expert at converting user questions into vector database queries. \\\n",
    "You have access to a database of tourist destinations. \\\n",
    "Given a question, return a database query optimized to retrieve the most relevant results.\n",
    "\n",
    "If there are acronyms or words you are not familiar with, do not try to rephrase them.\"\"\"\n",
    "prompt = ChatPromptTemplate.from_messages(\n",
    "    [\n",
    "        (\"system\", system_message),\n",
    "        (\"human\", \"{question}\"),\n",
    "    ]\n",
    ")\n",
    "llm = ChatOpenAI(model=\"gpt-4o-mini\", openai_api_key=OPENAI_API_KEY)\n",
    "structured_llm = llm.with_structured_output(DestinationSearch)\n",
    "query_generator = prompt | structured_llm"
   ]
  },
  {
   "cell_type": "code",
   "execution_count": 29,
   "id": "e3e722e2-3f66-4d02-b9e1-608c2015d4d2",
   "metadata": {},
   "outputs": [],
   "source": [
    "question = \"Tell me about events or festivals in the UK town of Newquay\"\n",
    "\n",
    "structured_query =query_generator.invoke(question)"
   ]
  },
  {
   "cell_type": "code",
   "execution_count": 30,
   "id": "b3ee7dc1-559c-4ce0-88ba-a37af2c6e048",
   "metadata": {},
   "outputs": [
    {
     "data": {
      "text/plain": [
       "DestinationSearch(content_search='events festivals', destination='Newquay', region='Cornwall')"
      ]
     },
     "execution_count": 30,
     "metadata": {},
     "output_type": "execute_result"
    }
   ],
   "source": [
    "structured_query"
   ]
  },
  {
   "cell_type": "code",
   "execution_count": 31,
   "id": "4c0263ca-b933-411c-ac25-2a41d4efe56f",
   "metadata": {},
   "outputs": [],
   "source": [
    "search_filter = build_filter(structured_query)"
   ]
  },
  {
   "cell_type": "code",
   "execution_count": 32,
   "id": "56bfdddf-4000-4f8b-ba11-8573825815c1",
   "metadata": {},
   "outputs": [
    {
     "data": {
      "text/plain": [
       "{'$and': [{'destination': {'$eq': 'Newquay'}},\n",
       "  {'region': {'$eq': 'Cornwall'}}]}"
      ]
     },
     "execution_count": 32,
     "metadata": {},
     "output_type": "execute_result"
    }
   ],
   "source": [
    "search_filter"
   ]
  },
  {
   "cell_type": "code",
   "execution_count": 33,
   "id": "671578b6-7824-4b51-8481-9a6cd11ebedd",
   "metadata": {},
   "outputs": [],
   "source": [
    "search_query = structured_query.content_search"
   ]
  },
  {
   "cell_type": "code",
   "execution_count": 34,
   "id": "18795fe2-498f-4747-80d3-d261ee2b7d32",
   "metadata": {},
   "outputs": [
    {
     "data": {
      "text/plain": [
       "'events festivals'"
      ]
     },
     "execution_count": 34,
     "metadata": {},
     "output_type": "execute_result"
    }
   ],
   "source": [
    "search_query"
   ]
  },
  {
   "cell_type": "code",
   "execution_count": 35,
   "id": "67aff885-9e23-46e0-bf3b-c89af3d7a496",
   "metadata": {},
   "outputs": [],
   "source": [
    "metadata_retriever = uk_with_metadata_collection.as_retriever(search_kwargs={'k':3, 'filter': search_filter})"
   ]
  },
  {
   "cell_type": "code",
   "execution_count": 36,
   "id": "474e410d-025a-456a-8531-5aa85c56a42a",
   "metadata": {},
   "outputs": [],
   "source": [
    "answer = metadata_retriever.invoke(search_query)"
   ]
  },
  {
   "cell_type": "code",
   "execution_count": 37,
   "id": "8d560657-bb21-4708-b02c-c3d749c09ab2",
   "metadata": {},
   "outputs": [
    {
     "name": "stdout",
     "output_type": "stream",
     "text": [
      "[Document(metadata={'destination': 'Newquay', 'region': 'Cornwall', 'source': 'https://en.wikivoyage.org/wiki/Newquay'}, page_content=\"## Do\\n\\n[edit]\\n\\n  * Cornish Film Festival. Held annually for two weeks each November around Newquay. (updated Jan 2024)\\n  * 50.415741-5.0914781 Newquay Golf Club, Tower Road, TR7 1LT, ☏ +44 1637 872091, info@newquaygolfclub.co.uk. 9AM-4PM. A semi-private golf club established in 1890. Total yardage Championship: 6141, Men: 5708, and Women: 5364. £31 for non-members. (updated Apr 2019)\\n\\n### Beaches\\n\\n[edit]\\n\\nFistral Beach\\n\\nNewquay is well known as a surfer's paradise. Therefore it offers plenty of\\nbeaches:\"), Document(metadata={'destination': 'Newquay', 'region': 'Cornwall', 'source': 'https://en.wikivoyage.org/wiki/Newquay'}, page_content='## See\\n\\n[edit]\\n\\n  * 50.414578-5.0848411 Blue Reef Aquarium, Towan Promenade, TR7 1DU (right next to Towan beach), ☏ +44 1637 878134. Although it is small, it is well worth checking out. It has an octopus along with many other fish and marine animals, sea horses, starfish, sharks, etc. Also has a fish tank tunnel you can walk thorough. They have displayed a list of feeding hours and with a hand stamp you can get back in later the same day to see another feeding.\\n  * 50.3857-5.039842 Trerice, Kestle Mill, TR8 4PG, ☏ +44 1637 875404, trerice@nationaltrust.org.uk.\\n  * 50.45565-4.998073 The Japanese Garden, St Mawgan, TR8 4ET (near Newquay Airport), ☏ +44 1637860116, info@japanesegarden.co.uk. Seasonal from March to mid November, 10:00-18:00. Small, but nice japanese garden. (updated Jul 2024)\\n\\n## Do\\n\\n[edit]'), Document(metadata={'destination': 'Newquay', 'region': 'Cornwall', 'source': 'https://en.wikivoyage.org/wiki/Newquay'}, page_content=\"## Eat\\n\\n[edit]\\n\\n### Budget\\n\\n[edit]\\n\\nThere are lots of cheap eats in the town centre.\\n\\n  * 50.415513-5.0868851 Harbour Rest Cafe, 2 S Quay Hill. (updated Feb 2023)\\n  * 50.414042-5.0808662 Bunters, 15A East St. (updated Feb 2023)\\n  * 50.413988-5.0809823 Andy's Cafe, 15 East St. (updated Feb 2023)\\n  * 50.413981-5.0802984 Oceans, 1bh, 34 East St. (updated Feb 2023)\\n  * 50.41337-5.0862025 Loafers Sandwich Bar, 1A Gover Ln. (updated Feb 2023)\\n  * 50.418831-5.0665726 Kao Hom Thai Food, Henver Rd. (updated Feb 2023)\\n  * 50.41749-5.0641777 Oceans, 1bh, 34 East St. (updated Feb 2023)\\n  * 50.417024-5.0644678 The Cornish Coffee Bean, 14, Chester Court, Chester Rd. (updated Feb 2023)\\n\\n### Mid-range\\n\\n[edit]\")]\n"
     ]
    }
   ],
   "source": [
    "print(answer)"
   ]
  },
  {
   "cell_type": "code",
   "execution_count": 82,
   "id": "953d1d32-352e-4303-81c7-3b1f61fe08fc",
   "metadata": {},
   "outputs": [],
   "source": [
    "## COMMENT: this is only the retrieval step; you still need to wrap it in a RAG chain"
   ]
  },
  {
   "cell_type": "markdown",
   "id": "8ef3378f-048f-482a-82de-17361ff4ab6f",
   "metadata": {},
   "source": [
    "# Generating a structured SQL query"
   ]
  },
  {
   "cell_type": "markdown",
   "id": "0f2d9b7d-15f2-4bfc-9cb4-e6f16e7c3040",
   "metadata": {},
   "source": [
    "## Connecting to the UkBooking database"
   ]
  },
  {
   "cell_type": "code",
   "execution_count": 115,
   "id": "10905af0-48de-43d0-9aa1-8cb2386bd37a",
   "metadata": {},
   "outputs": [],
   "source": [
    "from langchain_community.utilities import SQLDatabase\n",
    "from langchain_community.tools.sql_database.tool import QuerySQLDataBaseTool\n",
    "from langchain.chains import create_sql_query_chain\n",
    "from langchain_openai import ChatOpenAI\n",
    "from langchain_core.prompts import ChatPromptTemplate\n",
    "from langchain_core.output_parsers import StrOutputParser\n",
    "import getpass\n",
    "import os"
   ]
  },
  {
   "cell_type": "code",
   "execution_count": 45,
   "id": "74046775-eadd-4919-a844-b3e4146ebeff",
   "metadata": {},
   "outputs": [
    {
     "name": "stdout",
     "output_type": "stream",
     "text": [
      "['Accommodation', 'AccommodationType', 'Booking', 'Customer', 'Destination', 'Offer']\n"
     ]
    }
   ],
   "source": [
    "db = SQLDatabase.from_uri(\"sqlite:///UkBooking.db\")\n",
    "print(db.get_usable_table_names())"
   ]
  },
  {
   "cell_type": "code",
   "execution_count": 46,
   "id": "1500abf4-a584-4236-a163-88552a6a55f1",
   "metadata": {},
   "outputs": [
    {
     "data": {
      "text/plain": [
       "\"[(1, 1, 'Summer Special', 0.15, '2024-06-01', '2024-08-31'), (2, 2, 'Weekend Getaway', 0.1, '2024-09-01', '2024-12-31'), (3, 3, 'Early Bird Discount', 0.2, '2024-05-01', '2024-06-30'), (4, 4, 'Stay 3 Nights, Get 1 Free', 0.25, '2024-01-01', '2024-03-31'), (5, 5, 'Historic Stay Offer', 0.1, '2024-04-01', '2024-06-30'), (6, 6, 'Autumn Discount', 0.15, '2024-09-01', '2024-11-30'), (7, 7, 'Cottage Retreat Offer', 0.12, '2024-07-01', '2024-09-30'), (8, 8, 'City Break Deal', 0.08, '2024-10-01', '2024-12-31'), (9, 9, 'Luxury Villa Offer', 0.18, '2024-05-01', '2024-08-31'), (10, 10, 'Spa & Wellness Package', 0.2, '2024-04-01', '2024-07-31')]\""
      ]
     },
     "execution_count": 46,
     "metadata": {},
     "output_type": "execute_result"
    }
   ],
   "source": [
    "db.run(\"SELECT * FROM Offer;\")"
   ]
  },
  {
   "cell_type": "markdown",
   "id": "e22d19a6-e054-4d17-bf84-87a597b85381",
   "metadata": {},
   "source": [
    "## Generate SQL queries from natural language"
   ]
  },
  {
   "cell_type": "code",
   "execution_count": 81,
   "id": "676e7a98-f7c4-42b7-8e55-6b4b5395aba5",
   "metadata": {},
   "outputs": [
    {
     "name": "stdin",
     "output_type": "stream",
     "text": [
      " ········\n"
     ]
    }
   ],
   "source": [
    "OPENAI_API_KEY = getpass.getpass()"
   ]
  },
  {
   "cell_type": "markdown",
   "id": "60b90b9a-dd85-4833-bb41-f2b0a366b612",
   "metadata": {},
   "source": [
    "### Generating the SQL query"
   ]
  },
  {
   "cell_type": "code",
   "execution_count": 102,
   "id": "475a5d74-4e03-41a5-94a3-4c528d1ec3ab",
   "metadata": {},
   "outputs": [],
   "source": [
    "llm = ChatOpenAI(openai_api_key=OPENAI_API_KEY, model=\"gpt-4o-mini\", temperature=0)\n",
    "sql_query_gen_chain = create_sql_query_chain(llm, db)\n",
    "response = sql_query_gen_chain.invoke({\"question\": \"Give me some offers for Cardiff, including the hotel name\"})"
   ]
  },
  {
   "cell_type": "code",
   "execution_count": 103,
   "id": "df439c6f-4d0e-4e09-8704-c3738dfd4caa",
   "metadata": {},
   "outputs": [
    {
     "data": {
      "text/plain": [
       "'```sql\\nSELECT \"Offer\".\"OfferDescription\", \"Offer\".\"DiscountRate\", \"Accommodation\".\"Name\" \\nFROM \"Offer\" \\nJOIN \"Accommodation\" ON \"Offer\".\"AccommodationId\" = \"Accommodation\".\"AccommodationId\" \\nJOIN \"Destination\" ON \"Accommodation\".\"DestinationId\" = \"Destination\".\"DestinationId\" \\nWHERE \"Destination\".\"Name\" = \\'Cardiff\\' \\nLIMIT 5;\\n```'"
      ]
     },
     "execution_count": 103,
     "metadata": {},
     "output_type": "execute_result"
    }
   ],
   "source": [
    "response"
   ]
  },
  {
   "cell_type": "code",
   "execution_count": 105,
   "id": "54a8686e-ec87-4a02-bf45-ad9282336a84",
   "metadata": {},
   "outputs": [],
   "source": [
    "#db.run(response) # returns error"
   ]
  },
  {
   "cell_type": "markdown",
   "id": "37df0eb2-4a56-4d3b-96bf-3239f59389cb",
   "metadata": {},
   "source": [
    "### Executing the SQL query [DOES NOT SEEM TO WORK: IF SO, SKIP IT]"
   ]
  },
  {
   "cell_type": "code",
   "execution_count": 104,
   "id": "703368fe-bbe3-44f0-b791-b4bb633e23b9",
   "metadata": {},
   "outputs": [
    {
     "data": {
      "text/plain": [
       "'Error: (sqlite3.OperationalError) near \"```sql\\nSELECT \"Offer\".\"OfferDescription\", \"Offer\".\"DiscountRate\", \"Accommodation\".\"Name\" \\nFROM \"Offer\" \\nJOIN \"Accommodation\" ON \"Offer\".\"AccommodationId\" = \"Accommodation\".\"AccommodationId\" \\nJOIN \"Destination\" ON \"Accommodation\".\"DestinationId\" = \"Destination\".\"DestinationId\" \\nWHERE \"Destination\".\"Name\" = \\'Cardiff\\' \\nLIMIT 5;\\n```\": syntax error\\n[SQL: ```sql\\nSELECT \"Offer\".\"OfferDescription\", \"Offer\".\"DiscountRate\", \"Accommodation\".\"Name\" \\nFROM \"Offer\" \\nJOIN \"Accommodation\" ON \"Offer\".\"AccommodationId\" = \"Accommodation\".\"AccommodationId\" \\nJOIN \"Destination\" ON \"Accommodation\".\"DestinationId\" = \"Destination\".\"DestinationId\" \\nWHERE \"Destination\".\"Name\" = \\'Cardiff\\' \\nLIMIT 5;\\n```]\\n(Background on this error at: https://sqlalche.me/e/20/e3q8)'"
      ]
     },
     "execution_count": 104,
     "metadata": {},
     "output_type": "execute_result"
    }
   ],
   "source": [
    "sql_query_exec_chain = QuerySQLDataBaseTool(db=db)\n",
    "sql_query_gen_chain = create_sql_query_chain(llm, db)\n",
    "chain = sql_query_gen_chain | sql_query_exec_chain\n",
    "chain.invoke({\"question\": \"Give me some offers for Cardiff, including the hotel name\"})"
   ]
  },
  {
   "cell_type": "markdown",
   "id": "0809b65b-92eb-45a6-856c-d6f39dd272f1",
   "metadata": {},
   "source": [
    "### Fixing the SQL format"
   ]
  },
  {
   "cell_type": "code",
   "execution_count": 116,
   "id": "edaefd46-5a14-48e5-a461-39501432a45a",
   "metadata": {},
   "outputs": [],
   "source": [
    "clean_sql_prompt_template = \"\"\"You are an expert in SQL Lite. You are asked to fix badly formed SQL Lite queries, \n",
    "which might contain unneded prefixes or suffixes. Given the following unclean SQL statement, \n",
    "transform it to a clean, executable SQL statement for SQL lite.\n",
    "Only return an executable SQL statement which terminates with a semicolon. Do not return anything else.\n",
    "Do not include the language name or symbols like ```.\n",
    "\n",
    "Unclean SQL: {unclean_sql}\"\"\""
   ]
  },
  {
   "cell_type": "code",
   "execution_count": 117,
   "id": "e1f7cc97-7da0-48c1-ba47-22d776ab611d",
   "metadata": {},
   "outputs": [],
   "source": [
    "clean_sql_prompt = ChatPromptTemplate.from_template(clean_sql_prompt_template)"
   ]
  },
  {
   "cell_type": "code",
   "execution_count": 118,
   "id": "10e0e276-ec8a-464c-8ab8-6e83fe2e1556",
   "metadata": {},
   "outputs": [],
   "source": [
    "clean_sql_chain = clean_sql_prompt | llm"
   ]
  },
  {
   "cell_type": "code",
   "execution_count": 120,
   "id": "ef1d0d14-d5c6-4c38-88d6-44e7d26267c3",
   "metadata": {},
   "outputs": [],
   "source": [
    "full_sql_gen_chain = sql_query_gen_chain | clean_sql_chain | StrOutputParser()"
   ]
  },
  {
   "cell_type": "code",
   "execution_count": 190,
   "id": "727c85e5-6850-478c-9ca7-4a55b73c8ee7",
   "metadata": {},
   "outputs": [],
   "source": [
    "question = \"Give me some offers for Cardiff, including the accomodation name\""
   ]
  },
  {
   "cell_type": "code",
   "execution_count": 191,
   "id": "f7de4c5d-e528-464f-bffa-d8e8dd95cc49",
   "metadata": {},
   "outputs": [],
   "source": [
    "response = full_sql_gen_chain.invoke({\"question\": question})"
   ]
  },
  {
   "cell_type": "code",
   "execution_count": 192,
   "id": "c69ccc17-25c8-47ef-a762-ff5ec386608a",
   "metadata": {},
   "outputs": [
    {
     "data": {
      "text/plain": [
       "\"SELECT Offer.OfferDescription, Offer.DiscountRate, Accommodation.Name \\nFROM Offer \\nJOIN Accommodation ON Offer.AccommodationId = Accommodation.AccommodationId \\nJOIN Destination ON Accommodation.DestinationId = Destination.DestinationId \\nWHERE Destination.Name = 'Cardiff' \\nLIMIT 5;\""
      ]
     },
     "execution_count": 192,
     "metadata": {},
     "output_type": "execute_result"
    }
   ],
   "source": [
    "response"
   ]
  },
  {
   "cell_type": "code",
   "execution_count": 193,
   "id": "01392076-aa74-4671-b5f9-861c67ed179f",
   "metadata": {},
   "outputs": [],
   "source": [
    "### Comment: now SQL is fixed"
   ]
  },
  {
   "cell_type": "markdown",
   "id": "b6e84d36-492b-4af3-9f8a-6b1cfc32b225",
   "metadata": {},
   "source": [
    "### Executing the SQL query"
   ]
  },
  {
   "cell_type": "code",
   "execution_count": 233,
   "id": "53d0c7f3-b7a0-4773-aad2-4caba9aae486",
   "metadata": {},
   "outputs": [],
   "source": [
    "sql_query_exec_chain = QuerySQLDataBaseTool(db=db)"
   ]
  },
  {
   "cell_type": "code",
   "execution_count": 234,
   "id": "e6f1c7c1-0c7c-474f-8e2b-83a214c44932",
   "metadata": {},
   "outputs": [],
   "source": [
    "sql_query_gen_and_exec_chain = full_sql_gen_chain | sql_query_exec_chain | StrOutputParser()"
   ]
  },
  {
   "cell_type": "code",
   "execution_count": 236,
   "id": "9bbdce92-2995-4868-b98e-16f344be485f",
   "metadata": {},
   "outputs": [],
   "source": [
    "response = sql_query_gen_and_exec_chain.invoke({\"question\":question})"
   ]
  },
  {
   "cell_type": "code",
   "execution_count": 197,
   "id": "52380a63-f359-4e9d-b03f-d25cd7b710e3",
   "metadata": {},
   "outputs": [
    {
     "data": {
      "text/plain": [
       "\"[('Early Bird Discount', 0.2, 'Cardiff Camping')]\""
      ]
     },
     "execution_count": 197,
     "metadata": {},
     "output_type": "execute_result"
    }
   ],
   "source": [
    "response"
   ]
  },
  {
   "cell_type": "code",
   "execution_count": null,
   "id": "018f4f17-96b5-4cf7-984a-5adcb0fa01d8",
   "metadata": {},
   "outputs": [],
   "source": [
    "## COMMENT: this is only the retrieval step; you still need to wrap it in a RAG chain"
   ]
  },
  {
   "cell_type": "markdown",
   "id": "7378931b-34ac-4c27-b7f2-c37258f5f272",
   "metadata": {},
   "source": [
    "# Query router"
   ]
  },
  {
   "cell_type": "code",
   "execution_count": 239,
   "id": "d065fe94-64ab-49aa-83c2-963966e32c54",
   "metadata": {},
   "outputs": [],
   "source": [
    "from typing import Literal\n",
    "from langchain_core.prompts import ChatPromptTemplate\n",
    "from langchain_openai import ChatOpenAI\n",
    "from pydantic import BaseModel, Field\n",
    "from langchain.schema.runnable import RunnableLambda"
   ]
  },
  {
   "cell_type": "markdown",
   "id": "e17164ef-2d95-41d6-b538-aa67a30d94f7",
   "metadata": {},
   "source": [
    "## Setting up the data retrievers"
   ]
  },
  {
   "cell_type": "markdown",
   "id": "30b8d840-916f-414e-afa5-37c521373f9f",
   "metadata": {},
   "source": [
    "### Setting up the vector store retriever"
   ]
  },
  {
   "cell_type": "code",
   "execution_count": 242,
   "id": "1eb03853-c5fa-4bc5-8910-3afa2a9a5401",
   "metadata": {},
   "outputs": [],
   "source": [
    "tourist_info_retriever_chain = RunnableLambda(lambda x: x['question']) | uk_with_metadata_collection.as_retriever(search_kwargs={'k':2}) "
   ]
  },
  {
   "cell_type": "markdown",
   "id": "65f3b9b6-c6ca-4046-a943-ec858fedf108",
   "metadata": {},
   "source": [
    "### Setting up the relational database retriever (Same as sql_query_gen_and_exec_chain above)"
   ]
  },
  {
   "cell_type": "code",
   "execution_count": 243,
   "id": "f14d2bae-f0ed-43be-969a-c35eba314260",
   "metadata": {},
   "outputs": [],
   "source": [
    "uk_accommodation_retriever_chain =  full_sql_gen_chain | sql_query_exec_chain | StrOutputParser()"
   ]
  },
  {
   "cell_type": "markdown",
   "id": "2c5f3e9e-a4f7-435e-8116-ca0f470e4464",
   "metadata": {},
   "source": [
    "## Setting up the query router"
   ]
  },
  {
   "cell_type": "code",
   "execution_count": 244,
   "id": "1033033d-d8de-4dd9-ba34-bec4275ad2b7",
   "metadata": {},
   "outputs": [],
   "source": [
    "class RouteQuery(BaseModel):\n",
    "    \"\"\"Route a user question to the most relevant datasource.\"\"\"\n",
    "\n",
    "    datasource: Literal[\"tourist_info_store\", \"uk_booking_db\"] = Field(\n",
    "        ...,\n",
    "        description=\"Given a user question, route it either to a tourist info vector store or a UK accomodation booking relational database.\",\n",
    "    )\n",
    "\n",
    "llm = ChatOpenAI(openai_api_key=OPENAI_API_KEY, model=\"gpt-4o-mini\")\n",
    "structured_llm_router = llm.with_structured_output(RouteQuery) #A\n",
    "#B LLM with function call"
   ]
  },
  {
   "cell_type": "markdown",
   "id": "a05e2f1e-146b-413e-b576-19b80928f646",
   "metadata": {},
   "source": [
    "### Setting up the question router chain"
   ]
  },
  {
   "cell_type": "code",
   "execution_count": 245,
   "id": "f392bed3-1e2f-4ff9-9f7c-8185eb8b301e",
   "metadata": {},
   "outputs": [],
   "source": [
    "system = \"\"\"You are an expert at routing a user question to a tourist info vector store \n",
    "or to an UK accommodation booking relational database.\n",
    "The vector store contains tourist information about UK destinations.\n",
    "Use the vectorstore for general toruist information questions on UK destinations. \n",
    "For questions about accommodation availability or booking, use the UK Booking database.\"\"\"\n",
    "route_prompt = ChatPromptTemplate.from_messages(\n",
    "    [\n",
    "        (\"system\", system),\n",
    "        (\"human\", \"{question}\"),\n",
    "    ]\n",
    ")\n",
    "\n",
    "question_router = route_prompt | structured_llm_router"
   ]
  },
  {
   "cell_type": "markdown",
   "id": "207f2ebc-2cb3-42c8-879a-33a0502e0d52",
   "metadata": {},
   "source": [
    "### Testing the router chain"
   ]
  },
  {
   "cell_type": "code",
   "execution_count": 246,
   "id": "0216142c-266e-464f-af25-87b8be837e8f",
   "metadata": {},
   "outputs": [],
   "source": [
    "selected_data_source = question_router.invoke(\n",
    "    {\"question\": \"Have you got any offers in Brighton?\"}\n",
    ")"
   ]
  },
  {
   "cell_type": "code",
   "execution_count": 247,
   "id": "79f967ed-10ad-48ed-aba5-78fa9a72d0c8",
   "metadata": {},
   "outputs": [
    {
     "name": "stdout",
     "output_type": "stream",
     "text": [
      "datasource='uk_booking_db'\n"
     ]
    }
   ],
   "source": [
    "print(selected_data_source)"
   ]
  },
  {
   "cell_type": "code",
   "execution_count": 248,
   "id": "61a10600-8ab2-48d4-8e69-05408d3b70cc",
   "metadata": {},
   "outputs": [],
   "source": [
    "selected_data_source = question_router.invoke(\n",
    "    {\"question\": \"Where are the best beaches in Cornwall?\"}\n",
    ")"
   ]
  },
  {
   "cell_type": "code",
   "execution_count": 249,
   "id": "b7bfff48-418f-470a-a8d1-56a7e4816982",
   "metadata": {},
   "outputs": [
    {
     "name": "stdout",
     "output_type": "stream",
     "text": [
      "datasource='tourist_info_store'\n"
     ]
    }
   ],
   "source": [
    "print(selected_data_source)"
   ]
  },
  {
   "cell_type": "markdown",
   "id": "a64595f6-cbc9-42a1-9827-20a8b2d92f63",
   "metadata": {},
   "source": [
    "### Setting up the retriever chooser"
   ]
  },
  {
   "cell_type": "code",
   "execution_count": 278,
   "id": "3f8982e3-e6f8-4bf9-9526-e28cff5de7e6",
   "metadata": {},
   "outputs": [],
   "source": [
    "retriever_chains = {\n",
    "    'tourist_info_store': tourist_info_retriever_chain,\n",
    "    'uk_booking_db': uk_accommodation_retriever_chain\n",
    "}\n",
    "\n",
    "def retriever_chooser(question):\n",
    "    selected_data_source = question_router.invoke(\n",
    "        {\"question\": question})\n",
    "\n",
    "    return retriever_chains[selected_data_source.datasource]"
   ]
  },
  {
   "cell_type": "code",
   "execution_count": 279,
   "id": "978d392b-2035-43ca-86b4-8d91d4e39f09",
   "metadata": {},
   "outputs": [],
   "source": [
    "chosen = retriever_chooser('Tell me about events or festivals in the UK town of Newquay') ####REMOVE"
   ]
  },
  {
   "cell_type": "code",
   "execution_count": 280,
   "id": "0f4c1da7-0ae6-44b5-a8d2-c5c77193ada4",
   "metadata": {},
   "outputs": [
    {
     "name": "stdout",
     "output_type": "stream",
     "text": [
      "first=RunnableLambda(lambda x: x['question']) last=VectorStoreRetriever(tags=['Chroma', 'OpenAIEmbeddings'], vectorstore=<langchain_chroma.vectorstores.Chroma object at 0x000002260247BB50>, search_kwargs={'k': 2})\n"
     ]
    }
   ],
   "source": [
    "print(chosen)####REMOVE"
   ]
  },
  {
   "cell_type": "markdown",
   "id": "916c521c-c0df-4a8b-9dab-1b4cbd3d8d66",
   "metadata": {},
   "source": [
    "## Setting up the full RAG chain"
   ]
  },
  {
   "cell_type": "code",
   "execution_count": 253,
   "id": "e68c6629-b123-4137-a762-b0be4f06d554",
   "metadata": {},
   "outputs": [],
   "source": [
    "from langchain_core.runnables import RunnablePassthrough"
   ]
  },
  {
   "cell_type": "code",
   "execution_count": 254,
   "id": "e28b86c5-0e7c-49db-a4ec-7455051c5448",
   "metadata": {},
   "outputs": [],
   "source": [
    "rag_prompt_template = \"\"\"\n",
    "Given a question and some context, answer the question.\n",
    "If you get a structured context, like a tuple, try to infer the meaning of the components: \n",
    "typically they refer to accommodation offers, and the number is a percentage (0.2 means 20%).\n",
    "If you do not the answer, just say I do not know.\n",
    "\n",
    "\n",
    "Context: {context}\n",
    "Question: {question}\n",
    "\"\"\"\n",
    "\n",
    "rag_prompt = ChatPromptTemplate.from_template(rag_prompt_template) \n",
    "\n",
    "def execute_rag_chain(question, chosen_retriever):\n",
    "    full_rag_chain = (\n",
    "        {\n",
    "            \"context\": {\"question\": RunnablePassthrough()} | chosen_retriever,#A\n",
    "            \"question\": RunnablePassthrough(),#B\n",
    "        }\n",
    "        | rag_prompt\n",
    "        | llm\n",
    "        | StrOutputParser()\n",
    "    )\n",
    "    #A The context is returned by the retriver after feeding to it the rewritten query\n",
    "    #B This is the original user question\n",
    "\n",
    "    return full_rag_chain.invoke(question)"
   ]
  },
  {
   "cell_type": "markdown",
   "id": "e515287b-c378-4bce-b313-57a9b0dee6aa",
   "metadata": {},
   "source": [
    "## Executing the full RAG chain "
   ]
  },
  {
   "cell_type": "markdown",
   "id": "29dbe86e-9b72-47fa-a135-bb60a4e411b5",
   "metadata": {},
   "source": [
    "### Question on offers"
   ]
  },
  {
   "cell_type": "code",
   "execution_count": 261,
   "id": "fce87dd5-af66-4434-8fa1-50a1a0387cf6",
   "metadata": {},
   "outputs": [],
   "source": [
    "question = 'Give me some offers for Cardiff, including the accommodation name'\n",
    "\n",
    "chosen_retriever = retriever_chooser(question)\n",
    "\n",
    "answer = execute_rag_chain(question, chosen_retriever)"
   ]
  },
  {
   "cell_type": "code",
   "execution_count": 263,
   "id": "6461f37b-7105-4f6d-9188-e7320ca29018",
   "metadata": {},
   "outputs": [
    {
     "name": "stdout",
     "output_type": "stream",
     "text": [
      "One offer for Cardiff is the \"Early Bird Discount\" at Cardiff Camping, which provides a 20% discount.\n"
     ]
    }
   ],
   "source": [
    "print(answer)"
   ]
  },
  {
   "cell_type": "markdown",
   "id": "74b0f2f6-e5bc-4d2b-b23b-9aeb0ce7cbbb",
   "metadata": {},
   "source": [
    "### Question on tourist information"
   ]
  },
  {
   "cell_type": "code",
   "execution_count": 283,
   "id": "c30921e5-acd3-4f93-9ead-d19fae0b4cfb",
   "metadata": {},
   "outputs": [],
   "source": [
    "question_2 = 'Tell me about events or festivals in the UK town of Newquay'\n",
    "\n",
    "chosen_retriever_2 = retriever_chooser(question_2)\n",
    "\n",
    "answer2 = execute_rag_chain(question_2, chosen_retriever_2)"
   ]
  },
  {
   "cell_type": "code",
   "execution_count": 285,
   "id": "62aecdab-e591-4641-8401-353c0f251bd8",
   "metadata": {},
   "outputs": [
    {
     "name": "stdout",
     "output_type": "stream",
     "text": [
      "In Newquay, the **Cornish Film Festival** is held annually each November. Additionally, it is known for being the UK's surfing capital, hosting events like the UK championships and the Boardmasters festival.\n"
     ]
    }
   ],
   "source": [
    "print(answer2)"
   ]
  },
  {
   "cell_type": "code",
   "execution_count": null,
   "id": "5491f239-71fe-4def-9893-bd1ca59b9a0f",
   "metadata": {},
   "outputs": [],
   "source": []
  }
 ],
 "metadata": {
  "kernelspec": {
   "display_name": "Python 3 (ipykernel)",
   "language": "python",
   "name": "python3"
  },
  "language_info": {
   "codemirror_mode": {
    "name": "ipython",
    "version": 3
   },
   "file_extension": ".py",
   "mimetype": "text/x-python",
   "name": "python",
   "nbconvert_exporter": "python",
   "pygments_lexer": "ipython3",
   "version": "3.11.9"
  }
 },
 "nbformat": 4,
 "nbformat_minor": 5
}
