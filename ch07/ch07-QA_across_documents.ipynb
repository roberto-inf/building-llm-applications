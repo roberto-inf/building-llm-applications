{
 "cells": [
  {
   "cell_type": "markdown",
   "id": "c4511fcd-456f-4612-91cf-40efb9592858",
   "metadata": {},
   "source": [
    "# Q&A across documents with LangChain and LangSmith"
   ]
  },
  {
   "cell_type": "code",
   "execution_count": 9,
   "id": "df920cd9-31be-4bf6-916d-25083625d8f7",
   "metadata": {},
   "outputs": [],
   "source": [
    "from langchain.document_loaders import WikipediaLoader, Docx2txtLoader, PyPDFLoader, TextLoader\n",
    "\n",
    "from langchain.vectorstores import Chroma\n",
    "from langchain.text_splitter import RecursiveCharacterTextSplitter\n",
    "from langchain_community.embeddings import OpenAIEmbeddings"
   ]
  },
  {
   "cell_type": "code",
   "execution_count": 10,
   "id": "85b14068-78d4-47ae-8fce-a95d9055120b",
   "metadata": {},
   "outputs": [
    {
     "name": "stdin",
     "output_type": "stream",
     "text": [
      "Enter your OPENAI_API_KEY ········\n"
     ]
    }
   ],
   "source": [
    "import getpass\n",
    "OPENAI_API_KEY = getpass.getpass('Enter your OPENAI_API_KEY')"
   ]
  },
  {
   "cell_type": "markdown",
   "id": "cd2b5787-105a-44a9-90a9-fdb3e026aa7d",
   "metadata": {},
   "source": [
    "## Setting up vector database and embeddings"
   ]
  },
  {
   "cell_type": "code",
   "execution_count": 11,
   "id": "33f0e3ba-c17f-454f-b62f-a1311438e316",
   "metadata": {},
   "outputs": [],
   "source": [
    "text_splitter = RecursiveCharacterTextSplitter(chunk_size=500, chunk_overlap=0)\n",
    "embeddings_model = OpenAIEmbeddings(openai_api_key=OPENAI_API_KEY)\n",
    "vector_db = Chroma(\"tourist_info\", embeddings_model)"
   ]
  },
  {
   "cell_type": "code",
   "execution_count": 12,
   "id": "8e1eff7c-bdb9-44c5-96f6-ab3b50847f8a",
   "metadata": {},
   "outputs": [
    {
     "data": {
      "text/plain": [
       "['0cc3df44-1195-4128-a5bf-18a178782cc1',\n",
       " '6cce3fc3-da33-48c5-b0d1-c4f68be2dae8',\n",
       " '272180d1-5ec8-4ea8-82cb-3deff7498570',\n",
       " 'a22428c0-bec5-4537-991f-37090099b227',\n",
       " '042c6a8a-6d72-4bca-aff2-e57715d5bd54',\n",
       " 'cf1ba322-d3db-4095-88bc-c6107ac42028',\n",
       " 'f3633670-5d39-4c79-9493-9d4a80384d11',\n",
       " 'd1403a02-18c3-4502-8a45-791eb847b1f1',\n",
       " '0867ca15-f3e5-405f-b786-3fb284cb70d9',\n",
       " '992d3154-e176-4c63-8a96-219c944e1d87',\n",
       " '66636c42-bb7d-4a75-807f-1d4712b1d3a1',\n",
       " '4cefbe8b-ef6d-4b27-b2aa-a5d96a3ae1a2',\n",
       " 'e0d5a520-78bd-4a6f-83ba-44c660e79f1d',\n",
       " '80a7dd19-c412-4b1b-812b-0ea8d98ff517',\n",
       " '531aa9d0-0838-4009-b71c-94cd77fdff52',\n",
       " '6a5eefb2-0b35-43eb-be68-5546c825efea',\n",
       " '1d98ba07-8c4f-435d-aaa3-02eb33a65902',\n",
       " '6099d85c-2bc7-4616-b06d-313a812a8279',\n",
       " 'eaa6b570-2f4d-4c4d-9383-4ecf4d8dffb0',\n",
       " 'bf135bb4-f54c-421b-8842-1b2008d62d0f',\n",
       " '06d04078-ff2c-4ade-b905-ca8ee505d602',\n",
       " '9dbd74f1-b122-4980-9bb2-8334e1194392',\n",
       " '888cc905-12c5-4aa1-b1fa-264d3ea8d7c5',\n",
       " 'b54745ed-696d-4105-a716-71ff66244982',\n",
       " 'ce02d869-0d74-4d04-8427-6d454b8680f4',\n",
       " 'c4333338-21a1-4439-9123-915261099d51',\n",
       " 'b1f1c82d-b147-4522-80ca-59e0ecf85094',\n",
       " '4f0cb642-b191-4fad-9640-6a95b2af2fc6',\n",
       " '2cbf3792-8377-4fbd-97ad-dadf055195fc',\n",
       " '36548d33-bb0f-4b1d-b12c-6105bd0dd632',\n",
       " 'dfedd154-095e-42a0-914c-454ed7f2406a',\n",
       " '33076282-5c2a-41fc-ad06-77be2c89b187',\n",
       " '2edafb18-8f5c-41be-b06f-9d3f98856ab2',\n",
       " '66537847-b527-4399-8f77-171beb06bfb0',\n",
       " 'fdfe2b9f-6b45-455c-a026-c4ad4a21a9d4',\n",
       " 'c945c2e0-7ef7-4d2e-8caa-2665be10fa36',\n",
       " '2b31bbf1-394f-48da-9c5c-e98edaab4363',\n",
       " 'e2b241b1-89c0-42d4-bc3e-07216de38ca5',\n",
       " 'c215eedd-979f-4187-8073-372f15069875',\n",
       " 'c11a4385-abba-4b60-b879-b26aa5c5b0eb',\n",
       " '6f9393eb-1b99-4af7-a3ca-fe883259fa2e',\n",
       " 'c3efcf71-efde-4fc0-b75b-d3925d0f7824',\n",
       " '9356f947-db3c-43d5-a601-373e8dbcb102',\n",
       " 'b3e18659-5ad6-48d2-a592-14092fefb1c5',\n",
       " '657f5d75-81a2-40fd-89db-8db7886fec15',\n",
       " '293455c3-43c8-4e05-8ed9-d1435bcf5932',\n",
       " 'efcd1099-2154-4902-a721-8f2452c1d15e',\n",
       " 'b11e99eb-f235-4af3-8066-d16f1b30f80c',\n",
       " '34725290-979e-4009-be2d-92a04ed436e6',\n",
       " 'df5edce5-c750-497a-89b5-243db8ddf2d3',\n",
       " 'ca014c72-b145-4bb1-9c31-6e6a2cf255b4',\n",
       " 'ed59e5a8-3f9b-497b-bf35-a4c3fdd03ebe',\n",
       " '8cf6f8dd-5fb3-475c-8366-16864a699809',\n",
       " '25938ee4-cc20-4fd0-b10e-73b0741f6471',\n",
       " '1dbcb160-a1b3-4503-bd0e-c9b412c84df2',\n",
       " '6586642c-06f1-4e64-ab6e-12158a07eda9',\n",
       " 'f8dbf9f8-66f3-4df6-a4e9-4faf33d030d7',\n",
       " '5c3cd8cc-0c89-46be-b4d2-359aba48d513',\n",
       " '11f8370d-bb80-45af-b052-b9826f07663a',\n",
       " 'c3e1e2fd-ab24-439f-909b-57368d15edca',\n",
       " '47b11ab2-7840-47a1-bf06-2caa8f25d72a',\n",
       " '7d68671b-e5d0-4e20-b125-a1bfe5692c3a',\n",
       " '1546494c-dc54-40aa-9c7a-52d0b9fcd617',\n",
       " '8e3ea7c3-0ceb-4c9a-ba08-b1528ea190db',\n",
       " 'df062b9e-760c-4752-b187-94a19dcb9902',\n",
       " '67ce7935-07aa-4dd1-857e-156d614a6636',\n",
       " 'd4c70541-2ca5-45f5-85c5-32ac26153291',\n",
       " '29ef49ce-bac9-424e-b368-5a1551717d7b',\n",
       " '58f8715c-23c3-4609-814b-ed9635620083',\n",
       " '01c78e4b-fd18-4391-ade0-74191ff6f2df',\n",
       " '4a24e7be-2dcd-4c2c-9129-a16f62f0c378',\n",
       " '3a7bb6d5-385c-4fad-a096-da7788ac80c1',\n",
       " 'fd7dea88-7591-48d0-aed0-ede81f1ad545',\n",
       " '53057b22-69d6-4252-877c-c5f983a7b52c',\n",
       " '2bb6d6f0-429c-423f-9a40-d5e1d2c485f4',\n",
       " 'fc07d167-7aad-4a68-abe6-047e742de5ef',\n",
       " '1fc31724-6208-4728-83af-b14457aa058d',\n",
       " '0afb8020-9738-4853-b7fd-f4d725e7d29a',\n",
       " '32fa556f-e345-4d93-9cee-5f78fedaa3e8',\n",
       " 'de6bd960-9aaa-4a42-97d7-32b9f42a0de0',\n",
       " '206a1a76-0aa6-4837-9c4f-b6eabac5197b',\n",
       " 'd1fd4742-c50f-4978-a74e-e6acf5baced0',\n",
       " 'ec519cc1-a7b9-4355-9746-c1e468b40887',\n",
       " '77e90035-39d2-4025-bb3e-06115598d9e2',\n",
       " '3614bb6e-c75b-44be-afe8-06f0200daa41',\n",
       " 'c4557659-d110-4dbf-bc9b-0618556a098b',\n",
       " 'e68efbec-cbdb-4bed-b92f-5e8c5debde3e',\n",
       " 'f56be7ca-20b4-427b-8f8b-7f6536494994',\n",
       " '87a16460-b9e7-4845-b0da-de4fc8b3eead',\n",
       " '4062942f-a5fe-4a23-9bdc-c7b627d79ebe',\n",
       " '259b2694-4289-495e-bfb8-c2502a8638c4',\n",
       " 'd65bf18a-2762-4ea9-94a7-64deeafc917f',\n",
       " '47eed207-ef99-4b15-9ece-6fc1eb84fe09',\n",
       " 'fe29b082-c5bc-437d-a8fa-1eebca51fcac',\n",
       " '7c23bd66-b291-4651-a7f9-015e3eb3a9b4',\n",
       " 'ac123fe6-0286-4b14-bb30-df974a03d230',\n",
       " '33ebe11c-c124-45bb-8949-6a47ee1929c0',\n",
       " '2621d220-b9d4-4703-b2e6-850973db96ab',\n",
       " '911be8b5-91bd-4b6d-afe4-ff498b0380d3',\n",
       " 'a2af82b5-2193-4120-ad60-11a091f014ac',\n",
       " '1bc937db-8b41-442b-85be-e6837cdcaf09',\n",
       " 'f7e51fa0-341b-4edf-ae6a-c2f061e7e0a4',\n",
       " '088d6351-1dbc-46f7-b80f-d30cc17757dd',\n",
       " '8801e20f-6fbd-4dbb-9e17-9ebad198b21b',\n",
       " '2809da64-2e15-4311-bad1-745c5afea2a4',\n",
       " '65217cff-d07a-48fa-b714-934df6332788',\n",
       " '332fb36d-9f84-428d-b8f1-bb9adc5f58f4',\n",
       " 'f52d4b3c-7aac-4e85-b6af-506c1c33e965',\n",
       " '1fd62968-2eea-46b4-8732-fe9a850f9bdd',\n",
       " '6ee1fd11-bbae-412c-96ba-f468adf25a3a',\n",
       " 'a11c4156-7ad0-45b4-9661-32079a5b822e',\n",
       " '32d388e4-a9d0-4496-88e5-6b2d16926a8f',\n",
       " 'dd33b3a5-46a3-4710-b448-66942da58b0b',\n",
       " 'a980344b-f4db-4636-8280-43eb8041161d',\n",
       " 'e1f3e583-3638-470b-880e-fcebb6c0af54',\n",
       " '93f3d428-e83f-4dfc-a398-e9e91969e7fa',\n",
       " '60b25f95-2f2e-4aad-91b3-7806fbbba717',\n",
       " 'd3999583-1253-470b-aba4-3f7cad3ab34c',\n",
       " 'f7d31b14-5924-42c8-bd01-e983627c4bbf',\n",
       " '52252c13-3d3c-4e78-b86a-db7c14f9c15b',\n",
       " '7d2de64c-e8aa-449a-837d-2643fea1be8c',\n",
       " 'd59bf973-12cc-48fa-ac7a-ee466062c17a',\n",
       " '419c666c-338c-4791-a1d6-f913d225c0d0',\n",
       " '7b070c9b-1b12-47df-817c-c0d14f9f4d4c',\n",
       " '49b7e7ff-742e-40f0-ae86-075a75c10beb',\n",
       " '73dd3248-fa8b-4140-80b1-fef671589250',\n",
       " '9d79ded5-a637-4b51-84bb-dfadc17f9634',\n",
       " 'b773d242-ca04-4027-8845-92a30b97f7b9',\n",
       " '4ef4fc68-edad-4ec7-8019-6260ae5aee31',\n",
       " 'bb3ddbcb-816f-4fd7-9705-67a8f3a5e3cd',\n",
       " 'cdee57e5-128f-4718-aa8b-44b2714cdc11',\n",
       " '167dbbba-2de1-4bc7-8434-02f7cd4d03ef',\n",
       " '670839d7-c6e2-4c84-b088-5e21867c72ae',\n",
       " '6498bfb1-2690-4e77-9967-7ef095589e54',\n",
       " 'c94f3a19-3cc7-4954-96bb-7b3ebbe43a0a',\n",
       " '2eda7c92-31b8-4780-afc9-e489eebea7af',\n",
       " '473dad73-8002-4d65-8b2d-2945eff90423',\n",
       " '98412f46-9dc9-4c35-b001-b1fd0a551627',\n",
       " '96744f05-d966-4d4c-a7ad-0bc1270aa65a',\n",
       " '1f3ea18c-1e3a-45da-9766-364d34533d98',\n",
       " 'c625e737-bad3-49ff-8d8b-58800cfbef9d',\n",
       " 'c4908324-bb70-4822-aafc-3b297e491a19',\n",
       " 'b1c8ab70-4244-456c-a509-dbba0f57e978',\n",
       " '5d078255-054b-41a9-8846-61fc41d85ee6',\n",
       " 'd3e2f96d-343e-40f2-accc-372664fdadac',\n",
       " '8cb347f4-e317-44ef-a216-6b6bd9b8de61',\n",
       " 'af20f5ba-bc8c-4eb5-890e-ec7041cd232b',\n",
       " 'e4cfda2b-4de4-4512-90d1-eabc78f7813f',\n",
       " '0c9413c8-3977-4495-a4a5-31272ff3d165',\n",
       " '88b3a826-c48f-4c0b-b67f-53817de337d1',\n",
       " 'f3f93ae4-62ba-40e5-b08c-af6f2a5ca792',\n",
       " '953b6744-21e9-40ab-8d09-70406d0f058e',\n",
       " 'a5bfdfc9-c238-48ae-8742-f31616aa1769',\n",
       " '89f4e863-6eab-4fa2-859d-79db3fa56a87',\n",
       " '9bee66c1-5dec-4919-8b12-2e18e1380a0f',\n",
       " 'd85eeb9b-bf4a-474b-9586-fe61bbe589b2',\n",
       " '041c38ca-3109-440c-83fb-5cb12b2d9d62',\n",
       " 'babb96f0-5c26-4451-acf0-e2687cea59d1',\n",
       " '385abafa-3a6c-498e-875c-2aa99e0127b8',\n",
       " '49b14005-cc29-4be0-a949-ce0efad0cb5b',\n",
       " '4b19f2ca-452c-4f46-b886-f25747b13576',\n",
       " '688c1cbb-2889-4f58-8e72-2223fde491c6',\n",
       " '511acb7f-9a3f-4a19-97ae-ed6ef0f8cfd5',\n",
       " 'c263df66-7b03-4e11-8452-8f94cba39f7a',\n",
       " '42008196-b174-4fc0-a234-7dee79185f75',\n",
       " '8ab6b306-98c4-4b40-9e17-e8f4a06d48ac',\n",
       " '71f68f24-c981-4a9b-9802-ad1da3456dc6',\n",
       " 'c4ac441e-26b3-4a09-9239-502257496027',\n",
       " 'd78a35c1-10b9-4051-a515-4c8e13eedfa4',\n",
       " 'abc8d7f8-b7da-45db-982b-507fcc63004f',\n",
       " '9a8cab43-9733-429e-b447-9c5a56e55dd4',\n",
       " 'd894a32c-0e59-4995-ab70-2cade75abc84',\n",
       " 'ca71b4d1-89c0-441b-910e-a818bb926d81',\n",
       " '16d3b823-41e4-4fa2-9244-0f77928242ae',\n",
       " 'f80ae101-dcd1-437b-9d05-79dfc8d229d3',\n",
       " '3b8de8c6-ecd7-4a14-9c9e-32b67b8e9da3',\n",
       " 'b07386c4-cb25-4cdd-8259-4f76d6c0d35b',\n",
       " '7fc8c013-8831-44ca-b104-fcc1c533adb6',\n",
       " '08375bdb-e394-47f2-835c-61ef11712021',\n",
       " '1405fbf8-1e25-4338-9c30-c234247b182b',\n",
       " '2664eccc-f816-44ff-a81b-d442d56045a6',\n",
       " '1516cd15-80c6-4235-910e-e5992d9e3d70',\n",
       " 'be99dbc6-979a-41ff-baaf-be2134f77f94',\n",
       " '020639aa-19b2-4965-afe9-e7226da385e4',\n",
       " '65ddf7cc-eaa9-4931-88d6-29502595cd55',\n",
       " '84d9e495-cbc2-483a-909b-1cada2479aed',\n",
       " 'd43f7370-5f9e-4dc8-93fd-d8265d196ea9',\n",
       " '0ba3678f-1a90-40fd-9513-b47457ad6fe8',\n",
       " 'becc31d8-fa46-492a-b36f-cfd480696b8f',\n",
       " 'dec1a874-7b11-4697-a9b2-58c4e91fbc7f',\n",
       " 'c333f02d-15bf-48ee-9b96-b6b8ef555810',\n",
       " '800e7a45-8376-4f84-9e12-62db5d163549',\n",
       " '3ec3c444-2bab-4397-83ca-86a9604dd5b5',\n",
       " '16cb0827-feee-4bdf-b0d2-9d77b6d248f5',\n",
       " '0cbb21b8-101c-4773-bfaa-073633d79491',\n",
       " 'a8e3c48a-a638-467a-82eb-5f042aeda2dc',\n",
       " '8cee2d4c-eecd-47ec-8ed1-2b2b5b494959',\n",
       " 'febeca69-b988-4f38-af59-d9364e46b061',\n",
       " '73d2bd62-ab76-4842-956a-158f97cdcc77',\n",
       " 'b59b8fcd-1433-4ac4-b96d-6f2dad4d2b70',\n",
       " '3c2ecd69-a1aa-44fd-8c4a-95a9b1749a73',\n",
       " 'cebc9946-695f-4bde-b0b4-198853d73112',\n",
       " '16576d9a-91da-451a-b93b-1f170b5dfd6f',\n",
       " '00065a9b-9403-4f1c-aa8d-bad77a17da2d',\n",
       " 'd02394f6-ee1e-4eb4-899d-25672ce88c6d',\n",
       " '8fc78e79-21bf-46f6-b433-9b6ec8493e50',\n",
       " '0a5f3ca2-aa2d-42f4-a60e-2f39803ab780',\n",
       " 'fe0bfbe2-cf59-42c4-aa2c-84580bda4410',\n",
       " '8678cbd1-c1c0-42b8-a67b-18c626c63921',\n",
       " '23120869-6a7c-4bed-8b96-7e75db1bae7c',\n",
       " '5683a5be-ecbd-444a-90f4-14bb45404243',\n",
       " '9a328cc0-a61e-4687-8b0e-ac19dab345b7',\n",
       " '551c175b-fc42-4af4-a1c7-d9b12061a85b',\n",
       " 'e2db3cd1-c781-4564-a0e1-365dd8e7b2a1',\n",
       " '62eac186-b0ad-4c98-b42b-7274cebd0dc1',\n",
       " '42a2b518-496d-4f59-8b9b-e6aa4b28707a',\n",
       " 'acea83ed-f18b-4019-8c1d-6a1f6b67a469',\n",
       " '5b71b869-53dc-4850-b570-c0f50791ac0e',\n",
       " '027454cc-b0e4-4aef-80d3-35620d3f5769',\n",
       " 'f3e65a93-e428-4994-a4a0-58dce252b7db',\n",
       " '8339f9a3-524e-4a2c-ba8a-dbe2c21d0808',\n",
       " '9a69ed87-f8a7-43f7-b7f8-176b228a61d4',\n",
       " 'c933dd93-def4-4e02-81b0-d7108192a2b5',\n",
       " 'ac2000a9-be8c-483b-a7f6-ec06876ffd6e',\n",
       " 'f46f0b14-ae4b-49cb-8938-d9ca1a6a3714',\n",
       " '640975db-e63c-4d85-8661-76d0d8c21964',\n",
       " 'c8afb692-bccd-4075-b131-535b1181f642',\n",
       " '17196548-c6d2-47c1-91ed-cde6ef10f415',\n",
       " 'cc283a64-8e12-4106-8360-f4c4316f780a',\n",
       " '7b5c2d38-b800-4303-966e-29be065e1a3b',\n",
       " '06c26a8f-58e5-4e8e-90a9-4222d00484ae',\n",
       " '38de0880-681a-4229-beac-c23851839974',\n",
       " '18bb096a-34e6-42cf-8e17-f5d6744d85b5',\n",
       " 'd9aad61e-9061-463b-a345-8904d12267e8',\n",
       " 'c88bd033-caea-4a05-bf7b-aa9193850365',\n",
       " '2b36cf62-e877-4954-a550-fead742cebd2',\n",
       " '52c0eec5-f939-4979-9fa8-20948b2252f9']"
      ]
     },
     "execution_count": 12,
     "metadata": {},
     "output_type": "execute_result"
    }
   ],
   "source": [
    "wikipedia_loader = WikipediaLoader(query=\"Paestum\")\n",
    "wikipedia_chunks = text_splitter.split_documents(wikipedia_loader.load())\n",
    "vector_db.add_documents(wikipedia_chunks)"
   ]
  },
  {
   "cell_type": "code",
   "execution_count": 13,
   "id": "0ecc12c8-9564-417a-8a57-2072e70e84f6",
   "metadata": {},
   "outputs": [
    {
     "data": {
      "text/plain": [
       "['bcb8efa1-58d2-456d-80f7-a99bf8989f10',\n",
       " '1e3daaf7-f32c-43c3-9a6a-91a4982e64d2',\n",
       " '5e6af3fe-80f5-4615-9c73-eddaee52014a',\n",
       " 'ab750944-16d7-4ae3-b3ed-2a464f75535a',\n",
       " '7237afbc-1b9b-4760-bc82-96366fa245b5',\n",
       " 'd2538eba-00bd-41e9-9458-bafc16172072',\n",
       " '5e63fb7f-1f03-42a5-8a4f-800e48d3a4e8',\n",
       " 'bdf03f24-4c86-42ba-8a09-75327ed1ecba']"
      ]
     },
     "execution_count": 13,
     "metadata": {},
     "output_type": "execute_result"
    }
   ],
   "source": [
    "word_loader = Docx2txtLoader(\"Paestum/Paestum-Britannica.docx\")\n",
    "word_chunks = text_splitter.split_documents(word_loader.load())\n",
    "vector_db.add_documents(word_chunks)"
   ]
  },
  {
   "cell_type": "code",
   "execution_count": 14,
   "id": "b2cc85a1-48d4-4514-b4cb-9cceb3b8c2cb",
   "metadata": {},
   "outputs": [
    {
     "data": {
      "text/plain": [
       "['2e197992-5139-4428-999d-d42fd2deea3c',\n",
       " '522477be-4f25-4b29-96a9-516315e4a64e',\n",
       " 'b752f06d-cfdc-4811-8784-162a2206ca29',\n",
       " '31b39934-3ffa-4dcf-b59e-a716f59bfe2f',\n",
       " '76e596df-2c50-41ce-b8ca-eba17a57e116',\n",
       " '2f4057e5-b55b-491e-a575-d9a40de10480',\n",
       " '92b79502-1f9f-4cc2-8297-3c05a5b7b6a4',\n",
       " '7a8c3c3a-f1cd-405d-ab9c-5bf54a0663b0',\n",
       " '053904d6-a77c-4810-bb66-54a39ff402f4',\n",
       " '99345de1-0de4-43b7-a9b8-8ce3ec02704c',\n",
       " 'cd256087-cf63-423c-a912-43a290880ed2',\n",
       " '841782b6-28f9-49a4-b5e9-b2d725bb32c6',\n",
       " '3d8c2f2c-853d-4f7c-84ba-4719a21b8bf1',\n",
       " '26ea98f2-91b4-48ee-a75e-d7ff9789ccb7',\n",
       " '719f165d-e433-4feb-8ae0-8109a554cabe',\n",
       " 'a7492dd3-8bb6-4d08-b35e-033f8c19d04d',\n",
       " 'f7d61877-2391-478a-9dab-71a977d1812e',\n",
       " 'f9abdff5-c4c5-409d-9cf3-f2c7f260f845',\n",
       " 'e22b3730-7213-4f60-a552-4e2458b9c7c0',\n",
       " '38794e7d-a7bf-40de-bdec-280cab30e253',\n",
       " 'c8a9f9c3-21ad-4495-8c76-f149ea8c8a47',\n",
       " '5b2726aa-cf96-43bd-a0db-7ed222a05388',\n",
       " '9ba4c50a-043e-46a7-acfa-7517f84485bf',\n",
       " '27b57147-6dc8-46ba-b709-9930a80c3e3a']"
      ]
     },
     "execution_count": 14,
     "metadata": {},
     "output_type": "execute_result"
    }
   ],
   "source": [
    "pdf_loader = PyPDFLoader(\"Paestum/PaestumRevisited.pdf\")\n",
    "pdf_chunks = text_splitter.split_documents(pdf_loader.load())\n",
    "vector_db.add_documents(pdf_chunks)"
   ]
  },
  {
   "cell_type": "code",
   "execution_count": 15,
   "id": "3dc54fb3-4af8-434c-90f0-3a694a4bb7ce",
   "metadata": {
    "scrolled": true
   },
   "outputs": [
    {
     "data": {
      "text/plain": [
       "['784df464-5f89-42c5-9466-663053156bef']"
      ]
     },
     "execution_count": 15,
     "metadata": {},
     "output_type": "execute_result"
    }
   ],
   "source": [
    "txt_loader = TextLoader(\"Paestum/Paestum-Encyclopedia.txt\")\n",
    "txt_chunks = text_splitter.split_documents(txt_loader.load())\n",
    "vector_db.add_documents(txt_chunks)"
   ]
  },
  {
   "cell_type": "markdown",
   "id": "f9c3728b-10b3-4468-8c63-33d6748a2fd9",
   "metadata": {},
   "source": [
    "### Removing duplication"
   ]
  },
  {
   "cell_type": "code",
   "execution_count": 31,
   "id": "a000a48a-9d80-41e3-8571-7730b5844365",
   "metadata": {},
   "outputs": [],
   "source": [
    "def split_and_import(loader):\n",
    "     chunks = text_splitter.split_documents(loader.load())\n",
    "     vector_db.add_documents(chunks)\n",
    "     print(f\"Ingested chunks created by {loader}\")"
   ]
  },
  {
   "cell_type": "code",
   "execution_count": 32,
   "id": "146136d6-aec2-4e96-a1fa-05fca61d28e2",
   "metadata": {},
   "outputs": [
    {
     "name": "stdout",
     "output_type": "stream",
     "text": [
      "Ingested chunks created by <langchain_community.document_loaders.wikipedia.WikipediaLoader object at 0x000001EABD096510>\n",
      "Ingested chunks created by <langchain_community.document_loaders.word_document.Docx2txtLoader object at 0x000001EAA964A890>\n",
      "Ingested chunks created by <langchain_community.document_loaders.pdf.PyPDFLoader object at 0x000001EAC15D9650>\n",
      "Ingested chunks created by <langchain_community.document_loaders.text.TextLoader object at 0x000001EABBAE6290>\n"
     ]
    }
   ],
   "source": [
    "wikipedia_loader = WikipediaLoader(query=\"Paestum\")\n",
    "split_and_import(wikipedia_loader)\n",
    "\n",
    "word_loader = Docx2txtLoader(\"Paestum/Paestum-Britannica.docx\")\n",
    "split_and_import(word_loader)\n",
    "\n",
    "pdf_loader = PyPDFLoader(\"Paestum/PaestumRevisited.pdf\")\n",
    "split_and_import(pdf_loader)\n",
    "\n",
    "txt_loader = TextLoader(\"Paestum/Paestum-Encyclopedia.txt\")\n",
    "split_and_import(txt_loader)"
   ]
  },
  {
   "cell_type": "markdown",
   "id": "df7dbf7b-221c-4e88-964d-2ab98a294af3",
   "metadata": {},
   "source": [
    "## Ingesting Multiple Documents from a Folder (two techniques)"
   ]
  },
  {
   "cell_type": "markdown",
   "id": "6c8cde59-6e51-4d0d-b83b-3b30a9b0bf16",
   "metadata": {},
   "source": [
    "### 1) Iterating over all files in a folder"
   ]
  },
  {
   "cell_type": "code",
   "execution_count": 19,
   "id": "430cb87d-978f-4a81-9428-b9a40c605096",
   "metadata": {},
   "outputs": [],
   "source": [
    "loader_classes = {\n",
    "    'docx': Docx2txtLoader,\n",
    "    'pdf': PyPDFLoader,\n",
    "    'txt': TextLoader\n",
    "}"
   ]
  },
  {
   "cell_type": "code",
   "execution_count": 21,
   "id": "a31de028-ffec-44b9-973e-d2383697222e",
   "metadata": {},
   "outputs": [],
   "source": [
    "import os\n",
    "\n",
    "def get_loader(filename):\n",
    "    _, file_extension = os.path.splitext(filename) #A Extract the file extension\n",
    "    file_extension = file_extension.lstrip('.') #B Remove the leading dot from the extension\n",
    "    \n",
    "    loader_class = loader_classes.get(file_extension) #C Get the loader class from the dictionary\n",
    "    \n",
    "    if loader_class:\n",
    "        return loader_class(filename) #D Instantiate and return the correct loader\n",
    "    else:\n",
    "        raise ValueError(f\"No loader available for file extension '{file_extension}'\")"
   ]
  },
  {
   "cell_type": "markdown",
   "id": "1b45e9ed-ec13-4111-99ab-ff26107e2eed",
   "metadata": {},
   "source": [
    "#### Ingesting the files from the folder (Exercise solution)"
   ]
  },
  {
   "cell_type": "code",
   "execution_count": 33,
   "id": "1fc4c038-124c-44de-82c2-423c839da426",
   "metadata": {},
   "outputs": [
    {
     "name": "stdout",
     "output_type": "stream",
     "text": [
      "Loader for Acciaroli.pdf: <langchain_community.document_loaders.pdf.PyPDFLoader object at 0x000001EAC00E5D50>\n",
      "Ingested chunks created by <langchain_community.document_loaders.pdf.PyPDFLoader object at 0x000001EAC00E5D50>\n",
      "Loader for Cape Palinuro.txt: <langchain_community.document_loaders.text.TextLoader object at 0x000001EAC00E6490>\n",
      "Ingested chunks created by <langchain_community.document_loaders.text.TextLoader object at 0x000001EAC00E6490>\n",
      "Loader for Casalvelino.txt: <langchain_community.document_loaders.text.TextLoader object at 0x000001EAC00E4850>\n",
      "Ingested chunks created by <langchain_community.document_loaders.text.TextLoader object at 0x000001EAC00E4850>\n",
      "Loader for Cilentan coast.docx: <langchain_community.document_loaders.word_document.Docx2txtLoader object at 0x000001EABF733E90>\n",
      "Ingested chunks created by <langchain_community.document_loaders.word_document.Docx2txtLoader object at 0x000001EABF733E90>\n",
      "Loader for Cilento Coast Map and Travel Guide.docx: <langchain_community.document_loaders.word_document.Docx2txtLoader object at 0x000001EABACD0650>\n",
      "Ingested chunks created by <langchain_community.document_loaders.word_document.Docx2txtLoader object at 0x000001EABACD0650>\n",
      "Loader for Cilento DOC.pdf: <langchain_community.document_loaders.pdf.PyPDFLoader object at 0x000001EABA4C0810>\n",
      "Ingested chunks created by <langchain_community.document_loaders.pdf.PyPDFLoader object at 0x000001EABA4C0810>\n",
      "Loader for Cilento Park.txt: <langchain_community.document_loaders.text.TextLoader object at 0x000001EABACD0650>\n",
      "Ingested chunks created by <langchain_community.document_loaders.text.TextLoader object at 0x000001EABACD0650>\n",
      "Loader for Cilento.docx: <langchain_community.document_loaders.word_document.Docx2txtLoader object at 0x000001EABAB7BFD0>\n",
      "Ingested chunks created by <langchain_community.document_loaders.word_document.Docx2txtLoader object at 0x000001EABAB7BFD0>\n",
      "Loader for Cilento.pdf: <langchain_community.document_loaders.pdf.PyPDFLoader object at 0x000001EABC08BB90>\n",
      "Ingested chunks created by <langchain_community.document_loaders.pdf.PyPDFLoader object at 0x000001EABC08BB90>\n",
      "Loader for Marina di Camerota info.pdf: <langchain_community.document_loaders.pdf.PyPDFLoader object at 0x000001EABB4DB3D0>\n",
      "Ingested chunks created by <langchain_community.document_loaders.pdf.PyPDFLoader object at 0x000001EABB4DB3D0>\n",
      "Loader for Marina di Camerota.docx: <langchain_community.document_loaders.word_document.Docx2txtLoader object at 0x000001EABA48AD50>\n",
      "Ingested chunks created by <langchain_community.document_loaders.word_document.Docx2txtLoader object at 0x000001EABA48AD50>\n",
      "Loader for NationalParkOfCilentoAndValloDiDiano.txt: <langchain_community.document_loaders.text.TextLoader object at 0x000001EABF73EA50>\n",
      "Ingested chunks created by <langchain_community.document_loaders.text.TextLoader object at 0x000001EABF73EA50>\n",
      "Loader for Parco Nazionale del Cilento.pdf: <langchain_community.document_loaders.pdf.PyPDFLoader object at 0x000001EABAB6C5D0>\n",
      "Ingested chunks created by <langchain_community.document_loaders.pdf.PyPDFLoader object at 0x000001EABAB6C5D0>\n",
      "Loader for Parmenides.docx: <langchain_community.document_loaders.word_document.Docx2txtLoader object at 0x000001EABD0B4710>\n",
      "Ingested chunks created by <langchain_community.document_loaders.word_document.Docx2txtLoader object at 0x000001EABD0B4710>\n",
      "Loader for Santa Maria di Castellabate.docx: <langchain_community.document_loaders.word_document.Docx2txtLoader object at 0x000001EABF939F90>\n",
      "Ingested chunks created by <langchain_community.document_loaders.word_document.Docx2txtLoader object at 0x000001EABF939F90>\n",
      "Loader for Velia.pdf: <langchain_community.document_loaders.pdf.PyPDFLoader object at 0x000001EABF938ED0>\n",
      "Ingested chunks created by <langchain_community.document_loaders.pdf.PyPDFLoader object at 0x000001EABF938ED0>\n"
     ]
    }
   ],
   "source": [
    "folder_path = \"CilentoTouristInfo\" #A Path to the folder containing the documents\n",
    "\n",
    "for filename in os.listdir(folder_path): #B iterate over the files in the path\n",
    "    file_path = os.path.join(folder_path, filename) #C Construct the full path to the file\n",
    "   \n",
    "    if os.path.isfile(file_path): #D Check if it is a file (not a directory)\n",
    "        try:\n",
    "            loader = get_loader(file_path) #E Instantiate the correct loader for the file\n",
    "            print(f\"Loader for {filename}: {loader}\")\n",
    "            split_and_import(loader) #F Split and ingest\n",
    "        except ValueError as e:\n",
    "            print(e)"
   ]
  },
  {
   "cell_type": "markdown",
   "id": "1147202e-d94a-4208-bd56-b7f068fdf9da",
   "metadata": {},
   "source": [
    "### 2) Ingesting all files with with DirectoryLoader"
   ]
  },
  {
   "cell_type": "code",
   "execution_count": null,
   "id": "ce5cff86-e921-4d15-bab9-b4215b11fcb6",
   "metadata": {},
   "outputs": [],
   "source": [
    "# ONLY RUN THIS IF YOU HAVE SUCCESFULLY INSTALLED unstructured or langchain-unstructured\n",
    "# THE INSTALLATION IS OPERATIVE SYSTEM SPECIFIC\n",
    "# follow LangChain instructions at https://python.langchain.com/v0.2/docs/integrations/providers/unstructured/ or \n",
    "# Unstructured instructions at https://docs.unstructured.io/welcome#quickstart-unstructured-open-source-library\n",
    "folder_path = \"CilentoTouristInfo\"\n",
    "pattern = \"**/*.{docx,pdf,txt}\" #A Pattern to match .docx, .pdf, and .txt files\n",
    "\n",
    "directory_loader = DirectoryLoader(folder_path, pattern) #B Initialize the DirectoryLoader with the folder path and pattern\n",
    "split_and_import(directory_loader)"
   ]
  },
  {
   "cell_type": "markdown",
   "id": "1631170d-373f-4498-ad80-144d8ee9c784",
   "metadata": {},
   "source": [
    "## Querying the vector store directly"
   ]
  },
  {
   "cell_type": "code",
   "execution_count": 10,
   "id": "af87991d-bbbb-47d2-87d0-365aca4d4b3a",
   "metadata": {},
   "outputs": [
    {
     "name": "stdout",
     "output_type": "stream",
     "text": [
      "[Document(metadata={'source': 'Paestum/Paestum-Britannica.docx'}, page_content='Paestum, Greek\\xa0Poseidonia, ancient city in southern\\xa0Italy\\xa0near the west coast, 22 miles (35 km) southeast of modern\\xa0Salerno\\xa0and 5 miles (8 km) south of the Sele (ancient Silarus) River. Paestum is noted for its splendidly preserved Greek temples.\\n\\n\\n\\n\\n\\nVisit the ruins of the ancient Greek colony of Paestum and discover its history, culture, and society\\n\\nSee all videos for this article'), Document(metadata={'source': 'Paestum/Paestum-Britannica.docx'}, page_content='Paestum, Greek\\xa0Poseidonia, ancient city in southern\\xa0Italy\\xa0near the west coast, 22 miles (35 km) southeast of modern\\xa0Salerno\\xa0and 5 miles (8 km) south of the Sele (ancient Silarus) River. Paestum is noted for its splendidly preserved Greek temples.\\n\\n\\n\\n\\n\\nVisit the ruins of the ancient Greek colony of Paestum and discover its history, culture, and society\\n\\nSee all videos for this article'), Document(metadata={'source': 'https://en.wikipedia.org/wiki/Paestum', 'summary': 'Paestum ( PEST-əm, US also  PEE-stəm, Latin: [ˈpae̯stũː]) was a major ancient Greek city on the coast of the Tyrrhenian Sea, in Magna Graecia. The ruins of Paestum are famous for their three ancient Greek temples in the Doric order dating from about 550 to 450 BC that are in an excellent state of preservation. The city walls and amphitheatre are largely intact, and the bottom of the walls of many other structures remain, as well as paved roads. The site is open to the public, and there is a modern national museum within it, which also contains the finds from the associated Greek site of Foce del Sele.\\nPaestum was established around 600 BC by settlers from Sybaris, a Greek colony in southern Italy, under the name of Poseidonia (Ancient Greek: Ποσειδωνία). The city thrived as a Greek settlement for about two centuries, witnessing the development of democracy. In 400 BC, the Lucanians seized the city. Romans took over in 273 BC, renaming it Paestum and establishing a Latin colony. Later, its decline ensued from shifts in trade routes and the onset of flooding and marsh formation. As Pesto or Paestum, the town became a bishopric (now only titular), but it was abandoned in the Early Middle Ages, and left undisturbed and largely forgotten until the eighteenth century.\\nToday the remains of the city are found in the modern frazione of Paestum, which is part of the comune of Capaccio Paestum in the Province of Salerno in the region of Campania, Italy. The modern settlement, directly to the south of the archaeological site, is a popular seaside resort with long sandy beaches. The Paestum railway station on the Naples-Salerno-Reggio Calabria railway line is directly to the east of the ancient city walls.', 'title': 'Paestum'}, page_content='Paestum was established around 600 BC by settlers from Sybaris, a Greek colony in southern Italy, under the name of Poseidonia (Ancient Greek: Ποσειδωνία). The city thrived as a Greek settlement for about two centuries, witnessing the development of democracy. In 400 BC, the Lucanians seized the city. Romans took over in 273 BC, renaming it Paestum and establishing a Latin colony. Later, its decline ensued from shifts in trade routes and the onset of flooding and marsh formation. As Pesto or'), Document(metadata={'source': 'Paestum/Paestum-Britannica.docx'}, page_content='Poseidonia was probably founded about 600\\xa0BC\\xa0by Greek colonists from\\xa0Sybaris, along the\\xa0Gulf of Taranto, and it had become a flourishing town by 540, judging from its temples. After many years’ resistance the city came under the domination of the\\xa0Lucanians\\xa0(an\\xa0indigenous\\xa0Italic people) sometime before 400\\xa0BC, after which its name was changed to Paestum. Alexander, the king of Epirus, defeated the Lucanians at Paestum about 332\\xa0BC, but the city remained Lucanian until 273, when it came under')]\n"
     ]
    }
   ],
   "source": [
    "query = \"Where was Poseidonia and who renamed it to Paestum\" \n",
    "results = vector_db.similarity_search(query, 4) # four clostest results\n",
    "print(results)"
   ]
  },
  {
   "cell_type": "code",
   "execution_count": 11,
   "id": "dadf5ded-1f72-4e96-ad7c-b995e44dfecd",
   "metadata": {},
   "outputs": [
    {
     "data": {
      "text/plain": [
       "4"
      ]
     },
     "execution_count": 11,
     "metadata": {},
     "output_type": "execute_result"
    }
   ],
   "source": [
    "len(results)"
   ]
  },
  {
   "cell_type": "markdown",
   "id": "6dc0c334-66e4-4bb3-b0ab-1c32a03dd05b",
   "metadata": {},
   "source": [
    "## Asking a question through a RAG chain"
   ]
  },
  {
   "cell_type": "code",
   "execution_count": 75,
   "id": "9f6ad4a5-b79d-428f-9367-7a9f1a56d2ee",
   "metadata": {},
   "outputs": [
    {
     "name": "stdin",
     "output_type": "stream",
     "text": [
      "Enter your OPENAI_API_KEY ········\n"
     ]
    }
   ],
   "source": [
    "from openai import OpenAI\n",
    "import getpass\n",
    "\n",
    "OPENAI_API_KEY = getpass.getpass('Enter your OPENAI_API_KEY')"
   ]
  },
  {
   "cell_type": "code",
   "execution_count": 96,
   "id": "82221dc4-7627-403a-bcdb-cb987ba41184",
   "metadata": {},
   "outputs": [],
   "source": [
    "from langchain.prompts import PromptTemplate\n",
    "\n",
    "rag_prompt_template = \"\"\"Use the following pieces of context to answer the question at the end. \n",
    "If you don't know the answer, just say that you don't know, don't try to make up an answer.\n",
    "Use three sentences maximum and keep the answer as concise as possible.\n",
    "{context}\n",
    "Question: {question}\n",
    "Helpful Answer:\"\"\"\n",
    "\n",
    "rag_prompt = PromptTemplate.from_template(rag_prompt_template)"
   ]
  },
  {
   "cell_type": "code",
   "execution_count": 97,
   "id": "e752e194-142a-45ad-8f2f-171487b3eb5b",
   "metadata": {},
   "outputs": [],
   "source": [
    "retriever = vector_db.as_retriever()"
   ]
  },
  {
   "cell_type": "code",
   "execution_count": 98,
   "id": "6f34248c-baea-4146-bfd4-e6fb193e6dbb",
   "metadata": {},
   "outputs": [],
   "source": [
    "from langchain.schema.runnable import RunnablePassthrough\n",
    "question_feeder = RunnablePassthrough()"
   ]
  },
  {
   "cell_type": "code",
   "execution_count": 99,
   "id": "7eb75492-8913-42e5-b707-aad2592d8fa5",
   "metadata": {},
   "outputs": [],
   "source": [
    "from langchain_openai import ChatOpenAI\n",
    "\n",
    "chatbot = ChatOpenAI(openai_api_key=OPENAI_API_KEY, model_name=\"gpt-3.5-turbo\")"
   ]
  },
  {
   "cell_type": "code",
   "execution_count": 100,
   "id": "df278726-e951-4b8c-8eb9-873992427e47",
   "metadata": {},
   "outputs": [],
   "source": [
    "# set up RAG chain\n",
    "\n",
    "rag_chain = {\"context\": retriever, \"question\": question_feeder} | rag_prompt | chatbot"
   ]
  },
  {
   "cell_type": "code",
   "execution_count": 101,
   "id": "4bb68aff-1b72-4126-8e17-b501fcb2860a",
   "metadata": {},
   "outputs": [],
   "source": [
    "def execute_chain(chain, question):\n",
    "    answer = chain.invoke(question)\n",
    "    return answer"
   ]
  },
  {
   "cell_type": "code",
   "execution_count": 102,
   "id": "88321863-cdb1-41fc-aa14-bb9b5792338c",
   "metadata": {},
   "outputs": [
    {
     "name": "stdout",
     "output_type": "stream",
     "text": [
      "Poseidonia was located in southern Italy, near the Gulf of Taranto. The city was renamed to Paestum by the Lucanians after they conquered it. The information comes from the Britannica document on Paestum.\n"
     ]
    }
   ],
   "source": [
    "question = \"Where was Poseidonia and who renamed it to Paestum. Also tell me the source.\" \n",
    "answer = execute_chain(rag_chain, question)\n",
    "print(answer.content)"
   ]
  },
  {
   "cell_type": "code",
   "execution_count": 103,
   "id": "4541b4a5-2e9e-4a80-963f-1279fad916ac",
   "metadata": {},
   "outputs": [
    {
     "name": "stdout",
     "output_type": "stream",
     "text": [
      "content='Poseidonia was located in southern Italy, near the Gulf of Taranto. The city was renamed to Paestum by the Lucanians after they conquered it. The information comes from the Britannica document on Paestum.' response_metadata={'token_usage': {'completion_tokens': 47, 'prompt_tokens': 1860, 'total_tokens': 1907}, 'model_name': 'gpt-3.5-turbo-0125', 'system_fingerprint': None, 'finish_reason': 'stop', 'logprobs': None} id='run-28adc3cf-72dd-4fa0-b396-5e7d65148e6d-0' usage_metadata={'input_tokens': 1860, 'output_tokens': 47, 'total_tokens': 1907}\n"
     ]
    }
   ],
   "source": [
    "print(answer)"
   ]
  },
  {
   "cell_type": "code",
   "execution_count": 104,
   "id": "53a5742a-62ae-442a-a30e-4380507489aa",
   "metadata": {},
   "outputs": [
    {
     "name": "stdout",
     "output_type": "stream",
     "text": [
      "I don't know.\n"
     ]
    }
   ],
   "source": [
    "question = \"And then what did they do? Also tell me the source\" \n",
    "answer = execute_chain(rag_chain, question)\n",
    "print(answer.content)"
   ]
  },
  {
   "cell_type": "markdown",
   "id": "bf71e1b7-7a7a-4dcf-8cad-43fa43fcf09d",
   "metadata": {},
   "source": [
    "## Tracing with LangSmith"
   ]
  },
  {
   "cell_type": "code",
   "execution_count": 172,
   "id": "0e817ec3-6e94-4a82-b1a7-8ab641a48080",
   "metadata": {},
   "outputs": [],
   "source": [
    "from langsmith import trace\n",
    "from langsmith import Client, traceable"
   ]
  },
  {
   "cell_type": "code",
   "execution_count": 173,
   "id": "f567cd13-d121-49b2-a36a-3896ba8a67e6",
   "metadata": {},
   "outputs": [
    {
     "name": "stdin",
     "output_type": "stream",
     "text": [
      "Enter your LANGSMITH_API_KEY ········\n"
     ]
    }
   ],
   "source": [
    "LANGSMITH_API_KEY= getpass.getpass('Enter your LANGSMITH_API_KEY')"
   ]
  },
  {
   "cell_type": "code",
   "execution_count": 175,
   "id": "4bc737dc-2d4c-402c-b7e8-af8df0c47fd1",
   "metadata": {},
   "outputs": [],
   "source": [
    "langsmith_client = Client(\n",
    "    api_key=LANGSMITH_API_KEY,\n",
    "    api_url=\"https://api.smith.langchain.com\",  \n",
    ")"
   ]
  },
  {
   "cell_type": "code",
   "execution_count": 190,
   "id": "68788575-4418-4943-8efc-9629f69e85bc",
   "metadata": {},
   "outputs": [
    {
     "name": "stdout",
     "output_type": "stream",
     "text": [
      "content='Poseidonia, later renamed Paestum, was an ancient Greek city located in southern Italy near the coast of the Tyrrhenian Sea. The city was renamed to Paestum by the Romans after they took over in 273 BC. The information is from the source: https://en.wikipedia.org/wiki/Paestum.' response_metadata={'token_usage': {'completion_tokens': 68, 'prompt_tokens': 1490, 'total_tokens': 1558}, 'model_name': 'gpt-3.5-turbo-0125', 'system_fingerprint': None, 'finish_reason': 'stop', 'logprobs': None} id='run-cba3219f-8a1e-413e-a895-fe63ff8a9e2a-0' usage_metadata={'input_tokens': 1490, 'output_tokens': 68, 'total_tokens': 1558}\n"
     ]
    }
   ],
   "source": [
    "question = \"Where was Poseidonia and who renamed it to Paestum. Also tell me the source.\" \n",
    "with trace(\"Chat Pipeline\", \"chain\", project_name=\"Q&A chatbot\", inputs={\"input\": question}, client=langsmith_client) as rt:\n",
    "    answer = execute_chain(rag_chain, question)\n",
    "    print(answer)\n",
    "    rt.end(outputs={\"output\": answer})"
   ]
  },
  {
   "cell_type": "markdown",
   "id": "ade41e33-062d-473f-963a-9d1bc96bb7bd",
   "metadata": {},
   "source": [
    "## Setting up Q&A chain with RetrievalQA"
   ]
  },
  {
   "cell_type": "code",
   "execution_count": 191,
   "id": "b22731bc-469e-4c62-9dc3-bed63a498bdd",
   "metadata": {},
   "outputs": [],
   "source": [
    "from langchain.chains import RetrievalQA\n",
    "rag_chain = RetrievalQA.from_chain_type(llm=chatbot, chain_type=\"stuff\", retriever=retriever, return_source_documents=False)"
   ]
  },
  {
   "cell_type": "code",
   "execution_count": 194,
   "id": "8b7ab2fe-e21c-412f-a35b-177b58d452ae",
   "metadata": {},
   "outputs": [
    {
     "name": "stdout",
     "output_type": "stream",
     "text": [
      "{'query': 'Where was Poseidonia and who renamed it to Paestum. Also tell me the source.', 'result': 'Poseidonia was an ancient city in southern Italy, near the west coast. It was eventually conquered by the local Lucanians who renamed it to Paistos. The Romans later gave the city its current name, Paestum. The source for this information is the article on Paestum by the Editors of Encyclopaedia Britannica.'}\n"
     ]
    }
   ],
   "source": [
    "question = \"Where was Poseidonia and who renamed it to Paestum. Also tell me the source.\" \n",
    "with trace(\"RetrievalQA\", \"chain\", project_name=\"Q&A chatbot\", inputs={\"input\": question}, client=langsmith_client) as rt:\n",
    "    answer = execute_chain(rag_chain, question)\n",
    "    print(answer)\n",
    "    rt.end(outputs={\"output\": answer})"
   ]
  },
  {
   "cell_type": "markdown",
   "id": "e26b855e-4649-416e-b33a-9db42dce383a",
   "metadata": {},
   "source": [
    "## Chatbot memory of message history"
   ]
  },
  {
   "cell_type": "code",
   "execution_count": 92,
   "id": "567d70ca-2a72-4dc2-9f41-034d665aba89",
   "metadata": {},
   "outputs": [],
   "source": [
    "from langchain.schema.runnable import RunnablePassthrough\n",
    "from langchain_openai import ChatOpenAI\n",
    "from langchain_core.prompts import ChatPromptTemplate\n",
    "from langchain_community.chat_message_histories import ChatMessageHistory\n",
    "from langchain_core.runnables import RunnableLambda\n",
    "\n",
    "rag_prompt = ChatPromptTemplate.from_messages(\n",
    "    [\n",
    "        (\"system\", \"You are a helpful assistant, world-class expert in Roman and Greek history, especially in towns located in southern Italy. Provide interesting insights on local history and recommend places to visit with knowledgeable and engaging answers. Answer all questions to the best of your ability, but only use what has been provided in the context. If you don't know, just say you don't know.\"),\n",
    "        (\"placeholder\", \"{chat_history_messages}\"),\n",
    "        (\"assistant\", \"{retrieved_context}\"),\n",
    "        (\"human\", \"{question}\"),\n",
    "    ]\n",
    ")\n",
    "\n",
    "retriever = vector_db.as_retriever()\n",
    "question_feeder = RunnablePassthrough()\n",
    "chatbot = ChatOpenAI(openai_api_key=OPENAI_API_KEY, model_name=\"gpt-4o-mini\")\n",
    "chat_history_memory = ChatMessageHistory()\n",
    "\n",
    "def get_messages(x):\n",
    "    return chat_history_memory.messages\n",
    "\n",
    "rag_chain = {\n",
    "    \"retrieved_context\": retriever, \n",
    "    \"question\": question_feeder,\n",
    "    \"chat_history_messages\": RunnableLambda(get_messages)\n",
    "} | rag_prompt | chatbot\n",
    "\n",
    "def execute_chain_with_memory(chain, question):\n",
    "    chat_history_memory.add_user_message(question)\n",
    "    answer = chain.invoke(question)\n",
    "    chat_history_memory.add_ai_message(answer)\n",
    "    print(f'Full chat message history: {chat_history_memory.messages}\\n\\n')                                      \n",
    "    return answer"
   ]
  },
  {
   "cell_type": "code",
   "execution_count": 93,
   "id": "5a7095fe-498d-46e8-9bf7-c7af56062bbc",
   "metadata": {},
   "outputs": [
    {
     "name": "stdout",
     "output_type": "stream",
     "text": [
      "Full chat message history: [HumanMessage(content='Where was Poseidonia and who renamed it to Paestum? Also tell me the source.'), AIMessage(content='Poseidonia was an ancient Greek city located on the coast of the Tyrrhenian Sea in what is now southern Italy. It was established around 600 BC by settlers from Sybaris. The city was later conquered by the Lucanians, an indigenous Italic people, who renamed it to Paistos. Eventually, when the Romans took control in 273 BC, they renamed the city Paestum.\\n\\nThe source for this information includes details from an article on Wikipedia about Paestum.', response_metadata={'token_usage': {'completion_tokens': 100, 'prompt_tokens': 1830, 'total_tokens': 1930}, 'model_name': 'gpt-4o-mini-2024-07-18', 'system_fingerprint': 'fp_9b0abffe81', 'finish_reason': 'stop', 'logprobs': None}, id='run-d0797065-f0ef-4d96-8f46-7e59d27870bd-0', usage_metadata={'input_tokens': 1830, 'output_tokens': 100, 'total_tokens': 1930})]\n",
      "\n",
      "\n",
      "Poseidonia was an ancient Greek city located on the coast of the Tyrrhenian Sea in what is now southern Italy. It was established around 600 BC by settlers from Sybaris. The city was later conquered by the Lucanians, an indigenous Italic people, who renamed it to Paistos. Eventually, when the Romans took control in 273 BC, they renamed the city Paestum.\n",
      "\n",
      "The source for this information includes details from an article on Wikipedia about Paestum.\n"
     ]
    }
   ],
   "source": [
    "question = \"Where was Poseidonia and who renamed it to Paestum? Also tell me the source.\" \n",
    "answer = execute_chain_with_memory(rag_chain, question)\n",
    "print(answer.content)\n"
   ]
  },
  {
   "cell_type": "code",
   "execution_count": 94,
   "id": "238dbdad-9737-4e4b-9a87-98828e493aae",
   "metadata": {},
   "outputs": [
    {
     "name": "stdout",
     "output_type": "stream",
     "text": [
      "Full chat message history: [HumanMessage(content='Where was Poseidonia and who renamed it to Paestum? Also tell me the source.'), AIMessage(content='Poseidonia was an ancient Greek city located on the coast of the Tyrrhenian Sea in what is now southern Italy. It was established around 600 BC by settlers from Sybaris. The city was later conquered by the Lucanians, an indigenous Italic people, who renamed it to Paistos. Eventually, when the Romans took control in 273 BC, they renamed the city Paestum.\\n\\nThe source for this information includes details from an article on Wikipedia about Paestum.', response_metadata={'token_usage': {'completion_tokens': 100, 'prompt_tokens': 1830, 'total_tokens': 1930}, 'model_name': 'gpt-4o-mini-2024-07-18', 'system_fingerprint': 'fp_9b0abffe81', 'finish_reason': 'stop', 'logprobs': None}, id='run-d0797065-f0ef-4d96-8f46-7e59d27870bd-0', usage_metadata={'input_tokens': 1830, 'output_tokens': 100, 'total_tokens': 1930}), HumanMessage(content='And then what did they do? Also tell me the source'), AIMessage(content='After being renamed Paestum, the city continued to thrive, especially during the Roman period. The Romans recognized the strategic importance of Paestum due to its location and agricultural potential. They developed the town further, enhancing its infrastructure, which included the construction of roads, temples, and public buildings. The city became famous for its well-preserved Greek temples, such as the Temple of Hera, the Temple of Neptune, and the Basilica, which are notable examples of ancient Greek architecture.\\n\\nOver time, however, Paestum experienced decline due to factors such as malaria, shifts in trade routes, and the collapse of the Roman Empire. The city was eventually abandoned. \\n\\nThe source for this information includes details from articles on Wikipedia about Paestum and its historical context.', response_metadata={'token_usage': {'completion_tokens': 154, 'prompt_tokens': 1771, 'total_tokens': 1925}, 'model_name': 'gpt-4o-mini-2024-07-18', 'system_fingerprint': 'fp_9b0abffe81', 'finish_reason': 'stop', 'logprobs': None}, id='run-c7bf8b82-41ae-47db-8053-fb51c20ccf0d-0', usage_metadata={'input_tokens': 1771, 'output_tokens': 154, 'total_tokens': 1925})]\n",
      "\n",
      "\n",
      "After being renamed Paestum, the city continued to thrive, especially during the Roman period. The Romans recognized the strategic importance of Paestum due to its location and agricultural potential. They developed the town further, enhancing its infrastructure, which included the construction of roads, temples, and public buildings. The city became famous for its well-preserved Greek temples, such as the Temple of Hera, the Temple of Neptune, and the Basilica, which are notable examples of ancient Greek architecture.\n",
      "\n",
      "Over time, however, Paestum experienced decline due to factors such as malaria, shifts in trade routes, and the collapse of the Roman Empire. The city was eventually abandoned. \n",
      "\n",
      "The source for this information includes details from articles on Wikipedia about Paestum and its historical context.\n"
     ]
    }
   ],
   "source": [
    "question = \"And then what did they do? Also tell me the source\" \n",
    "answer = execute_chain_with_memory(rag_chain, question)\n",
    "print(answer.content)"
   ]
  },
  {
   "cell_type": "code",
   "execution_count": null,
   "id": "3c058846-c50e-480d-a1ec-fb186cb98355",
   "metadata": {},
   "outputs": [],
   "source": []
  }
 ],
 "metadata": {
  "kernelspec": {
   "display_name": "Python 3 (ipykernel)",
   "language": "python",
   "name": "python3"
  },
  "language_info": {
   "codemirror_mode": {
    "name": "ipython",
    "version": 3
   },
   "file_extension": ".py",
   "mimetype": "text/x-python",
   "name": "python",
   "nbconvert_exporter": "python",
   "pygments_lexer": "ipython3",
   "version": "3.11.9"
  }
 },
 "nbformat": 4,
 "nbformat_minor": 5
}
