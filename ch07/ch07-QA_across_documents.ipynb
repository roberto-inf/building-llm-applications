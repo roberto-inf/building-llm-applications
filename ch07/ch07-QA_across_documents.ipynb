{
 "cells": [
  {
   "cell_type": "markdown",
   "id": "c4511fcd-456f-4612-91cf-40efb9592858",
   "metadata": {},
   "source": [
    "# Q&A across documents with LangChain and LangSmith"
   ]
  },
  {
   "cell_type": "code",
   "execution_count": 9,
   "id": "df920cd9-31be-4bf6-916d-25083625d8f7",
   "metadata": {},
   "outputs": [],
   "source": [
    "from langchain.document_loaders import WikipediaLoader, Docx2txtLoader, PyPDFLoader, TextLoader\n",
    "\n",
    "from langchain.vectorstores import Chroma\n",
    "from langchain.text_splitter import RecursiveCharacterTextSplitter\n",
    "from langchain_openai import OpenAIEmbeddings"
   ]
  },
  {
   "cell_type": "code",
   "execution_count": 10,
   "id": "85b14068-78d4-47ae-8fce-a95d9055120b",
   "metadata": {},
   "outputs": [
    {
     "name": "stdin",
     "output_type": "stream",
     "text": [
      "Enter your OPENAI_API_KEY ········\n"
     ]
    }
   ],
   "source": [
    "import getpass\n",
    "OPENAI_API_KEY = getpass.getpass('Enter your OPENAI_API_KEY')"
   ]
  },
  {
   "cell_type": "markdown",
   "id": "cd2b5787-105a-44a9-90a9-fdb3e026aa7d",
   "metadata": {},
   "source": [
    "## Setting up vector database and embeddings"
   ]
  },
  {
   "cell_type": "code",
   "execution_count": 11,
   "id": "33f0e3ba-c17f-454f-b62f-a1311438e316",
   "metadata": {},
   "outputs": [],
   "source": [
    "text_splitter = RecursiveCharacterTextSplitter(chunk_size=500, chunk_overlap=0)\n",
    "embeddings_model = OpenAIEmbeddings(openai_api_key=OPENAI_API_KEY)\n",
    "vector_db = Chroma(\"tourist_info\", embeddings_model)"
   ]
  },
  {
   "cell_type": "code",
   "execution_count": 12,
   "id": "8e1eff7c-bdb9-44c5-96f6-ab3b50847f8a",
   "metadata": {},
   "outputs": [
    {
     "data": {
      "text/plain": [
       "['c67f4488-3436-40c3-b33d-4202e95ad521',\n",
       " 'b7a94ed5-443f-4a75-a6cd-eb51dcc7a653',\n",
       " '5ee7d575-5051-4018-9f88-b0509b4fab04',\n",
       " 'aa488be7-6bb7-4105-a481-1ee763f79525',\n",
       " '57797de2-7d7d-4153-bd5c-c1e8238be76b',\n",
       " 'a50a3cc2-0831-45c6-bf37-ed4f80eabc2e',\n",
       " '6334e94e-b3ec-427c-94ce-5995c497bc14',\n",
       " 'b771496d-b31a-4908-94cf-96e514e8ee2b',\n",
       " '76d7345a-2448-4c42-9700-7e00d12849ae',\n",
       " '90045e56-0935-411e-b644-a2ea8c34bba5',\n",
       " '3bdd38da-229b-43ae-a1f0-1d1dfdc40582',\n",
       " 'a9afb413-bb4a-4e41-b9ec-f08bbaf42c52',\n",
       " '14a24d74-e99f-40ea-b454-938ab318384b',\n",
       " 'bf006188-0ab8-42be-9de4-2e871dd5c478',\n",
       " 'f105e2f3-f39a-4107-8cc8-a62c9346ead1',\n",
       " '28892732-0d38-46d9-832a-12caec5c24f0',\n",
       " '797b8799-4184-4e12-a93b-e8779691584b',\n",
       " '3c23dfbe-0958-4499-a4a1-d29fdf96a7ef',\n",
       " '44bd7597-c424-4e16-b10b-0b13cddc75c0',\n",
       " 'bc7bb531-e02c-4850-acd6-c0f99306dfca',\n",
       " '4ca40b63-23a4-4954-8e77-b0cdfdb906cb',\n",
       " 'c0a43e11-3a68-4aaa-abbe-c672c0869223',\n",
       " '7edc5ceb-af19-4708-a789-ce0a79498aa7',\n",
       " 'a3f98e2c-0b54-46a0-8153-81c95ccb3a98',\n",
       " '7e809382-d687-4e32-b586-ec92e3b99a33',\n",
       " '0727efe9-8fd3-4385-9b9d-136967aea267',\n",
       " 'bad85efd-c44e-475f-ab53-88ea9e637eb5',\n",
       " '9756f30a-2d55-4a17-a9c6-2bf1e6828d43',\n",
       " '88e1fb34-2f40-44fe-bb73-557e67747413',\n",
       " '8eced18e-a6d7-4366-81e6-77e425a1b591',\n",
       " '03a2644f-d0d1-4067-b0dd-bf232ce52eeb',\n",
       " 'd88e3b5c-ed71-4db7-876e-5a330cab0163',\n",
       " '8be67cd8-b4b9-4a6e-8e3d-0cab6a33e898',\n",
       " 'ed1ae651-ba5b-4155-a004-cc5e3691e512',\n",
       " 'a87b9ca1-a806-4404-b8c0-3f216a3bd000',\n",
       " '494cf953-b150-4fb6-a8d6-db2d0f6a25b2',\n",
       " '359fe48c-75ef-4b01-a50d-4cc9e6bbb816',\n",
       " 'fd2f7bf8-2f4e-4507-ab77-4615ff5887c3',\n",
       " '2f98b640-3d17-46f4-804a-d98a602f1cc5',\n",
       " 'f226dea8-b2e0-481e-8d09-7d64aa9f6b2f',\n",
       " 'ca334d55-2e03-411e-aace-c8a416a1d079',\n",
       " '5aa84e83-1a3a-4287-bcb3-0bc69caa6182',\n",
       " 'f5ffe6d2-8c06-40d9-b877-87c472eda735',\n",
       " '56969903-1017-4ab8-934d-6e05314d34dd',\n",
       " '9e7b188c-969c-4481-8c48-525747091454',\n",
       " '69461e48-f209-4d66-ae8d-f4f0493c1792',\n",
       " 'b4f6f685-2100-478c-adc1-523849345426',\n",
       " '96aec563-0bfd-4dfc-aac7-938481c32ba9',\n",
       " '687d561e-2c10-4dcf-ad39-0e4e3aa38005',\n",
       " '477add75-bd44-4bf2-bccc-1522551e62f7',\n",
       " '42587fdb-5062-4553-b5d4-ee72f02a7c52',\n",
       " 'a2e69520-0834-49e6-b162-7b712fd89f08',\n",
       " '7cbee4b9-ffb9-47a7-82f7-6489b1105832',\n",
       " '214ff4af-4125-4a38-b3af-0875bc484e2e',\n",
       " '005d6011-5253-42e1-b84d-3725455d014c',\n",
       " '34281ae3-511a-4717-90c7-990e85d55a67',\n",
       " 'de07cf14-ca27-489d-9896-59d2a64617c3',\n",
       " '4440f166-8a53-4560-9998-8bb4607e8b85',\n",
       " '3a0578d1-3138-4305-a0ae-556609036518',\n",
       " '28953052-1811-4804-bf5e-25c38d5f907b',\n",
       " 'e138d85c-1084-4e1d-8cd9-d7b74bbe8296',\n",
       " '66702db7-e4ab-4a37-9d36-f4e59a99d404',\n",
       " '841babac-577c-4bee-9d48-89c05fc286ef',\n",
       " '6f3d83bb-96e9-45a1-9932-ad36256c8b90',\n",
       " '5b3cd102-7c29-4834-bb23-e568dfebb1c3',\n",
       " '36d218f7-be52-4e43-8535-12d38b2abc8a',\n",
       " '26638576-34d2-47a4-b14c-793d79328bbf',\n",
       " '6dc1fe1b-5a88-4c4f-a99f-95b74a880f47',\n",
       " '79e3bff5-e9dc-45af-909e-e899ed33daa0',\n",
       " '1fe48a87-79cb-4d77-a4c0-bdebe0ce057c',\n",
       " 'aeaa4833-4f96-465d-bdfe-5db61ea59494',\n",
       " '4a10320f-c766-462d-9429-ef44b0d20abf',\n",
       " '73c9d00f-7664-441f-8ad9-018fb0620d09',\n",
       " 'a044b785-7bc4-4cff-bf5a-b2fe20a176dd',\n",
       " 'da7f358c-21d6-4eb8-96cd-b0a6d95f1cc0',\n",
       " 'cfbe9da0-e807-4828-ba73-2c34a40b6d55',\n",
       " '1527c05c-9c31-46f3-9cb1-cf1f51b65013',\n",
       " 'aa4c0891-ef54-42dc-9daa-d14af23409dd',\n",
       " '1e589206-77ae-41d0-8a01-47db0989b31f',\n",
       " 'de59b5bb-4ef2-4b50-9cf1-5d35058da55d',\n",
       " 'f9abed17-9e74-4df9-b108-0b8480d36ad9',\n",
       " '67f217af-9971-48b1-a430-982e7c847793',\n",
       " 'ff76ff50-9ce8-453b-8e97-625c88570155',\n",
       " 'b4f98d10-45f5-4488-a85f-d9e4b1cba15c',\n",
       " '55720fc5-3f9d-4032-a86e-a03ec83e976a',\n",
       " '44b75c05-c503-42be-a03f-454a32c959a5',\n",
       " '52c39652-c5b0-44a0-a7e0-1d7be6ae57dd',\n",
       " '00e8ff6f-28fc-4936-af10-182a29818e64',\n",
       " '77d05915-24ae-47a6-b662-358d13d0608c',\n",
       " '3d0b3fc3-2f6d-41b1-9887-b6f3a6948a5a',\n",
       " '2e284620-9060-4d1d-ba2b-0821dcafb951',\n",
       " 'a8de51f0-5ead-400a-94f3-687dccddeb41',\n",
       " 'b984548d-7fa2-4db4-b1a3-153ee8af17fd',\n",
       " '7ef7849f-a47e-437d-8930-0d6248fcb0c2',\n",
       " '690e39d1-e99f-4e2a-9d2a-4ffaacdf6df0',\n",
       " '70e0c037-ad4e-44fb-b9e7-d9895d7c5ad3',\n",
       " '80aa6bdb-9522-436f-96ae-a5b88af762bf',\n",
       " '76944952-e5e0-4bc5-a54f-cd85ae5e343e',\n",
       " '9809e4ae-75a7-4314-9fc4-f1a2039b7888',\n",
       " '741790d8-672f-4fce-82f0-33c9d32edab8',\n",
       " 'b23d141c-e09e-4cf9-971f-32f9423d68be',\n",
       " '4ec61f45-226c-4255-8261-0b468ff9fe51',\n",
       " 'a246cdfe-76c6-40b2-8e65-87dd61df07aa',\n",
       " '97e1953b-561e-4554-8d8e-c229b0cc480b',\n",
       " '33fe017d-d15a-45c7-a6e2-87d60ab4cf8f',\n",
       " 'abefa994-c37d-43d9-b052-e45984d29eb7',\n",
       " 'cdb62efb-06cc-4a18-a305-2f6e61290616',\n",
       " 'a57576e6-d9cc-4f7d-8f98-b2b11ba9958c',\n",
       " '86c4cd22-4984-4b17-8548-732c61233331',\n",
       " '33dcae5b-695a-41b0-8684-bee43e54cd49',\n",
       " '15e1bb47-29d8-4bca-a517-52698244756e',\n",
       " 'c3694570-594d-40fd-9640-927de4a9cfa9',\n",
       " '1c0b4469-27c0-4aee-9ae3-2b79bbdcda11',\n",
       " '2b1cc571-1ce2-4d20-b8d1-d48a2385f94b',\n",
       " 'd4b02b30-5b8d-4f20-8417-29853902a612',\n",
       " '4478a832-0bfe-4507-a7dc-a6ac213fb9eb',\n",
       " 'fbf5e30b-9c8c-465f-b51f-8d904a59ffe4',\n",
       " 'd96ad8a6-bb86-45aa-92b1-f400b3d256dc',\n",
       " 'd2dcea8e-2d1f-488a-8852-5d1fb15820e7',\n",
       " '0e20eb33-a3bb-477a-b7c1-d6ec32f76af9',\n",
       " '0b08ef72-cbe7-4e8c-858c-69055cd0a844',\n",
       " '91d4d29c-c54a-45e8-ab33-b114ac23a2d1',\n",
       " '8b4f00c6-edfc-4ceb-92b0-f3d1e336d03d',\n",
       " '46a62b4f-e965-4364-911d-dcb79df5f9a7',\n",
       " '134bf084-d548-49e2-91dd-bd8498413900',\n",
       " '656baccb-8c5a-4bc1-a605-ea275fc25e6b',\n",
       " '0cab5006-da20-49b2-a15a-e46f6a2d8e18',\n",
       " 'd1fe32ac-8f18-4f99-a401-128e54554bd0',\n",
       " 'd9238ee7-c683-417d-b91f-80f502ca3c37',\n",
       " 'd3890023-ef70-40e5-8f78-a7cc3b70217e',\n",
       " 'd7142a77-0f58-4784-88e5-fb20f5666009',\n",
       " '848c097a-ff03-4025-abea-544c16badf4d',\n",
       " '58130fee-8fc7-4da7-8486-09750efe7a1e',\n",
       " '9f7c6f59-e2b3-4503-99a8-f2b1b8011401',\n",
       " '14e7f534-d2e4-4471-b52b-b75a009cbe1d',\n",
       " '60b4c5af-1c2b-410e-82a1-4cc1438ba05b',\n",
       " '89912919-dedf-4058-a79d-6f0b87cd1d93',\n",
       " '8166ad5e-5df2-4495-8eba-9cf37f335fb3',\n",
       " 'cdbe9ad2-2006-47b8-96d4-117a6d1275db',\n",
       " '4a996b18-21bb-4016-ba33-78317107309e',\n",
       " '8b008974-a840-4fd3-842d-ed02f41b0498',\n",
       " 'a2f39aba-fdc9-40d9-82e4-dfab98468e06',\n",
       " 'ef0c53ca-74a1-4b96-805c-9b4bd2aac6d6',\n",
       " 'f494a4b3-ddbf-492b-a9fd-363d4fc01abd',\n",
       " '0f8ee3e3-f512-4be5-8fa6-d2accae15d38',\n",
       " '53de1799-63fa-4f2a-89a7-29c760557c9f',\n",
       " '948c446f-fbe9-4010-a24d-075f8663c128',\n",
       " '9119b118-58d2-4d33-9063-74daed446c2e',\n",
       " 'b1c36f3c-ecb5-4357-9474-ffe982d6a0ac',\n",
       " 'a6257083-48e1-40c8-ba39-2365dacf3cef',\n",
       " '9c2074d5-2218-4a04-8c39-c2f9cb5d38dd',\n",
       " 'f17e9f35-b1de-490e-8bc6-f23e976d9606',\n",
       " '9846d7cf-4269-40fb-8540-952e7e9e4a66',\n",
       " '497cb38f-7d0c-46d3-9ed5-bf8c65f830ac',\n",
       " '700cd6a7-d7d7-4549-8055-a04191126250',\n",
       " 'f07ff339-9557-4558-9cf9-0c9557ce8e84',\n",
       " 'f878115e-a3b6-4ad0-83d6-95fe1429026a',\n",
       " 'b9ab1726-60e4-4a70-b415-944bde18d7dd',\n",
       " '703366c2-165d-48c9-8912-8c676322ee54',\n",
       " 'ad49ba9b-0bcc-4d0a-b110-7537c7627f67',\n",
       " 'b6594bd6-f38a-42a1-8785-63d7ead11d0c',\n",
       " '49ab1d3d-9da4-4da0-825d-9701a354ca44',\n",
       " '652ba587-9ca8-4242-a159-56d113d22116',\n",
       " '713e5508-fc45-4b60-98f7-ef960e2aa039',\n",
       " '52ce8a90-6a55-43a4-9fd4-e7569f049432',\n",
       " '449a2e89-6a37-4938-8a01-bc01040080fd',\n",
       " 'def1c80b-c493-4926-a56e-1c0c26cfa417',\n",
       " '1faec8e8-aefb-41e1-92cb-3d1a47013ee0',\n",
       " '347eabb4-1699-47d9-be78-acb18ec5b31d',\n",
       " '05e20741-cf87-4438-876c-83d2bab5e335',\n",
       " 'ac09cb5b-5fc0-4295-a9b9-53970fd20b9d',\n",
       " 'a9f27095-ba54-47e6-81ad-b936be6c72b1',\n",
       " '763ad6ca-68a7-4e08-806a-da124c3357ec',\n",
       " 'be48d473-3cab-4e13-90b3-74eec3c8b4d4',\n",
       " '46d8f887-4daa-46f0-ab7d-b67a390d224f',\n",
       " '8c41fc4e-6de9-499d-bc3f-87a317a75123',\n",
       " '10678540-9d77-4e44-976a-92dfe0fe9ea5',\n",
       " '27515d9f-f16e-4fa4-85aa-2e49f0ad8958',\n",
       " '94add1db-e348-4c43-b334-b401f8853863',\n",
       " '1d0b2a22-99ad-4250-ad78-65aa9f9e9ae0',\n",
       " '3118ff83-1b4a-49be-827b-c9d0aacca1e4',\n",
       " 'b4698670-844b-4665-862f-b8921375d34e',\n",
       " '97e52d53-f313-436f-a03e-86d073c76a57',\n",
       " 'f200c103-9a75-4e25-9fca-8ac6503b7e2e',\n",
       " '905600e5-6d36-451d-8185-d0c9f88b37c7',\n",
       " 'e2452e61-4087-4f0b-adc6-20340dc57c7a',\n",
       " '58c0dad7-ac3b-4578-94b1-0092263728b0',\n",
       " '649c568e-cbbb-4e93-b763-2ccc078ae86e',\n",
       " '24173ddc-cb3b-46f0-b828-22d1f0c61dda',\n",
       " 'b368d020-bc87-421a-8e3c-0945aae488b2',\n",
       " '6dee4988-6cf9-4721-a1b9-1b0a167d52bf',\n",
       " '47ea44a2-f539-4f4f-b9a1-40ef3d789d84',\n",
       " 'f7ba80ce-8d2a-4c24-9a19-e41a17011530',\n",
       " 'cd900662-546b-49ad-89e8-9323d02d148b',\n",
       " 'ec0bb095-e26a-46d8-98af-9d428a6e4130',\n",
       " 'a9115aed-1436-4733-97b4-5d0cfb583a5a',\n",
       " 'bb0e9e6d-5986-4aff-ae7c-4f1c211b8bf5',\n",
       " 'fd262bd2-b2de-48f1-935d-adbb1245273e',\n",
       " '1daa34cc-aaed-4f42-b0c6-e71940f0b33e',\n",
       " 'd6a1b037-febc-4b00-a276-40d1a652ce78',\n",
       " 'bc356ede-8028-46a9-af51-c034b14f204a',\n",
       " '9f685dc9-90ce-4a63-a6dd-93493ad492d5',\n",
       " 'f8c8a58f-203c-4cf2-b94d-36e5874ee0b1',\n",
       " '4b14e727-6ec9-4320-9fa7-affa1b571054',\n",
       " '49129d45-15f6-4bf3-96e6-59be03bc5df1',\n",
       " 'f5712da3-08da-4199-9fa3-4449320847f1',\n",
       " 'e5460d91-f78f-41a9-8090-9a84ac55dd1d',\n",
       " 'ce3cb78f-f616-4286-90b5-e926ddc80461',\n",
       " '7cc664fd-812e-4def-b314-5ce37050874c',\n",
       " '63069b49-cf13-4562-ba7e-5bb0ae90907b',\n",
       " 'd1dbfa86-f2b1-43d9-91c1-21291e204613',\n",
       " '50672eea-6239-4ec2-af60-866619452ecb',\n",
       " '2e9a1ec8-873d-4e0f-94ad-43ac04433de5',\n",
       " '23d7eb30-3275-44de-ac2c-f767fc9814b9',\n",
       " 'b32220fb-b3ae-4691-8450-d60905a884b1',\n",
       " '481d3a5a-6d0f-4f81-953c-fc25d650427c',\n",
       " '90800418-4291-4b44-adca-e69c24d916b9',\n",
       " '70344e0c-1135-4f68-bf15-bb174c0eedc3',\n",
       " '4928cf9c-4624-494d-8a79-5073581fa6a6',\n",
       " '10accb69-d302-4707-8c06-68c0f451e73c',\n",
       " '037446a4-7919-449f-865c-6425896f17a7',\n",
       " '30d2ddad-25ba-4e60-b24e-62678c637ff7',\n",
       " 'f8753974-8467-4304-8770-35dd5ecd3b51',\n",
       " '2f6c18e3-ccc5-4c74-b3d8-3124cc384431',\n",
       " 'dd5a8b67-8c14-4582-a75c-35b3c9349759',\n",
       " 'a0d37d71-f0a9-470d-9056-be506897014b',\n",
       " 'fe052d88-cc51-45d8-bbe9-9969b8ad500b',\n",
       " 'd88e6016-b098-469e-9dfe-a44abe46776b',\n",
       " '1284570c-eb6a-4043-ab0e-241d77bf0b79',\n",
       " 'e95a61f8-8776-404b-b221-09b7d01d9d86',\n",
       " '0dda24f0-efb6-4fcb-8823-7ec4f24e31de',\n",
       " 'd6e50221-b5e2-4415-a2f1-85244b2573b7',\n",
       " '7e6001e3-bde7-41c2-97f2-0540fbcbeef5',\n",
       " '5447b71a-483c-42b5-b8cf-2ba0c5c42e96',\n",
       " '56d45080-d4f3-45fa-955e-250536604bff',\n",
       " '5926f546-bbc4-47bd-83a0-646f7d35615d',\n",
       " '8a34b1bd-fbb8-4f7e-b9e8-4961009698a5',\n",
       " 'd6830708-eb7c-46c8-9227-00c35482a778',\n",
       " '9a0e8250-f5a0-47dc-92aa-2ed12ae988f1']"
      ]
     },
     "execution_count": 12,
     "metadata": {},
     "output_type": "execute_result"
    }
   ],
   "source": [
    "wikipedia_loader = WikipediaLoader(query=\"Paestum\")\n",
    "wikipedia_chunks = text_splitter.split_documents(wikipedia_loader.load())\n",
    "vector_db.add_documents(wikipedia_chunks)"
   ]
  },
  {
   "cell_type": "code",
   "execution_count": 13,
   "id": "0ecc12c8-9564-417a-8a57-2072e70e84f6",
   "metadata": {},
   "outputs": [
    {
     "data": {
      "text/plain": [
       "['73dc2f2a-3b83-48b6-85a0-bf297680be48',\n",
       " 'c3a5d7b0-0eae-4df3-84c2-405ccdd25ea2',\n",
       " 'ad1e0761-9d06-4948-892d-503f0f66db3f',\n",
       " 'c24e5530-30a5-4b1c-8a36-b667225b6a0c',\n",
       " 'f898e086-e1f5-4d79-b326-bca5439ab9d3',\n",
       " '8f080b59-1567-4261-be5e-80806436ca76',\n",
       " '5aa596b6-1e48-4568-af16-3fa284cadbf3',\n",
       " 'c4d66768-31f3-468f-836b-345663161c66']"
      ]
     },
     "execution_count": 13,
     "metadata": {},
     "output_type": "execute_result"
    }
   ],
   "source": [
    "word_loader = Docx2txtLoader(\"Paestum/Paestum-Britannica.docx\")\n",
    "word_chunks = text_splitter.split_documents(word_loader.load())\n",
    "vector_db.add_documents(word_chunks)"
   ]
  },
  {
   "cell_type": "code",
   "execution_count": 14,
   "id": "b2cc85a1-48d4-4514-b4cb-9cceb3b8c2cb",
   "metadata": {},
   "outputs": [
    {
     "data": {
      "text/plain": [
       "['6750da07-de3b-4b30-be98-12e22c02c9f6',\n",
       " '99908427-253c-43c8-8d6c-eb4455c2c45a',\n",
       " '7579de27-7046-451c-ad0e-feff62408136',\n",
       " '89188cc7-d9f6-4097-bed7-afc0a6ba8861',\n",
       " '8cf71b0c-7d60-472c-a0b0-b6be70eb1ee7',\n",
       " 'a4f44a59-724b-40df-9ba6-133c44e02b53',\n",
       " '106d0f32-bdf8-4cc1-a285-112aca79619d',\n",
       " '8cb9810f-235c-4ac1-be95-5f59df6203ee',\n",
       " '03495e4d-4e2c-4086-90b8-0904cd440e41',\n",
       " '292d7f58-df86-469a-93d5-d52a89a1d4e5',\n",
       " 'fc7e11be-d112-43a1-a13d-62e2cab65e6d',\n",
       " 'd138be27-bad5-40a5-a374-0cf1776cccbb',\n",
       " '79189aae-3aae-44f2-a6d2-40199c916536',\n",
       " '7f580760-e21d-4382-b04f-df44cee89f1a',\n",
       " '7eabface-47a5-43da-a09b-a3a4c830c9bd',\n",
       " 'dbfb948c-13d9-49e4-8133-73a1e4261d21',\n",
       " '390668f0-fe98-4df9-87ba-d5686dcd0c4e',\n",
       " 'b532ad5c-c2d3-4e5d-a4f8-b3a1b123eebd',\n",
       " '3588191c-888a-4637-8af1-a64486320306',\n",
       " 'f3f8e92e-3ad3-402c-a936-63efa42287c1',\n",
       " '766f2381-314e-4be4-b832-ed0efd94508e',\n",
       " '9b36adde-4103-47d4-ac87-fd182be250c6',\n",
       " '151c4b24-6227-49ff-a606-94ea62597217',\n",
       " 'da204581-5862-4dfd-9828-065a49021757']"
      ]
     },
     "execution_count": 14,
     "metadata": {},
     "output_type": "execute_result"
    }
   ],
   "source": [
    "pdf_loader = PyPDFLoader(\"Paestum/PaestumRevisited.pdf\")\n",
    "pdf_chunks = text_splitter.split_documents(pdf_loader.load())\n",
    "vector_db.add_documents(pdf_chunks)"
   ]
  },
  {
   "cell_type": "code",
   "execution_count": 15,
   "id": "3dc54fb3-4af8-434c-90f0-3a694a4bb7ce",
   "metadata": {
    "scrolled": true
   },
   "outputs": [
    {
     "data": {
      "text/plain": [
       "['8105b154-0c41-4e8f-8465-49da779dc026']"
      ]
     },
     "execution_count": 15,
     "metadata": {},
     "output_type": "execute_result"
    }
   ],
   "source": [
    "txt_loader = TextLoader(\"Paestum/Paestum-Encyclopedia.txt\")\n",
    "txt_chunks = text_splitter.split_documents(txt_loader.load())\n",
    "vector_db.add_documents(txt_chunks)"
   ]
  },
  {
   "cell_type": "markdown",
   "id": "f9c3728b-10b3-4468-8c63-33d6748a2fd9",
   "metadata": {},
   "source": [
    "### Removing duplication"
   ]
  },
  {
   "cell_type": "code",
   "execution_count": 16,
   "id": "a000a48a-9d80-41e3-8571-7730b5844365",
   "metadata": {},
   "outputs": [],
   "source": [
    "def split_and_import(loader):\n",
    "     chunks = text_splitter.split_documents(loader.load())\n",
    "     vector_db.add_documents(chunks)\n",
    "     print(f\"Ingested chunks created by {loader}\")"
   ]
  },
  {
   "cell_type": "code",
   "execution_count": 17,
   "id": "146136d6-aec2-4e96-a1fa-05fca61d28e2",
   "metadata": {},
   "outputs": [
    {
     "name": "stdout",
     "output_type": "stream",
     "text": [
      "Ingested chunks created by <langchain_community.document_loaders.wikipedia.WikipediaLoader object at 0x00000283501B5A90>\n",
      "Ingested chunks created by <langchain_community.document_loaders.word_document.Docx2txtLoader object at 0x000002834F8BB310>\n",
      "Ingested chunks created by <langchain_community.document_loaders.pdf.PyPDFLoader object at 0x000002834F92B810>\n",
      "Ingested chunks created by <langchain_community.document_loaders.text.TextLoader object at 0x000002833D2027D0>\n"
     ]
    }
   ],
   "source": [
    "wikipedia_loader = WikipediaLoader(query=\"Paestum\")\n",
    "split_and_import(wikipedia_loader)\n",
    "\n",
    "word_loader = Docx2txtLoader(\"Paestum/Paestum-Britannica.docx\")\n",
    "split_and_import(word_loader)\n",
    "\n",
    "pdf_loader = PyPDFLoader(\"Paestum/PaestumRevisited.pdf\")\n",
    "split_and_import(pdf_loader)\n",
    "\n",
    "txt_loader = TextLoader(\"Paestum/Paestum-Encyclopedia.txt\")\n",
    "split_and_import(txt_loader)"
   ]
  },
  {
   "cell_type": "markdown",
   "id": "df7dbf7b-221c-4e88-964d-2ab98a294af3",
   "metadata": {},
   "source": [
    "## Ingesting Multiple Documents from a Folder (two techniques)"
   ]
  },
  {
   "cell_type": "markdown",
   "id": "6c8cde59-6e51-4d0d-b83b-3b30a9b0bf16",
   "metadata": {},
   "source": [
    "### 1) Iterating over all files in a folder"
   ]
  },
  {
   "cell_type": "code",
   "execution_count": 19,
   "id": "430cb87d-978f-4a81-9428-b9a40c605096",
   "metadata": {},
   "outputs": [],
   "source": [
    "loader_classes = {\n",
    "    'docx': Docx2txtLoader,\n",
    "    'pdf': PyPDFLoader,\n",
    "    'txt': TextLoader\n",
    "}"
   ]
  },
  {
   "cell_type": "code",
   "execution_count": 21,
   "id": "a31de028-ffec-44b9-973e-d2383697222e",
   "metadata": {},
   "outputs": [],
   "source": [
    "import os\n",
    "\n",
    "def get_loader(filename):\n",
    "    _, file_extension = os.path.splitext(filename) #A Extract the file extension\n",
    "    file_extension = file_extension.lstrip('.') #B Remove the leading dot from the extension\n",
    "    \n",
    "    loader_class = loader_classes.get(file_extension) #C Get the loader class from the dictionary\n",
    "    \n",
    "    if loader_class:\n",
    "        return loader_class(filename) #D Instantiate and return the correct loader\n",
    "    else:\n",
    "        raise ValueError(f\"No loader available for file extension '{file_extension}'\")"
   ]
  },
  {
   "cell_type": "markdown",
   "id": "1b45e9ed-ec13-4111-99ab-ff26107e2eed",
   "metadata": {},
   "source": [
    "#### Ingesting the files from the folder (Exercise solution)"
   ]
  },
  {
   "cell_type": "code",
   "execution_count": 33,
   "id": "1fc4c038-124c-44de-82c2-423c839da426",
   "metadata": {},
   "outputs": [
    {
     "name": "stdout",
     "output_type": "stream",
     "text": [
      "Loader for Acciaroli.pdf: <langchain_community.document_loaders.pdf.PyPDFLoader object at 0x000001EAC00E5D50>\n",
      "Ingested chunks created by <langchain_community.document_loaders.pdf.PyPDFLoader object at 0x000001EAC00E5D50>\n",
      "Loader for Cape Palinuro.txt: <langchain_community.document_loaders.text.TextLoader object at 0x000001EAC00E6490>\n",
      "Ingested chunks created by <langchain_community.document_loaders.text.TextLoader object at 0x000001EAC00E6490>\n",
      "Loader for Casalvelino.txt: <langchain_community.document_loaders.text.TextLoader object at 0x000001EAC00E4850>\n",
      "Ingested chunks created by <langchain_community.document_loaders.text.TextLoader object at 0x000001EAC00E4850>\n",
      "Loader for Cilentan coast.docx: <langchain_community.document_loaders.word_document.Docx2txtLoader object at 0x000001EABF733E90>\n",
      "Ingested chunks created by <langchain_community.document_loaders.word_document.Docx2txtLoader object at 0x000001EABF733E90>\n",
      "Loader for Cilento Coast Map and Travel Guide.docx: <langchain_community.document_loaders.word_document.Docx2txtLoader object at 0x000001EABACD0650>\n",
      "Ingested chunks created by <langchain_community.document_loaders.word_document.Docx2txtLoader object at 0x000001EABACD0650>\n",
      "Loader for Cilento DOC.pdf: <langchain_community.document_loaders.pdf.PyPDFLoader object at 0x000001EABA4C0810>\n",
      "Ingested chunks created by <langchain_community.document_loaders.pdf.PyPDFLoader object at 0x000001EABA4C0810>\n",
      "Loader for Cilento Park.txt: <langchain_community.document_loaders.text.TextLoader object at 0x000001EABACD0650>\n",
      "Ingested chunks created by <langchain_community.document_loaders.text.TextLoader object at 0x000001EABACD0650>\n",
      "Loader for Cilento.docx: <langchain_community.document_loaders.word_document.Docx2txtLoader object at 0x000001EABAB7BFD0>\n",
      "Ingested chunks created by <langchain_community.document_loaders.word_document.Docx2txtLoader object at 0x000001EABAB7BFD0>\n",
      "Loader for Cilento.pdf: <langchain_community.document_loaders.pdf.PyPDFLoader object at 0x000001EABC08BB90>\n",
      "Ingested chunks created by <langchain_community.document_loaders.pdf.PyPDFLoader object at 0x000001EABC08BB90>\n",
      "Loader for Marina di Camerota info.pdf: <langchain_community.document_loaders.pdf.PyPDFLoader object at 0x000001EABB4DB3D0>\n",
      "Ingested chunks created by <langchain_community.document_loaders.pdf.PyPDFLoader object at 0x000001EABB4DB3D0>\n",
      "Loader for Marina di Camerota.docx: <langchain_community.document_loaders.word_document.Docx2txtLoader object at 0x000001EABA48AD50>\n",
      "Ingested chunks created by <langchain_community.document_loaders.word_document.Docx2txtLoader object at 0x000001EABA48AD50>\n",
      "Loader for NationalParkOfCilentoAndValloDiDiano.txt: <langchain_community.document_loaders.text.TextLoader object at 0x000001EABF73EA50>\n",
      "Ingested chunks created by <langchain_community.document_loaders.text.TextLoader object at 0x000001EABF73EA50>\n",
      "Loader for Parco Nazionale del Cilento.pdf: <langchain_community.document_loaders.pdf.PyPDFLoader object at 0x000001EABAB6C5D0>\n",
      "Ingested chunks created by <langchain_community.document_loaders.pdf.PyPDFLoader object at 0x000001EABAB6C5D0>\n",
      "Loader for Parmenides.docx: <langchain_community.document_loaders.word_document.Docx2txtLoader object at 0x000001EABD0B4710>\n",
      "Ingested chunks created by <langchain_community.document_loaders.word_document.Docx2txtLoader object at 0x000001EABD0B4710>\n",
      "Loader for Santa Maria di Castellabate.docx: <langchain_community.document_loaders.word_document.Docx2txtLoader object at 0x000001EABF939F90>\n",
      "Ingested chunks created by <langchain_community.document_loaders.word_document.Docx2txtLoader object at 0x000001EABF939F90>\n",
      "Loader for Velia.pdf: <langchain_community.document_loaders.pdf.PyPDFLoader object at 0x000001EABF938ED0>\n",
      "Ingested chunks created by <langchain_community.document_loaders.pdf.PyPDFLoader object at 0x000001EABF938ED0>\n"
     ]
    }
   ],
   "source": [
    "folder_path = \"CilentoTouristInfo\" #A Path to the folder containing the documents\n",
    "\n",
    "for filename in os.listdir(folder_path): #B iterate over the files in the path\n",
    "    file_path = os.path.join(folder_path, filename) #C Construct the full path to the file\n",
    "   \n",
    "    if os.path.isfile(file_path): #D Check if it is a file (not a directory)\n",
    "        try:\n",
    "            loader = get_loader(file_path) #E Instantiate the correct loader for the file\n",
    "            print(f\"Loader for {filename}: {loader}\")\n",
    "            split_and_import(loader) #F Split and ingest\n",
    "        except ValueError as e:\n",
    "            print(e)"
   ]
  },
  {
   "cell_type": "markdown",
   "id": "1147202e-d94a-4208-bd56-b7f068fdf9da",
   "metadata": {},
   "source": [
    "### 2) Ingesting all files with with DirectoryLoader"
   ]
  },
  {
   "cell_type": "code",
   "execution_count": null,
   "id": "ce5cff86-e921-4d15-bab9-b4215b11fcb6",
   "metadata": {},
   "outputs": [],
   "source": [
    "# ONLY RUN THIS IF YOU HAVE SUCCESFULLY INSTALLED unstructured or langchain-unstructured\n",
    "# THE INSTALLATION IS OPERATIVE SYSTEM SPECIFIC\n",
    "# follow LangChain instructions at https://python.langchain.com/v0.2/docs/integrations/providers/unstructured/ or \n",
    "# Unstructured instructions at https://docs.unstructured.io/welcome#quickstart-unstructured-open-source-library\n",
    "folder_path = \"CilentoTouristInfo\"\n",
    "pattern = \"**/*.{docx,pdf,txt}\" #A Pattern to match .docx, .pdf, and .txt files\n",
    "\n",
    "directory_loader = DirectoryLoader(folder_path, pattern) #B Initialize the DirectoryLoader with the folder path and pattern\n",
    "split_and_import(directory_loader)"
   ]
  },
  {
   "cell_type": "markdown",
   "id": "1631170d-373f-4498-ad80-144d8ee9c784",
   "metadata": {},
   "source": [
    "## Querying the vector store directly"
   ]
  },
  {
   "cell_type": "code",
   "execution_count": 10,
   "id": "af87991d-bbbb-47d2-87d0-365aca4d4b3a",
   "metadata": {},
   "outputs": [
    {
     "name": "stdout",
     "output_type": "stream",
     "text": [
      "[Document(metadata={'source': 'Paestum/Paestum-Britannica.docx'}, page_content='Paestum, Greek\\xa0Poseidonia, ancient city in southern\\xa0Italy\\xa0near the west coast, 22 miles (35 km) southeast of modern\\xa0Salerno\\xa0and 5 miles (8 km) south of the Sele (ancient Silarus) River. Paestum is noted for its splendidly preserved Greek temples.\\n\\n\\n\\n\\n\\nVisit the ruins of the ancient Greek colony of Paestum and discover its history, culture, and society\\n\\nSee all videos for this article'), Document(metadata={'source': 'Paestum/Paestum-Britannica.docx'}, page_content='Paestum, Greek\\xa0Poseidonia, ancient city in southern\\xa0Italy\\xa0near the west coast, 22 miles (35 km) southeast of modern\\xa0Salerno\\xa0and 5 miles (8 km) south of the Sele (ancient Silarus) River. Paestum is noted for its splendidly preserved Greek temples.\\n\\n\\n\\n\\n\\nVisit the ruins of the ancient Greek colony of Paestum and discover its history, culture, and society\\n\\nSee all videos for this article'), Document(metadata={'source': 'https://en.wikipedia.org/wiki/Paestum', 'summary': 'Paestum ( PEST-əm, US also  PEE-stəm, Latin: [ˈpae̯stũː]) was a major ancient Greek city on the coast of the Tyrrhenian Sea, in Magna Graecia. The ruins of Paestum are famous for their three ancient Greek temples in the Doric order dating from about 550 to 450 BC that are in an excellent state of preservation. The city walls and amphitheatre are largely intact, and the bottom of the walls of many other structures remain, as well as paved roads. The site is open to the public, and there is a modern national museum within it, which also contains the finds from the associated Greek site of Foce del Sele.\\nPaestum was established around 600 BC by settlers from Sybaris, a Greek colony in southern Italy, under the name of Poseidonia (Ancient Greek: Ποσειδωνία). The city thrived as a Greek settlement for about two centuries, witnessing the development of democracy. In 400 BC, the Lucanians seized the city. Romans took over in 273 BC, renaming it Paestum and establishing a Latin colony. Later, its decline ensued from shifts in trade routes and the onset of flooding and marsh formation. As Pesto or Paestum, the town became a bishopric (now only titular), but it was abandoned in the Early Middle Ages, and left undisturbed and largely forgotten until the eighteenth century.\\nToday the remains of the city are found in the modern frazione of Paestum, which is part of the comune of Capaccio Paestum in the Province of Salerno in the region of Campania, Italy. The modern settlement, directly to the south of the archaeological site, is a popular seaside resort with long sandy beaches. The Paestum railway station on the Naples-Salerno-Reggio Calabria railway line is directly to the east of the ancient city walls.', 'title': 'Paestum'}, page_content='Paestum was established around 600 BC by settlers from Sybaris, a Greek colony in southern Italy, under the name of Poseidonia (Ancient Greek: Ποσειδωνία). The city thrived as a Greek settlement for about two centuries, witnessing the development of democracy. In 400 BC, the Lucanians seized the city. Romans took over in 273 BC, renaming it Paestum and establishing a Latin colony. Later, its decline ensued from shifts in trade routes and the onset of flooding and marsh formation. As Pesto or'), Document(metadata={'source': 'Paestum/Paestum-Britannica.docx'}, page_content='Poseidonia was probably founded about 600\\xa0BC\\xa0by Greek colonists from\\xa0Sybaris, along the\\xa0Gulf of Taranto, and it had become a flourishing town by 540, judging from its temples. After many years’ resistance the city came under the domination of the\\xa0Lucanians\\xa0(an\\xa0indigenous\\xa0Italic people) sometime before 400\\xa0BC, after which its name was changed to Paestum. Alexander, the king of Epirus, defeated the Lucanians at Paestum about 332\\xa0BC, but the city remained Lucanian until 273, when it came under')]\n"
     ]
    }
   ],
   "source": [
    "query = \"Where was Poseidonia and who renamed it to Paestum\" \n",
    "results = vector_db.similarity_search(query, 4) # four clostest results\n",
    "print(results)"
   ]
  },
  {
   "cell_type": "code",
   "execution_count": 11,
   "id": "dadf5ded-1f72-4e96-ad7c-b995e44dfecd",
   "metadata": {},
   "outputs": [
    {
     "data": {
      "text/plain": [
       "4"
      ]
     },
     "execution_count": 11,
     "metadata": {},
     "output_type": "execute_result"
    }
   ],
   "source": [
    "len(results)"
   ]
  },
  {
   "cell_type": "markdown",
   "id": "6dc0c334-66e4-4bb3-b0ab-1c32a03dd05b",
   "metadata": {},
   "source": [
    "## Asking a question through a RAG chain"
   ]
  },
  {
   "cell_type": "code",
   "execution_count": 2,
   "id": "9f6ad4a5-b79d-428f-9367-7a9f1a56d2ee",
   "metadata": {},
   "outputs": [
    {
     "name": "stdin",
     "output_type": "stream",
     "text": [
      "Enter your OPENAI_API_KEY ········\n"
     ]
    }
   ],
   "source": [
    "from openai import OpenAI\n",
    "import getpass\n",
    "\n",
    "OPENAI_API_KEY = getpass.getpass('Enter your OPENAI_API_KEY')"
   ]
  },
  {
   "cell_type": "code",
   "execution_count": 18,
   "id": "82221dc4-7627-403a-bcdb-cb987ba41184",
   "metadata": {},
   "outputs": [],
   "source": [
    "from langchain.prompts import PromptTemplate\n",
    "\n",
    "rag_prompt_template = \"\"\"Use the following pieces of context to answer the question at the end. \n",
    "If you don't know the answer, just say that you don't know, don't try to make up an answer.\n",
    "Use three sentences maximum and keep the answer as concise as possible.\n",
    "{context}\n",
    "Question: {question}\n",
    "Helpful Answer:\"\"\"\n",
    "\n",
    "rag_prompt = PromptTemplate.from_template(rag_prompt_template)"
   ]
  },
  {
   "cell_type": "code",
   "execution_count": 19,
   "id": "e752e194-142a-45ad-8f2f-171487b3eb5b",
   "metadata": {},
   "outputs": [],
   "source": [
    "retriever = vector_db.as_retriever()"
   ]
  },
  {
   "cell_type": "code",
   "execution_count": 20,
   "id": "6f34248c-baea-4146-bfd4-e6fb193e6dbb",
   "metadata": {},
   "outputs": [],
   "source": [
    "from langchain.schema.runnable import RunnablePassthrough\n",
    "question_feeder = RunnablePassthrough()"
   ]
  },
  {
   "cell_type": "code",
   "execution_count": 21,
   "id": "7eb75492-8913-42e5-b707-aad2592d8fa5",
   "metadata": {},
   "outputs": [],
   "source": [
    "from langchain_openai import ChatOpenAI\n",
    "\n",
    "chatbot = ChatOpenAI(openai_api_key=OPENAI_API_KEY, model_name=\"gpt-4o-mini\")"
   ]
  },
  {
   "cell_type": "code",
   "execution_count": 22,
   "id": "df278726-e951-4b8c-8eb9-873992427e47",
   "metadata": {},
   "outputs": [],
   "source": [
    "# set up RAG chain\n",
    "\n",
    "rag_chain = {\"context\": retriever, \"question\": question_feeder} | rag_prompt | chatbot"
   ]
  },
  {
   "cell_type": "code",
   "execution_count": 23,
   "id": "4bb68aff-1b72-4126-8e17-b501fcb2860a",
   "metadata": {},
   "outputs": [],
   "source": [
    "def execute_chain(chain, question):\n",
    "    answer = chain.invoke(question)\n",
    "    return answer"
   ]
  },
  {
   "cell_type": "code",
   "execution_count": 24,
   "id": "88321863-cdb1-41fc-aa14-bb9b5792338c",
   "metadata": {},
   "outputs": [
    {
     "name": "stdout",
     "output_type": "stream",
     "text": [
      "Poseidonia was located on the coast of the Tyrrhenian Sea in Magna Graecia, and it was renamed to Paestum by the Romans. The source of this information is the Wikipedia article on Paestum.\n"
     ]
    }
   ],
   "source": [
    "question = \"Where was Poseidonia and who renamed it to Paestum. Also tell me the source.\" \n",
    "answer = execute_chain(rag_chain, question)\n",
    "print(answer.content)"
   ]
  },
  {
   "cell_type": "code",
   "execution_count": 25,
   "id": "4541b4a5-2e9e-4a80-963f-1279fad916ac",
   "metadata": {},
   "outputs": [
    {
     "name": "stdout",
     "output_type": "stream",
     "text": [
      "content='Poseidonia was located on the coast of the Tyrrhenian Sea in Magna Graecia, and it was renamed to Paestum by the Romans. The source of this information is the Wikipedia article on Paestum.' response_metadata={'token_usage': {'completion_tokens': 47, 'prompt_tokens': 1773, 'total_tokens': 1820}, 'model_name': 'gpt-4o-mini-2024-07-18', 'system_fingerprint': 'fp_48196bc67a', 'finish_reason': 'stop', 'logprobs': None} id='run-81d269ca-7162-4428-8ef3-5c93c5d6d81e-0' usage_metadata={'input_tokens': 1773, 'output_tokens': 47, 'total_tokens': 1820}\n"
     ]
    }
   ],
   "source": [
    "print(answer)"
   ]
  },
  {
   "cell_type": "code",
   "execution_count": 29,
   "id": "53a5742a-62ae-442a-a30e-4380507489aa",
   "metadata": {},
   "outputs": [
    {
     "name": "stdout",
     "output_type": "stream",
     "text": [
      "I don't know.\n"
     ]
    }
   ],
   "source": [
    "question = \"And then, what did they do?\" \n",
    "answer = execute_chain(rag_chain, question)\n",
    "print(answer.content)"
   ]
  },
  {
   "cell_type": "markdown",
   "id": "4c76bbc1-b3c5-4e86-95dd-5f8c85dfaafd",
   "metadata": {},
   "source": [
    "## Chatbot memory of message history"
   ]
  },
  {
   "cell_type": "code",
   "execution_count": 30,
   "id": "2f548719-575c-4796-9adc-f84c1dc30aaa",
   "metadata": {},
   "outputs": [],
   "source": [
    "from langchain.schema.runnable import RunnablePassthrough\n",
    "from langchain_openai import ChatOpenAI\n",
    "from langchain_core.prompts import ChatPromptTemplate\n",
    "from langchain_community.chat_message_histories import ChatMessageHistory\n",
    "from langchain_core.runnables import RunnableLambda\n",
    "\n",
    "rag_prompt = ChatPromptTemplate.from_messages(\n",
    "    [\n",
    "        (\"system\", \"You are a helpful assistant, world-class expert in Roman and Greek history, especially in towns located in southern Italy. Provide interesting insights on local history and recommend places to visit with knowledgeable and engaging answers. Answer all questions to the best of your ability, but only use what has been provided in the context. If you don't know, just say you don't know. Use three sentences maximum and keep the answer as concise as possible.\"),\n",
    "        (\"placeholder\", \"{chat_history_messages}\"),\n",
    "        (\"assistant\", \"{retrieved_context}\"),\n",
    "        (\"human\", \"{question}\"),\n",
    "    ]\n",
    ")\n",
    "\n",
    "retriever = vector_db.as_retriever()\n",
    "question_feeder = RunnablePassthrough()\n",
    "chatbot = ChatOpenAI(openai_api_key=OPENAI_API_KEY, model_name=\"gpt-4o-mini\")\n",
    "chat_history_memory = ChatMessageHistory()\n",
    "\n",
    "def get_messages(x):\n",
    "    return chat_history_memory.messages\n",
    "\n",
    "rag_chain = {\n",
    "    \"retrieved_context\": retriever, \n",
    "    \"question\": question_feeder,\n",
    "    \"chat_history_messages\": RunnableLambda(get_messages)\n",
    "} | rag_prompt | chatbot\n",
    "\n",
    "def execute_chain_with_memory(chain, question):\n",
    "    chat_history_memory.add_user_message(question)\n",
    "    answer = chain.invoke(question)\n",
    "    chat_history_memory.add_ai_message(answer)\n",
    "    print(f'Full chat message history: {chat_history_memory.messages}\\n\\n')                                      \n",
    "    return answer"
   ]
  },
  {
   "cell_type": "code",
   "execution_count": 31,
   "id": "3f38fc7a-a8f4-4795-9c4f-3c2b576e136e",
   "metadata": {},
   "outputs": [
    {
     "name": "stdout",
     "output_type": "stream",
     "text": [
      "Full chat message history: [HumanMessage(content='Where was Poseidonia and who renamed it to Paestum? Also tell me the source.'), AIMessage(content='Poseidonia was an ancient Greek city located on the coast of the Tyrrhenian Sea in what is now southern Italy. It was renamed Paestum by the Romans after they took control of the city in 273 BC, following its conquest by the Lucanians. The source of this information is from Wikipedia.', response_metadata={'token_usage': {'completion_tokens': 64, 'prompt_tokens': 1835, 'total_tokens': 1899}, 'model_name': 'gpt-4o-mini-2024-07-18', 'system_fingerprint': 'fp_48196bc67a', 'finish_reason': 'stop', 'logprobs': None}, id='run-e51e7fb1-8efc-4a42-addc-89cb6fb86ea9-0', usage_metadata={'input_tokens': 1835, 'output_tokens': 64, 'total_tokens': 1899})]\n",
      "\n",
      "\n",
      "Poseidonia was an ancient Greek city located on the coast of the Tyrrhenian Sea in what is now southern Italy. It was renamed Paestum by the Romans after they took control of the city in 273 BC, following its conquest by the Lucanians. The source of this information is from Wikipedia.\n"
     ]
    }
   ],
   "source": [
    "question = \"Where was Poseidonia and who renamed it to Paestum? Also tell me the source.\" \n",
    "answer = execute_chain_with_memory(rag_chain, question)\n",
    "print(answer.content)"
   ]
  },
  {
   "cell_type": "code",
   "execution_count": 32,
   "id": "fa8dd731-7414-4f57-baca-c1e25d7d5741",
   "metadata": {},
   "outputs": [
    {
     "name": "stdout",
     "output_type": "stream",
     "text": [
      "Full chat message history: [HumanMessage(content='Where was Poseidonia and who renamed it to Paestum? Also tell me the source.'), AIMessage(content='Poseidonia was an ancient Greek city located on the coast of the Tyrrhenian Sea in what is now southern Italy. It was renamed Paestum by the Romans after they took control of the city in 273 BC, following its conquest by the Lucanians. The source of this information is from Wikipedia.', response_metadata={'token_usage': {'completion_tokens': 64, 'prompt_tokens': 1835, 'total_tokens': 1899}, 'model_name': 'gpt-4o-mini-2024-07-18', 'system_fingerprint': 'fp_48196bc67a', 'finish_reason': 'stop', 'logprobs': None}, id='run-e51e7fb1-8efc-4a42-addc-89cb6fb86ea9-0', usage_metadata={'input_tokens': 1835, 'output_tokens': 64, 'total_tokens': 1899}), HumanMessage(content='And then what did they do? Also tell me the source'), AIMessage(content=\"After the Romans renamed Poseidonia to Paestum, they developed the city further, enhancing its infrastructure and economy, particularly through agriculture and trade. They also constructed significant buildings, including temples dedicated to Greek gods, which demonstrate the city's cultural continuity. The source of this information is from historical texts on Roman history and archaeology.\", response_metadata={'token_usage': {'completion_tokens': 65, 'prompt_tokens': 1757, 'total_tokens': 1822}, 'model_name': 'gpt-4o-mini-2024-07-18', 'system_fingerprint': 'fp_507c9469a1', 'finish_reason': 'stop', 'logprobs': None}, id='run-7ec435bd-2eef-4527-a30d-c1b244321087-0', usage_metadata={'input_tokens': 1757, 'output_tokens': 65, 'total_tokens': 1822})]\n",
      "\n",
      "\n",
      "After the Romans renamed Poseidonia to Paestum, they developed the city further, enhancing its infrastructure and economy, particularly through agriculture and trade. They also constructed significant buildings, including temples dedicated to Greek gods, which demonstrate the city's cultural continuity. The source of this information is from historical texts on Roman history and archaeology.\n"
     ]
    }
   ],
   "source": [
    "question = \"And then what did they do? Also tell me the source\" \n",
    "answer = execute_chain_with_memory(rag_chain, question)\n",
    "print(answer.content)"
   ]
  },
  {
   "cell_type": "markdown",
   "id": "bf71e1b7-7a7a-4dcf-8cad-43fa43fcf09d",
   "metadata": {},
   "source": [
    "## Tracing with LangSmith"
   ]
  },
  {
   "cell_type": "code",
   "execution_count": 172,
   "id": "0e817ec3-6e94-4a82-b1a7-8ab641a48080",
   "metadata": {},
   "outputs": [],
   "source": [
    "from langsmith import trace\n",
    "from langsmith import Client, traceable"
   ]
  },
  {
   "cell_type": "code",
   "execution_count": 173,
   "id": "f567cd13-d121-49b2-a36a-3896ba8a67e6",
   "metadata": {},
   "outputs": [
    {
     "name": "stdin",
     "output_type": "stream",
     "text": [
      "Enter your LANGSMITH_API_KEY ········\n"
     ]
    }
   ],
   "source": [
    "LANGSMITH_API_KEY= getpass.getpass('Enter your LANGSMITH_API_KEY')"
   ]
  },
  {
   "cell_type": "code",
   "execution_count": 175,
   "id": "4bc737dc-2d4c-402c-b7e8-af8df0c47fd1",
   "metadata": {},
   "outputs": [],
   "source": [
    "langsmith_client = Client(\n",
    "    api_key=LANGSMITH_API_KEY,\n",
    "    api_url=\"https://api.smith.langchain.com\",  \n",
    ")"
   ]
  },
  {
   "cell_type": "code",
   "execution_count": 190,
   "id": "68788575-4418-4943-8efc-9629f69e85bc",
   "metadata": {},
   "outputs": [
    {
     "name": "stdout",
     "output_type": "stream",
     "text": [
      "content='Poseidonia, later renamed Paestum, was an ancient Greek city located in southern Italy near the coast of the Tyrrhenian Sea. The city was renamed to Paestum by the Romans after they took over in 273 BC. The information is from the source: https://en.wikipedia.org/wiki/Paestum.' response_metadata={'token_usage': {'completion_tokens': 68, 'prompt_tokens': 1490, 'total_tokens': 1558}, 'model_name': 'gpt-3.5-turbo-0125', 'system_fingerprint': None, 'finish_reason': 'stop', 'logprobs': None} id='run-cba3219f-8a1e-413e-a895-fe63ff8a9e2a-0' usage_metadata={'input_tokens': 1490, 'output_tokens': 68, 'total_tokens': 1558}\n"
     ]
    }
   ],
   "source": [
    "question = \"Where was Poseidonia and who renamed it to Paestum. Also tell me the source.\" \n",
    "with trace(\"Chat Pipeline\", \"chain\", project_name=\"Q&A chatbot\", inputs={\"input\": question}, client=langsmith_client) as rt:\n",
    "    answer = execute_chain(rag_chain, question)\n",
    "    print(answer)\n",
    "    rt.end(outputs={\"output\": answer})"
   ]
  },
  {
   "cell_type": "markdown",
   "id": "ade41e33-062d-473f-963a-9d1bc96bb7bd",
   "metadata": {},
   "source": [
    "## Setting up Q&A chain with RetrievalQA"
   ]
  },
  {
   "cell_type": "code",
   "execution_count": 191,
   "id": "b22731bc-469e-4c62-9dc3-bed63a498bdd",
   "metadata": {},
   "outputs": [],
   "source": [
    "from langchain.chains import RetrievalQA\n",
    "rag_chain = RetrievalQA.from_chain_type(llm=chatbot, chain_type=\"stuff\", retriever=retriever, return_source_documents=False)"
   ]
  },
  {
   "cell_type": "code",
   "execution_count": 194,
   "id": "8b7ab2fe-e21c-412f-a35b-177b58d452ae",
   "metadata": {},
   "outputs": [
    {
     "name": "stdout",
     "output_type": "stream",
     "text": [
      "{'query': 'Where was Poseidonia and who renamed it to Paestum. Also tell me the source.', 'result': 'Poseidonia was an ancient city in southern Italy, near the west coast. It was eventually conquered by the local Lucanians who renamed it to Paistos. The Romans later gave the city its current name, Paestum. The source for this information is the article on Paestum by the Editors of Encyclopaedia Britannica.'}\n"
     ]
    }
   ],
   "source": [
    "question = \"Where was Poseidonia and who renamed it to Paestum. Also tell me the source.\" \n",
    "with trace(\"RetrievalQA\", \"chain\", project_name=\"Q&A chatbot\", inputs={\"input\": question}, client=langsmith_client) as rt:\n",
    "    answer = execute_chain(rag_chain, question)\n",
    "    print(answer)\n",
    "    rt.end(outputs={\"output\": answer})"
   ]
  },
  {
   "cell_type": "markdown",
   "id": "e26b855e-4649-416e-b33a-9db42dce383a",
   "metadata": {},
   "source": [
    "## Chatbot memory of message history"
   ]
  },
  {
   "cell_type": "code",
   "execution_count": 105,
   "id": "567d70ca-2a72-4dc2-9f41-034d665aba89",
   "metadata": {},
   "outputs": [],
   "source": [
    "from langchain.schema.runnable import RunnablePassthrough\n",
    "from langchain_openai import ChatOpenAI\n",
    "from langchain_core.prompts import ChatPromptTemplate\n",
    "from langchain_community.chat_message_histories import ChatMessageHistory\n",
    "from langchain_core.runnables import RunnableLambda\n",
    "\n",
    "rag_prompt = ChatPromptTemplate.from_messages(\n",
    "    [\n",
    "        (\"system\", \"You are a helpful assistant, world-class expert in Roman and Greek history, especially in towns located in southern Italy. Provide interesting insights on local history and recommend places to visit with knowledgeable and engaging answers. Answer all questions to the best of your ability, but only use what has been provided in the context. If you don't know, just say you don't know. Use three sentences maximum and keep the answer as concise as possible.\"),\n",
    "        (\"placeholder\", \"{chat_history_messages}\"),\n",
    "        (\"assistant\", \"{retrieved_context}\"),\n",
    "        (\"human\", \"{question}\"),\n",
    "    ]\n",
    ")\n",
    "\n",
    "retriever = vector_db.as_retriever()\n",
    "question_feeder = RunnablePassthrough()\n",
    "chatbot = ChatOpenAI(openai_api_key=OPENAI_API_KEY, model_name=\"gpt-4o-mini\")\n",
    "chat_history_memory = ChatMessageHistory()\n",
    "\n",
    "def get_messages(x):\n",
    "    return chat_history_memory.messages\n",
    "\n",
    "rag_chain = {\n",
    "    \"retrieved_context\": retriever, \n",
    "    \"question\": question_feeder,\n",
    "    \"chat_history_messages\": RunnableLambda(get_messages)\n",
    "} | rag_prompt | chatbot\n",
    "\n",
    "def execute_chain_with_memory(chain, question):\n",
    "    chat_history_memory.add_user_message(question)\n",
    "    answer = chain.invoke(question)\n",
    "    chat_history_memory.add_ai_message(answer)\n",
    "    print(f'Full chat message history: {chat_history_memory.messages}\\n\\n')                                      \n",
    "    return answer"
   ]
  },
  {
   "cell_type": "code",
   "execution_count": 106,
   "id": "5a7095fe-498d-46e8-9bf7-c7af56062bbc",
   "metadata": {},
   "outputs": [
    {
     "name": "stdout",
     "output_type": "stream",
     "text": [
      "Full chat message history: [HumanMessage(content='Where was Poseidonia and who renamed it to Paestum? Also tell me the source.'), AIMessage(content='Poseidonia was located on the coast of the Tyrrhenian Sea in what is now the modern town of Paestum, in the province of Salerno, Italy. It was renamed Paestum by the Romans after they took control of the city in 273 BC. The source of this information is Wikipedia.', response_metadata={'token_usage': {'completion_tokens': 65, 'prompt_tokens': 1843, 'total_tokens': 1908}, 'model_name': 'gpt-4o-mini-2024-07-18', 'system_fingerprint': 'fp_9b0abffe81', 'finish_reason': 'stop', 'logprobs': None}, id='run-a74d990b-6f92-4128-8ebd-80085da40f28-0', usage_metadata={'input_tokens': 1843, 'output_tokens': 65, 'total_tokens': 1908})]\n",
      "\n",
      "\n",
      "Poseidonia was located on the coast of the Tyrrhenian Sea in what is now the modern town of Paestum, in the province of Salerno, Italy. It was renamed Paestum by the Romans after they took control of the city in 273 BC. The source of this information is Wikipedia.\n"
     ]
    }
   ],
   "source": [
    "question = \"Where was Poseidonia and who renamed it to Paestum? Also tell me the source.\" \n",
    "answer = execute_chain_with_memory(rag_chain, question)\n",
    "print(answer.content)\n"
   ]
  },
  {
   "cell_type": "code",
   "execution_count": 107,
   "id": "238dbdad-9737-4e4b-9a87-98828e493aae",
   "metadata": {},
   "outputs": [
    {
     "name": "stdout",
     "output_type": "stream",
     "text": [
      "Full chat message history: [HumanMessage(content='Where was Poseidonia and who renamed it to Paestum? Also tell me the source.'), AIMessage(content='Poseidonia was located on the coast of the Tyrrhenian Sea in what is now the modern town of Paestum, in the province of Salerno, Italy. It was renamed Paestum by the Romans after they took control of the city in 273 BC. The source of this information is Wikipedia.', response_metadata={'token_usage': {'completion_tokens': 65, 'prompt_tokens': 1843, 'total_tokens': 1908}, 'model_name': 'gpt-4o-mini-2024-07-18', 'system_fingerprint': 'fp_9b0abffe81', 'finish_reason': 'stop', 'logprobs': None}, id='run-a74d990b-6f92-4128-8ebd-80085da40f28-0', usage_metadata={'input_tokens': 1843, 'output_tokens': 65, 'total_tokens': 1908}), HumanMessage(content='And then what did they do? Also tell me the source'), AIMessage(content='After its renaming to Paestum, the Romans developed the city further, constructing significant public buildings, including temples and an amphitheater, which were influenced by the local Greek architecture. The city thrived during the Roman period, becoming an important center for trade and agriculture. The source of this information is Wikipedia.', response_metadata={'token_usage': {'completion_tokens': 64, 'prompt_tokens': 1749, 'total_tokens': 1813}, 'model_name': 'gpt-4o-mini-2024-07-18', 'system_fingerprint': 'fp_9b0abffe81', 'finish_reason': 'stop', 'logprobs': None}, id='run-11e58a88-336a-428d-8ef8-dfebbc6d22d0-0', usage_metadata={'input_tokens': 1749, 'output_tokens': 64, 'total_tokens': 1813})]\n",
      "\n",
      "\n",
      "After its renaming to Paestum, the Romans developed the city further, constructing significant public buildings, including temples and an amphitheater, which were influenced by the local Greek architecture. The city thrived during the Roman period, becoming an important center for trade and agriculture. The source of this information is Wikipedia.\n"
     ]
    }
   ],
   "source": [
    "question = \"And then what did they do? Also tell me the source\" \n",
    "answer = execute_chain_with_memory(rag_chain, question)\n",
    "print(answer.content)"
   ]
  },
  {
   "cell_type": "code",
   "execution_count": null,
   "id": "3c058846-c50e-480d-a1ec-fb186cb98355",
   "metadata": {},
   "outputs": [],
   "source": []
  }
 ],
 "metadata": {
  "kernelspec": {
   "display_name": "Python 3 (ipykernel)",
   "language": "python",
   "name": "python3"
  },
  "language_info": {
   "codemirror_mode": {
    "name": "ipython",
    "version": 3
   },
   "file_extension": ".py",
   "mimetype": "text/x-python",
   "name": "python",
   "nbconvert_exporter": "python",
   "pygments_lexer": "ipython3",
   "version": "3.11.9"
  }
 },
 "nbformat": 4,
 "nbformat_minor": 5
}
