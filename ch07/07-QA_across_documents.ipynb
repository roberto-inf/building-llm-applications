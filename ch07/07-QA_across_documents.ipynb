{
 "cells": [
  {
   "cell_type": "markdown",
   "id": "c4511fcd-456f-4612-91cf-40efb9592858",
   "metadata": {},
   "source": [
    "# Q&A across documents with LangChain and LangSmith"
   ]
  },
  {
   "cell_type": "code",
   "execution_count": 1,
   "id": "df920cd9-31be-4bf6-916d-25083625d8f7",
   "metadata": {},
   "outputs": [],
   "source": [
    "from langchain_community.document_loaders import WikipediaLoader, Docx2txtLoader, PyPDFLoader, TextLoader\n",
    "\n",
    "from langchain_chroma import Chroma\n",
    "from langchain_text_splitters import RecursiveCharacterTextSplitter\n",
    "from langchain_openai import OpenAIEmbeddings"
   ]
  },
  {
   "cell_type": "code",
   "execution_count": 2,
   "id": "85b14068-78d4-47ae-8fce-a95d9055120b",
   "metadata": {},
   "outputs": [
    {
     "name": "stdin",
     "output_type": "stream",
     "text": [
      "Enter your OPENAI_API_KEY ········\n"
     ]
    }
   ],
   "source": [
    "import getpass\n",
    "OPENAI_API_KEY = getpass.getpass('Enter your OPENAI_API_KEY')"
   ]
  },
  {
   "cell_type": "markdown",
   "id": "cd2b5787-105a-44a9-90a9-fdb3e026aa7d",
   "metadata": {},
   "source": [
    "## Setting up vector database and embeddings"
   ]
  },
  {
   "cell_type": "code",
   "execution_count": 3,
   "id": "33f0e3ba-c17f-454f-b62f-a1311438e316",
   "metadata": {},
   "outputs": [],
   "source": [
    "text_splitter = RecursiveCharacterTextSplitter(chunk_size=500, chunk_overlap=0)\n",
    "embeddings_model = OpenAIEmbeddings(openai_api_key=OPENAI_API_KEY)\n",
    "vector_db = Chroma(\"tourist_info\", embeddings_model)"
   ]
  },
  {
   "cell_type": "code",
   "execution_count": 5,
   "id": "8e1eff7c-bdb9-44c5-96f6-ab3b50847f8a",
   "metadata": {},
   "outputs": [
    {
     "data": {
      "text/plain": [
       "['245509af-25ef-473c-b611-24e3c650071e',\n",
       " '188368a6-0e3b-43d7-b624-e2706061af15',\n",
       " 'fb53d8d4-3e21-4bf6-9564-68a8cbd4b47d',\n",
       " '76f7bc81-23f1-4fe5-b302-38373d25cffc',\n",
       " '3d61183e-fffe-418d-bda4-e0c48e6c2b87',\n",
       " 'c4c678c2-a931-454e-895b-6b9f8de1bbde',\n",
       " '3a953c4d-7e6e-4884-9ca3-3253f6ded5d2',\n",
       " 'fa98a320-21ab-4b8e-a3da-dbf34482e579',\n",
       " 'fccc1e68-d89e-4a21-9499-45ca0b570a74',\n",
       " 'a8bea1bd-e6ab-4f04-873a-2902890e73ff',\n",
       " '0ce4a4b7-b9a3-4711-b12f-d8de36f76081',\n",
       " '4fb042f2-18da-4692-b908-672d42330448',\n",
       " '71767d87-1e3e-4109-83b8-241b7ffce49f',\n",
       " 'e2efc895-24e7-40e4-9d73-8de2e6ad6dbe',\n",
       " 'a604016f-31ac-4b83-aaed-aa34897ecd02',\n",
       " 'c2e1887e-0957-48f7-8730-76ba863ddf95',\n",
       " 'bcf9b8dc-661e-4763-b59c-e663d7d54a42',\n",
       " '92b3c29e-e896-4047-8b06-fa8f63c61df4',\n",
       " '4c863b4d-4078-476d-8a0f-26f3e7bf68d1',\n",
       " '25401d55-42b0-40eb-bc83-8b08bd83d56e',\n",
       " 'c437270a-bc58-4dcf-a729-4a2b5d13bb7a',\n",
       " '17d7f738-a731-4d78-ac9e-76000cd2a1dc',\n",
       " 'e11ed6af-fded-4539-8431-7d9353ab7b3c',\n",
       " '5d8a05f5-e90a-49d7-924e-15d0f16c6573',\n",
       " 'ae066ed3-5fa3-420d-87e8-88d2ca38d2b1',\n",
       " '769a7143-8ffd-44e5-8d44-8524bc0c0529',\n",
       " '9a94ea25-28b7-4eca-b41f-1709f2a87b23',\n",
       " '1738ff5d-daa4-46a4-acc1-9ee3a0c9b41b',\n",
       " '2bae6ed3-1e84-4c95-8cb0-85003721cc8e',\n",
       " 'c097fb81-e8ec-40ee-951b-6a2a28f88d30',\n",
       " 'b201878f-32b2-4182-93cf-2cbb79f5fb0a',\n",
       " 'ba7b3f0d-e406-40a9-a631-d0364f6a7afc',\n",
       " '25e52c36-15f7-4f7a-9a2c-2e20ada3920a',\n",
       " 'fee7ed92-7e36-441a-80d7-8b8891dac7ca',\n",
       " '2420049f-b775-4860-a856-c3e7e8e26103',\n",
       " '6be54d81-7062-437e-a4be-b673fd743a70',\n",
       " '2bd0b8b2-b4c3-4882-97dd-08887d5f3cdc',\n",
       " '9da1c814-21ef-4f5f-b6d4-773fa12110ad',\n",
       " 'd5f1fa4e-b90d-4552-915a-1fed1250e194',\n",
       " 'b920b4a9-fc05-4fb0-90cd-830116470a0f',\n",
       " 'dc0c925e-ca93-4c46-b68d-7e847a74a6a1',\n",
       " 'b028ec27-1972-40f9-bc67-8258e3375317',\n",
       " '1c85256f-cd56-47f7-970d-64bd2faf33fd',\n",
       " '7c6a477b-1223-4a83-8030-18ec18dba02f',\n",
       " 'ce62eda6-3fcf-436d-a55f-78dd2a2d99d5',\n",
       " '73d48f0c-eed3-4871-9bc3-704533e4db3d',\n",
       " 'c5e53ac0-5597-436c-8f05-b3e2da033910',\n",
       " '333f2982-4362-4742-9dc5-713866c17f0a',\n",
       " 'ce5231af-b740-4d5d-8ab7-d87d5734117a',\n",
       " '6dd446ff-aeec-48a4-ba98-338bd6f17eb9',\n",
       " 'b729b587-7af9-4ee6-9433-28e581f3fa51',\n",
       " '6875e288-4954-43e1-b13f-886a81151ffb',\n",
       " '7bbe4417-ec77-4741-a248-01574185f3d7',\n",
       " 'd092d839-df3e-4e25-8691-82f4756d0d0b',\n",
       " '4bd809a0-3c90-48b4-9431-38ad230c39b9',\n",
       " '788b0ae3-82c9-41db-858d-5020ff601b69',\n",
       " 'a02871dc-373e-4236-83ca-8b12c338e394',\n",
       " 'bf243aad-f9c0-46c4-96be-1c1b0f9e8dfd',\n",
       " '44101797-e619-4850-884b-ee0a9ada2421',\n",
       " 'e549a1b4-1f7e-418e-ab25-5bfa0d1dda51',\n",
       " '51cfb7a6-c224-49b0-85e4-ff6b5cbc0111',\n",
       " 'e6c92d1f-1fcc-4a52-9440-a8e6914fdd7d',\n",
       " '4217bee0-d865-4e89-b86a-e35bcac02f05',\n",
       " 'b32ab9cd-f967-45ae-8386-719f16708cfe',\n",
       " 'ced4b650-737a-48ef-adfd-bb6ad60a74e8',\n",
       " '6141e300-2200-48ca-a3f4-6417a1b1ba30',\n",
       " 'f557bd07-3edc-46df-a93d-0011aa323665',\n",
       " 'fd66d90b-ccee-4a22-8a83-4602a0d6a9e2',\n",
       " 'c5d0dd1f-f5c8-446c-a5cb-dcb76619e317',\n",
       " '5d6ef4ba-1880-425b-a208-f946826bc176',\n",
       " '91495d88-2ff1-41d2-bc5a-870ad9b36a49',\n",
       " 'b2b7ba64-8981-48ef-b230-573a450b3626',\n",
       " '487002e0-1670-471e-8f99-d4634408cb03',\n",
       " 'dd48ce76-e63d-4f90-a715-c2b51ff8350f',\n",
       " 'e137fe60-38b5-4e36-a222-5ac85266cb93',\n",
       " '26461473-c64f-4106-9b0e-6862e7017190',\n",
       " '1ced1b20-bb58-4bf0-a134-88502e24ebf1',\n",
       " 'ac051701-c0e2-4b13-90f8-360c124017e2',\n",
       " '7b429b3f-d905-4790-bbd7-ba94d72bab0f',\n",
       " 'f1fa454b-9f24-400d-96c7-0057e478eeaf',\n",
       " 'fd059e65-9e64-4ca3-8963-73d73903ea54',\n",
       " '24e70200-3684-46af-903e-c8f8c869c6a8',\n",
       " 'dd8d5b0f-e5fc-4545-84f1-5309c442e896',\n",
       " '3af7721a-8181-47b7-a8fd-ffca68371e38',\n",
       " '703f0e06-bd22-420c-83a8-9fb2a0ea011f',\n",
       " 'b98a74d5-e393-49d9-9a61-7e9b5912b841',\n",
       " 'f82cd909-b9d7-497c-85ce-9cb6894f7094',\n",
       " '4d861e4a-d7dc-4ea9-a31a-f1de15674948',\n",
       " '4f631698-658b-4d70-93fb-5d38087cec46',\n",
       " '50164e91-39d2-4bd2-9e71-61186d70111a',\n",
       " '0270b362-4956-42e4-affe-886dab259cda',\n",
       " 'e09981ff-fb89-4138-a595-5e70355f2b9c',\n",
       " 'b7d1fb6a-3763-43c1-8a15-15689e9b1774',\n",
       " '5fb1ed39-ceb7-49f0-a93a-2b0a081f72cc',\n",
       " '16aca7ee-d5ca-410a-8d5b-8a5bdec02ef7',\n",
       " 'e658fd53-47c7-42dc-a536-9abcf08f434d',\n",
       " '98d632d3-e37c-4f01-ae6c-f1bbb73c1c0e',\n",
       " '379e0de7-ccb4-44e6-8ba6-6cfc01f6b6e3',\n",
       " '85d0fa7e-76f1-469f-ba5f-682fc60f37cd',\n",
       " 'dfe3b752-75b9-4a2c-aee5-fc17cc20796f',\n",
       " 'dcd4c74e-962e-4cf1-be85-c18dbf23678f',\n",
       " 'ecf54cb9-f754-49b9-8f31-88e89b923bc2',\n",
       " '90adcd53-a2e3-4932-8c94-52104a07f92f',\n",
       " '31c71caa-b4b6-4adc-9391-d91748b1494f',\n",
       " '53d94053-24b8-4991-97f2-f6ea3137b2e1',\n",
       " '9104bd81-1767-491f-897d-e4a8eed5fb94',\n",
       " 'f5edd29e-f967-4ced-8796-88ed5c046e81',\n",
       " '91d63905-d413-40eb-91ff-d0bac32a53d1',\n",
       " '6ec133c2-4968-42bf-943c-8acc500c2926',\n",
       " 'e0af3972-4ca0-4ad3-bfa0-e6edd437530d',\n",
       " '8ae920a6-9c6a-4939-a1ba-d220f2d87551',\n",
       " '1e7ea6e5-574e-43de-9bca-12305e452500',\n",
       " 'f55bdea8-373e-4800-a72a-a6cd61958110',\n",
       " 'd3c1d693-d9f7-4451-a859-56d9626df9f0',\n",
       " '1a4d4cf4-c266-4d96-bedf-2f9054e6d636',\n",
       " 'd4fd9c40-949e-4090-9d2a-b124d3638642',\n",
       " '33650cd8-aacb-472c-9c2a-d6b26ec86a40',\n",
       " '838bd2cb-8a16-4bd3-be3d-727372a2e242',\n",
       " '3d636509-de8e-409c-9e5d-627b93a073b7',\n",
       " '36ea47db-0042-4881-a033-bddbad6a0c63',\n",
       " 'c194f4cb-5be0-4802-b7b4-a59ee5639e82',\n",
       " 'ed0d4163-ba92-4b5d-ad51-a8731f76abee',\n",
       " 'ade8d4b0-ec76-4c25-82ab-ce31d200a209',\n",
       " '0a325d06-91cf-420c-b98e-b20ce48ce789',\n",
       " '349ea117-a3f7-4e76-ae8d-55a045ebf3c7',\n",
       " '8fe36937-6f7e-4911-889d-1788ac2e9c85',\n",
       " 'c158f0ef-8824-42aa-a274-210e8d9164f7',\n",
       " '9a1381b9-c035-4b74-a4f3-dc169f140c97',\n",
       " '13d0f12e-f9c2-4b9b-b667-f5b527af967e',\n",
       " 'fd1facab-004d-421c-96a2-312003721f9f',\n",
       " 'd2658106-ea59-46b3-8e28-5f120fbe2a8f',\n",
       " '4f20ffa0-b9ad-4aca-a4c2-bb0e676976d9',\n",
       " '2f2e3271-2184-41ba-ba58-18d65a972c29',\n",
       " 'fbcd2e2b-ede3-4a90-9e29-f25bc0139bf8',\n",
       " 'c4023ca0-870f-486a-8171-eed11b6e0ee9',\n",
       " '0e5d3baa-cc02-478b-b667-3dcfb2319f4d',\n",
       " 'd6a81c2f-6dc5-4b54-b772-b8ac39fa76ab',\n",
       " '004bea14-4bab-43cf-8a09-022859202a5f',\n",
       " '3e93d43e-0a08-4ead-8772-9a4757e1510b',\n",
       " 'a4101b49-7eb4-491b-b295-002d9f23de1f',\n",
       " '00c68ac1-1114-4831-bdcd-a1baf80f85c0',\n",
       " 'e9480605-71f4-4e97-9b0f-a13de745ac44',\n",
       " 'a29f4396-6293-470b-9dff-40bd08365367',\n",
       " 'fdf8af59-972f-4a82-b26c-c2533e7b2d02',\n",
       " 'cf2c8151-2068-4a84-bee9-cbc7d9517ce7',\n",
       " '5970df29-e89a-461d-be5f-f50c349d83c3',\n",
       " '42b4b14b-d8df-4038-a091-f62d20b4dfdb',\n",
       " 'b16b2ab2-26dd-45a9-adab-6c2e091a07b0',\n",
       " '0c17ff33-ce6f-46e3-97cf-a91a8a8613f8',\n",
       " '329b4174-1709-4b88-8f6e-2c0e7465a7cb',\n",
       " '7ba5246a-9390-459e-b58d-7e7667240b43',\n",
       " '7c344ac0-0653-4fe6-ab60-781138961adf',\n",
       " '302e6e39-e2d5-4d59-b4eb-cf774febe96c',\n",
       " '7ea244b7-8aac-444d-9fd1-cbefe16aad07',\n",
       " '51665c9d-b694-48ef-8bcc-b14c780901fb',\n",
       " '27753696-6a3e-47e2-9107-547af67eeec0',\n",
       " '045af52f-671f-4ef3-83d7-d48a6dd46b20',\n",
       " 'beb9c9d0-d1df-4c6d-b852-fa4aedef7e4e',\n",
       " '0a931793-2d7f-43c2-8bfe-6c146b36ea92',\n",
       " 'db26e4ff-a3fc-443f-aefc-c9af92b77d7d',\n",
       " '88a0794d-0eeb-4e17-83ee-2ec3b3e404f3',\n",
       " '97c50a05-8b54-4c12-a1b5-8fb13fd0ee67',\n",
       " 'e5667023-722d-40b2-9622-249c684ebe81',\n",
       " '03c68161-d4e7-43ab-831c-c6373bbc2f0a',\n",
       " 'bce54ca3-0aad-4cda-afde-036b1ad629bd',\n",
       " '02e062ae-de93-4e00-a070-3456bb41b906',\n",
       " 'b807ba7c-4bee-463c-984c-2d4b95a58b1a',\n",
       " 'e4456976-dffc-49d2-ae27-532bac9839f0',\n",
       " '8c0ec780-c682-44d2-aa2b-c80885b55a0d',\n",
       " '30ce4785-ac2d-4268-b367-45c767f2ea51',\n",
       " 'ce60a6c4-41d7-4fd2-b98a-e75135757c90',\n",
       " 'debfda67-54c3-4428-8230-25c564264b5b',\n",
       " '18d56ad0-9892-4bb4-bac5-f6f7b59ccffb',\n",
       " '4724abcf-06e4-4307-a37f-46a255c89af5',\n",
       " 'b7a94c7c-b402-40b7-a6a8-9cf18d23ea87',\n",
       " 'd6713167-5f10-434a-aa6f-9756af19775a',\n",
       " 'd6a042bb-6010-462b-97f3-5c54f436b2ef',\n",
       " '4cf8315b-1202-437c-9b09-29fd7aa11286',\n",
       " '1d8762c9-d28f-4eca-b02e-40624a254ef3',\n",
       " '386c116e-3253-440e-a3db-d5e95cab4f7a',\n",
       " '8506da40-2420-46d7-b197-4f371f6513ce',\n",
       " 'ba6287a4-812b-47db-ab55-5dd6b4370570',\n",
       " '6f12e4c5-8f2a-48de-8638-c9fce53884a1',\n",
       " 'b2afd399-8174-4c56-bde5-4a8679c57b3d',\n",
       " '7550eb5b-c1c8-468d-afe1-aa7c98fbd0a0',\n",
       " '54b3a241-082a-49f1-955a-164fd201c2f6',\n",
       " 'ed4f8473-7423-459d-9be8-2e656bc222bf',\n",
       " 'd51092b2-52d3-4910-a260-c429dacf07d0',\n",
       " 'bb24d56a-c456-4eb2-9df6-7cfaead96a10',\n",
       " 'e72e6dac-ca5c-44a3-bb81-b86cbbb8dbdd',\n",
       " '49adcbfa-bdd7-4803-af61-bd4b4b85d35b',\n",
       " '761b0111-ea53-4afa-8a86-2fba15162d41',\n",
       " 'afcb94f6-c3bd-4120-9ba3-c3e14d97c9ba',\n",
       " '88887fa2-38f2-4564-874b-bd4db2b75d4a',\n",
       " '8b0f6152-3fb0-4232-8c11-899755f8ec61',\n",
       " 'a93614a1-6c00-43a4-a2cc-7a889fb45e70',\n",
       " '1086abe8-759e-4715-a298-90ee1b2cca8e',\n",
       " '80c2b0c2-4b38-49a1-87f0-2022047abd26',\n",
       " '2a88a9eb-9784-48f2-9fd3-57277fc9c539',\n",
       " '42dc6210-ef76-42ec-9242-40165c5925d8',\n",
       " 'f65f17d5-acea-49a3-abcb-f5cac836d6d1',\n",
       " '33d65ed6-b202-46b1-8230-b2afae2b779a',\n",
       " '63f81f89-b91c-4993-a952-b7aab503c7bb',\n",
       " 'aac22867-1089-413c-8cfe-e32aabc3968b',\n",
       " 'ce862c0d-809f-4b25-88b0-eb7c9e373b58',\n",
       " '60c8bcdf-da00-4205-bc4d-4689e950d75a',\n",
       " 'dfe92d15-6008-4cf2-b7c9-fbae52576c38',\n",
       " '22bdb601-4258-4918-910f-ce4787f97ed4',\n",
       " '0cc28c9b-37af-42c1-a659-e9782a06fc8e',\n",
       " '5e8c98e2-b7e9-42a9-8d37-76ac6260ef43',\n",
       " '25396fab-0225-4153-9a5c-9e971cda9915',\n",
       " '6b36a130-9e60-426a-8ecb-39d7cb2dc214',\n",
       " 'a64488a4-0f08-451c-984f-88d85e7954ee',\n",
       " 'a4684933-5d3f-4952-ac0f-86527ac2f010',\n",
       " '5d04d6f4-1549-40ff-87c3-d0271c233ec9',\n",
       " 'e8e8bf86-374d-4bfe-afa8-816f28091c10',\n",
       " '45874b0c-1cc1-4331-ae13-abd1bf4ec5d7',\n",
       " '08ee18a3-793f-4a36-bb19-0f2a76117163',\n",
       " '73076945-0ecf-4ee1-82e1-e9419f89e4e6',\n",
       " '83c0f33f-fefd-4641-a16e-305648fd97fc',\n",
       " '7fbf00ec-7f47-47b3-ba07-8de1965dbd5d',\n",
       " 'e454f9fd-be25-44ea-a647-efa72a02e442',\n",
       " '58a486c0-cc76-4680-8b24-67fb4dc92fb7',\n",
       " '4e8b605d-4f77-4a19-9ed5-cf0603444162',\n",
       " 'fc1578fa-51dc-4454-b9fc-3d63437ea70a',\n",
       " 'b2111260-3196-4f24-a897-a98cd0ed625a',\n",
       " 'e8d4cde0-2b4e-41a6-9cff-94fe2bef960c',\n",
       " 'e30ad46f-f061-4017-900a-bd337c572f06',\n",
       " '5d351ad0-d8aa-474f-b4aa-630e84ccaf70',\n",
       " '7ef668df-528a-4561-b1a9-57796f8b1e07',\n",
       " 'd89f75f3-1330-48d0-9bfd-bbd8b501f31f',\n",
       " '42834e54-272b-4cf4-8ac7-b6d293127d10',\n",
       " 'caabd09a-e700-46bb-a3f6-c54b8ea86c8a',\n",
       " '213f0aca-31cc-48bb-ba0c-25a23cf7240a',\n",
       " '6122bc72-dd8a-4f97-9b79-b1d0a7039ca6',\n",
       " '9e26b4cd-4599-4802-b392-eda3343a548d']"
      ]
     },
     "execution_count": 5,
     "metadata": {},
     "output_type": "execute_result"
    }
   ],
   "source": [
    "wikipedia_loader = WikipediaLoader(query=\"Paestum\")\n",
    "wikipedia_chunks = text_splitter.split_documents(wikipedia_loader.load())\n",
    "vector_db.add_documents(wikipedia_chunks)"
   ]
  },
  {
   "cell_type": "code",
   "execution_count": 6,
   "id": "0ecc12c8-9564-417a-8a57-2072e70e84f6",
   "metadata": {},
   "outputs": [
    {
     "data": {
      "text/plain": [
       "['ef8cad34-9638-41d5-b960-5cd243bb6ded',\n",
       " 'f454ddd5-db47-4d52-8b33-74897f62f487',\n",
       " '538eacd9-f042-49fe-a621-1a145eb782c5',\n",
       " '7b52f81b-ce12-4580-87d3-2cb84a0f8acc',\n",
       " '3b6e021d-145d-47ad-a0c8-53866f8180d0',\n",
       " 'b43b2bce-4631-4ef8-b59f-5ffc9b029d7a',\n",
       " '00da1d67-66a6-49d2-b5a6-bbee2599a7a5',\n",
       " 'a5e33b58-6383-4b67-a12c-9a67991ee5b8']"
      ]
     },
     "execution_count": 6,
     "metadata": {},
     "output_type": "execute_result"
    }
   ],
   "source": [
    "word_loader = Docx2txtLoader(\"Paestum/Paestum-Britannica.docx\")\n",
    "word_chunks = text_splitter.split_documents(word_loader.load())\n",
    "vector_db.add_documents(word_chunks)"
   ]
  },
  {
   "cell_type": "code",
   "execution_count": 7,
   "id": "b2cc85a1-48d4-4514-b4cb-9cceb3b8c2cb",
   "metadata": {},
   "outputs": [
    {
     "data": {
      "text/plain": [
       "['ab34cf5f-3b10-400b-9a6c-bf7b1760907d',\n",
       " '91e4ab26-17c9-487c-bb1b-f65e264014f9',\n",
       " '7908c14b-a341-4fc3-b0f7-9c46eb5fb5a0',\n",
       " '7d8c6529-7c4e-4c91-a4f6-91887c3dd74a',\n",
       " 'af0cfc45-e922-4160-ac05-8a1fb3c89678',\n",
       " '793bc10d-c653-4be0-8106-151169649a75',\n",
       " 'df9f009d-833c-4fe5-b89c-ae5dd6732c75',\n",
       " 'd8ade0de-a474-4a3d-af0d-3b9f4f95e9e9',\n",
       " '72762290-b09f-4223-b591-9e84de4c74a2',\n",
       " '0ad11496-9a80-4af9-b90f-2efb33e76f0b',\n",
       " '6134a621-994b-4314-8faa-a095446fd5a8',\n",
       " '985bb496-ba4f-47a4-9124-52b8148968da',\n",
       " '62975af0-09a5-4e6b-9bff-d47a2e9a3369',\n",
       " 'a6562e12-13d7-4f1c-b094-0d4268bef795',\n",
       " '9e2568da-28b7-4720-bd2c-970df6139464',\n",
       " 'a1a26d50-f770-41c0-8bf2-37372ffca99f',\n",
       " '2fcfdb3b-8880-447b-a07b-65bdc83225c7',\n",
       " '74a3db64-2ac3-4ae4-95b1-f9d7fb86e74d',\n",
       " '4f914af2-50ce-458f-a881-080ba5ee3bce',\n",
       " '98456c3f-db42-4576-bb78-754691ae236b',\n",
       " '07ec9c65-09e0-478b-a33d-b6195b682504',\n",
       " '537f02d5-cf9d-4373-bfcc-ab44cde13019',\n",
       " '13ad756e-552f-4833-96e1-60b33330f4b6',\n",
       " '4c3c743e-bd48-4480-8953-ae4847da0fd1',\n",
       " '4d2d4ec4-87e0-478c-8055-7bdcfb2d31d9',\n",
       " '48f1fb6f-34a2-49ba-94cd-358f7570f2b0',\n",
       " 'b2447cb7-891a-4235-a5e4-7ac7cbe6e220',\n",
       " 'b8f422ba-b53c-449d-8fa1-29aba2f147aa',\n",
       " '0101ebe5-ba68-4c9d-9f53-2860bd95c1f0']"
      ]
     },
     "execution_count": 7,
     "metadata": {},
     "output_type": "execute_result"
    }
   ],
   "source": [
    "pdf_loader = PyPDFLoader(\"Paestum/PaestumRevisited.pdf\")\n",
    "pdf_chunks = text_splitter.split_documents(pdf_loader.load())\n",
    "vector_db.add_documents(pdf_chunks)"
   ]
  },
  {
   "cell_type": "code",
   "execution_count": 8,
   "id": "3dc54fb3-4af8-434c-90f0-3a694a4bb7ce",
   "metadata": {
    "scrolled": true
   },
   "outputs": [
    {
     "data": {
      "text/plain": [
       "['174cf298-d71a-4c64-9abd-bcac7fc26fd3']"
      ]
     },
     "execution_count": 8,
     "metadata": {},
     "output_type": "execute_result"
    }
   ],
   "source": [
    "txt_loader = TextLoader(\"Paestum/Paestum-Encyclopedia.txt\")\n",
    "txt_chunks = text_splitter.split_documents(txt_loader.load())\n",
    "vector_db.add_documents(txt_chunks)"
   ]
  },
  {
   "cell_type": "markdown",
   "id": "f9c3728b-10b3-4468-8c63-33d6748a2fd9",
   "metadata": {},
   "source": [
    "### Removing duplication"
   ]
  },
  {
   "cell_type": "code",
   "execution_count": 9,
   "id": "a000a48a-9d80-41e3-8571-7730b5844365",
   "metadata": {},
   "outputs": [],
   "source": [
    "def split_and_import(loader):\n",
    "     chunks = text_splitter.split_documents(loader.load())\n",
    "     vector_db.add_documents(chunks)\n",
    "     print(f\"Ingested chunks created by {loader}\")"
   ]
  },
  {
   "cell_type": "code",
   "execution_count": 10,
   "id": "146136d6-aec2-4e96-a1fa-05fca61d28e2",
   "metadata": {},
   "outputs": [
    {
     "name": "stdout",
     "output_type": "stream",
     "text": [
      "Ingested chunks created by <langchain_community.document_loaders.wikipedia.WikipediaLoader object at 0x00000255E86A2790>\n",
      "Ingested chunks created by <langchain_community.document_loaders.word_document.Docx2txtLoader object at 0x00000255E7E26C50>\n",
      "Ingested chunks created by <langchain_community.document_loaders.pdf.PyPDFLoader object at 0x00000255E7B7D2D0>\n",
      "Ingested chunks created by <langchain_community.document_loaders.text.TextLoader object at 0x00000255E7B0FF10>\n"
     ]
    }
   ],
   "source": [
    "wikipedia_loader = WikipediaLoader(query=\"Paestum\")\n",
    "split_and_import(wikipedia_loader)\n",
    "\n",
    "word_loader = Docx2txtLoader(\"Paestum/Paestum-Britannica.docx\")\n",
    "split_and_import(word_loader)\n",
    "\n",
    "pdf_loader = PyPDFLoader(\"Paestum/PaestumRevisited.pdf\")\n",
    "split_and_import(pdf_loader)\n",
    "\n",
    "txt_loader = TextLoader(\"Paestum/Paestum-Encyclopedia.txt\")\n",
    "split_and_import(txt_loader)"
   ]
  },
  {
   "cell_type": "markdown",
   "id": "df7dbf7b-221c-4e88-964d-2ab98a294af3",
   "metadata": {},
   "source": [
    "## Ingesting Multiple Documents from a Folder (two techniques)"
   ]
  },
  {
   "cell_type": "markdown",
   "id": "6c8cde59-6e51-4d0d-b83b-3b30a9b0bf16",
   "metadata": {},
   "source": [
    "### 1) Iterating over all files in a folder"
   ]
  },
  {
   "cell_type": "code",
   "execution_count": 11,
   "id": "430cb87d-978f-4a81-9428-b9a40c605096",
   "metadata": {},
   "outputs": [],
   "source": [
    "loader_classes = {\n",
    "    'docx': Docx2txtLoader,\n",
    "    'pdf': PyPDFLoader,\n",
    "    'txt': TextLoader\n",
    "}"
   ]
  },
  {
   "cell_type": "code",
   "execution_count": 12,
   "id": "a31de028-ffec-44b9-973e-d2383697222e",
   "metadata": {},
   "outputs": [],
   "source": [
    "import os\n",
    "\n",
    "def get_loader(filename):\n",
    "    _, file_extension = os.path.splitext(filename) #A Extract the file extension\n",
    "    file_extension = file_extension.lstrip('.') #B Remove the leading dot from the extension\n",
    "    \n",
    "    loader_class = loader_classes.get(file_extension) #C Get the loader class from the dictionary\n",
    "    \n",
    "    if loader_class:\n",
    "        return loader_class(filename) #D Instantiate and return the correct loader\n",
    "    else:\n",
    "        raise ValueError(f\"No loader available for file extension '{file_extension}'\")"
   ]
  },
  {
   "cell_type": "markdown",
   "id": "1b45e9ed-ec13-4111-99ab-ff26107e2eed",
   "metadata": {},
   "source": [
    "#### Ingesting the files from the folder (Exercise solution)"
   ]
  },
  {
   "cell_type": "code",
   "execution_count": 13,
   "id": "1fc4c038-124c-44de-82c2-423c839da426",
   "metadata": {},
   "outputs": [
    {
     "name": "stdout",
     "output_type": "stream",
     "text": [
      "Loader for Acciaroli.pdf: <langchain_community.document_loaders.pdf.PyPDFLoader object at 0x00000255EB03DB90>\n",
      "Ingested chunks created by <langchain_community.document_loaders.pdf.PyPDFLoader object at 0x00000255EB03DB90>\n",
      "Loader for Cape Palinuro.txt: <langchain_community.document_loaders.text.TextLoader object at 0x00000255E6891110>\n",
      "Ingested chunks created by <langchain_community.document_loaders.text.TextLoader object at 0x00000255E6891110>\n",
      "Loader for Casalvelino.txt: <langchain_community.document_loaders.text.TextLoader object at 0x00000255EB043090>\n",
      "Ingested chunks created by <langchain_community.document_loaders.text.TextLoader object at 0x00000255EB043090>\n",
      "Loader for Cilentan coast.docx: <langchain_community.document_loaders.word_document.Docx2txtLoader object at 0x00000255EB4C6AD0>\n",
      "Ingested chunks created by <langchain_community.document_loaders.word_document.Docx2txtLoader object at 0x00000255EB4C6AD0>\n",
      "Loader for Cilento Coast Map and Travel Guide.docx: <langchain_community.document_loaders.word_document.Docx2txtLoader object at 0x00000255EB4C6650>\n",
      "Ingested chunks created by <langchain_community.document_loaders.word_document.Docx2txtLoader object at 0x00000255EB4C6650>\n",
      "Loader for Cilento DOC.pdf: <langchain_community.document_loaders.pdf.PyPDFLoader object at 0x00000255E7E406D0>\n",
      "Ingested chunks created by <langchain_community.document_loaders.pdf.PyPDFLoader object at 0x00000255E7E406D0>\n",
      "Loader for Cilento Park.txt: <langchain_community.document_loaders.text.TextLoader object at 0x00000255D49D0D90>\n",
      "Ingested chunks created by <langchain_community.document_loaders.text.TextLoader object at 0x00000255D49D0D90>\n",
      "Loader for Cilento.docx: <langchain_community.document_loaders.word_document.Docx2txtLoader object at 0x00000255EB4C6650>\n",
      "Ingested chunks created by <langchain_community.document_loaders.word_document.Docx2txtLoader object at 0x00000255EB4C6650>\n",
      "Loader for Cilento.pdf: <langchain_community.document_loaders.pdf.PyPDFLoader object at 0x00000255ED998DD0>\n",
      "Ingested chunks created by <langchain_community.document_loaders.pdf.PyPDFLoader object at 0x00000255ED998DD0>\n",
      "Loader for Marina di Camerota info.pdf: <langchain_community.document_loaders.pdf.PyPDFLoader object at 0x00000255ED99BB90>\n",
      "Ingested chunks created by <langchain_community.document_loaders.pdf.PyPDFLoader object at 0x00000255ED99BB90>\n",
      "Loader for Marina di Camerota.docx: <langchain_community.document_loaders.word_document.Docx2txtLoader object at 0x00000255ED99AD10>\n",
      "Ingested chunks created by <langchain_community.document_loaders.word_document.Docx2txtLoader object at 0x00000255ED99AD10>\n",
      "Loader for NationalParkOfCilentoAndValloDiDiano.txt: <langchain_community.document_loaders.text.TextLoader object at 0x00000255E7E41690>\n",
      "Ingested chunks created by <langchain_community.document_loaders.text.TextLoader object at 0x00000255E7E41690>\n",
      "Loader for Parco Nazionale del Cilento.pdf: <langchain_community.document_loaders.pdf.PyPDFLoader object at 0x00000255ED99BB90>\n",
      "Ingested chunks created by <langchain_community.document_loaders.pdf.PyPDFLoader object at 0x00000255ED99BB90>\n",
      "Loader for Parmenides.docx: <langchain_community.document_loaders.word_document.Docx2txtLoader object at 0x00000255EB072490>\n",
      "Ingested chunks created by <langchain_community.document_loaders.word_document.Docx2txtLoader object at 0x00000255EB072490>\n",
      "Loader for Santa Maria di Castellabate.docx: <langchain_community.document_loaders.word_document.Docx2txtLoader object at 0x00000255EB06AC90>\n",
      "Ingested chunks created by <langchain_community.document_loaders.word_document.Docx2txtLoader object at 0x00000255EB06AC90>\n",
      "Loader for Velia.pdf: <langchain_community.document_loaders.pdf.PyPDFLoader object at 0x00000255EB069D50>\n",
      "Ingested chunks created by <langchain_community.document_loaders.pdf.PyPDFLoader object at 0x00000255EB069D50>\n"
     ]
    }
   ],
   "source": [
    "folder_path = \"CilentoTouristInfo\" #A Path to the folder containing the documents\n",
    "\n",
    "for filename in os.listdir(folder_path): #B iterate over the files in the path\n",
    "    file_path = os.path.join(folder_path, filename) #C Construct the full path to the file\n",
    "   \n",
    "    if os.path.isfile(file_path): #D Check if it is a file (not a directory)\n",
    "        try:\n",
    "            loader = get_loader(file_path) #E Instantiate the correct loader for the file\n",
    "            print(f\"Loader for {filename}: {loader}\")\n",
    "            split_and_import(loader) #F Split and ingest\n",
    "        except ValueError as e:\n",
    "            print(e)"
   ]
  },
  {
   "cell_type": "markdown",
   "id": "1147202e-d94a-4208-bd56-b7f068fdf9da",
   "metadata": {},
   "source": [
    "### 2) Ingesting all files with with DirectoryLoader"
   ]
  },
  {
   "cell_type": "code",
   "execution_count": 15,
   "id": "ce5cff86-e921-4d15-bab9-b4215b11fcb6",
   "metadata": {},
   "outputs": [
    {
     "ename": "NameError",
     "evalue": "name 'DirectoryLoader' is not defined",
     "output_type": "error",
     "traceback": [
      "\u001b[31m---------------------------------------------------------------------------\u001b[39m",
      "\u001b[31mNameError\u001b[39m                                 Traceback (most recent call last)",
      "\u001b[36mCell\u001b[39m\u001b[36m \u001b[39m\u001b[32mIn[15]\u001b[39m\u001b[32m, line 8\u001b[39m\n\u001b[32m      5\u001b[39m folder_path = \u001b[33m\"\u001b[39m\u001b[33mCilentoTouristInfo\u001b[39m\u001b[33m\"\u001b[39m\n\u001b[32m      6\u001b[39m pattern = \u001b[33m\"\u001b[39m\u001b[33m**/*.\u001b[39m\u001b[33m{\u001b[39m\u001b[33mdocx,pdf,txt}\u001b[39m\u001b[33m\"\u001b[39m \u001b[38;5;66;03m#A Pattern to match .docx, .pdf, and .txt files\u001b[39;00m\n\u001b[32m----> \u001b[39m\u001b[32m8\u001b[39m directory_loader = \u001b[43mDirectoryLoader\u001b[49m(folder_path, pattern) \u001b[38;5;66;03m#B Initialize the DirectoryLoader with the folder path and pattern\u001b[39;00m\n\u001b[32m      9\u001b[39m split_and_import(directory_loader)\n",
      "\u001b[31mNameError\u001b[39m: name 'DirectoryLoader' is not defined"
     ]
    }
   ],
   "source": [
    "# ONLY RUN THIS IF YOU HAVE SUCCESFULLY INSTALLED unstructured or langchain-unstructured\n",
    "# THE INSTALLATION IS OPERATIVE SYSTEM SPECIFIC\n",
    "# follow LangChain instructions at https://python.langchain.com/v0.2/docs/integrations/providers/unstructured/ or \n",
    "# Unstructured instructions at https://docs.unstructured.io/welcome#quickstart-unstructured-open-source-library\n",
    "folder_path = \"CilentoTouristInfo\"\n",
    "pattern = \"**/*.{docx,pdf,txt}\" #A Pattern to match .docx, .pdf, and .txt files\n",
    "\n",
    "directory_loader = DirectoryLoader(folder_path, pattern) #B Initialize the DirectoryLoader with the folder path and pattern\n",
    "split_and_import(directory_loader)"
   ]
  },
  {
   "cell_type": "markdown",
   "id": "1631170d-373f-4498-ad80-144d8ee9c784",
   "metadata": {},
   "source": [
    "## Querying the vector store directly"
   ]
  },
  {
   "cell_type": "code",
   "execution_count": 16,
   "id": "af87991d-bbbb-47d2-87d0-365aca4d4b3a",
   "metadata": {},
   "outputs": [
    {
     "name": "stdout",
     "output_type": "stream",
     "text": [
      "[Document(id='c4c678c2-a931-454e-895b-6b9f8de1bbde', metadata={'source': 'https://en.wikipedia.org/wiki/Paestum', 'summary': 'Paestum ( PEST-əm, US also  PEE-stəm, Latin: [ˈpae̯stũː]) was a major ancient Greek city on the coast of the Tyrrhenian Sea, in Magna Graecia. The ruins of Paestum are famous for their three ancient Greek temples in the Doric order dating from about 550 to 450 BCE that are in an excellent state of preservation. The city walls and amphitheatre are largely intact, and the bottom of the walls of many other structures remain, as well as paved roads. The site is open to the public, and there is a modern national museum within it, which also contains the finds from the associated Greek site of Foce del Sele.\\nPaestum was established around 600 BCE by settlers from Sybaris, a Greek colony in southern Italy, under the name of Poseidonia (Ancient Greek: Ποσειδωνία). The city thrived as a Greek settlement for about two centuries, witnessing the development of democracy. In 400 BCE, the Lucanians seized the city. Romans took over in 273 BCE, renaming it Paestum and establishing a Latin colony. Later, its decline ensued from shifts in trade routes and the onset of flooding and marsh formation. As Pesto or Paestum, the town became a bishopric (now only titular), but it was abandoned in the Early Middle Ages, and left undisturbed and largely forgotten until the eighteenth century.\\nToday the remains of the city are found in the modern frazione of Paestum, which is part of the comune of Capaccio Paestum in the Province of Salerno in the region of Campania, Italy. The modern settlement, directly to the south of the archaeological site, is a popular seaside resort with long sandy beaches. The Paestum railway station on the Naples-Salerno-Reggio Calabria railway line is directly to the east of the ancient city walls.\\n\\n', 'title': 'Paestum'}, page_content='== Name ==\\nThe Greek settlers who founded the city originally named it Poseidonia (Ancient Greek: Ποσειδωνία). It was eventually conquered by the local Lucanians and later the Romans. The Lucanians renamed it to Paistos and the Romans gave the city its current name.\\n\\n\\n== Ancient ruins and features =='), Document(id='e11a35ea-3688-42e6-b1dd-b74b3e81157a', metadata={'source': 'https://en.wikipedia.org/wiki/Paestum', 'summary': 'Paestum ( PEST-əm, US also  PEE-stəm, Latin: [ˈpae̯stũː]) was a major ancient Greek city on the coast of the Tyrrhenian Sea, in Magna Graecia. The ruins of Paestum are famous for their three ancient Greek temples in the Doric order dating from about 550 to 450 BCE that are in an excellent state of preservation. The city walls and amphitheatre are largely intact, and the bottom of the walls of many other structures remain, as well as paved roads. The site is open to the public, and there is a modern national museum within it, which also contains the finds from the associated Greek site of Foce del Sele.\\nPaestum was established around 600 BCE by settlers from Sybaris, a Greek colony in southern Italy, under the name of Poseidonia (Ancient Greek: Ποσειδωνία). The city thrived as a Greek settlement for about two centuries, witnessing the development of democracy. In 400 BCE, the Lucanians seized the city. Romans took over in 273 BCE, renaming it Paestum and establishing a Latin colony. Later, its decline ensued from shifts in trade routes and the onset of flooding and marsh formation. As Pesto or Paestum, the town became a bishopric (now only titular), but it was abandoned in the Early Middle Ages, and left undisturbed and largely forgotten until the eighteenth century.\\nToday the remains of the city are found in the modern frazione of Paestum, which is part of the comune of Capaccio Paestum in the Province of Salerno in the region of Campania, Italy. The modern settlement, directly to the south of the archaeological site, is a popular seaside resort with long sandy beaches. The Paestum railway station on the Naples-Salerno-Reggio Calabria railway line is directly to the east of the ancient city walls.\\n\\n', 'title': 'Paestum'}, page_content='== Name ==\\nThe Greek settlers who founded the city originally named it Poseidonia (Ancient Greek: Ποσειδωνία). It was eventually conquered by the local Lucanians and later the Romans. The Lucanians renamed it to Paistos and the Romans gave the city its current name.\\n\\n\\n== Ancient ruins and features =='), Document(id='31431349-d10e-48dd-b763-b9e61bcaa216', metadata={'source': 'https://en.wikipedia.org/wiki/Paestum', 'summary': 'Paestum ( PEST-əm, US also  PEE-stəm, Latin: [ˈpae̯stũː]) was a major ancient Greek city on the coast of the Tyrrhenian Sea, in Magna Graecia. The ruins of Paestum are famous for their three ancient Greek temples in the Doric order dating from about 550 to 450 BCE that are in an excellent state of preservation. The city walls and amphitheatre are largely intact, and the bottom of the walls of many other structures remain, as well as paved roads. The site is open to the public, and there is a modern national museum within it, which also contains the finds from the associated Greek site of Foce del Sele.\\nPaestum was established around 600 BCE by settlers from Sybaris, a Greek colony in southern Italy, under the name of Poseidonia (Ancient Greek: Ποσειδωνία). The city thrived as a Greek settlement for about two centuries, witnessing the development of democracy. In 400 BCE, the Lucanians seized the city. Romans took over in 273 BCE, renaming it Paestum and establishing a Latin colony. Later, its decline ensued from shifts in trade routes and the onset of flooding and marsh formation. As Pesto or Paestum, the town became a bishopric (now only titular), but it was abandoned in the Early Middle Ages, and left undisturbed and largely forgotten until the eighteenth century.\\nToday the remains of the city are found in the modern frazione of Paestum, which is part of the comune of Capaccio Paestum in the Province of Salerno in the region of Campania, Italy. The modern settlement, directly to the south of the archaeological site, is a popular seaside resort with long sandy beaches. The Paestum railway station on the Naples-Salerno-Reggio Calabria railway line is directly to the east of the ancient city walls.\\n\\n', 'title': 'Paestum'}, page_content='== Name ==\\nThe Greek settlers who founded the city originally named it Poseidonia (Ancient Greek: Ποσειδωνία). It was eventually conquered by the local Lucanians and later the Romans. The Lucanians renamed it to Paistos and the Romans gave the city its current name.\\n\\n\\n== Ancient ruins and features =='), Document(id='a609dbea-0962-4487-aef5-9fb830f41ba1', metadata={'source': 'Paestum/Paestum-Britannica.docx'}, page_content='Poseidonia was probably founded about 600\\xa0BC\\xa0by Greek colonists from\\xa0Sybaris, along the\\xa0Gulf of Taranto, and it had become a flourishing town by 540, judging from its temples. After many years’ resistance the city came under the domination of the\\xa0Lucanians\\xa0(an\\xa0indigenous\\xa0Italic people) sometime before 400\\xa0BC, after which its name was changed to Paestum. Alexander, the king of Epirus, defeated the Lucanians at Paestum about 332\\xa0BC, but the city remained Lucanian until 273, when it came under')]\n"
     ]
    }
   ],
   "source": [
    "query = \"Where was Poseidonia and who renamed it to Paestum?\" \n",
    "results = vector_db.similarity_search(query, 4) # four clostest results\n",
    "print(results)"
   ]
  },
  {
   "cell_type": "code",
   "execution_count": 17,
   "id": "dadf5ded-1f72-4e96-ad7c-b995e44dfecd",
   "metadata": {},
   "outputs": [
    {
     "data": {
      "text/plain": [
       "4"
      ]
     },
     "execution_count": 17,
     "metadata": {},
     "output_type": "execute_result"
    }
   ],
   "source": [
    "len(results)"
   ]
  },
  {
   "cell_type": "markdown",
   "id": "6dc0c334-66e4-4bb3-b0ab-1c32a03dd05b",
   "metadata": {},
   "source": [
    "## Asking a question through a RAG chain"
   ]
  },
  {
   "cell_type": "code",
   "execution_count": 18,
   "id": "9f6ad4a5-b79d-428f-9367-7a9f1a56d2ee",
   "metadata": {},
   "outputs": [
    {
     "name": "stdin",
     "output_type": "stream",
     "text": [
      "Enter your OPENAI_API_KEY ········\n"
     ]
    }
   ],
   "source": [
    "from openai import OpenAI\n",
    "import getpass\n",
    "\n",
    "OPENAI_API_KEY = getpass.getpass('Enter your OPENAI_API_KEY')"
   ]
  },
  {
   "cell_type": "code",
   "execution_count": 19,
   "id": "82221dc4-7627-403a-bcdb-cb987ba41184",
   "metadata": {},
   "outputs": [],
   "source": [
    "from langchain_core.prompts import PromptTemplate\n",
    "\n",
    "rag_prompt_template = \"\"\"Use the following pieces of context to answer the question at the end. \n",
    "If you don't know the answer, just say that you don't know, don't try to make up an answer.\n",
    "Use three sentences maximum and keep the answer as concise as possible.\n",
    "{context}\n",
    "Question: {question}\n",
    "Helpful Answer:\"\"\"\n",
    "\n",
    "rag_prompt = PromptTemplate.from_template(rag_prompt_template)"
   ]
  },
  {
   "cell_type": "code",
   "execution_count": 20,
   "id": "e752e194-142a-45ad-8f2f-171487b3eb5b",
   "metadata": {},
   "outputs": [],
   "source": [
    "retriever = vector_db.as_retriever()"
   ]
  },
  {
   "cell_type": "code",
   "execution_count": 21,
   "id": "6f34248c-baea-4146-bfd4-e6fb193e6dbb",
   "metadata": {},
   "outputs": [],
   "source": [
    "from langchain_core.runnables import RunnablePassthrough\n",
    "question_feeder = RunnablePassthrough()"
   ]
  },
  {
   "cell_type": "code",
   "execution_count": 22,
   "id": "7eb75492-8913-42e5-b707-aad2592d8fa5",
   "metadata": {},
   "outputs": [],
   "source": [
    "from langchain_openai import ChatOpenAI\n",
    "\n",
    "chatbot = ChatOpenAI(openai_api_key=OPENAI_API_KEY, model_name=\"gpt-4o-mini\")"
   ]
  },
  {
   "cell_type": "code",
   "execution_count": 23,
   "id": "df278726-e951-4b8c-8eb9-873992427e47",
   "metadata": {},
   "outputs": [],
   "source": [
    "# set up RAG chain\n",
    "\n",
    "rag_chain = {\"context\": retriever, \"question\": question_feeder} | rag_prompt | chatbot"
   ]
  },
  {
   "cell_type": "code",
   "execution_count": 24,
   "id": "4bb68aff-1b72-4126-8e17-b501fcb2860a",
   "metadata": {},
   "outputs": [],
   "source": [
    "def execute_chain(chain, question):\n",
    "    answer = chain.invoke(question)\n",
    "    return answer"
   ]
  },
  {
   "cell_type": "code",
   "execution_count": 25,
   "id": "88321863-cdb1-41fc-aa14-bb9b5792338c",
   "metadata": {},
   "outputs": [
    {
     "name": "stdout",
     "output_type": "stream",
     "text": [
      "Poseidonia was an ancient Greek city located on the coast of the Tyrrhenian Sea in Magna Graecia, founded by settlers from Sybaris. It was renamed Paestum by the Romans after they took over the city in 273 BCE. The source of this information is the Wikipedia page on Paestum.\n"
     ]
    }
   ],
   "source": [
    "question = \"Where was Poseidonia and who renamed it to Paestum. Also tell me the source.\" \n",
    "answer = execute_chain(rag_chain, question)\n",
    "print(answer.content)"
   ]
  },
  {
   "cell_type": "code",
   "execution_count": 26,
   "id": "4541b4a5-2e9e-4a80-963f-1279fad916ac",
   "metadata": {},
   "outputs": [
    {
     "name": "stdout",
     "output_type": "stream",
     "text": [
      "content='Poseidonia was an ancient Greek city located on the coast of the Tyrrhenian Sea in Magna Graecia, founded by settlers from Sybaris. It was renamed Paestum by the Romans after they took over the city in 273 BCE. The source of this information is the Wikipedia page on Paestum.' additional_kwargs={'refusal': None} response_metadata={'token_usage': {'completion_tokens': 68, 'prompt_tokens': 1877, 'total_tokens': 1945, 'completion_tokens_details': {'accepted_prediction_tokens': 0, 'audio_tokens': 0, 'reasoning_tokens': 0, 'rejected_prediction_tokens': 0}, 'prompt_tokens_details': {'audio_tokens': 0, 'cached_tokens': 0}}, 'model_name': 'gpt-4o-mini-2024-07-18', 'system_fingerprint': 'fp_0392822090', 'id': 'chatcmpl-BW7LRZDYrU301e20Vw9F3wZiJWClW', 'service_tier': 'default', 'finish_reason': 'stop', 'logprobs': None} id='run--3c0dc11a-2054-48a9-873d-3de7c54f20c0-0' usage_metadata={'input_tokens': 1877, 'output_tokens': 68, 'total_tokens': 1945, 'input_token_details': {'audio': 0, 'cache_read': 0}, 'output_token_details': {'audio': 0, 'reasoning': 0}}\n"
     ]
    }
   ],
   "source": [
    "print(answer)"
   ]
  },
  {
   "cell_type": "code",
   "execution_count": 28,
   "id": "53a5742a-62ae-442a-a30e-4380507489aa",
   "metadata": {},
   "outputs": [
    {
     "name": "stdout",
     "output_type": "stream",
     "text": [
      "I don't know. The provided context does not specify what actions were taken following any events. The sources mentioned are primarily about the Doric order of architecture and the Roman Catholic Diocese of Pesto.\n"
     ]
    }
   ],
   "source": [
    "question = \"And then, what did they do? Also tell me the source\" \n",
    "answer = execute_chain(rag_chain, question)\n",
    "print(answer.content)"
   ]
  },
  {
   "cell_type": "markdown",
   "id": "4c76bbc1-b3c5-4e86-95dd-5f8c85dfaafd",
   "metadata": {},
   "source": [
    "## Chatbot memory of message history"
   ]
  },
  {
   "cell_type": "code",
   "execution_count": 24,
   "id": "2f548719-575c-4796-9adc-f84c1dc30aaa",
   "metadata": {},
   "outputs": [],
   "source": [
    "from langchain_core.runnables import RunnablePassthrough\n",
    "from langchain_openai import ChatOpenAI\n",
    "from langchain_core.prompts import ChatPromptTemplate\n",
    "from langchain_community.chat_message_histories import ChatMessageHistory\n",
    "from langchain_core.runnables import RunnableLambda\n",
    "\n",
    "rag_prompt = ChatPromptTemplate.from_messages(\n",
    "    [\n",
    "        (\"system\", \"You are a helpful assistant, world-class expert in Roman and Greek history, especially in towns located in southern Italy. Provide interesting insights on local history and recommend places to visit with knowledgeable and engaging answers. Answer all questions to the best of your ability, but only use what has been provided in the context. If you don't know, just say you don't know. Use three sentences maximum and keep the answer as concise as possible.\"),\n",
    "        (\"placeholder\", \"{chat_history_messages}\"),\n",
    "        (\"assistant\", \"{retrieved_context}\"),\n",
    "        (\"human\", \"{question}\"),\n",
    "    ]\n",
    ")\n",
    "\n",
    "retriever = vector_db.as_retriever()\n",
    "question_feeder = RunnablePassthrough()\n",
    "chatbot = ChatOpenAI(openai_api_key=OPENAI_API_KEY, model_name=\"gpt-4o-mini\")\n",
    "chat_history_memory = ChatMessageHistory()\n",
    "\n",
    "def get_messages(x):\n",
    "    return chat_history_memory.messages\n",
    "\n",
    "rag_chain = {\n",
    "    \"retrieved_context\": retriever, \n",
    "    \"question\": question_feeder,\n",
    "    \"chat_history_messages\": RunnableLambda(get_messages)\n",
    "} | rag_prompt | chatbot\n",
    "\n",
    "def execute_chain_with_memory(chain, question):\n",
    "    chat_history_memory.add_user_message(question)\n",
    "    answer = chain.invoke(question)\n",
    "    chat_history_memory.add_ai_message(answer)\n",
    "    print(f'Full chat message history: {chat_history_memory.messages}\\n\\n')                                      \n",
    "    return answer"
   ]
  },
  {
   "cell_type": "code",
   "execution_count": 25,
   "id": "3f38fc7a-a8f4-4795-9c4f-3c2b576e136e",
   "metadata": {},
   "outputs": [
    {
     "name": "stdout",
     "output_type": "stream",
     "text": [
      "Full chat message history: [HumanMessage(content='Where was Poseidonia and who renamed it to Paestum? Also tell me the source.'), AIMessage(content='Poseidonia was an ancient Greek city located on the coast of the Tyrrhenian Sea in southern Italy, specifically in the region of Campania. It was renamed Paestum by the Romans after they took control in 273 BC, following its earlier conquest by the Lucanians who originally renamed it to Paistos. The source of this information is Wikipedia.', additional_kwargs={'refusal': None}, response_metadata={'token_usage': {'completion_tokens': 73, 'prompt_tokens': 1485, 'total_tokens': 1558}, 'model_name': 'gpt-4o-mini-2024-07-18', 'system_fingerprint': 'fp_48196bc67a', 'finish_reason': 'stop', 'logprobs': None}, id='run-87d0d9d8-44a7-493a-9eb5-e07ac4394fc6-0', usage_metadata={'input_tokens': 1485, 'output_tokens': 73, 'total_tokens': 1558})]\n",
      "\n",
      "\n",
      "Poseidonia was an ancient Greek city located on the coast of the Tyrrhenian Sea in southern Italy, specifically in the region of Campania. It was renamed Paestum by the Romans after they took control in 273 BC, following its earlier conquest by the Lucanians who originally renamed it to Paistos. The source of this information is Wikipedia.\n"
     ]
    }
   ],
   "source": [
    "question = \"Where was Poseidonia and who renamed it to Paestum? Also tell me the source.\" \n",
    "answer = execute_chain_with_memory(rag_chain, question)\n",
    "print(answer.content)"
   ]
  },
  {
   "cell_type": "code",
   "execution_count": 26,
   "id": "fa8dd731-7414-4f57-baca-c1e25d7d5741",
   "metadata": {},
   "outputs": [
    {
     "name": "stdout",
     "output_type": "stream",
     "text": [
      "Full chat message history: [HumanMessage(content='Where was Poseidonia and who renamed it to Paestum? Also tell me the source.'), AIMessage(content='Poseidonia was an ancient Greek city located on the coast of the Tyrrhenian Sea in southern Italy, specifically in the region of Campania. It was renamed Paestum by the Romans after they took control in 273 BC, following its earlier conquest by the Lucanians who originally renamed it to Paistos. The source of this information is Wikipedia.', additional_kwargs={'refusal': None}, response_metadata={'token_usage': {'completion_tokens': 73, 'prompt_tokens': 1485, 'total_tokens': 1558}, 'model_name': 'gpt-4o-mini-2024-07-18', 'system_fingerprint': 'fp_48196bc67a', 'finish_reason': 'stop', 'logprobs': None}, id='run-87d0d9d8-44a7-493a-9eb5-e07ac4394fc6-0', usage_metadata={'input_tokens': 1485, 'output_tokens': 73, 'total_tokens': 1558}), HumanMessage(content='And then what did they do? Also tell me the source'), AIMessage(content='After the Romans renamed Poseidonia to Paestum, they developed it into a significant urban center, enhancing its infrastructure with impressive public buildings, including temples and a forum. Paestum is renowned for its well-preserved Greek temples, which are among the best examples of Doric architecture outside Greece. The source of this information is Wikipedia.', additional_kwargs={'refusal': None}, response_metadata={'token_usage': {'completion_tokens': 69, 'prompt_tokens': 1400, 'total_tokens': 1469}, 'model_name': 'gpt-4o-mini-2024-07-18', 'system_fingerprint': 'fp_48196bc67a', 'finish_reason': 'stop', 'logprobs': None}, id='run-a28e5c58-fc50-46d3-b169-824ce72e1061-0', usage_metadata={'input_tokens': 1400, 'output_tokens': 69, 'total_tokens': 1469})]\n",
      "\n",
      "\n",
      "After the Romans renamed Poseidonia to Paestum, they developed it into a significant urban center, enhancing its infrastructure with impressive public buildings, including temples and a forum. Paestum is renowned for its well-preserved Greek temples, which are among the best examples of Doric architecture outside Greece. The source of this information is Wikipedia.\n"
     ]
    }
   ],
   "source": [
    "question = \"And then what did they do? Also tell me the source\" \n",
    "answer = execute_chain_with_memory(rag_chain, question)\n",
    "print(answer.content)"
   ]
  },
  {
   "cell_type": "markdown",
   "id": "bf71e1b7-7a7a-4dcf-8cad-43fa43fcf09d",
   "metadata": {},
   "source": [
    "## Tracing with LangSmith"
   ]
  },
  {
   "cell_type": "code",
   "execution_count": 27,
   "id": "0e817ec3-6e94-4a82-b1a7-8ab641a48080",
   "metadata": {},
   "outputs": [],
   "source": [
    "from langsmith import trace\n",
    "from langsmith import Client, traceable"
   ]
  },
  {
   "cell_type": "code",
   "execution_count": 28,
   "id": "f567cd13-d121-49b2-a36a-3896ba8a67e6",
   "metadata": {},
   "outputs": [
    {
     "name": "stdin",
     "output_type": "stream",
     "text": [
      "Enter your LANGSMITH_API_KEY ········\n"
     ]
    }
   ],
   "source": [
    "LANGSMITH_API_KEY= getpass.getpass('Enter your LANGSMITH_API_KEY')"
   ]
  },
  {
   "cell_type": "code",
   "execution_count": 29,
   "id": "4bc737dc-2d4c-402c-b7e8-af8df0c47fd1",
   "metadata": {},
   "outputs": [],
   "source": [
    "langsmith_client = Client(\n",
    "    api_key=LANGSMITH_API_KEY,\n",
    "    api_url=\"https://api.smith.langchain.com\",  \n",
    ")"
   ]
  },
  {
   "cell_type": "code",
   "execution_count": 30,
   "id": "68788575-4418-4943-8efc-9629f69e85bc",
   "metadata": {},
   "outputs": [
    {
     "name": "stdout",
     "output_type": "stream",
     "text": [
      "content='Poseidonia was located on the coast of the Tyrrhenian Sea in southern Italy, specifically in the region of Campania. It was renamed Paestum by the Romans after they took control of the city in 273 BC. The source of this information is Wikipedia.' additional_kwargs={'refusal': None} response_metadata={'token_usage': {'completion_tokens': 56, 'prompt_tokens': 1651, 'total_tokens': 1707}, 'model_name': 'gpt-4o-mini-2024-07-18', 'system_fingerprint': 'fp_507c9469a1', 'finish_reason': 'stop', 'logprobs': None} id='run-9c48975a-2ebb-422b-b6f6-7a2f5b8d03b1-0' usage_metadata={'input_tokens': 1651, 'output_tokens': 56, 'total_tokens': 1707}\n"
     ]
    }
   ],
   "source": [
    "question = \"Where was Poseidonia and who renamed it to Paestum. Also tell me the source.\" \n",
    "with trace(\"Chat Pipeline\", \"chain\", project_name=\"Q&A chatbot\", inputs={\"input\": question}, client=langsmith_client) as rt:\n",
    "    answer = execute_chain(rag_chain, question)\n",
    "    print(answer)\n",
    "    rt.end(outputs={\"output\": answer})"
   ]
  },
  {
   "cell_type": "markdown",
   "id": "ade41e33-062d-473f-963a-9d1bc96bb7bd",
   "metadata": {},
   "source": [
    "## Setting up Q&A chain with RetrievalQA"
   ]
  },
  {
   "cell_type": "code",
   "execution_count": 31,
   "id": "b22731bc-469e-4c62-9dc3-bed63a498bdd",
   "metadata": {},
   "outputs": [],
   "source": [
    "from langchain.chains import RetrievalQA\n",
    "rag_chain = RetrievalQA.from_chain_type(llm=chatbot, chain_type=\"stuff\", retriever=retriever, return_source_documents=False)"
   ]
  },
  {
   "cell_type": "code",
   "execution_count": 32,
   "id": "8b7ab2fe-e21c-412f-a35b-177b58d452ae",
   "metadata": {},
   "outputs": [
    {
     "name": "stdout",
     "output_type": "stream",
     "text": [
      "{'query': 'Where was Poseidonia and who renamed it to Paestum. Also tell me the source.', 'result': 'Poseidonia was located along the Gulf of Taranto in what is now Italy. It was originally founded by Greek colonists from Sybaris around 600 BC. The city was conquered by the local Lucanians, an indigenous Italic people, who renamed it to Paestum. \\n\\nThe source of this information is the provided context.'}\n"
     ]
    }
   ],
   "source": [
    "question = \"Where was Poseidonia and who renamed it to Paestum. Also tell me the source.\" \n",
    "with trace(\"RetrievalQA\", \"chain\", project_name=\"Q&A chatbot\", inputs={\"input\": question}, client=langsmith_client) as rt:\n",
    "    answer = execute_chain(rag_chain, question)\n",
    "    print(answer)\n",
    "    rt.end(outputs={\"output\": answer})"
   ]
  }
 ],
 "metadata": {
  "kernelspec": {
   "display_name": "Python 3 (ipykernel)",
   "language": "python",
   "name": "python3"
  },
  "language_info": {
   "codemirror_mode": {
    "name": "ipython",
    "version": 3
   },
   "file_extension": ".py",
   "mimetype": "text/x-python",
   "name": "python",
   "nbconvert_exporter": "python",
   "pygments_lexer": "ipython3",
   "version": "3.11.9"
  }
 },
 "nbformat": 4,
 "nbformat_minor": 5
}
