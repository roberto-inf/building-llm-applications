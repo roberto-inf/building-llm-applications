{
 "cells": [
  {
   "cell_type": "markdown",
   "id": "c4511fcd-456f-4612-91cf-40efb9592858",
   "metadata": {},
   "source": [
    "# Q&A across documents with LangChain and LangSmith"
   ]
  },
  {
   "cell_type": "code",
   "execution_count": 4,
   "id": "df920cd9-31be-4bf6-916d-25083625d8f7",
   "metadata": {},
   "outputs": [],
   "source": [
    "from langchain_community.document_loaders import WikipediaLoader, Docx2txtLoader, PyPDFLoader, TextLoader\n",
    "\n",
    "from langchain_chroma import Chroma\n",
    "from langchain_text_splitters import RecursiveCharacterTextSplitter\n",
    "from langchain_openai import OpenAIEmbeddings"
   ]
  },
  {
   "cell_type": "code",
   "execution_count": 5,
   "id": "85b14068-78d4-47ae-8fce-a95d9055120b",
   "metadata": {},
   "outputs": [
    {
     "name": "stdin",
     "output_type": "stream",
     "text": [
      "Enter your OPENAI_API_KEY ········\n"
     ]
    }
   ],
   "source": [
    "import getpass\n",
    "OPENAI_API_KEY = getpass.getpass('Enter your OPENAI_API_KEY')"
   ]
  },
  {
   "cell_type": "markdown",
   "id": "cd2b5787-105a-44a9-90a9-fdb3e026aa7d",
   "metadata": {},
   "source": [
    "## Setting up vector database and embeddings"
   ]
  },
  {
   "cell_type": "code",
   "execution_count": 6,
   "id": "33f0e3ba-c17f-454f-b62f-a1311438e316",
   "metadata": {},
   "outputs": [],
   "source": [
    "text_splitter = RecursiveCharacterTextSplitter(chunk_size=500, chunk_overlap=0)\n",
    "embeddings_model = OpenAIEmbeddings(openai_api_key=OPENAI_API_KEY)\n",
    "vector_db = Chroma(\"tourist_info\", embeddings_model)"
   ]
  },
  {
   "cell_type": "code",
   "execution_count": 7,
   "id": "8e1eff7c-bdb9-44c5-96f6-ab3b50847f8a",
   "metadata": {},
   "outputs": [
    {
     "data": {
      "text/plain": [
       "['f7394a96-4244-4733-8d4a-54fb12a5dd93',\n",
       " 'c52fdefd-080a-413c-a799-3a0c0cdee3f1',\n",
       " 'd14b61d4-999b-414c-94e2-a296ed3cdc4f',\n",
       " 'cc7dc556-2944-48dd-b9d3-7db465bc0c52',\n",
       " 'c7b8af56-52e0-490e-9cdc-724efca607f8',\n",
       " 'dc90ac3e-50af-4b6e-9648-794aff7dd10c',\n",
       " '8a5efdbe-8127-428b-a885-ae6b9ab7fae4',\n",
       " '01e55391-3970-4ce9-a15f-c9d531c935e1',\n",
       " '9bde845f-3ee3-4514-9e12-1c5a9f95dc1f',\n",
       " 'c05818e4-3a6d-418a-95ec-1679ea139d02',\n",
       " 'bdfac5cf-0580-4ee6-85ec-147c8b60abda',\n",
       " 'a0159327-2752-46a0-a0af-09795147672d',\n",
       " '53901a5b-babf-468c-b091-63d3e921e4c0',\n",
       " 'fd47a3af-749c-48f4-8978-98cb7e7a3cd4',\n",
       " '45ca270a-93f6-42d6-8b2b-8f9291c6bac3',\n",
       " 'f9585e91-420a-4576-a983-0d37c61a9aca',\n",
       " 'a25ac07e-60a1-4e42-8199-6b1ab476ac21',\n",
       " 'ff27bea3-749c-46ed-9f42-4c5bd4516887',\n",
       " '2c352524-464e-422a-bc32-f7f103ff25a3',\n",
       " '0846a6cf-5630-43fd-9d72-beaf38dc9b34',\n",
       " '407b059b-7bf8-418f-b0da-734bc11d9c28',\n",
       " '886a2577-0b04-4bf9-bfb3-692b3f9938fe',\n",
       " '07acb600-065a-4c5d-900f-d0833cce212c',\n",
       " '48cb2df0-6427-440c-aa3b-feb3f55201ba',\n",
       " '6ebc539a-0458-4243-8d34-743a7d31a847',\n",
       " 'f9b138b7-5828-4b03-ba68-bab8e9000a39',\n",
       " '56fb0ec3-6e28-4fb3-810a-c58c7f0df27e',\n",
       " '9ff760e1-5ab4-4917-aa6e-3e8fb4ca761f',\n",
       " '05c9efb6-d5db-4fe7-a9db-b75fc0fec7a1',\n",
       " '71432a90-3080-42ba-9cba-d1148c05b881',\n",
       " '5dc62c65-8ad5-491f-9b0b-e91891c4a95b',\n",
       " '25a7d5c6-6ec1-495d-bde6-c742f2ac015d',\n",
       " '5855db3e-0592-47f7-9aae-a52e3322c723',\n",
       " '94ff758a-3d3e-4a2c-b420-168f3f0f91ba',\n",
       " '4492e65e-59fc-41e9-aa50-6e9ee409fb6d',\n",
       " '4a947bce-a425-4ee4-9dcd-64d15869b705',\n",
       " 'c1a94256-e029-4073-ab14-86d4291dc911',\n",
       " 'cdc4f077-be18-4011-b51b-e6fd443197b3',\n",
       " '1290d523-9158-44b5-bd08-a5fafa313292',\n",
       " 'dc9c122a-5471-49e9-9eae-f54c7fd6a136',\n",
       " 'b8053bea-1caf-4cb3-a027-6e00f96006cc',\n",
       " 'e1a32dc7-ff5c-41a7-b811-2782dbc04aa2',\n",
       " 'c6df18a6-e426-467b-8400-a628df3aa76a',\n",
       " '74625798-0ddc-4534-9bf8-71e1136805d3',\n",
       " 'ea8a8182-62f4-435d-9501-42ff2101fffc',\n",
       " '7d36c2ff-6acc-4fd3-a06c-fcd453194286',\n",
       " '8bee62c1-c332-4179-ae7c-1713d09912fe',\n",
       " '84b7cca6-4647-42a1-bdc9-c6fbd91d4745',\n",
       " '2198b1f6-6ad4-426a-ad17-221315b32c1c',\n",
       " 'dbe1e8d7-9421-47b2-a008-8c2e6592000a',\n",
       " '69aed5e2-bd16-4df5-b781-adb6b99b8406',\n",
       " '682fa271-b2c5-4c82-b1b4-1f3ebdcdf2e0',\n",
       " '71a7a0b0-aff7-4e6d-ad60-af06ac404cfd',\n",
       " '892b92f9-2c3a-4db3-97ce-9e138c713ed8',\n",
       " 'fa527362-0149-49bb-ab83-65a8f0d24cee',\n",
       " '7260e6ae-1cbc-4509-8771-6494532b59af',\n",
       " '2ebcd433-1a61-4dec-bc01-668f8ad1e1b2',\n",
       " 'cc61ba5f-d6cf-43da-93cc-21fd2cd229da',\n",
       " '5de8e487-e4e7-4043-8d9e-9cb04a68cdf3',\n",
       " '9f529b27-b617-4065-adc0-e16fa0977f4e',\n",
       " 'abda7cd8-e3a9-4d6f-8796-b1f94209012e',\n",
       " '543de16c-ad05-4655-961a-93cc03184438',\n",
       " '264c9698-f5e8-486b-83ce-53ea377045df',\n",
       " '7481a448-c2c1-4950-bf59-23a790d940eb',\n",
       " '5e50b3c3-9497-4824-a8f1-66f5780bfb8c',\n",
       " '73af735b-d935-400f-86eb-eedf83e7e362',\n",
       " 'ebfa1986-1044-4b76-bcd9-17ee031e44de',\n",
       " '0efdd154-1262-47f5-ad74-07f496b29e56',\n",
       " '34eff204-ed59-40b1-9257-eaab7d148c90',\n",
       " 'c92494ce-5df7-4e4a-ae6a-d0916ed1b223',\n",
       " 'bef3bd60-bccf-4e6c-80c3-0c3a29e23e61',\n",
       " '08b76a4d-3ad1-4282-bdba-4fce28b5482c',\n",
       " '0033733c-4ea1-494c-848c-e33744032700',\n",
       " 'a3928c31-8553-476f-809c-d23c9e42ca6a',\n",
       " '155be82f-c591-4d42-8e0d-09361aa3cae5',\n",
       " 'b6ab66cd-27fb-4d06-859f-a66ddcd06205',\n",
       " '6c351333-7c1a-4d44-a543-dd00cad60d5d',\n",
       " '9a7151ec-d445-479c-8570-2a39b1254e39',\n",
       " 'a5584b2a-ed82-49ba-9106-e7b1b1187f01',\n",
       " 'a6f57ae7-58aa-442e-aaa7-fbdb95b9ed0e',\n",
       " '118ea69f-6db6-4f8c-9a94-0461ee7980be',\n",
       " 'f76481f4-c56e-4eba-9072-2167ef1cad4e',\n",
       " '9162bdfb-dc5a-483e-9a9d-ca6373905b8c',\n",
       " 'bada0ca9-14bd-461d-83dd-afefb3b48662',\n",
       " '92ce3358-b2b8-4a85-bac3-eab97e26a00f',\n",
       " '3a1019ce-88ba-4526-a3c1-6835320491d1',\n",
       " '69824f02-554c-4c6b-9ee9-8642ca3fa411',\n",
       " 'efd38eda-35e4-47a2-8980-c504acf3e9c2',\n",
       " 'b6e59e4e-70bd-4b28-9fea-fa69bdf701d9',\n",
       " '0b3f82c8-344a-4fc8-9f1d-22e546b1a1aa',\n",
       " '0e91c293-6838-4f9f-9cbe-8918fc6744f2',\n",
       " 'e3ad703b-caa7-47eb-9e0b-1d93c417c8d4',\n",
       " '2e3c3d93-6237-45d3-881b-0ff0de41e6e7',\n",
       " '488fa0ea-bde9-4b92-9d26-5633be93aee1',\n",
       " '21637aed-b574-4c6c-84f7-7d20f5d86441',\n",
       " '27e37455-99e0-4710-8494-62120a5f5cba',\n",
       " '65b6e845-63f1-4d70-8165-b40d7af09c4b',\n",
       " 'afc0ffdb-303a-468f-8001-a054f3f411e5',\n",
       " '50538e33-7682-44d3-919f-d1e2b04c1537',\n",
       " 'e5e2ec4c-ba93-458a-a268-9e0aeea5bfb2',\n",
       " '1a8eef70-31ae-44cc-be7b-62425ef88178',\n",
       " '3a8520bb-2634-41d8-9a0a-b9c7f319d1ca',\n",
       " '5395de22-e670-4b29-ba75-b00e227f3425',\n",
       " '5996dfb5-df3b-40f7-a04c-4925f84b5cd4',\n",
       " '2040aec6-a4b1-426c-9f1d-e7719ccef879',\n",
       " 'fc74f078-2d26-4ba7-ae31-fdb82bc4c233',\n",
       " '87249ad2-f23a-40e4-9fc9-9cefa1de33fa',\n",
       " 'f3dec57b-b450-4c05-a900-8a07df24efe6',\n",
       " '60b05b9f-d2ce-4c92-8a8f-3537cd6dc970',\n",
       " 'ccf0aac3-bcdb-492d-acbf-16effb7583c9',\n",
       " '6b491a99-0f08-4216-931a-addad98f98a1',\n",
       " '11285687-1bc8-42f6-adcf-3288c904dc78',\n",
       " 'da5d32e0-bbf1-4a14-94d5-c0e85555e4bc',\n",
       " '36028431-c791-40a2-a858-58183d00cfc8',\n",
       " '245ded74-6f44-41b0-b316-559b94dfe247',\n",
       " '7781292e-eadd-4361-9608-0ee311c00005',\n",
       " '65fb5e1a-d91d-4925-b884-2a318abd74c3',\n",
       " '3c1ed823-d889-4a15-ac46-58d6bae3f169',\n",
       " '8c02b7f7-5207-4a61-8e20-d634075a70b6',\n",
       " '37c8fd33-e852-4c07-8ca6-96f8c0f6c55d',\n",
       " '8b382e3f-82cd-4cdc-a6bc-eca9935e076f',\n",
       " '9233742f-6f18-459b-900a-5674f18a2aed',\n",
       " 'd57524c4-9471-401e-a90b-03298d44c4dd',\n",
       " '60e64419-6550-4a7c-b149-5d83c5e98f6e',\n",
       " '6131e553-2cd3-4f9a-b340-676bff4060de',\n",
       " 'a67c3d90-87c3-4131-874c-95b9aec7434b',\n",
       " '294193a5-ac66-4c1e-aa0a-64ddb4afee6b',\n",
       " 'e45eb11b-f394-4fce-bc2c-68ca61659622',\n",
       " '8c66d561-1409-4353-b278-f6f2bb54a68f',\n",
       " '4f04c985-85ee-4d55-8de3-116ad4c926bb',\n",
       " '3f4282d0-dc85-496e-88da-1678ba382ad4',\n",
       " 'aeebeec9-009f-4082-a7cc-e39795f3ed3c',\n",
       " '8d187854-42c3-4f76-8b91-8c2ddad5cb94',\n",
       " '1fb7e458-d097-432c-9948-40cfa660b25d',\n",
       " 'f5da530e-ff4c-4882-b035-099e2df76587',\n",
       " '734ea973-c15f-40c0-92e0-2d4f8563ae5e',\n",
       " '5444eaa8-8be0-463b-8ac2-c85ef941a401',\n",
       " '55b9d973-3f17-435f-8d5e-071d83dad124',\n",
       " '71eda2aa-c2da-4a21-b762-309f052d3b37',\n",
       " '86407972-19af-4f2e-bc35-f896a3a026da',\n",
       " '57dea741-8309-4bce-aeb5-5fe14ad038df',\n",
       " '0a4c22f5-bad5-446b-98d4-0f54384fbb48',\n",
       " 'c5b7ac50-94b3-4902-9e5c-e1405ec3f085',\n",
       " '733e949f-5b6c-403b-8e7c-114f2dcd9c8f',\n",
       " 'cb8d2ded-8908-4a2b-8791-f1e8e96dfbfe',\n",
       " 'f4bf1494-2273-4081-850d-1b697627cf24',\n",
       " '293e5870-e15d-4e71-b77e-ef1414fb305e',\n",
       " '788967a2-6f12-42cc-a0fc-b405359c87eb',\n",
       " 'ac31fe34-8d2e-4bf5-bf47-e7d11a222ce2',\n",
       " 'aadf8146-1834-4f76-b02a-d5f5e1a2d0c2',\n",
       " '1095aee7-ae41-4ed8-b58a-c83d11dbd401',\n",
       " '507372ae-07c0-4b49-92d6-fc2b4a6a58b4',\n",
       " 'e797c61e-e376-4708-94c6-080bbb17d19e',\n",
       " '1c84e964-8a31-4d36-a11c-4ca0f40161bd',\n",
       " '232dea8e-e1cc-4812-b86e-e967e4d0f6ae',\n",
       " '9612b722-1e8a-49c5-bbc2-74882461f9c6',\n",
       " '79e9624f-f0e6-4b6c-9e86-e5a81ca1ed19',\n",
       " '23085063-9428-4328-acea-42b2670a2576',\n",
       " 'c5eab96a-a566-4eeb-b4ef-e6956d3e4660',\n",
       " '28ffe467-7896-445d-87ee-7ae8cf28e887',\n",
       " 'ada59d64-601b-4151-b0cb-e79e5f9abec7',\n",
       " '0ae5958a-9d6c-4e30-b65e-964ffd4c3fa3',\n",
       " '3acf8621-6d88-49ac-8139-ab1baf9c9314',\n",
       " '2965d669-9495-4092-82f0-784d3c979cc0',\n",
       " 'a031798e-32c9-46f4-b4cf-333c578187da',\n",
       " '65326c7e-eb37-4194-8ab3-88f45499c727',\n",
       " 'd6554e9a-f2a3-4528-ab5b-d0b85d20ddc3',\n",
       " '2aaa9abc-fcdb-4826-be3d-dff6531380ec',\n",
       " '184e5f1f-5bd0-4184-8bd6-7309fbc8193f',\n",
       " '9a8bddc8-24b9-45df-9491-6a639f568746',\n",
       " '6c72146c-7c1e-4d60-ae3e-a982ded73ccf',\n",
       " '71658653-1860-487b-9f7b-2b8d2e7f2dc2',\n",
       " '09eb4276-5545-49f0-96f6-b90f58d51dda',\n",
       " '0cb233aa-d5a5-4960-9810-b3c8eec10fbf',\n",
       " 'bf5ec18e-e84b-499f-97ab-662922ca7304',\n",
       " '371b10df-7116-42cd-bd49-5e66b4fc5afd',\n",
       " '10f56c2d-2246-4b5e-85fe-c731d8289cb9',\n",
       " 'aeee4984-b370-430d-bb69-81e8cc67ead7',\n",
       " 'ee30b581-b36c-427d-8a5d-14754aae5849',\n",
       " 'cc2152aa-1c4b-4f0a-9f30-d7b4a2f0b1fc',\n",
       " '4aeaab6d-e18c-4c49-b2ce-2f293d9d9a75',\n",
       " 'b90710df-138a-4471-91b3-9059a42201fd',\n",
       " '2e7cb12f-61ac-4c7b-a087-5a1a99fc56ab',\n",
       " '08ddc33d-1198-4fb9-a187-8bf2553e3e43',\n",
       " 'f7e29022-ac29-40f0-9273-d5d132438f92',\n",
       " '37425370-3d11-4bfa-bab5-fa3b1cbdc7f1',\n",
       " '59c0e3fd-04ab-4275-ae4a-fd7623e7c4a5',\n",
       " 'e9ee09fd-8dc9-446f-bca4-b95edeb4ccf6',\n",
       " '24c93c12-ef50-4f18-85ae-750865d25abd',\n",
       " 'd986d555-e666-4173-873d-b3d438fc47b2',\n",
       " 'c4f39d86-5819-4708-b705-d1459c9f4a54',\n",
       " 'd68d10c5-da81-437e-a0ed-97b89a2f9b1f',\n",
       " '280a01a9-d204-4936-be13-50f7313c1569',\n",
       " '90dae30c-2865-4190-a730-41ea4d2eed8b',\n",
       " '58e78e0a-0587-4eb0-b224-bf518bcda855',\n",
       " '2f57597a-e80e-4542-96ef-06bfd4078e7f',\n",
       " '8290864e-9455-4fca-af32-338f7252da64',\n",
       " 'c3682f38-34df-4867-b34a-2690c2779162',\n",
       " '8caee234-ccaf-40d6-ba89-9e41030aa1f7',\n",
       " '608dab3e-926f-4177-aa19-7a8111ffc1b1',\n",
       " '4bacafb7-aa55-4321-9fac-0f3cbbdb3770',\n",
       " '1878cf68-cd54-472c-a148-a78a0469e042',\n",
       " '71974daf-9b16-4624-b345-fa7dd1577552',\n",
       " '57f3d1c4-128e-4d42-839d-93b131b2dadf',\n",
       " '200d44c6-4f8b-4f51-aea4-3c9caf7e69a6',\n",
       " '463b0ffb-70b9-4934-804c-45c66aed7dc2',\n",
       " '085bb54a-9eee-42ba-b850-dfe6cae2fd60',\n",
       " '9e6654e2-dd86-43fa-adc0-9c7fe7edd940',\n",
       " 'd6eccffa-4635-4a5b-a5eb-b1961dc72269',\n",
       " '97754bd9-ca08-4337-bed9-059f4c48eeb7',\n",
       " '8bbba0f7-3a7d-4d59-96b8-9efae0bb8eec',\n",
       " '3a5f2aad-7381-4bff-9bcb-c6717acf6d15',\n",
       " '4bacc4b2-f827-4fce-8219-c4b257ab24f0',\n",
       " 'f59ae631-8530-4067-aa06-1e7424a8a241',\n",
       " 'ac6496b7-4750-4ef4-b332-e175be233267',\n",
       " 'c94408d9-a2f6-46b4-ae0d-fd89734e73e5',\n",
       " '697a6ace-3629-4d71-ad91-1ef3887c39c7',\n",
       " 'a2324119-f214-4dc7-90e3-c679b1f96652',\n",
       " 'bde09848-8849-4dd7-ba46-942a49efb1b2',\n",
       " '0adbdd9b-6ea3-45e7-b612-87a76dca55e6',\n",
       " '4f50d59f-1ff6-4e49-a52e-a9315d8759bf',\n",
       " '3001924e-ca7d-4044-a6a5-76ba083c94eb',\n",
       " 'a928bd70-6f8d-4412-98e3-480edf668229',\n",
       " '56bad28c-80f7-452a-97e2-30cb93f78979',\n",
       " '38820596-f2c1-4b77-bab4-524a28eb3658',\n",
       " '9313a523-9684-4018-933f-8aa0fd945886',\n",
       " '7cef5b0f-f5a6-42cf-b8a5-e035ba7f394e',\n",
       " '14fec322-0fe5-411f-bd58-1ea7090b414a',\n",
       " '3012f19a-49a1-4810-bc78-ceea142d52d8',\n",
       " '51be9069-775c-4a40-97d4-005db117185a',\n",
       " 'dadb5c20-8aef-4e0f-b0d8-2b9de97463d9',\n",
       " '960811ae-8aef-4d00-b78b-4984102d839a',\n",
       " '0247e81a-69f6-4b95-bcbe-db0d8bf0b722',\n",
       " 'f484d99b-a045-4244-81a0-92a8c16b4975',\n",
       " 'ed62a895-4d82-4cf2-b911-a0acbe3eb018',\n",
       " 'e706a3f0-d441-4cb0-81c6-c529b5968f0e',\n",
       " '03a28f82-30ff-4c68-ac18-b7eadf5829f5',\n",
       " 'eeeb9776-ea51-4b77-9d4c-30e03cee78da',\n",
       " '7ff1e59d-e3ae-4ab6-b1bb-93f58290fdb4',\n",
       " '9fd627d1-cc80-49b9-a30e-d37ed810df0b']"
      ]
     },
     "execution_count": 7,
     "metadata": {},
     "output_type": "execute_result"
    }
   ],
   "source": [
    "wikipedia_loader = WikipediaLoader(query=\"Paestum\")\n",
    "wikipedia_chunks = text_splitter.split_documents(wikipedia_loader.load())\n",
    "vector_db.add_documents(wikipedia_chunks)"
   ]
  },
  {
   "cell_type": "code",
   "execution_count": 8,
   "id": "0ecc12c8-9564-417a-8a57-2072e70e84f6",
   "metadata": {},
   "outputs": [
    {
     "data": {
      "text/plain": [
       "['29905497-fd33-4cec-83b5-7a91d3622685',\n",
       " 'eb77de6b-e782-4bd4-897e-ea1a6b525604',\n",
       " '35f2f15b-8670-43c3-94d1-7399161ef597',\n",
       " 'a1ce95d6-2f40-4473-befb-ea382cdf106d',\n",
       " 'cc3a08fb-dc5b-4a21-a55e-cfdec9b7a7e7',\n",
       " 'c93ee4cf-9635-4574-9196-b966d792205b',\n",
       " '0d4f0a4a-8fc2-4d02-a5e6-b935de2f9cea',\n",
       " 'f4afc542-3a08-4473-aaaf-9ed6e9bb3d01']"
      ]
     },
     "execution_count": 8,
     "metadata": {},
     "output_type": "execute_result"
    }
   ],
   "source": [
    "word_loader = Docx2txtLoader(\"Paestum/Paestum-Britannica.docx\")\n",
    "word_chunks = text_splitter.split_documents(word_loader.load())\n",
    "vector_db.add_documents(word_chunks)"
   ]
  },
  {
   "cell_type": "code",
   "execution_count": 9,
   "id": "b2cc85a1-48d4-4514-b4cb-9cceb3b8c2cb",
   "metadata": {},
   "outputs": [
    {
     "data": {
      "text/plain": [
       "['6d1bff79-3965-4fd0-a525-c0b31b30e127',\n",
       " 'efd0234f-a2d7-41ea-8d59-06a10c3259d3',\n",
       " '8b8bfac9-ea81-4a2d-b4fb-6551a6dc7fdf',\n",
       " '14cd2df9-8b5c-400b-aadb-242e7266dc06',\n",
       " '0a4e0bc6-6bed-4995-a0a1-304eb5ea6fed',\n",
       " '473b41dd-16de-4979-8969-9f25a299203a',\n",
       " '7725816c-1385-48ef-aa2a-faca564e4e43',\n",
       " 'aac48c51-55c1-4129-a7e9-9f953a5f213f',\n",
       " '2cad6a7e-d95a-4ecf-a9d0-424bd87ff47c',\n",
       " 'f302a57f-3781-426c-9b12-e602772e7814',\n",
       " 'b9fdc64c-7cf5-436e-8bff-ee888e09702c',\n",
       " '86aade2a-9185-47b9-9a6b-372d5e605ba7',\n",
       " 'a6f87a01-3886-4122-aae9-722d0fc5d841',\n",
       " '40e0af64-0c50-454d-a1e3-74e5a161755d',\n",
       " '7a029163-bd8d-4feb-bf79-5c55fdceb44a',\n",
       " '0ea1f71c-8a25-415b-afa6-91e04164363e',\n",
       " 'c4544f18-c9e9-406c-8cab-2357e202abcf',\n",
       " 'ac2811b2-f32c-417f-a5f7-0ec39443551f',\n",
       " '74c3fabf-b916-45dd-bb13-e3f54fd1b65f',\n",
       " '903a59a5-a2ae-4701-85e7-bbe4d7c026eb',\n",
       " 'b0408c4b-264c-473b-95f3-877cafcbf1bc',\n",
       " '940d715a-a52e-4a08-9283-7bc21f26e018',\n",
       " '40c74b2a-ef00-40ed-859c-703a1a43729f',\n",
       " '3f6d0480-9ab7-489b-a6c4-d31afe2a36bf',\n",
       " 'e41dc277-3ff9-4a7d-bcce-1bae2d9abee6',\n",
       " 'bfd5c305-9d98-47e3-87ea-b1678fd81150',\n",
       " 'e93ff812-344c-40d0-b4de-2595116712ea',\n",
       " '3260449c-43f0-43ba-b1e4-aff662cc5869',\n",
       " '8bd35d7f-a2ff-462e-908d-2684a7ea9ee1']"
      ]
     },
     "execution_count": 9,
     "metadata": {},
     "output_type": "execute_result"
    }
   ],
   "source": [
    "pdf_loader = PyPDFLoader(\"Paestum/PaestumRevisited.pdf\")\n",
    "pdf_chunks = text_splitter.split_documents(pdf_loader.load())\n",
    "vector_db.add_documents(pdf_chunks)"
   ]
  },
  {
   "cell_type": "code",
   "execution_count": 10,
   "id": "3dc54fb3-4af8-434c-90f0-3a694a4bb7ce",
   "metadata": {
    "scrolled": true
   },
   "outputs": [
    {
     "data": {
      "text/plain": [
       "['39a7557d-fe0b-4fae-8a69-e7d567c3c1f1']"
      ]
     },
     "execution_count": 10,
     "metadata": {},
     "output_type": "execute_result"
    }
   ],
   "source": [
    "txt_loader = TextLoader(\"Paestum/Paestum-Encyclopedia.txt\")\n",
    "txt_chunks = text_splitter.split_documents(txt_loader.load())\n",
    "vector_db.add_documents(txt_chunks)"
   ]
  },
  {
   "cell_type": "markdown",
   "id": "f9c3728b-10b3-4468-8c63-33d6748a2fd9",
   "metadata": {},
   "source": [
    "### Removing duplication"
   ]
  },
  {
   "cell_type": "code",
   "execution_count": 11,
   "id": "a000a48a-9d80-41e3-8571-7730b5844365",
   "metadata": {},
   "outputs": [],
   "source": [
    "def split_and_import(loader):\n",
    "     chunks = text_splitter.split_documents(loader.load())\n",
    "     vector_db.add_documents(chunks)\n",
    "     print(f\"Ingested chunks created by {loader}\")"
   ]
  },
  {
   "cell_type": "code",
   "execution_count": 12,
   "id": "146136d6-aec2-4e96-a1fa-05fca61d28e2",
   "metadata": {},
   "outputs": [
    {
     "name": "stdout",
     "output_type": "stream",
     "text": [
      "Ingested chunks created by <langchain_community.document_loaders.wikipedia.WikipediaLoader object at 0x000001CACF5D0D90>\n",
      "Ingested chunks created by <langchain_community.document_loaders.word_document.Docx2txtLoader object at 0x000001CACF939F50>\n",
      "Ingested chunks created by <langchain_community.document_loaders.pdf.PyPDFLoader object at 0x000001CACEA67B90>\n",
      "Ingested chunks created by <langchain_community.document_loaders.text.TextLoader object at 0x000001CACF5F5A90>\n"
     ]
    }
   ],
   "source": [
    "wikipedia_loader = WikipediaLoader(query=\"Paestum\")\n",
    "split_and_import(wikipedia_loader)\n",
    "\n",
    "word_loader = Docx2txtLoader(\"Paestum/Paestum-Britannica.docx\")\n",
    "split_and_import(word_loader)\n",
    "\n",
    "pdf_loader = PyPDFLoader(\"Paestum/PaestumRevisited.pdf\")\n",
    "split_and_import(pdf_loader)\n",
    "\n",
    "txt_loader = TextLoader(\"Paestum/Paestum-Encyclopedia.txt\")\n",
    "split_and_import(txt_loader)"
   ]
  },
  {
   "cell_type": "markdown",
   "id": "df7dbf7b-221c-4e88-964d-2ab98a294af3",
   "metadata": {},
   "source": [
    "## Ingesting Multiple Documents from a Folder (two techniques)"
   ]
  },
  {
   "cell_type": "markdown",
   "id": "6c8cde59-6e51-4d0d-b83b-3b30a9b0bf16",
   "metadata": {},
   "source": [
    "### 1) Iterating over all files in a folder"
   ]
  },
  {
   "cell_type": "code",
   "execution_count": 13,
   "id": "430cb87d-978f-4a81-9428-b9a40c605096",
   "metadata": {},
   "outputs": [],
   "source": [
    "loader_classes = {\n",
    "    'docx': Docx2txtLoader,\n",
    "    'pdf': PyPDFLoader,\n",
    "    'txt': TextLoader\n",
    "}"
   ]
  },
  {
   "cell_type": "code",
   "execution_count": 14,
   "id": "a31de028-ffec-44b9-973e-d2383697222e",
   "metadata": {},
   "outputs": [],
   "source": [
    "import os\n",
    "\n",
    "def get_loader(filename):\n",
    "    _, file_extension = os.path.splitext(filename) #A Extract the file extension\n",
    "    file_extension = file_extension.lstrip('.') #B Remove the leading dot from the extension\n",
    "    \n",
    "    loader_class = loader_classes.get(file_extension) #C Get the loader class from the dictionary\n",
    "    \n",
    "    if loader_class:\n",
    "        return loader_class(filename) #D Instantiate and return the correct loader\n",
    "    else:\n",
    "        raise ValueError(f\"No loader available for file extension '{file_extension}'\")"
   ]
  },
  {
   "cell_type": "markdown",
   "id": "1b45e9ed-ec13-4111-99ab-ff26107e2eed",
   "metadata": {},
   "source": [
    "#### Ingesting the files from the folder (Exercise solution)"
   ]
  },
  {
   "cell_type": "code",
   "execution_count": 15,
   "id": "1fc4c038-124c-44de-82c2-423c839da426",
   "metadata": {},
   "outputs": [
    {
     "name": "stdout",
     "output_type": "stream",
     "text": [
      "Loader for Acciaroli.pdf: <langchain_community.document_loaders.pdf.PyPDFLoader object at 0x000001CAD01EECD0>\n",
      "Ingested chunks created by <langchain_community.document_loaders.pdf.PyPDFLoader object at 0x000001CAD01EECD0>\n",
      "Loader for Cape Palinuro.txt: <langchain_community.document_loaders.text.TextLoader object at 0x000001CACEA00D10>\n",
      "Ingested chunks created by <langchain_community.document_loaders.text.TextLoader object at 0x000001CACEA00D10>\n",
      "Loader for Casalvelino.txt: <langchain_community.document_loaders.text.TextLoader object at 0x000001CACF8F7DD0>\n",
      "Ingested chunks created by <langchain_community.document_loaders.text.TextLoader object at 0x000001CACF8F7DD0>\n",
      "Loader for Cilentan coast.docx: <langchain_community.document_loaders.word_document.Docx2txtLoader object at 0x000001CAD01F6390>\n",
      "Ingested chunks created by <langchain_community.document_loaders.word_document.Docx2txtLoader object at 0x000001CAD01F6390>\n",
      "Loader for Cilento Coast Map and Travel Guide.docx: <langchain_community.document_loaders.word_document.Docx2txtLoader object at 0x000001CACEE07C90>\n",
      "Ingested chunks created by <langchain_community.document_loaders.word_document.Docx2txtLoader object at 0x000001CACEE07C90>\n",
      "Loader for Cilento DOC.pdf: <langchain_community.document_loaders.pdf.PyPDFLoader object at 0x000001CAD2E2FED0>\n",
      "Ingested chunks created by <langchain_community.document_loaders.pdf.PyPDFLoader object at 0x000001CAD2E2FED0>\n",
      "Loader for Cilento Park.txt: <langchain_community.document_loaders.text.TextLoader object at 0x000001CAD2E27790>\n",
      "Ingested chunks created by <langchain_community.document_loaders.text.TextLoader object at 0x000001CAD2E27790>\n",
      "Loader for Cilento.docx: <langchain_community.document_loaders.word_document.Docx2txtLoader object at 0x000001CACF9480D0>\n",
      "Ingested chunks created by <langchain_community.document_loaders.word_document.Docx2txtLoader object at 0x000001CACF9480D0>\n",
      "Loader for Cilento.pdf: <langchain_community.document_loaders.pdf.PyPDFLoader object at 0x000001CAD3C299D0>\n",
      "Ingested chunks created by <langchain_community.document_loaders.pdf.PyPDFLoader object at 0x000001CAD3C299D0>\n",
      "Loader for Marina di Camerota info.pdf: <langchain_community.document_loaders.pdf.PyPDFLoader object at 0x000001CACF3BE4D0>\n",
      "Ingested chunks created by <langchain_community.document_loaders.pdf.PyPDFLoader object at 0x000001CACF3BE4D0>\n",
      "Loader for Marina di Camerota.docx: <langchain_community.document_loaders.word_document.Docx2txtLoader object at 0x000001CACE76B950>\n",
      "Ingested chunks created by <langchain_community.document_loaders.word_document.Docx2txtLoader object at 0x000001CACE76B950>\n",
      "Loader for NationalParkOfCilentoAndValloDiDiano.txt: <langchain_community.document_loaders.text.TextLoader object at 0x000001CACE627450>\n",
      "Ingested chunks created by <langchain_community.document_loaders.text.TextLoader object at 0x000001CACE627450>\n",
      "Loader for Parco Nazionale del Cilento.pdf: <langchain_community.document_loaders.pdf.PyPDFLoader object at 0x000001CAD3C28E50>\n",
      "Ingested chunks created by <langchain_community.document_loaders.pdf.PyPDFLoader object at 0x000001CAD3C28E50>\n",
      "Loader for Parmenides.docx: <langchain_community.document_loaders.word_document.Docx2txtLoader object at 0x000001CACF94E9D0>\n",
      "Ingested chunks created by <langchain_community.document_loaders.word_document.Docx2txtLoader object at 0x000001CACF94E9D0>\n",
      "Loader for Santa Maria di Castellabate.docx: <langchain_community.document_loaders.word_document.Docx2txtLoader object at 0x000001CACE627450>\n",
      "Ingested chunks created by <langchain_community.document_loaders.word_document.Docx2txtLoader object at 0x000001CACE627450>\n",
      "Loader for Velia.pdf: <langchain_community.document_loaders.pdf.PyPDFLoader object at 0x000001CAD01E6390>\n",
      "Ingested chunks created by <langchain_community.document_loaders.pdf.PyPDFLoader object at 0x000001CAD01E6390>\n"
     ]
    }
   ],
   "source": [
    "folder_path = \"CilentoTouristInfo\" #A Path to the folder containing the documents\n",
    "\n",
    "for filename in os.listdir(folder_path): #B iterate over the files in the path\n",
    "    file_path = os.path.join(folder_path, filename) #C Construct the full path to the file\n",
    "   \n",
    "    if os.path.isfile(file_path): #D Check if it is a file (not a directory)\n",
    "        try:\n",
    "            loader = get_loader(file_path) #E Instantiate the correct loader for the file\n",
    "            print(f\"Loader for {filename}: {loader}\")\n",
    "            split_and_import(loader) #F Split and ingest\n",
    "        except ValueError as e:\n",
    "            print(e)"
   ]
  },
  {
   "cell_type": "markdown",
   "id": "1147202e-d94a-4208-bd56-b7f068fdf9da",
   "metadata": {},
   "source": [
    "### 2) Ingesting all files with with DirectoryLoader"
   ]
  },
  {
   "cell_type": "code",
   "execution_count": 15,
   "id": "ce5cff86-e921-4d15-bab9-b4215b11fcb6",
   "metadata": {},
   "outputs": [
    {
     "ename": "NameError",
     "evalue": "name 'DirectoryLoader' is not defined",
     "output_type": "error",
     "traceback": [
      "\u001b[31m---------------------------------------------------------------------------\u001b[39m",
      "\u001b[31mNameError\u001b[39m                                 Traceback (most recent call last)",
      "\u001b[36mCell\u001b[39m\u001b[36m \u001b[39m\u001b[32mIn[15]\u001b[39m\u001b[32m, line 8\u001b[39m\n\u001b[32m      5\u001b[39m folder_path = \u001b[33m\"\u001b[39m\u001b[33mCilentoTouristInfo\u001b[39m\u001b[33m\"\u001b[39m\n\u001b[32m      6\u001b[39m pattern = \u001b[33m\"\u001b[39m\u001b[33m**/*.\u001b[39m\u001b[33m{\u001b[39m\u001b[33mdocx,pdf,txt}\u001b[39m\u001b[33m\"\u001b[39m \u001b[38;5;66;03m#A Pattern to match .docx, .pdf, and .txt files\u001b[39;00m\n\u001b[32m----> \u001b[39m\u001b[32m8\u001b[39m directory_loader = \u001b[43mDirectoryLoader\u001b[49m(folder_path, pattern) \u001b[38;5;66;03m#B Initialize the DirectoryLoader with the folder path and pattern\u001b[39;00m\n\u001b[32m      9\u001b[39m split_and_import(directory_loader)\n",
      "\u001b[31mNameError\u001b[39m: name 'DirectoryLoader' is not defined"
     ]
    }
   ],
   "source": [
    "# ONLY RUN THIS IF YOU HAVE SUCCESFULLY INSTALLED unstructured or langchain-unstructured\n",
    "# THE INSTALLATION IS OPERATIVE SYSTEM SPECIFIC\n",
    "# follow LangChain instructions at https://python.langchain.com/v0.2/docs/integrations/providers/unstructured/ or \n",
    "# Unstructured instructions at https://docs.unstructured.io/welcome#quickstart-unstructured-open-source-library\n",
    "folder_path = \"CilentoTouristInfo\"\n",
    "pattern = \"**/*.{docx,pdf,txt}\" #A Pattern to match .docx, .pdf, and .txt files\n",
    "\n",
    "directory_loader = DirectoryLoader(folder_path, pattern) #B Initialize the DirectoryLoader with the folder path and pattern\n",
    "split_and_import(directory_loader)"
   ]
  },
  {
   "cell_type": "markdown",
   "id": "1631170d-373f-4498-ad80-144d8ee9c784",
   "metadata": {},
   "source": [
    "## Querying the vector store directly"
   ]
  },
  {
   "cell_type": "code",
   "execution_count": 16,
   "id": "af87991d-bbbb-47d2-87d0-365aca4d4b3a",
   "metadata": {},
   "outputs": [
    {
     "name": "stdout",
     "output_type": "stream",
     "text": [
      "[Document(id='dc90ac3e-50af-4b6e-9648-794aff7dd10c', metadata={'source': 'https://en.wikipedia.org/wiki/Paestum', 'summary': 'Paestum ( PEST-əm, US also  PEE-stəm, Latin: [ˈpae̯stũː]) was a major ancient Greek city on the coast of the Tyrrhenian Sea, in Magna Graecia. The ruins of Paestum are famous for their three ancient Greek temples in the Doric order dating from about 550 to 450 BCE that are in an excellent state of preservation. The city walls and amphitheatre are largely intact, and the bottom of the walls of many other structures remain, as well as paved roads. The site is open to the public, and there is a modern national museum within it, which also contains the finds from the associated Greek site of Foce del Sele.\\nPaestum was established around 600 BCE by settlers from Sybaris, a Greek colony in southern Italy, under the name of Poseidonia (Ancient Greek: Ποσειδωνία). The city thrived as a Greek settlement for about two centuries, witnessing the development of democracy. In 400 BCE, the Lucanians seized the city. Romans took over in 273 BCE, renaming it Paestum and establishing a Latin colony. Later, its decline ensued from shifts in trade routes and the onset of flooding and marsh formation. As Pesto or Paestum, the town became a bishopric (now only titular), but it was abandoned in the Early Middle Ages, and left undisturbed and largely forgotten until the eighteenth century.\\nToday the remains of the city are found in the modern frazione of Paestum, which is part of the comune of Capaccio Paestum in the Province of Salerno in the region of Campania, Italy. The modern settlement, directly to the south of the archaeological site, is a popular seaside resort with long sandy beaches. The Paestum railway station on the Naples-Salerno-Reggio Calabria railway line is directly to the east of the ancient city walls.\\n\\n', 'title': 'Paestum'}, page_content='== Name ==\\nThe Greek settlers who founded the city originally named it Poseidonia (Ancient Greek: Ποσειδωνία). It was eventually conquered by the local Lucanians and later the Romans. The Lucanians renamed it to Paistos and the Romans gave the city its current name.\\n\\n\\n== Ancient ruins and features =='), Document(id='89a23193-a33b-45f8-b860-fcc1c4835935', metadata={'source': 'https://en.wikipedia.org/wiki/Paestum', 'summary': 'Paestum ( PEST-əm, US also  PEE-stəm, Latin: [ˈpae̯stũː]) was a major ancient Greek city on the coast of the Tyrrhenian Sea, in Magna Graecia. The ruins of Paestum are famous for their three ancient Greek temples in the Doric order dating from about 550 to 450 BCE that are in an excellent state of preservation. The city walls and amphitheatre are largely intact, and the bottom of the walls of many other structures remain, as well as paved roads. The site is open to the public, and there is a modern national museum within it, which also contains the finds from the associated Greek site of Foce del Sele.\\nPaestum was established around 600 BCE by settlers from Sybaris, a Greek colony in southern Italy, under the name of Poseidonia (Ancient Greek: Ποσειδωνία). The city thrived as a Greek settlement for about two centuries, witnessing the development of democracy. In 400 BCE, the Lucanians seized the city. Romans took over in 273 BCE, renaming it Paestum and establishing a Latin colony. Later, its decline ensued from shifts in trade routes and the onset of flooding and marsh formation. As Pesto or Paestum, the town became a bishopric (now only titular), but it was abandoned in the Early Middle Ages, and left undisturbed and largely forgotten until the eighteenth century.\\nToday the remains of the city are found in the modern frazione of Paestum, which is part of the comune of Capaccio Paestum in the Province of Salerno in the region of Campania, Italy. The modern settlement, directly to the south of the archaeological site, is a popular seaside resort with long sandy beaches. The Paestum railway station on the Naples-Salerno-Reggio Calabria railway line is directly to the east of the ancient city walls.\\n\\n', 'title': 'Paestum'}, page_content='== Name ==\\nThe Greek settlers who founded the city originally named it Poseidonia (Ancient Greek: Ποσειδωνία). It was eventually conquered by the local Lucanians and later the Romans. The Lucanians renamed it to Paistos and the Romans gave the city its current name.\\n\\n\\n== Ancient ruins and features =='), Document(id='35f2f15b-8670-43c3-94d1-7399161ef597', metadata={'source': 'Paestum/Paestum-Britannica.docx'}, page_content='Poseidonia was probably founded about 600\\xa0BC\\xa0by Greek colonists from\\xa0Sybaris, along the\\xa0Gulf of Taranto, and it had become a flourishing town by 540, judging from its temples. After many years’ resistance the city came under the domination of the\\xa0Lucanians\\xa0(an\\xa0indigenous\\xa0Italic people) sometime before 400\\xa0BC, after which its name was changed to Paestum. Alexander, the king of Epirus, defeated the Lucanians at Paestum about 332\\xa0BC, but the city remained Lucanian until 273, when it came under'), Document(id='4eda18fb-338a-4266-aac7-7b0bb44906b7', metadata={'source': 'Paestum/Paestum-Britannica.docx'}, page_content='Poseidonia was probably founded about 600\\xa0BC\\xa0by Greek colonists from\\xa0Sybaris, along the\\xa0Gulf of Taranto, and it had become a flourishing town by 540, judging from its temples. After many years’ resistance the city came under the domination of the\\xa0Lucanians\\xa0(an\\xa0indigenous\\xa0Italic people) sometime before 400\\xa0BC, after which its name was changed to Paestum. Alexander, the king of Epirus, defeated the Lucanians at Paestum about 332\\xa0BC, but the city remained Lucanian until 273, when it came under')]\n"
     ]
    }
   ],
   "source": [
    "query = \"Where was Poseidonia and who renamed it to Paestum?\" \n",
    "results = vector_db.similarity_search(query, 4) # four clostest results\n",
    "print(results)"
   ]
  },
  {
   "cell_type": "code",
   "execution_count": 17,
   "id": "dadf5ded-1f72-4e96-ad7c-b995e44dfecd",
   "metadata": {},
   "outputs": [
    {
     "data": {
      "text/plain": [
       "4"
      ]
     },
     "execution_count": 17,
     "metadata": {},
     "output_type": "execute_result"
    }
   ],
   "source": [
    "len(results)"
   ]
  },
  {
   "cell_type": "markdown",
   "id": "6dc0c334-66e4-4bb3-b0ab-1c32a03dd05b",
   "metadata": {},
   "source": [
    "## Asking a question through a RAG chain"
   ]
  },
  {
   "cell_type": "code",
   "execution_count": 18,
   "id": "9f6ad4a5-b79d-428f-9367-7a9f1a56d2ee",
   "metadata": {},
   "outputs": [
    {
     "name": "stdin",
     "output_type": "stream",
     "text": [
      "Enter your OPENAI_API_KEY ········\n"
     ]
    }
   ],
   "source": [
    "from openai import OpenAI\n",
    "import getpass\n",
    "\n",
    "OPENAI_API_KEY = getpass.getpass('Enter your OPENAI_API_KEY')"
   ]
  },
  {
   "cell_type": "code",
   "execution_count": 19,
   "id": "82221dc4-7627-403a-bcdb-cb987ba41184",
   "metadata": {},
   "outputs": [],
   "source": [
    "from langchain_core.prompts import PromptTemplate\n",
    "\n",
    "rag_prompt_template = \"\"\"Use the following pieces of context to answer the question at the end. \n",
    "If you don't know the answer, just say that you don't know, don't try to make up an answer.\n",
    "Use three sentences maximum and keep the answer as concise as possible.\n",
    "{context}\n",
    "Question: {question}\n",
    "Helpful Answer:\"\"\"\n",
    "\n",
    "rag_prompt = PromptTemplate.from_template(rag_prompt_template)"
   ]
  },
  {
   "cell_type": "code",
   "execution_count": 20,
   "id": "e752e194-142a-45ad-8f2f-171487b3eb5b",
   "metadata": {},
   "outputs": [],
   "source": [
    "retriever = vector_db.as_retriever()"
   ]
  },
  {
   "cell_type": "code",
   "execution_count": 21,
   "id": "6f34248c-baea-4146-bfd4-e6fb193e6dbb",
   "metadata": {},
   "outputs": [],
   "source": [
    "from langchain_core.runnables import RunnablePassthrough\n",
    "question_feeder = RunnablePassthrough()"
   ]
  },
  {
   "cell_type": "code",
   "execution_count": 22,
   "id": "7eb75492-8913-42e5-b707-aad2592d8fa5",
   "metadata": {},
   "outputs": [],
   "source": [
    "from langchain_openai import ChatOpenAI\n",
    "\n",
    "chatbot = ChatOpenAI(openai_api_key=OPENAI_API_KEY, model_name=\"gpt-4o-mini\")"
   ]
  },
  {
   "cell_type": "code",
   "execution_count": 23,
   "id": "df278726-e951-4b8c-8eb9-873992427e47",
   "metadata": {},
   "outputs": [],
   "source": [
    "# set up RAG chain\n",
    "\n",
    "rag_chain = {\"context\": retriever, \"question\": question_feeder} | rag_prompt | chatbot"
   ]
  },
  {
   "cell_type": "code",
   "execution_count": 24,
   "id": "4bb68aff-1b72-4126-8e17-b501fcb2860a",
   "metadata": {},
   "outputs": [],
   "source": [
    "def execute_chain(chain, question):\n",
    "    answer = chain.invoke(question)\n",
    "    return answer"
   ]
  },
  {
   "cell_type": "code",
   "execution_count": 25,
   "id": "88321863-cdb1-41fc-aa14-bb9b5792338c",
   "metadata": {},
   "outputs": [
    {
     "name": "stdout",
     "output_type": "stream",
     "text": [
      "Poseidonia was located on the coast of the Tyrrhenian Sea in Magna Graecia, established by Greek colonists from Sybaris. It was renamed Paestum by the Romans after they took control in 273 BCE. The source of this information is Wikipedia.\n"
     ]
    }
   ],
   "source": [
    "question = \"Where was Poseidonia and who renamed it to Paestum. Also tell me the source.\" \n",
    "answer = execute_chain(rag_chain, question)\n",
    "print(answer.content)"
   ]
  },
  {
   "cell_type": "code",
   "execution_count": 26,
   "id": "4541b4a5-2e9e-4a80-963f-1279fad916ac",
   "metadata": {},
   "outputs": [
    {
     "name": "stdout",
     "output_type": "stream",
     "text": [
      "content='Poseidonia was located on the coast of the Tyrrhenian Sea in Magna Graecia, established by Greek colonists from Sybaris. It was renamed Paestum by the Romans after they took control in 273 BCE. The source of this information is Wikipedia.' additional_kwargs={'refusal': None} response_metadata={'token_usage': {'completion_tokens': 57, 'prompt_tokens': 1527, 'total_tokens': 1584, 'completion_tokens_details': {'accepted_prediction_tokens': 0, 'audio_tokens': 0, 'reasoning_tokens': 0, 'rejected_prediction_tokens': 0}, 'prompt_tokens_details': {'audio_tokens': 0, 'cached_tokens': 0}}, 'model_name': 'gpt-4o-mini-2024-07-18', 'system_fingerprint': 'fp_0392822090', 'id': 'chatcmpl-BYaoChkgPRobAbCxvbzwG9MI0ZGrN', 'service_tier': 'default', 'finish_reason': 'stop', 'logprobs': None} id='run--48905bad-01e4-4509-b38d-3108fb0b9e77-0' usage_metadata={'input_tokens': 1527, 'output_tokens': 57, 'total_tokens': 1584, 'input_token_details': {'audio': 0, 'cache_read': 0}, 'output_token_details': {'audio': 0, 'reasoning': 0}}\n"
     ]
    }
   ],
   "source": [
    "print(answer)"
   ]
  },
  {
   "cell_type": "code",
   "execution_count": 27,
   "id": "53a5742a-62ae-442a-a30e-4380507489aa",
   "metadata": {},
   "outputs": [
    {
     "name": "stdout",
     "output_type": "stream",
     "text": [
      "I don't know. Source: The provided documents do not contain relevant information about subsequent actions.\n"
     ]
    }
   ],
   "source": [
    "question = \"And then, what did they do? Also tell me the source\" \n",
    "answer = execute_chain(rag_chain, question)\n",
    "print(answer.content)"
   ]
  },
  {
   "cell_type": "markdown",
   "id": "4c76bbc1-b3c5-4e86-95dd-5f8c85dfaafd",
   "metadata": {},
   "source": [
    "## Chatbot memory of message history"
   ]
  },
  {
   "cell_type": "code",
   "execution_count": 52,
   "id": "2f548719-575c-4796-9adc-f84c1dc30aaa",
   "metadata": {},
   "outputs": [],
   "source": [
    "from langchain_core.runnables import RunnablePassthrough\n",
    "from langchain_openai import ChatOpenAI\n",
    "from langchain_core.prompts import ChatPromptTemplate\n",
    "from langchain_community.chat_message_histories import ChatMessageHistory\n",
    "from langchain_core.runnables import RunnableLambda\n",
    "\n",
    "rag_prompt = ChatPromptTemplate.from_messages(\n",
    "    [\n",
    "        (\"system\", \"You are a helpful assistant, world-class expert in Roman and Greek history, especially in towns located in southern Italy. Provide interesting insights on local history and recommend places to visit with knowledgeable and engaging answers. Answer all questions to the best of your ability, but only use what has been provided in the context. If you don't know, just say you don't know. Use three sentences maximum and keep the answer as concise as possible.\"),\n",
    "        (\"placeholder\", \"{chat_history_messages}\"),\n",
    "        (\"assistant\", \"{retrieved_context}\"),\n",
    "        (\"human\", \"{question}\"),\n",
    "    ]\n",
    ")\n",
    "\n",
    "retriever = vector_db.as_retriever()\n",
    "question_feeder = RunnablePassthrough()\n",
    "chatbot = ChatOpenAI(openai_api_key=OPENAI_API_KEY, model_name=\"gpt-4o-mini\")\n",
    "chat_history_memory = ChatMessageHistory()\n",
    "\n",
    "def get_messages(x):\n",
    "    return chat_history_memory.messages\n",
    "\n",
    "rag_chain = {\n",
    "    \"retrieved_context\": retriever, \n",
    "    \"question\": question_feeder,\n",
    "    \"chat_history_messages\": RunnableLambda(get_messages)\n",
    "} | rag_prompt | chatbot\n",
    "\n",
    "def execute_chain_with_memory(chain, question):\n",
    "    chat_history_memory.add_user_message(question)\n",
    "    answer = chain.invoke(question)\n",
    "    chat_history_memory.add_ai_message(answer)\n",
    "    print(f'Full chat message history: {chat_history_memory.messages}\\n\\n')                                      \n",
    "    return answer"
   ]
  },
  {
   "cell_type": "code",
   "execution_count": 53,
   "id": "3f38fc7a-a8f4-4795-9c4f-3c2b576e136e",
   "metadata": {},
   "outputs": [
    {
     "name": "stdout",
     "output_type": "stream",
     "text": [
      "Full chat message history: [HumanMessage(content='Where was Poseidonia and who renamed it to Paestum? Also tell me the source.', additional_kwargs={}, response_metadata={}), AIMessage(content='Poseidonia was located on the coast of the Tyrrhenian Sea in what is now the region of Campania, Italy. It was renamed Paestum by the Romans after they took control of the city in 273 BCE. The source of this information is from the Wikipedia page on Paestum.', additional_kwargs={'refusal': None}, response_metadata={'token_usage': {'completion_tokens': 63, 'prompt_tokens': 1599, 'total_tokens': 1662, 'completion_tokens_details': {'accepted_prediction_tokens': 0, 'audio_tokens': 0, 'reasoning_tokens': 0, 'rejected_prediction_tokens': 0}, 'prompt_tokens_details': {'audio_tokens': 0, 'cached_tokens': 0}}, 'model_name': 'gpt-4o-mini-2024-07-18', 'system_fingerprint': 'fp_54eb4bd693', 'id': 'chatcmpl-BYaZpSWU5gaCzXYsKXEJr4Ngy8jGb', 'service_tier': 'default', 'finish_reason': 'stop', 'logprobs': None}, id='run--90cd4d31-b47b-41ff-a7f7-2a7c3535c03a-0', usage_metadata={'input_tokens': 1599, 'output_tokens': 63, 'total_tokens': 1662, 'input_token_details': {'audio': 0, 'cache_read': 0}, 'output_token_details': {'audio': 0, 'reasoning': 0}})]\n",
      "\n",
      "\n",
      "Poseidonia was located on the coast of the Tyrrhenian Sea in what is now the region of Campania, Italy. It was renamed Paestum by the Romans after they took control of the city in 273 BCE. The source of this information is from the Wikipedia page on Paestum.\n"
     ]
    }
   ],
   "source": [
    "question = \"Where was Poseidonia and who renamed it to Paestum? Also tell me the source.\" \n",
    "answer = execute_chain_with_memory(rag_chain, question)\n",
    "print(answer.content)"
   ]
  },
  {
   "cell_type": "code",
   "execution_count": 54,
   "id": "fa8dd731-7414-4f57-baca-c1e25d7d5741",
   "metadata": {},
   "outputs": [
    {
     "name": "stdout",
     "output_type": "stream",
     "text": [
      "Full chat message history: [HumanMessage(content='Where was Poseidonia and who renamed it to Paestum? Also tell me the source.', additional_kwargs={}, response_metadata={}), AIMessage(content='Poseidonia was located on the coast of the Tyrrhenian Sea in what is now the region of Campania, Italy. It was renamed Paestum by the Romans after they took control of the city in 273 BCE. The source of this information is from the Wikipedia page on Paestum.', additional_kwargs={'refusal': None}, response_metadata={'token_usage': {'completion_tokens': 63, 'prompt_tokens': 1599, 'total_tokens': 1662, 'completion_tokens_details': {'accepted_prediction_tokens': 0, 'audio_tokens': 0, 'reasoning_tokens': 0, 'rejected_prediction_tokens': 0}, 'prompt_tokens_details': {'audio_tokens': 0, 'cached_tokens': 0}}, 'model_name': 'gpt-4o-mini-2024-07-18', 'system_fingerprint': 'fp_54eb4bd693', 'id': 'chatcmpl-BYaZpSWU5gaCzXYsKXEJr4Ngy8jGb', 'service_tier': 'default', 'finish_reason': 'stop', 'logprobs': None}, id='run--90cd4d31-b47b-41ff-a7f7-2a7c3535c03a-0', usage_metadata={'input_tokens': 1599, 'output_tokens': 63, 'total_tokens': 1662, 'input_token_details': {'audio': 0, 'cache_read': 0}, 'output_token_details': {'audio': 0, 'reasoning': 0}}), HumanMessage(content='And then what did they do? Also tell me the source', additional_kwargs={}, response_metadata={}), AIMessage(content='After the Romans renamed Poseidonia to Paestum, they began to develop the city further, constructing impressive public buildings such as temples and a forum, which showcased Roman architectural advancements. Paestum flourished as a commercial center due to its strategic coastal location and continued to thrive until the decline of the Roman Empire. The source of this information is from the Wikipedia page on Paestum.', additional_kwargs={'refusal': None}, response_metadata={'token_usage': {'completion_tokens': 79, 'prompt_tokens': 1491, 'total_tokens': 1570, 'completion_tokens_details': {'accepted_prediction_tokens': 0, 'audio_tokens': 0, 'reasoning_tokens': 0, 'rejected_prediction_tokens': 0}, 'prompt_tokens_details': {'audio_tokens': 0, 'cached_tokens': 0}}, 'model_name': 'gpt-4o-mini-2024-07-18', 'system_fingerprint': 'fp_54eb4bd693', 'id': 'chatcmpl-BYaZqOCYe8zpvaGwvVcwzEBi8dVfg', 'service_tier': 'default', 'finish_reason': 'stop', 'logprobs': None}, id='run--7f0acbf0-d9d1-4693-a08b-5c68a206b14d-0', usage_metadata={'input_tokens': 1491, 'output_tokens': 79, 'total_tokens': 1570, 'input_token_details': {'audio': 0, 'cache_read': 0}, 'output_token_details': {'audio': 0, 'reasoning': 0}})]\n",
      "\n",
      "\n",
      "After the Romans renamed Poseidonia to Paestum, they began to develop the city further, constructing impressive public buildings such as temples and a forum, which showcased Roman architectural advancements. Paestum flourished as a commercial center due to its strategic coastal location and continued to thrive until the decline of the Roman Empire. The source of this information is from the Wikipedia page on Paestum.\n"
     ]
    }
   ],
   "source": [
    "question = \"And then what did they do? Also tell me the source\" \n",
    "answer = execute_chain_with_memory(rag_chain, question)\n",
    "print(answer.content)"
   ]
  },
  {
   "cell_type": "markdown",
   "id": "bf71e1b7-7a7a-4dcf-8cad-43fa43fcf09d",
   "metadata": {},
   "source": [
    "## Tracing with LangSmith"
   ]
  },
  {
   "cell_type": "markdown",
   "id": "2ad7daf3-79eb-4bec-9c93-ce64514bbf8c",
   "metadata": {},
   "source": [
    "Stop the notebook and open a new operative system shell (for example Windows command shell).\n",
    "\n",
    "Configure the relevant environment variables in the OS shell, the rerun the previous Jupyter cells:\n",
    "```bash\n",
    "(env_ch07) C:\\...\\ch07>set LANGSMITH_TRACING=true\n",
    "(env_ch07) C:\\...\\ch07>set LANGSMITH_ENDPOINT=https://api.smith.langchain.com\n",
    "(env_ch07) C:\\...\\ch07>set LANGSMITH_PROJECT=Q & A chatbot\n",
    "(env_ch07) C:\\...\\ch07>set LANGSMITH_API_KEY=<YOUR_LANGSMITH_API_KEY>\n",
    "```\n",
    "\n",
    "Then Restart the Jupyter notebook:\n",
    "```bash\n",
    "(env_ch07) C:\\...\\ch07>jupyter notebook 07-QA_across_documents.ipynb\n",
    "```\n",
    "\n",
    "Finally re-execute the whole Jupyter notebook cell by cell. All the activity will have not been logged through LangSmith."
   ]
  },
  {
   "cell_type": "markdown",
   "id": "ade41e33-062d-473f-963a-9d1bc96bb7bd",
   "metadata": {},
   "source": [
    "## Setting up Q&A chain with RetrievalQA"
   ]
  },
  {
   "cell_type": "code",
   "execution_count": 31,
   "id": "b22731bc-469e-4c62-9dc3-bed63a498bdd",
   "metadata": {},
   "outputs": [],
   "source": [
    "from langchain.chains import RetrievalQA\n",
    "rag_chain = RetrievalQA.from_chain_type(llm=chatbot, chain_type=\"stuff\", retriever=retriever, return_source_documents=False)"
   ]
  },
  {
   "cell_type": "code",
   "execution_count": 32,
   "id": "8b7ab2fe-e21c-412f-a35b-177b58d452ae",
   "metadata": {},
   "outputs": [
    {
     "name": "stdout",
     "output_type": "stream",
     "text": [
      "{'query': 'Where was Poseidonia and who renamed it to Paestum. Also tell me the source.', 'result': 'Poseidonia was located along the Gulf of Taranto in what is now Italy. It was originally founded by Greek colonists from Sybaris around 600 BC. The city was conquered by the local Lucanians, an indigenous Italic people, who renamed it to Paestum. \\n\\nThe source of this information is the provided context.'}\n"
     ]
    }
   ],
   "source": [
    "question = \"Where was Poseidonia and who renamed it to Paestum. Also tell me the source.\" \n",
    "with trace(\"RetrievalQA\", \"chain\", project_name=\"Q&A chatbot\", inputs={\"input\": question}, client=langsmith_client) as rt:\n",
    "    answer = execute_chain(rag_chain, question)\n",
    "    print(answer)\n",
    "    rt.end(outputs={\"output\": answer})"
   ]
  }
 ],
 "metadata": {
  "kernelspec": {
   "display_name": "Python 3 (ipykernel)",
   "language": "python",
   "name": "python3"
  },
  "language_info": {
   "codemirror_mode": {
    "name": "ipython",
    "version": 3
   },
   "file_extension": ".py",
   "mimetype": "text/x-python",
   "name": "python",
   "nbconvert_exporter": "python",
   "pygments_lexer": "ipython3",
   "version": "3.11.9"
  }
 },
 "nbformat": 4,
 "nbformat_minor": 5
}
