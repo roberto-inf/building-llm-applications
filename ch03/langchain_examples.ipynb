{
 "cells": [
  {
   "cell_type": "code",
   "execution_count": 5,
   "id": "8448bacf-3f91-43c6-86f7-7bf78e3912b5",
   "metadata": {},
   "outputs": [],
   "source": [
    "from langchain_openai.llms import OpenAI\n",
    "\n",
    "api_key = 'YOUR-OPENAI-API-KEY' \n",
    "llm = OpenAI(openai_api_key=api_key)"
   ]
  },
  {
   "cell_type": "code",
   "execution_count": 7,
   "id": "1a0ff1dd-8138-4c3c-866e-b7884e586603",
   "metadata": {},
   "outputs": [
    {
     "data": {
      "text/plain": [
       "\" beach and cool off in the water. Maybe go for a swim or play some beach volleyball with my friends. Later, we could grab some ice cream and relax on the sand, enjoying the warm sun and cool breeze. As the day goes on, we could watch the sunset over the ocean and have a bonfire with some s'mores. It would be the perfect way to spend a hot summer day.\""
      ]
     },
     "execution_count": 7,
     "metadata": {},
     "output_type": "execute_result"
    }
   ],
   "source": [
    "llm.invoke(\"It's a hot day, I would like to go to the\")"
   ]
  },
  {
   "cell_type": "code",
   "execution_count": 10,
   "id": "6cbeb54f-76b7-4dfd-a99c-1eb3a6cd58f3",
   "metadata": {},
   "outputs": [
    {
     "name": "stdout",
     "output_type": "stream",
     "text": [
      "\n",
      "\n",
      "\"Stay safe online by being vigilant about phishing attacks. Remember to never give out personal information or click on suspicious links. Stay vigilant and protect yourself from cyber threats. #StaySafe #BeVigilant #ProtectYourself\"\n"
     ]
    }
   ],
   "source": [
    "prompt_input = \"\"\"Write a short message to remind users to be vigilant about phishing attacks.\"\"\"\n",
    "response = llm.invoke(prompt_input)\n",
    "print(response)"
   ]
  },
  {
   "cell_type": "code",
   "execution_count": 13,
   "id": "56f5c29e-f33c-4eef-8c31-8f81da5e30be",
   "metadata": {},
   "outputs": [
    {
     "name": "stdout",
     "output_type": "stream",
     "text": [
      "\n",
      "\n",
      "\"The Aqueduct of Segovia, a marvel of Roman engineering, was built in the 1st century AD to supply water to the city's fountains and baths. Its iconic 167-arched elevated section is a symbol of Segovia and a UNESCO World Heritage Site. While its exact date of construction remains a mystery, recent archaeological evidence suggests it was built during the reign of Emperor Hadrian in the early 2nd century AD.\"\n"
     ]
    }
   ],
   "source": [
    "from langchain_core.prompts import PromptTemplate\n",
    "\n",
    "segovia_aqueduct_text = \"The Aqueduct of Segovia (Spanish: Acueducto de Segovia) is a Roman aqueduct in Segovia, Spain. It was built around the first century AD to channel water from springs in the mountains 17 kilometres (11 mi) away to the city's fountains, public baths and private houses, and was in use until 1973. Its elevated section, with its complete arcade of 167 arches, is one of the best-preserved Roman aqueduct bridges and the foremost symbol of Segovia, as evidenced by its presence on the city's coat of arms. The Old Town of Segovia and the aqueduct, were declared a UNESCO World Heritage Site in 1985. As the aqueduct lacks a legible inscription (one was apparently located in the structure's attic, or top portion[citation needed]), the date of construction cannot be definitively determined. The general date of the Aqueduct's construction was long a mystery, although it was thought to have been during the 1st century AD, during the reigns of the Emperors Domitian, Nerva, and Trajan. At the end of the 20th century, Géza Alföldy deciphered the text on the dedication plaque by studying the anchors that held the now missing bronze letters in place. He determined that Emperor Domitian (AD 81–96) ordered its construction[1] and the year 98 AD was proposed as the most likely date of completion.[2] However, in 2016 archeological evidence was published which points to a slightly later date, after 112 AD, during the government of Trajan or in the beginning of the government of emperor Hadrian, from 117 AD.\"\n",
    "\n",
    "prompt_template = PromptTemplate.from_template(\"You are an experienced copywriter. Write a {num_words} words summary the the following text, using a {tone} tone: {text}\")\n",
    "\n",
    "prompt_input = prompt_template.format(\n",
    "    text=segovia_aqueduct_text, \n",
    "    num_words=20, \n",
    "    tone=\"knowledgeable and engaging\")\n",
    "response = llm.invoke(prompt_input)\n",
    "print(response)\n"
   ]
  },
  {
   "cell_type": "code",
   "execution_count": 14,
   "id": "43411029-d06a-4302-8de6-20d70c595a8c",
   "metadata": {},
   "outputs": [
    {
     "name": "stdout",
     "output_type": "stream",
     "text": [
      "\n",
      "3 // not divisible by 5, not divisible by 7 // None\n",
      "4 // not divisible by 5, not divisible by 7 // None\n",
      "5 // divisible by 5, not divisible by 7 // Abra\n",
      "7 // not divisible by 5, divisible by 7 // Kadabra\n",
      "8 // not divisible by 5, not divisible by 7 // None\n",
      "10 // divisible by 5, not divisible by 7 // Abra\n",
      "11 // not divisible by 5, not divisible by 7 // None\n",
      "13 // not divisible by 5, not divisible by 7 // None\n",
      "35 // divisible by 5, divisible by 7 // Abra Kadabra\n"
     ]
    }
   ],
   "source": [
    "prompt_input = \"\"\"Classify the following numbers as Abra, Kadabra or Abra Kadabra:\n",
    "\n",
    "3, 4, 5, 7, 8, 10, 11, 13, 35\n",
    "\n",
    "Examples: \n",
    "6 // not divisible by 5, not divisible by 7 // None\n",
    "15 // divisible by 5, not divisible by 7 // Abra\n",
    "12 // not divisible by 5, not divisible by 7 // None\n",
    "21 // not divisible by 5, divisible by 7 // Kadabra\n",
    "70 // divisible by 5, divisible by 7 // Abra Kadabra\n",
    "\"\"\"\n",
    "\n",
    "response = llm.invoke(prompt_input)\n",
    "print(response)\n"
   ]
  },
  {
   "cell_type": "code",
   "execution_count": 18,
   "id": "47e40ea0-b670-4323-b2c5-f64d4a61cda0",
   "metadata": {},
   "outputs": [
    {
     "name": "stdout",
     "output_type": "stream",
     "text": [
      "\n",
      "\n",
      "3 \\ not divisible by 5 nor by 7 \\ None\n",
      "\n",
      "4 \\ not divisible by 5 nor by 7 \\ None\n",
      "\n",
      "5 \\ divisible by 5 but not by 7 \\ Abra\n",
      "\n",
      "7 \\ divisible by 7 but not by 5 \\ Kadabra\n",
      "\n",
      "8 \\ not divisible by 5 nor by 7 \\ None\n",
      "\n",
      "10 \\ divisible by 5 but not by 7 \\ Abra\n",
      "\n",
      "11 \\ not divisible by 5 nor by 7 \\ None\n",
      "\n",
      "13 \\ not divisible by 5 nor by 7 \\ None\n",
      "\n",
      "35 \\ divisible by 5 and by 7 \\ Abra Kadabra\n"
     ]
    }
   ],
   "source": [
    "from langchain_core.prompts.few_shot import FewShotPromptTemplate\n",
    "from langchain_core.prompts.prompt import PromptTemplate\n",
    "\n",
    "examples = [\n",
    "  {\n",
    "      \"number\": 6,\n",
    "      \"reasoning\": \"not divisible by 5 nor by 7\",\n",
    "      \"result\": \"None\"\n",
    "  },\n",
    "  {\n",
    "      \"number\": 15,\n",
    "      \"reasoning\": \"divisible by 5 but not by 7\",\n",
    "      \"result\": \"Abra\"\n",
    "  },\n",
    "  {\n",
    "      \"number\": 12,\n",
    "      \"reasoning\": \"not divisible by 5 nor by 7\",\n",
    "      \"result\": \"None\"\n",
    "  },\n",
    "  {\n",
    "      \"number\": 21,\n",
    "      \"reasoning\": \"divisible by 7 but not by 5\",\n",
    "      \"result\": \"Kadabra\"\n",
    "  },\n",
    "  {\n",
    "      \"number\": 70,\n",
    "      \"reasoning\": \"divisible by 5 and by 7\",\n",
    "      \"result\": \"Abra Kadabra\"\n",
    "  } ]\n",
    "\n",
    "example_prompt = PromptTemplate(input_variables=[\"number\", \"reasoning\", \"result\"], template=\"{number} \\\\ {reasoning} \\\\ {result}\")\n",
    "few_shot_prompt = FewShotPromptTemplate(\n",
    "    examples=examples,\n",
    "    example_prompt=example_prompt,\n",
    "    suffix=\"Classify the following numbers as Abra, Kadabra or Abra Kadabra: {comma_delimited_input_numbers}\",\n",
    "    input_variables=[\"comma_delimited_input_numbers\"]\n",
    ")\n",
    "\n",
    "prompt_input = few_shot_prompt.format(comma_delimited_input_numbers=\"3, 4, 5, 7, 8, 10, 11, 13, 35.\")\n",
    "\n",
    "response = llm.invoke(prompt_input)\n",
    "print(response)\n"
   ]
  },
  {
   "cell_type": "code",
   "execution_count": null,
   "id": "11855399-45c5-49fd-bbb8-6c03fb6a2752",
   "metadata": {},
   "outputs": [],
   "source": []
  }
 ],
 "metadata": {
  "kernelspec": {
   "display_name": "Python 3 (ipykernel)",
   "language": "python",
   "name": "python3"
  },
  "language_info": {
   "codemirror_mode": {
    "name": "ipython",
    "version": 3
   },
   "file_extension": ".py",
   "mimetype": "text/x-python",
   "name": "python",
   "nbconvert_exporter": "python",
   "pygments_lexer": "ipython3",
   "version": "3.11.7"
  }
 },
 "nbformat": 4,
 "nbformat_minor": 5
}
