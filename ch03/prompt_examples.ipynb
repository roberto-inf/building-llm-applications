{
 "cells": [
  {
   "cell_type": "markdown",
   "id": "c71df8f9-6782-4d7f-ae63-dc2d8edebdbd",
   "metadata": {},
   "source": [
    "# Chapter 3"
   ]
  },
  {
   "cell_type": "markdown",
   "id": "da2fe42d-a428-4020-a2f7-d838b7c1172f",
   "metadata": {},
   "source": [
    "# OpenAI API prompt examples"
   ]
  },
  {
   "cell_type": "markdown",
   "id": "2c5688cd-b2ae-47e8-bf5b-4d4222216c0e",
   "metadata": {},
   "source": [
    "## Minimal prompt execution"
   ]
  },
  {
   "cell_type": "code",
   "execution_count": 1,
   "id": "1a00a004-c42b-49c6-8a67-4446a9f51d12",
   "metadata": {},
   "outputs": [
    {
     "name": "stdin",
     "output_type": "stream",
     "text": [
      "Enter your OPENAI_API_KEY ········\n"
     ]
    }
   ],
   "source": [
    "from openai import OpenAI\n",
    "import getpass\n",
    "\n",
    "OPENAI_API_KEY = getpass.getpass('Enter your OPENAI_API_KEY') "
   ]
  },
  {
   "cell_type": "code",
   "execution_count": 2,
   "id": "efe5a5c2-a624-4cb5-ba3f-a083fceb5a6c",
   "metadata": {},
   "outputs": [],
   "source": [
    "client = OpenAI(api_key=OPENAI_API_KEY)"
   ]
  },
  {
   "cell_type": "code",
   "execution_count": 3,
   "id": "06226bd6-59cf-47ef-aa1a-7219e473ae4b",
   "metadata": {},
   "outputs": [
    {
     "name": "stdout",
     "output_type": "stream",
     "text": [
      "ChatCompletion(id='chatcmpl-959paER8sfCXvo7Bo0ZuKf9qtCuDu', choices=[Choice(finish_reason='stop', index=0, logprobs=None, message=ChatCompletionMessage(content='\"Stay alert for phishing attacks. Think before clicking on any suspicious links or providing personal information online.\"', role='assistant', function_call=None, tool_calls=None))], created=1711016458, model='gpt-3.5-turbo-0125', object='chat.completion', system_fingerprint='fp_fa89f7a861', usage=CompletionUsage(completion_tokens=20, prompt_tokens=32, total_tokens=52))\n"
     ]
    }
   ],
   "source": [
    "prompt_input = \"\"\"Write a coincise message to remind users to be vigilant about phishing attacks.\"\"\"\n",
    "response = client.chat.completions.create(\n",
    "  model=\"gpt-3.5-turbo\",\n",
    "  messages=[\n",
    "    {\"role\": \"system\", \"content\": \"You are a helpful assistant.\"},\n",
    "    {\"role\": \"user\", \"content\": prompt_input}\n",
    "  ],\n",
    "  temperature= 0.7,\n",
    "  max_tokens= 400  \n",
    ")\n",
    "\n",
    "print(response)"
   ]
  },
  {
   "cell_type": "code",
   "execution_count": 4,
   "id": "149eaa9a-3165-4cf4-bc60-ade71346a6b0",
   "metadata": {},
   "outputs": [
    {
     "name": "stdout",
     "output_type": "stream",
     "text": [
      "\"Stay alert for phishing attacks. Think before clicking on any suspicious links or providing personal information online.\"\n"
     ]
    }
   ],
   "source": [
    "print(response.choices[0].message.content)"
   ]
  },
  {
   "cell_type": "markdown",
   "id": "db1abb37-47c5-4255-9c85-7773058541e5",
   "metadata": {},
   "source": [
    "## Bigger prompt"
   ]
  },
  {
   "cell_type": "code",
   "execution_count": 5,
   "id": "bd4d32d1-0f0d-4a22-8470-0ab04eb6d1d9",
   "metadata": {},
   "outputs": [
    {
     "name": "stdout",
     "output_type": "stream",
     "text": [
      "3 // not divisible by 5, not divisible by 7 // None\n",
      "4 // not divisible by 5, not divisible by 7 // None\n",
      "5 // divisible by 5, not divisible by 7 // Abra\n",
      "7 // not divisible by 5, divisible by 7 // Kadabra\n",
      "8 // not divisible by 5, not divisible by 7 // None\n",
      "10 // divisible by 5, not divisible by 7 // Abra\n",
      "11 // not divisible by 5, not divisible by 7 // None\n",
      "13 // not divisible by 5, not divisible by 7 // None\n",
      "35 // divisible by 5, divisible by 7 // Abra Kadabra\n"
     ]
    }
   ],
   "source": [
    "prompt_input = \"\"\"Classify the following numbers as Abra, Kadabra or Abra Kadabra:\n",
    "\n",
    "3, 4, 5, 7, 8, 10, 11, 13, 35\n",
    "\n",
    "Examples: \n",
    "6 // not divisible by 5, not divisible by 7 // None\n",
    "15 // divisible by 5, not divisible by 7 // Abra\n",
    "12 // not divisible by 5, not divisible by 7 // None\n",
    "21 // not divisible by 5, divisible by 7 // Kadabra\n",
    "70 // divisible by 5, divisible by 7 // Abra Kadabra\n",
    "\"\"\"\n",
    "\n",
    "response = client.chat.completions.create(\n",
    "  model=\"gpt-3.5-turbo\",\n",
    "  messages=[\n",
    "    {\"role\": \"system\", \"content\": \"You are a helpful assistant.\"},\n",
    "    {\"role\": \"user\", \"content\": prompt_input}\n",
    "  ],\n",
    "  temperature= 0.7,\n",
    "  max_tokens= 400  \n",
    ")\n",
    "\n",
    "print(response.choices[0].message.content)"
   ]
  },
  {
   "cell_type": "markdown",
   "id": "6f69021b-d8db-4cec-b0ed-ea5d00415055",
   "metadata": {},
   "source": [
    "## Prompt execution wrapper"
   ]
  },
  {
   "cell_type": "code",
   "execution_count": 8,
   "id": "d8f939d7-7c30-4024-a5ab-963c734d473b",
   "metadata": {},
   "outputs": [],
   "source": [
    "def execute_prompt(prompt_input):      \n",
    "    response = client.chat.completions.create(\n",
    "      model=\"gpt-3.5-turbo\",\n",
    "      messages=[\n",
    "        {\"role\": \"system\", \"content\": \"You are a helpful assistant.\"},\n",
    "        {\"role\": \"user\", \"content\": prompt_input}\n",
    "      ],\n",
    "      temperature= 0.7,\n",
    "      max_tokens= 400  \n",
    "    )\n",
    "    \n",
    "    return response.choices[0].message.content"
   ]
  },
  {
   "cell_type": "code",
   "execution_count": 9,
   "id": "051c66e7-2fe6-4468-ab1d-57657a35de41",
   "metadata": {},
   "outputs": [
    {
     "name": "stdout",
     "output_type": "stream",
     "text": [
      "To sum the palindromes in the given sequence, we need to identify the palindromes first. Palindromes are numbers that read the same forwards and backwards.\n",
      "\n",
      "From the sequence provided:\n",
      "- 13 is not a palindrome\n",
      "- 1331 is a palindrome\n",
      "- 121 is a palindrome\n",
      "- 73 is not a palindrome\n",
      "- 99 is a palindrome\n",
      "- 56 is not a palindrome\n",
      "- 232 is a palindrome\n",
      "- 7 is a palindrome\n",
      "\n",
      "Adding the palindromes: 1331 + 121 + 99 + 232 + 7 = 1690\n",
      "\n",
      "Therefore, the sum of the palindromes in the sequence is 1690.\n"
     ]
    }
   ],
   "source": [
    "prompt_input = \"\"\"Instruction: Sum the palindromes in this sequence: 13, 1331, 121, 73, 99, 56 232, 7\n",
    "Examples: \n",
    "33 is a palindrome \n",
    "44 is a palindrome \n",
    "\"\"\"\n",
    "\n",
    "prompt_response = execute_prompt(prompt_input) \n",
    "print(prompt_response)"
   ]
  },
  {
   "cell_type": "markdown",
   "id": "803951c2-4aa9-487c-915a-4af2f8195d78",
   "metadata": {},
   "source": [
    "## Prompt template"
   ]
  },
  {
   "cell_type": "code",
   "execution_count": 10,
   "id": "f1faf059-7928-45ea-8af5-6c28d4ed8bbc",
   "metadata": {},
   "outputs": [],
   "source": [
    "def generate_text_summary_prompt(text, num_words, tone):\n",
    "    return f'You are an experienced copywriter. Write a {num_words} words summary the the following text, using a {tone} tone: {text}'"
   ]
  },
  {
   "cell_type": "code",
   "execution_count": 11,
   "id": "ed7b1779-5c2e-4eb7-9d77-01d9683e52d0",
   "metadata": {},
   "outputs": [
    {
     "name": "stdout",
     "output_type": "stream",
     "text": [
      "\"The Aqueduct of Segovia, a marvel of Roman engineering in Spain, channeled water for centuries and remains a UNESCO site.\"\n"
     ]
    }
   ],
   "source": [
    "segovia_aqueduct_text = \"The Aqueduct of Segovia (Spanish: Acueducto de Segovia) is a Roman aqueduct in Segovia, Spain. It was built around the first century AD to channel water from springs in the mountains 17 kilometres (11 mi) away to the city's fountains, public baths and private houses, and was in use until 1973. Its elevated section, with its complete arcade of 167 arches, is one of the best-preserved Roman aqueduct bridges and the foremost symbol of Segovia, as evidenced by its presence on the city's coat of arms. The Old Town of Segovia and the aqueduct, were declared a UNESCO World Heritage Site in 1985. As the aqueduct lacks a legible inscription (one was apparently located in the structure's attic, or top portion[citation needed]), the date of construction cannot be definitively determined. The general date of the Aqueduct's construction was long a mystery, although it was thought to have been during the 1st century AD, during the reigns of the Emperors Domitian, Nerva, and Trajan. At the end of the 20th century, Géza Alföldy deciphered the text on the dedication plaque by studying the anchors that held the now missing bronze letters in place. He determined that Emperor Domitian (AD 81–96) ordered its construction[1] and the year 98 AD was proposed as the most likely date of completion.[2] However, in 2016 archeological evidence was published which points to a slightly later date, after 112 AD, during the government of Trajan or in the beginning of the government of emperor Hadrian, from 117 AD.\"\n",
    "\n",
    "input_prompt = generate_text_summary_prompt(text=segovia_aqueduct_text, num_words=20, tone=\"knowledgeable and engaging\")\n",
    "\n",
    "prompt_response = execute_prompt(input_prompt)\n",
    "print(prompt_response)"
   ]
  },
  {
   "cell_type": "markdown",
   "id": "859aef3c-770f-4fbc-a88e-dc92f5e8d196",
   "metadata": {},
   "source": [
    "# Running prompts with LangChain"
   ]
  },
  {
   "cell_type": "code",
   "execution_count": 12,
   "id": "0628b250-61bd-4960-bbc9-53fa9d3743f4",
   "metadata": {},
   "outputs": [],
   "source": [
    "from langchain_openai import ChatOpenAI\n",
    "\n",
    "llm = ChatOpenAI(openai_api_key=OPENAI_API_KEY,\n",
    "                 model_name=\"gpt-3.5-turbo\")"
   ]
  },
  {
   "cell_type": "code",
   "execution_count": 13,
   "id": "7f0a5907-f7b6-4470-813e-548bca440b05",
   "metadata": {},
   "outputs": [
    {
     "name": "stdout",
     "output_type": "stream",
     "text": [
      "3 // not divisible by 5, not divisible by 7 // None\n",
      "4 // not divisible by 5, not divisible by 7 // None\n",
      "5 // divisible by 5, not divisible by 7 // Abra\n",
      "7 // not divisible by 5, divisible by 7 // Kadabra\n",
      "8 // not divisible by 5, not divisible by 7 // None\n",
      "10 // divisible by 5, not divisible by 7 // Abra\n",
      "11 // not divisible by 5, not divisible by 7 // None\n",
      "13 // not divisible by 5, not divisible by 7 // None\n",
      "35 // divisible by 5, divisible by 7 // Abra Kadabra\n"
     ]
    }
   ],
   "source": [
    "prompt_input = \"\"\"Classify the following numbers as Abra, Kadabra or Abra Kadabra:\n",
    "\n",
    "3, 4, 5, 7, 8, 10, 11, 13, 35\n",
    "\n",
    "Examples: \n",
    "6 // not divisible by 5, not divisible by 7 // None\n",
    "15 // divisible by 5, not divisible by 7 // Abra\n",
    "12 // not divisible by 5, not divisible by 7 // None\n",
    "21 // not divisible by 5, divisible by 7 // Kadabra\n",
    "70 // divisible by 5, divisible by 7 // Abra Kadabra\n",
    "\"\"\"\n",
    "\n",
    "response = llm.invoke(prompt_input)\n",
    "print(response.content)"
   ]
  },
  {
   "cell_type": "markdown",
   "id": "4468d2e4-c380-40d4-8c2e-b2577239cf54",
   "metadata": {},
   "source": [
    "## Using Langchain's FewShotPromptTemplate"
   ]
  },
  {
   "cell_type": "code",
   "execution_count": 14,
   "id": "ba139531-0fd7-471d-a98a-c134386231a2",
   "metadata": {},
   "outputs": [
    {
     "name": "stdout",
     "output_type": "stream",
     "text": [
      "3 - Abra\n",
      "4 - Abra\n",
      "5 - Abra\n",
      "7 - Kadabra\n",
      "8 - Abra\n",
      "10 - Abra\n",
      "11 - Abra\n",
      "13 - Abra\n",
      "35 - Abra Kadabra\n"
     ]
    }
   ],
   "source": [
    "from langchain_core.prompts.few_shot import FewShotPromptTemplate\n",
    "from langchain_core.prompts.prompt import PromptTemplate\n",
    "\n",
    "examples = [\n",
    "  {\n",
    "      \"number\": 6,\n",
    "      \"reasoning\": \"not divisible by 5 nor by 7\",\n",
    "      \"result\": \"None\"\n",
    "  },\n",
    "  {\n",
    "      \"number\": 15,\n",
    "      \"reasoning\": \"divisible by 5 but not by 7\",\n",
    "      \"result\": \"Abra\"\n",
    "  },\n",
    "  {\n",
    "      \"number\": 12,\n",
    "      \"reasoning\": \"not divisible by 5 nor by 7\",\n",
    "      \"result\": \"None\"\n",
    "  },\n",
    "  {\n",
    "      \"number\": 21,\n",
    "      \"reasoning\": \"divisible by 7 but not by 5\",\n",
    "      \"result\": \"Kadabra\"\n",
    "  },\n",
    "  {\n",
    "      \"number\": 70,\n",
    "      \"reasoning\": \"divisible by 5 and by 7\",\n",
    "      \"result\": \"Abra Kadabra\"\n",
    "  } ]\n",
    "\n",
    "example_prompt = PromptTemplate(input_variables=[\"number\", \"reasoning\", \"result\"], template=\"{number} \\\\ {reasoning} \\\\ {result}\")\n",
    "few_shot_prompt = FewShotPromptTemplate(\n",
    "    examples=examples,\n",
    "    example_prompt=example_prompt,\n",
    "    suffix=\"Classify the following numbers as Abra, Kadabra or Abra Kadabra: {comma_delimited_input_numbers}\",\n",
    "    input_variables=[\"comma_delimited_input_numbers\"]\n",
    ")\n",
    "\n",
    "prompt_input = few_shot_prompt.format(comma_delimited_input_numbers=\"3, 4, 5, 7, 8, 10, 11, 13, 35.\")\n",
    "\n",
    "response = llm.invoke(prompt_input)\n",
    "print(response.content)"
   ]
  },
  {
   "cell_type": "code",
   "execution_count": null,
   "id": "a3a261f7-d711-419f-8dd2-71b8fe127d78",
   "metadata": {},
   "outputs": [],
   "source": []
  }
 ],
 "metadata": {
  "kernelspec": {
   "display_name": "Python 3 (ipykernel)",
   "language": "python",
   "name": "python3"
  },
  "language_info": {
   "codemirror_mode": {
    "name": "ipython",
    "version": 3
   },
   "file_extension": ".py",
   "mimetype": "text/x-python",
   "name": "python",
   "nbconvert_exporter": "python",
   "pygments_lexer": "ipython3",
   "version": "3.11.8"
  }
 },
 "nbformat": 4,
 "nbformat_minor": 5
}
