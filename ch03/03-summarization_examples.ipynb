{
 "cells": [
  {
   "cell_type": "markdown",
   "id": "c54188ab-acab-4f76-8a00-c5b7655e288b",
   "metadata": {},
   "source": [
    "# Chapter 3"
   ]
  },
  {
   "cell_type": "markdown",
   "id": "81631471-2964-4915-baea-a2c049b33743",
   "metadata": {},
   "source": [
    "## Summarizing a document bigger than the LLM’s context window"
   ]
  },
  {
   "cell_type": "code",
   "execution_count": 34,
   "id": "02505e40-3967-4861-a109-2742bc64bca8",
   "metadata": {},
   "outputs": [],
   "source": [
    "with open(\"./Moby-Dick.txt\", 'r', encoding='utf-8') as f:\n",
    "    mobi_dick_book = f.read()"
   ]
  },
  {
   "cell_type": "code",
   "execution_count": 35,
   "id": "fafe5efe-b554-415d-b34a-649012c31bc0",
   "metadata": {},
   "outputs": [],
   "source": [
    "from langchain.text_splitter import TokenTextSplitter\n",
    "from langchain.schema import Document\n",
    "\n",
    "text_splitter = TokenTextSplitter(chunk_size=3000, chunk_overlap=100)\n",
    "text_chunks = text_splitter.split_text(mobi_dick_book)\n",
    "chunk_docs = [Document(page_content=text_chunk, metadata={}) for text_chunk in text_chunks]"
   ]
  },
  {
   "cell_type": "code",
   "execution_count": 36,
   "id": "e9d211ad-6929-4169-9e10-09012c505554",
   "metadata": {},
   "outputs": [],
   "source": [
    "from langchain_openai import ChatOpenAI\n",
    "from langchain.chains import (\n",
    "    LLMChain,\n",
    "    MapReduceChain,\n",
    "    StuffDocumentsChain, \n",
    "    ReduceDocumentsChain, \n",
    "    MapReduceDocumentsChain\n",
    ")\n",
    "from langchain_text_splitters import CharacterTextSplitter\n",
    "from langchain_core.prompts import PromptTemplate\n",
    "import getpass"
   ]
  },
  {
   "cell_type": "code",
   "execution_count": 23,
   "id": "e629d25f-5046-42bd-973e-fb6e1512de3e",
   "metadata": {},
   "outputs": [
    {
     "name": "stdin",
     "output_type": "stream",
     "text": [
      "Enter your OPENAI_API_KEY ········\n"
     ]
    }
   ],
   "source": [
    "OPENAI_API_KEY = getpass.getpass('Enter your OPENAI_API_KEY')"
   ]
  },
  {
   "cell_type": "code",
   "execution_count": 37,
   "id": "42d498d8-d621-4375-971b-ab36b227a56e",
   "metadata": {},
   "outputs": [],
   "source": [
    "model = ChatOpenAI(openai_api_key=OPENAI_API_KEY,model_name=\"gpt-4o-mini\")"
   ]
  },
  {
   "cell_type": "code",
   "execution_count": 42,
   "id": "feeb749c-b27f-4426-85cc-c650af9bc01f",
   "metadata": {},
   "outputs": [],
   "source": [
    "# Map\n",
    "map_prompt_template = \"\"\"\n",
    "Write a concise summary of the following text, and include the main details.\n",
    "Text: {chunk}\n",
    "\"\"\"\n",
    "\n",
    "map_prompt = PromptTemplate(template=map_prompt_template, input_variables=[\"chunk\"])\n",
    "map_chain = LLMChain(llm=model, prompt=map_prompt)"
   ]
  },
  {
   "cell_type": "code",
   "execution_count": 43,
   "id": "f160f444-2042-46ef-af1a-e6f58b7e3196",
   "metadata": {},
   "outputs": [],
   "source": [
    "# Reduce\n",
    "reduce_prompt_template = \"\"\"\n",
    "Write a coincise summary of the following summaries, and include the main details.\n",
    "Text: {summaries}\n",
    "\"\"\"\n",
    "\n",
    "reduce_prompt = PromptTemplate(\n",
    "    template=reduce_prompt_template, input_variables=[\"summaries\"]\n",
    ")\n",
    "\n",
    "reduce_chain = LLMChain(llm=model, prompt=reduce_prompt)\n"
   ]
  },
  {
   "cell_type": "code",
   "execution_count": 46,
   "id": "a4f73113-3116-4ce7-a4df-dc039097cfb8",
   "metadata": {},
   "outputs": [],
   "source": [
    "combine_documents_chain = StuffDocumentsChain(\n",
    "    llm_chain=reduce_chain, document_variable_name=\"summaries\"\n",
    ")"
   ]
  },
  {
   "cell_type": "code",
   "execution_count": 47,
   "id": "ca553c17-96c3-42b8-b850-9d870c04058e",
   "metadata": {},
   "outputs": [],
   "source": [
    "reduce_documents_chain = ReduceDocumentsChain(\n",
    "    combine_documents_chain=combine_documents_chain,\n",
    "    collapse_documents_chain=combine_documents_chain,\n",
    "    # LLM token limit you do not want to exceed# ANNOTATION\n",
    "    token_max=4000,\n",
    ")"
   ]
  },
  {
   "cell_type": "code",
   "execution_count": 48,
   "id": "05cc807c-0cab-480e-991b-5c1afb8e997c",
   "metadata": {},
   "outputs": [],
   "source": [
    "# map reduce\n",
    "map_reduce_chain = MapReduceDocumentsChain(\n",
    "    # Map chain (DO THIS AND BELOW COMMENTS AS CODE ANNOTATION)\n",
    "    llm_chain=map_chain,\n",
    "    # Reduce chain\n",
    "    reduce_documents_chain=reduce_documents_chain, \n",
    "    # The variable name used in the map chain\n",
    "    document_variable_name=\"chunk\",\n",
    "    # Return output of map steps \n",
    "    return_intermediate_steps=False,\n",
    ")"
   ]
  },
  {
   "cell_type": "code",
   "execution_count": 49,
   "id": "f8f7ab85-31b5-4cc6-b9fc-34e71e6c81bd",
   "metadata": {},
   "outputs": [],
   "source": [
    "map_reduce_response = map_reduce_chain.invoke(chunk_docs)"
   ]
  },
  {
   "cell_type": "code",
   "execution_count": 50,
   "id": "506851a5-4e9c-4c6a-bab1-d4dc4ed725e1",
   "metadata": {},
   "outputs": [
    {
     "name": "stdout",
     "output_type": "stream",
     "text": [
      "The Project Gutenberg eBook of \"Moby-Dick; or The Whale\" by Herman Melville, released in June 2001 and updated in August 2021, follows the narrator, Ishmael, as he embarks on a whaling voyage driven by a desire for adventure and introspection. Ishmael arrives in New Bedford on a cold December night, where he chooses to stay at the Spouter Inn, characterized by its chaotic atmosphere and a mysterious painting of a whale attacking a ship. Here, he encounters a harpooneer named Queequeg, whose intimidating appearance initially frightens him. Despite his anxiety and unease about sharing a bed with Queequeg, who practices unique rituals, Ishmael eventually comes to see him as a human being and recognizes their developing bond. The narrative blends humor and existential reflection, setting the stage for the larger themes of the novel.\n"
     ]
    }
   ],
   "source": [
    "print(map_reduce_response['output_text'])"
   ]
  },
  {
   "cell_type": "markdown",
   "id": "0bc1b8ce-97d1-4bf8-980a-acf763b0b17d",
   "metadata": {},
   "source": [
    "## Summarizing across documents"
   ]
  },
  {
   "cell_type": "code",
   "execution_count": 52,
   "id": "7bbe6bb1-c8a0-4440-a465-3c4426124000",
   "metadata": {},
   "outputs": [],
   "source": [
    "from langchain.document_loaders import WikipediaLoader\n",
    "\n",
    "wikipedia_loader = WikipediaLoader(query=\"Paestum\", load_max_docs=2)\n",
    "wikipedia_docs = wikipedia_loader.load()"
   ]
  },
  {
   "cell_type": "code",
   "execution_count": 53,
   "id": "84b99620-6eea-4f29-ab39-d8c6dea5e8ea",
   "metadata": {},
   "outputs": [],
   "source": [
    "from langchain.document_loaders import Docx2txtLoader\n",
    "from langchain.document_loaders import PyPDFLoader\n",
    "from langchain.document_loaders import TextLoader\n",
    "\n",
    "word_loader = Docx2txtLoader(\"Paestum/Paestum-Britannica.docx\")\n",
    "word_docs = word_loader.load()\n",
    "\n",
    "pdf_loader = PyPDFLoader(\"Paestum/PaestumRevisited.pdf\")\n",
    "pdf_docs = pdf_loader.load()\n",
    "\n",
    "txt_loader = TextLoader(\"Paestum/Paestum-Encyclopedia.txt\")\n",
    "txt_docs = txt_loader.load()"
   ]
  },
  {
   "cell_type": "code",
   "execution_count": 54,
   "id": "b3615a11-ca38-41de-95b8-4ece197644d6",
   "metadata": {},
   "outputs": [],
   "source": [
    "all_docs = wikipedia_docs + word_docs + pdf_docs + txt_docs"
   ]
  },
  {
   "cell_type": "code",
   "execution_count": 55,
   "id": "5dc508b9-2ee1-4cf2-b5a2-c347e8d4ba19",
   "metadata": {},
   "outputs": [],
   "source": [
    "from langchain_openai import ChatOpenAI\n",
    "from langchain.chains import (\n",
    "    LLMChain,\n",
    "    load_summarize_chain\n",
    ")\n",
    "from langchain_core.prompts import PromptTemplate\n",
    "import getpass"
   ]
  },
  {
   "cell_type": "code",
   "execution_count": 56,
   "id": "4b9e5655-397b-40aa-aeb3-867150ed4fe8",
   "metadata": {},
   "outputs": [
    {
     "name": "stdin",
     "output_type": "stream",
     "text": [
      "Enter your OPENAI_API_KEY ········\n"
     ]
    }
   ],
   "source": [
    "OPENAI_API_KEY = getpass.getpass('Enter your OPENAI_API_KEY')"
   ]
  },
  {
   "cell_type": "code",
   "execution_count": 57,
   "id": "776b6bd0-07ed-410c-bc1e-57cd94d002a2",
   "metadata": {},
   "outputs": [],
   "source": [
    "model = ChatOpenAI(openai_api_key=OPENAI_API_KEY,model_name=\"gpt-4o-mini\")"
   ]
  },
  {
   "cell_type": "code",
   "execution_count": 58,
   "id": "67a7db89-2e71-4dee-95d2-b02696170311",
   "metadata": {},
   "outputs": [],
   "source": [
    "doc_summary_template = \"\"\"Write a concise summary of the following text:\n",
    "{text}\n",
    "DOC SUMMARY:\"\"\"\n",
    "doc_summary_prompt = PromptTemplate.from_template(doc_summary_template)\n",
    "\n",
    "refine_summary_template = \"\"\"\n",
    "Your must produce a final summary from a temporary final summary\n",
    "which has generated so far and from the content of an additional document.\n",
    "This is the temporary final summary generated so far: {existing_answer}\n",
    "This is the content of the additional document: {text}\n",
    "Only use the content of the additional document if it is useful, \n",
    "otherwise return the temporary final summary as it is.\"\"\"\n",
    "\n",
    "refine_summary_prompt = PromptTemplate.from_template(refine_summary_template)"
   ]
  },
  {
   "cell_type": "code",
   "execution_count": 59,
   "id": "83dc5933-63e0-4bb5-9893-244227abc7bf",
   "metadata": {},
   "outputs": [],
   "source": [
    "summary_refine_chain = load_summarize_chain(\n",
    "    llm=model,\n",
    "    chain_type=\"refine\",\n",
    "    question_prompt=doc_summary_prompt,\n",
    "    refine_prompt=refine_summary_prompt,\n",
    "    return_intermediate_steps=True,\n",
    "    input_key=\"input_documents\",\n",
    "    output_key=\"final_summary\",\n",
    ")"
   ]
  },
  {
   "cell_type": "code",
   "execution_count": 60,
   "id": "4e6970b9-ebb9-4704-af28-feaad15b58b2",
   "metadata": {},
   "outputs": [],
   "source": [
    "summary_result = summary_refine_chain.invoke({\"input_documents\": all_docs}, return_only_outputs=True)"
   ]
  },
  {
   "cell_type": "code",
   "execution_count": 61,
   "id": "b63be6b6-7c7e-4266-afbc-b816b6baedf0",
   "metadata": {},
   "outputs": [
    {
     "name": "stdout",
     "output_type": "stream",
     "text": [
      "{'intermediate_steps': ['Paestum, an ancient Greek city founded around 600 BC by settlers from Sybaris, is located on the Tyrrhenian Sea in Magna Graecia. Originally named Poseidonia, it flourished for two centuries before being seized by the Lucanians in 400 BC and later taken over by the Romans in 273 BC, who renamed it Paestum. The city is renowned for its well-preserved Doric temples, dating from 550 to 450 BC, dedicated to Hera and Athena, as well as its intact defensive walls and amphitheatre. Paestum declined due to changes in trade routes and flooding, becoming largely forgotten until the 18th century. Today, the archaeological site, part of the comune of Capaccio Paestum in Campania, Italy, is a popular tourist destination with a modern resort nearby.', 'Paestum, an ancient Greek city founded around 600 BC by settlers from Sybaris, is located on the Tyrrhenian Sea in Magna Graecia. Originally named Poseidonia, it flourished for two centuries before being seized by the Lucanians in 400 BC and later taken over by the Romans in 273 BC, who renamed it Paestum. The city is renowned for its well-preserved Doric temples, dating from 550 to 450 BC, dedicated to Hera and Athena, as well as its intact defensive walls and amphitheatre. Paestum declined due to changes in trade routes and flooding, becoming largely forgotten until the 18th century. Today, the archaeological site, part of the comune of Capaccio Paestum in Campania, Italy, is a popular tourist destination with a modern resort nearby.\\n\\nCapaccio Paestum, located in the province of Salerno in the Campania region of south-western Italy, encompasses the ruins of the ancient city within its borders. Situated in northern Cilento near the mouth of the Sele River, Capaccio is a hill town surrounded by a plain that houses most of its population, primarily concentrated in Capaccio Scalo, where the train station is located. The municipality shares borders with several towns and is home to various hamlets. The nearest airport is Salerno-Pontecagnano, located 35 km from Capaccio. Notable individuals from the area include Vincenzo Romano and Michele Siano.', 'Paestum, an ancient Greek city founded around 600 BC by settlers from Sybaris, is located on the Tyrrhenian Sea in Magna Graecia. Originally named Poseidonia, it flourished for two centuries before being seized by the Lucanians in 400 BC and later taken over by the Romans in 273 BC, who renamed it Paestum. The city is renowned for its well-preserved Doric temples, dating from 550 to 450 BC, dedicated to Hera and Athena, as well as its intact defensive walls and amphitheatre. The ancient Greek part of Paestum consists of two sacred areas containing three notable temples: the Temple of Hera I (the so-called Basilica), the Temple of Athena (the so-called Temple of Ceres), and the Temple of Hera II (the so-called Temple of Neptune), with the latter being the best preserved. Paestum declined due to changes in trade routes, silting, and flooding, becoming largely forgotten until the 18th century. Today, the archaeological site, part of the comune of Capaccio Paestum in Campania, Italy, is a popular tourist destination, with a modern resort nearby and an archaeological museum housing treasures from the site. Capaccio Paestum, located in the province of Salerno, encompasses the ruins of the ancient city and is primarily populated in Capaccio Scalo. The nearest airport is Salerno-Pontecagnano, located 35 km from Capaccio. Notable individuals from the area include Vincenzo Romano and Michele Siano.', 'Paestum, an ancient Greek city founded around 600 BC by settlers from Sybaris, is located on the Tyrrhenian Sea in Magna Graecia. Originally named Poseidonia, it flourished for two centuries as an autonomous Greek polis, complete with a defensive wall and several significant structures, including three renowned Doric temples dedicated to Hera and Athena. The city experienced intense cultural and commercial exchange with both Greek and non-Greek populations, such as the Etruscans and other Italic tribes. However, it was seized by the Lucanians in 400 BC and later taken over by the Romans in 273 BC, who renamed it Paestum.\\n\\nThe city is particularly noted for its well-preserved temples, dating from 550 to 450 BC: the Temple of Hera I (the so-called Basilica), the Temple of Athena (the so-called Temple of Ceres), and the Temple of Hera II (the so-called Temple of Neptune), with the latter being the best preserved. Additionally, a Greek agora was established north of the sanctuary of Hera, showcasing various Greek architectural features. The decline of Paestum resulted from changes in trade routes, silting, and flooding, leading to its gradual obscurity until its rediscovery in the 18th century.\\n\\nToday, the archaeological site, part of the comune of Capaccio Paestum in Campania, Italy, is a popular tourist destination, with a modern resort nearby and an archaeological museum housing treasures from the site. Capaccio Paestum, located in the province of Salerno, encompasses the ruins of the ancient city and is primarily populated in Capaccio Scalo. The nearest airport is Salerno-Pontecagnano, located 35 km from Capaccio. Notable individuals from the area include Vincenzo Romano and Michele Siano.', 'Paestum, an ancient Greek city founded around 600 BC by settlers from Sybaris, is located on the Tyrrhenian Sea in Magna Graecia. Originally named Poseidonia, it flourished for two centuries as an autonomous Greek polis, complete with a defensive wall and several significant structures, including three renowned Doric temples dedicated to Hera and Athena. The city experienced intense cultural and commercial exchange with both Greek and non-Greek populations, such as the Etruscans and other Italic tribes. However, it was seized by the Lucanians, the local Samnite people, around 400 BC and later taken over by the Romans in 273 BC, who renamed it Paestum.\\n\\nThe city is particularly noted for its well-preserved temples, dating from 550 to 450 BC: the Temple of Hera I (the so-called Basilica), the Temple of Athena (the so-called Temple of Ceres), and the Temple of Hera II (the so-called Temple of Neptune), with the latter being the best preserved. Additionally, a Greek agora was established north of the sanctuary of Hera, showcasing various Greek architectural features. Recent research suggests that the transition from Poseidonia to a Lucanian city occurred gradually and peacefully, countering earlier beliefs of a violent conquest and cultural decline. The decline of Paestum resulted from changes in trade routes, silting, and flooding, leading to its gradual obscurity until its rediscovery in the 18th century.\\n\\nToday, the archaeological site, part of the comune of Capaccio Paestum in Campania, Italy, is a popular tourist destination, with a modern resort nearby and an archaeological museum housing treasures from the site. Capaccio Paestum, located in the province of Salerno, encompasses the ruins of the ancient city and is primarily populated in Capaccio Scalo. The nearest airport is Salerno-Pontecagnano, located 35 km from Capaccio. Notable individuals from the area include Vincenzo Romano and Michele Siano.', 'Paestum, an ancient Greek city founded around 600 BC by settlers from Sybaris, is located on the Tyrrhenian Sea in Magna Graecia. Originally named Poseidonia, it flourished for two centuries as an autonomous Greek polis, complete with a defensive wall and several significant structures, including three renowned Doric temples dedicated to Hera and Athena. The city experienced intense cultural and commercial exchange with both Greek and non-Greek populations, such as the Etruscans and other Italic tribes. However, it was seized by the Lucanians, the local Samnite people, around 400 BC and later taken over by the Romans in 273 BC, who renamed it Paestum.\\n\\nDuring the Lucanian period, the city continued to be referred to as Poseidonia, and archaeological evidence indicates that it prospered, maintaining worship at its temples despite the lack of major new constructions. The Lucanians introduced changes in agricultural practices and burial customs, reflecting a gradual evolution rather than a violent conquest. The city is particularly noted for its well-preserved temples, dating from 550 to 450 BC: the Temple of Hera I (the so-called Basilica), the Temple of Athena (the so-called Temple of Ceres), and the Temple of Hera II (the so-called Temple of Neptune), with the latter being the best preserved. Additionally, a Greek agora was established north of the sanctuary of Hera, showcasing various Greek architectural features.\\n\\nIn 273 BC, as Rome expanded, it established a Latin colony in the region, which transformed Poseidonia into Paestum. The foundation of this colony followed a ritualistic model, with Romans utilizing uniform practices for the establishment of new colonies across the Italian peninsula. The decline of Paestum resulted from changes in trade routes, silting, and flooding, leading to its gradual obscurity until its rediscovery in the 18th century.\\n\\nToday, the archaeological site, part of the comune of Capaccio Paestum in Campania, Italy, is a popular tourist destination, with a modern resort nearby and an archaeological museum housing treasures from the site. Capaccio Paestum, located in the province of Salerno, encompasses the ruins of the ancient city and is primarily populated in Capaccio Scalo. The nearest airport is Salerno-Pontecagnano, located 35 km from Capaccio. Notable individuals from the area include Vincenzo Romano and Michele Siano.', \"Paestum, an ancient Greek city founded around 600 BC by settlers from Sybaris, is located on the Tyrrhenian Sea in Magna Graecia. Originally named Poseidonia, it flourished for two centuries as an autonomous Greek polis, complete with a defensive wall and several significant structures, including three renowned Doric temples dedicated to Hera and Athena. The city experienced intense cultural and commercial exchange with both Greek and non-Greek populations, such as the Etruscans and other Italic tribes. However, it was seized by the Lucanians, the local Samnite people, around 400 BC and later taken over by the Romans in 273 BC, who renamed it Paestum.\\n\\nDuring the Lucanian period, the city continued to be referred to as Poseidonia, and archaeological evidence indicates that it prospered, maintaining worship at its temples despite the lack of major new constructions. The Lucanians introduced changes in agricultural practices and burial customs, reflecting a gradual evolution rather than a violent conquest. The city is particularly noted for its well-preserved temples, dating from 550 to 450 BC: the Temple of Hera I (the so-called Basilica), the Temple of Athena (the so-called Temple of Ceres), and the Temple of Hera II (the so-called Temple of Neptune), with the latter being the best preserved. Additionally, a Greek agora was established north of the sanctuary of Hera, showcasing various Greek architectural features.\\n\\nIn 273 BC, as Rome expanded, it established a Latin colony in the region, which transformed Poseidonia into Paestum. The foundation of this colony followed a ritualistic model, with Romans utilizing uniform practices for the establishment of new colonies across the Italian peninsula. However, the political system of Paestum was adapted to fit its new status as a Roman colony, reflecting both Roman influence and the city's established traditions. The Greek/Lucanian agora ceased to be in use and was replaced by a Roman forum, while traditional Roman buildings related to political and juridical functions were constructed, leading to the demolition of earlier structures. Nonetheless, the sanctuaries continued to be respected and remained important sites of worship.\\n\\nThe decline of Paestum resulted from changes in trade routes, silting, and flooding, leading to its gradual obscurity until its rediscovery in the 18th century. Despite the challenges posed by wars, such as during the Second Punic War, Paestum maintained its loyalty to Rome, earning a degree of autonomy and the privilege to strike its own coins. \\n\\nToday, the archaeological site, part of the comune of Capaccio Paestum in Campania, Italy, is a popular tourist destination, with a modern resort nearby and an archaeological museum housing treasures from the site. Capaccio Paestum, located in the province of Salerno, encompasses the ruins of the ancient city and is primarily populated in Capaccio Scalo. The nearest airport is Salerno-Pontecagnano, located 35 km from Capaccio. Notable individuals from the area include Vincenzo Romano and Michele Siano.\", \"Paestum, an ancient Greek city founded around 600 BC by settlers from Sybaris, is located on the Tyrrhenian Sea in Magna Graecia. Originally named Poseidonia, it flourished for two centuries as an autonomous Greek polis, complete with a defensive wall and several significant structures, including three renowned Doric temples dedicated to Hera and Athena. The city experienced intense cultural and commercial exchange with both Greek and non-Greek populations, such as the Etruscans and other Italic tribes. However, it was seized by the Lucanians, the local Samnite people, around 400 BC and later taken over by the Romans in 273 BC, who renamed it Paestum.\\n\\nDuring the Lucanian period, the city continued to be referred to as Poseidonia, and archaeological evidence indicates that it prospered, maintaining worship at its temples despite the lack of major new constructions. The Lucanians introduced changes in agricultural practices and burial customs, reflecting a gradual evolution rather than a violent conquest. The city is particularly noted for its well-preserved temples, dating from 550 to 450 BC: the Temple of Hera I (the so-called Basilica), the Temple of Athena (the so-called Temple of Ceres), and the Temple of Hera II (the so-called Temple of Neptune), with the latter being the best preserved. Additionally, a Greek agora was established north of the sanctuary of Hera, showcasing various Greek architectural features.\\n\\nThe Doric temples of Paestum, built between approximately 530 BC and 460 BC, are distinguished by their exaggerated entasis and wide squat capitals, which create a primitive yet powerful aesthetic. This unique style, known as the Paestum Order, was later admired by Neo-Classical architects in the 18th and 19th centuries for its dramatic effect.\\n\\nIn 273 BC, as Rome expanded, it established a Latin colony in the region, which transformed Poseidonia into Paestum. The foundation of this colony followed a ritualistic model, with Romans utilizing uniform practices for the establishment of new colonies across the Italian peninsula. However, the political system of Paestum was adapted to fit its new status as a Roman colony, reflecting both Roman influence and the city's established traditions. The Greek/Lucanian agora ceased to be in use and was replaced by a Roman forum, while traditional Roman buildings related to political and juridical functions were constructed, leading to the demolition of earlier structures. Nonetheless, the sanctuaries continued to be respected and remained important sites of worship.\\n\\nThe decline of Paestum resulted from changes in trade routes, silting, and flooding, leading to its gradual obscurity until its rediscovery in the 18th century. Despite the challenges posed by wars, such as during the Second Punic War, Paestum maintained its loyalty to Rome, earning a degree of autonomy and the privilege to strike its own coins.\\n\\nToday, the archaeological site, part of the comune of Capaccio Paestum in Campania, Italy, is a popular tourist destination, with a modern resort nearby and an archaeological museum housing treasures from the site. Capaccio Paestum, located in the province of Salerno, encompasses the ruins of the ancient city and is primarily populated in Capaccio Scalo. The nearest airport is Salerno-Pontecagnano, located 35 km from Capaccio. Notable individuals from the area include Vincenzo Romano and Michele Siano.\"], 'final_summary': \"Paestum, an ancient Greek city founded around 600 BC by settlers from Sybaris, is located on the Tyrrhenian Sea in Magna Graecia. Originally named Poseidonia, it flourished for two centuries as an autonomous Greek polis, complete with a defensive wall and several significant structures, including three renowned Doric temples dedicated to Hera and Athena. The city experienced intense cultural and commercial exchange with both Greek and non-Greek populations, such as the Etruscans and other Italic tribes. However, it was seized by the Lucanians, the local Samnite people, around 400 BC and later taken over by the Romans in 273 BC, who renamed it Paestum.\\n\\nDuring the Lucanian period, the city continued to be referred to as Poseidonia, and archaeological evidence indicates that it prospered, maintaining worship at its temples despite the lack of major new constructions. The Lucanians introduced changes in agricultural practices and burial customs, reflecting a gradual evolution rather than a violent conquest. The city is particularly noted for its well-preserved temples, dating from 550 to 450 BC: the Temple of Hera I (the so-called Basilica), the Temple of Athena (the so-called Temple of Ceres), and the Temple of Hera II (the so-called Temple of Neptune), with the latter being the best preserved. Additionally, a Greek agora was established north of the sanctuary of Hera, showcasing various Greek architectural features.\\n\\nThe Doric temples of Paestum, built between approximately 530 BC and 460 BC, are distinguished by their exaggerated entasis and wide squat capitals, which create a primitive yet powerful aesthetic. This unique style, known as the Paestum Order, was later admired by Neo-Classical architects in the 18th and 19th centuries for its dramatic effect.\\n\\nIn 273 BC, as Rome expanded, it established a Latin colony in the region, which transformed Poseidonia into Paestum. The foundation of this colony followed a ritualistic model, with Romans utilizing uniform practices for the establishment of new colonies across the Italian peninsula. However, the political system of Paestum was adapted to fit its new status as a Roman colony, reflecting both Roman influence and the city's established traditions. The Greek/Lucanian agora ceased to be in use and was replaced by a Roman forum, while traditional Roman buildings related to political and juridical functions were constructed, leading to the demolition of earlier structures. Nonetheless, the sanctuaries continued to be respected and remained important sites of worship.\\n\\nThe decline of Paestum resulted from changes in trade routes, silting, and flooding, leading to its gradual obscurity until its rediscovery in the 18th century. Despite the challenges posed by wars, such as during the Second Punic War, Paestum maintained its loyalty to Rome, earning a degree of autonomy and the privilege to strike its own coins.\\n\\nToday, the archaeological site, part of the comune of Capaccio Paestum in Campania, Italy, is a popular tourist destination, with a modern resort nearby and an archaeological museum housing treasures from the site. Capaccio Paestum, located in the province of Salerno, encompasses the ruins of the ancient city and is primarily populated in Capaccio Scalo. The nearest airport is Salerno-Pontecagnano, located 35 km from Capaccio. Notable individuals from the area include Vincenzo Romano and Michele Siano.\"}\n"
     ]
    }
   ],
   "source": [
    "print(summary_result)"
   ]
  },
  {
   "cell_type": "markdown",
   "id": "e0aead77-9945-471c-b4bd-f35e2056e744",
   "metadata": {},
   "source": [
    "## Summarizing structured data"
   ]
  },
  {
   "cell_type": "code",
   "execution_count": 62,
   "id": "1ef4e547-4b28-439d-b0cc-62e906e19338",
   "metadata": {},
   "outputs": [],
   "source": [
    "watches = [\n",
    "  {\"brand\": \"Rolex\", \"model\": \"Submariner\", \"dial-size\": 41, \"dial-color\": \"black\", \"material\": \"steel\", \"status\": \"available\"},\n",
    "  {\"brand\": \"Rolex\", \"model\": \"Dytona\", \"dial-size\": 40, \"dial-color\": \"black\", \"material\": \"steel\", \"status\": \"available\"},\n",
    "  {\"brand\": \"Rolex\", \"model\": \"Dytona\", \"dial-size\": 40, \"dial-color\": \"white\", \"material\": \"gold\", \"status\": \"sold_yesterday\"},\n",
    "  {\"brand\": \"Omega\", \"model\": \"Speedmaster Moonwatch\", \"dial-size\": 42, \"dial-color\": \"black\", \"material\": \"steel\", \"status\": \"available\"},\n",
    "  {\"brand\": \"Omega\", \"model\": \"Seamaster\", \"dial-size\": 43, \"dial-color\": \"blue\", \"material\": \"steel\", \"status\": \"sold_yesterday\"},    \n",
    "]"
   ]
  },
  {
   "cell_type": "code",
   "execution_count": 63,
   "id": "25e334f7-7d73-4d05-abfb-b5e49b84e5d5",
   "metadata": {},
   "outputs": [],
   "source": [
    "from langchain.schema import Document\n",
    "\n",
    "row_docs = [Document(page_content=f\"We have {row['status']} a {row['material']} {row['brand']} {row['model']}  with a {row['dial-color']} {row['dial-size']}mm dial.\", metadata={}) \n",
    "            for row in watches]"
   ]
  },
  {
   "cell_type": "code",
   "execution_count": 64,
   "id": "01a86e74-1129-43a5-9894-3ca9f22f3fd2",
   "metadata": {},
   "outputs": [],
   "source": [
    "from langchain_openai import ChatOpenAI\n",
    "from langchain.chains import (\n",
    "    load_summarize_chain\n",
    ")\n",
    "import getpass"
   ]
  },
  {
   "cell_type": "code",
   "execution_count": 65,
   "id": "23deeec3-7d49-4e5b-bd8f-216e4da45fe2",
   "metadata": {},
   "outputs": [
    {
     "name": "stdin",
     "output_type": "stream",
     "text": [
      "Enter your OPENAI_API_KEY ········\n"
     ]
    }
   ],
   "source": [
    "OPENAI_API_KEY = getpass.getpass('Enter your OPENAI_API_KEY')"
   ]
  },
  {
   "cell_type": "code",
   "execution_count": 66,
   "id": "77baf015-90e1-4ce3-8f21-2184b6f3f469",
   "metadata": {},
   "outputs": [],
   "source": [
    "model = ChatOpenAI(openai_api_key=OPENAI_API_KEY,model_name=\"gpt-4o-mini\")"
   ]
  },
  {
   "cell_type": "code",
   "execution_count": 67,
   "id": "7dd2536c-6a80-4c81-9ab5-c9e5153d8e7d",
   "metadata": {},
   "outputs": [],
   "source": [
    "structured_data_summary_chain = load_summarize_chain(model, chain_type=\"stuff\")"
   ]
  },
  {
   "cell_type": "code",
   "execution_count": 68,
   "id": "4f5265c0-e3ae-437f-a191-6bf2ddb02c16",
   "metadata": {},
   "outputs": [
    {
     "name": "stdout",
     "output_type": "stream",
     "text": [
      "Available watches include a steel Rolex Submariner (black 41mm dial), a steel Rolex Daytona (black 40mm dial), and a steel Omega Speedmaster Moonwatch (black 42mm dial). Recently sold items include a gold Rolex Daytona (white 40mm dial) and a steel Omega Seamaster (blue 43mm dial).\n"
     ]
    }
   ],
   "source": [
    "summary_result = structured_data_summary_chain.invoke(row_docs)\n",
    "print(summary_result['output_text'])"
   ]
  }
 ],
 "metadata": {
  "kernelspec": {
   "display_name": "Python 3 (ipykernel)",
   "language": "python",
   "name": "python3"
  },
  "language_info": {
   "codemirror_mode": {
    "name": "ipython",
    "version": 3
   },
   "file_extension": ".py",
   "mimetype": "text/x-python",
   "name": "python",
   "nbconvert_exporter": "python",
   "pygments_lexer": "ipython3",
   "version": "3.11.9"
  }
 },
 "nbformat": 4,
 "nbformat_minor": 5
}
