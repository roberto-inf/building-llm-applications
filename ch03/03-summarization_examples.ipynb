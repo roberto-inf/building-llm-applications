{
 "cells": [
  {
   "cell_type": "markdown",
   "id": "c54188ab-acab-4f76-8a00-c5b7655e288b",
   "metadata": {},
   "source": [
    "# Chapter 3"
   ]
  },
  {
   "cell_type": "markdown",
   "id": "81631471-2964-4915-baea-a2c049b33743",
   "metadata": {},
   "source": [
    "## Summarizing a document bigger than the LLM’s context window"
   ]
  },
  {
   "cell_type": "code",
   "execution_count": 34,
   "id": "02505e40-3967-4861-a109-2742bc64bca8",
   "metadata": {},
   "outputs": [],
   "source": [
    "with open(\"./Moby-Dick.txt\", 'r', encoding='utf-8') as f:\n",
    "    moby_dick_book = f.read()"
   ]
  },
  {
   "cell_type": "code",
   "execution_count": 35,
   "id": "e9d211ad-6929-4169-9e10-09012c505554",
   "metadata": {},
   "outputs": [],
   "source": [
    "from langchain_openai import ChatOpenAI\n",
    "from langchain_text_splitters import TokenTextSplitter\n",
    "from langchain_core.prompts import PromptTemplate\n",
    "from langchain_core.output_parsers import StrOutputParser\n",
    "from langchain_core.runnables import RunnableLambda, RunnableParallel\n",
    "import getpass"
   ]
  },
  {
   "cell_type": "code",
   "execution_count": 36,
   "id": "e629d25f-5046-42bd-973e-fb6e1512de3e",
   "metadata": {},
   "outputs": [
    {
     "name": "stdin",
     "output_type": "stream",
     "text": [
      "Enter your OPENAI_API_KEY ········\n"
     ]
    }
   ],
   "source": [
    "OPENAI_API_KEY = getpass.getpass('Enter your OPENAI_API_KEY')"
   ]
  },
  {
   "cell_type": "code",
   "execution_count": 37,
   "id": "42d498d8-d621-4375-971b-ab36b227a56e",
   "metadata": {},
   "outputs": [],
   "source": [
    "llm = ChatOpenAI(openai_api_key=OPENAI_API_KEY,model_name=\"gpt-4o-mini\")"
   ]
  },
  {
   "cell_type": "code",
   "execution_count": 38,
   "id": "fc3416e6-9173-414b-be35-d8b6cfc426ab",
   "metadata": {},
   "outputs": [],
   "source": [
    "# Split\n",
    "text_chunks_chain = (\n",
    "    RunnableLambda(lambda x: \n",
    "        [\n",
    "            {\n",
    "                'chunk': text_chunk, \n",
    "            }\n",
    "            for text_chunk in \n",
    "               TokenTextSplitter(chunk_size=3000, chunk_overlap=100).split_text(x)\n",
    "        ]\n",
    "    )\n",
    ")"
   ]
  },
  {
   "cell_type": "code",
   "execution_count": 39,
   "id": "4e697025-0355-4b18-9093-59721dfefed7",
   "metadata": {},
   "outputs": [],
   "source": [
    "# Map\n",
    "summarize_chunk_prompt_template = \"\"\"\n",
    "Write a concise summary of the following text, and include the main details.\n",
    "Text: {chunk}\n",
    "\"\"\"\n",
    "\n",
    "summarize_chunk_prompt = PromptTemplate.from_template(summarize_chunk_prompt_template)\n",
    "summarize_chunk_chain = summarize_chunk_prompt | llm\n",
    "\n",
    "summarize_map_chain = (\n",
    "    RunnableParallel (\n",
    "        {\n",
    "            'summary': summarize_chunk_chain | StrOutputParser()        \n",
    "        }\n",
    "    )\n",
    ")"
   ]
  },
  {
   "cell_type": "code",
   "execution_count": 40,
   "id": "862989b8-a32a-4dd3-9426-d2cdec9a5318",
   "metadata": {},
   "outputs": [],
   "source": [
    "# Reduce\n",
    "summarize_summaries_prompt_template = \"\"\"\n",
    "Write a coincise summary of the following text, which joins several summaries, and include the main details.\n",
    "Text: {summaries}\n",
    "\"\"\"\n",
    "\n",
    "summarize_summaries_prompt = PromptTemplate.from_template(summarize_summaries_prompt_template)\n",
    "summarize_reduce_chain = (\n",
    "    RunnableLambda(lambda x: \n",
    "        {\n",
    "            'summaries': '\\n'.join([i['summary'] for i in x]), \n",
    "        })\n",
    "    | summarize_summaries_prompt \n",
    "    | llm \n",
    "    | StrOutputParser()\n",
    ")"
   ]
  },
  {
   "cell_type": "code",
   "execution_count": 41,
   "id": "637bd1e2-ed81-4862-8af4-91c4239765ac",
   "metadata": {},
   "outputs": [],
   "source": [
    "map_reduce_chain = (\n",
    "   text_chunks_chain\n",
    "   | summarize_map_chain.map()\n",
    "   | summarize_reduce_chain\n",
    ")     "
   ]
  },
  {
   "cell_type": "code",
   "execution_count": 42,
   "id": "ba1581b0-c541-44d0-81b9-d29d2aaaa72b",
   "metadata": {},
   "outputs": [],
   "source": [
    "summary = map_reduce_chain.invoke(moby_dick_book)"
   ]
  },
  {
   "cell_type": "code",
   "execution_count": 43,
   "id": "338812b8-c4dd-445b-bcc0-7517d56e0bb7",
   "metadata": {},
   "outputs": [
    {
     "name": "stdout",
     "output_type": "stream",
     "text": [
      "The Project Gutenberg eBook of *Moby-Dick; or The Whale* by Herman Melville is available for free under the Project Gutenberg License, with updates released in June 2001 and August 2021. The narrator, Ishmael, reflects on his desire to go to sea whenever he feels restless, expressing a philosophical connection to the ocean and a preference for the life of a sailor. He embarks on a whaling voyage to seek adventure and authenticity, arriving in New Bedford and struggling to find affordable lodging. Ultimately, he settles at the Spouter Inn, where he contemplates a mysterious painting and the grim atmosphere filled with whaling artifacts. Ishmael's discomfort with sharing a room with an unknown harpooneer grows as he hears unsettling stories and experiences anxiety about his safety. He meets Queequeg, a tattooed stranger, whom he initially fears but eventually comes to accept, reflecting on their shared humanity. The narrative explores themes of adventure, curiosity, and the contrasts between civilization and savagery.\n"
     ]
    }
   ],
   "source": [
    "print(summary)"
   ]
  },
  {
   "cell_type": "markdown",
   "id": "0bc1b8ce-97d1-4bf8-980a-acf763b0b17d",
   "metadata": {},
   "source": [
    "## Summarizing across documents"
   ]
  },
  {
   "cell_type": "code",
   "execution_count": 48,
   "id": "7bbe6bb1-c8a0-4440-a465-3c4426124000",
   "metadata": {},
   "outputs": [],
   "source": [
    "from langchain_community.document_loaders import WikipediaLoader\n",
    "\n",
    "wikipedia_loader = WikipediaLoader(query=\"Paestum\", load_max_docs=2)\n",
    "wikipedia_docs = wikipedia_loader.load()"
   ]
  },
  {
   "cell_type": "code",
   "execution_count": 49,
   "id": "bde07708-1499-40c0-9f64-32650b36a113",
   "metadata": {},
   "outputs": [],
   "source": [
    "from langchain_community.document_loaders import Docx2txtLoader\n",
    "from langchain_community.document_loaders import PyPDFLoader\n",
    "from langchain_community.document_loaders import TextLoader\n",
    "\n",
    "word_loader = Docx2txtLoader(\"Paestum/Paestum-Britannica.docx\")\n",
    "word_docs = word_loader.load()\n",
    "\n",
    "pdf_loader = PyPDFLoader(\"Paestum/PaestumRevisited.pdf\")\n",
    "pdf_docs = pdf_loader.load()\n",
    "\n",
    "txt_loader = TextLoader(\"Paestum/Paestum-Encyclopedia.txt\")\n",
    "txt_docs = txt_loader.load()"
   ]
  },
  {
   "cell_type": "code",
   "execution_count": 50,
   "id": "b3615a11-ca38-41de-95b8-4ece197644d6",
   "metadata": {},
   "outputs": [],
   "source": [
    "all_docs = wikipedia_docs + word_docs + pdf_docs + txt_docs"
   ]
  },
  {
   "cell_type": "code",
   "execution_count": 51,
   "id": "5dc508b9-2ee1-4cf2-b5a2-c347e8d4ba19",
   "metadata": {},
   "outputs": [],
   "source": [
    "from langchain_openai import ChatOpenAI\n",
    "from langchain_core.prompts import PromptTemplate\n",
    "import getpass"
   ]
  },
  {
   "cell_type": "code",
   "execution_count": 52,
   "id": "4b9e5655-397b-40aa-aeb3-867150ed4fe8",
   "metadata": {},
   "outputs": [
    {
     "name": "stdin",
     "output_type": "stream",
     "text": [
      "Enter your OPENAI_API_KEY ········\n"
     ]
    }
   ],
   "source": [
    "OPENAI_API_KEY = getpass.getpass('Enter your OPENAI_API_KEY')"
   ]
  },
  {
   "cell_type": "code",
   "execution_count": 53,
   "id": "776b6bd0-07ed-410c-bc1e-57cd94d002a2",
   "metadata": {},
   "outputs": [],
   "source": [
    "llm = ChatOpenAI(openai_api_key=OPENAI_API_KEY,model_name=\"gpt-4o-mini\")"
   ]
  },
  {
   "cell_type": "code",
   "execution_count": 54,
   "id": "67a7db89-2e71-4dee-95d2-b02696170311",
   "metadata": {},
   "outputs": [],
   "source": [
    "doc_summary_template = \"\"\"Write a concise summary of the following text:\n",
    "{text}\n",
    "DOC SUMMARY:\"\"\"\n",
    "doc_summary_prompt = PromptTemplate.from_template(doc_summary_template)\n",
    "\n",
    "doc_summary_chain = doc_summary_prompt | llm"
   ]
  },
  {
   "cell_type": "code",
   "execution_count": 55,
   "id": "53fc69f8-7c6f-499e-a584-2fb3f844bd69",
   "metadata": {},
   "outputs": [],
   "source": [
    "refine_summary_template = \"\"\"\n",
    "Your must produce a final summary from the current refined summary\n",
    "which has been generated so far and from the content of an additional document.\n",
    "This is the current refined summary generated so far: {current_refined_summary}\n",
    "This is the content of the additional document: {text}\n",
    "Only use the content of the additional document if it is useful, \n",
    "otherwise return the current full summary as it is.\"\"\"\n",
    "\n",
    "refine_summary_prompt = PromptTemplate.from_template(refine_summary_template)\n",
    "\n",
    "refine_chain = refine_summary_prompt | llm | StrOutputParser()"
   ]
  },
  {
   "cell_type": "code",
   "execution_count": 56,
   "id": "419dcb26-5d23-4e25-9479-c719018979db",
   "metadata": {},
   "outputs": [],
   "source": [
    "def refine_summary(docs):\n",
    "\n",
    "    intermediate_steps = []\n",
    "    current_refined_summary = ''\n",
    "    for doc in docs:\n",
    "        intermediate_step = \\\n",
    "           {\"current_refined_summary\": current_refined_summary, \n",
    "            \"text\": doc.page_content}\n",
    "        intermediate_steps.append(intermediate_step)\n",
    "        \n",
    "        current_refined_summary = refine_chain.invoke(intermediate_step)\n",
    "        \n",
    "    return {\"final_summary\": current_refined_summary,\n",
    "            \"intermediate_steps\": intermediate_steps}"
   ]
  },
  {
   "cell_type": "code",
   "execution_count": 57,
   "id": "dd718bbb-43ee-4f52-80ec-2033b7702ac0",
   "metadata": {},
   "outputs": [
    {
     "name": "stdout",
     "output_type": "stream",
     "text": [
      "{'final_summary': \"**Final Summary:**\\n\\nPaestum, an ancient Greek city located on the coast of the Tyrrhenian Sea in Magna Graecia, was established around 600 BC by settlers from Sybaris and originally named Poseidonia. The city flourished as a Greek settlement for approximately two centuries, enjoying the status of an autonomous Greek polis with a defensive wall and four gates, likely built in phases. Notable structures include three Doric-style temples erected in the sixth and fifth centuries, traditionally referred to as dedicated to Hera I, Hera II, and Athena, although the exact deities may vary. The temples are notable for their exaggerated entasis and wide squat capitals, characteristics that have influenced Neo-Classical architecture in the 18th and 19th centuries. The city featured a Greek agora, complete with a bouleuterion or possible ekklesiasterion, and a heroon dedicated to the city's founder.\\n\\nPoseidonia thrived due to intense cultural and commercial exchange with both Greek and non-Greek populations, including the Etruscans and other Italic tribes. When its mother colony, Sybaris, fell in 510 BC, Poseidonia filled the gap as a commercial and cultural center. The city continued to prosper during the fourth century BC, as evidenced by archaeological findings, despite the absence of major new construction. The existing temples and sanctuaries were maintained, and new structures like two stoai at the agora and an Asklepieion were built. However, the city faced challenges in the late fifth century, leading to its eventual decline.\\n\\nThe Lucanians, an Oscan-speaking people, seized control of the city around 400 BC, although recent research suggests that this transition was gradual and peaceful rather than violent. During the Lucanian period, which lasted until the Romans took over in 273 BC, the city continued to be known as Poseidonia. Despite the Lucanians’ influence, Greek practices, language, and institutions persisted. Changes included agriculturalization and new burial practices characterized by extraordinary decorations.\\n\\nIn 273 BC, the expanding Roman Republic renamed the city Paestum and established a Latin colony. This colonization followed a formulaic structure common to Roman colonies, involving rituals that traced boundaries and established the new settlement. Following the founding of the Latin colony, the city underwent significant alterations. The Greek/Lucanian agora ceased to be in use, replaced by a Roman forum where traditional Roman buildings were constructed, and the previous agora structures were demolished. However, the sanctuaries remained in use, continuing to be objects of worship, demonstrating a continuity of divine worship.\\n\\nOver time, changes in trade routes and environmental challenges contributed to the city's decline, leading to its abandonment during the Early Middle Ages. The site remained largely forgotten until the 18th century. During its time under Roman influence, Paestum maintained strong ties to Rome, supporting the city in times of need, including during the Second Punic War, when it remained loyal despite the threats posed by Hannibal. This loyalty earned Paestum certain privileges, including a degree of autonomy and the right to mint its own coins, although the city never completely lost its Greek and Lucanian roots.\\n\\nToday, the well-preserved ruins of Paestum, including the three significant temples and the archaeological site covering approximately 120 hectares (with only 25 hectares accessible to the public), attract visitors. The modern settlement of Paestum, a frazione of the comune of Capaccio in the province of Salerno, serves as a popular seaside resort. It is well-connected, with a railway station on the Naples-Salerno-Reggio Calabria line and proximity to the Salerno-Pontecagnano Airport, located about 30 km away. The Paestum archaeological museum houses treasures from the site, including ancient frescoes discovered in a Lucanian tomb. The city's historical significance and well-preserved structures make it a notable destination for those interested in ancient Greek culture and architecture.\", 'intermediate_steps': [{'current_refined_summary': '', 'text': 'Paestum ( PEST-əm, US also  PEE-stəm, Latin: [ˈpae̯stũː]) was a major ancient Greek city on the coast of the Tyrrhenian Sea, in Magna Graecia. The ruins of Paestum are famous for their three ancient Greek temples in the Doric order dating from about 550 to 450 BC that are in an excellent state of preservation. The city walls and amphitheatre are largely intact, and the bottom of the walls of many other structures remain, as well as paved roads. The site is open to the public, and there is a modern national museum within it, which also contains the finds from the associated Greek site of Foce del Sele.\\nPaestum was established around 600 BC by settlers from Sybaris, a Greek colony in southern Italy, under the name of Poseidonia (Ancient Greek: Ποσειδωνία). The city thrived as a Greek settlement for about two centuries, witnessing the development of democracy. In 400 BC, the Lucanians seized the city. Romans took over in 273 BC, renaming it Paestum and establishing a Latin colony. Later, its decline ensued from shifts in trade routes and the onset of flooding and marsh formation. As Pesto or Paestum, the town became a bishopric (now only titular), but it was abandoned in the Early Middle Ages, and left undisturbed and largely forgotten until the eighteenth century.\\nToday the remains of the city are found in the modern frazione of Paestum, which is part of the comune of Capaccio Paestum in the Province of Salerno in the region of Campania, Italy. The modern settlement, directly to the south of the archaeological site, is a popular seaside resort with long sandy beaches. The Paestum railway station on the Naples-Salerno-Reggio Calabria railway line is directly to the east of the ancient city walls. \\n\\n\\n== Name ==\\nThe Greek settlers who founded the city originally named it Poseidonia (Ancient Greek: Ποσειδωνία). It was eventually conquered by the local Lucanians and later the Romans. The Lucanians renamed it to Paistos and the Romans gave the city its current name. \\n\\n\\n== Ancient ruins and features ==\\n\\nMuch of the most celebrated features of the site today are the three large temples in the Archaic version of the Greek Doric order, dating from about 550 to 450 BC. All are typical of the period, with massive colonnades having a very pronounced entasis (widening as they go down), and very wide capitals resembling upturned mushrooms. Above the columns, only the second Temple of Hera retains most of its entablature, the other two having only the architrave in place.\\nThese were dedicated to Hera and Athena (Juno and Minerva to the Romans), although previously they often have been identified otherwise, following eighteenth-century arguments. The two temples of Hera are right next to each other, while the Temple of Athena is on the other side of the town center. There were other temples, both Greek and Roman, which are far less well preserved. \\nPaestum is far from any sources of good marble. Unsurprisingly, the three main temples had few stone reliefs, perhaps using painting instead. Painted terracotta was used for some detailed parts of the structure.  The large pieces of terracotta that have survived are in the museum.\\n\\nThe whole ancient city of Paestum covered an area of approximately 120 hectares.  Only the 25 hectares that contain the three main temples and the other main buildings have been excavated. The other 95 hectares remain on private land and have not been studied.\\nThe ancient city was surrounded by defensive walls, which are largely intact. The walls are approximately 4.75 km (3 mi) long in its polygonal perimeter, typically 15 m (49 ft) high, and 5–7 m (16–23 ft) thick. Corresponding with the cardinal points, there were four main openings in the wall: Porta Sirena (east to the hills); Porta Giustizia (south, now to the modern village Paestum); Porta Marina (west to the sea); and Porta Aurea (north), which was later destroyed. Positioned along the wall were 24 square or round towers. There may have been as many as 28, but some '}, {'current_refined_summary': \"**Final Summary:**\\n\\nPaestum, an ancient Greek city located on the coast of the Tyrrhenian Sea in Magna Graecia, was established around 600 BC by settlers from Sybaris and originally named Poseidonia. The city flourished as a Greek settlement for approximately two centuries, notably developing democratic ideals, before being seized by the Lucanians in 400 BC. The Romans took control in 273 BC, renaming it Paestum and establishing a Latin colony. Over time, the city's decline was attributed to changes in trade routes and environmental challenges, leading to its abandonment during the Early Middle Ages. The site remained largely forgotten until the 18th century.\\n\\nToday, the well-preserved ruins of Paestum, including three significant ancient Greek temples in the Doric style dating from 550 to 450 BC, attract visitors. These temples, dedicated to Hera and Athena, showcase classic architectural features such as massive colonnades and distinct capitals. The archaeological site is complemented by a modern national museum that houses artifacts from the area, including finds from the related Greek site of Foce del Sele. \\n\\nThe ancient city, covering approximately 120 hectares, is partially excavated, with only 25 hectares containing the main temples and buildings accessible to the public. The city was fortified with defensive walls that remain largely intact, featuring four main gates and numerous towers. The modern settlement of Paestum, adjacent to the archaeological site, serves as a popular seaside resort, and the Paestum railway station connects it to the broader region.\", 'text': 'Paestum (Italian: [ˈpɛstum]) is a frazione of the comune (municipality) of Capaccio in the Cilento area of southern Italy. It lies in the province of Salerno which is part of the region of Campania. It is situated on the Tyrrhenian coast and is notable for the famous ruins of the  ancient city of the same name nearby.\\n\\n\\n== Overview ==\\nPaestum can be reached by the road linking Agropoli to Battipaglia. Paestum railway station is on the Naples-Salerno-Reggio Calabria railway line. The nearest airport is Salerno-Pontecagnano (QSR), 30 km from Paestum.\\n\\n\\n== References ==\\n\\n\\n== External links ==\\n Media related to Paestum at Wikimedia Commons'}, {'current_refined_summary': \"**Final Summary:**\\n\\nPaestum, an ancient Greek city located on the coast of the Tyrrhenian Sea in Magna Graecia, was established around 600 BC by settlers from Sybaris and originally named Poseidonia. The city flourished as a Greek settlement for approximately two centuries, notably developing democratic ideals, before being seized by the Lucanians in 400 BC. The Romans took control in 273 BC, renaming it Paestum and establishing a Latin colony. Over time, the city's decline was attributed to changes in trade routes and environmental challenges, leading to its abandonment during the Early Middle Ages. The site remained largely forgotten until the 18th century.\\n\\nToday, the well-preserved ruins of Paestum, including three significant ancient Greek temples in the Doric style dating from 550 to 450 BC, attract visitors. These temples, dedicated to Hera and Athena, showcase classic architectural features such as massive colonnades and distinct capitals. The archaeological site is complemented by a modern national museum that houses artifacts from the area, including finds from the related Greek site of Foce del Sele.\\n\\nThe ancient city, covering approximately 120 hectares, is partially excavated, with only 25 hectares containing the main temples and buildings accessible to the public. The city was fortified with defensive walls that remain largely intact, featuring four main gates and numerous towers. The modern settlement of Paestum, a frazione of the comune of Capaccio in the province of Salerno, serves as a popular seaside resort. It is well-connected, with a railway station on the Naples-Salerno-Reggio Calabria line and proximity to the Salerno-Pontecagnano Airport, located about 30 km away.\", 'text': 'Paestum\\n\\nancient city, Italy\\n\\nPrint\\xa0Cite\\xa0Share\\xa0Feedback\\xa0\\n\\nAlso known as: Poseidonia\\n\\nWritten and fact-checked by\\xa0\\n\\n\\n\\n\\n\\nThe Editors of Encyclopaedia Britannica\\n\\nLast Updated:\\xa0Article History\\n\\n\\n\\n\\n\\nPaestum: Temple of Apollo\\n\\nSee all media\\n\\nCategory:\\xa0Geography & Travel\\n\\nGreek:\\xa0Poseidonia\\n\\nRelated Places:\\n\\n\\xa0\\n\\nItaly\\xa0ancient Greece\\xa0Basilicata\\n\\nSee all related content →\\n\\nPaestum, Greek\\xa0Poseidonia, ancient city in southern\\xa0Italy\\xa0near the west coast, 22 miles (35 km) southeast of modern\\xa0Salerno\\xa0and 5 miles (8 km) south of the Sele (ancient Silarus) River. Paestum is noted for its splendidly preserved Greek temples.\\n\\n\\n\\n\\n\\nVisit the ruins of the ancient Greek colony of Paestum and discover its history, culture, and society\\n\\nSee all videos for this article\\n\\nPoseidonia was probably founded about 600\\xa0BC\\xa0by Greek colonists from\\xa0Sybaris, along the\\xa0Gulf of Taranto, and it had become a flourishing town by 540, judging from its temples. After many years’ resistance the city came under the domination of the\\xa0Lucanians\\xa0(an\\xa0indigenous\\xa0Italic people) sometime before 400\\xa0BC, after which its name was changed to Paestum. Alexander, the king of Epirus, defeated the Lucanians at Paestum about 332\\xa0BC, but the city remained Lucanian until 273, when it came under Roman rule and a Latin colony was founded there. The city supported\\xa0Rome\\xa0during the\\xa0Second Punic War. The locality was still prosperous during the early years of the Roman Empire, but the gradual silting up of the mouth of the Silarus River eventually created a malarial swamp, and Paestum was finally deserted after being sacked by Muslim raiders in\\xa0AD\\xa0871. The abandoned site’s remains were rediscovered in the 18th century.\\n\\n\\n\\nBritannica Quiz\\n\\nAncient Greece\\n\\n\\n\\n\\n\\nPaestum, Italy: Temple of Athena\\n\\nThe ancient Greek part of Paestum consists of two sacred areas containing three Doric temples in a remarkable state of preservation. During the ensuing Roman period a typical\\xa0forum\\xa0and town\\xa0layout\\xa0grew up between the two ancient Greek sanctuaries. Of the three temples, the\\xa0Temple of Athena\\xa0(the so-called Temple of Ceres) and the Temple of\\xa0Hera\\xa0I (the so-called Basilica) date from the 6th century\\xa0BC, while the Temple of Hera II (the so-called Temple of Neptune) was probably built about 460\\xa0BC\\xa0and is the best preserved of the three. The Temple of Peace in the forum is a Corinthian-Doric building begun perhaps in the 2nd century\\xa0BC. Traces of a Roman amphitheatre and other buildings, as well as intersecting main streets, have also been found. The circuit of the town walls, which are built of travertine blocks and are 15–20 feet (5–6 m) thick, is about 3 miles (5 km) in circumference. In July 1969 a farmer uncovered an ancient Lucanian tomb that contained Greek frescoes painted in the early\\xa0classical style. Paestum’s archaeological museum contains these and other\\xa0treasures\\xa0from the site.'}, {'current_refined_summary': \"**Final Summary:**\\n\\nPaestum, an ancient Greek city located on the coast of the Tyrrhenian Sea in Magna Graecia, was established around 600 BC by settlers from Sybaris and originally named Poseidonia. The city flourished as a Greek settlement for approximately two centuries, notably developing democratic ideals, before being seized by the Lucanians in 400 BC. The Romans took control in 273 BC, renaming it Paestum and establishing a Latin colony. Over time, the city's decline was attributed to changes in trade routes and environmental challenges, leading to its abandonment during the Early Middle Ages. The site remained largely forgotten until the 18th century.\\n\\nToday, the well-preserved ruins of Paestum, including three significant ancient Greek temples in the Doric style dating from 550 to 450 BC, attract visitors. These temples, dedicated to Hera and Athena, showcase classic architectural features such as massive colonnades and distinct capitals. The archaeological site is complemented by a modern national museum that houses artifacts from the area, including finds from the related Greek site of Foce del Sele.\\n\\nThe ancient city, covering approximately 120 hectares, is partially excavated, with only 25 hectares containing the main temples and buildings accessible to the public. The city was fortified with defensive walls made of travertine blocks, which remain largely intact and feature four main gates and numerous towers. The modern settlement of Paestum, a frazione of the comune of Capaccio in the province of Salerno, serves as a popular seaside resort. It is well-connected, with a railway station on the Naples-Salerno-Reggio Calabria line and proximity to the Salerno-Pontecagnano Airport, located about 30 km away. Paestum’s archaeological museum holds treasures from the site, including ancient frescoes discovered in a Lucanian tomb. The city’s historical significance and well-preserved structures make it a notable destination for those interested in ancient Greek culture and architecture.\", 'text': '\\t16 who came across the place before the historical Greek settlement was founded.53 Strabo, however, does claim, similarly to Aristotle, that it was the Achaeans who founded Sybaris and he also describes the mother colony, Sybaris, and mentions the name of its founder: Is of Helice.54       The Greeks flourished at Poseidonia for some 200 years. The city enjoyed the status of an autonomous Greek polis and was endowed with a defensive wall with four gates, probably built in phases. Inside the city walls three Doric-style temples were erected in the sixth and fifth centuries. There has been some disagreement on which gods the temples were dedicated too, however, even though within the scope of this study they are referred to as Hera I, Hera II and the Temple of Athena, they might as well have been dedicated to more than one god. A Greek agora was also laid out north of the sanctuary of Hera (Fig. 6). It was adorned with a variety of Greek features; among them a bouleuterion or possible ekklesiasterion.55 An intriguing structure identified as a heroon, a place that has been interpreted as being dedicated to founder of the city, was built on the western edge of the agora around 510-500 BC.56 Outside the walls of the city a possible harbour, its existence and position is however debated, several nekropoleis and extramural cult sites were located; of which one will be the focus of this study: The Sanctuary of Santa Venera south of the city wall. Poseidonia came to enjoy intense cultural and commercial exchange with the rest of the Greek world as well as non-Greek populations like the Etruscans to the north and other Italic tribes from the hinterland. The Etruscan influence combined with the Greek and local Poseidonian style can for example be seen in the very famous fifth century tomb known as Tomba del Tuffatore, the Tomb of the Diver.57 Altogether Poseidonia prospered  and continued doing so. When its mother colony, Sybaris, fell in 510 BC Poseidonia along with other colonies filled the gap as a commercial and cultural centre.58 However, as the fifth century closed, changes loomed on the horizon and the Greek settlement at Poseidonia was to be forever marked by what was to come.   2.1.2. The Lucanian period There were many subdivisions of the Italic population and among them were the Lucanians; an Oscan-speaking people with an already established close contact with the Greek cities of Magna                                                 53 Pedley 1990, 30.  54 Strab1. 6.6.13. 55 Pedley 1990, 79. 56 Pedley 1990, 38-39. 57 Mello 1985, 14. 58 Mello 1985, 14. '}, {'current_refined_summary': \"**Final Summary:**\\n\\nPaestum, an ancient Greek city located on the coast of the Tyrrhenian Sea in Magna Graecia, was established around 600 BC by settlers from Sybaris and originally named Poseidonia. The city flourished as a Greek settlement for approximately two centuries, enjoying the status of an autonomous Greek polis with a defensive wall and four gates, likely built in phases. Notable structures include three Doric-style temples erected in the sixth and fifth centuries, traditionally referred to as dedicated to Hera I, Hera II, and Athena, although the exact deities may vary. The city featured a Greek agora, complete with a bouleuterion or possible ekklesiasterion, and a heroon dedicated to the city's founder.\\n\\nPoseidonia thrived due to intense cultural and commercial exchange with both Greek and non-Greek populations, including the Etruscans and other Italic tribes. When its mother colony, Sybaris, fell in 510 BC, Poseidonia filled the gap as a commercial and cultural center. However, the city faced challenges in the late fifth century, leading to its eventual decline.\\n\\nThe Lucanians, an Oscan-speaking people, seized control of the city in 400 BC, followed by the Romans in 273 BC, who renamed it Paestum and established a Latin colony. Over time, changes in trade routes and environmental challenges contributed to the city's decline, leading to its abandonment during the Early Middle Ages. The site remained largely forgotten until the 18th century.\\n\\nToday, the well-preserved ruins of Paestum, including the three significant temples and the archaeological site covering approximately 120 hectares (with only 25 hectares accessible to the public), attract visitors. The modern settlement of Paestum, a frazione of the comune of Capaccio in the province of Salerno, serves as a popular seaside resort. It is well-connected, with a railway station on the Naples-Salerno-Reggio Calabria line and proximity to the Salerno-Pontecagnano Airport, located about 30 km away. The Paestum archaeological museum houses treasures from the site, including ancient frescoes discovered in a Lucanian tomb. The city's historical significance and well-preserved structures make it a notable destination for those interested in ancient Greek culture and architecture.\", 'text': '\\t17 Graecia. 59 The Lucanians, the local name for the south Italian Samnite people, occupied the inland area between the Ionian and the Tyrrhenian coast in the fourth century BC. Samnite people were expanding in numbers and in need of new homes, and therefore looked to the prosperous Greek and Etruscan coastal cities. At the end of the fifth century cities like Cumae and Capua had been captured by the Samnites and around 400 BC also Poseidonia came to be under control of the Lucanians.60 This is the traditional interpretation among scholars. However, in the final discussion of this study I hope to nuance this interpretation a bit.  Consequently, there has been a strong belief among many scholars that a “profound cultural change took place in the second half of the fifth century” at Poseidonia as a result of this Lucanian invasion.61 However, recent research has showed us otherwise. It is clear that Poseidonia at some point became a Lucanian city and that this happened gradually and peacefully. Much of the earlier historical interpretation of the Lucanian overtaking of Poseidonia derives from a statement made by Aristoxenos of Tarentum, a pupil of Aristoteles writing in the fourth century BC. He claims that the Greeks were essentially enslaved by the “Tyrrhenians”. This have led scholars to blame the Lucanians for this supposed regression in culture, politics and economy. The “Tyrrhenians” in this case have been interpreted as the Lucanians but it might as well refer to the Romans, Campanians, another Samnite people or the Etruscans; the latter have in fact in ancient literature been generally referred to as “Tyrrhenians”.62 The pessimistic literary evidence concerning the new trends in Poseidonia does, however, not have much support in the archaeological material. The supposed subjugation of the Greeks and the violent conquest of the city may in fact rather be a reflection of Greek attitudes in Tarentum or maybe even part of a larger process going on in Southern Italy at the time: Lucanization.63 But the evidence from Poseidonia suggests that the Greek practises continued; the bouleuterion and the heroon remained in use and so did the Greek sanctuaries and the Greek language.64 Some scholars claim that the change of the Greek name Poseidonia to Paistos or Paistom (later Paestum) can be seen as evidence of a conflict between Greeks and Lucanians, if this renaming happened under the Lucanian rule. The exact time of the change is however unsure, it might as well be a result of the later Roman conquest.65 Pedley does, on the contrary, not agree with the renaming                                                 59 Fracchia & Gualtieri 1989, 217. 60 Pedley 1990, 97. 61 Pedley 1990, 97; Horsnaes 2002, 11. 62 Isayev 2007, 17-18. 63 Isayev 2007, 18-19; Zuchtriegel 2016, 14.  64 Pedley 1990, 97. 65 Mello 1985, 15. '}, {'current_refined_summary': \"**Final Summary:**\\n\\nPaestum, an ancient Greek city located on the coast of the Tyrrhenian Sea in Magna Graecia, was established around 600 BC by settlers from Sybaris and originally named Poseidonia. The city flourished as a Greek settlement for approximately two centuries, enjoying the status of an autonomous Greek polis with a defensive wall and four gates, likely built in phases. Notable structures include three Doric-style temples erected in the sixth and fifth centuries, traditionally referred to as dedicated to Hera I, Hera II, and Athena, although the exact deities may vary. The city featured a Greek agora, complete with a bouleuterion or possible ekklesiasterion, and a heroon dedicated to the city's founder.\\n\\nPoseidonia thrived due to intense cultural and commercial exchange with both Greek and non-Greek populations, including the Etruscans and other Italic tribes. When its mother colony, Sybaris, fell in 510 BC, Poseidonia filled the gap as a commercial and cultural center. However, the city faced challenges in the late fifth century, leading to its eventual decline.\\n\\nThe Lucanians, an Oscan-speaking people, seized control of the city around 400 BC, followed by the Romans in 273 BC, who renamed it Paestum and established a Latin colony. Recent research suggests that the transition from Greek to Lucanian control occurred gradually and peacefully, contrary to earlier interpretations that emphasized violent conquest and cultural regression. Despite the Lucanian influence, Greek practices, language, and institutions, such as the bouleuterion and Greek sanctuaries, continued to thrive.\\n\\nOver time, changes in trade routes and environmental challenges contributed to the city's decline, leading to its abandonment during the Early Middle Ages. The site remained largely forgotten until the 18th century.\\n\\nToday, the well-preserved ruins of Paestum, including the three significant temples and the archaeological site covering approximately 120 hectares (with only 25 hectares accessible to the public), attract visitors. The modern settlement of Paestum, a frazione of the comune of Capaccio in the province of Salerno, serves as a popular seaside resort. It is well-connected, with a railway station on the Naples-Salerno-Reggio Calabria line and proximity to the Salerno-Pontecagnano Airport, located about 30 km away. The Paestum archaeological museum houses treasures from the site, including ancient frescoes discovered in a Lucanian tomb. The city's historical significance and well-preserved structures make it a notable destination for those interested in ancient Greek culture and architecture.\", 'text': '\\t18 and states that the city continued to be called Poseidonia during the Lucanian period.66 In the present study I too will continue to use the name Poseidonia, in line with most scholars.       During the fourth century BC and up to the establishing of the Latin colony in 273 BC Poseidonia prospered as revealed in the archaeological record. Although there were no major large-scale building programmes to match the constructions of the Greek temples and sanctuaries those places continued to be looked after and the gods were worshiped by the new inhabitants.67 However, two stoai were built at the Greek agora as well as an Asklepieion (Table). The changes that came along with the Lucanians are to be seen in the agriculturalization and the density of settlement of the territory of Poseidonia as well as new burial practices in terms of extraordinary decorations.68   2.1.3. The Latin colony In 273 BC the expanding city of Rome had reached past the river Sele and stood at the gates of the Greek/Lucanian city of Poseidonia. Rome had been expanding for years, and the Republic was founding colonies, ex novo or, in the case of Poseidonia-Paestum, taking over already established settlements, all over the Italian peninsula. The Roman colonies, perhaps especially the ones that were founded during the late Republic, were behaving in a strikingly uniform way. The Roman, or the Latin, colony, is well known for its formulaic way of structure and features; in other words, we know the nature of a Roman colony without having to see one. The foundation ritual has been described in ancient literary sources and is said to originate from the time of Rome’s mythological foundation when Romulus, 753 BC, with permission of the gods laid out the sacred boundary, pomerium, around the city.69 The founding ritual of the colonies is describes by Bispham in the article ‘Coloniam deducere: how Roman was the Roman colonisation during the middle Republic?’:   Firstly, the deductio, or marching out, of the colonists from Rome to the site of the colony; the deductor (founder), in ritual dress (the cinctus Gabinus), ploughs the sulcus primigenius (the original furrow), tracing the line of the future walls and instantiating a ritual barrier, the pomoerium.70    In other words, it is clear that there was a model for Roman colonization and that the newly founded colonies were using the same set of rules and rituals to express their relationship, as                                                 66 Pedley 1990, 97.  67 Pedley 1990, 112. 68 Pedley 1990, 97. 69 Plut. Vit. Rom. 11.1-4. 70 Bispham 2006, 74. '}, {'current_refined_summary': \"**Final Summary:**\\n\\nPaestum, an ancient Greek city located on the coast of the Tyrrhenian Sea in Magna Graecia, was established around 600 BC by settlers from Sybaris and originally named Poseidonia. The city flourished as a Greek settlement for approximately two centuries, enjoying the status of an autonomous Greek polis with a defensive wall and four gates, likely built in phases. Notable structures include three Doric-style temples erected in the sixth and fifth centuries, traditionally referred to as dedicated to Hera I, Hera II, and Athena, although the exact deities may vary. The city featured a Greek agora, complete with a bouleuterion or possible ekklesiasterion, and a heroon dedicated to the city's founder.\\n\\nPoseidonia thrived due to intense cultural and commercial exchange with both Greek and non-Greek populations, including the Etruscans and other Italic tribes. When its mother colony, Sybaris, fell in 510 BC, Poseidonia filled the gap as a commercial and cultural center. The city continued to prosper during the fourth century BC, as evidenced by archaeological findings, despite the absence of major new construction. The existing temples and sanctuaries were maintained, and new structures like two stoai at the agora and an Asklepieion were built. However, the city faced challenges in the late fifth century, leading to its eventual decline.\\n\\nThe Lucanians, an Oscan-speaking people, seized control of the city around 400 BC, although recent research suggests that this transition was gradual and peaceful rather than violent. During the Lucanian period, which lasted until the Romans took over in 273 BC, the city continued to be known as Poseidonia. Despite the Lucanians’ influence, Greek practices, language, and institutions persisted. Changes included agriculturalization and new burial practices characterized by extraordinary decorations.\\n\\nIn 273 BC, the expanding Roman Republic renamed the city Paestum and established a Latin colony. This colonization followed a formulaic structure common to Roman colonies, involving rituals that traced boundaries and established the new settlement. Over time, changes in trade routes and environmental challenges contributed to the city's decline, leading to its abandonment during the Early Middle Ages. The site remained largely forgotten until the 18th century.\\n\\nToday, the well-preserved ruins of Paestum, including the three significant temples and the archaeological site covering approximately 120 hectares (with only 25 hectares accessible to the public), attract visitors. The modern settlement of Paestum, a frazione of the comune of Capaccio in the province of Salerno, serves as a popular seaside resort. It is well-connected, with a railway station on the Naples-Salerno-Reggio Calabria line and proximity to the Salerno-Pontecagnano Airport, located about 30 km away. The Paestum archaeological museum houses treasures from the site, including ancient frescoes discovered in a Lucanian tomb. The city's historical significance and well-preserved structures make it a notable destination for those interested in ancient Greek culture and architecture.\", 'text': '\\t19 well as their obedience and loyalty to their mother colony: Rome.71 However, Poseidonia, renamed Paestum after the founding of the Latin colony inside its walls, being an early example of Roman colonization as well as an already established city with all its functions and features, this ‘model of colonization’ cannot be applied in the same way. As the following analysis of Poseidonia-Paestum will show, Rome was the model for the colony’s political system. The rôle of the city was, however, adapted to fit its purposes as a colony as well as a product of new and previous influence and it was thus not a direct replica.72       After the founding of the Latin colony the city was altered radically (Table). The Greek/Lucanian agora ceased to be in use and instead a Roman forum was laid out in the southern part of the old agora. Traditional Roman buildings, especially those relating to political and juridical aspects, were constructed at the new forum and simultaneously the buildings with similar functions at the agora were demolished. The sanctuaries, however, remained in use, both the intramural and the extramural. They were respected by the new settlers and continued to be objects of worship.73 A striking continuity of divine worshipping is analysed in detail in the further analysis of the Sanctuary of Santa Venera.      The bonds with the mother colony, the city of Rome, were strong; both in a juridical and political sense as well as affectional. Paestum supported Rome in times of need and aligned itself with its mother colony politically and diplomatically. When the Carthaginian general Hannibal was roaming around southern Italy during the second Punic War, 218-201 BC, and literally breathing down the necks of the Paestans, the city still remained loyal to Rome. However, the many wars and the feeling of unsafety these times must have given rise to might have been a hard blow on the Paestan society. That said, it is a well-known fact that nothing binds a society together like a common enemy, and Paestum was thus rewarded for its loyalty. A certain degree of autonomy was given to the city and also the privilege of striking its own coins.74 Thus, Rome continued to be a strong influencer on the Paestan society although it is evident, which is shown in the further analysis of some aspects of the nature of Roman influence, that the city never forgot its Greek and Lucanian roots. In 133 the via Popilia, running to the east of Paestum, was constructed and as a result of this the city was unfortunately cut off from principal routes connecting the city to the rest of the peninsula.75                                                            71 Bispham 2006, 73-74. 72 Sewell 2010, 86. 73 Pedley 1990, 113. 74 Pedley 1990, 113. 75 Pedley 1990, 113-114.  '}, {'current_refined_summary': \"**Final Summary:**\\n\\nPaestum, an ancient Greek city located on the coast of the Tyrrhenian Sea in Magna Graecia, was established around 600 BC by settlers from Sybaris and originally named Poseidonia. The city flourished as a Greek settlement for approximately two centuries, enjoying the status of an autonomous Greek polis with a defensive wall and four gates, likely built in phases. Notable structures include three Doric-style temples erected in the sixth and fifth centuries, traditionally referred to as dedicated to Hera I, Hera II, and Athena, although the exact deities may vary. The city featured a Greek agora, complete with a bouleuterion or possible ekklesiasterion, and a heroon dedicated to the city's founder.\\n\\nPoseidonia thrived due to intense cultural and commercial exchange with both Greek and non-Greek populations, including the Etruscans and other Italic tribes. When its mother colony, Sybaris, fell in 510 BC, Poseidonia filled the gap as a commercial and cultural center. The city continued to prosper during the fourth century BC, as evidenced by archaeological findings, despite the absence of major new construction. The existing temples and sanctuaries were maintained, and new structures like two stoai at the agora and an Asklepieion were built. However, the city faced challenges in the late fifth century, leading to its eventual decline.\\n\\nThe Lucanians, an Oscan-speaking people, seized control of the city around 400 BC, although recent research suggests that this transition was gradual and peaceful rather than violent. During the Lucanian period, which lasted until the Romans took over in 273 BC, the city continued to be known as Poseidonia. Despite the Lucanians’ influence, Greek practices, language, and institutions persisted. Changes included agriculturalization and new burial practices characterized by extraordinary decorations.\\n\\nIn 273 BC, the expanding Roman Republic renamed the city Paestum and established a Latin colony. This colonization followed a formulaic structure common to Roman colonies, involving rituals that traced boundaries and established the new settlement. Following the founding of the Latin colony, the city underwent significant alterations. The Greek/Lucanian agora ceased to be in use, replaced by a Roman forum where traditional Roman buildings were constructed, and the previous agora structures were demolished. However, the sanctuaries remained in use, continuing to be objects of worship, demonstrating a continuity of divine worship.\\n\\nOver time, changes in trade routes and environmental challenges contributed to the city's decline, leading to its abandonment during the Early Middle Ages. The site remained largely forgotten until the 18th century. During its time under Roman influence, Paestum maintained strong ties to Rome, supporting the city in times of need, including during the Second Punic War, when it remained loyal despite the threats posed by Hannibal. This loyalty earned Paestum certain privileges, including a degree of autonomy and the right to mint its own coins, although the city never completely lost its Greek and Lucanian roots.\\n\\nToday, the well-preserved ruins of Paestum, including the three significant temples and the archaeological site covering approximately 120 hectares (with only 25 hectares accessible to the public), attract visitors. The modern settlement of Paestum, a frazione of the comune of Capaccio in the province of Salerno, serves as a popular seaside resort. It is well-connected, with a railway station on the Naples-Salerno-Reggio Calabria line and proximity to the Salerno-Pontecagnano Airport, located about 30 km away. The Paestum archaeological museum houses treasures from the site, including ancient frescoes discovered in a Lucanian tomb. The city's historical significance and well-preserved structures make it a notable destination for those interested in ancient Greek culture and architecture.\", 'text': 'Paestum. Greek colony in Italy, south of Naples, of which a group of ruined Doric temples survives (c.530bcâ€“c.460 bc). This Doric Order has the most exaggerated entasis of any Antique example, and the very wide squat capitals on top of the shafts emphasize the primitive effect. The Paestum Order was much admired by Neo-Classical architects in C18 and C19, and was used where powerful effects were sought.\\n\\nBibliography\\n\\nJ. Curl (2001);\\nDinsmoor (1950);\\nC. Normand (1852);'}]}\n"
     ]
    }
   ],
   "source": [
    "full_summary = refine_summary(all_docs)\n",
    "print(full_summary)"
   ]
  }
 ],
 "metadata": {
  "kernelspec": {
   "display_name": "Python 3 (ipykernel)",
   "language": "python",
   "name": "python3"
  },
  "language_info": {
   "codemirror_mode": {
    "name": "ipython",
    "version": 3
   },
   "file_extension": ".py",
   "mimetype": "text/x-python",
   "name": "python",
   "nbconvert_exporter": "python",
   "pygments_lexer": "ipython3",
   "version": "3.11.9"
  }
 },
 "nbformat": 4,
 "nbformat_minor": 5
}
