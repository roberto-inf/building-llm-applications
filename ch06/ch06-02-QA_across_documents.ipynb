{
 "cells": [
  {
   "cell_type": "markdown",
   "id": "c4511fcd-456f-4612-91cf-40efb9592858",
   "metadata": {},
   "source": [
    "# Q&A across documents with LangChain and LangSmith"
   ]
  },
  {
   "cell_type": "code",
   "execution_count": 1,
   "id": "df920cd9-31be-4bf6-916d-25083625d8f7",
   "metadata": {},
   "outputs": [],
   "source": [
    "from langchain.document_loaders import WikipediaLoader\n",
    "from langchain.document_loaders import Docx2txtLoader\n",
    "from langchain.document_loaders import PyPDFLoader\n",
    "from langchain.document_loaders import TextLoader\n",
    "\n",
    "from langchain.vectorstores import Chroma\n",
    "\n",
    "from langchain.text_splitter import RecursiveCharacterTextSplitter\n",
    "\n",
    "from langchain_huggingface import HuggingFaceEmbeddings\n",
    "\n",
    "# from langchain.embeddings import OpenAIEmbeddings # you can use this if you don't mind about costs"
   ]
  },
  {
   "cell_type": "markdown",
   "id": "cd2b5787-105a-44a9-90a9-fdb3e026aa7d",
   "metadata": {},
   "source": [
    "## Setting up vector database and embeddings"
   ]
  },
  {
   "cell_type": "code",
   "execution_count": 2,
   "id": "33f0e3ba-c17f-454f-b62f-a1311438e316",
   "metadata": {},
   "outputs": [
    {
     "name": "stderr",
     "output_type": "stream",
     "text": [
      "C:\\Github\\building-llm-applications\\ch06\\env_ch06\\Lib\\site-packages\\sentence_transformers\\cross_encoder\\CrossEncoder.py:11: TqdmWarning: IProgress not found. Please update jupyter and ipywidgets. See https://ipywidgets.readthedocs.io/en/stable/user_install.html\n",
      "  from tqdm.autonotebook import tqdm, trange\n"
     ]
    }
   ],
   "source": [
    "text_splitter = RecursiveCharacterTextSplitter(chunk_size=500, chunk_overlap=0)\n",
    "embeddings_model = HuggingFaceEmbeddings(model_name=\"all-MiniLM-L6-v2\")\n",
    "#embeddings_model = OpenAIEmbeddings() # you can use this is you don't mind about costs\n",
    "vector_db = Chroma(\"tourist_info\", embeddings_model)"
   ]
  },
  {
   "cell_type": "code",
   "execution_count": 3,
   "id": "8e1eff7c-bdb9-44c5-96f6-ab3b50847f8a",
   "metadata": {},
   "outputs": [
    {
     "data": {
      "text/plain": [
       "['6d34de48-8896-4c79-950b-cea3c20be084',\n",
       " '6fd0b9b5-e832-4d2c-851b-f1d202975462',\n",
       " '03249ad5-9bad-4886-a62b-52eff0839077',\n",
       " '623167c5-266d-4e76-a484-4d88182d346f',\n",
       " '69d53fca-191e-4d58-806d-572efd3ee4db',\n",
       " '0df480e8-0803-4742-ab06-9b4b65215aa4',\n",
       " '5b86837c-cae3-41e8-bf89-34f322be05da',\n",
       " '2f3322cb-0288-439b-baa8-a7978b7adef7',\n",
       " '4eb3ac67-e714-40e7-b853-10c97ee74cab',\n",
       " '2767dc09-1573-4b30-a996-6907faa4812b',\n",
       " '00ce40be-f5e0-4cb1-b3f1-b2706fef88aa',\n",
       " '733a2587-88a1-4e16-8445-2d078f4dc539',\n",
       " 'bc8b3f5a-8a54-4be3-9ad2-5df22a3b488b',\n",
       " 'ef7c70f1-5bbc-4c2f-aa28-b4a9041f073f',\n",
       " 'a26bc834-ca59-4cf0-a12c-a891f0d02fe7',\n",
       " '20c5be6c-37cf-463a-a76b-5bdca9cb24bf',\n",
       " '26ba74a8-023c-42ed-bf93-ff0b6acafd4b',\n",
       " '5afcca7d-844e-456a-847e-6abac9259907',\n",
       " '9d84e826-dbac-4480-adbf-6d8098cca822',\n",
       " 'd2b8ab1d-be40-47e3-bcf7-56af546bb286',\n",
       " 'a4e8e2c9-8109-4ba3-9dc0-43760adcabd0',\n",
       " '86b6c098-47c0-41e8-8325-9ce30423b6d7',\n",
       " '6411f74c-7eb9-4225-8962-9b70a3ac7de1',\n",
       " '8beeb73a-eb08-4290-88ca-f5157ad0e6a8',\n",
       " '91c543c0-cc9c-43d3-9c27-679e744b6b67',\n",
       " '9e5b17db-0600-4c3a-b864-2c3f449a2546',\n",
       " '29b7954e-25d4-443e-943c-89863c12db86',\n",
       " '65488823-6778-4840-b74a-7639c34e4155',\n",
       " '2ca9aa10-c8e8-4758-bdfa-2458eb1a139a',\n",
       " 'ea3c9620-3f6d-4190-8565-bb5265de6233',\n",
       " 'a7c96639-f50d-4053-8832-7215e4609412',\n",
       " '840e4d13-7536-4238-bb39-124d0c409c9e',\n",
       " 'dd9e5a32-6a4d-44ca-8df0-c635662ce945',\n",
       " '85679a35-5bf1-4147-93ed-5424e1f7d995',\n",
       " 'a045b2be-9bb1-481e-9c1d-7edeb824a3a5',\n",
       " 'e49bd8e1-d885-4a59-9888-7aec1b0a1a6f',\n",
       " 'dba28d95-5f96-449e-9bde-5ced0cacd96b',\n",
       " 'ca5c5670-dc65-4193-b6d4-8f92ca8d8dad',\n",
       " '86210485-7412-44d5-953b-cd48ae2417b0',\n",
       " 'a4013bed-e1ad-4387-be7c-28f261f10729',\n",
       " 'dc86e8da-9e42-4e0c-adfd-4d4e78403629',\n",
       " '23ada6a3-a56d-4eee-bee3-d72570d49957',\n",
       " 'd2a79d90-de16-46ae-99b1-0a8d43e4aa6a',\n",
       " '4280001a-1619-4ee6-a822-6c18b2061c92',\n",
       " 'f607a6ce-b069-46b1-878a-4dc33c0c043a',\n",
       " '98b0c9a5-bbff-4ddc-802c-c585756106fb',\n",
       " '33c2c5a3-e08b-4c59-ba33-7b671a3ad6ae',\n",
       " '75085508-d2fb-4714-be95-9a16b69c3ab8',\n",
       " '2b4fb4f1-395b-4ff6-aa60-fe2799f83123',\n",
       " 'a84adcc5-9dba-4687-8c47-319a14bdc295',\n",
       " '299f7b67-6f52-4604-a2e4-2bba49fb9a45',\n",
       " 'dac29f3d-a274-4785-a990-5d28562effa4',\n",
       " 'b87814f2-cbe8-441c-a025-5b6b1098b0f1',\n",
       " '213b0921-5eb4-4266-8936-af1f0e9f4fb2',\n",
       " '7d5cfbf6-a863-4539-9ca4-12d828748e7a',\n",
       " '04e071e9-4bf5-4b3c-b6ff-2f73e53bce67',\n",
       " 'c5822384-f457-47cf-9b60-931aacc0fd72',\n",
       " 'bc7453b5-d7b1-4716-a59b-daed5a92f308',\n",
       " '18cc01f2-9763-48ce-b533-b1154a44042a',\n",
       " '39a2c372-9524-4f7b-a43d-d67a59b22633',\n",
       " 'bae25627-774f-4444-bfd3-469cb2edc6b7',\n",
       " '4a912b4f-8fd9-4045-872d-014125a58e9a',\n",
       " 'fdb48843-28b8-4825-a176-7292a82d64a1',\n",
       " '10fc94f5-6b23-459b-b544-dc972bf82b37',\n",
       " '1aaf012c-8e01-4c6d-a8c6-b66bf018c874',\n",
       " '7aaf45da-fe16-4b6b-bdf0-137510a3dbe5',\n",
       " '25cc3f43-4c7d-4888-b0a3-611ce7f81775',\n",
       " '38ec6abc-3dee-48a2-923a-e7d997e84a66',\n",
       " 'db100e8e-1244-4f40-8eb9-ee94665ff8d4',\n",
       " 'f67bda84-f073-4296-9852-20185a7b57b2',\n",
       " '177755ee-b354-4668-be72-b63cb7273268',\n",
       " '54e45ed2-a402-4ed1-8b85-57897e982cca',\n",
       " '52701691-fdd9-44d2-9666-d300cc74abb7',\n",
       " '3b965392-89be-49e8-addd-c765cc5b3779',\n",
       " '449fb9e2-cc92-4df9-b082-ad843a34ce29',\n",
       " 'e7922ae4-d20f-4535-8905-7390a6198232',\n",
       " 'f9606fe6-4e58-4585-b762-d3cdb2e85f43',\n",
       " 'a4e8b68a-b8a9-4cac-a693-a890e83f5867',\n",
       " 'dd5dd95a-59f8-4eb3-9e60-863701bc785f',\n",
       " 'b90df780-538f-4832-b92a-5a24da926303',\n",
       " 'f7b29077-82d9-4543-a9a2-7903de69d7be',\n",
       " '8e9975f2-b4d6-4822-a96b-579e28fb7ce4',\n",
       " 'aadb99c9-db04-4d9a-9a32-021bdfdb6cc9',\n",
       " '23bbb9ef-438e-4cac-aedb-20a2c2bd3a3f',\n",
       " '60136fc3-a773-4d1c-bddf-e40b3c55f304',\n",
       " 'c5ff2823-1799-482d-a51d-a124bbed9bc1',\n",
       " '2f1a592d-4ef3-495f-a54e-b192c36b176e',\n",
       " '2708a1dd-6898-43a4-b4b3-b5733c1c8487',\n",
       " '2afc930e-99bc-434d-a45f-dfe3a13b72f4',\n",
       " 'dc3a18fe-1f05-4c6c-9916-a6b0cd2cb8b8',\n",
       " '5f8861a8-ead0-4d0c-b2f6-a6a65456c856',\n",
       " 'ba9e2516-3439-4cd3-a475-f8db63024dda',\n",
       " '2d04f4a0-a041-4b10-baf2-3b07460bab97',\n",
       " '2425f3f6-7cc2-4232-a9ed-2d8a79ed349d',\n",
       " '3aff0338-4153-4e7a-90cd-caec9c4f849f',\n",
       " '53b88070-f523-4811-af5f-ab20d37d1f18',\n",
       " 'b4be3a15-d78b-44ef-82a7-55079bf596a3',\n",
       " 'a1a43a41-eb37-4782-9eb5-2811b704bac9',\n",
       " '9bdbacfd-2dc3-4f45-bdec-449e6bb05e31',\n",
       " '2d9fef42-abe6-4dbd-9d66-24cef76b4973',\n",
       " 'a0d19cdd-5345-4942-bf8d-2088c7cf9aa1',\n",
       " 'b7494dbc-6634-42c4-848e-fd3880b72ac9',\n",
       " '2604422b-549d-4729-b248-0f8c7b2a41ca',\n",
       " '2e4877c1-1cbb-47d1-a50b-22b28c1da653',\n",
       " 'f41d4c15-7e75-438f-8746-c4a6fec4881f',\n",
       " '59ce1460-cdec-4895-9f31-0ee99be58791',\n",
       " '8508f112-c470-48b4-a722-65839c8b54ad',\n",
       " 'd507aedd-0566-4b54-ab92-5f9e5b48b287',\n",
       " '79c9985c-4819-4ce7-8ad9-8dfc3d09203e',\n",
       " '2efebd8b-57a5-4fb0-b426-f57bc99431e5',\n",
       " '2a0455e5-3beb-463c-8ebf-aa364554fbc2',\n",
       " '6637ce68-f75b-47e5-a719-e26e5ae4f778',\n",
       " '2228c712-786f-455f-9575-e350a5332c84',\n",
       " 'dae3301b-a249-416d-8d3f-9738f0cc3555',\n",
       " 'd356c999-14b1-4d53-9b30-57e46b800354',\n",
       " '1a06eaff-2e47-40de-9fd8-3dbedcb49be0',\n",
       " 'a74e025c-17c2-4d40-8f0b-3ace5795b7e3',\n",
       " 'e292e138-9f22-4174-a0ec-95c2a21afa9d',\n",
       " 'ec51f062-1737-4e14-ba61-63590bf70308',\n",
       " '8439ffea-9219-41d0-9558-21f699f6b554',\n",
       " '7b4ded76-e6a9-4884-8426-4e4f353d4388',\n",
       " '3d4cbbe1-e8a8-422d-b99c-599aeb7f248b',\n",
       " 'b7bdc0b1-ac9c-40ab-8afe-cc38ced44526',\n",
       " 'cf75cb86-0dd3-4e1a-9d66-be5245113222',\n",
       " '05975f5a-bfd9-42c7-bd2e-888e363be64b',\n",
       " '18809eef-574c-488a-90d9-44d4e92045ef',\n",
       " 'adedff11-e85e-4709-bbcb-b81665eb0305',\n",
       " 'd6ca11e1-5c0d-4217-bc85-16bb2680b90f',\n",
       " '5f8083c9-d2f2-47af-8393-b4b17b274ac6',\n",
       " '77f6b700-55cd-4035-9b18-a79f9e6eb824',\n",
       " 'ce25859c-2370-4718-bcb5-b094a07e6a8e',\n",
       " 'ff606387-89b0-4e12-9cc7-10e195700049',\n",
       " '3a096e75-e9c9-43ef-aeb9-90bad2bc2097',\n",
       " '7bb0d48c-062e-455a-a185-c4fa460af836',\n",
       " '18eeed0a-1dc5-474c-b1fa-6e687115bc96',\n",
       " '7d7df33e-ffc0-4f83-9815-9c6fe5b48ca6',\n",
       " 'a2483126-6e15-428a-9cc3-02be2d1dc6df',\n",
       " 'ddfd5e28-01ab-4106-85ba-4059ba5affd4',\n",
       " '1d78c1bc-eaab-4531-bf33-338e3bfd7787',\n",
       " '2bd89b41-e091-4e88-a5ba-c969e97ecb75',\n",
       " 'f1fd4797-ebd5-493e-8dd3-34dc33b431f3',\n",
       " '68fa61ab-ba4b-4b0a-b5e6-5581da3eb41e',\n",
       " 'c4499487-5268-4847-9caa-ff682b2afb63',\n",
       " 'ab55ff56-1ad0-4909-83ef-f593fb23448f',\n",
       " 'd78c3e37-aa34-4d87-a5fd-9d0313d5b360',\n",
       " 'f80963a3-03b3-4e3c-9779-5bbbd480c5aa',\n",
       " 'e437e189-aecb-48c3-ad68-a601fb4a6a6f',\n",
       " 'ab23cd20-8165-4992-b589-8007061360cb',\n",
       " '4cacaad7-da74-482a-8842-14dbc05c92d9',\n",
       " 'a843b0e6-4fe1-4a6c-b85b-3933d4486091',\n",
       " '73d4e61c-25c3-4b8b-bea5-2aff4a0a9b85',\n",
       " '2f072ef8-13fe-4d49-9c8c-eff72101c895',\n",
       " '9c8e124f-214c-4d84-9d16-e9fcd02035c4',\n",
       " '137c3f01-be6e-4f7c-8347-000aada7f02a',\n",
       " '8997991b-045d-4171-b034-8399c470c607',\n",
       " 'fc6eb34c-3914-4733-8649-0b6058f83100',\n",
       " 'd9609497-70ff-479d-9401-698086a3dfa7',\n",
       " 'fdd7e35d-022b-4d60-acb5-8e1bb3af6e8f',\n",
       " 'b6064cf6-edbb-4192-8890-65367f79a62e',\n",
       " 'd05e7ea9-be9f-43f9-ac28-1f91136deeef',\n",
       " '2ea25ebc-4ca5-4e44-9d4d-e5f8ffc35efd',\n",
       " '03099a78-cb3f-49fe-8bea-7809df8ceeaa',\n",
       " '38fab827-760a-4e2b-91c6-e4b1b7bc9a0a',\n",
       " 'ab2f228d-ddfb-4b6a-a4d1-b57c9540e0ec',\n",
       " '5149395a-562c-4661-a164-907de6e2969d',\n",
       " '06793e84-b00a-4f18-9145-300996ac93a3',\n",
       " 'd241f6d6-f2ac-4f03-b49b-5edd0e054b66',\n",
       " '7605171d-ff17-4bcc-8f0f-b63f270ef799',\n",
       " '6924dd8b-e9dd-403f-9785-b6dda7124a50',\n",
       " 'efb78b7a-9802-47de-a629-e7e3d399e96c',\n",
       " 'fe076929-50d9-423d-b69c-1f89ab1a161e',\n",
       " '5ac92302-a288-40a2-91bd-48ae05eb4d53',\n",
       " '1be20f5f-28f4-4dc2-84d2-43e47f0d039f',\n",
       " '6d560d82-6c77-4567-8c21-e741fcbd0e4d',\n",
       " '8027bc88-b4bc-4b55-90c9-2b43265136ed',\n",
       " '7915b21b-4103-4930-a240-5d9e7e94cc76',\n",
       " '81efb34d-51ad-4f8f-a3e0-47df40ca6ee3',\n",
       " '4fc26512-b80a-41e8-ae53-7f344845f9b0',\n",
       " 'd241a89d-489e-4628-add2-e9d5e01bf7c9',\n",
       " 'f438cf60-d97a-46de-a6c2-a40e08b61a92',\n",
       " '2a62ec0a-7a5a-43db-9956-e42f3d36a4bd',\n",
       " '8f76a40c-5050-4750-88da-d96e30f3018f',\n",
       " '7045b8a7-e9d5-4db9-9b83-6773b60597e7',\n",
       " '28bd6e19-6c6c-4672-9186-cb8be6ecd177',\n",
       " '1fffc7f2-e082-4833-89c8-4bf0be85bad7',\n",
       " '9d575e25-bb5b-4946-9995-f05ead5dc001',\n",
       " '1d56d7c8-818c-4f51-bd34-9447c8301d47',\n",
       " 'e1d4a7a2-38fa-43c5-94e4-6286b8db2cc9',\n",
       " '2884365b-abea-41fe-a389-294193e1e90b',\n",
       " '938e0753-636b-4c77-8e79-3ea60d2f8d6f',\n",
       " '74fa8e0c-8ee7-4123-80d6-9cb3a0c2651b',\n",
       " '28c29d18-e198-4c07-8ac8-ec8a494b8cf7',\n",
       " 'bbd72ec4-5f76-4417-9f26-2b87a80098e1',\n",
       " '24c83c59-d076-4be1-bebd-459a594e7052',\n",
       " 'f7b1e701-73ff-4004-be38-047a64dace51',\n",
       " '3da23a69-41bf-4339-9880-7bd0a450a483',\n",
       " '1692120a-0146-440d-8bc6-07116fc7f329',\n",
       " 'f41082ae-51f9-45e7-932f-538a28d3e31a',\n",
       " '4150e29b-7ca3-4443-85d9-7bc5161c269f',\n",
       " '8f3c6ed1-aeba-4da1-8844-7df37b8bbde2',\n",
       " 'a1c9a102-ab32-4acb-8880-93a42961133a',\n",
       " '62cf7cda-feba-4a4e-b92f-ac9e45b1c38c',\n",
       " '117fc9f7-af4e-4ab6-b037-f747742dc96d',\n",
       " 'b44370a1-13a9-4722-acbf-f74c3f2bdc81',\n",
       " 'af7f8930-b107-420d-a62f-c34edb1bbc55',\n",
       " 'aef6b16a-2fcb-4bf1-8004-06faa9120496',\n",
       " 'fdb47f0d-5179-4d7a-8fe4-0d352cc197cd',\n",
       " '56b865e0-4f5c-4274-b288-0ea9c8ca3a80',\n",
       " '0a3034c1-a240-4da8-b647-8143915fdd75',\n",
       " 'd8d320dc-142f-421d-83d5-be91666c97a7',\n",
       " '50cb0843-5675-4ed0-af0b-d6bc4b89f56b',\n",
       " 'd19b0fdd-3a2c-44a2-acea-b4e68fecfaaa',\n",
       " '657781c6-5cec-4cef-ae38-ad3ec838d70a',\n",
       " '1724a239-72e6-4d6c-8b8e-bbc0caa2be60',\n",
       " 'a595c2ff-dfe0-4194-9b52-cb15f03fbee1']"
      ]
     },
     "execution_count": 3,
     "metadata": {},
     "output_type": "execute_result"
    }
   ],
   "source": [
    "wikipedia_loader = WikipediaLoader(query=\"Paestum\")\n",
    "wikipedia_chunks = text_splitter.split_documents(wikipedia_loader.load())\n",
    "vector_db.add_documents(wikipedia_chunks)"
   ]
  },
  {
   "cell_type": "code",
   "execution_count": 4,
   "id": "e24eb3ce-3308-4aaf-9be6-bc0208bdd0c5",
   "metadata": {},
   "outputs": [],
   "source": [
    "#vector_db = Chroma.from_documents(wikipedia_chunks, embeddings_model)"
   ]
  },
  {
   "cell_type": "code",
   "execution_count": 7,
   "id": "0ecc12c8-9564-417a-8a57-2072e70e84f6",
   "metadata": {},
   "outputs": [
    {
     "data": {
      "text/plain": [
       "['6b674cdb-0596-4496-8321-d5576308b2ea',\n",
       " '0f78d6f9-9e44-4ea8-a8e8-5901410d5387',\n",
       " 'f5f0e636-8ae1-409c-ad45-b42501b16063',\n",
       " '1d589f0e-2ceb-461b-b3d0-729be98510c5',\n",
       " '50beddf1-9c35-4613-bf35-b9413dbd4c4d',\n",
       " '1d354ca3-dc72-48c0-8167-be7b2d0c6bfb',\n",
       " '898c9658-2ca2-462b-a7e9-d874b8f6351a',\n",
       " '081f4f41-1309-48c7-8876-e32cdf5292cd']"
      ]
     },
     "execution_count": 7,
     "metadata": {},
     "output_type": "execute_result"
    }
   ],
   "source": [
    "word_loader = Docx2txtLoader(\"Paestum/Paestum-Britannica.docx\")\n",
    "word_chunks = text_splitter.split_documents(word_loader.load())\n",
    "vector_db.add_documents(word_chunks)"
   ]
  },
  {
   "cell_type": "code",
   "execution_count": 8,
   "id": "b2cc85a1-48d4-4514-b4cb-9cceb3b8c2cb",
   "metadata": {},
   "outputs": [
    {
     "data": {
      "text/plain": [
       "['b22a612f-0a2f-4fb1-9d96-e48124bb9bf1',\n",
       " '7d132a4f-7340-4782-bc58-e2189575c756',\n",
       " 'd5b2d5ff-03ae-4622-981e-c66ef479870e',\n",
       " '1b65173d-e40b-40fc-b0fb-8c892d8b9d60',\n",
       " 'a02a33f4-1f48-489d-ad0b-0aae9aedbe60',\n",
       " '96be5ac6-51f5-46b1-898d-b3c880f6cff1',\n",
       " '9859db94-3760-4229-ab75-a0680186bc7a',\n",
       " '0af21bac-dddf-42d2-92ef-740fd9543199',\n",
       " 'ee6ed0a1-5a77-4771-9b5b-19a74eb65d05',\n",
       " '9a561092-41bc-4cda-84de-a67f01033295',\n",
       " '2bf8a19f-05f3-4fda-9e1e-592aea960340',\n",
       " '60afb592-02a3-4fd3-bda2-7f0b2f72f370',\n",
       " '23d7aac9-b293-4449-9e75-bda753778ed4',\n",
       " '2f8dcfa4-995b-4911-bb53-afcd0d28f75f',\n",
       " '6d434e90-485f-4aed-9a82-46d6849972c0',\n",
       " 'a3f62aef-e0f2-479c-a65b-c4f5e567801e',\n",
       " '129d0092-c183-41ca-98d0-49b2ab9d6cfc',\n",
       " '78a53a16-c79f-449d-b280-be09b0c66d0e',\n",
       " '28b96bce-4528-4ea6-b55e-ede827609c13',\n",
       " '274c43af-ace7-40e0-9782-cd5eb9bd2d93',\n",
       " '894a0df3-928c-44e6-9c1b-db575e47ef96',\n",
       " 'e5318aa6-011b-4e6f-ad42-b1a5fe7fbc15',\n",
       " '3c414f1c-da5c-48d9-97ba-d81ee6ad27cb',\n",
       " '8d8beae3-99a6-4944-a8f8-bc75e3c3e662']"
      ]
     },
     "execution_count": 8,
     "metadata": {},
     "output_type": "execute_result"
    }
   ],
   "source": [
    "pdf_loader = PyPDFLoader(\"Paestum/PaestumRevisited.pdf\")\n",
    "pdf_chunks = text_splitter.split_documents(pdf_loader.load())\n",
    "vector_db.add_documents(pdf_chunks)"
   ]
  },
  {
   "cell_type": "code",
   "execution_count": 9,
   "id": "3dc54fb3-4af8-434c-90f0-3a694a4bb7ce",
   "metadata": {},
   "outputs": [
    {
     "data": {
      "text/plain": [
       "['1675c3bf-9684-4d24-b43e-39a28248f7a6']"
      ]
     },
     "execution_count": 9,
     "metadata": {},
     "output_type": "execute_result"
    }
   ],
   "source": [
    "txt_loader = TextLoader(\"Paestum/Paestum-Encyclopedia.txt\")\n",
    "txt_chunks = text_splitter.split_documents(txt_loader.load())\n",
    "vector_db.add_documents(txt_chunks)"
   ]
  },
  {
   "cell_type": "markdown",
   "id": "1631170d-373f-4498-ad80-144d8ee9c784",
   "metadata": {},
   "source": [
    "## Querying the vector store directly"
   ]
  },
  {
   "cell_type": "code",
   "execution_count": 10,
   "id": "af87991d-bbbb-47d2-87d0-365aca4d4b3a",
   "metadata": {},
   "outputs": [
    {
     "name": "stdout",
     "output_type": "stream",
     "text": [
      "[Document(metadata={'source': 'Paestum/Paestum-Britannica.docx'}, page_content='Paestum, Greek\\xa0Poseidonia, ancient city in southern\\xa0Italy\\xa0near the west coast, 22 miles (35 km) southeast of modern\\xa0Salerno\\xa0and 5 miles (8 km) south of the Sele (ancient Silarus) River. Paestum is noted for its splendidly preserved Greek temples.\\n\\n\\n\\n\\n\\nVisit the ruins of the ancient Greek colony of Paestum and discover its history, culture, and society\\n\\nSee all videos for this article'), Document(metadata={'source': 'Paestum/Paestum-Britannica.docx'}, page_content='Paestum, Greek\\xa0Poseidonia, ancient city in southern\\xa0Italy\\xa0near the west coast, 22 miles (35 km) southeast of modern\\xa0Salerno\\xa0and 5 miles (8 km) south of the Sele (ancient Silarus) River. Paestum is noted for its splendidly preserved Greek temples.\\n\\n\\n\\n\\n\\nVisit the ruins of the ancient Greek colony of Paestum and discover its history, culture, and society\\n\\nSee all videos for this article'), Document(metadata={'source': 'https://en.wikipedia.org/wiki/Paestum', 'summary': 'Paestum ( PEST-əm, US also  PEE-stəm, Latin: [ˈpae̯stũː]) was a major ancient Greek city on the coast of the Tyrrhenian Sea, in Magna Graecia. The ruins of Paestum are famous for their three ancient Greek temples in the Doric order dating from about 550 to 450 BC that are in an excellent state of preservation. The city walls and amphitheatre are largely intact, and the bottom of the walls of many other structures remain, as well as paved roads. The site is open to the public, and there is a modern national museum within it, which also contains the finds from the associated Greek site of Foce del Sele.\\nPaestum was established around 600 BC by settlers from Sybaris, a Greek colony in southern Italy, under the name of Poseidonia (Ancient Greek: Ποσειδωνία). The city thrived as a Greek settlement for about two centuries, witnessing the development of democracy. In 400 BC, the Lucanians seized the city. Romans took over in 273 BC, renaming it Paestum and establishing a Latin colony. Later, its decline ensued from shifts in trade routes and the onset of flooding and marsh formation. As Pesto or Paestum, the town became a bishopric (now only titular), but it was abandoned in the Early Middle Ages, and left undisturbed and largely forgotten until the eighteenth century.\\nToday the remains of the city are found in the modern frazione of Paestum, which is part of the comune of Capaccio Paestum in the Province of Salerno in the region of Campania, Italy. The modern settlement, directly to the south of the archaeological site, is a popular seaside resort with long sandy beaches. The Paestum railway station on the Naples-Salerno-Reggio Calabria railway line is directly to the east of the ancient city walls.', 'title': 'Paestum'}, page_content='Paestum was established around 600 BC by settlers from Sybaris, a Greek colony in southern Italy, under the name of Poseidonia (Ancient Greek: Ποσειδωνία). The city thrived as a Greek settlement for about two centuries, witnessing the development of democracy. In 400 BC, the Lucanians seized the city. Romans took over in 273 BC, renaming it Paestum and establishing a Latin colony. Later, its decline ensued from shifts in trade routes and the onset of flooding and marsh formation. As Pesto or'), Document(metadata={'source': 'Paestum/Paestum-Britannica.docx'}, page_content='Poseidonia was probably founded about 600\\xa0BC\\xa0by Greek colonists from\\xa0Sybaris, along the\\xa0Gulf of Taranto, and it had become a flourishing town by 540, judging from its temples. After many years’ resistance the city came under the domination of the\\xa0Lucanians\\xa0(an\\xa0indigenous\\xa0Italic people) sometime before 400\\xa0BC, after which its name was changed to Paestum. Alexander, the king of Epirus, defeated the Lucanians at Paestum about 332\\xa0BC, but the city remained Lucanian until 273, when it came under')]\n"
     ]
    }
   ],
   "source": [
    "query = \"Where was Poseidonia and who renamed it to Paestum\" \n",
    "results = vector_db.similarity_search(query, 4) # four clostest results\n",
    "print(results)"
   ]
  },
  {
   "cell_type": "code",
   "execution_count": 11,
   "id": "dadf5ded-1f72-4e96-ad7c-b995e44dfecd",
   "metadata": {},
   "outputs": [
    {
     "data": {
      "text/plain": [
       "4"
      ]
     },
     "execution_count": 11,
     "metadata": {},
     "output_type": "execute_result"
    }
   ],
   "source": [
    "len(results)"
   ]
  },
  {
   "cell_type": "markdown",
   "id": "6dc0c334-66e4-4bb3-b0ab-1c32a03dd05b",
   "metadata": {},
   "source": [
    "## Asking a question through a RAG chain"
   ]
  },
  {
   "cell_type": "code",
   "execution_count": 12,
   "id": "9f6ad4a5-b79d-428f-9367-7a9f1a56d2ee",
   "metadata": {},
   "outputs": [
    {
     "name": "stdin",
     "output_type": "stream",
     "text": [
      "Enter your OPENAI_API_KEY ········\n"
     ]
    }
   ],
   "source": [
    "from openai import OpenAI\n",
    "import getpass\n",
    "\n",
    "OPENAI_API_KEY = getpass.getpass('Enter your OPENAI_API_KEY')"
   ]
  },
  {
   "cell_type": "code",
   "execution_count": 13,
   "id": "82221dc4-7627-403a-bcdb-cb987ba41184",
   "metadata": {},
   "outputs": [],
   "source": [
    "from langchain.prompts import PromptTemplate\n",
    "\n",
    "rag_prompt_template = \"\"\"Use the following pieces of context to answer the question at the end. \n",
    "If you don't know the answer, just say that you don't know, don't try to make up an answer.\n",
    "Use three sentences maximum and keep the answer as concise as possible.\n",
    "{context}\n",
    "Question: {question}\n",
    "Helpful Answer:\"\"\"\n",
    "\n",
    "rag_prompt = PromptTemplate.from_template(rag_prompt_template)"
   ]
  },
  {
   "cell_type": "code",
   "execution_count": 14,
   "id": "e752e194-142a-45ad-8f2f-171487b3eb5b",
   "metadata": {},
   "outputs": [],
   "source": [
    "retriever = vector_db.as_retriever()"
   ]
  },
  {
   "cell_type": "code",
   "execution_count": 15,
   "id": "6f34248c-baea-4146-bfd4-e6fb193e6dbb",
   "metadata": {},
   "outputs": [],
   "source": [
    "from langchain.schema.runnable import RunnablePassthrough\n",
    "question_feeder = RunnablePassthrough()"
   ]
  },
  {
   "cell_type": "code",
   "execution_count": 16,
   "id": "7eb75492-8913-42e5-b707-aad2592d8fa5",
   "metadata": {},
   "outputs": [],
   "source": [
    "from langchain_openai import ChatOpenAI\n",
    "\n",
    "chatbot = ChatOpenAI(openai_api_key=OPENAI_API_KEY, model_name=\"gpt-3.5-turbo\")"
   ]
  },
  {
   "cell_type": "code",
   "execution_count": 17,
   "id": "df278726-e951-4b8c-8eb9-873992427e47",
   "metadata": {},
   "outputs": [],
   "source": [
    "# set up RAG chain\n",
    "\n",
    "rag_chain = {\"context\": retriever, \"question\": question_feeder} | rag_prompt | chatbot"
   ]
  },
  {
   "cell_type": "code",
   "execution_count": 18,
   "id": "4bb68aff-1b72-4126-8e17-b501fcb2860a",
   "metadata": {},
   "outputs": [],
   "source": [
    "def execute_chain(chain, question):\n",
    "    answer = chain.invoke(question)\n",
    "    return answer"
   ]
  },
  {
   "cell_type": "code",
   "execution_count": 19,
   "id": "88321863-cdb1-41fc-aa14-bb9b5792338c",
   "metadata": {},
   "outputs": [
    {
     "name": "stdout",
     "output_type": "stream",
     "text": [
      "Poseidonia was located in southern Italy near the west coast, and it was renamed to Paestum by the Lucanians and later by the Romans. The source of this information is from the Britannica document on Paestum.\n"
     ]
    }
   ],
   "source": [
    "question = \"Where was Poseidonia and who renamed it to Paestum. Also tell me the source.\" \n",
    "answer = execute_chain(rag_chain, question)\n",
    "print(answer.content)"
   ]
  },
  {
   "cell_type": "code",
   "execution_count": 20,
   "id": "4541b4a5-2e9e-4a80-963f-1279fad916ac",
   "metadata": {},
   "outputs": [
    {
     "name": "stdout",
     "output_type": "stream",
     "text": [
      "content='Poseidonia was located in southern Italy near the west coast, and it was renamed to Paestum by the Lucanians and later by the Romans. The source of this information is from the Britannica document on Paestum.' response_metadata={'token_usage': {'completion_tokens': 48, 'prompt_tokens': 1034, 'total_tokens': 1082}, 'model_name': 'gpt-3.5-turbo-0125', 'system_fingerprint': None, 'finish_reason': 'stop', 'logprobs': None} id='run-65b443ee-b1b3-4156-b99e-91d393d9c0b9-0' usage_metadata={'input_tokens': 1034, 'output_tokens': 48, 'total_tokens': 1082}\n"
     ]
    }
   ],
   "source": [
    "print(answer)"
   ]
  },
  {
   "cell_type": "code",
   "execution_count": 21,
   "id": "53a5742a-62ae-442a-a30e-4380507489aa",
   "metadata": {},
   "outputs": [
    {
     "name": "stdout",
     "output_type": "stream",
     "text": [
      "The Lucanians overtook Poseidonia peacefully, which led to a supposed regression in culture, politics, and economy, according to Aristoxenos of Tarentum. This information can be found in the source \"PaestumRevisited.pdf.\"\n"
     ]
    }
   ],
   "source": [
    "question = \"What else did the Lucanians do in Paestum? Also tell me the source.\" \n",
    "answer = execute_chain(rag_chain, question)\n",
    "print(answer.content)"
   ]
  },
  {
   "cell_type": "markdown",
   "id": "bf71e1b7-7a7a-4dcf-8cad-43fa43fcf09d",
   "metadata": {},
   "source": [
    "## Tracing with LangSmith"
   ]
  },
  {
   "cell_type": "code",
   "execution_count": 172,
   "id": "0e817ec3-6e94-4a82-b1a7-8ab641a48080",
   "metadata": {},
   "outputs": [],
   "source": [
    "from langsmith import trace\n",
    "from langsmith import Client, traceable"
   ]
  },
  {
   "cell_type": "code",
   "execution_count": 173,
   "id": "f567cd13-d121-49b2-a36a-3896ba8a67e6",
   "metadata": {},
   "outputs": [
    {
     "name": "stdin",
     "output_type": "stream",
     "text": [
      "Enter your LANGSMITH_API_KEY ········\n"
     ]
    }
   ],
   "source": [
    "LANGSMITH_API_KEY= getpass.getpass('Enter your LANGSMITH_API_KEY')"
   ]
  },
  {
   "cell_type": "code",
   "execution_count": 175,
   "id": "4bc737dc-2d4c-402c-b7e8-af8df0c47fd1",
   "metadata": {},
   "outputs": [],
   "source": [
    "langsmith_client = Client(\n",
    "    api_key=LANGSMITH_API_KEY,\n",
    "    api_url=\"https://api.smith.langchain.com\",  \n",
    ")"
   ]
  },
  {
   "cell_type": "code",
   "execution_count": 190,
   "id": "68788575-4418-4943-8efc-9629f69e85bc",
   "metadata": {},
   "outputs": [
    {
     "name": "stdout",
     "output_type": "stream",
     "text": [
      "content='Poseidonia, later renamed Paestum, was an ancient Greek city located in southern Italy near the coast of the Tyrrhenian Sea. The city was renamed to Paestum by the Romans after they took over in 273 BC. The information is from the source: https://en.wikipedia.org/wiki/Paestum.' response_metadata={'token_usage': {'completion_tokens': 68, 'prompt_tokens': 1490, 'total_tokens': 1558}, 'model_name': 'gpt-3.5-turbo-0125', 'system_fingerprint': None, 'finish_reason': 'stop', 'logprobs': None} id='run-cba3219f-8a1e-413e-a895-fe63ff8a9e2a-0' usage_metadata={'input_tokens': 1490, 'output_tokens': 68, 'total_tokens': 1558}\n"
     ]
    }
   ],
   "source": [
    "question = \"Where was Poseidonia and who renamed it to Paestum. Also tell me the source.\" \n",
    "with trace(\"Chat Pipeline\", \"chain\", project_name=\"Q&A chatbot\", inputs={\"input\": question}, client=langsmith_client) as rt:\n",
    "    answer = execute_chain(rag_chain, question)\n",
    "    print(answer)\n",
    "    rt.end(outputs={\"output\": answer})"
   ]
  },
  {
   "cell_type": "markdown",
   "id": "ade41e33-062d-473f-963a-9d1bc96bb7bd",
   "metadata": {},
   "source": [
    "## Setting up Q&A chain with RetrievalQA"
   ]
  },
  {
   "cell_type": "code",
   "execution_count": 191,
   "id": "b22731bc-469e-4c62-9dc3-bed63a498bdd",
   "metadata": {},
   "outputs": [],
   "source": [
    "from langchain.chains import RetrievalQA\n",
    "rag_chain = RetrievalQA.from_chain_type(llm=chatbot, chain_type=\"stuff\", retriever=retriever, return_source_documents=False)"
   ]
  },
  {
   "cell_type": "code",
   "execution_count": 194,
   "id": "8b7ab2fe-e21c-412f-a35b-177b58d452ae",
   "metadata": {},
   "outputs": [
    {
     "name": "stdout",
     "output_type": "stream",
     "text": [
      "{'query': 'Where was Poseidonia and who renamed it to Paestum. Also tell me the source.', 'result': 'Poseidonia was an ancient city in southern Italy, near the west coast. It was eventually conquered by the local Lucanians who renamed it to Paistos. The Romans later gave the city its current name, Paestum. The source for this information is the article on Paestum by the Editors of Encyclopaedia Britannica.'}\n"
     ]
    }
   ],
   "source": [
    "question = \"Where was Poseidonia and who renamed it to Paestum. Also tell me the source.\" \n",
    "with trace(\"RetrievalQA\", \"chain\", project_name=\"Q&A chatbot\", inputs={\"input\": question}, client=langsmith_client) as rt:\n",
    "    answer = execute_chain(rag_chain, question)\n",
    "    print(answer)\n",
    "    rt.end(outputs={\"output\": answer})"
   ]
  }
 ],
 "metadata": {
  "kernelspec": {
   "display_name": "Python 3 (ipykernel)",
   "language": "python",
   "name": "python3"
  },
  "language_info": {
   "codemirror_mode": {
    "name": "ipython",
    "version": 3
   },
   "file_extension": ".py",
   "mimetype": "text/x-python",
   "name": "python",
   "nbconvert_exporter": "python",
   "pygments_lexer": "ipython3",
   "version": "3.11.9"
  }
 },
 "nbformat": 4,
 "nbformat_minor": 5
}
