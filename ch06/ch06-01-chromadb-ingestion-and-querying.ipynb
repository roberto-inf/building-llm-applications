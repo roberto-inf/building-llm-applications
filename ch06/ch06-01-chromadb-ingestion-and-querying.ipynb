{
 "cells": [
  {
   "cell_type": "markdown",
   "id": "605ff8a9-2d0c-4052-9880-afc6befa4505",
   "metadata": {},
   "source": [
    "# Chroma DB ingestion and Q&A"
   ]
  },
  {
   "cell_type": "markdown",
   "id": "752e078e-5648-448b-a1e9-b1b91290e5c7",
   "metadata": {},
   "source": [
    "## Ingestion"
   ]
  },
  {
   "cell_type": "code",
   "execution_count": 1,
   "id": "498310ee-3b5d-415f-93e5-e5892485a498",
   "metadata": {},
   "outputs": [],
   "source": [
    "import chromadb\n",
    "chroma_client = chromadb.Client()"
   ]
  },
  {
   "cell_type": "code",
   "execution_count": 2,
   "id": "7f3f3e37-8323-4488-9129-eb144767ecda",
   "metadata": {},
   "outputs": [],
   "source": [
    "tourism_collection = chroma_client.create_collection(name=\"tourism_collection\")"
   ]
  },
  {
   "cell_type": "code",
   "execution_count": 3,
   "id": "a9f88681-bd9d-4ca7-a425-3013d18dec77",
   "metadata": {},
   "outputs": [],
   "source": [
    "tourism_collection.add(\n",
    "    documents=[\n",
    "        \"Paestum, Greek Poseidonia, ancient city in southern Italy near the west coast, 22 miles (35 km) southeast of modern Salerno and 5 miles (8 km) south of the Sele (ancient Silarus) River. Paestum is noted for its splendidly preserved Greek temples.\", \n",
    "        \"Poseidonia was probably founded about 600 BC by Greek colonists from Sybaris, along the Gulf of Taranto, and it had become a flourishing town by 540, judging from its temples. After many years’ resistance the city came under the domination of the Lucanians (an indigenous Italic people) sometime before 400 BC, after which its name was changed to Paestum. Alexander, the king of Epirus, defeated the Lucanians at Paestum about 332 BC, but the city remained Lucanian until 273, when it came under Roman rule and a Latin colony was founded there. The city supported Rome during the Second Punic War. The locality was still prosperous during the early years of the Roman Empire, but the gradual silting up of the mouth of the Silarus River eventually created a malarial swamp, and Paestum was finally deserted after being sacked by Muslim raiders in AD 871. The abandoned site’s remains were rediscovered in the 18th century.\",\n",
    "        \"The ancient Greek part of Paestum consists of two sacred areas containing three Doric temples in a remarkable state of preservation. During the ensuing Roman period a typical forum and town layout grew up between the two ancient Greek sanctuaries. Of the three temples, the Temple of Athena (the so-called Temple of Ceres) and the Temple of Hera I (the so-called Basilica) date from the 6th century BC, while the Temple of Hera II (the so-called Temple of Neptune) was probably built about 460 BC and is the best preserved of the three. The Temple of Peace in the forum is a Corinthian-Doric building begun perhaps in the 2nd century BC. Traces of a Roman amphitheatre and other buildings, as well as intersecting main streets, have also been found. The circuit of the town walls, which are built of travertine blocks and are 15–20 feet (5–6 m) thick, is about 3 miles (5 km) in circumference. In July 1969 a farmer uncovered an ancient Lucanian tomb that contained Greek frescoes painted in the early classical style. Paestum’s archaeological museum contains these and other treasures from the site.\"\n",
    "    ],\n",
    "    metadatas=[\n",
    "        {\"source\": \"https://www.britannica.com/place/Paestum\"}, \n",
    "        {\"source\": \"https://www.britannica.com/place/Paestum\"},\n",
    "        {\"source\": \"https://www.britannica.com/place/Paestum\"}\n",
    "    ],\n",
    "    ids=[\"paestum-br-01\", \"paestum-br-02\", \"paestum-br-03\"]\n",
    ")"
   ]
  },
  {
   "cell_type": "markdown",
   "id": "f98bfca7-32b7-46e8-b62c-8c0ae964ba9a",
   "metadata": {},
   "source": [
    "## Q&A"
   ]
  },
  {
   "cell_type": "code",
   "execution_count": 4,
   "id": "74eefdce-708f-455b-b4c0-56b8366c215a",
   "metadata": {},
   "outputs": [
    {
     "name": "stdout",
     "output_type": "stream",
     "text": [
      "{'ids': [['paestum-br-03']], 'distances': [[0.7664762139320374]], 'metadatas': [[{'source': 'https://www.britannica.com/place/Paestum'}]], 'embeddings': None, 'documents': [['The ancient Greek part of Paestum consists of two sacred areas containing three Doric temples in a remarkable state of preservation. During the ensuing Roman period a typical forum and town layout grew up between the two ancient Greek sanctuaries. Of the three temples, the Temple of Athena (the so-called Temple of Ceres) and the Temple of Hera I (the so-called Basilica) date from the 6th century BC, while the Temple of Hera II (the so-called Temple of Neptune) was probably built about 460 BC and is the best preserved of the three. The Temple of Peace in the forum is a Corinthian-Doric building begun perhaps in the 2nd century BC. Traces of a Roman amphitheatre and other buildings, as well as intersecting main streets, have also been found. The circuit of the town walls, which are built of travertine blocks and are 15–20 feet (5–6 m) thick, is about 3 miles (5 km) in circumference. In July 1969 a farmer uncovered an ancient Lucanian tomb that contained Greek frescoes painted in the early classical style. Paestum’s archaeological museum contains these and other treasures from the site.']], 'uris': None, 'data': None, 'included': ['metadatas', 'documents', 'distances']}\n"
     ]
    }
   ],
   "source": [
    "results = tourism_collection.query(\n",
    "    query_texts=[\"How many Doric temples are in Paestum\"],\n",
    "    n_results=1\n",
    ")\n",
    "print(results)"
   ]
  },
  {
   "cell_type": "code",
   "execution_count": 6,
   "id": "76863da3-8ed7-4482-bdd0-8a8e43f49ae9",
   "metadata": {},
   "outputs": [
    {
     "name": "stdout",
     "output_type": "stream",
     "text": [
      "{'ids': [['paestum-br-03', 'paestum-br-01', 'paestum-br-02']], 'distances': [[0.7664762139320374, 0.8946815729141235, 1.336229681968689]], 'metadatas': [[{'source': 'https://www.britannica.com/place/Paestum'}, {'source': 'https://www.britannica.com/place/Paestum'}, {'source': 'https://www.britannica.com/place/Paestum'}]], 'embeddings': None, 'documents': [['The ancient Greek part of Paestum consists of two sacred areas containing three Doric temples in a remarkable state of preservation. During the ensuing Roman period a typical forum and town layout grew up between the two ancient Greek sanctuaries. Of the three temples, the Temple of Athena (the so-called Temple of Ceres) and the Temple of Hera I (the so-called Basilica) date from the 6th century BC, while the Temple of Hera II (the so-called Temple of Neptune) was probably built about 460 BC and is the best preserved of the three. The Temple of Peace in the forum is a Corinthian-Doric building begun perhaps in the 2nd century BC. Traces of a Roman amphitheatre and other buildings, as well as intersecting main streets, have also been found. The circuit of the town walls, which are built of travertine blocks and are 15–20 feet (5–6 m) thick, is about 3 miles (5 km) in circumference. In July 1969 a farmer uncovered an ancient Lucanian tomb that contained Greek frescoes painted in the early classical style. Paestum’s archaeological museum contains these and other treasures from the site.', 'Paestum, Greek Poseidonia, ancient city in southern Italy near the west coast, 22 miles (35 km) southeast of modern Salerno and 5 miles (8 km) south of the Sele (ancient Silarus) River. Paestum is noted for its splendidly preserved Greek temples.', 'Poseidonia was probably founded about 600 BC by Greek colonists from Sybaris, along the Gulf of Taranto, and it had become a flourishing town by 540, judging from its temples. After many years’ resistance the city came under the domination of the Lucanians (an indigenous Italic people) sometime before 400 BC, after which its name was changed to Paestum. Alexander, the king of Epirus, defeated the Lucanians at Paestum about 332 BC, but the city remained Lucanian until 273, when it came under Roman rule and a Latin colony was founded there. The city supported Rome during the Second Punic War. The locality was still prosperous during the early years of the Roman Empire, but the gradual silting up of the mouth of the Silarus River eventually created a malarial swamp, and Paestum was finally deserted after being sacked by Muslim raiders in AD 871. The abandoned site’s remains were rediscovered in the 18th century.']], 'uris': None, 'data': None, 'included': ['metadatas', 'documents', 'distances']}\n"
     ]
    }
   ],
   "source": [
    "results = tourism_collection.query(\n",
    "    query_texts=[\"How many Doric temples are in Paestum\"],\n",
    "    n_results=3\n",
    ")\n",
    "print(results)"
   ]
  },
  {
   "cell_type": "code",
   "execution_count": 5,
   "id": "6f576a08-fac8-4c10-8b6f-202be2b8ae59",
   "metadata": {},
   "outputs": [
    {
     "name": "stdout",
     "output_type": "stream",
     "text": [
      "{'ids': [['paestum-br-03']], 'distances': [[0.7664762139320374]], 'metadatas': [[{'source': 'https://www.britannica.com/place/Paestum'}]], 'embeddings': None, 'documents': [['The ancient Greek part of Paestum consists of two sacred areas containing three Doric temples in a remarkable state of preservation. During the ensuing Roman period a typical forum and town layout grew up between the two ancient Greek sanctuaries. Of the three temples, the Temple of Athena (the so-called Temple of Ceres) and the Temple of Hera I (the so-called Basilica) date from the 6th century BC, while the Temple of Hera II (the so-called Temple of Neptune) was probably built about 460 BC and is the best preserved of the three. The Temple of Peace in the forum is a Corinthian-Doric building begun perhaps in the 2nd century BC. Traces of a Roman amphitheatre and other buildings, as well as intersecting main streets, have also been found. The circuit of the town walls, which are built of travertine blocks and are 15–20 feet (5–6 m) thick, is about 3 miles (5 km) in circumference. In July 1969 a farmer uncovered an ancient Lucanian tomb that contained Greek frescoes painted in the early classical style. Paestum’s archaeological museum contains these and other treasures from the site.']], 'uris': None, 'data': None, 'included': ['metadatas', 'documents', 'distances']}\n"
     ]
    }
   ],
   "source": [
    "results = tourism_collection.query(\n",
    "    query_texts=[\"How many Doric temples are in Paestum\"],\n",
    "    n_results=1\n",
    ")\n",
    "print(results)"
   ]
  },
  {
   "cell_type": "markdown",
   "id": "4f72bced-7931-444a-b6db-b9c1e1e63ef2",
   "metadata": {},
   "source": [
    "# RAG from scratch"
   ]
  },
  {
   "cell_type": "code",
   "execution_count": 10,
   "id": "22758985-bc48-4c97-b44e-c0b1640c7ffe",
   "metadata": {},
   "outputs": [
    {
     "name": "stdin",
     "output_type": "stream",
     "text": [
      "Enter your OPENAI_API_KEY ········\n"
     ]
    }
   ],
   "source": [
    "from openai import OpenAI\n",
    "import getpass\n",
    "\n",
    "OPENAI_API_KEY = getpass.getpass('Enter your OPENAI_API_KEY')"
   ]
  },
  {
   "cell_type": "code",
   "execution_count": 11,
   "id": "03f4b70d-f027-4955-95b9-f2b70056f59b",
   "metadata": {},
   "outputs": [],
   "source": [
    "openai_client = OpenAI(api_key=OPENAI_API_KEY)"
   ]
  },
  {
   "cell_type": "code",
   "execution_count": 12,
   "id": "21e05da0-fc5b-412e-9117-f648ae825adf",
   "metadata": {},
   "outputs": [],
   "source": [
    "def query_vector_database(question):\n",
    "    results = tourism_collection.query(\n",
    "    query_texts=[question],\n",
    "    n_results=1)\n",
    "\n",
    "    results_text = results['documents'][0][0]\n",
    "\n",
    "    return results_text"
   ]
  },
  {
   "cell_type": "markdown",
   "id": "7777c223-1885-45f6-adf5-bbb2bfe1f8fa",
   "metadata": {},
   "source": [
    "## Naive prompt implementation"
   ]
  },
  {
   "cell_type": "code",
   "execution_count": 13,
   "id": "bf760393-0274-4f6e-b173-a2ab5cd15403",
   "metadata": {},
   "outputs": [],
   "source": [
    "def prompt_template(question, text):\n",
    "    return f'Read the following text and answer this question: {question}. \\nText: {text}'"
   ]
  },
  {
   "cell_type": "code",
   "execution_count": 18,
   "id": "ded9c98d-00ad-421c-b5a0-334c0308c7cd",
   "metadata": {},
   "outputs": [],
   "source": [
    "def execute_llm_prompt(prompt_input):\n",
    "    prompt_response = openai_client.chat.completions.create(\n",
    "        model='gpt-4o-mini',\n",
    "        messages=[\n",
    "         {\"role\": \"system\", \"content\": \"You are an assistant for question-answering tasks.\"},\n",
    "         {\"role\": \"user\", \"content\": prompt_input}\n",
    "        ],\n",
    "        temperature=0.7)\n",
    "    return prompt_response"
   ]
  },
  {
   "cell_type": "markdown",
   "id": "0ed49d75-2947-4863-b5a6-61a7206c4ec5",
   "metadata": {},
   "source": [
    "### Trick question"
   ]
  },
  {
   "cell_type": "code",
   "execution_count": 19,
   "id": "403fe62c-9208-420a-a42c-9a8e1f78c877",
   "metadata": {},
   "outputs": [
    {
     "name": "stdout",
     "output_type": "stream",
     "text": [
      "ChatCompletion(id='chatcmpl-9nCGTTSUBJUmAOZWVIGbF8OE7nLF5', choices=[Choice(finish_reason='stop', index=0, logprobs=None, message=ChatCompletionMessage(content=\"The text does not specify the number of columns for each of the three temples. Therefore, it's impossible to determine the total number of columns based solely on the provided information. Additional sources would be needed to find the exact number of columns for each temple.\", role='assistant', function_call=None, tool_calls=None))], created=1721512245, model='gpt-4o-mini-2024-07-18', object='chat.completion', service_tier=None, system_fingerprint='fp_661538dc1f', usage=CompletionUsage(completion_tokens=50, prompt_tokens=291, total_tokens=341))\n"
     ]
    }
   ],
   "source": [
    "trick_question = \"How many columns have the three temples got in total?\"\n",
    "tq_result_text = query_vector_database(trick_question)\n",
    "tq_prompt = prompt_template(trick_question , tq_result_text)\n",
    "tq_prompt_response = execute_llm_prompt(tq_prompt)\n",
    "print(tq_prompt_response)"
   ]
  },
  {
   "cell_type": "markdown",
   "id": "8278c892-f266-40fd-a3eb-ee8506a17289",
   "metadata": {},
   "source": [
    "## Safer prompt implementation"
   ]
  },
  {
   "cell_type": "code",
   "execution_count": 20,
   "id": "aedbb5f6-ff01-4ebc-bff8-7a985d463bae",
   "metadata": {},
   "outputs": [],
   "source": [
    "def prompt_template(question, text):\n",
    "    return f'Use the following pieces of retrieved context to answer the question. Only use the retrieved context to answer the question. If you don\\'t know the answer, or the answer is not contained in the retrieved context, just say that you don\\'t know. Use three sentences maximum and keep the answer concise. \\nQuestion: {question}\\nContext: {text}. Remember: if you do not know, just say: I do not know. Do not make up an answer. For example do not say the three temples have got a total of three columns. \\nAnswer:'"
   ]
  },
  {
   "cell_type": "markdown",
   "id": "47148577-3080-401f-b177-c630f85df9d1",
   "metadata": {},
   "source": [
    "### Trick question"
   ]
  },
  {
   "cell_type": "code",
   "execution_count": 21,
   "id": "5ed8ac29-af0c-43fb-9425-a11970e835ef",
   "metadata": {},
   "outputs": [
    {
     "name": "stdout",
     "output_type": "stream",
     "text": [
      "ChatCompletion(id='chatcmpl-9nCco9P3xSdArsptotrmJEjtd2N5D', choices=[Choice(finish_reason='stop', index=0, logprobs=None, message=ChatCompletionMessage(content='I do not know.', role='assistant', function_call=None, tool_calls=None))], created=1721513630, model='gpt-4o-mini-2024-07-18', object='chat.completion', service_tier=None, system_fingerprint='fp_8b761cb050', usage=CompletionUsage(completion_tokens=5, prompt_tokens=383, total_tokens=388))\n"
     ]
    }
   ],
   "source": [
    "trick_question = \"How many columns have the three temples got in total?\"\n",
    "tq_result_text = query_vector_database(trick_question)\n",
    "tq_prompt = prompt_template(trick_question , tq_result_text)\n",
    "tq_prompt_response = execute_llm_prompt(tq_prompt)\n",
    "print(tq_prompt_response)"
   ]
  },
  {
   "cell_type": "markdown",
   "id": "6f1ae137-7b7a-47a9-90fc-ff2ae754cb0e",
   "metadata": {},
   "source": [
    "## Building a chatbot"
   ]
  },
  {
   "cell_type": "code",
   "execution_count": 22,
   "id": "e822edf8-9980-4ad0-8e14-e4674eaf4636",
   "metadata": {},
   "outputs": [],
   "source": [
    "def my_chatbot(question):\n",
    "\n",
    "    #retrieve content from vector store\n",
    "    results_text = query_vector_database(question)\n",
    "\n",
    "    #create LLM prompt\n",
    "    prompt_input = prompt_template(question, results_text)\n",
    "\n",
    "    #execute LLM prompt\n",
    "    prompt_output = execute_llm_prompt(prompt_input)\n",
    "\n",
    "    return prompt_output"
   ]
  },
  {
   "cell_type": "code",
   "execution_count": 26,
   "id": "539d1f14-2bfd-4abb-a3e2-decb5d6ed77c",
   "metadata": {},
   "outputs": [
    {
     "name": "stdout",
     "output_type": "stream",
     "text": [
      "ChatCompletion(id='chatcmpl-9nCopizP4XgxdWVQoGxMIxMvk6cFa', choices=[Choice(finish_reason='stop', index=0, logprobs=None, message=ChatCompletionMessage(content='There are three Doric temples in Paestum. They were constructed by the ancient Greeks during the 6th century BC and the mid-5th century BC. The architectural style of these temples is Doric.', role='assistant', function_call=None, tool_calls=None))], created=1721514375, model='gpt-4o-mini-2024-07-18', object='chat.completion', service_tier=None, system_fingerprint='fp_611b667b19', usage=CompletionUsage(completion_tokens=44, prompt_tokens=396, total_tokens=440))\n"
     ]
    }
   ],
   "source": [
    "question = \"Let me know how many temples there are in Paestum, who constructed them, and what architectural style they are\"\n",
    "result = my_chatbot(question)\n",
    "print(result)"
   ]
  }
 ],
 "metadata": {
  "kernelspec": {
   "display_name": "Python 3 (ipykernel)",
   "language": "python",
   "name": "python3"
  },
  "language_info": {
   "codemirror_mode": {
    "name": "ipython",
    "version": 3
   },
   "file_extension": ".py",
   "mimetype": "text/x-python",
   "name": "python",
   "nbconvert_exporter": "python",
   "pygments_lexer": "ipython3",
   "version": "3.11.9"
  }
 },
 "nbformat": 4,
 "nbformat_minor": 5
}
