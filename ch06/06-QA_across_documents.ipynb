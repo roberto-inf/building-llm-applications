{
 "cells": [
  {
   "cell_type": "markdown",
   "id": "c4511fcd-456f-4612-91cf-40efb9592858",
   "metadata": {},
   "source": [
    "# Q&A across documents with LangChain and LangSmith"
   ]
  },
  {
   "cell_type": "code",
   "execution_count": 1,
   "id": "df920cd9-31be-4bf6-916d-25083625d8f7",
   "metadata": {},
   "outputs": [],
   "source": [
    "from langchain_community.document_loaders import WikipediaLoader, Docx2txtLoader, PyPDFLoader, TextLoader\n",
    "\n",
    "from langchain_chroma import Chroma\n",
    "from langchain_text_splitters import RecursiveCharacterTextSplitter\n",
    "from langchain_openai import OpenAIEmbeddings"
   ]
  },
  {
   "cell_type": "code",
   "execution_count": 2,
   "id": "85b14068-78d4-47ae-8fce-a95d9055120b",
   "metadata": {},
   "outputs": [
    {
     "name": "stdin",
     "output_type": "stream",
     "text": [
      "Enter your OPENAI_API_KEY ········\n"
     ]
    }
   ],
   "source": [
    "import getpass\n",
    "OPENAI_API_KEY = getpass.getpass('Enter your OPENAI_API_KEY')"
   ]
  },
  {
   "cell_type": "markdown",
   "id": "cd2b5787-105a-44a9-90a9-fdb3e026aa7d",
   "metadata": {},
   "source": [
    "## Setting up vector database and embeddings"
   ]
  },
  {
   "cell_type": "code",
   "execution_count": 3,
   "id": "33f0e3ba-c17f-454f-b62f-a1311438e316",
   "metadata": {},
   "outputs": [],
   "source": [
    "text_splitter = RecursiveCharacterTextSplitter(chunk_size=500, chunk_overlap=0)\n",
    "embeddings_model = OpenAIEmbeddings(openai_api_key=OPENAI_API_KEY)\n",
    "vector_db = Chroma(\"tourist_info\", embeddings_model)"
   ]
  },
  {
   "cell_type": "code",
   "execution_count": 7,
   "id": "8e1eff7c-bdb9-44c5-96f6-ab3b50847f8a",
   "metadata": {},
   "outputs": [
    {
     "data": {
      "text/plain": [
       "['7b9db95e-0270-4906-8cfb-57a76893515f',\n",
       " '76f89450-de9c-4961-9d4f-0010186b5f88',\n",
       " '9a196671-5550-42b6-bffb-3c02fdf53bfb',\n",
       " '50897be2-3734-49a7-a31c-686d21401e44',\n",
       " '555f9e17-d98c-4b21-8483-6ff016aca31f',\n",
       " '029de7b0-296a-4d31-920b-e45fffbc7f22',\n",
       " '6c461680-38e6-467e-8ad6-f207848eee10',\n",
       " '00dc6fbf-7114-4954-a3b6-5e12457a323d',\n",
       " 'bb88337a-c13b-4546-a7bc-e965d59dbef5',\n",
       " '85487e67-5748-45ee-9f12-c484a23eb651',\n",
       " '4071afac-9571-4591-84c7-538fb0c714f7',\n",
       " 'ae9fbd0e-3fd4-4c9e-8cf3-239549d150da',\n",
       " '4e461c37-6488-4661-9be4-1a8451d0b663',\n",
       " '0bfab4b6-e994-4c2d-80e5-74da9f41f46b',\n",
       " 'ac961fbd-b936-4807-9b0e-625b7ed02637',\n",
       " 'ef611be7-e3c4-456d-a64b-05ae7b49f6fa',\n",
       " 'cae64156-855b-4fac-93ff-b4295b946ac8',\n",
       " 'c87ecd88-2c43-44fd-819a-ad4b84061df8',\n",
       " '94648883-cb8a-49b7-99ca-c6a1a911f91c',\n",
       " 'fcdd2b5c-0e87-40dd-882c-2ca04a893ddc',\n",
       " '4091ccdc-efac-49c8-b4ef-df5b9634e69d',\n",
       " '39b2e859-b9b5-46c4-af46-c22ebc63215f',\n",
       " '0f6a0f25-8a78-41d8-b81f-7e6b8e6fef55',\n",
       " 'd7145f8e-cbcd-4d3d-87fb-3b8d25a34af5',\n",
       " '01aa4a14-b087-4d5f-b89a-054e13f8ab42',\n",
       " '67e4f8ca-1347-48b8-83bf-77f4d8a82b5f',\n",
       " '2ef71f82-0f74-449f-b3d6-26648be46581',\n",
       " 'fe0b9bda-e9fd-4b8f-83cf-3d2d27b4d301',\n",
       " 'b07ed3ea-c757-4769-a1c3-45a924d9f484',\n",
       " '82a881ee-c7fc-4dc1-bc5b-e3c20983d6a6',\n",
       " '78e70726-ec48-4fd1-8981-65c2cba4c6d2',\n",
       " '98cd6fa7-dab1-4fa2-acfe-a549d25a9839',\n",
       " 'e3be675d-d211-434c-8296-294a82ed9e54',\n",
       " '1b94645d-2ee3-458e-b671-568cd8267080',\n",
       " 'fc3c62a9-16f1-4314-83aa-0c4a925d145e',\n",
       " '887a5ed5-e9e5-4d1b-950b-8ec4214efb7e',\n",
       " '279d6c4c-b430-4004-b86c-769a18e64c94',\n",
       " 'ef71f45a-4cca-4e9b-a1c3-e5ccc9fae755',\n",
       " '8e57bd36-c4c1-4b72-a467-aefbefb673b3',\n",
       " 'b42b99e2-5061-43ba-941b-d4a4edf5c7dc',\n",
       " '088283e6-6679-46e9-bf18-d6794322cedd',\n",
       " 'd8223884-d1b3-463f-a20d-ab48f0fcb37d',\n",
       " '45534843-7d33-45b8-a010-0bd80a43a77c',\n",
       " '837296d7-f932-47ec-b6d6-63aad723a3ad',\n",
       " '4d618157-d510-46db-b714-fcf6758e0415',\n",
       " 'f4e6924e-9282-4d8a-a7ea-c28a762f5386',\n",
       " 'a358971a-423c-4a25-8dd7-66fee1fc5fbc',\n",
       " '821677d2-48aa-45ef-b0f0-8cb76fcb8eec',\n",
       " 'cc6cae82-a9b0-4360-97fb-55fe876a7f98',\n",
       " 'd5e4c0b6-f511-4d10-96eb-0aae0e83b359',\n",
       " '587ff9d2-3822-45fe-aa94-331bdf5a4c39',\n",
       " '700b4b43-45e4-4282-9f47-8da87c895f0d',\n",
       " 'fba70174-f456-4dc9-aafd-06977e9d3a8b',\n",
       " 'bc2f9f1b-e839-46d7-90db-2c020036d5f1',\n",
       " 'dd37937e-78c7-4ca9-8a49-1e625c9116f0',\n",
       " 'f84ec845-20e0-4a2b-9860-e316b64448de',\n",
       " '9bbd3ed2-4f8d-4d7c-858e-1dbad74c26eb',\n",
       " '112c665a-e9af-45e7-a375-1724d98d57a9',\n",
       " '6a62b717-a767-4677-9e33-99fb0dd2883b',\n",
       " '19e3100f-54b9-45b6-92da-9a50a233d42a',\n",
       " '372a9956-d4fe-4712-8f47-3c047e4ae900',\n",
       " '350c31f0-b295-4c14-b580-ba4ed633d6e6',\n",
       " 'da18097b-3c4f-42a4-8df6-9950b15963b5',\n",
       " '70436860-922b-4640-9abb-b3319f5079d1',\n",
       " 'c4a0639f-faea-4b79-8325-e414a8df5df6',\n",
       " '8e643e02-24e6-4b27-b06d-8f879cc8f6d3',\n",
       " '0410f03a-691b-4e63-a184-6e3d4ad1864d',\n",
       " 'fdd0de98-2f09-4511-804e-acca9b8e5fb0',\n",
       " 'f96f1148-9f1b-47ec-914c-42ece03511ca',\n",
       " '750ec0f0-2b0f-4b19-af98-d4cd6818aedd',\n",
       " '3ee6045d-bc77-45eb-8c81-0a92a8d3db91',\n",
       " '4e11eedd-a4c6-453c-b0be-651d658c0f61',\n",
       " '89457309-28be-40d5-a25c-7b8bcb3123a3',\n",
       " '04f276a0-64eb-49dd-b53b-e0ead5101d6a',\n",
       " 'd71724c6-5ddb-48fc-b2e1-396dc25beafe',\n",
       " '27379b4e-08e9-4cf2-8ce3-2640547613d5',\n",
       " '00ed742f-9a0f-4e46-8d0b-d06b27444b96',\n",
       " 'a15aafd5-1123-4332-b542-3e26923bf109',\n",
       " '4920302e-9ea1-4a03-8559-77269679dbba',\n",
       " '173e4117-36d4-480d-997a-9e9789a09ff5',\n",
       " '617c711b-42be-4e76-945b-70bc2e1ba0a4',\n",
       " '7861f9a4-aa57-4fe7-810e-2e923217da5f',\n",
       " '7992b63f-8255-4218-a9d9-95f97561b2e7',\n",
       " '66bcd58b-03db-4bcf-8483-3e977b40809c',\n",
       " '5e76c6ad-c658-4ea2-a013-0299f7cfd8dd',\n",
       " '53eceb39-2471-4714-9390-d595cae235de',\n",
       " '0767f8a4-1d1b-4dcf-88e5-96f512bba657',\n",
       " 'a067e16b-7c03-4883-8b6a-b4b830bcc6b9',\n",
       " '8abc368a-e411-40ee-a070-03a73db0abac',\n",
       " '05b30b2c-6deb-42a1-a313-458d0290bd04',\n",
       " 'c3e6cc81-d5c6-4c1d-ac8f-af45aa2d567b',\n",
       " 'd073c3bc-77ef-4c4e-9f9c-11cb51ad9200',\n",
       " '54650a64-ff06-4843-ad27-db29bce6b04d',\n",
       " 'a72edb41-6c7b-4591-bb69-700e8b47dd26',\n",
       " '122451c4-e094-4617-be33-35e29de39aaf',\n",
       " '66f9f5aa-9b25-43a9-a23a-1a65024fce62',\n",
       " '1b44be56-cb1a-4f61-a252-25c59f9be9d7',\n",
       " '9a3dc8f9-f59e-431a-aed5-b5df239124af',\n",
       " '8e33500d-a6df-4d76-9020-72bd5155e582',\n",
       " '6474a168-5794-4439-b3ed-229632e1971b',\n",
       " 'eb032e38-6bcb-4ced-b073-06fa2d19bdc4',\n",
       " '0bd7260c-2e20-4a92-8451-94ef52c842b4',\n",
       " '4b29b490-cb27-473f-a9f5-4fe37f2271b9',\n",
       " 'a6da2a1d-e042-41a1-beb8-74ed83a79051',\n",
       " '10bd7ba8-4741-4176-b9c2-eb82d1520618',\n",
       " '743286c2-024b-4d82-92cf-465ddf236b36',\n",
       " '6f7ae5ce-1538-4bf5-bd56-44b419c42926',\n",
       " '973d0c24-3054-4693-a570-8b174cffd53f',\n",
       " '3cfb31ae-d4cc-4e4e-a2e5-a04c93b12d21',\n",
       " '8e7323a3-13ec-4875-8cbf-51d87d2c384a',\n",
       " 'ddd8c849-2065-4136-9ee9-0d6dbc728b39',\n",
       " '1391caeb-57f5-4d94-8bd8-741ee4f1e249',\n",
       " '0a9595d7-3ec0-44d9-8f14-fe3a802d9bb5',\n",
       " '7f06fa96-9f1b-4490-aa39-c9c3beed6829',\n",
       " 'f8c716b7-8efd-4441-8b2a-e5ba7c522a99',\n",
       " '2e2d04e4-d00d-447d-a463-e3697bfc9dd4',\n",
       " 'b0f95c79-6e35-4e57-a24f-edae63a78db6',\n",
       " '7f300c65-44c6-4c03-896a-78f1b4fdc9dd',\n",
       " 'd40bad25-219d-47f5-9b2c-eada3f5802e1',\n",
       " '2e40e659-c7a2-45d4-a399-491d07904a28',\n",
       " '69f8a403-d3b4-4db8-8c25-247d9457f2f8',\n",
       " 'bc39bd63-b8df-43b7-96f1-8778cc837043',\n",
       " '69870a17-e1d6-4fe6-83e4-d5b41852ce6e',\n",
       " '46dfd758-7913-487b-8227-766c8dc2ec53',\n",
       " '1c3f4b87-4f55-4014-b2f9-51f42b5ade83',\n",
       " '4330a304-ae60-447c-984a-b1cd8f0ee454',\n",
       " 'fa3a8ee4-97c5-4c0e-85ee-e18c2e0107d1',\n",
       " 'f7b98da0-1968-46ed-bb6f-11880c78f6da',\n",
       " '7bf63af7-2d63-41d7-bd1b-64c1e755f216',\n",
       " '00c01fc2-fb6c-4d45-af45-5388b79a77e5',\n",
       " '94fc47fa-01a0-4098-88ae-9f88ffc7660f',\n",
       " '8be405dc-fd6c-4eb8-ab5c-d9b526149308',\n",
       " 'dd20e4b5-1599-407f-a3d3-411019d47c89',\n",
       " 'f4046723-9e90-4a16-a824-7cce273ae828',\n",
       " '57f262eb-25b3-46be-a71c-afcfda160325',\n",
       " '1b918a08-bb33-4b55-83ae-25ad9c134035',\n",
       " '2ffda04c-c5e5-43aa-9ecd-921e2c626f16',\n",
       " 'a29bd69e-de6f-4203-bf7b-886088d4ee71',\n",
       " '89746a34-ca83-4778-b406-6a00440fb347',\n",
       " '351e5461-4110-4a9b-8de9-adcd1bdabfae',\n",
       " 'e0eb782c-67b2-42c1-893a-a69cff157513',\n",
       " '1b6fe692-5dcb-4f7c-bb9b-d6771fee5f76',\n",
       " 'c0e55c03-4308-4680-9667-ad9f25f1b19a',\n",
       " '1cf99d36-2ea4-4961-a950-377c303842aa',\n",
       " 'c683b1d9-c7de-45c7-8955-61cb05e872a3',\n",
       " 'ad8992cf-869a-4f0b-a311-8ec2b42071e3',\n",
       " '58fd848e-8744-4652-a5fa-23c7da87a03a',\n",
       " '5a2697d3-49f2-4426-9ab0-7221df183aa2',\n",
       " 'aa9d7906-606e-4f54-a231-4c264349d4da',\n",
       " 'a05aca22-5633-416c-9521-f54c6884e206',\n",
       " '7d0b24d3-4ea0-4de0-94d9-8274914a28bc',\n",
       " '18de9cbd-ad1f-4d29-9b38-66628eddd29a',\n",
       " '587a3f3c-f79c-4f46-8c82-0f5066cee0f2',\n",
       " '79c26353-ccb5-45dd-823b-bbe45945e7b6',\n",
       " 'e217815a-e9f3-410a-8564-e51106e2de23',\n",
       " '457ca666-41f9-408c-909c-a158dd7ec935',\n",
       " 'ba62a297-9560-4674-ba82-4c88a0660c30',\n",
       " '27e8b546-d65c-4eb8-8a38-3c4ac91c7039',\n",
       " 'db343606-69de-4a7d-9fe3-b16d37ce2ac4',\n",
       " '032c9bba-101c-454d-bc2c-4be1f547116e',\n",
       " '097f8568-524b-4bb0-a244-0a2f0631d3a9',\n",
       " '6b9a9d95-2356-4bb0-9d2c-01c842146956',\n",
       " '127747a8-58cc-4782-8096-74b92a866ba5',\n",
       " 'd282a77c-2536-44ab-9e6a-2adac09f359b',\n",
       " 'ce7acffa-ce7a-45d2-82c1-7e33092d4933',\n",
       " '558e2c18-4b88-4717-8ebc-fa8ad03ba34c',\n",
       " '2e563ff3-a487-444d-b646-757011605338',\n",
       " 'db794eb8-3d21-44c2-8adf-e395e604c234',\n",
       " 'fa9ebc76-746a-4e00-9a5a-c382c714fa92',\n",
       " '2099b8c7-1bb8-486d-83e4-61fe0381ed8d',\n",
       " 'c16c6b25-3568-4b7b-9c67-dbce5b2dd2cd',\n",
       " '2fd3e8d7-9fb9-4e67-ab99-ca7b500adea5',\n",
       " '92076d8c-84b9-43be-a149-eff78080d830',\n",
       " 'b588a746-f036-4635-938f-bd2b7d91ab97',\n",
       " '1a50a74e-098b-41c4-8cd4-aee1bf97f41f',\n",
       " '4b596b9d-08a5-4c7c-82dc-c56a1714f3d1',\n",
       " '06bad15e-9e26-46d4-913b-d4b6f86bf390',\n",
       " 'd707e4aa-b1ec-4d39-905c-6e35d8647bf0',\n",
       " '10e4292f-8777-46c4-9a92-b154666fe7b7',\n",
       " '2a2dc26a-1670-4270-b4db-1fb709fa222f',\n",
       " '4b1a3b2e-17b7-421c-b3b3-a91ce84f5c39',\n",
       " 'd4e63894-b54f-4c85-a4c1-80f0ef87f03b',\n",
       " '3b27f8be-e021-4751-90cc-ff485db04eee',\n",
       " '70e6a427-2978-40bf-9759-ec85fb67c17f',\n",
       " '85370af4-dfa8-48cc-8f0f-d84629c3235c',\n",
       " '6acd3fd4-d6e6-4533-9766-c93ff5f57f4b',\n",
       " '507dd4db-a51d-4276-a1b9-edd3ae768dbe',\n",
       " 'b92779ad-665c-44b5-94eb-be5b05fb7152',\n",
       " '774ef51f-f87d-43d6-966c-e8bd39a36764',\n",
       " 'efe5b142-b39b-4e96-88fe-562f28106806',\n",
       " 'a5db495a-e334-431a-ad7a-cd31fe33253c',\n",
       " '92feafa2-6c71-433d-976b-3f84edeb200e',\n",
       " '402fbd42-7e53-4cb3-b482-6cd66a5ea600',\n",
       " '675900b2-bc12-4c18-bec5-a6090259eed4',\n",
       " '33035ded-6ee1-4511-b006-cbe6260cb18b',\n",
       " '21e0661c-d609-430b-871b-4ebab06856b4',\n",
       " '6c426d0f-5241-4b0b-9057-f2ae7371ccc0',\n",
       " '9b184fbb-6af4-48e9-804e-cf7bc138dc8d',\n",
       " '82f10aa2-63eb-4962-8dd9-30d21969d27a',\n",
       " 'e9ddea32-6adb-4bb4-8edd-a58bc3a9c674',\n",
       " '50cfd421-3e87-4c8f-8b5c-e1a110b30bca',\n",
       " '606da439-d6a5-4e5c-9a70-d9ae9467c09e',\n",
       " 'd5746d9c-6e1e-4bdc-8d6c-65b9ef95560d',\n",
       " 'f967a87b-2245-4972-ab68-dbd76cae5741',\n",
       " 'de61e94c-ee0b-4b4f-a8b2-ffe6eb6c67b8',\n",
       " 'ccbabcb0-b088-4d0d-a660-c332364d2b79',\n",
       " '64bd11e4-4fcc-4af8-a090-78469e6f1445',\n",
       " '232a8bbe-a028-4cdd-89ac-3049c1c55b74',\n",
       " 'f4b92f30-4f40-42f6-8b8c-aa21e3e3abd9',\n",
       " '395ebc21-42dd-499d-83ad-16d0056b6eff',\n",
       " 'd39607b1-0647-42bd-8b35-50d10c930a67',\n",
       " '018c8a1d-859f-4807-ae3a-dd3a5b9e196e',\n",
       " 'c3773f72-629a-4d80-9a1d-2ddaf7987ae6',\n",
       " '504222b3-897e-42a9-b95a-2a10dae69583',\n",
       " '8d376c75-ff6f-4ece-9a8d-6de25a425e1a',\n",
       " '1c3df19f-794d-45cf-90af-56478bf833cb',\n",
       " 'cd3adf0a-5ac1-4fef-bbac-ca87b7e392d9',\n",
       " 'dded2508-2265-48fc-a0dc-277b101222c5',\n",
       " 'e486d6cf-d8ef-40f0-b960-0b8f15a4dedb',\n",
       " '778da43f-aa2f-4feb-b334-a8bc25ec5cb7',\n",
       " '01918e5f-684d-49c5-b49c-a3f20a23f461',\n",
       " '1cc184af-72be-4a64-a39f-4c3800833f78',\n",
       " 'cabe7527-d42a-4008-a6d0-1b0b52cece86',\n",
       " '179025b5-a503-4225-bab9-985575ffbc83',\n",
       " '311389f2-ed52-4402-8690-82f3e46ff3d1',\n",
       " 'd39b8417-9af6-4c14-aed7-bd7b269f0414',\n",
       " 'ab192358-14b6-4abc-8bd3-43e8175f4c6c',\n",
       " '65c6fe3b-dbb8-4e5a-8c60-0e22b6f28110',\n",
       " '3d5f7734-d8db-4066-a141-6b5a3ca953f7',\n",
       " '8b782f57-d84d-4dbf-883d-0b8e7a4a3005',\n",
       " 'd74676d4-6aa2-4be2-a913-1caab2d13a51',\n",
       " 'e3c8c2a2-0c95-4b3e-aba6-b42313cbc354',\n",
       " '36782fa1-c273-4d84-b3ee-985f0bb824a4',\n",
       " '8f3da2e4-7d84-49f4-b97f-032e25c82c8e',\n",
       " '5dbbf388-38d3-4a24-9d62-073eb62b0209',\n",
       " '67ca4a23-31e2-4cc3-a7c4-e66a7f9c8dbb',\n",
       " '93e54692-7d16-4e87-af88-1f3215df42f2']"
      ]
     },
     "execution_count": 7,
     "metadata": {},
     "output_type": "execute_result"
    }
   ],
   "source": [
    "wikipedia_loader = WikipediaLoader(query=\"Paestum\")\n",
    "wikipedia_chunks = text_splitter.split_documents(wikipedia_loader.load())\n",
    "vector_db.add_documents(wikipedia_chunks)"
   ]
  },
  {
   "cell_type": "code",
   "execution_count": 5,
   "id": "0ecc12c8-9564-417a-8a57-2072e70e84f6",
   "metadata": {},
   "outputs": [
    {
     "data": {
      "text/plain": [
       "['a26376d4-ba03-439f-ae37-21b359ce0846',\n",
       " '06890da3-544e-4bfd-b8a6-9184dbb6ff00',\n",
       " 'f7a65e59-a6e2-4982-a932-077ceede9b9f',\n",
       " '6098b307-0e69-46b1-9787-f46cc363017c',\n",
       " 'd0deaef4-3312-434a-bf65-29a780f717d4',\n",
       " '5252f1e9-f56c-4b6e-aca3-40cc15d42e83',\n",
       " '2a527920-825e-41f5-834a-9aa5547359cf',\n",
       " 'a859f899-9182-46be-8ad3-67da627804fc']"
      ]
     },
     "execution_count": 5,
     "metadata": {},
     "output_type": "execute_result"
    }
   ],
   "source": [
    "word_loader = Docx2txtLoader(\"Paestum/Paestum-Britannica.docx\")\n",
    "word_chunks = text_splitter.split_documents(word_loader.load())\n",
    "vector_db.add_documents(word_chunks)"
   ]
  },
  {
   "cell_type": "code",
   "execution_count": 6,
   "id": "b2cc85a1-48d4-4514-b4cb-9cceb3b8c2cb",
   "metadata": {},
   "outputs": [
    {
     "data": {
      "text/plain": [
       "['635b6fa5-31b6-42d9-a58d-75f5f8ee53cc',\n",
       " '58eaf99e-a3a7-408b-83b8-48e7cb31a061',\n",
       " '67fbffad-f5a2-4ead-ae60-c6c66e67d31c',\n",
       " '5f386233-6f25-43ac-bca2-733959a56204',\n",
       " '53e59233-f7b5-4b2f-85bb-573266bf9c27',\n",
       " 'de7f2428-1ea5-42ab-a7c0-dbe873c0427e',\n",
       " '87961cfb-37cf-4fb2-aad0-b7cbdbdf7980',\n",
       " '1650d7b3-a279-4fa2-8743-2280cb68ae17',\n",
       " 'd6c6ba9f-a796-49fc-aa62-761ce4ecc3db',\n",
       " '27e9e186-ef26-4792-85bb-9a65e592fe46',\n",
       " 'ef7a8e32-da63-4fd4-bebb-d736149cf906',\n",
       " '89099ec5-25f8-4a16-b71e-f059cec9ae08',\n",
       " 'b9cdb7cf-bf75-403d-95a0-3d46326632c8',\n",
       " 'fc9491ab-1f72-430e-aa0e-cb87d09f6a0e',\n",
       " '0b59fc2e-dd49-4cdd-b206-93cf0fca9330',\n",
       " '282559d4-4e63-493b-b47e-42a3e04b640b',\n",
       " '898f3a80-973c-4e80-b6db-317b990d0373',\n",
       " 'cc339725-75fc-4f56-9bc6-b95ae4798d43',\n",
       " '3d3312d9-0f69-4ffa-a961-3c46c5987482',\n",
       " 'efe6feb8-3c8a-4408-bb7a-b92693a6f5f8',\n",
       " 'b0215a28-59d7-4bee-a7c6-48f3740f3b78',\n",
       " 'a48fdbf4-4c2c-4b63-bb4f-530c34060fd1',\n",
       " 'afc4636a-57fa-4dde-8030-ec956d40caff',\n",
       " '458c878f-037d-4894-a8a9-c2eea7c168a6']"
      ]
     },
     "execution_count": 6,
     "metadata": {},
     "output_type": "execute_result"
    }
   ],
   "source": [
    "pdf_loader = PyPDFLoader(\"Paestum/PaestumRevisited.pdf\")\n",
    "pdf_chunks = text_splitter.split_documents(pdf_loader.load())\n",
    "vector_db.add_documents(pdf_chunks)"
   ]
  },
  {
   "cell_type": "code",
   "execution_count": 8,
   "id": "3dc54fb3-4af8-434c-90f0-3a694a4bb7ce",
   "metadata": {
    "scrolled": true
   },
   "outputs": [
    {
     "data": {
      "text/plain": [
       "['427729b1-bf09-473a-8c0a-8e5a97d6cac1']"
      ]
     },
     "execution_count": 8,
     "metadata": {},
     "output_type": "execute_result"
    }
   ],
   "source": [
    "txt_loader = TextLoader(\"Paestum/Paestum-Encyclopedia.txt\")\n",
    "txt_chunks = text_splitter.split_documents(txt_loader.load())\n",
    "vector_db.add_documents(txt_chunks)"
   ]
  },
  {
   "cell_type": "markdown",
   "id": "f9c3728b-10b3-4468-8c63-33d6748a2fd9",
   "metadata": {},
   "source": [
    "### Removing duplication"
   ]
  },
  {
   "cell_type": "code",
   "execution_count": 9,
   "id": "a000a48a-9d80-41e3-8571-7730b5844365",
   "metadata": {},
   "outputs": [],
   "source": [
    "def split_and_import(loader):\n",
    "     chunks = text_splitter.split_documents(loader.load())\n",
    "     vector_db.add_documents(chunks)\n",
    "     print(f\"Ingested chunks created by {loader}\")"
   ]
  },
  {
   "cell_type": "code",
   "execution_count": 10,
   "id": "146136d6-aec2-4e96-a1fa-05fca61d28e2",
   "metadata": {},
   "outputs": [
    {
     "name": "stdout",
     "output_type": "stream",
     "text": [
      "Ingested chunks created by <langchain_community.document_loaders.wikipedia.WikipediaLoader object at 0x000001652E901350>\n",
      "Ingested chunks created by <langchain_community.document_loaders.word_document.Docx2txtLoader object at 0x000001652C5C6450>\n",
      "Ingested chunks created by <langchain_community.document_loaders.pdf.PyPDFLoader object at 0x000001652E418B10>\n",
      "Ingested chunks created by <langchain_community.document_loaders.text.TextLoader object at 0x000001652E944510>\n"
     ]
    }
   ],
   "source": [
    "wikipedia_loader = WikipediaLoader(query=\"Paestum\")\n",
    "split_and_import(wikipedia_loader)\n",
    "\n",
    "word_loader = Docx2txtLoader(\"Paestum/Paestum-Britannica.docx\")\n",
    "split_and_import(word_loader)\n",
    "\n",
    "pdf_loader = PyPDFLoader(\"Paestum/PaestumRevisited.pdf\")\n",
    "split_and_import(pdf_loader)\n",
    "\n",
    "txt_loader = TextLoader(\"Paestum/Paestum-Encyclopedia.txt\")\n",
    "split_and_import(txt_loader)"
   ]
  },
  {
   "cell_type": "markdown",
   "id": "df7dbf7b-221c-4e88-964d-2ab98a294af3",
   "metadata": {},
   "source": [
    "## Ingesting Multiple Documents from a Folder (two techniques)"
   ]
  },
  {
   "cell_type": "markdown",
   "id": "6c8cde59-6e51-4d0d-b83b-3b30a9b0bf16",
   "metadata": {},
   "source": [
    "### 1) Iterating over all files in a folder"
   ]
  },
  {
   "cell_type": "code",
   "execution_count": 19,
   "id": "430cb87d-978f-4a81-9428-b9a40c605096",
   "metadata": {},
   "outputs": [],
   "source": [
    "loader_classes = {\n",
    "    'docx': Docx2txtLoader,\n",
    "    'pdf': PyPDFLoader,\n",
    "    'txt': TextLoader\n",
    "}"
   ]
  },
  {
   "cell_type": "code",
   "execution_count": 21,
   "id": "a31de028-ffec-44b9-973e-d2383697222e",
   "metadata": {},
   "outputs": [],
   "source": [
    "import os\n",
    "\n",
    "def get_loader(filename):\n",
    "    _, file_extension = os.path.splitext(filename) #A Extract the file extension\n",
    "    file_extension = file_extension.lstrip('.') #B Remove the leading dot from the extension\n",
    "    \n",
    "    loader_class = loader_classes.get(file_extension) #C Get the loader class from the dictionary\n",
    "    \n",
    "    if loader_class:\n",
    "        return loader_class(filename) #D Instantiate and return the correct loader\n",
    "    else:\n",
    "        raise ValueError(f\"No loader available for file extension '{file_extension}'\")"
   ]
  },
  {
   "cell_type": "markdown",
   "id": "1b45e9ed-ec13-4111-99ab-ff26107e2eed",
   "metadata": {},
   "source": [
    "#### Ingesting the files from the folder (Exercise solution)"
   ]
  },
  {
   "cell_type": "code",
   "execution_count": 33,
   "id": "1fc4c038-124c-44de-82c2-423c839da426",
   "metadata": {},
   "outputs": [
    {
     "name": "stdout",
     "output_type": "stream",
     "text": [
      "Loader for Acciaroli.pdf: <langchain_community.document_loaders.pdf.PyPDFLoader object at 0x000001EAC00E5D50>\n",
      "Ingested chunks created by <langchain_community.document_loaders.pdf.PyPDFLoader object at 0x000001EAC00E5D50>\n",
      "Loader for Cape Palinuro.txt: <langchain_community.document_loaders.text.TextLoader object at 0x000001EAC00E6490>\n",
      "Ingested chunks created by <langchain_community.document_loaders.text.TextLoader object at 0x000001EAC00E6490>\n",
      "Loader for Casalvelino.txt: <langchain_community.document_loaders.text.TextLoader object at 0x000001EAC00E4850>\n",
      "Ingested chunks created by <langchain_community.document_loaders.text.TextLoader object at 0x000001EAC00E4850>\n",
      "Loader for Cilentan coast.docx: <langchain_community.document_loaders.word_document.Docx2txtLoader object at 0x000001EABF733E90>\n",
      "Ingested chunks created by <langchain_community.document_loaders.word_document.Docx2txtLoader object at 0x000001EABF733E90>\n",
      "Loader for Cilento Coast Map and Travel Guide.docx: <langchain_community.document_loaders.word_document.Docx2txtLoader object at 0x000001EABACD0650>\n",
      "Ingested chunks created by <langchain_community.document_loaders.word_document.Docx2txtLoader object at 0x000001EABACD0650>\n",
      "Loader for Cilento DOC.pdf: <langchain_community.document_loaders.pdf.PyPDFLoader object at 0x000001EABA4C0810>\n",
      "Ingested chunks created by <langchain_community.document_loaders.pdf.PyPDFLoader object at 0x000001EABA4C0810>\n",
      "Loader for Cilento Park.txt: <langchain_community.document_loaders.text.TextLoader object at 0x000001EABACD0650>\n",
      "Ingested chunks created by <langchain_community.document_loaders.text.TextLoader object at 0x000001EABACD0650>\n",
      "Loader for Cilento.docx: <langchain_community.document_loaders.word_document.Docx2txtLoader object at 0x000001EABAB7BFD0>\n",
      "Ingested chunks created by <langchain_community.document_loaders.word_document.Docx2txtLoader object at 0x000001EABAB7BFD0>\n",
      "Loader for Cilento.pdf: <langchain_community.document_loaders.pdf.PyPDFLoader object at 0x000001EABC08BB90>\n",
      "Ingested chunks created by <langchain_community.document_loaders.pdf.PyPDFLoader object at 0x000001EABC08BB90>\n",
      "Loader for Marina di Camerota info.pdf: <langchain_community.document_loaders.pdf.PyPDFLoader object at 0x000001EABB4DB3D0>\n",
      "Ingested chunks created by <langchain_community.document_loaders.pdf.PyPDFLoader object at 0x000001EABB4DB3D0>\n",
      "Loader for Marina di Camerota.docx: <langchain_community.document_loaders.word_document.Docx2txtLoader object at 0x000001EABA48AD50>\n",
      "Ingested chunks created by <langchain_community.document_loaders.word_document.Docx2txtLoader object at 0x000001EABA48AD50>\n",
      "Loader for NationalParkOfCilentoAndValloDiDiano.txt: <langchain_community.document_loaders.text.TextLoader object at 0x000001EABF73EA50>\n",
      "Ingested chunks created by <langchain_community.document_loaders.text.TextLoader object at 0x000001EABF73EA50>\n",
      "Loader for Parco Nazionale del Cilento.pdf: <langchain_community.document_loaders.pdf.PyPDFLoader object at 0x000001EABAB6C5D0>\n",
      "Ingested chunks created by <langchain_community.document_loaders.pdf.PyPDFLoader object at 0x000001EABAB6C5D0>\n",
      "Loader for Parmenides.docx: <langchain_community.document_loaders.word_document.Docx2txtLoader object at 0x000001EABD0B4710>\n",
      "Ingested chunks created by <langchain_community.document_loaders.word_document.Docx2txtLoader object at 0x000001EABD0B4710>\n",
      "Loader for Santa Maria di Castellabate.docx: <langchain_community.document_loaders.word_document.Docx2txtLoader object at 0x000001EABF939F90>\n",
      "Ingested chunks created by <langchain_community.document_loaders.word_document.Docx2txtLoader object at 0x000001EABF939F90>\n",
      "Loader for Velia.pdf: <langchain_community.document_loaders.pdf.PyPDFLoader object at 0x000001EABF938ED0>\n",
      "Ingested chunks created by <langchain_community.document_loaders.pdf.PyPDFLoader object at 0x000001EABF938ED0>\n"
     ]
    }
   ],
   "source": [
    "folder_path = \"CilentoTouristInfo\" #A Path to the folder containing the documents\n",
    "\n",
    "for filename in os.listdir(folder_path): #B iterate over the files in the path\n",
    "    file_path = os.path.join(folder_path, filename) #C Construct the full path to the file\n",
    "   \n",
    "    if os.path.isfile(file_path): #D Check if it is a file (not a directory)\n",
    "        try:\n",
    "            loader = get_loader(file_path) #E Instantiate the correct loader for the file\n",
    "            print(f\"Loader for {filename}: {loader}\")\n",
    "            split_and_import(loader) #F Split and ingest\n",
    "        except ValueError as e:\n",
    "            print(e)"
   ]
  },
  {
   "cell_type": "markdown",
   "id": "1147202e-d94a-4208-bd56-b7f068fdf9da",
   "metadata": {},
   "source": [
    "### 2) Ingesting all files with with DirectoryLoader"
   ]
  },
  {
   "cell_type": "code",
   "execution_count": null,
   "id": "ce5cff86-e921-4d15-bab9-b4215b11fcb6",
   "metadata": {},
   "outputs": [],
   "source": [
    "# ONLY RUN THIS IF YOU HAVE SUCCESFULLY INSTALLED unstructured or langchain-unstructured\n",
    "# THE INSTALLATION IS OPERATIVE SYSTEM SPECIFIC\n",
    "# follow LangChain instructions at https://python.langchain.com/v0.2/docs/integrations/providers/unstructured/ or \n",
    "# Unstructured instructions at https://docs.unstructured.io/welcome#quickstart-unstructured-open-source-library\n",
    "folder_path = \"CilentoTouristInfo\"\n",
    "pattern = \"**/*.{docx,pdf,txt}\" #A Pattern to match .docx, .pdf, and .txt files\n",
    "\n",
    "directory_loader = DirectoryLoader(folder_path, pattern) #B Initialize the DirectoryLoader with the folder path and pattern\n",
    "split_and_import(directory_loader)"
   ]
  },
  {
   "cell_type": "markdown",
   "id": "1631170d-373f-4498-ad80-144d8ee9c784",
   "metadata": {},
   "source": [
    "## Querying the vector store directly"
   ]
  },
  {
   "cell_type": "code",
   "execution_count": 11,
   "id": "af87991d-bbbb-47d2-87d0-365aca4d4b3a",
   "metadata": {},
   "outputs": [
    {
     "name": "stdout",
     "output_type": "stream",
     "text": [
      "[Document(metadata={'source': 'https://en.wikipedia.org/wiki/Paestum', 'summary': 'Paestum ( PEST-əm, US also  PEE-stəm, Latin: [ˈpae̯stũː]) was a major ancient Greek city on the coast of the Tyrrhenian Sea, in Magna Graecia. The ruins of Paestum are famous for their three ancient Greek temples in the Doric order dating from about 550 to 450 BC that are in an excellent state of preservation. The city walls and amphitheatre are largely intact, and the bottom of the walls of many other structures remain, as well as paved roads. The site is open to the public, and there is a modern national museum within it, which also contains the finds from the associated Greek site of Foce del Sele.\\nPaestum was established around 600 BC by settlers from Sybaris, a Greek colony in southern Italy, under the name of Poseidonia (Ancient Greek: Ποσειδωνία). The city thrived as a Greek settlement for about two centuries, witnessing the development of democracy. In 400 BC, the Lucanians seized the city. Romans took over in 273 BC, renaming it Paestum and establishing a Latin colony. Later, its decline ensued from shifts in trade routes and the onset of flooding and marsh formation. As Pesto or Paestum, the town became a bishopric (now only titular), but it was abandoned in the Early Middle Ages, and left undisturbed and largely forgotten until the eighteenth century.\\nToday the remains of the city are found in the modern frazione of Paestum, which is part of the comune of Capaccio Paestum in the Province of Salerno in the region of Campania, Italy. The modern settlement, directly to the south of the archaeological site, is a popular seaside resort with long sandy beaches. The Paestum railway station on the Naples-Salerno-Reggio Calabria railway line is directly to the east of the ancient city walls.', 'title': 'Paestum'}, page_content='== Name ==\\nThe Greek settlers who founded the city originally named it Poseidonia (Ancient Greek: Ποσειδωνία). It was eventually conquered by the local Lucanians and later the Romans. The Lucanians renamed it to Paistos and the Romans gave the city its current name. \\n\\n\\n== Ancient ruins and features =='), Document(metadata={'source': 'https://en.wikipedia.org/wiki/Paestum', 'summary': 'Paestum ( PEST-əm, US also  PEE-stəm, Latin: [ˈpae̯stũː]) was a major ancient Greek city on the coast of the Tyrrhenian Sea, in Magna Graecia. The ruins of Paestum are famous for their three ancient Greek temples in the Doric order dating from about 550 to 450 BC that are in an excellent state of preservation. The city walls and amphitheatre are largely intact, and the bottom of the walls of many other structures remain, as well as paved roads. The site is open to the public, and there is a modern national museum within it, which also contains the finds from the associated Greek site of Foce del Sele.\\nPaestum was established around 600 BC by settlers from Sybaris, a Greek colony in southern Italy, under the name of Poseidonia (Ancient Greek: Ποσειδωνία). The city thrived as a Greek settlement for about two centuries, witnessing the development of democracy. In 400 BC, the Lucanians seized the city. Romans took over in 273 BC, renaming it Paestum and establishing a Latin colony. Later, its decline ensued from shifts in trade routes and the onset of flooding and marsh formation. As Pesto or Paestum, the town became a bishopric (now only titular), but it was abandoned in the Early Middle Ages, and left undisturbed and largely forgotten until the eighteenth century.\\nToday the remains of the city are found in the modern frazione of Paestum, which is part of the comune of Capaccio Paestum in the Province of Salerno in the region of Campania, Italy. The modern settlement, directly to the south of the archaeological site, is a popular seaside resort with long sandy beaches. The Paestum railway station on the Naples-Salerno-Reggio Calabria railway line is directly to the east of the ancient city walls.', 'title': 'Paestum'}, page_content='== Name ==\\nThe Greek settlers who founded the city originally named it Poseidonia (Ancient Greek: Ποσειδωνία). It was eventually conquered by the local Lucanians and later the Romans. The Lucanians renamed it to Paistos and the Romans gave the city its current name. \\n\\n\\n== Ancient ruins and features =='), Document(metadata={'source': 'Paestum/Paestum-Britannica.docx'}, page_content='Poseidonia was probably founded about 600\\xa0BC\\xa0by Greek colonists from\\xa0Sybaris, along the\\xa0Gulf of Taranto, and it had become a flourishing town by 540, judging from its temples. After many years’ resistance the city came under the domination of the\\xa0Lucanians\\xa0(an\\xa0indigenous\\xa0Italic people) sometime before 400\\xa0BC, after which its name was changed to Paestum. Alexander, the king of Epirus, defeated the Lucanians at Paestum about 332\\xa0BC, but the city remained Lucanian until 273, when it came under'), Document(metadata={'source': 'Paestum/Paestum-Britannica.docx'}, page_content='Poseidonia was probably founded about 600\\xa0BC\\xa0by Greek colonists from\\xa0Sybaris, along the\\xa0Gulf of Taranto, and it had become a flourishing town by 540, judging from its temples. After many years’ resistance the city came under the domination of the\\xa0Lucanians\\xa0(an\\xa0indigenous\\xa0Italic people) sometime before 400\\xa0BC, after which its name was changed to Paestum. Alexander, the king of Epirus, defeated the Lucanians at Paestum about 332\\xa0BC, but the city remained Lucanian until 273, when it came under')]\n"
     ]
    }
   ],
   "source": [
    "query = \"Where was Poseidonia and who renamed it to Paestum\" \n",
    "results = vector_db.similarity_search(query, 4) # four clostest results\n",
    "print(results)"
   ]
  },
  {
   "cell_type": "code",
   "execution_count": 11,
   "id": "dadf5ded-1f72-4e96-ad7c-b995e44dfecd",
   "metadata": {},
   "outputs": [
    {
     "data": {
      "text/plain": [
       "4"
      ]
     },
     "execution_count": 11,
     "metadata": {},
     "output_type": "execute_result"
    }
   ],
   "source": [
    "len(results)"
   ]
  },
  {
   "cell_type": "markdown",
   "id": "6dc0c334-66e4-4bb3-b0ab-1c32a03dd05b",
   "metadata": {},
   "source": [
    "## Asking a question through a RAG chain"
   ]
  },
  {
   "cell_type": "code",
   "execution_count": 2,
   "id": "9f6ad4a5-b79d-428f-9367-7a9f1a56d2ee",
   "metadata": {},
   "outputs": [
    {
     "name": "stdin",
     "output_type": "stream",
     "text": [
      "Enter your OPENAI_API_KEY ········\n"
     ]
    }
   ],
   "source": [
    "from openai import OpenAI\n",
    "import getpass\n",
    "\n",
    "OPENAI_API_KEY = getpass.getpass('Enter your OPENAI_API_KEY')"
   ]
  },
  {
   "cell_type": "code",
   "execution_count": 14,
   "id": "82221dc4-7627-403a-bcdb-cb987ba41184",
   "metadata": {},
   "outputs": [],
   "source": [
    "from langchain_core.prompts import PromptTemplate\n",
    "\n",
    "rag_prompt_template = \"\"\"Use the following pieces of context to answer the question at the end. \n",
    "If you don't know the answer, just say that you don't know, don't try to make up an answer.\n",
    "Use three sentences maximum and keep the answer as concise as possible.\n",
    "{context}\n",
    "Question: {question}\n",
    "Helpful Answer:\"\"\"\n",
    "\n",
    "rag_prompt = PromptTemplate.from_template(rag_prompt_template)"
   ]
  },
  {
   "cell_type": "code",
   "execution_count": 13,
   "id": "e752e194-142a-45ad-8f2f-171487b3eb5b",
   "metadata": {},
   "outputs": [],
   "source": [
    "retriever = vector_db.as_retriever()"
   ]
  },
  {
   "cell_type": "code",
   "execution_count": 17,
   "id": "6f34248c-baea-4146-bfd4-e6fb193e6dbb",
   "metadata": {},
   "outputs": [],
   "source": [
    "from langchain_core.runnables import RunnablePassthrough\n",
    "question_feeder = RunnablePassthrough()"
   ]
  },
  {
   "cell_type": "code",
   "execution_count": 18,
   "id": "7eb75492-8913-42e5-b707-aad2592d8fa5",
   "metadata": {},
   "outputs": [],
   "source": [
    "from langchain_openai import ChatOpenAI\n",
    "\n",
    "chatbot = ChatOpenAI(openai_api_key=OPENAI_API_KEY, model_name=\"gpt-4o-mini\")"
   ]
  },
  {
   "cell_type": "code",
   "execution_count": 19,
   "id": "df278726-e951-4b8c-8eb9-873992427e47",
   "metadata": {},
   "outputs": [],
   "source": [
    "# set up RAG chain\n",
    "\n",
    "rag_chain = {\"context\": retriever, \"question\": question_feeder} | rag_prompt | chatbot"
   ]
  },
  {
   "cell_type": "code",
   "execution_count": 20,
   "id": "4bb68aff-1b72-4126-8e17-b501fcb2860a",
   "metadata": {},
   "outputs": [],
   "source": [
    "def execute_chain(chain, question):\n",
    "    answer = chain.invoke(question)\n",
    "    return answer"
   ]
  },
  {
   "cell_type": "code",
   "execution_count": 21,
   "id": "88321863-cdb1-41fc-aa14-bb9b5792338c",
   "metadata": {},
   "outputs": [
    {
     "name": "stdout",
     "output_type": "stream",
     "text": [
      "Poseidonia was located on the coast of the Tyrrhenian Sea in Magna Graecia, established by Greek colonists from Sybaris. It was renamed to Paestum by the Romans after they took control of the city in 273 BC. Source: [Wikipedia](https://en.wikipedia.org/wiki/Paestum).\n"
     ]
    }
   ],
   "source": [
    "question = \"Where was Poseidonia and who renamed it to Paestum. Also tell me the source.\" \n",
    "answer = execute_chain(rag_chain, question)\n",
    "print(answer.content)"
   ]
  },
  {
   "cell_type": "code",
   "execution_count": 22,
   "id": "4541b4a5-2e9e-4a80-963f-1279fad916ac",
   "metadata": {},
   "outputs": [
    {
     "name": "stdout",
     "output_type": "stream",
     "text": [
      "content='Poseidonia was located on the coast of the Tyrrhenian Sea in Magna Graecia, established by Greek colonists from Sybaris. It was renamed to Paestum by the Romans after they took control of the city in 273 BC. Source: [Wikipedia](https://en.wikipedia.org/wiki/Paestum).' additional_kwargs={'refusal': None} response_metadata={'token_usage': {'completion_tokens': 69, 'prompt_tokens': 1423, 'total_tokens': 1492}, 'model_name': 'gpt-4o-mini-2024-07-18', 'system_fingerprint': 'fp_48196bc67a', 'finish_reason': 'stop', 'logprobs': None} id='run-88c1beb0-54f4-434a-ac30-a198fb9aff00-0' usage_metadata={'input_tokens': 1423, 'output_tokens': 69, 'total_tokens': 1492}\n"
     ]
    }
   ],
   "source": [
    "print(answer)"
   ]
  },
  {
   "cell_type": "code",
   "execution_count": 23,
   "id": "53a5742a-62ae-442a-a30e-4380507489aa",
   "metadata": {},
   "outputs": [
    {
     "name": "stdout",
     "output_type": "stream",
     "text": [
      "The context does not provide information about what the Lucanians did after the siege of Thurii in 282 BC. Therefore, I don't know the answer.\n"
     ]
    }
   ],
   "source": [
    "question = \"And then, what did they do?\" \n",
    "answer = execute_chain(rag_chain, question)\n",
    "print(answer.content)"
   ]
  },
  {
   "cell_type": "markdown",
   "id": "4c76bbc1-b3c5-4e86-95dd-5f8c85dfaafd",
   "metadata": {},
   "source": [
    "## Chatbot memory of message history"
   ]
  },
  {
   "cell_type": "code",
   "execution_count": 24,
   "id": "2f548719-575c-4796-9adc-f84c1dc30aaa",
   "metadata": {},
   "outputs": [],
   "source": [
    "from langchain_core.runnables import RunnablePassthrough\n",
    "from langchain_openai import ChatOpenAI\n",
    "from langchain_core.prompts import ChatPromptTemplate\n",
    "from langchain_community.chat_message_histories import ChatMessageHistory\n",
    "from langchain_core.runnables import RunnableLambda\n",
    "\n",
    "rag_prompt = ChatPromptTemplate.from_messages(\n",
    "    [\n",
    "        (\"system\", \"You are a helpful assistant, world-class expert in Roman and Greek history, especially in towns located in southern Italy. Provide interesting insights on local history and recommend places to visit with knowledgeable and engaging answers. Answer all questions to the best of your ability, but only use what has been provided in the context. If you don't know, just say you don't know. Use three sentences maximum and keep the answer as concise as possible.\"),\n",
    "        (\"placeholder\", \"{chat_history_messages}\"),\n",
    "        (\"assistant\", \"{retrieved_context}\"),\n",
    "        (\"human\", \"{question}\"),\n",
    "    ]\n",
    ")\n",
    "\n",
    "retriever = vector_db.as_retriever()\n",
    "question_feeder = RunnablePassthrough()\n",
    "chatbot = ChatOpenAI(openai_api_key=OPENAI_API_KEY, model_name=\"gpt-4o-mini\")\n",
    "chat_history_memory = ChatMessageHistory()\n",
    "\n",
    "def get_messages(x):\n",
    "    return chat_history_memory.messages\n",
    "\n",
    "rag_chain = {\n",
    "    \"retrieved_context\": retriever, \n",
    "    \"question\": question_feeder,\n",
    "    \"chat_history_messages\": RunnableLambda(get_messages)\n",
    "} | rag_prompt | chatbot\n",
    "\n",
    "def execute_chain_with_memory(chain, question):\n",
    "    chat_history_memory.add_user_message(question)\n",
    "    answer = chain.invoke(question)\n",
    "    chat_history_memory.add_ai_message(answer)\n",
    "    print(f'Full chat message history: {chat_history_memory.messages}\\n\\n')                                      \n",
    "    return answer"
   ]
  },
  {
   "cell_type": "code",
   "execution_count": 25,
   "id": "3f38fc7a-a8f4-4795-9c4f-3c2b576e136e",
   "metadata": {},
   "outputs": [
    {
     "name": "stdout",
     "output_type": "stream",
     "text": [
      "Full chat message history: [HumanMessage(content='Where was Poseidonia and who renamed it to Paestum? Also tell me the source.'), AIMessage(content='Poseidonia was an ancient Greek city located on the coast of the Tyrrhenian Sea in southern Italy, specifically in the region of Campania. It was renamed Paestum by the Romans after they took control in 273 BC, following its earlier conquest by the Lucanians who originally renamed it to Paistos. The source of this information is Wikipedia.', additional_kwargs={'refusal': None}, response_metadata={'token_usage': {'completion_tokens': 73, 'prompt_tokens': 1485, 'total_tokens': 1558}, 'model_name': 'gpt-4o-mini-2024-07-18', 'system_fingerprint': 'fp_48196bc67a', 'finish_reason': 'stop', 'logprobs': None}, id='run-87d0d9d8-44a7-493a-9eb5-e07ac4394fc6-0', usage_metadata={'input_tokens': 1485, 'output_tokens': 73, 'total_tokens': 1558})]\n",
      "\n",
      "\n",
      "Poseidonia was an ancient Greek city located on the coast of the Tyrrhenian Sea in southern Italy, specifically in the region of Campania. It was renamed Paestum by the Romans after they took control in 273 BC, following its earlier conquest by the Lucanians who originally renamed it to Paistos. The source of this information is Wikipedia.\n"
     ]
    }
   ],
   "source": [
    "question = \"Where was Poseidonia and who renamed it to Paestum? Also tell me the source.\" \n",
    "answer = execute_chain_with_memory(rag_chain, question)\n",
    "print(answer.content)"
   ]
  },
  {
   "cell_type": "code",
   "execution_count": 26,
   "id": "fa8dd731-7414-4f57-baca-c1e25d7d5741",
   "metadata": {},
   "outputs": [
    {
     "name": "stdout",
     "output_type": "stream",
     "text": [
      "Full chat message history: [HumanMessage(content='Where was Poseidonia and who renamed it to Paestum? Also tell me the source.'), AIMessage(content='Poseidonia was an ancient Greek city located on the coast of the Tyrrhenian Sea in southern Italy, specifically in the region of Campania. It was renamed Paestum by the Romans after they took control in 273 BC, following its earlier conquest by the Lucanians who originally renamed it to Paistos. The source of this information is Wikipedia.', additional_kwargs={'refusal': None}, response_metadata={'token_usage': {'completion_tokens': 73, 'prompt_tokens': 1485, 'total_tokens': 1558}, 'model_name': 'gpt-4o-mini-2024-07-18', 'system_fingerprint': 'fp_48196bc67a', 'finish_reason': 'stop', 'logprobs': None}, id='run-87d0d9d8-44a7-493a-9eb5-e07ac4394fc6-0', usage_metadata={'input_tokens': 1485, 'output_tokens': 73, 'total_tokens': 1558}), HumanMessage(content='And then what did they do? Also tell me the source'), AIMessage(content='After the Romans renamed Poseidonia to Paestum, they developed it into a significant urban center, enhancing its infrastructure with impressive public buildings, including temples and a forum. Paestum is renowned for its well-preserved Greek temples, which are among the best examples of Doric architecture outside Greece. The source of this information is Wikipedia.', additional_kwargs={'refusal': None}, response_metadata={'token_usage': {'completion_tokens': 69, 'prompt_tokens': 1400, 'total_tokens': 1469}, 'model_name': 'gpt-4o-mini-2024-07-18', 'system_fingerprint': 'fp_48196bc67a', 'finish_reason': 'stop', 'logprobs': None}, id='run-a28e5c58-fc50-46d3-b169-824ce72e1061-0', usage_metadata={'input_tokens': 1400, 'output_tokens': 69, 'total_tokens': 1469})]\n",
      "\n",
      "\n",
      "After the Romans renamed Poseidonia to Paestum, they developed it into a significant urban center, enhancing its infrastructure with impressive public buildings, including temples and a forum. Paestum is renowned for its well-preserved Greek temples, which are among the best examples of Doric architecture outside Greece. The source of this information is Wikipedia.\n"
     ]
    }
   ],
   "source": [
    "question = \"And then what did they do? Also tell me the source\" \n",
    "answer = execute_chain_with_memory(rag_chain, question)\n",
    "print(answer.content)"
   ]
  },
  {
   "cell_type": "markdown",
   "id": "bf71e1b7-7a7a-4dcf-8cad-43fa43fcf09d",
   "metadata": {},
   "source": [
    "## Tracing with LangSmith"
   ]
  },
  {
   "cell_type": "code",
   "execution_count": 27,
   "id": "0e817ec3-6e94-4a82-b1a7-8ab641a48080",
   "metadata": {},
   "outputs": [],
   "source": [
    "from langsmith import trace\n",
    "from langsmith import Client, traceable"
   ]
  },
  {
   "cell_type": "code",
   "execution_count": 28,
   "id": "f567cd13-d121-49b2-a36a-3896ba8a67e6",
   "metadata": {},
   "outputs": [
    {
     "name": "stdin",
     "output_type": "stream",
     "text": [
      "Enter your LANGSMITH_API_KEY ········\n"
     ]
    }
   ],
   "source": [
    "LANGSMITH_API_KEY= getpass.getpass('Enter your LANGSMITH_API_KEY')"
   ]
  },
  {
   "cell_type": "code",
   "execution_count": 29,
   "id": "4bc737dc-2d4c-402c-b7e8-af8df0c47fd1",
   "metadata": {},
   "outputs": [],
   "source": [
    "langsmith_client = Client(\n",
    "    api_key=LANGSMITH_API_KEY,\n",
    "    api_url=\"https://api.smith.langchain.com\",  \n",
    ")"
   ]
  },
  {
   "cell_type": "code",
   "execution_count": 30,
   "id": "68788575-4418-4943-8efc-9629f69e85bc",
   "metadata": {},
   "outputs": [
    {
     "name": "stdout",
     "output_type": "stream",
     "text": [
      "content='Poseidonia was located on the coast of the Tyrrhenian Sea in southern Italy, specifically in the region of Campania. It was renamed Paestum by the Romans after they took control of the city in 273 BC. The source of this information is Wikipedia.' additional_kwargs={'refusal': None} response_metadata={'token_usage': {'completion_tokens': 56, 'prompt_tokens': 1651, 'total_tokens': 1707}, 'model_name': 'gpt-4o-mini-2024-07-18', 'system_fingerprint': 'fp_507c9469a1', 'finish_reason': 'stop', 'logprobs': None} id='run-9c48975a-2ebb-422b-b6f6-7a2f5b8d03b1-0' usage_metadata={'input_tokens': 1651, 'output_tokens': 56, 'total_tokens': 1707}\n"
     ]
    }
   ],
   "source": [
    "question = \"Where was Poseidonia and who renamed it to Paestum. Also tell me the source.\" \n",
    "with trace(\"Chat Pipeline\", \"chain\", project_name=\"Q&A chatbot\", inputs={\"input\": question}, client=langsmith_client) as rt:\n",
    "    answer = execute_chain(rag_chain, question)\n",
    "    print(answer)\n",
    "    rt.end(outputs={\"output\": answer})"
   ]
  },
  {
   "cell_type": "markdown",
   "id": "ade41e33-062d-473f-963a-9d1bc96bb7bd",
   "metadata": {},
   "source": [
    "## Setting up Q&A chain with RetrievalQA"
   ]
  },
  {
   "cell_type": "code",
   "execution_count": 31,
   "id": "b22731bc-469e-4c62-9dc3-bed63a498bdd",
   "metadata": {},
   "outputs": [],
   "source": [
    "from langchain.chains import RetrievalQA\n",
    "rag_chain = RetrievalQA.from_chain_type(llm=chatbot, chain_type=\"stuff\", retriever=retriever, return_source_documents=False)"
   ]
  },
  {
   "cell_type": "code",
   "execution_count": 32,
   "id": "8b7ab2fe-e21c-412f-a35b-177b58d452ae",
   "metadata": {},
   "outputs": [
    {
     "name": "stdout",
     "output_type": "stream",
     "text": [
      "{'query': 'Where was Poseidonia and who renamed it to Paestum. Also tell me the source.', 'result': 'Poseidonia was located along the Gulf of Taranto in what is now Italy. It was originally founded by Greek colonists from Sybaris around 600 BC. The city was conquered by the local Lucanians, an indigenous Italic people, who renamed it to Paestum. \\n\\nThe source of this information is the provided context.'}\n"
     ]
    }
   ],
   "source": [
    "question = \"Where was Poseidonia and who renamed it to Paestum. Also tell me the source.\" \n",
    "with trace(\"RetrievalQA\", \"chain\", project_name=\"Q&A chatbot\", inputs={\"input\": question}, client=langsmith_client) as rt:\n",
    "    answer = execute_chain(rag_chain, question)\n",
    "    print(answer)\n",
    "    rt.end(outputs={\"output\": answer})"
   ]
  }
 ],
 "metadata": {
  "kernelspec": {
   "display_name": "Python 3 (ipykernel)",
   "language": "python",
   "name": "python3"
  },
  "language_info": {
   "codemirror_mode": {
    "name": "ipython",
    "version": 3
   },
   "file_extension": ".py",
   "mimetype": "text/x-python",
   "name": "python",
   "nbconvert_exporter": "python",
   "pygments_lexer": "ipython3",
   "version": "3.11.9"
  }
 },
 "nbformat": 4,
 "nbformat_minor": 5
}
