{
 "cells": [
  {
   "cell_type": "markdown",
   "id": "cf34cf59-9ded-45a9-a76b-f2b6a0e546eb",
   "metadata": {},
   "source": [
    "# Chapter 1"
   ]
  },
  {
   "cell_type": "markdown",
   "id": "4e5de66a-1fb7-4359-82da-3fec44f33f95",
   "metadata": {},
   "source": [
    "# LangChain examples"
   ]
  },
  {
   "cell_type": "markdown",
   "id": "a1d84516-cb8e-479b-8a88-d89ef01092da",
   "metadata": {},
   "source": [
    "## Sentence completion example"
   ]
  },
  {
   "cell_type": "code",
   "execution_count": 1,
   "id": "090dee16-1747-4d81-a3fc-1ee5580e6237",
   "metadata": {},
   "outputs": [],
   "source": [
    "from langchain_openai import ChatOpenAI\n",
    "import getpass"
   ]
  },
  {
   "cell_type": "code",
   "execution_count": 3,
   "id": "5103ab31-31a7-469a-b0ae-75f5c836c041",
   "metadata": {},
   "outputs": [
    {
     "name": "stdin",
     "output_type": "stream",
     "text": [
      "Enter your OPENAI_API_KEY ········\n"
     ]
    }
   ],
   "source": [
    "OPENAI_API_KEY = getpass.getpass('Enter your OPENAI_API_KEY')"
   ]
  },
  {
   "cell_type": "code",
   "execution_count": 5,
   "id": "f9300c93-580a-4be1-8677-89150bec1763",
   "metadata": {},
   "outputs": [
    {
     "data": {
      "text/plain": [
       "AIMessage(content=\"beach to cool off and relax in the water. The sun is shining, the waves are crashing, and the sand is warm beneath my feet. I can't think of a better way to spend a hot day than by soaking up the sun and enjoying the refreshing ocean breeze.\", response_metadata={'finish_reason': 'stop', 'logprobs': None})"
      ]
     },
     "execution_count": 5,
     "metadata": {},
     "output_type": "execute_result"
    }
   ],
   "source": [
    "llm = ChatOpenAI(openai_api_key=OPENAI_API_KEY,\n",
    "                 model_name=\"gpt-3.5-turbo\")\n",
    "llm.invoke(\"It's a hot day, I would like to go to the\")"
   ]
  },
  {
   "cell_type": "markdown",
   "id": "9f6b7ccc-f577-4f64-939f-1696c259bb60",
   "metadata": {},
   "source": [
    "## Simple prompt"
   ]
  },
  {
   "cell_type": "code",
   "execution_count": 6,
   "id": "7abd29fe-92c4-46e8-a158-7aaefcb31a9b",
   "metadata": {},
   "outputs": [
    {
     "name": "stdout",
     "output_type": "stream",
     "text": [
      "Just a friendly reminder to stay vigilant against phishing attacks. Always double check the sender's email address and think twice before clicking on any suspicious links or providing personal information. Your security is important, so don't let scammers catch you off guard. Stay safe online! 👀🔒 #CyberSecurity #PhishingAwareness\n"
     ]
    }
   ],
   "source": [
    "prompt_input = \"\"\"Write a short message to remind users to be \n",
    "vigilant about phishing attacks.\"\"\"\n",
    "response = llm.invoke(prompt_input)\n",
    "\n",
    "print(response.content)"
   ]
  },
  {
   "cell_type": "markdown",
   "id": "5f67b643-e39a-4cd3-bafa-6aef5c20eb00",
   "metadata": {},
   "source": [
    "## Prompt instantiated thorugh a PromptTemplate"
   ]
  },
  {
   "cell_type": "code",
   "execution_count": 7,
   "id": "973baffb-bd6b-4ae3-8718-5aa4803524ae",
   "metadata": {},
   "outputs": [
    {
     "name": "stdout",
     "output_type": "stream",
     "text": [
      "The Roman Aqueduct of Segovia in Spain channeled water to the city's fountains and baths, symbolizing the city's rich history.\n"
     ]
    }
   ],
   "source": [
    "from langchain_core.prompts import PromptTemplate\n",
    "\n",
    "segovia_aqueduct_text = \"The Aqueduct of Segovia (Spanish: Acueducto de Segovia) is a Roman aqueduct in Segovia, Spain. It was built around the first century AD to channel water from springs in the mountains 17 kilometres (11 mi) away to the city's fountains, public baths and private houses, and was in use until 1973. Its elevated section, with its complete arcade of 167 arches, is one of the best-preserved Roman aqueduct bridges and the foremost symbol of Segovia, as evidenced by its presence on the city's coat of arms. The Old Town of Segovia and the aqueduct, were declared a UNESCO World Heritage Site in 1985. As the aqueduct lacks a legible inscription (one was apparently located in the structure's attic, or top portion[citation needed]), the date of construction cannot be definitively determined. The general date of the Aqueduct's construction was long a mystery, although it was thought to have been during the 1st century AD, during the reigns of the Emperors Domitian, Nerva, and Trajan. At the end of the 20th century, Géza Alföldy deciphered the text on the dedication plaque by studying the anchors that held the now missing bronze letters in place. He determined that Emperor Domitian (AD 81–96) ordered its construction[1] and the year 98 AD was proposed as the most likely date of completion.[2] However, in 2016 archeological evidence was published which points to a slightly later date, after 112 AD, during the government of Trajan or in the beginning of the government of emperor Hadrian, from 117 AD.\"\n",
    "\n",
    "prompt_template = PromptTemplate.from_template(\"You are an experienced copywriter. Write a {num_words} words summary the the following text, using a {tone} tone: {text}\")\n",
    "\n",
    "prompt_input = prompt_template.format(\n",
    "    text=segovia_aqueduct_text, \n",
    "    num_words=20, \n",
    "    tone=\"knowledgeable and engaging\")\n",
    "response = llm.invoke(prompt_input)\n",
    "print(response.content)"
   ]
  },
  {
   "cell_type": "markdown",
   "id": "d344e4b9-30af-4e72-95ab-a8c652c7f900",
   "metadata": {},
   "source": [
    "## Chain example"
   ]
  },
  {
   "cell_type": "code",
   "execution_count": 8,
   "id": "232b13ad-625b-4191-bf89-21ef4868020e",
   "metadata": {},
   "outputs": [],
   "source": [
    "prompt_template = PromptTemplate.from_template(\"You are an experienced copywriter. Write a {num_words} words summary of the following text, using a {tone} tone: {text}\")\n",
    "llm = ChatOpenAI(openai_api_key=OPENAI_API_KEY,\n",
    "                 model_name=\"gpt-3.5-turbo\")\n",
    "\n",
    "chain = prompt_template | llm"
   ]
  },
  {
   "cell_type": "code",
   "execution_count": 9,
   "id": "89fc88c7-8b77-43cf-90fd-05fb4c00a497",
   "metadata": {},
   "outputs": [
    {
     "name": "stdout",
     "output_type": "stream",
     "text": [
      "The Aqueduct of Segovia, a Roman marvel, brought water to the city for centuries. Its construction dates back to AD 98.\n"
     ]
    }
   ],
   "source": [
    "response = chain.invoke({\"text\": segovia_aqueduct_text, \n",
    "              \"num_words\": 20, \n",
    "              \"tone\": \"knowledgeable and engaging\"})\n",
    "print(response.content)"
   ]
  },
  {
   "cell_type": "code",
   "execution_count": null,
   "id": "f4ae66a4-6398-4b47-babc-7f0d77d1670a",
   "metadata": {},
   "outputs": [],
   "source": []
  }
 ],
 "metadata": {
  "kernelspec": {
   "display_name": "Python 3 (ipykernel)",
   "language": "python",
   "name": "python3"
  },
  "language_info": {
   "codemirror_mode": {
    "name": "ipython",
    "version": 3
   },
   "file_extension": ".py",
   "mimetype": "text/x-python",
   "name": "python",
   "nbconvert_exporter": "python",
   "pygments_lexer": "ipython3",
   "version": "3.11.8"
  }
 },
 "nbformat": 4,
 "nbformat_minor": 5
}
