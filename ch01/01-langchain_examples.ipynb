{
 "cells": [
  {
   "cell_type": "markdown",
   "id": "cf34cf59-9ded-45a9-a76b-f2b6a0e546eb",
   "metadata": {},
   "source": [
    "# Chapter 1"
   ]
  },
  {
   "cell_type": "markdown",
   "id": "4e5de66a-1fb7-4359-82da-3fec44f33f95",
   "metadata": {},
   "source": [
    "# LangChain examples"
   ]
  },
  {
   "cell_type": "markdown",
   "id": "a1d84516-cb8e-479b-8a88-d89ef01092da",
   "metadata": {},
   "source": [
    "## Sentence completion example"
   ]
  },
  {
   "cell_type": "code",
   "execution_count": 1,
   "id": "090dee16-1747-4d81-a3fc-1ee5580e6237",
   "metadata": {},
   "outputs": [],
   "source": [
    "from langchain_openai import ChatOpenAI\n",
    "import getpass"
   ]
  },
  {
   "cell_type": "code",
   "execution_count": 2,
   "id": "5103ab31-31a7-469a-b0ae-75f5c836c041",
   "metadata": {},
   "outputs": [
    {
     "name": "stdin",
     "output_type": "stream",
     "text": [
      "Enter your OPENAI_API_KEY ········\n"
     ]
    }
   ],
   "source": [
    "OPENAI_API_KEY = getpass.getpass('Enter your OPENAI_API_KEY')"
   ]
  },
  {
   "cell_type": "code",
   "execution_count": 4,
   "id": "f9300c93-580a-4be1-8677-89150bec1763",
   "metadata": {},
   "outputs": [
    {
     "data": {
      "text/plain": [
       "AIMessage(content=\"It's a hot day, I would like to go to the beach! The sound of the waves, the feeling of the sand between my toes, and the opportunity to cool off in the water sounds perfect. Plus, I can bring along some snacks, a good book, and maybe even some beach games. How about you? Where would you like to go?\", additional_kwargs={'refusal': None}, response_metadata={'token_usage': {'completion_tokens': 72, 'prompt_tokens': 20, 'total_tokens': 92}, 'model_name': 'gpt-4o-mini-2024-07-18', 'system_fingerprint': 'fp_48196bc67a', 'finish_reason': 'stop', 'logprobs': None}, id='run-f88fbd15-4b71-4693-af46-832d5c732999-0', usage_metadata={'input_tokens': 20, 'output_tokens': 72, 'total_tokens': 92})"
      ]
     },
     "execution_count": 4,
     "metadata": {},
     "output_type": "execute_result"
    }
   ],
   "source": [
    "llm = ChatOpenAI(openai_api_key=OPENAI_API_KEY,\n",
    "                 model_name=\"gpt-4o-mini\")\n",
    "llm.invoke(\"It's a hot day, I would like to go to the...\")"
   ]
  },
  {
   "cell_type": "markdown",
   "id": "9f6b7ccc-f577-4f64-939f-1696c259bb60",
   "metadata": {},
   "source": [
    "## Simple prompt"
   ]
  },
  {
   "cell_type": "code",
   "execution_count": 5,
   "id": "7abd29fe-92c4-46e8-a158-7aaefcb31a9b",
   "metadata": {},
   "outputs": [
    {
     "name": "stdout",
     "output_type": "stream",
     "text": [
      "🚨 **Reminder: Stay Vigilant Against Phishing Attacks!** 🚨\n",
      "\n",
      "Always be cautious when clicking on links or opening attachments in emails, especially from unknown sources. Verify the sender's identity and look for signs of phishing, such as poor grammar or urgent requests for personal information. Your awareness is your best defense!\n",
      "\n",
      "Stay safe online! 🌐🔒\n"
     ]
    }
   ],
   "source": [
    "prompt_input = \"\"\"Write a short message to remind users to be \n",
    "vigilant about phishing attacks.\"\"\"\n",
    "response = llm.invoke(prompt_input)\n",
    "\n",
    "print(response.content)"
   ]
  },
  {
   "cell_type": "markdown",
   "id": "5f67b643-e39a-4cd3-bafa-6aef5c20eb00",
   "metadata": {},
   "source": [
    "## Prompt instantiated thorugh a PromptTemplate"
   ]
  },
  {
   "cell_type": "code",
   "execution_count": 6,
   "id": "973baffb-bd6b-4ae3-8718-5aa4803524ae",
   "metadata": {},
   "outputs": [
    {
     "name": "stdout",
     "output_type": "stream",
     "text": [
      "The Aqueduct of Segovia, a UNESCO World Heritage Site, showcases Roman engineering, channeling water since the 1st century AD.\n"
     ]
    }
   ],
   "source": [
    "from langchain_core.prompts import PromptTemplate\n",
    "\n",
    "segovia_aqueduct_text = \"The Aqueduct of Segovia (Spanish: Acueducto de Segovia) is a Roman aqueduct in Segovia, Spain. It was built around the first century AD to channel water from springs in the mountains 17 kilometres (11 mi) away to the city's fountains, public baths and private houses, and was in use until 1973. Its elevated section, with its complete arcade of 167 arches, is one of the best-preserved Roman aqueduct bridges and the foremost symbol of Segovia, as evidenced by its presence on the city's coat of arms. The Old Town of Segovia and the aqueduct, were declared a UNESCO World Heritage Site in 1985. As the aqueduct lacks a legible inscription (one was apparently located in the structure's attic, or top portion[citation needed]), the date of construction cannot be definitively determined. The general date of the Aqueduct's construction was long a mystery, although it was thought to have been during the 1st century AD, during the reigns of the Emperors Domitian, Nerva, and Trajan. At the end of the 20th century, Géza Alföldy deciphered the text on the dedication plaque by studying the anchors that held the now missing bronze letters in place. He determined that Emperor Domitian (AD 81–96) ordered its construction[1] and the year 98 AD was proposed as the most likely date of completion.[2] However, in 2016 archeological evidence was published which points to a slightly later date, after 112 AD, during the government of Trajan or in the beginning of the government of emperor Hadrian, from 117 AD.\"\n",
    "\n",
    "prompt_template = PromptTemplate.from_template(\"You are an experienced copywriter. Write a {num_words} words summary the the following text, using a {tone} tone: {text}\")\n",
    "\n",
    "prompt_input = prompt_template.format(\n",
    "    text=segovia_aqueduct_text, \n",
    "    num_words=20, \n",
    "    tone=\"knowledgeable and engaging\")\n",
    "response = llm.invoke(prompt_input)\n",
    "print(response.content)"
   ]
  },
  {
   "cell_type": "markdown",
   "id": "d344e4b9-30af-4e72-95ab-a8c652c7f900",
   "metadata": {},
   "source": [
    "## Chain example"
   ]
  },
  {
   "cell_type": "code",
   "execution_count": 7,
   "id": "232b13ad-625b-4191-bf89-21ef4868020e",
   "metadata": {},
   "outputs": [],
   "source": [
    "prompt_template = PromptTemplate.from_template(\"You are an experienced copywriter. Write a {num_words} words summary of the following text, using a {tone} tone: {text}\")\n",
    "llm = ChatOpenAI(openai_api_key=OPENAI_API_KEY,\n",
    "                 model_name=\"gpt-4o-mini\")\n",
    "\n",
    "chain = prompt_template | llm"
   ]
  },
  {
   "cell_type": "code",
   "execution_count": 8,
   "id": "89fc88c7-8b77-43cf-90fd-05fb4c00a497",
   "metadata": {},
   "outputs": [
    {
     "name": "stdout",
     "output_type": "stream",
     "text": [
      "The Aqueduct of Segovia, a Roman engineering marvel, supplied water for centuries and symbolizes Segovia’s rich history and heritage.\n"
     ]
    }
   ],
   "source": [
    "response = chain.invoke({\"text\": segovia_aqueduct_text, \n",
    "              \"num_words\": 20, \n",
    "              \"tone\": \"knowledgeable and engaging\"})\n",
    "print(response.content)"
   ]
  }
 ],
 "metadata": {
  "kernelspec": {
   "display_name": "Python 3 (ipykernel)",
   "language": "python",
   "name": "python3"
  },
  "language_info": {
   "codemirror_mode": {
    "name": "ipython",
    "version": 3
   },
   "file_extension": ".py",
   "mimetype": "text/x-python",
   "name": "python",
   "nbconvert_exporter": "python",
   "pygments_lexer": "ipython3",
   "version": "3.11.9"
  }
 },
 "nbformat": 4,
 "nbformat_minor": 5
}
