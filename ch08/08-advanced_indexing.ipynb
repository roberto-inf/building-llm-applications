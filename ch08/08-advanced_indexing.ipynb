{
 "cells": [
  {
   "cell_type": "markdown",
   "id": "739ce82d-0ef5-440f-9078-d39da6ff70cb",
   "metadata": {},
   "source": [
    "# Advanced document indexing"
   ]
  },
  {
   "cell_type": "markdown",
   "id": "c38a17c4-e8fc-4853-b4e9-a6ca2748f7f4",
   "metadata": {},
   "source": [
    "# Splitting and ingesting HTML content"
   ]
  },
  {
   "cell_type": "markdown",
   "id": "2418535c-34b3-41d4-a39e-9f4437005770",
   "metadata": {},
   "source": [
    "## Splitting and ingesting the content of a single URL (on Cornwall)"
   ]
  },
  {
   "cell_type": "markdown",
   "id": "1d153f79-0c7b-434f-af28-8633bd247a64",
   "metadata": {},
   "source": [
    "### Preparing the Chroma DB collections"
   ]
  },
  {
   "cell_type": "code",
   "execution_count": 1,
   "id": "45a99200-cec0-4b1f-8890-158d9dc03600",
   "metadata": {},
   "outputs": [
    {
     "name": "stdin",
     "output_type": "stream",
     "text": [
      "Enter your OPENAI_API_KEY ········\n"
     ]
    }
   ],
   "source": [
    "from langchain_chroma import Chroma\n",
    "from langchain_openai import OpenAIEmbeddings\n",
    "import getpass\n",
    "\n",
    "OPENAI_API_KEY = getpass.getpass('Enter your OPENAI_API_KEY')"
   ]
  },
  {
   "cell_type": "code",
   "execution_count": 2,
   "id": "4877db90-cf76-413d-b1b2-f0cd325d10bf",
   "metadata": {},
   "outputs": [],
   "source": [
    "corwnall_granular_collection = Chroma( #A\n",
    "    collection_name=\"cornwall_granular\",\n",
    "    embedding_function=OpenAIEmbeddings(openai_api_key=OPENAI_API_KEY),\n",
    ")\n",
    "\n",
    "corwnall_granular_collection.reset_collection() #B\n",
    "# A Create a Chorma DB collection\n",
    "# B Reset the collection in case it already exists "
   ]
  },
  {
   "cell_type": "code",
   "execution_count": 3,
   "id": "b0c53231-047a-44fc-a196-81e2daaca6e4",
   "metadata": {},
   "outputs": [],
   "source": [
    "corwnall_coarse_collection = Chroma( #A \n",
    "    collection_name=\"cornwall_coarse\",\n",
    "    embedding_function=OpenAIEmbeddings(openai_api_key=OPENAI_API_KEY),\n",
    ")\n",
    "\n",
    "corwnall_coarse_collection.reset_collection() #B\n",
    "# A Create a Chorma DB collection\n",
    "# B Reset the collection in case it already exists "
   ]
  },
  {
   "cell_type": "markdown",
   "id": "08bdfc67-ad34-45c8-b504-822e9b53cea2",
   "metadata": {},
   "source": [
    "### Loading the HTML content with the AsyncHtmlLoader "
   ]
  },
  {
   "cell_type": "code",
   "execution_count": 4,
   "id": "f5620241-3a25-4d4e-94ef-355c9cbfd407",
   "metadata": {},
   "outputs": [
    {
     "name": "stderr",
     "output_type": "stream",
     "text": [
      "USER_AGENT environment variable not set, consider setting it to identify your requests.\n"
     ]
    }
   ],
   "source": [
    "from langchain_community.document_loaders import AsyncHtmlLoader"
   ]
  },
  {
   "cell_type": "code",
   "execution_count": 5,
   "id": "a927c374-e1f7-45b4-af62-66bbec1fb51f",
   "metadata": {},
   "outputs": [],
   "source": [
    "destination_url = \"https://en.wikivoyage.org/wiki/Cornwall\""
   ]
  },
  {
   "cell_type": "code",
   "execution_count": 6,
   "id": "6a47b89c-beec-47eb-827a-7f380e848fae",
   "metadata": {},
   "outputs": [],
   "source": [
    "html_loader = AsyncHtmlLoader(destination_url)"
   ]
  },
  {
   "cell_type": "code",
   "execution_count": 7,
   "id": "0e928c48-085b-4937-8fdf-f868b553cfae",
   "metadata": {},
   "outputs": [
    {
     "name": "stderr",
     "output_type": "stream",
     "text": [
      "Fetching pages: 100%|####################################################################| 1/1 [00:00<00:00, 12.19it/s]\n"
     ]
    }
   ],
   "source": [
    "docs = html_loader.load()"
   ]
  },
  {
   "cell_type": "code",
   "execution_count": 8,
   "id": "c6e42f6f-663c-4116-90b3-b56ea7a50fb1",
   "metadata": {},
   "outputs": [
    {
     "data": {
      "text/plain": [
       "1"
      ]
     },
     "execution_count": 8,
     "metadata": {},
     "output_type": "execute_result"
    }
   ],
   "source": [
    "len(docs)"
   ]
  },
  {
   "cell_type": "markdown",
   "id": "e00158d4-e67d-4e01-b12b-38b2a8ba347b",
   "metadata": {},
   "source": [
    "### Splitting into granular chunks with the HTMLSectionSplitter "
   ]
  },
  {
   "cell_type": "code",
   "execution_count": 9,
   "id": "f9b8036a-ac0a-4004-8a9c-e92544a28e99",
   "metadata": {},
   "outputs": [],
   "source": [
    "from langchain_text_splitters import HTMLSectionSplitter"
   ]
  },
  {
   "cell_type": "code",
   "execution_count": 10,
   "id": "ffcea321-138c-427b-b642-427303c42f91",
   "metadata": {},
   "outputs": [],
   "source": [
    "headers_to_split_on = [(\"h1\", \"Header 1\"), (\"h2\", \"Header 2\")]\n",
    "html_section_splitter = HTMLSectionSplitter(headers_to_split_on=headers_to_split_on)"
   ]
  },
  {
   "cell_type": "code",
   "execution_count": 11,
   "id": "7b12d403-7627-4fd2-8e1a-86d42d11004b",
   "metadata": {},
   "outputs": [],
   "source": [
    "def split_docs_into_granular_chunks(docs):\n",
    "    all_chunks = []\n",
    "    for doc in docs:\n",
    "        html_string = doc.page_content #A\n",
    "        temp_chunks = html_section_splitter.split_text(html_string) #B\n",
    "        all_chunks.extend(temp_chunks) \n",
    "\n",
    "    return all_chunks\n",
    "\n",
    "#A Extract the HTML text from the document\n",
    "#B Each chunk is a H1 or H2 HTML section"
   ]
  },
  {
   "cell_type": "code",
   "execution_count": 12,
   "id": "0b4bef60-adfc-424a-8a77-27cae095d4f1",
   "metadata": {},
   "outputs": [],
   "source": [
    "granular_chunks = split_docs_into_granular_chunks(docs)"
   ]
  },
  {
   "cell_type": "markdown",
   "id": "048b027e-e6c0-4615-bc2e-f28180e9dfd8",
   "metadata": {},
   "source": [
    "#### Ingesting granular chunks"
   ]
  },
  {
   "cell_type": "code",
   "execution_count": 13,
   "id": "58d3efc5-75ab-4d55-8a80-9e01575927e4",
   "metadata": {},
   "outputs": [
    {
     "data": {
      "text/plain": [
       "['b9c14bb0-df2b-419b-b9a1-fbfd86baa2f8',\n",
       " 'e4abd12a-76bc-43b8-8193-a8edaef6c3b7',\n",
       " '2a474d9d-126b-41db-9ca5-c4c40e867042',\n",
       " '64fd22d1-940d-4aef-b669-1c4f2be252a8',\n",
       " 'e3a98100-6ccc-410c-aa0d-43bf771f4786',\n",
       " '9ca7f437-779f-46aa-aca1-20f2d27662c6',\n",
       " '6e4f6c70-326e-4ecb-81a2-f2f461546885',\n",
       " '58311f9b-5272-499b-b65b-65b7a8bdb5be',\n",
       " '183297d1-50af-4a51-8f1c-035c8815e9dd',\n",
       " '4a4a1dfe-d224-41e7-853a-fbe6d7b31c0d',\n",
       " 'cb2e8abf-5219-47f8-80a4-fce5b404195c',\n",
       " 'ce5fd4be-e0ff-409f-bb22-f4f7fa10d471',\n",
       " '202d70ec-3a6c-4636-9f55-08e6a55684dc',\n",
       " 'da43bdfb-c230-4379-9e51-9ed55a69c459',\n",
       " 'f617c6aa-1196-4775-be46-64d4c7023c29',\n",
       " '3a26b362-da08-482b-87b2-95aca6a40f4d',\n",
       " 'c076fa1e-a367-43f8-8989-6837f43bbfe0',\n",
       " 'aaf63c58-5b9e-433e-b789-3a73737b3023',\n",
       " 'db3bbd8e-6712-4f95-886f-67225c4b099f']"
      ]
     },
     "execution_count": 13,
     "metadata": {},
     "output_type": "execute_result"
    }
   ],
   "source": [
    "corwnall_granular_collection.add_documents(documents=granular_chunks)"
   ]
  },
  {
   "cell_type": "markdown",
   "id": "e8e72466-1ef1-4a3c-88e4-f1c930a9c71e",
   "metadata": {},
   "source": [
    "#### Searching granular chunks"
   ]
  },
  {
   "cell_type": "code",
   "execution_count": 14,
   "id": "f7f42d07-741e-4dc3-8ad6-09ce280b27dd",
   "metadata": {},
   "outputs": [
    {
     "name": "stdout",
     "output_type": "stream",
     "text": [
      "page_content='Cornwall' metadata={'Header 1': 'Cornwall'}\n",
      "page_content='Festivals \n",
      " [ edit ] \n",
      " \n",
      " These festivals tend to not be public holidays and not all are celebrated fully across the county. \n",
      "   \n",
      " AberFest \n",
      " .   A Celtic cultural festival celebrating “All things” Cornish and Breton that takes place biennially (every two years) in Cornwall at Easter. The AberFest Festival alternates with the Breizh – Kernow Festival that is held in Brandivy and Bignan (in Breizh/Bretagne – France) on the alternate years.       ( updated Jun 2023 ) \n",
      " Golowan , sometimes also  Goluan  or  Gol-Jowan  is the Cornish word for the Midsummer celebrations, most popular in the Penwith area and in particular  Penzance  and  Newlyn . The celebrations are conducted from the 23rd of June (St John's Eve) to the 28th of June (St Peter's Eve) each year, St Peter's Eve being the more popular in Cornish fishing communities. The celebrations are centred around the lighting of bonfires and fireworks and the performance of associated rituals. Some towns have a street-parade during this period. \n",
      " Guldize  is an ancient harvest festival in Autumn, which involved the \"crying of the neck\" ritual of chanting in the corn field. A revived Guldize celebration is held in  Penzance , and in several other locations across Cornwall. \n",
      " Nickanan Night  is traditionally held on the Monday before Lent. This event is an excuse for local youths to undertake acts of minor vandalism and play practical jokes on neighbours and family. The name Nickanan may come from the practice of knocking on doors and running away, known as 'Nick Nack' in some parts of the English-speaking world. The eating of pea soup and salt bacon is also associated with this date. \n",
      " Noze looan  is a style of Cornish-Celtic dance, and associated music and events similar to the Breton Fest, Noz. Noze Looan is late Cornish for \"happy night\" \n",
      " Picrous Day  is celebrated by the tin miners of Cornwall on the 2nd Thursday before Christmas. Luxulyan, 4 miles NE of  St Austell , hosts a particular big party. \n",
      " Shrove Tuesday Hurling : \"Cornish hurling\" or \"silverball\" (Cornish:  Hyrlîan ) is a medieval game once common throughout Cornwall but now only played in  St Columb (Major)  and  St Ives . The St Columb's game takes place first on Pancake Day (moves around in February) and then again on the Saturday eleven days later. The game involves two teams of several hundred people (the 'townsmen' and the 'countrymen') who endeavour to carry a silver ball made of apple wood to goals set roughly two miles (3   km) apart, making the parish the largest pitch for a ball game anywhere in the world. The annual St. Ives hurling match happens on Feast Monday each February (the feast is on the Sunday nearest to February 3).  \n",
      " St Piran's Day  (Cornish:  Gool Peran ) is the national day of Cornwall, held on 5 March every year. There is large parties widespread across the whole of Cornwall, with people dressing in the black, white and silver national colours.  \n",
      " Tom Bawcock's Eve : on 23rd December, stargazey pies are traditionally consumed. In mythology, pies were seen bizarrely as the reason the devil stayed out of Cornwall.' metadata={'Header 2': 'Festivals'}\n",
      "page_content='Do \n",
      " [ edit ] \n",
      " \n",
      " The  South West Coast Path  runs along the coastline of Britain’s south-west peninsula. The Cornish section is supposed to be the most scenic (unless you talk to someone in Devon, in which case the Devon part is most scenic). It is particularly scenic around Penwith and the Lizard. The trail takes walkers to busy towns, remote cliffs, beaches, heaths, farms and fishing villages. Walking along it is a great way to experience the region in all its variety. (Walking the entire path takes several weeks, walking on a choice part of it is easier.) \n",
      " The  Camel Trail  is an  18-mile (29   km)  off-road cycle-track following the scenic estuary of the river Camel from  Padstow  to Wenford Bridge via  Wadebridge  and  Bodmin . \n",
      " The  Cornish Film Festival  is held annually each November around  Newquay . \n",
      " Cornwall, in particular Newquay, is the UK's  surfing  capital, with equipment hire and surf schools present on many of the county's beaches, and events like the UK championships or Boardmasters festival. \n",
      " \n",
      " Cricket:   Cornwall CCC  play in the National Counties Cricket Championship, the tier formerly known as \"Minor Counties\" below the first class competitions. They don't have a permanent ground but play at various venues including Camborne, Falmouth, Truro and St Austell.' metadata={'Header 2': 'Do'}\n"
     ]
    }
   ],
   "source": [
    "results = corwnall_granular_collection.similarity_search(query=\"Events or festivals in Cornwall\",k=3)\n",
    "for doc in results:\n",
    "    print(doc)"
   ]
  },
  {
   "cell_type": "markdown",
   "id": "81038e1f-86f6-4e7f-8da5-c2ef003d61bf",
   "metadata": {},
   "source": [
    "### Splitting into coarse chunks with the RecursiveCharacterTextSplitter "
   ]
  },
  {
   "cell_type": "code",
   "execution_count": 15,
   "id": "1d168303-dc45-4736-be14-9b463ffb8e0d",
   "metadata": {},
   "outputs": [],
   "source": [
    "from langchain_community.document_transformers import Html2TextTransformer\n",
    "from langchain_text_splitters import RecursiveCharacterTextSplitter"
   ]
  },
  {
   "cell_type": "code",
   "execution_count": 16,
   "id": "17e365d3-fe0a-4679-8e1c-ea61e7481a65",
   "metadata": {},
   "outputs": [],
   "source": [
    "html2text_transformer = Html2TextTransformer()"
   ]
  },
  {
   "cell_type": "code",
   "execution_count": 17,
   "id": "fd0f3dbc-af6b-45d5-bcb3-2be137c04edc",
   "metadata": {},
   "outputs": [],
   "source": [
    "text_splitter = RecursiveCharacterTextSplitter(\n",
    "    chunk_size=3000, chunk_overlap=300\n",
    ")"
   ]
  },
  {
   "cell_type": "code",
   "execution_count": 18,
   "id": "84f79ba7-c210-4aa1-be6f-eb2bd72f4974",
   "metadata": {},
   "outputs": [],
   "source": [
    "def split_docs_into_coarse_chunks(docs):\n",
    "    text_docs = html2text_transformer.transform_documents(docs) #A \n",
    "    coarse_chunks = text_splitter.split_documents(text_docs)\n",
    "\n",
    "    return coarse_chunks\n",
    "#A transform HTML docs into clean text docs"
   ]
  },
  {
   "cell_type": "code",
   "execution_count": 19,
   "id": "7f2a6e9a-f870-4d52-bc4f-73491f2dcc5f",
   "metadata": {},
   "outputs": [],
   "source": [
    "coarse_chunks = split_docs_into_coarse_chunks(docs)"
   ]
  },
  {
   "cell_type": "markdown",
   "id": "4717affa-f816-4ea8-8f75-32f97fbe26a1",
   "metadata": {},
   "source": [
    "#### Ingesting coarse chunks"
   ]
  },
  {
   "cell_type": "code",
   "execution_count": 20,
   "id": "3d2c8311-3d8b-42ae-8e02-08d3fea4b0b5",
   "metadata": {},
   "outputs": [
    {
     "data": {
      "text/plain": [
       "['27232a75-4a42-4282-ab64-3344e44cf96f',\n",
       " '312f1d28-b5e7-4ee3-a22c-63b7815307eb',\n",
       " 'bac9163e-eaf6-4922-aa1c-59be1cbeeed2',\n",
       " 'eda329d7-5f92-4116-a9d6-687dc5dbb7f0',\n",
       " 'dac09a60-99a2-47ea-90a0-0d1cdc21995f',\n",
       " '74fb0ed7-26b3-4bec-82ea-f1444e051e8a',\n",
       " '25466426-2621-4a9e-b0a6-43a6e2c5b74d',\n",
       " '041e677f-add7-4046-8d4f-6d5a62f17e11',\n",
       " '0a6512e8-85a9-44d3-a73b-1e4e77619dd2',\n",
       " '080564f9-0183-47a1-b96d-f99d1ea4fa09',\n",
       " '30968ebc-7ed6-4c73-a6d3-c37aaa8acbfd',\n",
       " 'f1f37961-9224-4e52-a56b-cf2661eb6dd4',\n",
       " 'be473a95-605a-425f-ad98-629fd8688b39',\n",
       " '42219dec-1af4-40c1-b716-8b44b9079922',\n",
       " '84cd07c8-d19e-4d8d-8860-7eb341fbb86b']"
      ]
     },
     "execution_count": 20,
     "metadata": {},
     "output_type": "execute_result"
    }
   ],
   "source": [
    "corwnall_coarse_collection.add_documents(documents=coarse_chunks)"
   ]
  },
  {
   "cell_type": "markdown",
   "id": "0a8e1d76-cfc7-46d6-b4c8-437eef7141f7",
   "metadata": {},
   "source": [
    "#### Searching coarse chunks"
   ]
  },
  {
   "cell_type": "code",
   "execution_count": 21,
   "id": "26bd68e0-6d3c-4580-a45d-83eab8b49055",
   "metadata": {},
   "outputs": [
    {
     "name": "stdout",
     "output_type": "stream",
     "text": [
      "page_content='### Spirits\n",
      "\n",
      "[edit]\n",
      "\n",
      "    _See also:Liquor_\n",
      "\n",
      "Gin and rum are also produced in Cornwall. A popular brand of Cornish rum is\n",
      "Dead Man's Fingers which has multiple flavours and is bottled in St. Ives.\n",
      "\n",
      "## Festivals\n",
      "\n",
      "[edit]\n",
      "\n",
      "These festivals tend to not be public holidays and not all are celebrated\n",
      "fully across the county.\n",
      "\n",
      "AberFest. A Celtic cultural festival celebrating “All things” Cornish and\n",
      "Breton that takes place biennially (every two years) in Cornwall at Easter.\n",
      "The AberFest Festival alternates with the Breizh – Kernow Festival that is\n",
      "held in Brandivy and Bignan (in Breizh/Bretagne – France) on the alternate\n",
      "years. (updated Jun 2023)\n",
      "\n",
      "**Golowan** , sometimes also _Goluan_ or _Gol-Jowan_ is the Cornish word for\n",
      "the Midsummer celebrations, most popular in the Penwith area and in particular\n",
      "Penzance and Newlyn. The celebrations are conducted from the 23rd of June (St\n",
      "John's Eve) to the 28th of June (St Peter's Eve) each year, St Peter's Eve\n",
      "being the more popular in Cornish fishing communities. The celebrations are\n",
      "centred around the lighting of bonfires and fireworks and the performance of\n",
      "associated rituals. Some towns have a street-parade during this period.\n",
      "\n",
      "**Guldize** is an ancient harvest festival in Autumn, which involved the\n",
      "\"crying of the neck\" ritual of chanting in the corn field. A revived Guldize\n",
      "celebration is held in Penzance, and in several other locations across\n",
      "Cornwall.\n",
      "\n",
      "**Nickanan Night** is traditionally held on the Monday before Lent. This event\n",
      "is an excuse for local youths to undertake acts of minor vandalism and play\n",
      "practical jokes on neighbours and family. The name Nickanan may come from the\n",
      "practice of knocking on doors and running away, known as 'Nick Nack' in some\n",
      "parts of the English-speaking world. The eating of pea soup and salt bacon is\n",
      "also associated with this date.\n",
      "\n",
      "**Noze looan** is a style of Cornish-Celtic dance, and associated music and\n",
      "events similar to the Breton Fest, Noz. Noze Looan is late Cornish for \"happy\n",
      "night\"\n",
      "\n",
      "**Picrous Day** is celebrated by the tin miners of Cornwall on the 2nd\n",
      "Thursday before Christmas. Luxulyan, 4 miles NE of St Austell, hosts a\n",
      "particular big party.\n",
      "\n",
      "**Shrove Tuesday Hurling** : \"Cornish hurling\" or \"silverball\" (Cornish:\n",
      "_Hyrlîan_) is a medieval game once common throughout Cornwall but now only\n",
      "played in St Columb (Major) and St Ives. The St Columb's game takes place\n",
      "first on Pancake Day (moves around in February) and then again on the Saturday\n",
      "eleven days later. The game involves two teams of several hundred people (the\n",
      "'townsmen' and the 'countrymen') who endeavour to carry a silver ball made of\n",
      "apple wood to goals set roughly two miles (3 km) apart, making the parish the\n",
      "largest pitch for a ball game anywhere in the world. The annual St. Ives\n",
      "hurling match happens on Feast Monday each February (the feast is on the\n",
      "Sunday nearest to February 3).' metadata={'language': 'en', 'source': 'https://en.wikivoyage.org/wiki/Cornwall', 'title': 'Cornwall – Travel guide at Wikivoyage'}\n",
      "page_content='* The **Camel Trail** is an 18-mile (29 km) off-road cycle-track following the scenic estuary of the river Camel from Padstow to Wenford Bridge via Wadebridge and Bodmin.\n",
      "\n",
      "  * The **Cornish Film Festival** is held annually each November around Newquay.\n",
      "\n",
      "  * Cornwall, in particular Newquay, is the UK's **surfing** capital, with equipment hire and surf schools present on many of the county's beaches, and events like the UK championships or Boardmasters festival.\n",
      "\n",
      "  * **Cricket:** Cornwall CCC play in the National Counties Cricket Championship, the tier formerly known as \"Minor Counties\" below the first class competitions. They don't have a permanent ground but play at various venues including Camborne, Falmouth, Truro and St Austell.\n",
      "\n",
      "## Eat\n",
      "\n",
      "[edit]\n",
      "\n",
      "Cornwall has become famous for its Michelin-starred seafood restaurants, with\n",
      "Jamie Oliver and Rick Stein opening swanky restaurants in the county/country.\n",
      "Cornwall may have the most distinct and finest cuisine of all Britain, and a\n",
      "number of regional specialities, such as:\n",
      "\n",
      "### Savoury\n",
      "\n",
      "[edit]\n",
      "\n",
      "Cornish Pasty\n",
      "\n",
      "  * Cornish Caudle Chicken Pie. \n",
      "  * Cornish Pasty. A semi-circular pocket of soft or flakey pastry, usually filled with meat, turnip, onion and potatoes with a crimped crust to hold whilst munching. Traditionally, the pasty was held by the crust due to the miner's dirty hands and then discarded to avoid ingesting poisonous materials such as lead. (updated Mar 2017)\n",
      "  * Gevrik cheese. A soft, full-fat goat's milk cheese. Its name means _Little Goat_ in Cornish. (updated Nov 2017)\n",
      "  * Hog's pudding. A spicy thick white sausage which is sliced then grilled or fried. (updated Mar 2017)\n",
      "  * Seafood. Cornwall has a long tradition of seafood specialties including crowled pilchards, salmon cake and fish cream stew. (updated Mar 2017)\n",
      "  * Squab pie. A mutton pie with a shortcrust pastry lid. It should be made with at least one layer of onions, followed by alternating layers of sliced apples and mutton chops. (updated Mar 2017)\n",
      "  * Star Gazey pie. A mixed fish, potato and egg dish with fish heads 'escaping'. The pie is cooked as part of traditional celebrations for Tom Bawcock's Eve, but is not generally eaten at any other time. (updated Mar 2017)\n",
      "  * Yarg cheese. A semi-hard cow's milk cheese made in Cornwall. It is covered around the outside with nettles. An alternative variety is covered with wild garlic leaves. (updated May 2023)\n",
      "  * Vegetarian food. Easy to find in Cornwall - even in tiny towns with just one pub there is frequently a meatless option. (updated Mar 2017)\n",
      "\n",
      "### Sweet\n",
      "\n",
      "[edit]\n",
      "\n",
      "Cornish cream tea – scones with jam and clotted cream' metadata={'language': 'en', 'source': 'https://en.wikivoyage.org/wiki/Cornwall', 'title': 'Cornwall – Travel guide at Wikivoyage'}\n",
      "page_content='**St Piran's Day** (Cornish: _Gool Peran_) is the national day of Cornwall,\n",
      "held on 5 March every year. There is large parties widespread across the whole\n",
      "of Cornwall, with people dressing in the black, white and silver national\n",
      "colours.\n",
      "\n",
      "**Tom Bawcock's Eve** : on 23rd December, stargazey pies are traditionally\n",
      "consumed. In mythology, pies were seen bizarrely as the reason the devil\n",
      "stayed out of Cornwall.\n",
      "\n",
      "## Sleep\n",
      "\n",
      "[edit]\n",
      "\n",
      "    _Main article:Sleep_\n",
      "\n",
      "Cornwall has a large range of tourist accommodation, ranging from 5-star\n",
      "luxury hotels to B&Bs, guest houses and hostels. There is also a large number\n",
      "of serviced holiday cottages that can be rented from anything from a long\n",
      "weekend to upwards of a month.\n",
      "\n",
      "There are Tourist Information Centres (TICs) in most major towns. These are\n",
      "normally run by the local council and can check the latest availability on the\n",
      "day to save having to phone around a number of B&Bs and guest houses. They are\n",
      "unbiased and won't express an opinion on accommodations, more than giving its\n",
      "tourist board rating and facilities.\n",
      "\n",
      "## Stay safe\n",
      "\n",
      "[edit]\n",
      "\n",
      "Visitors to Cornwall should at all times be aware of the unpredictable and\n",
      "dangerous nature of some of the tides and currents around the Cornish coast\n",
      "and seek advice from local lifeguards before swimming or surfing. There is a\n",
      "small chance of getting great white or tiger sharks off the south coast, but\n",
      "don't let this worry you as they are very very rarely seen, and there have\n",
      "been no known attacks.\n",
      "\n",
      "Cornwall's roads become very dangerous in summer due to the influx of tourists\n",
      "to the region. The local infrastructure is very poor and often cannot cope\n",
      "with the traffic. Drive sensibly and with caution.\n",
      "\n",
      "Be very alert when driving at night as some roads, especially the A39 in North\n",
      "Cornwall, contain sudden hairpin bends that are deceptively sharp and are not\n",
      "illuminated by street lighting. There is also a risk of running over nocturnal\n",
      "wildlife. Use your headlights' full beam where possible and err on the side of\n",
      "caution.\n",
      "\n",
      "Newquay in the summer attracts tens of thousands of tourists, and with that\n",
      "inevitably comes increased crime during the months of June, July and August.\n",
      "Assaults and muggings are particularly common, usually at night and often down\n",
      "on some of Newquay's many beaches.\n",
      "\n",
      "Crime rates are mostly low in Cornwall, but there are some impoverished areas\n",
      "of some towns where crime is more common. Occasionally, outsiders can attract\n",
      "attention in local pubs, but this is no worse than in other areas of the\n",
      "country.' metadata={'language': 'en', 'source': 'https://en.wikivoyage.org/wiki/Cornwall', 'title': 'Cornwall – Travel guide at Wikivoyage'}\n"
     ]
    }
   ],
   "source": [
    "results = corwnall_coarse_collection.similarity_search(query=\"Events or festivals in Cornwall\",k=3)\n",
    "for doc in results:\n",
    "    print(doc)"
   ]
  },
  {
   "cell_type": "markdown",
   "id": "11b9c2de-b7a7-47ff-a73a-ef2ce11c220a",
   "metadata": {},
   "source": [
    "## Splitting and ingesting the content of various URLs (across UK destinations)"
   ]
  },
  {
   "cell_type": "markdown",
   "id": "65b72d93-ed5e-4ffc-9a05-25a52173f287",
   "metadata": {},
   "source": [
    "### Preparing the Chroma DB collections"
   ]
  },
  {
   "cell_type": "code",
   "execution_count": 22,
   "id": "d77d53a8-d98f-4d8c-a1cd-35848d24fae8",
   "metadata": {},
   "outputs": [],
   "source": [
    "uk_granular_collection = Chroma( #A\n",
    "    collection_name=\"uk_granular\",\n",
    "    embedding_function=OpenAIEmbeddings(openai_api_key=OPENAI_API_KEY),\n",
    ")\n",
    "\n",
    "uk_granular_collection.reset_collection() #B"
   ]
  },
  {
   "cell_type": "code",
   "execution_count": 23,
   "id": "1101f4b8-14f2-40b4-b560-afe0387c31d5",
   "metadata": {},
   "outputs": [],
   "source": [
    "uk_coarse_collection = Chroma( #A\n",
    "    collection_name=\"uk_coarse\",\n",
    "    embedding_function=OpenAIEmbeddings(openai_api_key=OPENAI_API_KEY),\n",
    ")\n",
    "\n",
    "uk_coarse_collection.reset_collection() #B"
   ]
  },
  {
   "cell_type": "markdown",
   "id": "7a8c1fad-3668-4687-8ba4-7952cbe17fc6",
   "metadata": {},
   "source": [
    "### Splitting and ingesting HTML content with the HTMLSectionSplitter "
   ]
  },
  {
   "cell_type": "code",
   "execution_count": 37,
   "id": "9e5d0d18-6fd3-4c66-bac2-7ea1c6dcfb59",
   "metadata": {},
   "outputs": [],
   "source": [
    "# Reduce this list if you want to save on processing fees\n",
    "uk_destinations = [\n",
    "    \"Cornwall\", \"North_Cornwall\", \"South_Cornwall\", \"West_Cornwall\", \n",
    "    \"Tintagel\", \"Bodmin\", \"Wadebridge\", \"Penzance\", \"Newquay\",\n",
    "    \"St_Ives\", \"Port_Isaac\", \"Looe\", \"Polperro\", \"Porthleven\"\n",
    "    \"East_Sussex\", \"Brighton\", \"Battle\", \"Hastings_(England)\", \n",
    "    \"Rye_(England)\", \"Seaford\", \"Ashdown_Forest\"\n",
    "] \n",
    "\n",
    "wikivoyage_root_url = \"https://en.wikivoyage.org/wiki\""
   ]
  },
  {
   "cell_type": "code",
   "execution_count": 25,
   "id": "3452ef6c-b6bb-49d2-8e03-b140b4360f5c",
   "metadata": {},
   "outputs": [],
   "source": [
    "uk_destination_urls = [f'{wikivoyage_root_url}/{d}' for d in uk_destinations]"
   ]
  },
  {
   "cell_type": "code",
   "execution_count": 26,
   "id": "446561d1-49bf-44e7-88b9-5a9cc84eef43",
   "metadata": {},
   "outputs": [
    {
     "name": "stderr",
     "output_type": "stream",
     "text": [
      "Fetching pages: 100%|####################################################################| 1/1 [00:00<00:00, 12.99it/s]\n"
     ]
    },
    {
     "name": "stdout",
     "output_type": "stream",
     "text": [
      "{'source': 'https://en.wikivoyage.org/wiki/Cornwall', 'title': 'Cornwall – Travel guide at Wikivoyage', 'language': 'en'}\n"
     ]
    },
    {
     "name": "stderr",
     "output_type": "stream",
     "text": [
      "Fetching pages: 100%|####################################################################| 1/1 [00:00<00:00,  1.73it/s]\n"
     ]
    },
    {
     "name": "stdout",
     "output_type": "stream",
     "text": [
      "{'source': 'https://en.wikivoyage.org/wiki/North_Cornwall', 'title': 'North Cornwall – Travel guide at Wikivoyage', 'language': 'en'}\n"
     ]
    },
    {
     "name": "stderr",
     "output_type": "stream",
     "text": [
      "Fetching pages: 100%|####################################################################| 1/1 [00:00<00:00,  2.47it/s]\n"
     ]
    },
    {
     "name": "stdout",
     "output_type": "stream",
     "text": [
      "{'source': 'https://en.wikivoyage.org/wiki/South_Cornwall', 'title': 'South Cornwall – Travel guide at Wikivoyage', 'language': 'en'}\n"
     ]
    },
    {
     "name": "stderr",
     "output_type": "stream",
     "text": [
      "Fetching pages: 100%|####################################################################| 1/1 [00:00<00:00,  2.31it/s]\n"
     ]
    },
    {
     "name": "stdout",
     "output_type": "stream",
     "text": [
      "{'source': 'https://en.wikivoyage.org/wiki/West_Cornwall', 'title': 'West Cornwall – Travel guide at Wikivoyage', 'language': 'en'}\n"
     ]
    },
    {
     "name": "stderr",
     "output_type": "stream",
     "text": [
      "Fetching pages: 100%|####################################################################| 1/1 [00:00<00:00,  1.50it/s]\n"
     ]
    },
    {
     "name": "stdout",
     "output_type": "stream",
     "text": [
      "{'source': 'https://en.wikivoyage.org/wiki/Tintagel', 'title': 'Tintagel – Travel guide at Wikivoyage', 'language': 'en'}\n"
     ]
    },
    {
     "name": "stderr",
     "output_type": "stream",
     "text": [
      "Fetching pages: 100%|####################################################################| 1/1 [00:00<00:00,  1.33it/s]\n"
     ]
    },
    {
     "name": "stdout",
     "output_type": "stream",
     "text": [
      "{'source': 'https://en.wikivoyage.org/wiki/Bodmin', 'title': 'Bodmin – Travel guide at Wikivoyage', 'language': 'en'}\n"
     ]
    },
    {
     "name": "stderr",
     "output_type": "stream",
     "text": [
      "Fetching pages: 100%|####################################################################| 1/1 [00:00<00:00,  1.21it/s]\n"
     ]
    },
    {
     "name": "stdout",
     "output_type": "stream",
     "text": [
      "{'source': 'https://en.wikivoyage.org/wiki/Wadebridge', 'title': 'Wadebridge – Travel guide at Wikivoyage', 'language': 'en'}\n"
     ]
    },
    {
     "name": "stderr",
     "output_type": "stream",
     "text": [
      "Fetching pages: 100%|####################################################################| 1/1 [00:00<00:00,  1.13it/s]\n"
     ]
    },
    {
     "name": "stdout",
     "output_type": "stream",
     "text": [
      "{'source': 'https://en.wikivoyage.org/wiki/Penzance', 'title': 'Penzance – Travel guide at Wikivoyage', 'language': 'en'}\n"
     ]
    },
    {
     "name": "stderr",
     "output_type": "stream",
     "text": [
      "Fetching pages: 100%|####################################################################| 1/1 [00:00<00:00,  1.60it/s]\n"
     ]
    },
    {
     "name": "stdout",
     "output_type": "stream",
     "text": [
      "{'source': 'https://en.wikivoyage.org/wiki/Newquay', 'title': 'Newquay – Travel guide at Wikivoyage', 'language': 'en'}\n"
     ]
    },
    {
     "name": "stderr",
     "output_type": "stream",
     "text": [
      "Fetching pages: 100%|####################################################################| 1/1 [00:00<00:00,  5.31it/s]\n"
     ]
    },
    {
     "name": "stdout",
     "output_type": "stream",
     "text": [
      "{'source': 'https://en.wikivoyage.org/wiki/St_Ives', 'title': 'St Ives – Travel guide at Wikivoyage', 'language': 'en'}\n"
     ]
    },
    {
     "name": "stderr",
     "output_type": "stream",
     "text": [
      "Fetching pages: 100%|####################################################################| 1/1 [00:00<00:00,  2.80it/s]\n"
     ]
    },
    {
     "name": "stdout",
     "output_type": "stream",
     "text": [
      "{'source': 'https://en.wikivoyage.org/wiki/Port_Isaac', 'title': 'Port Isaac – Travel guide at Wikivoyage', 'language': 'en'}\n"
     ]
    },
    {
     "name": "stderr",
     "output_type": "stream",
     "text": [
      "Fetching pages: 100%|####################################################################| 1/1 [00:00<00:00,  3.02it/s]\n"
     ]
    },
    {
     "name": "stdout",
     "output_type": "stream",
     "text": [
      "{'source': 'https://en.wikivoyage.org/wiki/Looe', 'title': 'Looe – Travel guide at Wikivoyage', 'language': 'en'}\n"
     ]
    },
    {
     "name": "stderr",
     "output_type": "stream",
     "text": [
      "Fetching pages: 100%|####################################################################| 1/1 [00:00<00:00,  1.49it/s]\n"
     ]
    },
    {
     "name": "stdout",
     "output_type": "stream",
     "text": [
      "{'source': 'https://en.wikivoyage.org/wiki/Polperro', 'title': 'Polperro – Travel guide at Wikivoyage', 'language': 'en'}\n"
     ]
    },
    {
     "name": "stderr",
     "output_type": "stream",
     "text": [
      "Fetching pages: 100%|####################################################################| 1/1 [00:00<00:00,  4.65it/s]\n"
     ]
    },
    {
     "name": "stdout",
     "output_type": "stream",
     "text": [
      "{'source': 'https://en.wikivoyage.org/wiki/PorthlevenEast_Sussex', 'title': 'PorthlevenEast Sussex – Travel guide at Wikivoyage', 'language': 'en'}\n"
     ]
    },
    {
     "name": "stderr",
     "output_type": "stream",
     "text": [
      "Fetching pages: 100%|####################################################################| 1/1 [00:01<00:00,  1.59s/it]\n"
     ]
    },
    {
     "name": "stdout",
     "output_type": "stream",
     "text": [
      "{'source': 'https://en.wikivoyage.org/wiki/Brighton', 'title': 'Brighton – Travel guide at Wikivoyage', 'language': 'en'}\n"
     ]
    },
    {
     "name": "stderr",
     "output_type": "stream",
     "text": [
      "Fetching pages: 100%|####################################################################| 1/1 [00:00<00:00,  3.11it/s]\n"
     ]
    },
    {
     "name": "stdout",
     "output_type": "stream",
     "text": [
      "{'source': 'https://en.wikivoyage.org/wiki/Battle', 'title': 'Battle – Travel guide at Wikivoyage', 'language': 'en'}\n"
     ]
    },
    {
     "name": "stderr",
     "output_type": "stream",
     "text": [
      "Fetching pages: 100%|####################################################################| 1/1 [00:00<00:00,  1.44it/s]\n"
     ]
    },
    {
     "name": "stdout",
     "output_type": "stream",
     "text": [
      "{'source': 'https://en.wikivoyage.org/wiki/Hastings_(England)', 'title': 'Hastings (England) – Travel guide at Wikivoyage', 'language': 'en'}\n"
     ]
    },
    {
     "name": "stderr",
     "output_type": "stream",
     "text": [
      "Fetching pages: 100%|####################################################################| 1/1 [00:00<00:00,  1.30it/s]\n"
     ]
    },
    {
     "name": "stdout",
     "output_type": "stream",
     "text": [
      "{'source': 'https://en.wikivoyage.org/wiki/Rye_(England)', 'title': 'Rye (England) – Travel guide at Wikivoyage', 'language': 'en'}\n"
     ]
    },
    {
     "name": "stderr",
     "output_type": "stream",
     "text": [
      "Fetching pages: 100%|####################################################################| 1/1 [00:00<00:00,  1.40it/s]\n"
     ]
    },
    {
     "name": "stdout",
     "output_type": "stream",
     "text": [
      "{'source': 'https://en.wikivoyage.org/wiki/Seaford', 'title': 'Seaford – Travel guide at Wikivoyage', 'language': 'en'}\n"
     ]
    },
    {
     "name": "stderr",
     "output_type": "stream",
     "text": [
      "Fetching pages: 100%|####################################################################| 1/1 [00:00<00:00,  1.30it/s]\n"
     ]
    },
    {
     "name": "stdout",
     "output_type": "stream",
     "text": [
      "{'source': 'https://en.wikivoyage.org/wiki/Ashdown_Forest', 'title': 'Ashdown Forest – Travel guide at Wikivoyage', 'language': 'en'}\n"
     ]
    }
   ],
   "source": [
    "for destination_url in uk_destination_urls:\n",
    "    html_loader = AsyncHtmlLoader(destination_url) #C\n",
    "    docs =  html_loader.load() #D\n",
    "    \n",
    "    for doc in docs:\n",
    "        print(doc.metadata)\n",
    "        granular_chunks = split_docs_into_granular_chunks(docs)\n",
    "        uk_granular_collection.add_documents(documents=granular_chunks)\n",
    "\n",
    "        coarse_chunks = split_docs_into_coarse_chunks(docs)\n",
    "        uk_coarse_collection.add_documents(documents=coarse_chunks)\n",
    "#A Create a Chroma DB collection\n",
    "#B Reset the collection in case it already exists \n",
    "#C Loader for one destination\n",
    "#D Documents of one destination "
   ]
  },
  {
   "cell_type": "markdown",
   "id": "9178b671-f8f0-46cf-8695-b0e3416a9be9",
   "metadata": {},
   "source": [
    "#### Searching "
   ]
  },
  {
   "cell_type": "code",
   "execution_count": 27,
   "id": "150b4668-b401-46a1-b5a0-aa543f5d9bf3",
   "metadata": {},
   "outputs": [
    {
     "name": "stdout",
     "output_type": "stream",
     "text": [
      "page_content='Brighton' metadata={'Header 1': 'Brighton'}\n",
      "page_content='Seaford' metadata={'Header 1': 'Seaford'}\n",
      "page_content='Penzance' metadata={'Header 1': 'Penzance'}\n",
      "page_content='Festivals \n",
      " [ edit ] \n",
      " \n",
      " These festivals tend to not be public holidays and not all are celebrated fully across the county. \n",
      "   \n",
      " AberFest \n",
      " .   A Celtic cultural festival celebrating “All things” Cornish and Breton that takes place biennially (every two years) in Cornwall at Easter. The AberFest Festival alternates with the Breizh – Kernow Festival that is held in Brandivy and Bignan (in Breizh/Bretagne – France) on the alternate years.       ( updated Jun 2023 ) \n",
      " Golowan , sometimes also  Goluan  or  Gol-Jowan  is the Cornish word for the Midsummer celebrations, most popular in the Penwith area and in particular  Penzance  and  Newlyn . The celebrations are conducted from the 23rd of June (St John's Eve) to the 28th of June (St Peter's Eve) each year, St Peter's Eve being the more popular in Cornish fishing communities. The celebrations are centred around the lighting of bonfires and fireworks and the performance of associated rituals. Some towns have a street-parade during this period. \n",
      " Guldize  is an ancient harvest festival in Autumn, which involved the \"crying of the neck\" ritual of chanting in the corn field. A revived Guldize celebration is held in  Penzance , and in several other locations across Cornwall. \n",
      " Nickanan Night  is traditionally held on the Monday before Lent. This event is an excuse for local youths to undertake acts of minor vandalism and play practical jokes on neighbours and family. The name Nickanan may come from the practice of knocking on doors and running away, known as 'Nick Nack' in some parts of the English-speaking world. The eating of pea soup and salt bacon is also associated with this date. \n",
      " Noze looan  is a style of Cornish-Celtic dance, and associated music and events similar to the Breton Fest, Noz. Noze Looan is late Cornish for \"happy night\" \n",
      " Picrous Day  is celebrated by the tin miners of Cornwall on the 2nd Thursday before Christmas. Luxulyan, 4 miles NE of  St Austell , hosts a particular big party. \n",
      " Shrove Tuesday Hurling : \"Cornish hurling\" or \"silverball\" (Cornish:  Hyrlîan ) is a medieval game once common throughout Cornwall but now only played in  St Columb (Major)  and  St Ives . The St Columb's game takes place first on Pancake Day (moves around in February) and then again on the Saturday eleven days later. The game involves two teams of several hundred people (the 'townsmen' and the 'countrymen') who endeavour to carry a silver ball made of apple wood to goals set roughly two miles (3   km) apart, making the parish the largest pitch for a ball game anywhere in the world. The annual St. Ives hurling match happens on Feast Monday each February (the feast is on the Sunday nearest to February 3).  \n",
      " St Piran's Day  (Cornish:  Gool Peran ) is the national day of Cornwall, held on 5 March every year. There is large parties widespread across the whole of Cornwall, with people dressing in the black, white and silver national colours.  \n",
      " Tom Bawcock's Eve : on 23rd December, stargazey pies are traditionally consumed. In mythology, pies were seen bizarrely as the reason the devil stayed out of Cornwall.' metadata={'Header 2': 'Festivals'}\n"
     ]
    }
   ],
   "source": [
    "granular_results = uk_granular_collection.similarity_search(query=\"Events or festivals in East Sussex\",k=4)\n",
    "for doc in granular_results:\n",
    "    print(doc)"
   ]
  },
  {
   "cell_type": "code",
   "execution_count": 28,
   "id": "b7bd9d06-6a53-4a69-a37c-9a0f61419a5a",
   "metadata": {},
   "outputs": [
    {
     "name": "stdout",
     "output_type": "stream",
     "text": [
      "page_content='### Events\n",
      "\n",
      "[edit]\n",
      "\n",
      "A market during the Brighton Festival. The Theatre Royal is the red building.\n",
      "A colourful parade down Queens Road during Pride in 2016.\n",
      "\n",
      "  * **Brighton Racecourse** has flat-racing April-Oct. It's on Freshfield Rd a mile east of town centre.\n",
      "  * **Plumpton Racecourse** is National Hunt (jumps races) Nov-March, but it's 10 mi (16 km) north in Lewes.\n",
      "  * Brighton Festival Fringe: early May – early June, ☏ +44 1273 764900, info@brightonfringe.org. The Fringe runs at the same time as the main festival, and features over 600 events, including comedy, theatre, music, and \"open houses\" (local artists exhibiting in their own homes) and tours (haunted pubs, Regency Brighton, churches, cemeteries, sewers, etc.)_(date needs fixing)_\n",
      "  * Brighton Festival: May, ☏ +44 1273 709709 (tickets), tickets@brightonfestival.org. The Brighton Festival, in May each year, is the second biggest arts festival in Great Britain (coming closely behind Edinburgh). Music of all sorts, art exhibitions, and book debates._(date needs updating)_\n",
      "  * The Great Escape: mid-May Brighton (England), info@greatescapefestival.com. Music festival that takes part in venues all over the city in May with musicians from around the world._(date needs fixing)_\n",
      "  * London to Brighton Bike Ride: 3rd Sunday in June, ☏ 0845 130 8663 (BHF national events team; non-geographic number), +44 20 7935-0185 (BHF head office). A 58-mile (95-km) charity bike ride held each June to benefit the British Heart Foundation. The Ride has raised over £26 million for heart research since its inception in 1980, from the efforts of over 550,000 riders. Suitable for all levels of riders, the route passes through glorious countryside on the approach to Brighton._(date needs fixing)_\n",
      "  * Brighton Pride: 1st weekend in August. Considered by many to be the biggest and the best Lesbian Gay Bisexual and Transgender Pride Festival in the UK, attracting more than 100,000 people annually to Brighton for the week-long festival in late July-early August. Features parades, parties and music._(date needs fixing)_\n",
      "\n",
      "## Learn\n",
      "\n",
      "[edit]\n",
      "\n",
      "Brighton is home to two universities, the University of Sussex (situated on\n",
      "the edge of the city at Falmer), and the University of Brighton, which has\n",
      "campuses around the city, and in nearby towns.' metadata={'language': 'en', 'source': 'https://en.wikivoyage.org/wiki/Brighton', 'title': 'Brighton – Travel guide at Wikivoyage'}\n",
      "page_content='[edit]\n",
      "\n",
      "  * 50.847-0.18523 West Blatchington Windmill is a smock mill of 1820. It's on Holmes Ave, Hove.\n",
      "  * 50.905-0.14824 Jack and Jill are a pair of windmills on the Downs above Clayton village. You can visit Jill, a post-mill built in 1821. Jack is a tower mill of 1866.\n",
      "\n",
      "## Do\n",
      "\n",
      "[edit]\n",
      "\n",
      "  * Brighton Theatres. Brighton is a great place to see a theatre show or a gig. There are many many theatres and venues in and around Brighton.\n",
      "  * 50.81715-0.123481 Sealanes on Madeira Drive is an open-air lido with heated 50 m pool, opening in spring 2023.\n",
      "  * **Football:** 50.8618-0.08332 Brighton & Hove Albion, Falmer BN1 9BL (off A27 5 mi (8.0 km) northeast of the city by Falmer railway station), ☏ +44 1273 668855. \"The Seagulls\" play football in the Premier League, England's top tier, with their home ground at Falmer or Amex Stadium, capacity 30,750. Their women's team play in the Women's Super League, with home games at Broadfield Stadium in Crawley, shared with Crawley Town. In 2022 Falmer Stadium hosted games in the UEFA Women's Euro Finals, postponed from 2021. (updated Jul 2022)\n",
      "  * **Cricket:** 50.8306-0.16453 Sussex CCC, Eaton Rd, Hove BN3 3AN (1 mile west of central Brighton), ☏ +44 1273 827100. Sussex CCC were promoted in 2024 and now play in Division Two of the County Championship. Its limited-overs team is the Sussex Sharks. (updated Sep 2024)\n",
      "  * **Shop until you drop**. Calling into many of the quirky shops in the Laines looking for that elusive deleted LP, leather bound book, one-off party dress, or organic beer, can be a highlight and a chance to uncover hidden gems.\n",
      "  * 50.8339-0.1383334 Duke of York's Cinema, Preston Rd, BN1 4NA (15 minutes' walk up the London Road from the Steine), ☏ +44 719 025747. The Duke of York's Cinema is Brighton's art house cinema, and the oldest continually operating cinema in Europe. Opened in 1910, it still has a single screen, which shows a mix of art house and more mainstream films, with a Kid's Club on Saturday mornings. The building is recognisable by the giant fibreglass legs on the roof. The bar on the first floor is a good place for a drink before the film, with a balcony that has good views of the street below. The (screening-room) balcony at first floor level has two-seat sofas, the ground floor regular cinema seats.\n",
      "  * 50.81655-0.121095 Volks Railway (along the seafront). Apr-Sep: every 15 min from 10:15AM (on M & F from 11:15AM) to 5PM on Sa Su to 6PM). The oldest surviving electric railway in the world, opening in 1883. The stations are all accessible by wheelchair. Wheelchairs must be folded to fit on the trains. Runs a 12-min trip from the 50.81892-0.132726 Aquarium (at Brighton Pier). to 50.81453-0.111157 Black Rock (near the marina). Adult £3.90, child £2.30 return.\n",
      "\n",
      "### Events\n",
      "\n",
      "[edit]\n",
      "\n",
      "A market during the Brighton Festival. The Theatre Royal is the red building.\n",
      "A colourful parade down Queens Road during Pride in 2016.' metadata={'language': 'en', 'source': 'https://en.wikivoyage.org/wiki/Brighton', 'title': 'Brighton – Travel guide at Wikivoyage'}\n",
      "page_content='50.850.57\n",
      "\n",
      "#\n",
      "\n",
      "From Wikivoyage\n",
      "\n",
      "Europe > Britain and Ireland > United Kingdom > England > South East England >\n",
      "East Sussex > Hastings (England)  \n",
      "\n",
      "# Hastings\n",
      "\n",
      "## Contents\n",
      "\n",
      "  * 1 Understand\n",
      "    * 1.1 Visitor information\n",
      "  * 2 Get in\n",
      "    * 2.1 By plane\n",
      "    * 2.2 By train\n",
      "    * 2.3 By bus\n",
      "    * 2.4 By car\n",
      "  * 3 Get around\n",
      "  * 4 See\n",
      "  * 5 Do\n",
      "  * 6 Buy\n",
      "  * 7 Eat\n",
      "  * 8 Drink\n",
      "  * 9 Sleep\n",
      "    * 9.1 Town centre\n",
      "    * 9.2 North\n",
      "    * 9.3 North-west\n",
      "  * 10 Connect\n",
      "  * 11 Go next\n",
      "\n",
      "Jump to navigation Jump to search\n",
      "\n",
      "**Hastings** is a seaside town in East Sussex in southeast England. It's run\n",
      "down, but has budget accommodation and several sites of interest. Hastings is\n",
      "most famous for the battle that took place there in 1066 between King Harold's\n",
      "English and William the Conqueror's Normans. Nestled between the rugged beauty\n",
      "of the East and West Hills, the town's main attraction is the medieval Old\n",
      "Town, with its narrow passageways, antique shops, boutiques, cafe's and\n",
      "Europe's largest beach-launched fishing fleet. The town also boasts a hill-top\n",
      "castle, two funicular railways, the Georgian church of St Mary in the Castle,\n",
      "18th-century net shops, and access to Hastings Country Park, a 660 acres (270\n",
      "hectares) Nature Reserve with woodland glens, beaches and cliff-top views.\n",
      "\n",
      "## Understand\n",
      "\n",
      "[edit]\n",
      "\n",
      "View of Hastings from East Hill\n",
      "\n",
      "The town lent its name to the 1066 battle, although the battle took place\n",
      "nearby Battle (these were imaginative times…). The Normans made Hastings one\n",
      "of the  Cinque Ports responsible for England's maritime defence, but in the\n",
      "late Middle Ages, its harbour was swept away by the sea.\n",
      "\n",
      "The town grew from its medieval origins into a Victorian seaside resort, and\n",
      "the majority of the town's architecture dates from this period. Today, along\n",
      "with St Leonards on Sea, Hastings forms a fairly large urban area on the south\n",
      "coast of around 100,000 inhabitants.\n",
      "\n",
      "Away from the Old Town, Hastings largely retains the character of a Victorian\n",
      "seaside resort, with seafront squares, grand Victorian facades, elegant parks\n",
      "and a pier. However, the town suffered from the post-war decline in the\n",
      "seaside tourist industry in England and while there has been significant\n",
      "investment in regenerating the area, parts of the seafront have seen better\n",
      "days. In 2022 the population was 92,340.\n",
      "\n",
      "More recently, it was the setting for the World War II-era detective TV show\n",
      "_Foyle's War_.\n",
      "\n",
      "### Visitor information\n",
      "\n",
      "[edit]\n",
      "\n",
      "  * Visit Hastings website\n",
      "\n",
      "## Get in\n",
      "\n",
      "[edit]\n",
      "\n",
      "Narrow passageways in old Hastings\n",
      "\n",
      "### By plane\n",
      "\n",
      "[edit]\n",
      "\n",
      "From London Gatwick (**LGW** IATA) take the hourly direct train. From other\n",
      "airports travel into the London city centre for the train from Charing Cross.\n",
      "\n",
      "### By train\n",
      "\n",
      "[edit]' metadata={'language': 'en', 'source': 'https://en.wikivoyage.org/wiki/Hastings_(England)', 'title': 'Hastings (England) – Travel guide at Wikivoyage'}\n",
      "page_content='The **TateSt Ives**, one of the four Tate galleries in the UK, focuses on\n",
      "Modern Art.\n",
      "\n",
      "**Penlee House** , in Penzance, is home of the famous Newlyn School of Art.\n",
      "\n",
      "### National Trust properties\n",
      "\n",
      "[edit]\n",
      "\n",
      "**St Michael's Mount** , Marazion, near Penzance, is a rocky island crowned by\n",
      "medieval church and castle, home to a living community\n",
      "\n",
      "**Godrevy - Gwithian** , near Hayle, had stunning mix of long sandy beaches,\n",
      "high cliffs, and smugglers coves\n",
      "\n",
      "**Levant Mine and Beam Engine Pendeen** sits high up on the exposed cliffs of\n",
      "the 'Tin Coast' and is part of the Cornish Mining World Heritage Site. At its\n",
      "heart, the restored 1840s beam engine running on steam.\n",
      "\n",
      "**Trengwainton** , Madron, has a sheltered garden bursting with exotic trees\n",
      "and shrubs.\n",
      "\n",
      "## Do\n",
      "\n",
      "[edit]\n",
      "\n",
      "**Helford River** is an idyllic river estuary between Falmouth and Penzance.\n",
      "An ideal stop over for yachts heading for the Isles of Scilly, or further\n",
      "afield, with a selection of excellent pubs and other attractions. There is\n",
      "also a passenger ferry crossing the river as part of the coastal path around\n",
      "Cornwall linking Helford Passage (a popular holiday destination for families)\n",
      "on the north coast to Helford Village on the south. Helford River Boats runs\n",
      "the ferry and a range of small hire boats with which you can explore the river\n",
      "in your own time. Also on the river are the Gweek Seal Sanctuary, Porth Navas\n",
      "Oyster Farm and Trebah Gardens.\n",
      "\n",
      "The **South West Coast Path** runs along the coastline of Britain’s south-west\n",
      "peninsula. The Cornish section is supposed to be the most scenic (unless you\n",
      "talk to someone in Devon, in which case the Devon part is most scenic). It is\n",
      "particularly scenic around Penwith and the Lizard. The trail takes walkers to\n",
      "busy towns, remote cliffs, beaches, heaths, farms and fishing villages.\n",
      "Walking along it is a great way to experience the region in all its variety.\n",
      "(Walking the entire path takes several weeks, walking on a choice part of it\n",
      "is easier.)\n",
      "\n",
      "### Festivals\n",
      "\n",
      "[edit]\n",
      "\n",
      "**Allantide** (Cornish: _Kalan Gwav_ or _Nos Kalan Gwav_) ia a Cornish\n",
      "festival that was traditionally celebrated on 31 October elsewhere known as\n",
      "Hallowe'en. Many of the Allantide traditions are celebrated in Penzance as\n",
      "part of the town's Apple Day celebrations in late October. Bobbing for apples\n",
      "is traditional, and candy Gilliflower apples have been added for the kids.\n",
      "\n",
      "**Chewidden Thursday** is a festival celebrated by the tin miners of West\n",
      "Cornwall on the last clear Thursday before (i.e. at least one week before)\n",
      "Christmas.\n",
      "\n",
      "**Furry Dance** , also known as Flora Day, takes place in Helston in early\n",
      "May, and is one of the oldest British customs still practised today. The dance\n",
      "is very well attended every year and people travel from all over the world to\n",
      "see it.' metadata={'language': 'en', 'source': 'https://en.wikivoyage.org/wiki/West_Cornwall', 'title': 'West Cornwall – Travel guide at Wikivoyage'}\n"
     ]
    }
   ],
   "source": [
    "coarse_results = uk_coarse_collection.similarity_search(query=\"Events or festivals in East Sussex\",k=4)\n",
    "for doc in coarse_results:\n",
    "    print(doc)"
   ]
  },
  {
   "cell_type": "code",
   "execution_count": 28,
   "id": "3f8016fc-542a-419a-85b7-0fe2aba1cf66",
   "metadata": {},
   "outputs": [
    {
     "name": "stdout",
     "output_type": "stream",
     "text": [
      "page_content='Cornwall' metadata={'Header 1': 'Cornwall'}\n",
      "page_content='North Cornwall' metadata={'Header 1': 'North Cornwall'}\n",
      "page_content='West Cornwall' metadata={'Header 1': 'West Cornwall'}\n",
      "page_content='South Cornwall' metadata={'Header 1': 'South Cornwall'}\n"
     ]
    }
   ],
   "source": [
    "granular_results = uk_granular_collection.similarity_search(query=\"Beaches in Conrwall\",k=4)\n",
    "for doc in granular_results:\n",
    "    print(doc)"
   ]
  },
  {
   "cell_type": "code",
   "execution_count": 29,
   "id": "20c94aa6-21dc-42e5-8a76-2be224baa9a1",
   "metadata": {},
   "outputs": [
    {
     "name": "stdout",
     "output_type": "stream",
     "text": [
      "page_content='**South Cornwall** is in Cornwall. It includes much of the stunning Cornish\n",
      "coast along the English Channel of the Atlantic Ocean.\n",
      "\n",
      "## Towns and villages\n",
      "\n",
      "[edit]\n",
      "\n",
      "Map of South Cornwall\n",
      "\n",
      "  * 50.26-5.0511 Truro — Cornwall's main centre hosts the Royal Cornwall Museum\n",
      "  * 50.3311-4.20212 Cawsand — overlooks Plymouth Sound; Cawsand is within Mount Edgcumbe Country Park\n",
      "  * 50.15-5.073 Falmouth — famous for its beaches, it is home to the world's third largest natural harbour\n",
      "  * 50.334-4.6334 Fowey — the Fowey Regatta in mid-August attracts many yachts and sailing boats\n",
      "  * 50.354-4.4545 Looe — a summer resort place with a monkey sanctuary, and an active fishing village\n",
      "  * 50.408-4.2126 Saltash — \"Gateway to Cornwall\", a small town on the Cornwall side of the Tamar crossings\n",
      "  * 50.338-4.7957 St Austell — largest town in the county and home to the Eden Project, the world's largest greenhouse\n",
      "  * 50.3314-4.75788 Charlestown — seaside town used as filming location for the TV show _Poldark_\n",
      "  * 50.2702-4.78749 Mevagissey — picturesque hillside fishing village\n",
      "  * 50.3505-4.711110 Par — a fishing village with a harbour, a beach south of the village, and a large static caravan holiday park\n",
      "  * 50.3311-4.519711 Polperro — a seaside village with an idyllic appearance, tightly packed ancient fishermen's houses that survive almost untouched, and a quaint harbour\n",
      "  * 50.1682-5.1032112 Penryn \\- small coastal town with a museum, via ferrata walks and diving.\n",
      "\n",
      "## Other destinations\n",
      "\n",
      "[edit]\n",
      "\n",
      "## Understand\n",
      "\n",
      "[edit]\n",
      "\n",
      "The south coast, dubbed the \"Cornish Riviera\", is more sheltered than the\n",
      "north coast of Cornwall, and there are several broad estuaries offering safe\n",
      "anchorages, such as at Falmouth and Fowey. Beaches on the south coast usually\n",
      "consist of coarser sand and shingle, interspersed with rocky sections of wave-\n",
      "cut platform. the picturesque fishing village of Polperro, at the mouth of the\n",
      "Pol River, and the fishing port of Looe on the River Looe are both popular\n",
      "with tourists.\n",
      "\n",
      "## Get in\n",
      "\n",
      "[edit]\n",
      "\n",
      "### By train\n",
      "\n",
      "[edit]\n",
      "\n",
      "Regular trains run on the main line from London Paddington (12 daily to\n",
      "Plymouth, 3 hours) Bristol, Birmingham etc. to Plymouth, and Truro. There are\n",
      "also a few branch lines, the most useful linking St Ives to the main line at\n",
      "St Erth, from Truro to Falmouth via Perranwell and Penryn, and from Newquay to\n",
      "Par.\n",
      "\n",
      "Trains from London take about 3 hr 20 min to Plymouth.\n",
      "\n",
      "### By car\n",
      "\n",
      "[edit]\n",
      "\n",
      "Cornwall can be accessed by road via the A30 which runs from the end of the M5\n",
      "at Exeter, all the way through the heart of Devon and Cornwall down to Land's\n",
      "End. It is a grade-separated expressway as far as Carland Cross near Truro\n",
      "(the expressway is expected to be open as far as Camborne (between Redruth and\n",
      "Hayle) by March 2024). You can also get to Cornwall via the A38, crossing the\n",
      "River Tamar at Plymouth via the Tamar Bridge, which levies a toll on eastbound\n",
      "vehicles. On summer Saturdays and during bank holiday weekends roads to\n",
      "Cornwall are usually busy.' metadata={'language': 'en', 'source': 'https://en.wikivoyage.org/wiki/South_Cornwall', 'title': 'South Cornwall – Travel guide at Wikivoyage'}\n",
      "page_content='**North Cornwall** is in Cornwall. It includes much of the Cornish coast along\n",
      "the Celtic Sea and some top surfing areas.\n",
      "\n",
      "## Towns and villages\n",
      "\n",
      "[edit]\n",
      "\n",
      "Map of North Cornwall\n",
      "\n",
      "  * 50.466-4.7181 Bodmin \\- Former adminstrative centre of Cornwall and home of Bodmin Jail\n",
      "  * 50.422-4.6712 Lostwithiel — home to Restormel Castle, notable for being almost completely cylindrical\n",
      "  * 50.824-4.5423 Bude — fishing village and holiday resort on the north coast of Cornwall\n",
      "  * 50.635-4.3544 Launceston — home of the 11th-century Launceston Castle, and the Launceston narrow-gauge heritage steam railway\n",
      "  * 50.412-5.07575 Newquay — former fishing village, now surf capital of the UK and home to Cornwall's principal airport\n",
      "  * 50.538-4.9386 Padstow — fishing village and holiday resort on Cornwall's north coast\n",
      "  * 50.3437-5.15467 Perranporth — a seaside resort town backed by extensive sand dunes which reach nearly a mile inland\n",
      "  * 50.432-4.948 St Columb Major — one of only two places where you can watch Cornish hurling, a medieval game once common throughout Cornwall\n",
      "  * 50.517-4.8359 Wadebridge — it has a 12-arch bridge, built in 468, and has hosted the Cornwall Folk Festival since 1962\n",
      "  * 50.684-4.692910 Boscastle — scenic fishing village with the _Museum of Witchcraft and Magic_\n",
      "  * 50.5938-4.8311 Port Isaac — seaside village, often used as a filming location\n",
      "  * 50.233-5.22412 Redruth — world capital of tin mining\n",
      "  * 50.5437-4.918213 Rock — a popular base for holidaymakers, and a well-established centre for water sports\n",
      "  * 50.312-5.20414 St Agnes — part of the Cornwall Devon Mining Landscape World Heritage Site\n",
      "  * 50.663-4.7515 Tintagel — legendary birthplace of King Arthur and seat of the Kings of Cornwall\n",
      "\n",
      "## Other destinations\n",
      "\n",
      "[edit]\n",
      "\n",
      "  * 50.913889-4.4527781 Tamar Valley — an area of outstanding natural beauty on the border with Devon\n",
      "  * 50.5654-4.61082 Bodmin Moor — a bleak moor to the east of Bodmin made famous by Daphne du Maurier's book _Jamaica Inn_\n",
      "\n",
      "## Understand\n",
      "\n",
      "[edit]\n",
      "\n",
      "The north coast on the Celtic Sea, part of the Atlantic Ocean, is more exposed\n",
      "than the south coast, and therefore has a wilder nature. The High Cliff,\n",
      "between Boscastle and St Gennys, is the highest sheer-drop cliff in Cornwall\n",
      "at 223 metres (732 ft).\n",
      "\n",
      "Beaches, which form an important part of the tourist industry, include Bude,\n",
      "Polzeath, Watergate Bay, Perranporth, Porthtowan, Fistral Beach, Newquay, St\n",
      "Agnes, St Ives, and on the south coast Gyllyngvase beach in Falmouth and the\n",
      "large beach at Praa Sands further to the south-west.\n",
      "\n",
      "## Get in\n",
      "\n",
      "[edit]\n",
      "\n",
      "### By train\n",
      "\n",
      "[edit]\n",
      "\n",
      "Regular trains run on the main line from London Paddington (8 daily all the\n",
      "way through Cornwall to Penzance, 5 hr 30 min), Bristol, Birmingham etc. to\n",
      "Penzance. There is also an overnight sleeper train which runs Su-F nights from\n",
      "London Paddington and Penzance.\n",
      "\n",
      "### By car\n",
      "\n",
      "[edit]' metadata={'language': 'en', 'source': 'https://en.wikivoyage.org/wiki/North_Cornwall', 'title': 'North Cornwall – Travel guide at Wikivoyage'}\n",
      "page_content='* The **Camel Trail** is an 18-mile (29 km) off-road cycle-track following the scenic estuary of the river Camel from Padstow to Wenford Bridge via Wadebridge and Bodmin.\n",
      "\n",
      "  * The **Cornish Film Festival** is held annually each November around Newquay.\n",
      "\n",
      "  * Cornwall, in particular Newquay, is the UK's **surfing** capital, with equipment hire and surf schools present on many of the county's beaches, and events like the UK championships or Boardmasters festival.\n",
      "\n",
      "  * **Cricket:** Cornwall CCC play in the National Counties Cricket Championship, the tier formerly known as \"Minor Counties\" below the first class competitions. They don't have a permanent ground but play at various venues including Camborne, Falmouth, Truro and St Austell.\n",
      "\n",
      "## Eat\n",
      "\n",
      "[edit]\n",
      "\n",
      "Cornwall has become famous for its Michelin-starred seafood restaurants, with\n",
      "Jamie Oliver and Rick Stein opening swanky restaurants in the county/country.\n",
      "Cornwall may have the most distinct and finest cuisine of all Britain, and a\n",
      "number of regional specialities, such as:\n",
      "\n",
      "### Savoury\n",
      "\n",
      "[edit]\n",
      "\n",
      "Cornish Pasty\n",
      "\n",
      "  * Cornish Caudle Chicken Pie. \n",
      "  * Cornish Pasty. A semi-circular pocket of soft or flakey pastry, usually filled with meat, turnip, onion and potatoes with a crimped crust to hold whilst munching. Traditionally, the pasty was held by the crust due to the miner's dirty hands and then discarded to avoid ingesting poisonous materials such as lead. (updated Mar 2017)\n",
      "  * Gevrik cheese. A soft, full-fat goat's milk cheese. Its name means _Little Goat_ in Cornish. (updated Nov 2017)\n",
      "  * Hog's pudding. A spicy thick white sausage which is sliced then grilled or fried. (updated Mar 2017)\n",
      "  * Seafood. Cornwall has a long tradition of seafood specialties including crowled pilchards, salmon cake and fish cream stew. (updated Mar 2017)\n",
      "  * Squab pie. A mutton pie with a shortcrust pastry lid. It should be made with at least one layer of onions, followed by alternating layers of sliced apples and mutton chops. (updated Mar 2017)\n",
      "  * Star Gazey pie. A mixed fish, potato and egg dish with fish heads 'escaping'. The pie is cooked as part of traditional celebrations for Tom Bawcock's Eve, but is not generally eaten at any other time. (updated Mar 2017)\n",
      "  * Yarg cheese. A semi-hard cow's milk cheese made in Cornwall. It is covered around the outside with nettles. An alternative variety is covered with wild garlic leaves. (updated May 2023)\n",
      "  * Vegetarian food. Easy to find in Cornwall - even in tiny towns with just one pub there is frequently a meatless option. (updated Mar 2017)\n",
      "\n",
      "### Sweet\n",
      "\n",
      "[edit]\n",
      "\n",
      "Cornish cream tea – scones with jam and clotted cream' metadata={'language': 'en', 'source': 'https://en.wikivoyage.org/wiki/Cornwall', 'title': 'Cornwall – Travel guide at Wikivoyage'}\n",
      "page_content='## See\n",
      "\n",
      "[edit]\n",
      "\n",
      "The Cheesewring at Minions, Bodmin Moor. St. Michael's Mount lies offshore\n",
      "close to Penzance.\n",
      "\n",
      "Cornwall boasts many attractions for the traveller, many lying outside of\n",
      "cities and towns amidst the Cornish landscape:\n",
      "\n",
      "  * Within the 208 m² of the Bodmin Moor, is **King Arthur's Hall** , a megalithic monument and **Brown Willy** , the highest point in Cornwall at 417 m (1,368 ft). **Dozmary Pool** is a small beautiful lake where, according to legend, King Arthur was entrusted with the sword Excalibur. There is also a reputed **Beast of the Moor** , a large wild-cat that haunts and stalks at night, but is similar in fantasy to the Loch Ness Monster, in that no one can prove it exists, though sightings, theories and track-marks abound.\n",
      "  * The **Eden Project** , near St Austell, a fabulous collection of flora from all over the planet housed in two 'space age' transparent domes.\n",
      "  * The **Lost Gardens of Heligan** \\- near Mevagissey, 80 acres (32 hectares) of stunning landscaped scenery with a huge complex of walled flower and vegetable gardens\n",
      "  * **Tintagel Castle** legendary birthplace of the famous King Arthur and seat of the kings of Cornwall. Earl Richard of Cornwall and King of the Romans built the present medieval castle at the site. Ongoing excavations are revealing a Cornish royal seat of the period 400 to 700 AD.\n",
      "  * **Minack Theatre** is an outdoor theatre built by hand into the side of cliff over looking the ocean; between the villages of Porthcurno and St Levan, the theatre includes a museum and offers tours when there are no performances.\n",
      "  * The **TateSt Ives**, one of the four Tate galleries in the UK - Modern Art\n",
      "  * The **National Maritime Museum** Falmouth. Home of the National Maritime Museum's small boat collection and other exhibits.\n",
      "  * **Mining heritage** is evident across the county in the remnants of former tin and copper mines as featured in the 1975 and 2015 TV adaptations of Winston Graham's _Poldark._ A large selection of Industrial Heritage attractions includes: Geevor Tin Mine, Poldark Mine, King Edward Mine and Crown Hill Mines, Botallack.\n",
      "  * **Communication heritage** : due to its geographical location, the county formed the backdrop to major advancements in communication. Visitor sites are The Marconi Centre and the Telegraph Museum at Porthcurno. Rising above the Lizard Peninsula can also be seen the large dishes that form part of the Goonhilly Satellite Earth station.\n",
      "\n",
      "### National Trust properties\n",
      "\n",
      "[edit]' metadata={'language': 'en', 'source': 'https://en.wikivoyage.org/wiki/Cornwall', 'title': 'Cornwall – Travel guide at Wikivoyage'}\n"
     ]
    }
   ],
   "source": [
    "coarse_results = uk_coarse_collection.similarity_search(query=\"Beaches in Cornwall\",k=4)\n",
    "for doc in coarse_results:\n",
    "    print(doc)"
   ]
  },
  {
   "cell_type": "markdown",
   "id": "ebdc4852-ead2-4204-91e6-0e7fd50cf1ac",
   "metadata": {},
   "source": [
    "# Embedding strategy"
   ]
  },
  {
   "cell_type": "markdown",
   "id": "09f70a0b-38e2-47ca-8755-9706d33ffce7",
   "metadata": {},
   "source": [
    "## Embedding child chunks with ParentDocumentRetriever"
   ]
  },
  {
   "cell_type": "code",
   "execution_count": 30,
   "id": "6ae415a1-d2ed-46d9-bd8f-057c9bebb61b",
   "metadata": {},
   "outputs": [],
   "source": [
    "from langchain.retrievers import ParentDocumentRetriever\n",
    "from langchain.storage import InMemoryStore\n",
    "from langchain_chroma import Chroma\n",
    "from langchain_openai import OpenAIEmbeddings\n",
    "from langchain_community.document_loaders import AsyncHtmlLoader\n",
    "from langchain_text_splitters import RecursiveCharacterTextSplitter"
   ]
  },
  {
   "cell_type": "markdown",
   "id": "214af40c-ae46-4c3d-a222-834bc319667e",
   "metadata": {},
   "source": [
    "### Setting up the Parent Document retriever"
   ]
  },
  {
   "cell_type": "code",
   "execution_count": 33,
   "id": "8c947ba1-92bf-475a-87f6-0420129e6cec",
   "metadata": {},
   "outputs": [],
   "source": [
    "parent_splitter = RecursiveCharacterTextSplitter(chunk_size=3000) #A\n",
    "child_splitter = RecursiveCharacterTextSplitter(chunk_size=500) #B\n",
    "\n",
    "child_chunks_collection = Chroma( #C\n",
    "    collection_name=\"uk_child_chunks\",\n",
    "    embedding_function=OpenAIEmbeddings(openai_api_key=OPENAI_API_KEY),\n",
    ")\n",
    "\n",
    "child_chunks_collection.reset_collection() #D\n",
    "\n",
    "doc_store = InMemoryStore() #E\n",
    "\n",
    "parent_doc_retriever = ParentDocumentRetriever( #F\n",
    "    vectorstore=child_chunks_collection,\n",
    "    docstore=doc_store,\n",
    "    child_splitter=child_splitter,\n",
    "    parent_splitter=parent_splitter\n",
    ")\n",
    "#A Splitter to generate parent coarse chunks from original documents (parsed from web pages)\n",
    "#B Splitter to generate child granular chunks from parent coarse chunks\n",
    "#C Vector store collection to host child granular chunks\n",
    "#D Make sure the collection is empty\n",
    "#E Document store to host parent coarse chunks\n",
    "#F Retriever to link parent coarse chunks to child granular chunks"
   ]
  },
  {
   "cell_type": "markdown",
   "id": "4754846f-acd0-4cea-a145-751199a7a348",
   "metadata": {},
   "source": [
    "### Ingesting the content into doc and vector store"
   ]
  },
  {
   "cell_type": "code",
   "execution_count": 34,
   "id": "2d1861fa-fce3-4c90-acac-2638f71226e5",
   "metadata": {},
   "outputs": [
    {
     "name": "stderr",
     "output_type": "stream",
     "text": [
      "Fetching pages: 100%|####################################################################| 1/1 [00:00<00:00, 11.27it/s]\n"
     ]
    },
    {
     "name": "stdout",
     "output_type": "stream",
     "text": [
      "Ingesting https://en.wikivoyage.org/wiki/Cornwall\n"
     ]
    },
    {
     "name": "stderr",
     "output_type": "stream",
     "text": [
      "Fetching pages: 100%|####################################################################| 1/1 [00:00<00:00, 15.88it/s]\n"
     ]
    },
    {
     "name": "stdout",
     "output_type": "stream",
     "text": [
      "Ingesting https://en.wikivoyage.org/wiki/North_Cornwall\n"
     ]
    },
    {
     "name": "stderr",
     "output_type": "stream",
     "text": [
      "Fetching pages: 100%|####################################################################| 1/1 [00:00<00:00, 17.27it/s]\n"
     ]
    },
    {
     "name": "stdout",
     "output_type": "stream",
     "text": [
      "Ingesting https://en.wikivoyage.org/wiki/South_Cornwall\n"
     ]
    },
    {
     "name": "stderr",
     "output_type": "stream",
     "text": [
      "Fetching pages: 100%|####################################################################| 1/1 [00:00<00:00, 15.51it/s]\n"
     ]
    },
    {
     "name": "stdout",
     "output_type": "stream",
     "text": [
      "Ingesting https://en.wikivoyage.org/wiki/West_Cornwall\n"
     ]
    },
    {
     "name": "stderr",
     "output_type": "stream",
     "text": [
      "Fetching pages: 100%|####################################################################| 1/1 [00:00<00:00, 16.83it/s]\n"
     ]
    },
    {
     "name": "stdout",
     "output_type": "stream",
     "text": [
      "Ingesting https://en.wikivoyage.org/wiki/Tintagel\n"
     ]
    },
    {
     "name": "stderr",
     "output_type": "stream",
     "text": [
      "Fetching pages: 100%|####################################################################| 1/1 [00:00<00:00, 15.67it/s]\n"
     ]
    },
    {
     "name": "stdout",
     "output_type": "stream",
     "text": [
      "Ingesting https://en.wikivoyage.org/wiki/Bodmin\n"
     ]
    },
    {
     "name": "stderr",
     "output_type": "stream",
     "text": [
      "Fetching pages: 100%|####################################################################| 1/1 [00:00<00:00, 15.79it/s]\n"
     ]
    },
    {
     "name": "stdout",
     "output_type": "stream",
     "text": [
      "Ingesting https://en.wikivoyage.org/wiki/Wadebridge\n"
     ]
    },
    {
     "name": "stderr",
     "output_type": "stream",
     "text": [
      "Fetching pages: 100%|####################################################################| 1/1 [00:00<00:00, 14.39it/s]\n"
     ]
    },
    {
     "name": "stdout",
     "output_type": "stream",
     "text": [
      "Ingesting https://en.wikivoyage.org/wiki/Penzance\n"
     ]
    },
    {
     "name": "stderr",
     "output_type": "stream",
     "text": [
      "Fetching pages: 100%|####################################################################| 1/1 [00:00<00:00, 15.89it/s]\n"
     ]
    },
    {
     "name": "stdout",
     "output_type": "stream",
     "text": [
      "Ingesting https://en.wikivoyage.org/wiki/Newquay\n"
     ]
    },
    {
     "name": "stderr",
     "output_type": "stream",
     "text": [
      "Fetching pages: 100%|####################################################################| 1/1 [00:00<00:00, 15.58it/s]\n"
     ]
    },
    {
     "name": "stdout",
     "output_type": "stream",
     "text": [
      "Ingesting https://en.wikivoyage.org/wiki/St_Ives\n"
     ]
    },
    {
     "name": "stderr",
     "output_type": "stream",
     "text": [
      "Fetching pages: 100%|####################################################################| 1/1 [00:00<00:00, 18.88it/s]\n"
     ]
    },
    {
     "name": "stdout",
     "output_type": "stream",
     "text": [
      "Ingesting https://en.wikivoyage.org/wiki/Port_Isaac\n"
     ]
    },
    {
     "name": "stderr",
     "output_type": "stream",
     "text": [
      "Fetching pages: 100%|####################################################################| 1/1 [00:00<00:00, 18.61it/s]\n"
     ]
    },
    {
     "name": "stdout",
     "output_type": "stream",
     "text": [
      "Ingesting https://en.wikivoyage.org/wiki/Looe\n"
     ]
    },
    {
     "name": "stderr",
     "output_type": "stream",
     "text": [
      "Fetching pages: 100%|####################################################################| 1/1 [00:00<00:00, 16.44it/s]\n"
     ]
    },
    {
     "name": "stdout",
     "output_type": "stream",
     "text": [
      "Ingesting https://en.wikivoyage.org/wiki/Polperro\n"
     ]
    },
    {
     "name": "stderr",
     "output_type": "stream",
     "text": [
      "Fetching pages: 100%|####################################################################| 1/1 [00:00<00:00, 17.24it/s]\n"
     ]
    },
    {
     "name": "stdout",
     "output_type": "stream",
     "text": [
      "Ingesting https://en.wikivoyage.org/wiki/PorthlevenEast_Sussex\n"
     ]
    },
    {
     "name": "stderr",
     "output_type": "stream",
     "text": [
      "Fetching pages: 100%|####################################################################| 1/1 [00:00<00:00, 11.85it/s]\n"
     ]
    },
    {
     "name": "stdout",
     "output_type": "stream",
     "text": [
      "Ingesting https://en.wikivoyage.org/wiki/Brighton\n"
     ]
    },
    {
     "name": "stderr",
     "output_type": "stream",
     "text": [
      "Fetching pages: 100%|####################################################################| 1/1 [00:00<00:00, 17.50it/s]\n"
     ]
    },
    {
     "name": "stdout",
     "output_type": "stream",
     "text": [
      "Ingesting https://en.wikivoyage.org/wiki/Battle\n"
     ]
    },
    {
     "name": "stderr",
     "output_type": "stream",
     "text": [
      "Fetching pages: 100%|####################################################################| 1/1 [00:00<00:00, 12.01it/s]\n"
     ]
    },
    {
     "name": "stdout",
     "output_type": "stream",
     "text": [
      "Ingesting https://en.wikivoyage.org/wiki/Hastings_(England)\n"
     ]
    },
    {
     "name": "stderr",
     "output_type": "stream",
     "text": [
      "Fetching pages: 100%|####################################################################| 1/1 [00:00<00:00, 16.94it/s]\n"
     ]
    },
    {
     "name": "stdout",
     "output_type": "stream",
     "text": [
      "Ingesting https://en.wikivoyage.org/wiki/Rye_(England)\n"
     ]
    },
    {
     "name": "stderr",
     "output_type": "stream",
     "text": [
      "Fetching pages: 100%|####################################################################| 1/1 [00:00<00:00, 14.83it/s]\n"
     ]
    },
    {
     "name": "stdout",
     "output_type": "stream",
     "text": [
      "Ingesting https://en.wikivoyage.org/wiki/Seaford\n"
     ]
    },
    {
     "name": "stderr",
     "output_type": "stream",
     "text": [
      "Fetching pages: 100%|####################################################################| 1/1 [00:00<00:00, 14.11it/s]\n"
     ]
    },
    {
     "name": "stdout",
     "output_type": "stream",
     "text": [
      "Ingesting https://en.wikivoyage.org/wiki/Ashdown_Forest\n"
     ]
    }
   ],
   "source": [
    "for destination_url in uk_destination_urls:\n",
    "    html_loader = AsyncHtmlLoader(destination_url) #A\n",
    "    html_docs =  html_loader.load() #B\n",
    "    text_docs = html2text_transformer.transform_documents(html_docs) #C\n",
    "\n",
    "    print(f'Ingesting {destination_url}')\n",
    "    parent_doc_retriever.add_documents(text_docs, ids=None) #D\n",
    "\n",
    "#A Loader for destination web page\n",
    "#B HTML documents of one destination \n",
    "#C Transform HTML docs into clean text deocs\n",
    "#D Ingest coarse chunks into document store and granular chunks into vector store"
   ]
  },
  {
   "cell_type": "code",
   "execution_count": 35,
   "id": "84e00563-dafc-4c62-95d5-103dd95d66b3",
   "metadata": {},
   "outputs": [
    {
     "data": {
      "text/plain": [
       "['4bc51b46-41db-41c4-b6bc-85dbcfad8fbc',\n",
       " '897ba8c3-2954-4853-a61b-77debfcb0417',\n",
       " '06938d31-1808-47b3-8d51-e787fdf5cb2c',\n",
       " '8e620218-1ff3-4c89-9ba4-befe16689a6c',\n",
       " '849097d3-380a-4736-a2ba-62b5e93ba0de',\n",
       " '746264d6-fe04-4137-b86e-394aeea9d720',\n",
       " '366f12d5-1b20-42a9-88d2-99a192f2104e',\n",
       " 'f6f73640-42e3-4364-9997-3154845f592a',\n",
       " 'ec7b597d-f90c-4437-a017-2264dc116efd',\n",
       " 'b1fea0e2-99a9-4f42-b615-b4fa75dda6bc',\n",
       " '1c35cb8e-7364-4268-9217-c4c53329e641',\n",
       " '964fa280-6881-49a5-bb0f-f5761aab59b8',\n",
       " '26de82f2-cdfa-4442-af64-c43141c9bfb9',\n",
       " '0908c3d7-83c8-4e2f-82eb-84f92ac4bc43',\n",
       " '25adcbd5-d705-4dfe-9084-ad963ea0545b',\n",
       " '75efd3b4-51eb-4194-8589-90cbf587afa4',\n",
       " 'c702a9fc-b46b-4804-8957-4698640ddb11',\n",
       " 'b0c44e37-f805-4029-846a-6c5fa2974699',\n",
       " '8d2a1195-5833-43ca-bcf0-25ebb1fa95dc',\n",
       " 'e69ff852-2bde-4977-8094-0fb17b7f851c',\n",
       " '0fe2d83f-aa26-4e49-b7c0-2ecc8336d3e7',\n",
       " '8c05b58d-f61d-467b-9af2-a1ae097c4ca6',\n",
       " 'ebae8aa6-9cfa-4388-8449-19ebfbacf9ad',\n",
       " 'fb64a38b-870e-47ef-ab86-e51cb0a6cd7a',\n",
       " '349b7f0f-ede5-408e-9478-d207c243f95e',\n",
       " 'bae5de2b-904e-46dd-94b8-c5b65e3fb6c7',\n",
       " 'dd7289c2-dd6f-4346-9332-e74d5a07cfaa',\n",
       " 'eacc8631-6f29-4788-8f21-2f4d6b69a781',\n",
       " 'c5f95597-2ab3-48fe-95cc-2985c8c8b187',\n",
       " 'd5f5027a-2ada-4cd1-8c29-e3e007df761c',\n",
       " '8f152512-1c30-4612-80dd-da30b8a7a3d1',\n",
       " '73fac6b9-95d0-4c43-b9e2-16f15e4f09b9',\n",
       " '29c7160d-75c5-48fb-8b0c-921be3c9d32e',\n",
       " '6159c6a4-d3fc-4259-874d-57087466722f',\n",
       " '9fcd9821-9d14-4d7f-95e4-f9f360017f29',\n",
       " 'a5ed1bc9-9bab-4673-8f81-1e53332c6955',\n",
       " '0502d11f-7502-4dcc-8136-5215bf195b2f',\n",
       " '63ab54dc-185b-46c6-b952-9ae2be773d27',\n",
       " 'c5015ff9-41de-4981-8aa5-fecac3de1ee6',\n",
       " '7bb54a2d-bbb3-45c6-a4ac-29afdf161a2a',\n",
       " '40e7a1c9-549b-40ce-8318-23d2615f75cb',\n",
       " '06a66e03-e5dd-4d66-9cce-acd0e9a69f12',\n",
       " 'f86ebf37-3066-4881-8251-343e7f3fbea3',\n",
       " '7de32328-44d9-46b3-840a-44151ad109d7',\n",
       " '920f7c9b-fbfe-4a18-a25e-29e9eaf81434',\n",
       " '233bde17-4368-4b51-a3bd-d506d16ea865',\n",
       " 'b7b05087-c25b-4231-ad7d-8170cf8c5e0b',\n",
       " 'f3f2ca2e-e772-445c-b6d9-26b274c62963',\n",
       " '8657fda0-7523-4606-9605-0a79e234cd8e',\n",
       " 'fad43390-c73d-4923-9239-6e8f8f09d28d',\n",
       " '4c9345c6-f3d9-44a8-8fb0-a3c6637983e3',\n",
       " '542ad799-c09e-468b-9096-3edb1614e77d',\n",
       " '0cbe8e3f-174e-4c0e-bf43-b8d3b371547d',\n",
       " 'a587b273-45c4-49a6-8297-c3eb0904cb95',\n",
       " 'af7f9b88-84cd-4e9d-bd5a-f988ae0877ca',\n",
       " '796639e0-f07f-412d-98af-b373b8179872',\n",
       " 'a04d2364-4619-4276-b715-7ce52316813a',\n",
       " 'a392f118-07cd-4ee9-8700-3fe0bcf64208',\n",
       " '3ce50631-e81f-4afd-94df-c46f8a3d6582',\n",
       " '733182b5-8363-4fd4-a917-354e837c77b1',\n",
       " '20f569c0-0c95-4299-a7ee-b4a8abeefee2',\n",
       " 'e3b3f633-e9be-495c-add6-5b3a4c834b5a',\n",
       " '200f7c20-70bb-4d11-8fab-c9aed89edbe9',\n",
       " '5f380754-c1d5-413b-ae0e-2d5e7310b825',\n",
       " '51bb0d0a-2195-49f4-9e36-b27afbd36a76',\n",
       " '020e12c5-34d8-4ffc-9617-e7cf85200547',\n",
       " '70956da6-8637-4a23-a9d5-6c8c73d6ba3a',\n",
       " 'c82ab8f7-eef4-4951-8f02-4fa1756bd80d',\n",
       " '575e194c-d582-4a70-9f75-894a056f6aca',\n",
       " '00b72b66-6ec5-40b3-846a-a0d90c2bcffb',\n",
       " '8c026b85-44f0-4f3c-ad22-119fc14a63b7',\n",
       " '6c044caf-a406-487c-b0e8-7b76b7386bad',\n",
       " '2929874d-f24a-4e58-9079-d143a3b2388d',\n",
       " 'c0714b08-1ed8-49af-a2dc-3caffbe42045',\n",
       " 'a9365f08-59e2-4aab-b9ad-bbaf689be9e6',\n",
       " '7d2d4869-28ce-4019-869e-caecb4bd6131',\n",
       " 'f2f3d926-75b3-48ce-9fe0-30143e98f6a4',\n",
       " '4fa020f4-ea7a-4be8-872d-317f38aa40dc',\n",
       " '04542a0b-4fd6-4bb3-8908-41c713ccf018',\n",
       " '64a1a3fb-d25f-4d13-b409-5352667af39c',\n",
       " 'ea7b0d0b-c71b-467a-9197-b94991bba900',\n",
       " '7e2f4795-d44a-406e-b56a-9b77d6fc4772',\n",
       " '46860431-40fa-4517-a4bd-bf27b69d3ae3',\n",
       " 'affa1c57-bb0e-4e23-ac69-a9b41a283350',\n",
       " '6f5e79b0-3d4e-4150-b9c4-1ba63c3abaea',\n",
       " 'dfb93a15-8cca-4056-acb2-ed633193f32b',\n",
       " '6316f805-2fad-4020-a1cd-c38dc6bdb64f',\n",
       " '39291266-f80c-4156-ab3c-38cf80375831',\n",
       " 'a058b743-172b-4c70-b0f3-97b19937ccd8',\n",
       " '9d2bf14b-5784-4472-b96f-7446cd4401ce',\n",
       " 'a38b527b-a0a7-44e2-8e26-01affcd2e0ec',\n",
       " 'ac75a1de-2362-47fc-8ee0-24ac5b626d28',\n",
       " 'e659ca90-0e2f-44a6-a40a-a32a4ba9305c',\n",
       " '37c8ca99-e116-4737-917c-2f623937e00b',\n",
       " '2220d7c7-d9da-427b-9656-d39278e5ef4f',\n",
       " 'fe89b633-f71e-44d6-b27c-3f6c4e77e9a3',\n",
       " '1e565956-0cad-43c1-9373-6970af08010b',\n",
       " '356afcf5-4b33-46a8-9071-aabb854c9d71',\n",
       " 'da7c909c-5cbe-477a-be31-9e963ad80eed',\n",
       " '9973bb35-66dd-48a8-8cef-764ef086f701',\n",
       " '37352fde-c6d0-4876-a7b2-5e9338bc9100',\n",
       " '0e482b6a-3810-4ec4-a9d2-819ed6791dea',\n",
       " '0a3c98e9-8768-4a16-8b44-78c100e97067',\n",
       " '87c97aba-176f-47ef-98d2-1ddfe35f5bbd',\n",
       " 'aaffa0b9-aa18-4128-a946-e18f8ac7a907',\n",
       " 'bbb9e90e-4202-4720-bf85-c3ad4f71d693',\n",
       " 'a1aeccc9-0ee9-4898-af00-b9ec53506172',\n",
       " '45ab4382-b882-4b8f-ac0b-cf27346602a2',\n",
       " 'efb4b8ac-883f-4b5f-bf97-5a4e64d5109a',\n",
       " '66829e30-c2f5-464b-85e5-2a465387990c',\n",
       " '0bf913ad-13b6-4fda-8201-051a69756ff7',\n",
       " '6f7d9ace-aba2-4dba-9eca-9c8d601f2427',\n",
       " '58bcf840-9025-4d09-90e1-3322d30f60b2',\n",
       " 'cfadee6e-a3db-4929-b552-bdba5844443a',\n",
       " '8e9e22b3-8611-4778-a9a0-81f76b3bf967',\n",
       " '62c4f45a-508d-4fb1-b202-f81e0293b204',\n",
       " 'a05ffbc5-8e19-49f8-8298-54a899ebed52',\n",
       " '973a21ed-cad5-4632-a467-1b88f3f9c209',\n",
       " 'e6ad4588-b4f8-4246-b12f-8f852cb8be2b',\n",
       " 'db61dae5-05d6-4485-82f4-194baea63898',\n",
       " '7a6679d4-78ce-41b2-ae49-dc4eff25c449',\n",
       " '08011665-97a7-49ac-ae0b-d79a66af7950',\n",
       " 'fac00d36-e1ff-435f-9573-a04d6207ee28',\n",
       " '825d0378-96a7-40f9-910d-24899ac133dd',\n",
       " '18ff64f0-2abc-4cc6-b79c-7ac84b3d9cf2',\n",
       " '318cb03b-fec0-431b-a242-981b8e13ea82',\n",
       " '05c2e650-54a2-4c8f-9f1d-709b577a0ad2',\n",
       " '867f1517-2ed5-4ff3-b525-ca4f0c0249dc',\n",
       " '0f1f1287-bbcb-4327-bb4b-a9eb0062511e',\n",
       " '6bc6197f-ecdb-40e0-bcc8-ed7edd7cfd8c',\n",
       " 'b575e261-b33e-4b6f-adda-3cee6f11e095',\n",
       " 'f308220c-7dc7-4409-8480-d3c770590413',\n",
       " '50791839-9941-430b-aa50-b1c8c103582d',\n",
       " '0f0565bb-b454-454d-b32b-1951180fa26f',\n",
       " '98d0a279-0b18-4546-aebc-b0ba0daf1d56',\n",
       " 'a21a63fb-4b62-4f6b-954e-a5caeae625bb',\n",
       " 'a9322d52-087c-4919-a0ef-9c6abcacba37',\n",
       " '23d8bc82-d1d9-4ce5-9b6f-a09ed9661809']"
      ]
     },
     "execution_count": 35,
     "metadata": {},
     "output_type": "execute_result"
    }
   ],
   "source": [
    "list(doc_store.yield_keys())\n",
    "#A Show the keys of the added coarse chunks"
   ]
  },
  {
   "cell_type": "markdown",
   "id": "97608850-5850-47aa-9e41-dbe46f96a8ac",
   "metadata": {},
   "source": [
    "### Performing a search on granular information "
   ]
  },
  {
   "cell_type": "code",
   "execution_count": 45,
   "id": "69b6de30-97e9-4e91-b851-2544d2e8c921",
   "metadata": {},
   "outputs": [],
   "source": [
    "retrieved_docs = parent_doc_retriever.invoke(\"Cornwall Ranger\")"
   ]
  },
  {
   "cell_type": "code",
   "execution_count": 46,
   "id": "8e141ea0-ae5a-47bb-bd6e-5954a0b78ecb",
   "metadata": {},
   "outputs": [
    {
     "data": {
      "text/plain": [
       "4"
      ]
     },
     "execution_count": 46,
     "metadata": {},
     "output_type": "execute_result"
    }
   ],
   "source": [
    "len(retrieved_docs)"
   ]
  },
  {
   "cell_type": "code",
   "execution_count": 47,
   "id": "02a1a5cb-6ddc-434f-8dda-026b5d3a6551",
   "metadata": {},
   "outputs": [
    {
     "data": {
      "text/plain": [
       "Document(metadata={'source': 'https://en.wikivoyage.org/wiki/South_Cornwall', 'title': 'South Cornwall – Travel guide at Wikivoyage', 'language': 'en'}, page_content=\"Trains from London take about 3 hr 20 min to Plymouth.\\n\\n### By car\\n\\n[edit]\\n\\nCornwall can be accessed by road via the A30 which runs from the end of the M5\\nat Exeter, all the way through the heart of Devon and Cornwall down to Land's\\nEnd. It is a grade-separated expressway as far as Carland Cross near Truro\\n(the expressway is expected to be open as far as Camborne (between Redruth and\\nHayle) by March 2024). You can also get to Cornwall via the A38, crossing the\\nRiver Tamar at Plymouth via the Tamar Bridge, which levies a toll on eastbound\\nvehicles. On summer Saturdays and during bank holiday weekends roads to\\nCornwall are usually busy.\\n\\n## Get around\\n\\n[edit]\\n\\n### By bus\\n\\n[edit]\\n\\nThanks to Transport for Cornwall, all bus tickets are interchangeable across\\nthe different companies. The **Cornwall All Day ticket** allows unlimited\\ntravel for a calendar day. As of 2023, fares are £5 for adults and £4 for\\nunder-19s. Payment is by cash or contactless. The two main bus companies are:\\n\\n  * **Go Cornwall Bus** covers all parts of Cornwall and connects with Plymouth (in Devon).\\n  * **Kernow** (part of First Bus) covers western and central Cornwall.\\n\\nBuses only serve designated stops when in towns; otherwise, you can flag them\\ndown anywhere that's safe for them to stop.\\n\\n### By train\\n\\n[edit]\\n\\n**CrossCountry Trains** and **Great Western Railway** operate regular train\\nservices between the main centres of population, the latter company also\\nserving a number of other towns on branch lines. For train times and fares\\nvisit National Rail Enquiries.\\n\\nThe **Cornwall Ranger** ticket allows unlimited train travel in Cornwall and\\nPlymouth for a calendar day. As of 2023, this costs £14 for adults and £7 for\\nunder-16s.\\n\\n## See\\n\\n[edit]\\n\\nThe **Eden Project** , near St Austell, a fabulous collection of flora from\\nall over the planet housed in two space age transparent domes, and a massive\\nzip line.\\n\\nThe **Lost Gardens of Heligan** , near Mevagissey, 80 acres (32 hectares) of\\nstunning landscaped scenery with a huge complex of walled flower and vegetable\\ngardens.\\n\\nThe **National Maritime Museum** Falmouth is the ome of the National Maritime\\nMuseum's small boat collection and other exhibits.\\n\\n### National Trust properties\\n\\n[edit]\\n\\n**Antony House** near Torpoint: an 18th-century house set within a magnificent\\nlandscape garden, still home to the Carew Pole family.\\n\\n**Cotehele - St Dominick** , near Saltash: an atmospheric Tudor house with\\nMedieval roots, a mill on a historic quay, a glorious garden with valley views\\nand an expansive estate to explore.\\n\\n**Trelissick, Feock** , near Truro, is welcoming house and garden set in an\\nestate with stunning maritime views and lovely woodland walks.\\n\\n**Glendurgan, Mawnan Smith** , near Falmouth, is a historic and exotic wooded\\nvalley garden leading down to the River Helford\\n\\n## Do\\n\\n[edit]\")"
      ]
     },
     "execution_count": 47,
     "metadata": {},
     "output_type": "execute_result"
    }
   ],
   "source": [
    "retrieved_docs[0]"
   ]
  },
  {
   "cell_type": "markdown",
   "id": "4527721d-ac1e-4bef-8357-057ccd136168",
   "metadata": {},
   "source": [
    "### Comparing with direct semantic search on child chunks"
   ]
  },
  {
   "cell_type": "code",
   "execution_count": 48,
   "id": "63f64414-2f68-4063-9122-9038d293b883",
   "metadata": {},
   "outputs": [],
   "source": [
    "child_docs_only =  child_chunks_collection.similarity_search(\"Cornwall Ranger\")"
   ]
  },
  {
   "cell_type": "code",
   "execution_count": 49,
   "id": "0d17273c-a790-4ec8-91ce-7ab286526b66",
   "metadata": {},
   "outputs": [
    {
     "data": {
      "text/plain": [
       "4"
      ]
     },
     "execution_count": 49,
     "metadata": {},
     "output_type": "execute_result"
    }
   ],
   "source": [
    "len(child_docs_only)"
   ]
  },
  {
   "cell_type": "code",
   "execution_count": 50,
   "id": "8ba7ddcc-d741-4cbf-9a64-3e2c10f23d0e",
   "metadata": {},
   "outputs": [
    {
     "data": {
      "text/plain": [
       "Document(metadata={'doc_id': '03d8e7e2-27d4-4921-8457-2487408a4c72', 'language': 'en', 'source': 'https://en.wikivoyage.org/wiki/South_Cornwall', 'title': 'South Cornwall – Travel guide at Wikivoyage'}, page_content='The **Cornwall Ranger** ticket allows unlimited train travel in Cornwall and\\nPlymouth for a calendar day. As of 2023, this costs £14 for adults and £7 for\\nunder-16s.\\n\\n## See\\n\\n[edit]\\n\\nThe **Eden Project** , near St Austell, a fabulous collection of flora from\\nall over the planet housed in two space age transparent domes, and a massive\\nzip line.')"
      ]
     },
     "execution_count": 50,
     "metadata": {},
     "output_type": "execute_result"
    }
   ],
   "source": [
    "child_docs_only[0]"
   ]
  },
  {
   "cell_type": "code",
   "execution_count": 51,
   "id": "e3679005-8ecc-4b28-b832-79ffa0a3c9ff",
   "metadata": {},
   "outputs": [],
   "source": [
    "# IMPORTANT: as you can see a granular search would have identified the chunk, but it would have lost the usefulcontext about travelling in Cornwall"
   ]
  },
  {
   "cell_type": "markdown",
   "id": "8227294f-ec70-471e-ad80-867092f41f32",
   "metadata": {},
   "source": [
    "## Embedding child chunks with MultiVectorRetriever"
   ]
  },
  {
   "cell_type": "code",
   "execution_count": 52,
   "id": "eea30aa7-2e8b-48be-84f9-91d21a630e31",
   "metadata": {},
   "outputs": [],
   "source": [
    "from langchain.retrievers.multi_vector import MultiVectorRetriever\n",
    "from langchain.storage import InMemoryByteStore\n",
    "from langchain_chroma import Chroma\n",
    "from langchain_openai import OpenAIEmbeddings\n",
    "from langchain_community.document_loaders import AsyncHtmlLoader\n",
    "from langchain_text_splitters import RecursiveCharacterTextSplitter\n",
    "import uuid"
   ]
  },
  {
   "cell_type": "markdown",
   "id": "ce7a3e54-dc7b-4c79-b237-9de11e326c0c",
   "metadata": {},
   "source": [
    "### Setting up the Multi vector retriever"
   ]
  },
  {
   "cell_type": "code",
   "execution_count": 53,
   "id": "2f8a59f4-630b-4b9a-8682-d6bfeb72c9b3",
   "metadata": {},
   "outputs": [],
   "source": [
    "parent_splitter = RecursiveCharacterTextSplitter(chunk_size=3000) #A\n",
    "child_splitter = RecursiveCharacterTextSplitter(chunk_size=500) #B\n",
    "\n",
    "child_chunks_collection = Chroma( #C\n",
    "    collection_name=\"uk_child_chunks\",\n",
    "    embedding_function=OpenAIEmbeddings(openai_api_key=OPENAI_API_KEY),\n",
    ")\n",
    "\n",
    "child_chunks_collection.reset_collection() #D\n",
    "\n",
    "doc_byte_store = InMemoryByteStore() #E\n",
    "doc_key = \"doc_id\"\n",
    "\n",
    "multi_vector_retriever = MultiVectorRetriever( #F\n",
    "    vectorstore=child_chunks_collection,\n",
    "    byte_store=doc_byte_store\n",
    ")\n",
    "#A Splitter to generate parent coarse chunks from original documents (parsed from web pages)\n",
    "#B Splitter to generate child granular chunks from parent coarse chunks\n",
    "#C Vector store collection to host child granular chunks\n",
    "#D Make sure the collection is empty\n",
    "#E Document store to host parent coarse chunks\n",
    "#F Retriever to link parent coarse chunks to child granular chunks"
   ]
  },
  {
   "cell_type": "markdown",
   "id": "034c47fc-f243-450f-907b-74fb74f9261a",
   "metadata": {},
   "source": [
    "### Ingesting the content into doc and vector store"
   ]
  },
  {
   "cell_type": "code",
   "execution_count": 54,
   "id": "0838244c-45c3-4aac-a792-01562162f3b0",
   "metadata": {},
   "outputs": [
    {
     "name": "stderr",
     "output_type": "stream",
     "text": [
      "Fetching pages: 100%|####################################################################| 1/1 [00:00<00:00,  7.63it/s]\n"
     ]
    },
    {
     "name": "stdout",
     "output_type": "stream",
     "text": [
      "Ingesting https://en.wikivoyage.org/wiki/Cornwall\n"
     ]
    },
    {
     "name": "stderr",
     "output_type": "stream",
     "text": [
      "Fetching pages: 100%|####################################################################| 1/1 [00:00<00:00,  5.44it/s]\n"
     ]
    },
    {
     "name": "stdout",
     "output_type": "stream",
     "text": [
      "Ingesting https://en.wikivoyage.org/wiki/North_Cornwall\n"
     ]
    },
    {
     "name": "stderr",
     "output_type": "stream",
     "text": [
      "Fetching pages: 100%|####################################################################| 1/1 [00:00<00:00, 12.44it/s]\n"
     ]
    },
    {
     "name": "stdout",
     "output_type": "stream",
     "text": [
      "Ingesting https://en.wikivoyage.org/wiki/South_Cornwall\n"
     ]
    },
    {
     "name": "stderr",
     "output_type": "stream",
     "text": [
      "Fetching pages: 100%|####################################################################| 1/1 [00:00<00:00, 14.75it/s]\n"
     ]
    },
    {
     "name": "stdout",
     "output_type": "stream",
     "text": [
      "Ingesting https://en.wikivoyage.org/wiki/West_Cornwall\n"
     ]
    },
    {
     "name": "stderr",
     "output_type": "stream",
     "text": [
      "Fetching pages: 100%|####################################################################| 1/1 [00:00<00:00, 10.19it/s]\n"
     ]
    },
    {
     "name": "stdout",
     "output_type": "stream",
     "text": [
      "Ingesting https://en.wikivoyage.org/wiki/Tintagel\n"
     ]
    },
    {
     "name": "stderr",
     "output_type": "stream",
     "text": [
      "Fetching pages: 100%|####################################################################| 1/1 [00:00<00:00,  2.88it/s]\n"
     ]
    },
    {
     "name": "stdout",
     "output_type": "stream",
     "text": [
      "Ingesting https://en.wikivoyage.org/wiki/Bodmin\n"
     ]
    },
    {
     "name": "stderr",
     "output_type": "stream",
     "text": [
      "Fetching pages: 100%|####################################################################| 1/1 [00:00<00:00,  7.06it/s]\n"
     ]
    },
    {
     "name": "stdout",
     "output_type": "stream",
     "text": [
      "Ingesting https://en.wikivoyage.org/wiki/Wadebridge\n"
     ]
    },
    {
     "name": "stderr",
     "output_type": "stream",
     "text": [
      "Fetching pages: 100%|####################################################################| 1/1 [00:00<00:00,  9.02it/s]\n"
     ]
    },
    {
     "name": "stdout",
     "output_type": "stream",
     "text": [
      "Ingesting https://en.wikivoyage.org/wiki/Penzance\n"
     ]
    },
    {
     "name": "stderr",
     "output_type": "stream",
     "text": [
      "Fetching pages: 100%|####################################################################| 1/1 [00:00<00:00, 12.24it/s]\n"
     ]
    },
    {
     "name": "stdout",
     "output_type": "stream",
     "text": [
      "Ingesting https://en.wikivoyage.org/wiki/Newquay\n"
     ]
    },
    {
     "name": "stderr",
     "output_type": "stream",
     "text": [
      "Fetching pages: 100%|####################################################################| 1/1 [00:00<00:00, 10.46it/s]\n"
     ]
    },
    {
     "name": "stdout",
     "output_type": "stream",
     "text": [
      "Ingesting https://en.wikivoyage.org/wiki/St_Ives\n"
     ]
    },
    {
     "name": "stderr",
     "output_type": "stream",
     "text": [
      "Fetching pages: 100%|####################################################################| 1/1 [00:00<00:00,  9.92it/s]\n"
     ]
    },
    {
     "name": "stdout",
     "output_type": "stream",
     "text": [
      "Ingesting https://en.wikivoyage.org/wiki/Port_Isaac\n"
     ]
    },
    {
     "name": "stderr",
     "output_type": "stream",
     "text": [
      "Fetching pages: 100%|####################################################################| 1/1 [00:00<00:00, 12.64it/s]\n"
     ]
    },
    {
     "name": "stdout",
     "output_type": "stream",
     "text": [
      "Ingesting https://en.wikivoyage.org/wiki/Looe\n"
     ]
    },
    {
     "name": "stderr",
     "output_type": "stream",
     "text": [
      "Fetching pages: 100%|####################################################################| 1/1 [00:00<00:00, 11.69it/s]\n"
     ]
    },
    {
     "name": "stdout",
     "output_type": "stream",
     "text": [
      "Ingesting https://en.wikivoyage.org/wiki/Polperro\n"
     ]
    },
    {
     "name": "stderr",
     "output_type": "stream",
     "text": [
      "Fetching pages: 100%|####################################################################| 1/1 [00:00<00:00, 18.59it/s]\n"
     ]
    },
    {
     "name": "stdout",
     "output_type": "stream",
     "text": [
      "Ingesting https://en.wikivoyage.org/wiki/PorthlevenEast_Sussex\n"
     ]
    },
    {
     "name": "stderr",
     "output_type": "stream",
     "text": [
      "Fetching pages: 100%|####################################################################| 1/1 [00:00<00:00,  5.21it/s]\n"
     ]
    },
    {
     "name": "stdout",
     "output_type": "stream",
     "text": [
      "Ingesting https://en.wikivoyage.org/wiki/Brighton\n"
     ]
    },
    {
     "name": "stderr",
     "output_type": "stream",
     "text": [
      "Fetching pages: 100%|####################################################################| 1/1 [00:00<00:00, 11.14it/s]\n"
     ]
    },
    {
     "name": "stdout",
     "output_type": "stream",
     "text": [
      "Ingesting https://en.wikivoyage.org/wiki/Battle\n"
     ]
    },
    {
     "name": "stderr",
     "output_type": "stream",
     "text": [
      "Fetching pages: 100%|####################################################################| 1/1 [00:00<00:00,  8.23it/s]\n"
     ]
    },
    {
     "name": "stdout",
     "output_type": "stream",
     "text": [
      "Ingesting https://en.wikivoyage.org/wiki/Hastings_(England)\n"
     ]
    },
    {
     "name": "stderr",
     "output_type": "stream",
     "text": [
      "Fetching pages: 100%|####################################################################| 1/1 [00:00<00:00,  7.32it/s]\n"
     ]
    },
    {
     "name": "stdout",
     "output_type": "stream",
     "text": [
      "Ingesting https://en.wikivoyage.org/wiki/Rye_(England)\n"
     ]
    },
    {
     "name": "stderr",
     "output_type": "stream",
     "text": [
      "Fetching pages: 100%|####################################################################| 1/1 [00:00<00:00,  7.35it/s]\n"
     ]
    },
    {
     "name": "stdout",
     "output_type": "stream",
     "text": [
      "Ingesting https://en.wikivoyage.org/wiki/Seaford\n"
     ]
    },
    {
     "name": "stderr",
     "output_type": "stream",
     "text": [
      "Fetching pages: 100%|####################################################################| 1/1 [00:00<00:00,  6.01it/s]\n"
     ]
    },
    {
     "name": "stdout",
     "output_type": "stream",
     "text": [
      "Ingesting https://en.wikivoyage.org/wiki/Ashdown_Forest\n"
     ]
    }
   ],
   "source": [
    "for destination_url in uk_destination_urls:\n",
    "    html_loader = AsyncHtmlLoader(destination_url) #A\n",
    "    html_docs =  html_loader.load() #B\n",
    "    text_docs = html2text_transformer.transform_documents(html_docs) #C\n",
    "\n",
    "    coarse_chunks = parent_splitter.split_documents(text_docs) #D\n",
    "\n",
    "    coarse_chunks_ids = [str(uuid.uuid4()) for _ in coarse_chunks]\n",
    "    all_granular_chunks = []\n",
    "    for i, coarse_chunk in enumerate(coarse_chunks): #E\n",
    "        \n",
    "        coarse_chunk_id = coarse_chunks_ids[i]\n",
    "            \n",
    "        granular_chunks = child_splitter.split_documents([coarse_chunk]) #F\n",
    "\n",
    "        for granular_chunk in granular_chunks:\n",
    "            granular_chunk.metadata[doc_key] = coarse_chunk_id #G\n",
    "\n",
    "        all_granular_chunks.extend(granular_chunks)\n",
    "\n",
    "    print(f'Ingesting {destination_url}')\n",
    "    multi_vector_retriever.vectorstore.add_documents(all_granular_chunks) #H\n",
    "    multi_vector_retriever.docstore.mset(list(zip(coarse_chunks_ids, coarse_chunks))) #I\n",
    "\n",
    "#A Loader for one destination\n",
    "#B Documents of one destination \n",
    "#C transform HTML docs into clean text docs\n",
    "#D Split the destination content into parent coarse chunks\n",
    "#E Iterate over the parent coarse chunks\n",
    "#F Create child granular chunks form each parent coarse chunk\n",
    "#G Link each child granular chunk to its parent coarse chunk\n",
    "#H Ingest the child granular chunks into the vector store\n",
    "#I Ingest the parent coarse chunks into the document store"
   ]
  },
  {
   "cell_type": "markdown",
   "id": "f17d73a7-7b3c-40ad-b23c-7a9412952dcb",
   "metadata": {},
   "source": [
    "### Performing a search on granular information"
   ]
  },
  {
   "cell_type": "code",
   "execution_count": 55,
   "id": "f597304d-defd-42ff-83ea-c81eab2ae65c",
   "metadata": {},
   "outputs": [],
   "source": [
    "retrieved_docs = multi_vector_retriever.invoke(\"Cornwall Ranger\")"
   ]
  },
  {
   "cell_type": "code",
   "execution_count": 56,
   "id": "2fc78105-e074-411f-936c-ff789819b67b",
   "metadata": {},
   "outputs": [
    {
     "data": {
      "text/plain": [
       "4"
      ]
     },
     "execution_count": 56,
     "metadata": {},
     "output_type": "execute_result"
    }
   ],
   "source": [
    "len(retrieved_docs)"
   ]
  },
  {
   "cell_type": "code",
   "execution_count": 57,
   "id": "dbc93175-90b5-4b45-9480-e7c0ce544a67",
   "metadata": {},
   "outputs": [
    {
     "data": {
      "text/plain": [
       "Document(metadata={'source': 'https://en.wikivoyage.org/wiki/South_Cornwall', 'title': 'South Cornwall – Travel guide at Wikivoyage', 'language': 'en'}, page_content=\"Trains from London take about 3 hr 20 min to Plymouth.\\n\\n### By car\\n\\n[edit]\\n\\nCornwall can be accessed by road via the A30 which runs from the end of the M5\\nat Exeter, all the way through the heart of Devon and Cornwall down to Land's\\nEnd. It is a grade-separated expressway as far as Carland Cross near Truro\\n(the expressway is expected to be open as far as Camborne (between Redruth and\\nHayle) by March 2024). You can also get to Cornwall via the A38, crossing the\\nRiver Tamar at Plymouth via the Tamar Bridge, which levies a toll on eastbound\\nvehicles. On summer Saturdays and during bank holiday weekends roads to\\nCornwall are usually busy.\\n\\n## Get around\\n\\n[edit]\\n\\n### By bus\\n\\n[edit]\\n\\nThanks to Transport for Cornwall, all bus tickets are interchangeable across\\nthe different companies. The **Cornwall All Day ticket** allows unlimited\\ntravel for a calendar day. As of 2023, fares are £5 for adults and £4 for\\nunder-19s. Payment is by cash or contactless. The two main bus companies are:\\n\\n  * **Go Cornwall Bus** covers all parts of Cornwall and connects with Plymouth (in Devon).\\n  * **Kernow** (part of First Bus) covers western and central Cornwall.\\n\\nBuses only serve designated stops when in towns; otherwise, you can flag them\\ndown anywhere that's safe for them to stop.\\n\\n### By train\\n\\n[edit]\\n\\n**CrossCountry Trains** and **Great Western Railway** operate regular train\\nservices between the main centres of population, the latter company also\\nserving a number of other towns on branch lines. For train times and fares\\nvisit National Rail Enquiries.\\n\\nThe **Cornwall Ranger** ticket allows unlimited train travel in Cornwall and\\nPlymouth for a calendar day. As of 2023, this costs £14 for adults and £7 for\\nunder-16s.\\n\\n## See\\n\\n[edit]\\n\\nThe **Eden Project** , near St Austell, a fabulous collection of flora from\\nall over the planet housed in two space age transparent domes, and a massive\\nzip line.\\n\\nThe **Lost Gardens of Heligan** , near Mevagissey, 80 acres (32 hectares) of\\nstunning landscaped scenery with a huge complex of walled flower and vegetable\\ngardens.\\n\\nThe **National Maritime Museum** Falmouth is the ome of the National Maritime\\nMuseum's small boat collection and other exhibits.\\n\\n### National Trust properties\\n\\n[edit]\\n\\n**Antony House** near Torpoint: an 18th-century house set within a magnificent\\nlandscape garden, still home to the Carew Pole family.\\n\\n**Cotehele - St Dominick** , near Saltash: an atmospheric Tudor house with\\nMedieval roots, a mill on a historic quay, a glorious garden with valley views\\nand an expansive estate to explore.\\n\\n**Trelissick, Feock** , near Truro, is welcoming house and garden set in an\\nestate with stunning maritime views and lovely woodland walks.\\n\\n**Glendurgan, Mawnan Smith** , near Falmouth, is a historic and exotic wooded\\nvalley garden leading down to the River Helford\\n\\n## Do\\n\\n[edit]\")"
      ]
     },
     "execution_count": 57,
     "metadata": {},
     "output_type": "execute_result"
    }
   ],
   "source": [
    "retrieved_docs[0]"
   ]
  },
  {
   "cell_type": "code",
   "execution_count": 36,
   "id": "706a66cb-f58f-4fc9-b21f-af8433c5045e",
   "metadata": {},
   "outputs": [],
   "source": [
    "##IMPORTANT: same as Parent Document retriever, but more control and flexibility on how to link child to parent chunks"
   ]
  },
  {
   "cell_type": "markdown",
   "id": "682c6de6-31a2-4023-9c2e-12cd4049f608",
   "metadata": {},
   "source": [
    "### Comparing with direct semantic search on child chunks"
   ]
  },
  {
   "cell_type": "code",
   "execution_count": 59,
   "id": "9c32c243-4e9b-4686-bbbc-de3644b692f8",
   "metadata": {},
   "outputs": [],
   "source": [
    "child_docs_only =  child_chunks_collection.similarity_search(\"Cornwall Ranger\")"
   ]
  },
  {
   "cell_type": "code",
   "execution_count": 60,
   "id": "cdcea3a0-cc6c-4ba1-9bd9-2d34ff28e217",
   "metadata": {},
   "outputs": [
    {
     "data": {
      "text/plain": [
       "4"
      ]
     },
     "execution_count": 60,
     "metadata": {},
     "output_type": "execute_result"
    }
   ],
   "source": [
    "len(child_docs_only)"
   ]
  },
  {
   "cell_type": "code",
   "execution_count": 61,
   "id": "df226dad-4a97-4b57-a683-6d12d7cb0074",
   "metadata": {},
   "outputs": [
    {
     "data": {
      "text/plain": [
       "Document(metadata={'doc_id': '631e7780-e23d-4ca9-83fb-b0be24091611', 'language': 'en', 'source': 'https://en.wikivoyage.org/wiki/South_Cornwall', 'title': 'South Cornwall – Travel guide at Wikivoyage'}, page_content='The **Cornwall Ranger** ticket allows unlimited train travel in Cornwall and\\nPlymouth for a calendar day. As of 2023, this costs £14 for adults and £7 for\\nunder-16s.\\n\\n## See\\n\\n[edit]\\n\\nThe **Eden Project** , near St Austell, a fabulous collection of flora from\\nall over the planet housed in two space age transparent domes, and a massive\\nzip line.')"
      ]
     },
     "execution_count": 61,
     "metadata": {},
     "output_type": "execute_result"
    }
   ],
   "source": [
    "child_docs_only[0]"
   ]
  },
  {
   "cell_type": "code",
   "execution_count": 62,
   "id": "51966253-17d2-46c7-83bc-45eb9739e1a7",
   "metadata": {},
   "outputs": [],
   "source": [
    "## IMPORTANT: Same as before"
   ]
  },
  {
   "cell_type": "markdown",
   "id": "19391933-3458-4dc8-bb39-7d75d08d4d92",
   "metadata": {},
   "source": [
    "## Embedding summaries with MultiVectorRetriever"
   ]
  },
  {
   "cell_type": "code",
   "execution_count": 63,
   "id": "eb3918c0-519c-46f4-b75d-aaa1b0a8acca",
   "metadata": {},
   "outputs": [],
   "source": [
    "from langchain.retrievers.multi_vector import MultiVectorRetriever\n",
    "from langchain.storage import InMemoryByteStore\n",
    "from langchain_chroma import Chroma\n",
    "from langchain_openai import ChatOpenAI\n",
    "from langchain_openai import OpenAIEmbeddings\n",
    "from langchain_community.document_loaders import AsyncHtmlLoader\n",
    "from langchain_text_splitters import RecursiveCharacterTextSplitter\n",
    "from langchain_core.documents import Document\n",
    "from langchain_core.output_parsers import StrOutputParser\n",
    "from langchain_core.prompts import ChatPromptTemplate\n",
    "import uuid"
   ]
  },
  {
   "cell_type": "markdown",
   "id": "081ee57e-a9fb-4d7d-948a-fe0ed9c7dad1",
   "metadata": {},
   "source": [
    "### Setting up the Multi vector retriever (similar to when embedding child chunks)"
   ]
  },
  {
   "cell_type": "code",
   "execution_count": 64,
   "id": "489daa52-1f1b-4c78-9bde-0f7751730532",
   "metadata": {},
   "outputs": [],
   "source": [
    "parent_splitter = RecursiveCharacterTextSplitter(chunk_size=3000) #A\n",
    "\n",
    "summaries_collection = Chroma( #B\n",
    "    collection_name=\"uk_summaries\",\n",
    "    embedding_function=OpenAIEmbeddings(openai_api_key=OPENAI_API_KEY),\n",
    ")\n",
    "\n",
    "summaries_collection.reset_collection() #C\n",
    "\n",
    "doc_byte_store = InMemoryByteStore() #D\n",
    "doc_key = \"doc_id\"\n",
    "\n",
    "multi_vector_retriever = MultiVectorRetriever( #E\n",
    "    vectorstore=summaries_collection,\n",
    "    byte_store=doc_byte_store\n",
    ")\n",
    "#A Splitter to generate parent coarse chunks from original documents (parsed from web pages)\n",
    "#B Vector store collection to host child granular chunks\n",
    "#C Make sure the collection is empty\n",
    "#D Document store to host parent coarse chunks\n",
    "#E Retriever to link parent coarse chunks to child granular chunks"
   ]
  },
  {
   "cell_type": "markdown",
   "id": "f4a6d0f3-4ff7-40c9-839c-e678e487d699",
   "metadata": {},
   "source": [
    "### Setting up the summarization chain"
   ]
  },
  {
   "cell_type": "code",
   "execution_count": 65,
   "id": "20e88e27-e4eb-4832-aac1-e488ed3ddc64",
   "metadata": {},
   "outputs": [],
   "source": [
    "llm = ChatOpenAI(model=\"gpt-4o-mini\", openai_api_key=OPENAI_API_KEY)"
   ]
  },
  {
   "cell_type": "code",
   "execution_count": 66,
   "id": "310165b8-4e61-45b1-a6c1-4aa32cd564d0",
   "metadata": {},
   "outputs": [],
   "source": [
    "summarization_chain = (\n",
    "    {\"document\": lambda x: x.page_content} #A\n",
    "    | ChatPromptTemplate.from_template(\"Summarize the following document:\\n\\n{document}\") #B\n",
    "    | llm\n",
    "    | StrOutputParser())\n",
    "\n",
    "#A Grab the text content from the document\n",
    "#B Instantiate a prompt asking to generate summary of the provided text\n",
    "#C Send the LLM the instantiated prompt \n",
    "#D Extract the summary text from the response"
   ]
  },
  {
   "cell_type": "markdown",
   "id": "9c2fb24a-c798-4b06-b502-1527ff25f72f",
   "metadata": {},
   "source": [
    "### Ingesting the coarse chunks and related summaries into doc and vector store"
   ]
  },
  {
   "cell_type": "code",
   "execution_count": 67,
   "id": "02510b5f-f27b-4526-acea-0128209170ed",
   "metadata": {},
   "outputs": [
    {
     "name": "stderr",
     "output_type": "stream",
     "text": [
      "Fetching pages: 100%|####################################################################| 1/1 [00:00<00:00,  6.83it/s]\n"
     ]
    },
    {
     "name": "stdout",
     "output_type": "stream",
     "text": [
      "Ingesting https://en.wikivoyage.org/wiki/Cornwall\n"
     ]
    },
    {
     "name": "stderr",
     "output_type": "stream",
     "text": [
      "Fetching pages: 100%|####################################################################| 1/1 [00:00<00:00, 12.04it/s]\n"
     ]
    },
    {
     "name": "stdout",
     "output_type": "stream",
     "text": [
      "Ingesting https://en.wikivoyage.org/wiki/North_Cornwall\n"
     ]
    },
    {
     "name": "stderr",
     "output_type": "stream",
     "text": [
      "Fetching pages: 100%|####################################################################| 1/1 [00:00<00:00, 10.53it/s]\n"
     ]
    },
    {
     "name": "stdout",
     "output_type": "stream",
     "text": [
      "Ingesting https://en.wikivoyage.org/wiki/South_Cornwall\n"
     ]
    },
    {
     "name": "stderr",
     "output_type": "stream",
     "text": [
      "Fetching pages: 100%|####################################################################| 1/1 [00:00<00:00,  7.94it/s]\n"
     ]
    },
    {
     "name": "stdout",
     "output_type": "stream",
     "text": [
      "Ingesting https://en.wikivoyage.org/wiki/West_Cornwall\n"
     ]
    },
    {
     "name": "stderr",
     "output_type": "stream",
     "text": [
      "Fetching pages: 100%|####################################################################| 1/1 [00:00<00:00,  9.08it/s]\n"
     ]
    },
    {
     "name": "stdout",
     "output_type": "stream",
     "text": [
      "Ingesting https://en.wikivoyage.org/wiki/Tintagel\n"
     ]
    },
    {
     "name": "stderr",
     "output_type": "stream",
     "text": [
      "Fetching pages: 100%|####################################################################| 1/1 [00:00<00:00, 10.65it/s]\n"
     ]
    },
    {
     "name": "stdout",
     "output_type": "stream",
     "text": [
      "Ingesting https://en.wikivoyage.org/wiki/Bodmin\n"
     ]
    },
    {
     "name": "stderr",
     "output_type": "stream",
     "text": [
      "Fetching pages: 100%|####################################################################| 1/1 [00:00<00:00,  5.68it/s]\n"
     ]
    },
    {
     "name": "stdout",
     "output_type": "stream",
     "text": [
      "Ingesting https://en.wikivoyage.org/wiki/Wadebridge\n"
     ]
    },
    {
     "name": "stderr",
     "output_type": "stream",
     "text": [
      "Fetching pages: 100%|####################################################################| 1/1 [00:00<00:00, 12.19it/s]\n"
     ]
    },
    {
     "name": "stdout",
     "output_type": "stream",
     "text": [
      "Ingesting https://en.wikivoyage.org/wiki/Penzance\n"
     ]
    },
    {
     "name": "stderr",
     "output_type": "stream",
     "text": [
      "Fetching pages: 100%|####################################################################| 1/1 [00:00<00:00,  8.50it/s]\n"
     ]
    },
    {
     "name": "stdout",
     "output_type": "stream",
     "text": [
      "Ingesting https://en.wikivoyage.org/wiki/Newquay\n"
     ]
    },
    {
     "name": "stderr",
     "output_type": "stream",
     "text": [
      "Fetching pages: 100%|####################################################################| 1/1 [00:00<00:00, 10.00it/s]\n"
     ]
    },
    {
     "name": "stdout",
     "output_type": "stream",
     "text": [
      "Ingesting https://en.wikivoyage.org/wiki/St_Ives\n"
     ]
    },
    {
     "name": "stderr",
     "output_type": "stream",
     "text": [
      "Fetching pages: 100%|####################################################################| 1/1 [00:00<00:00, 10.31it/s]\n"
     ]
    },
    {
     "name": "stdout",
     "output_type": "stream",
     "text": [
      "Ingesting https://en.wikivoyage.org/wiki/Port_Isaac\n"
     ]
    },
    {
     "name": "stderr",
     "output_type": "stream",
     "text": [
      "Fetching pages: 100%|####################################################################| 1/1 [00:00<00:00, 11.84it/s]\n"
     ]
    },
    {
     "name": "stdout",
     "output_type": "stream",
     "text": [
      "Ingesting https://en.wikivoyage.org/wiki/Looe\n"
     ]
    },
    {
     "name": "stderr",
     "output_type": "stream",
     "text": [
      "Fetching pages: 100%|####################################################################| 1/1 [00:00<00:00,  2.82it/s]\n"
     ]
    },
    {
     "name": "stdout",
     "output_type": "stream",
     "text": [
      "Ingesting https://en.wikivoyage.org/wiki/Polperro\n"
     ]
    },
    {
     "name": "stderr",
     "output_type": "stream",
     "text": [
      "Fetching pages: 100%|####################################################################| 1/1 [00:00<00:00, 12.35it/s]\n"
     ]
    },
    {
     "name": "stdout",
     "output_type": "stream",
     "text": [
      "Ingesting https://en.wikivoyage.org/wiki/PorthlevenEast_Sussex\n"
     ]
    },
    {
     "name": "stderr",
     "output_type": "stream",
     "text": [
      "Fetching pages: 100%|####################################################################| 1/1 [00:00<00:00,  1.83it/s]\n"
     ]
    },
    {
     "name": "stdout",
     "output_type": "stream",
     "text": [
      "Ingesting https://en.wikivoyage.org/wiki/Brighton\n"
     ]
    },
    {
     "name": "stderr",
     "output_type": "stream",
     "text": [
      "Fetching pages: 100%|####################################################################| 1/1 [00:00<00:00, 10.75it/s]\n"
     ]
    },
    {
     "name": "stdout",
     "output_type": "stream",
     "text": [
      "Ingesting https://en.wikivoyage.org/wiki/Battle\n"
     ]
    },
    {
     "name": "stderr",
     "output_type": "stream",
     "text": [
      "Fetching pages: 100%|####################################################################| 1/1 [00:00<00:00,  9.52it/s]\n"
     ]
    },
    {
     "name": "stdout",
     "output_type": "stream",
     "text": [
      "Ingesting https://en.wikivoyage.org/wiki/Hastings_(England)\n"
     ]
    },
    {
     "name": "stderr",
     "output_type": "stream",
     "text": [
      "Fetching pages: 100%|####################################################################| 1/1 [00:00<00:00, 11.36it/s]\n"
     ]
    },
    {
     "name": "stdout",
     "output_type": "stream",
     "text": [
      "Ingesting https://en.wikivoyage.org/wiki/Rye_(England)\n"
     ]
    },
    {
     "name": "stderr",
     "output_type": "stream",
     "text": [
      "Fetching pages: 100%|####################################################################| 1/1 [00:00<00:00,  2.94it/s]\n"
     ]
    },
    {
     "name": "stdout",
     "output_type": "stream",
     "text": [
      "Ingesting https://en.wikivoyage.org/wiki/Seaford\n"
     ]
    },
    {
     "name": "stderr",
     "output_type": "stream",
     "text": [
      "Fetching pages: 100%|####################################################################| 1/1 [00:00<00:00,  8.85it/s]\n"
     ]
    },
    {
     "name": "stdout",
     "output_type": "stream",
     "text": [
      "Ingesting https://en.wikivoyage.org/wiki/Ashdown_Forest\n"
     ]
    }
   ],
   "source": [
    "for destination_url in uk_destination_urls:\n",
    "    html_loader = AsyncHtmlLoader(destination_url) #A\n",
    "    html_docs =  html_loader.load() #B\n",
    "    text_docs = html2text_transformer.transform_documents(html_docs) #C\n",
    "\n",
    "    coarse_chunks = parent_splitter.split_documents(text_docs) #D\n",
    "\n",
    "    coarse_chunks_ids = [str(uuid.uuid4()) for _ in coarse_chunks]\n",
    "    all_summaries = []\n",
    "    for i, coarse_chunk in enumerate(coarse_chunks): #E\n",
    "        \n",
    "        coarse_chunk_id = coarse_chunks_ids[i]\n",
    "            \n",
    "        summary_text =  summarization_chain.invoke(coarse_chunk) #F\n",
    "        summary_doc = Document(page_content=summary_text, metadata={doc_key: coarse_chunk_id})\n",
    "\n",
    "        all_summaries.append(summary_doc) #G\n",
    "\n",
    "    print(f'Ingesting {destination_url}')\n",
    "    multi_vector_retriever.vectorstore.add_documents(all_summaries) #H\n",
    "    multi_vector_retriever.docstore.mset(list(zip(coarse_chunks_ids, coarse_chunks))) #I\n",
    "\n",
    "#A Loader for one destination\n",
    "#B Documents of one destination \n",
    "#C transform HTML docs into clean text docs\n",
    "#D Split the destination content into coarse chunks\n",
    "#E Iterate over the coarse chunks\n",
    "#F Generate a summary for the coarse chunk thorugh the summarization chain\n",
    "#G Link each summary to its related coarse chunk\n",
    "#H Ingest the summaries into the vector store\n",
    "#I Ingest the coarse chunks into the document store"
   ]
  },
  {
   "cell_type": "code",
   "execution_count": 70,
   "id": "0d58b321-fb1f-442a-9613-15115d21888c",
   "metadata": {},
   "outputs": [],
   "source": [
    "# COMMENT: the code above is similar to when ingesting child chunks, but it is slower because of the summarization step\n",
    "# which invokes the LLM.\n",
    "# The processing can be speeded up by parallelizing the outer for loop on the destination urls."
   ]
  },
  {
   "cell_type": "markdown",
   "id": "3e656230-7bc3-470b-9e7d-16592567487f",
   "metadata": {},
   "source": [
    "### Performing a search on granular information"
   ]
  },
  {
   "cell_type": "code",
   "execution_count": 71,
   "id": "8df62bc3-a8ff-42dc-b7b5-e68dba4a7e4d",
   "metadata": {},
   "outputs": [],
   "source": [
    "retrieved_docs = multi_vector_retriever.invoke(\"Cornwall travel\")"
   ]
  },
  {
   "cell_type": "code",
   "execution_count": 72,
   "id": "68c9fbed-6ea3-454c-a62e-5374bd226a35",
   "metadata": {},
   "outputs": [
    {
     "data": {
      "text/plain": [
       "4"
      ]
     },
     "execution_count": 72,
     "metadata": {},
     "output_type": "execute_result"
    }
   ],
   "source": [
    "len(retrieved_docs)"
   ]
  },
  {
   "cell_type": "code",
   "execution_count": 73,
   "id": "ba6ee858-e3ad-4caa-a8b5-9789d01fa083",
   "metadata": {},
   "outputs": [
    {
     "data": {
      "text/plain": [
       "[Document(metadata={'source': 'https://en.wikivoyage.org/wiki/South_Cornwall', 'title': 'South Cornwall – Travel guide at Wikivoyage', 'language': 'en'}, page_content=\"Trains from London take about 3 hr 20 min to Plymouth.\\n\\n### By car\\n\\n[edit]\\n\\nCornwall can be accessed by road via the A30 which runs from the end of the M5\\nat Exeter, all the way through the heart of Devon and Cornwall down to Land's\\nEnd. It is a grade-separated expressway as far as Carland Cross near Truro\\n(the expressway is expected to be open as far as Camborne (between Redruth and\\nHayle) by March 2024). You can also get to Cornwall via the A38, crossing the\\nRiver Tamar at Plymouth via the Tamar Bridge, which levies a toll on eastbound\\nvehicles. On summer Saturdays and during bank holiday weekends roads to\\nCornwall are usually busy.\\n\\n## Get around\\n\\n[edit]\\n\\n### By bus\\n\\n[edit]\\n\\nThanks to Transport for Cornwall, all bus tickets are interchangeable across\\nthe different companies. The **Cornwall All Day ticket** allows unlimited\\ntravel for a calendar day. As of 2023, fares are £5 for adults and £4 for\\nunder-19s. Payment is by cash or contactless. The two main bus companies are:\\n\\n  * **Go Cornwall Bus** covers all parts of Cornwall and connects with Plymouth (in Devon).\\n  * **Kernow** (part of First Bus) covers western and central Cornwall.\\n\\nBuses only serve designated stops when in towns; otherwise, you can flag them\\ndown anywhere that's safe for them to stop.\\n\\n### By train\\n\\n[edit]\\n\\n**CrossCountry Trains** and **Great Western Railway** operate regular train\\nservices between the main centres of population, the latter company also\\nserving a number of other towns on branch lines. For train times and fares\\nvisit National Rail Enquiries.\\n\\nThe **Cornwall Ranger** ticket allows unlimited train travel in Cornwall and\\nPlymouth for a calendar day. As of 2023, this costs £14 for adults and £7 for\\nunder-16s.\\n\\n## See\\n\\n[edit]\\n\\nThe **Eden Project** , near St Austell, a fabulous collection of flora from\\nall over the planet housed in two space age transparent domes, and a massive\\nzip line.\\n\\nThe **Lost Gardens of Heligan** , near Mevagissey, 80 acres (32 hectares) of\\nstunning landscaped scenery with a huge complex of walled flower and vegetable\\ngardens.\\n\\nThe **National Maritime Museum** Falmouth is the ome of the National Maritime\\nMuseum's small boat collection and other exhibits.\\n\\n### National Trust properties\\n\\n[edit]\\n\\n**Antony House** near Torpoint: an 18th-century house set within a magnificent\\nlandscape garden, still home to the Carew Pole family.\\n\\n**Cotehele - St Dominick** , near Saltash: an atmospheric Tudor house with\\nMedieval roots, a mill on a historic quay, a glorious garden with valley views\\nand an expansive estate to explore.\\n\\n**Trelissick, Feock** , near Truro, is welcoming house and garden set in an\\nestate with stunning maritime views and lovely woodland walks.\\n\\n**Glendurgan, Mawnan Smith** , near Falmouth, is a historic and exotic wooded\\nvalley garden leading down to the River Helford\\n\\n## Do\\n\\n[edit]\"),\n",
       " Document(metadata={'source': 'https://en.wikivoyage.org/wiki/North_Cornwall', 'title': 'North Cornwall – Travel guide at Wikivoyage', 'language': 'en'}, page_content=\"Beaches, which form an important part of the tourist industry, include Bude,\\nPolzeath, Watergate Bay, Perranporth, Porthtowan, Fistral Beach, Newquay, St\\nAgnes, St Ives, and on the south coast Gyllyngvase beach in Falmouth and the\\nlarge beach at Praa Sands further to the south-west.\\n\\n## Get in\\n\\n[edit]\\n\\n### By train\\n\\n[edit]\\n\\nRegular trains run on the main line from London Paddington (8 daily all the\\nway through Cornwall to Penzance, 5 hr 30 min), Bristol, Birmingham etc. to\\nPenzance. There is also an overnight sleeper train which runs Su-F nights from\\nLondon Paddington and Penzance.\\n\\n### By car\\n\\n[edit]\\n\\nCornwall can be accessed by road via the A30 which runs from the end of the M5\\nat Exeter, all the way through the heart of Devon and Cornwall down to Land's\\nEnd. It is a grade-separated expressway as far as Carland Cross near Truro\\n(the expressway is expected to be open as far as Camborne (between Redruth and\\nHayle) by March 2024). You can also get to Cornwall via the A38, crossing the\\nRiver Tamar at Plymouth via the Tamar Bridge, which levies a toll on eastbound\\nvehicles. On summer Saturdays and during bank holiday weekends roads to\\nCornwall are usually busy.\\n\\n### By plane\\n\\n[edit]\\n\\n50.440833-4.9952781 Cornwall Airport (**NQY** IATA) in Newquay is the main\\nairport for the county, with year-round flights only from Aberdeen, Alicante,\\nDublin, London Gatwick, and Manchester. During the summer season, more flights\\narrive from a wider range of UK and EU airports.\\n\\n## Get around\\n\\n[edit]\\n\\n### By bus\\n\\n[edit]\\n\\nThanks to Transport for Cornwall, all bus tickets are interchangeable across\\nthe different companies. The **Cornwall All Day ticket** allows unlimited\\ntravel for a calendar day. As of 2023, fares are £5 for adults and £4 for\\nunder-19s. Payment is by cash or contactless. The two main bus companies are:\\n\\n  * **Go Cornwall Bus** covers all parts of Cornwall and connects with Plymouth (in Devon).\\n  * **Kernow** (part of First Bus) covers western and central Cornwall.\\n\\nBuses only serve designated stops when in towns; otherwise, you can flag them\\ndown anywhere that's safe for them to stop.\\n\\n### By train\\n\\n[edit]\\n\\n**CrossCountry Trains** and **Great Western Railway** operate regular train\\nservices between the main centres of population, the latter company also\\nserving a number of other towns on branch lines. For train times and fares\\nvisit National Rail Enquiries. The **Cornwall Ranger** ticket allows unlimited\\ntrain travel in Cornwall and Plymouth for a calendar day. As of 2023, this\\ncosts £14 for adults and £7 for under-16s.\\n\\n## See\\n\\n[edit]\"),\n",
       " Document(metadata={'source': 'https://en.wikivoyage.org/wiki/Cornwall', 'title': 'Cornwall – Travel guide at Wikivoyage', 'language': 'en'}, page_content=\"50.3-4.9\\n\\n#\\n\\nFrom Wikivoyage\\n\\nEurope > Britain and Ireland > United Kingdom > England > West Country >\\nCornwall  \\n\\n# Cornwall\\n\\n## Contents\\n\\n  * 1 Regions\\n  * 2 Towns and cities\\n  * 3 Other destinations\\n  * 4 Understand\\n    * 4.1 Visitor information\\n  * 5 Talk\\n    * 5.1 English\\n    * 5.2 Cornish\\n  * 6 Get in\\n    * 6.1 By train\\n    * 6.2 By car\\n    * 6.3 By plane\\n    * 6.4 By coach\\n  * 7 Get around\\n    * 7.1 By bus\\n    * 7.2 By train\\n  * 8 See\\n    * 8.1 National Trust properties\\n    * 8.2 National Trust gardens\\n  * 9 Do\\n  * 10 Eat\\n    * 10.1 Savoury\\n    * 10.2 Sweet\\n  * 11 Drink\\n    * 11.1 Ale & beer\\n    * 11.2 Cider\\n    * 11.3 Wine\\n    * 11.4 Mead\\n    * 11.5 Spirits\\n  * 12 Festivals\\n  * 13 Sleep\\n  * 14 Stay safe\\n\\nJump to navigation Jump to search\\n\\n    _For other places with the same name, seeCornwall (disambiguation)._\\n\\nThe biomes that house the Eden Project, near St. Austell, Mid-Cornwall.\\n\\n**Cornwall** (Cornish: _Kernow_) is a county in the southwest of the United\\nKingdom. Lying west of Devon from which it is separated by the River Tamar,\\nCornwall is one of the more isolated and distinctive parts of the United\\nKingdom but is also one of its most popular with holidaymakers. Its relatively\\nwarm climate, long coastline, amazing scenery, and diverse Celtic heritage\\n(combined with tales of smuggling, pirates and King Arthur!) go only part of\\nthe way to explaining its appeal.\\n\\nCornwall is a popular destination for those interested in cultural tourism,\\ndue to its long association with visual and written arts and its wealth of\\narchaeology. Its mining heritage has been recognised by the United Nations\\n(UNESCO). Over 30% of the county is designated as an Area of Outstanding\\nNatural Beauty (AONB), giving it national status and protection. Cornwall has\\nalways been fiercely proud of its Celtic heritage, and for many residents,\\ntheir Cornish identity supersedes their Englishness or Britishness.\\n\\n## Regions\\n\\n[edit]\\n\\n50°19′41″N 5°1′12″W\\n\\nMap of Cornwall\\n\\nWikivoyage divides Cornwall into three regions. The _Isles of Scilly_ are\\ncovered in a separate article.\\n\\n| **North Cornwall**  \\nthe more windswept northern coast along the Celtic Sea and some top surfing\\nareas together with Bodmin Moor and the associated hinterland  \\n---|---  \\n| **South Cornwall**  \\nincludes much of Cornwall's stunning English Channel coast from Falmouth to\\nthe Devon Border together with Truro  \\n---|---  \\n| **West Cornwall**  \\nthe Atlantic tip of the South West Peninsula, leading out to the celebrated\\nLand's End  \\n---|---  \\n  \\n## Towns and cities\\n\\n[edit]\"),\n",
       " Document(metadata={'source': 'https://en.wikivoyage.org/wiki/North_Cornwall', 'title': 'North Cornwall – Travel guide at Wikivoyage', 'language': 'en'}, page_content=\"#\\n\\nFrom Wikivoyage\\n\\nEurope > Britain and Ireland > United Kingdom > England > West Country >\\nCornwall > North Cornwall  \\n\\n# North Cornwall\\n\\n## Contents\\n\\n  * 1 Towns and villages\\n  * 2 Other destinations\\n  * 3 Understand\\n  * 4 Get in\\n    * 4.1 By train\\n    * 4.2 By car\\n    * 4.3 By plane\\n  * 5 Get around\\n    * 5.1 By bus\\n    * 5.2 By train\\n  * 6 See\\n    * 6.1 National Trust properties\\n  * 7 Do\\n    * 7.1 Festivals\\n  * 8 Drink\\n  * 9 Stay safe\\n  * 10 Go next\\n\\nJump to navigation Jump to search\\n\\n**North Cornwall** is in Cornwall. It includes much of the Cornish coast along\\nthe Celtic Sea and some top surfing areas.\\n\\n## Towns and villages\\n\\n[edit]\\n\\nMap of North Cornwall\\n\\n  * 50.466-4.7181 Bodmin \\\\- Former adminstrative centre of Cornwall and home of Bodmin Jail\\n  * 50.422-4.6712 Lostwithiel — home to Restormel Castle, notable for being almost completely cylindrical\\n  * 50.824-4.5423 Bude — fishing village and holiday resort on the north coast of Cornwall\\n  * 50.635-4.3544 Launceston — home of the 11th-century Launceston Castle, and the Launceston narrow-gauge heritage steam railway\\n  * 50.412-5.07575 Newquay — former fishing village, now surf capital of the UK and home to Cornwall's principal airport\\n  * 50.538-4.9386 Padstow — fishing village and holiday resort on Cornwall's north coast\\n  * 50.3437-5.15467 Perranporth — a seaside resort town backed by extensive sand dunes which reach nearly a mile inland\\n  * 50.432-4.948 St Columb Major — one of only two places where you can watch Cornish hurling, a medieval game once common throughout Cornwall\\n  * 50.517-4.8359 Wadebridge — it has a 12-arch bridge, built in 468, and has hosted the Cornwall Folk Festival since 1962\\n  * 50.684-4.692910 Boscastle — scenic fishing village with the _Museum of Witchcraft and Magic_\\n  * 50.5938-4.8311 Port Isaac — seaside village, often used as a filming location\\n  * 50.233-5.22412 Redruth — world capital of tin mining\\n  * 50.5437-4.918213 Rock — a popular base for holidaymakers, and a well-established centre for water sports\\n  * 50.312-5.20414 St Agnes — part of the Cornwall Devon Mining Landscape World Heritage Site\\n  * 50.663-4.7515 Tintagel — legendary birthplace of King Arthur and seat of the Kings of Cornwall\\n\\n## Other destinations\\n\\n[edit]\\n\\n  * 50.913889-4.4527781 Tamar Valley — an area of outstanding natural beauty on the border with Devon\\n  * 50.5654-4.61082 Bodmin Moor — a bleak moor to the east of Bodmin made famous by Daphne du Maurier's book _Jamaica Inn_\\n\\n## Understand\\n\\n[edit]\\n\\nThe north coast on the Celtic Sea, part of the Atlantic Ocean, is more exposed\\nthan the south coast, and therefore has a wilder nature. The High Cliff,\\nbetween Boscastle and St Gennys, is the highest sheer-drop cliff in Cornwall\\nat 223 metres (732 ft).\")]"
      ]
     },
     "execution_count": 73,
     "metadata": {},
     "output_type": "execute_result"
    }
   ],
   "source": [
    "retrieved_docs"
   ]
  },
  {
   "cell_type": "markdown",
   "id": "7efd34e7-0526-4697-abf3-e47579cf810a",
   "metadata": {},
   "source": [
    "### Comparing with direct semantic search on summaries"
   ]
  },
  {
   "cell_type": "code",
   "execution_count": 74,
   "id": "a9977116-2dd5-4979-840d-d4d3aef69fad",
   "metadata": {},
   "outputs": [],
   "source": [
    "summary_docs_only =  summaries_collection.similarity_search(\"Cornwall Travel\")"
   ]
  },
  {
   "cell_type": "code",
   "execution_count": 75,
   "id": "311abbe7-0fdf-4c7a-8be9-bae7862ee571",
   "metadata": {},
   "outputs": [
    {
     "data": {
      "text/plain": [
       "4"
      ]
     },
     "execution_count": 75,
     "metadata": {},
     "output_type": "execute_result"
    }
   ],
   "source": [
    "len(summary_docs_only)"
   ]
  },
  {
   "cell_type": "code",
   "execution_count": 76,
   "id": "14176d5c-a1d6-42cb-a436-20a57bdc290e",
   "metadata": {},
   "outputs": [
    {
     "data": {
      "text/plain": [
       "[Document(metadata={'doc_id': '68673c9f-4ae9-4026-8f73-abd7218557f6'}, page_content=\"The document is a travel guide excerpt from Wikivoyage about Cornwall, a county in the southwest of the United Kingdom. It describes Cornwall as a distinct and popular tourist destination known for its warm climate, long coastline, stunning scenery, and rich Celtic heritage, including legends of pirates and King Arthur. The region is recognized for its cultural tourism and archaeological significance, with over 30% of the area designated as an Area of Outstanding Natural Beauty (AONB).\\n\\nThe guide outlines various sections, including regions, towns and cities, visitor information, transportation options, attractions like National Trust properties, local cuisine, beverages, festivals, accommodation, and safety tips. Cornwall is divided into three main regions: North Cornwall, South Cornwall, and West Cornwall, each offering unique landscapes and experiences. The document emphasizes the area's pride in its Celtic identity and its appeal to holidaymakers.\"),\n",
       " Document(metadata={'doc_id': '4965476d-9ae9-41a4-8e19-596669767f66'}, page_content=\"The document provides information on traveling to and around Cornwall, as well as notable attractions. \\n\\n**Traveling to Cornwall:**\\n- **By Train:** Trains from London to Plymouth take approximately 3 hours and 20 minutes.\\n- **By Car:** Access is via the A30 expressway from Exeter to Land's End or the A38, which crosses the River Tamar at Plymouth (toll for eastbound vehicles). Traffic can be heavy on summer Saturdays and bank holidays.\\n\\n**Getting Around:**\\n- **By Bus:** Transport for Cornwall offers interchangeable bus tickets. The Cornwall All Day ticket costs £5 for adults and £4 for under-19s, allowing unlimited travel for a day. Main bus companies include Go Cornwall Bus and Kernow.\\n- **By Train:** CrossCountry Trains and Great Western Railway provide regular services. The Cornwall Ranger ticket allows unlimited train travel for £14 for adults and £7 for under-16s.\\n\\n**Attractions:**\\n- **Eden Project:** A unique collection of global flora in transparent domes.\\n- **Lost Gardens of Heligan:** A stunning 80-acre landscaped garden complex.\\n- **National Maritime Museum, Falmouth:** Features a small boat collection and maritime exhibits.\\n\\n**National Trust Properties:**\\n- **Antony House:** An 18th-century house with a landscape garden.\\n- **Cotehele:** A Tudor house with medieval roots and a beautiful garden.\\n- **Trelissick:** A house and garden estate with maritime views.\\n- **Glendurgan:** An exotic wooded valley garden near the River Helford. \\n\\nOverall, the document highlights transport options and key attractions for visitors to Cornwall.\"),\n",
       " Document(metadata={'doc_id': '08e2ca34-bb96-45c0-9701-1662b92f6d0b'}, page_content=\"The document highlights key aspects of accessing and traveling around Cornwall, a popular tourist destination known for its beaches such as Bude, Polzeath, and Fistral Beach. \\n\\n### Getting There:\\n- **By Train**: Regular services run from London Paddington to Penzance, taking about 5.5 hours, with overnight sleeper trains available on certain nights.\\n- **By Car**: Accessible via the A30 expressway from Exeter, and the A38 through Plymouth, though roads can be busy in summer.\\n- **By Plane**: Cornwall Airport in Newquay serves as the primary airport, offering year-round flights from select cities and increased seasonal flights.\\n\\n### Getting Around:\\n- **By Bus**: Transport for Cornwall offers interchangeable bus tickets, with the Cornwall All Day ticket allowing unlimited travel for a day at £5 for adults. Major bus companies include Go Cornwall Bus and Kernow.\\n- **By Train**: CrossCountry Trains and Great Western Railway provide services across the region, with the Cornwall Ranger ticket enabling unlimited train travel for a day, costing £14 for adults.\\n\\nThe document serves as a guide for tourists looking to explore Cornwall's attractions and beaches while detailing transportation options available.\"),\n",
       " Document(metadata={'doc_id': 'e70bbc72-10b6-41a4-8252-544fd4da0cb8'}, page_content=\"North Cornwall is a region in Cornwall, England, characterized by its rugged coast along the Celtic Sea and renowned surfing spots. The area includes several notable towns and villages, such as Bodmin, Lostwithiel, Bude, Launceston, Newquay, and Tintagel, each offering unique attractions like historic castles, beaches, and local festivals. \\n\\nKey destinations in North Cornwall include the Tamar Valley and Bodmin Moor, both recognized for their natural beauty. The region's north coast is notably wilder and more exposed than the south coast, featuring the highest sheer-drop cliff in Cornwall. Visitors can access North Cornwall by train, car, or plane and can navigate the area using buses and trains. The guide also highlights local festivals and safety tips for tourists.\")]"
      ]
     },
     "execution_count": 76,
     "metadata": {},
     "output_type": "execute_result"
    }
   ],
   "source": [
    "summary_docs_only"
   ]
  },
  {
   "cell_type": "code",
   "execution_count": 77,
   "id": "612e47a0-234d-4943-9de8-b1f50339f514",
   "metadata": {},
   "outputs": [],
   "source": [
    "# COMMENT: a direct search on summaries retrieves denser information, but it is missing out on useful details. \n",
    "# However, you might consider using the summaries directly if after testing they prove adequate."
   ]
  },
  {
   "cell_type": "markdown",
   "id": "c47f5e85-9856-4cd1-8f23-e8fafb1aed3c",
   "metadata": {},
   "source": [
    "## Embedding hypothetical questions with MultiVectorRetriever"
   ]
  },
  {
   "cell_type": "code",
   "execution_count": 57,
   "id": "438d15e7-cb50-41ca-ac94-0eacd939127e",
   "metadata": {},
   "outputs": [],
   "source": [
    "from langchain.retrievers.multi_vector import MultiVectorRetriever\n",
    "from langchain.storage import InMemoryByteStore\n",
    "from langchain_chroma import Chroma\n",
    "from langchain_openai import ChatOpenAI\n",
    "from langchain_openai import OpenAIEmbeddings\n",
    "from langchain_community.document_loaders import AsyncHtmlLoader\n",
    "from langchain_text_splitters import RecursiveCharacterTextSplitter\n",
    "from langchain_core.documents import Document\n",
    "from langchain_core.output_parsers import StrOutputParser\n",
    "from langchain_core.prompts import ChatPromptTemplate\n",
    "import uuid\n",
    "from typing import List\n",
    "from pydantic import BaseModel, Field"
   ]
  },
  {
   "cell_type": "markdown",
   "id": "7659adce-999e-4c8a-a8d1-801c77cd29ed",
   "metadata": {},
   "source": [
    "### Setting up the Multi vector retriever (same as when embedding summaries)"
   ]
  },
  {
   "cell_type": "code",
   "execution_count": 59,
   "id": "869516c8-b314-44a2-b184-af2075b88d4d",
   "metadata": {},
   "outputs": [],
   "source": [
    "parent_splitter = RecursiveCharacterTextSplitter(chunk_size=3000) #A\n",
    "\n",
    "hypothetical_questions_collection = Chroma( #B\n",
    "    collection_name=\"uk_hypothetical_questions\",\n",
    "    embedding_function=OpenAIEmbeddings(openai_api_key=OPENAI_API_KEY),\n",
    ")\n",
    "\n",
    "hypothetical_questions_collection.reset_collection() #C\n",
    "\n",
    "doc_byte_store = InMemoryByteStore() #D\n",
    "doc_key = \"doc_id\"\n",
    "\n",
    "multi_vector_retriever = MultiVectorRetriever( #E\n",
    "    vectorstore=hypothetical_questions_collection,\n",
    "    byte_store=doc_byte_store\n",
    ")\n",
    "#A Splitter to generate parent coarse chunks from original documents (parsed from web pages)\n",
    "#B Vector store collection to host child granular chunks\n",
    "#C Make sure the collection is empty\n",
    "#D Document store to host parent coarse chunks\n",
    "#E Retriever to link parent coarse chunks to child granular chunks"
   ]
  },
  {
   "cell_type": "markdown",
   "id": "192b4a77-4c23-42a1-898a-cc802965c296",
   "metadata": {},
   "source": [
    "### Setting up the chain to generate hypothetical questions"
   ]
  },
  {
   "cell_type": "code",
   "execution_count": 60,
   "id": "8c5279bd-6294-4a82-b2e6-8530a2542d90",
   "metadata": {},
   "outputs": [],
   "source": [
    "class HypotheticalQuestions(BaseModel):\n",
    "    \"\"\"Generate hypothetical questions for given text.\"\"\"\n",
    "\n",
    "    questions: List[str] = Field(..., description=\"List of hypothetical questions for given text\")"
   ]
  },
  {
   "cell_type": "code",
   "execution_count": 61,
   "id": "f68b668f-8207-41e9-ae43-9df565589891",
   "metadata": {},
   "outputs": [],
   "source": [
    "llm_with_structured_output = ChatOpenAI(model=\"gpt-4o-mini\", \n",
    "        openai_api_key=OPENAI_API_KEY).with_structured_output(\n",
    "        HypotheticalQuestions\n",
    ")"
   ]
  },
  {
   "cell_type": "code",
   "execution_count": 62,
   "id": "ea230fa3-82c4-4d7c-b3f6-3c9818c1cae9",
   "metadata": {},
   "outputs": [],
   "source": [
    "hypothetical_questions_chain = (\n",
    "    {\"document_text\": lambda x: x.page_content} #A\n",
    "    | ChatPromptTemplate.from_template( #B\n",
    "        \"Generate a list of exactly 4 hypothetical questions that the below text could be used to answer:\\n\\n{document_text}\"\n",
    "    )\n",
    "    | llm_with_structured_output #C\n",
    "    | (lambda x: x.questions) #D\n",
    ")\n",
    "\n",
    "#A Grab the text content from the document\n",
    "#B Instantiate a prompt asking to generate 4 hypothetical questions on the provided text\n",
    "#C Invoke the LLM configured to return an object containing the questions as a typed list of strings\n",
    "#D Grab the list of questions from the response"
   ]
  },
  {
   "cell_type": "markdown",
   "id": "12fb7728-53bc-49b6-880c-5f296ba15a95",
   "metadata": {},
   "source": [
    "### Ingesting the coarse chunks and related hypothetical questions into doc and vector store"
   ]
  },
  {
   "cell_type": "code",
   "execution_count": 63,
   "id": "0341546f-99fa-40ae-b992-c70366b5923a",
   "metadata": {},
   "outputs": [
    {
     "name": "stderr",
     "output_type": "stream",
     "text": [
      "Fetching pages: 100%|####################################################################| 1/1 [00:00<00:00, 13.10it/s]\n"
     ]
    },
    {
     "name": "stdout",
     "output_type": "stream",
     "text": [
      "Ingesting https://en.wikivoyage.org/wiki/Cornwall\n"
     ]
    },
    {
     "name": "stderr",
     "output_type": "stream",
     "text": [
      "Fetching pages: 100%|####################################################################| 1/1 [00:00<00:00, 16.05it/s]\n"
     ]
    },
    {
     "name": "stdout",
     "output_type": "stream",
     "text": [
      "Ingesting https://en.wikivoyage.org/wiki/North_Cornwall\n"
     ]
    },
    {
     "name": "stderr",
     "output_type": "stream",
     "text": [
      "Fetching pages: 100%|####################################################################| 1/1 [00:00<00:00, 16.75it/s]\n"
     ]
    },
    {
     "name": "stdout",
     "output_type": "stream",
     "text": [
      "Ingesting https://en.wikivoyage.org/wiki/South_Cornwall\n"
     ]
    },
    {
     "name": "stderr",
     "output_type": "stream",
     "text": [
      "Fetching pages: 100%|####################################################################| 1/1 [00:00<00:00, 16.43it/s]\n"
     ]
    },
    {
     "name": "stdout",
     "output_type": "stream",
     "text": [
      "Ingesting https://en.wikivoyage.org/wiki/West_Cornwall\n"
     ]
    },
    {
     "name": "stderr",
     "output_type": "stream",
     "text": [
      "Fetching pages: 100%|####################################################################| 1/1 [00:00<00:00, 14.70it/s]\n"
     ]
    },
    {
     "name": "stdout",
     "output_type": "stream",
     "text": [
      "Ingesting https://en.wikivoyage.org/wiki/Tintagel\n"
     ]
    },
    {
     "name": "stderr",
     "output_type": "stream",
     "text": [
      "Fetching pages: 100%|####################################################################| 1/1 [00:00<00:00, 15.44it/s]\n"
     ]
    },
    {
     "name": "stdout",
     "output_type": "stream",
     "text": [
      "Ingesting https://en.wikivoyage.org/wiki/Bodmin\n"
     ]
    },
    {
     "name": "stderr",
     "output_type": "stream",
     "text": [
      "Fetching pages: 100%|####################################################################| 1/1 [00:00<00:00, 14.59it/s]\n"
     ]
    },
    {
     "name": "stdout",
     "output_type": "stream",
     "text": [
      "Ingesting https://en.wikivoyage.org/wiki/Wadebridge\n"
     ]
    },
    {
     "name": "stderr",
     "output_type": "stream",
     "text": [
      "Fetching pages: 100%|####################################################################| 1/1 [00:00<00:00, 12.25it/s]\n"
     ]
    },
    {
     "name": "stdout",
     "output_type": "stream",
     "text": [
      "Ingesting https://en.wikivoyage.org/wiki/Penzance\n"
     ]
    },
    {
     "name": "stderr",
     "output_type": "stream",
     "text": [
      "Fetching pages: 100%|####################################################################| 1/1 [00:00<00:00, 15.23it/s]\n"
     ]
    },
    {
     "name": "stdout",
     "output_type": "stream",
     "text": [
      "Ingesting https://en.wikivoyage.org/wiki/Newquay\n"
     ]
    },
    {
     "name": "stderr",
     "output_type": "stream",
     "text": [
      "Fetching pages: 100%|####################################################################| 1/1 [00:00<00:00, 10.71it/s]\n"
     ]
    },
    {
     "name": "stdout",
     "output_type": "stream",
     "text": [
      "Ingesting https://en.wikivoyage.org/wiki/St_Ives\n"
     ]
    },
    {
     "name": "stderr",
     "output_type": "stream",
     "text": [
      "Fetching pages: 100%|####################################################################| 1/1 [00:00<00:00, 10.74it/s]\n"
     ]
    },
    {
     "name": "stdout",
     "output_type": "stream",
     "text": [
      "Ingesting https://en.wikivoyage.org/wiki/Port_Isaac\n"
     ]
    },
    {
     "name": "stderr",
     "output_type": "stream",
     "text": [
      "Fetching pages: 100%|####################################################################| 1/1 [00:00<00:00, 18.57it/s]\n"
     ]
    },
    {
     "name": "stdout",
     "output_type": "stream",
     "text": [
      "Ingesting https://en.wikivoyage.org/wiki/Looe\n"
     ]
    },
    {
     "name": "stderr",
     "output_type": "stream",
     "text": [
      "Fetching pages: 100%|####################################################################| 1/1 [00:00<00:00, 16.84it/s]\n"
     ]
    },
    {
     "name": "stdout",
     "output_type": "stream",
     "text": [
      "Ingesting https://en.wikivoyage.org/wiki/Polperro\n"
     ]
    },
    {
     "name": "stderr",
     "output_type": "stream",
     "text": [
      "Fetching pages: 100%|####################################################################| 1/1 [00:00<00:00, 20.83it/s]\n"
     ]
    },
    {
     "name": "stdout",
     "output_type": "stream",
     "text": [
      "Ingesting https://en.wikivoyage.org/wiki/PorthlevenEast_Sussex\n"
     ]
    },
    {
     "name": "stderr",
     "output_type": "stream",
     "text": [
      "Fetching pages: 100%|####################################################################| 1/1 [00:00<00:00, 11.78it/s]\n"
     ]
    },
    {
     "name": "stdout",
     "output_type": "stream",
     "text": [
      "Ingesting https://en.wikivoyage.org/wiki/Brighton\n"
     ]
    },
    {
     "name": "stderr",
     "output_type": "stream",
     "text": [
      "Fetching pages: 100%|####################################################################| 1/1 [00:00<00:00, 13.23it/s]\n"
     ]
    },
    {
     "name": "stdout",
     "output_type": "stream",
     "text": [
      "Ingesting https://en.wikivoyage.org/wiki/Battle\n"
     ]
    },
    {
     "name": "stderr",
     "output_type": "stream",
     "text": [
      "Fetching pages: 100%|####################################################################| 1/1 [00:00<00:00, 12.62it/s]\n"
     ]
    },
    {
     "name": "stdout",
     "output_type": "stream",
     "text": [
      "Ingesting https://en.wikivoyage.org/wiki/Hastings_(England)\n"
     ]
    },
    {
     "name": "stderr",
     "output_type": "stream",
     "text": [
      "Fetching pages: 100%|####################################################################| 1/1 [00:00<00:00, 13.69it/s]\n"
     ]
    },
    {
     "name": "stdout",
     "output_type": "stream",
     "text": [
      "Ingesting https://en.wikivoyage.org/wiki/Rye_(England)\n"
     ]
    },
    {
     "name": "stderr",
     "output_type": "stream",
     "text": [
      "Fetching pages: 100%|####################################################################| 1/1 [00:00<00:00, 17.99it/s]\n"
     ]
    },
    {
     "name": "stdout",
     "output_type": "stream",
     "text": [
      "Ingesting https://en.wikivoyage.org/wiki/Seaford\n"
     ]
    },
    {
     "name": "stderr",
     "output_type": "stream",
     "text": [
      "Fetching pages: 100%|####################################################################| 1/1 [00:00<00:00, 15.04it/s]\n"
     ]
    },
    {
     "name": "stdout",
     "output_type": "stream",
     "text": [
      "Ingesting https://en.wikivoyage.org/wiki/Ashdown_Forest\n"
     ]
    }
   ],
   "source": [
    "for destination_url in uk_destination_urls:\n",
    "    html_loader = AsyncHtmlLoader(destination_url) #A\n",
    "    html_docs =  html_loader.load() #B\n",
    "    text_docs = html2text_transformer.transform_documents(html_docs) #C\n",
    "\n",
    "    coarse_chunks = parent_splitter.split_documents(text_docs) #D\n",
    "\n",
    "    coarse_chunks_ids = [str(uuid.uuid4()) for _ in coarse_chunks]\n",
    "    all_hypothetical_questions = []\n",
    "    for i, coarse_chunk in enumerate(coarse_chunks): #E\n",
    "        \n",
    "        coarse_chunk_id = coarse_chunks_ids[i]\n",
    "            \n",
    "        hypothetical_questions = hypothetical_questions_chain.invoke(coarse_chunk) #F\n",
    "        hypothetical_questions_docs = [Document(page_content=question, metadata={doc_key: coarse_chunk_id})\n",
    "                                              for question in hypothetical_questions] #G\n",
    "\n",
    "        all_hypothetical_questions.extend(hypothetical_questions_docs)\n",
    "\n",
    "    print(f'Ingesting {destination_url}')\n",
    "    multi_vector_retriever.vectorstore.add_documents(all_hypothetical_questions) #H\n",
    "    multi_vector_retriever.docstore.mset(list(zip(coarse_chunks_ids, coarse_chunks))) #I\n",
    "\n",
    "#A Loader for one destination\n",
    "#B Documents of one destination \n",
    "#C transform HTML docs into clean text docs\n",
    "#D Split the destination content into coarse chunks\n",
    "#E Iterate over the coarse chunks\n",
    "#F Generate a list of hypothetical questions for the coarse chunk thorugh the question generation chain\n",
    "#G Link each hypothetical question to its related coarse chunk\n",
    "#H Ingest the hypothetical questions into the vector store\n",
    "#I Ingest the coarse chunks into the document store"
   ]
  },
  {
   "cell_type": "markdown",
   "id": "f6f77675-7ae9-4bc5-9123-bca762a32d63",
   "metadata": {},
   "source": [
    "### Performing a search on granular information"
   ]
  },
  {
   "cell_type": "code",
   "execution_count": 64,
   "id": "a1f62253-f3b3-4b80-b39d-898bfc228532",
   "metadata": {},
   "outputs": [],
   "source": [
    "retrieved_docs = multi_vector_retriever.invoke(\"How can you go to Brighton from London?\")"
   ]
  },
  {
   "cell_type": "code",
   "execution_count": 65,
   "id": "055e847e-8648-454f-9aea-cb4e5178a515",
   "metadata": {},
   "outputs": [
    {
     "data": {
      "text/plain": [
       "3"
      ]
     },
     "execution_count": 65,
     "metadata": {},
     "output_type": "execute_result"
    }
   ],
   "source": [
    "len(retrieved_docs)"
   ]
  },
  {
   "cell_type": "code",
   "execution_count": 66,
   "id": "464a38be-805c-4f21-af85-f9c6e09fe858",
   "metadata": {},
   "outputs": [
    {
     "data": {
      "text/plain": [
       "[Document(metadata={'source': 'https://en.wikivoyage.org/wiki/Brighton', 'title': 'Brighton – Travel guide at Wikivoyage', 'language': 'en'}, page_content='## Go next\\n\\n[edit]\\n\\n  * Lewes – this gorgeous medieval town has a castle, as well as **Glyndebourne Opera House** , a famous opera house, set in beautiful grounds where opera-goers eat gourmet picnics at intervals which can be brought in or ordered from their own catering service. 11 mi (18 km) from Brighton and 20 minutes away by train.\\n  * Dieppe, France – by ferry from Newhaven Harbour, about 9 mi (14 km) east of Brighton. Services are three daily and take around four hours. The service is operated by DFDS\\n  * Rottingdean – in the east of Brighton, with memories of Kipling, Burne-Jones and several other artists.\\n  * London – an hour away via train or 2 hours via coach.\\n  * Worthing – There is no reason you wouldn\\'t want to visit this lovely town. Short journey via train from Brighton Station.\\n\\n**Routes through Brighton**  \\n---  \\n**London** ← Crawley/Gatwick Airport ← |  **N**   **S**   | → **END**  \\n---|---|---  \\n**Portsmouth** ← Shoreham-by-Sea ← |  **W**   **E**   | → Lewes → **Eastbourne**  \\n  \\n  \\n\\n| This city travel guide to **Brighton** is a **usable** article. It has\\ninformation on how to get there and on restaurants and hotels. An adventurous\\nperson could use this article, but please feel free to improve it by editing\\nthe page.  \\n---|---  \\n  \\nRetrieved from\\n\"https://en.wikivoyage.org/w/index.php?title=Brighton&oldid=5039608\"\\n\\nHidden categories:\\n\\n  * Has custom banner\\n  * Verbose Climate graphs\\n  * Has map markers\\n  * Articles with dead external links\\n  * Airport listing\\n  * Has mapframe\\n  * See listing with no coordinates\\n  * Do listing with no coordinates\\n  * Articles with bad date events\\n  * Articles with out of date events\\n  * Has routebox\\n  * Usable cities\\n  * Usable articles\\n  * City articles\\n  * East Sussex\\n  * All destination articles\\n  * Has Geo parameter\\n  * Pages using the Kartographer extension\\n\\n  * This article is partly based on Creative Commons Attribution-ShareAlike 3.0 Licensed work from other websites. Details of contributors can be found in the article history.\\n  * Text is available under the Creative Commons Attribution-ShareAlike License; additional terms may apply. By using this site, you agree to the Terms of Use and Privacy Policy.\\n\\n  * Privacy policy\\n  * About Wikivoyage\\n  * Disclaimer\\n  * Code of Conduct\\n  * Developers\\n  * Statistics\\n  * Cookie statement\\n  * Mobile view\\n\\n  *   * \\n\\nSearch\\n\\nSearch\\n\\nToggle the table of contents\\n\\n8 languages Add topic\\n\\n  *[☏]: phone'),\n",
       " Document(metadata={'source': 'https://en.wikivoyage.org/wiki/Brighton', 'title': 'Brighton – Travel guide at Wikivoyage', 'language': 'en'}, page_content='### By plane\\n\\n[edit]\\n\\nThe city\\'s proximity to London means Brighton is well served by airports.\\nBrighton can be reached from Gatwick by train in as little as 25 minutes\\n£9.80-£11.90, Jan 2023).\\n\\n  * 50.8332-0.2923 Shoreham Airport (Brighton City Airport), Cecil Pashley Way, Shoreham-by-Sea, BN43 5FF (Probably best to get a train from Brighton to Shoreham \\\\- about 15 minutes, then a taxi from there to the airport), ☏ +44 1273 467373, reception@flybrighton.com. This airport (**ESH**  IATA) is 5 miles (8 km) to the west of Brighton. It is the nearest airport for light aircraft and also offers sightseeing flights. However, there are no scheduled flights from here. This is the oldest licensed airport in the UK. (updated Sep 2017)\\n\\n## Get around\\n\\n[edit]\\n\\n\\x7f\\'\"`UNIQ--maplink-00000007-QINU`\"\\'\\x7f\\n\\nMap of Brighton\\n\\nBrightonians often give directions relative to a prominent landmark, the\\n**Clock Tower** , which stands due south of the rail station where Queen\\'s\\nRoad meets Dyke Road (oh yes it does), West Street, North Street and Western\\nRoad.\\n\\nThe oldest part of the city is the **Lanes** , which is bounded by North\\nStreet, West Street and East Street, through which runs Middle Street, and\\nShip Street. Beware the spelling of the similar-named **North Laine** (meaning\\n\"north fields\") which is a boutique and alternative shopping nirvana, to the\\nnorth side of North Street.\\n\\nWestern Road, a major shopping street runs east–west from the Clock Tower,\\nwhilst Eastern Road runs up a hill towards the main hospital from the area\\nknown as the **Old Steine** (rhymes with clean) which has Brighton Pier at the\\nseafront here.\\n\\nRunning north from the working Pier, you find the memorable **Royal Pavilion**\\n, a run down church St Peter\\'s, and The Level, which is being developed. Going\\nnorth east from here is Lewes Road (pronounced \"Lewis\") which takes you out to\\nthe city boundary and both of the Universities.\\n\\nHove is found to the west of Brighton. To the east of the city, there is\\nBrighton Marina.\\n\\n### By bike\\n\\n[edit]\\n\\nAlthough the area is hilly, cycling is a growing form of transport in\\nBrighton. The city council\\'s website has more details on cycling, including a\\nmap of routes.\\n\\nA cost effective way of getting around town \\'pay by the minute\\' ebike rental\\nservice, Beryl BTN Bikes, which has stations available across the city. It is\\noften the fastest way to move around, although the \\'resilient\\' bikes can be\\nchallenging on larger hills.\\n\\n### By bus\\n\\n[edit]\\n\\nTwo Brighton and Hove buses, with the names \"Virginia Woolf\" and \"Levi Emanuel\\nCohen\" on the front of them. The bus company has a full list of the names used\\non their buses - see how many you can spot!\\n\\nBrighton and Hove Council have published a journey planner for local traffic.'),\n",
       " Document(metadata={'source': 'https://en.wikivoyage.org/wiki/Brighton', 'title': 'Brighton – Travel guide at Wikivoyage', 'language': 'en'}, page_content=\"Jump to content\\n\\nMain menu\\n\\nMain menu\\n\\nmove to sidebar hide\\n\\nNavigation\\n\\n  * Main page\\n  * Travel destinations\\n  * Star articles\\n  * What's Nearby?\\n  * Tourist office\\n  * Random page\\n  * Special pages\\n\\nGet involved\\n\\n  * Travellers' pub\\n  * Recent changes\\n  * Community portal\\n  * Maintenance panel\\n  * Policies\\n  * Help\\n  * Interlingual lounge\\n\\nSearch\\n\\nSearch\\n\\nAppearance\\n\\n  * Donate\\n  * Create account\\n  * Log in\\n\\nPersonal tools\\n\\n  * Donate\\n  * Create account\\n  * Log in\\n\\nPages for logged out editors learn more\\n\\n  * Contributions\\n  * Talk\\n\\n## Contents\\n\\nmove to sidebar hide\\n\\n  * Beginning\\n\\n  * 1 Understand\\n\\nToggle Understand subsection\\n\\n    * 1.1 Local information\\n\\n  * 2 Get in\\n\\nToggle Get in subsection\\n\\n    * 2.1 By train\\n\\n    * 2.2 By car\\n\\n    * 2.3 By bus\\n\\n    * 2.4 By plane\\n\\n  * 3 Get around\\n\\nToggle Get around subsection\\n\\n    * 3.1 By bike\\n\\n    * 3.2 By bus\\n\\n    * 3.3 By train\\n\\n    * 3.4 By taxi\\n\\n  * 4 See\\n\\nToggle See subsection\\n\\n    * 4.1 Alternative\\n\\n    * 4.2 Art galleries\\n\\n    * 4.3 Further out\\n\\n  * 5 Do\\n\\nToggle Do subsection\\n\\n    * 5.1 Events\\n\\n  * 6 Learn\\n\\n  * 7 Buy\\n\\n  * 8 Eat\\n\\nToggle Eat subsection\\n\\n    * 8.1 Budget\\n\\n      * 8.1.1 City centre\\n\\n      * 8.1.2 Elsewhere\\n\\n    * 8.2 Mid-range\\n\\n    * 8.3 Splurge\\n\\n  * 9 Drink\\n\\nToggle Drink subsection\\n\\n    * 9.1 Station and Trafalgar Street\\n\\n    * 9.2 North Laine\\n\\n    * 9.3 The Lanes\\n\\n    * 9.4 Pavilion\\n\\n    * 9.5 Churchill Square and Seafront\\n\\n    * 9.6 Western Road area\\n\\n    * 9.7 Hove\\n\\n    * 9.8 St James's Street and Kemptown\\n\\n    * 9.9 Hanover\\n\\n    * 9.10 Northern Brighton\\n\\n    * 9.11 Clubs and musical venues\\n\\n  * 10 Sleep\\n\\nToggle Sleep subsection\\n\\n    * 10.1 Budget\\n\\n    * 10.2 Mid-range\\n\\n    * 10.3 Splurge\\n\\n  * 11 Cope\\n\\nToggle Cope subsection\\n\\n    * 11.1 Stay safe\\n\\n  * 12 Connect\\n\\n  * 13 Go next\\n\\nToggle the table of contents\\n\\n#\\n\\n8 languages\\n\\n  * Deutsch\\n  * Français\\n  * עברית\\n  * Italiano\\n  * Polski\\n  * Português\\n  * Svenska\\n  * Tiếng Việt\\n\\nEdit links\\n\\n  * Page\\n  * Discussion\\n\\nEnglish\\n\\n  * Read\\n  * Edit\\n  * View history\\n\\nTools\\n\\nTools\\n\\nmove to sidebar hide\\n\\nActions\\n\\n  * Read\\n  * Edit\\n  * View history\\n\\nGeneral\\n\\n  * What links here\\n  * Related changes\\n  * Upload file\\n  * Permanent link\\n  * Page information\\n  * Cite this page\\n  * Get shortened URL\\n  * Download QR code\\n  * Switch to legacy parser\\n\\nPrint/export\\n\\n  * Create a book\\n  * Download as PDF\\n  * Printable version\\n\\nIn other projects\\n\\n  * Wikimedia Commons\\n  * Wikipedia\\n  * Wikidata item\\n\\nAppearance\\n\\nmove to sidebar hide\\n\\n50.8241-0.134\\n\\nFrom Wikivoyage\\n\\nEurope > Britain and Ireland > United Kingdom > England > South East England >\\nEast Sussex > Brighton  \\n\\n# Brighton\\n\\n## Contents\")]"
      ]
     },
     "execution_count": 66,
     "metadata": {},
     "output_type": "execute_result"
    }
   ],
   "source": [
    "retrieved_docs"
   ]
  },
  {
   "cell_type": "markdown",
   "id": "2b3c1817-f0a3-4652-9a58-53fc92ff1d6d",
   "metadata": {},
   "source": [
    "### Inspecting possible questions matching our question through semantic search"
   ]
  },
  {
   "cell_type": "code",
   "execution_count": 67,
   "id": "cf37dfad-4bf1-4835-9048-c9cecf317305",
   "metadata": {},
   "outputs": [],
   "source": [
    "hypothetical_question_docs_only =  hypothetical_questions_collection.similarity_search(\"How can you go to Brighton from London?\")"
   ]
  },
  {
   "cell_type": "code",
   "execution_count": 68,
   "id": "292ba599-b6b4-4c31-b623-70a28a412f3e",
   "metadata": {},
   "outputs": [
    {
     "data": {
      "text/plain": [
       "4"
      ]
     },
     "execution_count": 68,
     "metadata": {},
     "output_type": "execute_result"
    }
   ],
   "source": [
    "len(hypothetical_question_docs_only)"
   ]
  },
  {
   "cell_type": "code",
   "execution_count": 69,
   "id": "0767858c-f4c2-4eab-a355-b7ed2b7add94",
   "metadata": {},
   "outputs": [
    {
     "data": {
      "text/plain": [
       "[Document(id='91837b61-f3c7-4fe2-9c81-56e660b68998', metadata={'doc_id': '1c0a73eb-9f2d-414c-b7e7-878d4509f0bd'}, page_content='What if someone wanted to plan a day trip from London to Brighton, what transportation options could they consider?'),\n",
       " Document(id='d19d9895-1c16-4ef2-86b5-e231fc0b68f8', metadata={'doc_id': 'f16aea58-1ed5-4c7a-a0ef-676e64cd55e6'}, page_content='What would it be like to travel to Brighton from Gatwick Airport using the train?'),\n",
       " Document(id='1bd3353f-2afa-4cba-9790-aec9a1d546fa', metadata={'doc_id': 'd9c56504-d613-447a-8c00-56f5ac39d10d'}, page_content='How could someone navigate around Brighton using public transportation?'),\n",
       " Document(id='b6822b8b-3193-48bc-a2f3-f47c7d2e8628', metadata={'doc_id': 'd9c56504-d613-447a-8c00-56f5ac39d10d'}, page_content='What would a traveler need to know before visiting Brighton?')]"
      ]
     },
     "execution_count": 69,
     "metadata": {},
     "output_type": "execute_result"
    }
   ],
   "source": [
    "hypothetical_question_docs_only"
   ]
  },
  {
   "cell_type": "markdown",
   "id": "94e7cfab-b461-42de-991e-7d8863611d92",
   "metadata": {},
   "source": [
    "# Granular chunk expansion with MultiVectorRetriever"
   ]
  },
  {
   "cell_type": "code",
   "execution_count": 70,
   "id": "395e98e6-1464-4df0-9fd2-2e651e3e0deb",
   "metadata": {},
   "outputs": [],
   "source": [
    "from langchain.retrievers.multi_vector import MultiVectorRetriever\n",
    "from langchain.storage import InMemoryByteStore\n",
    "from langchain_chroma import Chroma\n",
    "from langchain_openai import OpenAIEmbeddings\n",
    "from langchain_community.document_loaders import AsyncHtmlLoader\n",
    "from langchain_text_splitters import RecursiveCharacterTextSplitter\n",
    "import uuid"
   ]
  },
  {
   "cell_type": "markdown",
   "id": "6aa7cf1f-0037-4437-9085-a773c890caf1",
   "metadata": {},
   "source": [
    "### Setting up the Multi vector retriever"
   ]
  },
  {
   "cell_type": "code",
   "execution_count": 71,
   "id": "6307c16e-a18d-40b3-9896-a89d57fc4896",
   "metadata": {},
   "outputs": [],
   "source": [
    "granular_chunk_splitter = RecursiveCharacterTextSplitter(chunk_size=500) #A\n",
    "\n",
    "granular_chunks_collection = Chroma( #B\n",
    "    collection_name=\"uk_granular_chunks\",\n",
    "    embedding_function=OpenAIEmbeddings(openai_api_key=OPENAI_API_KEY),\n",
    ")\n",
    "\n",
    "granular_chunks_collection.reset_collection() #C\n",
    "\n",
    "expanded_chunk_store = InMemoryByteStore() #D\n",
    "doc_key = \"doc_id\"\n",
    "\n",
    "multi_vector_retriever = MultiVectorRetriever( #E\n",
    "    vectorstore=granular_chunks_collection,\n",
    "    byte_store=expanded_chunk_store\n",
    ")\n",
    "#A Splitter to generate granular chunks from original documents (parsed from web pages)\n",
    "#B Vector store collection to host child granular chunks\n",
    "#C Make sure the collection is empty\n",
    "#D Document store to host expanded chunks\n",
    "#E Retriever to link parent coarse chunks to child granular chunks"
   ]
  },
  {
   "cell_type": "markdown",
   "id": "32f16365-4147-47f3-a6b2-444cf0236d79",
   "metadata": {},
   "source": [
    "### Ingesting granular and expanded chunks into doc and vector store"
   ]
  },
  {
   "cell_type": "code",
   "execution_count": 72,
   "id": "7ae81b6d-33b1-46a3-b277-e762704ea11a",
   "metadata": {},
   "outputs": [
    {
     "name": "stderr",
     "output_type": "stream",
     "text": [
      "Fetching pages: 100%|####################################################################| 1/1 [00:00<00:00, 14.71it/s]\n"
     ]
    },
    {
     "name": "stdout",
     "output_type": "stream",
     "text": [
      "Ingesting https://en.wikivoyage.org/wiki/Cornwall\n"
     ]
    },
    {
     "name": "stderr",
     "output_type": "stream",
     "text": [
      "Fetching pages: 100%|####################################################################| 1/1 [00:00<00:00, 17.54it/s]\n"
     ]
    },
    {
     "name": "stdout",
     "output_type": "stream",
     "text": [
      "Ingesting https://en.wikivoyage.org/wiki/North_Cornwall\n"
     ]
    },
    {
     "name": "stderr",
     "output_type": "stream",
     "text": [
      "Fetching pages: 100%|####################################################################| 1/1 [00:00<00:00, 13.44it/s]\n"
     ]
    },
    {
     "name": "stdout",
     "output_type": "stream",
     "text": [
      "Ingesting https://en.wikivoyage.org/wiki/South_Cornwall\n"
     ]
    },
    {
     "name": "stderr",
     "output_type": "stream",
     "text": [
      "Fetching pages: 100%|####################################################################| 1/1 [00:00<00:00, 17.53it/s]\n"
     ]
    },
    {
     "name": "stdout",
     "output_type": "stream",
     "text": [
      "Ingesting https://en.wikivoyage.org/wiki/West_Cornwall\n"
     ]
    },
    {
     "name": "stderr",
     "output_type": "stream",
     "text": [
      "Fetching pages: 100%|####################################################################| 1/1 [00:00<00:00, 17.21it/s]\n"
     ]
    },
    {
     "name": "stdout",
     "output_type": "stream",
     "text": [
      "Ingesting https://en.wikivoyage.org/wiki/Tintagel\n"
     ]
    },
    {
     "name": "stderr",
     "output_type": "stream",
     "text": [
      "Fetching pages: 100%|####################################################################| 1/1 [00:00<00:00, 16.98it/s]\n"
     ]
    },
    {
     "name": "stdout",
     "output_type": "stream",
     "text": [
      "Ingesting https://en.wikivoyage.org/wiki/Bodmin\n"
     ]
    },
    {
     "name": "stderr",
     "output_type": "stream",
     "text": [
      "Fetching pages: 100%|####################################################################| 1/1 [00:00<00:00, 15.15it/s]\n"
     ]
    },
    {
     "name": "stdout",
     "output_type": "stream",
     "text": [
      "Ingesting https://en.wikivoyage.org/wiki/Wadebridge\n"
     ]
    },
    {
     "name": "stderr",
     "output_type": "stream",
     "text": [
      "Fetching pages: 100%|####################################################################| 1/1 [00:00<00:00, 13.89it/s]\n"
     ]
    },
    {
     "name": "stdout",
     "output_type": "stream",
     "text": [
      "Ingesting https://en.wikivoyage.org/wiki/Penzance\n"
     ]
    },
    {
     "name": "stderr",
     "output_type": "stream",
     "text": [
      "Fetching pages: 100%|####################################################################| 1/1 [00:00<00:00, 14.59it/s]\n"
     ]
    },
    {
     "name": "stdout",
     "output_type": "stream",
     "text": [
      "Ingesting https://en.wikivoyage.org/wiki/Newquay\n"
     ]
    },
    {
     "name": "stderr",
     "output_type": "stream",
     "text": [
      "Fetching pages: 100%|####################################################################| 1/1 [00:00<00:00, 12.50it/s]\n"
     ]
    },
    {
     "name": "stdout",
     "output_type": "stream",
     "text": [
      "Ingesting https://en.wikivoyage.org/wiki/St_Ives\n"
     ]
    },
    {
     "name": "stderr",
     "output_type": "stream",
     "text": [
      "Fetching pages: 100%|####################################################################| 1/1 [00:00<00:00, 15.38it/s]\n"
     ]
    },
    {
     "name": "stdout",
     "output_type": "stream",
     "text": [
      "Ingesting https://en.wikivoyage.org/wiki/Port_Isaac\n"
     ]
    },
    {
     "name": "stderr",
     "output_type": "stream",
     "text": [
      "Fetching pages: 100%|####################################################################| 1/1 [00:00<00:00, 12.99it/s]\n"
     ]
    },
    {
     "name": "stdout",
     "output_type": "stream",
     "text": [
      "Ingesting https://en.wikivoyage.org/wiki/Looe\n"
     ]
    },
    {
     "name": "stderr",
     "output_type": "stream",
     "text": [
      "Fetching pages: 100%|####################################################################| 1/1 [00:00<00:00, 13.07it/s]\n"
     ]
    },
    {
     "name": "stdout",
     "output_type": "stream",
     "text": [
      "Ingesting https://en.wikivoyage.org/wiki/Polperro\n"
     ]
    },
    {
     "name": "stderr",
     "output_type": "stream",
     "text": [
      "Fetching pages: 100%|####################################################################| 1/1 [00:00<00:00, 20.21it/s]\n"
     ]
    },
    {
     "name": "stdout",
     "output_type": "stream",
     "text": [
      "Ingesting https://en.wikivoyage.org/wiki/PorthlevenEast_Sussex\n"
     ]
    },
    {
     "name": "stderr",
     "output_type": "stream",
     "text": [
      "Fetching pages: 100%|####################################################################| 1/1 [00:00<00:00,  8.50it/s]\n"
     ]
    },
    {
     "name": "stdout",
     "output_type": "stream",
     "text": [
      "Ingesting https://en.wikivoyage.org/wiki/Brighton\n"
     ]
    },
    {
     "name": "stderr",
     "output_type": "stream",
     "text": [
      "Fetching pages: 100%|####################################################################| 1/1 [00:00<00:00, 16.31it/s]\n"
     ]
    },
    {
     "name": "stdout",
     "output_type": "stream",
     "text": [
      "Ingesting https://en.wikivoyage.org/wiki/Battle\n"
     ]
    },
    {
     "name": "stderr",
     "output_type": "stream",
     "text": [
      "Fetching pages: 100%|####################################################################| 1/1 [00:00<00:00, 18.26it/s]\n"
     ]
    },
    {
     "name": "stdout",
     "output_type": "stream",
     "text": [
      "Ingesting https://en.wikivoyage.org/wiki/Hastings_(England)\n"
     ]
    },
    {
     "name": "stderr",
     "output_type": "stream",
     "text": [
      "Fetching pages: 100%|####################################################################| 1/1 [00:00<00:00, 16.19it/s]\n"
     ]
    },
    {
     "name": "stdout",
     "output_type": "stream",
     "text": [
      "Ingesting https://en.wikivoyage.org/wiki/Rye_(England)\n"
     ]
    },
    {
     "name": "stderr",
     "output_type": "stream",
     "text": [
      "Fetching pages: 100%|####################################################################| 1/1 [00:00<00:00, 18.29it/s]\n"
     ]
    },
    {
     "name": "stdout",
     "output_type": "stream",
     "text": [
      "Ingesting https://en.wikivoyage.org/wiki/Seaford\n"
     ]
    },
    {
     "name": "stderr",
     "output_type": "stream",
     "text": [
      "Fetching pages: 100%|####################################################################| 1/1 [00:00<00:00, 13.52it/s]\n"
     ]
    },
    {
     "name": "stdout",
     "output_type": "stream",
     "text": [
      "Ingesting https://en.wikivoyage.org/wiki/Ashdown_Forest\n"
     ]
    }
   ],
   "source": [
    "for destination_url in uk_destination_urls:\n",
    "    html_loader = AsyncHtmlLoader(destination_url) #A\n",
    "    html_docs =  html_loader.load() #B\n",
    "    text_docs = html2text_transformer.transform_documents(html_docs) #C\n",
    "\n",
    "    granular_chunks = granular_chunk_splitter.split_documents(text_docs) #D\n",
    "\n",
    "    expanded_chunk_store_items = []\n",
    "    for i, granular_chunk in enumerate(granular_chunks): #E\n",
    "\n",
    "        this_chunk_num = i #F\n",
    "        previous_chunk_num = i-1 #F\n",
    "        next_chunk_num = i+1 #F\n",
    "        \n",
    "        if i==0: #F\n",
    "            previous_chunk_num = None\n",
    "        elif i==(len(granular_chunks)-1): #F\n",
    "            next_chunk_num = None\n",
    "\n",
    "        expanded_chunk_text = \"\" #G\n",
    "        if previous_chunk_num: #G\n",
    "            expanded_chunk_text += granular_chunks[previous_chunk_num].page_content\n",
    "            expanded_chunk_text += \"\\n\"\n",
    "\n",
    "        expanded_chunk_text += granular_chunks[this_chunk_num].page_content #G\n",
    "        expanded_chunk_text += \"\\n\"\n",
    "\n",
    "        if next_chunk_num: #G\n",
    "            expanded_chunk_text += granular_chunks[next_chunk_num].page_content\n",
    "            expanded_chunk_text += \"\\n\"\n",
    "\n",
    "        expanded_chunk_id = str(uuid.uuid4()) #H\n",
    "        expanded_chunk_doc = Document(page_content=expanded_chunk_text) #I\n",
    "\n",
    "        expanded_chunk_store_item = (expanded_chunk_id, expanded_chunk_doc)\n",
    "        expanded_chunk_store_items.append(expanded_chunk_store_item)\n",
    "\n",
    "        granular_chunk.metadata[doc_key] = expanded_chunk_id #J\n",
    "            \n",
    "    print(f'Ingesting {destination_url}')\n",
    "    multi_vector_retriever.vectorstore.add_documents(granular_chunks) #K\n",
    "    multi_vector_retriever.docstore.mset(expanded_chunk_store_items) #L\n",
    "\n",
    "#A Loader for one destination\n",
    "#B Documents of one destination \n",
    "#C transform HTML docs into clean text docs\n",
    "#D Split the destination content into granular chunks\n",
    "#E Iterate over the granular chunks\n",
    "#F determine the index of the current chunk and its previous and next chunks\n",
    "#G Assemble the text of the expanded chunk by including the previous and next chunk\n",
    "#H Generate the ID of the expanded chunk\n",
    "#I Create the expanded chunk document\n",
    "#J Link each granular chunk to its related expanded chunk\n",
    "#K Ingest the granular chunks into the vector store\n",
    "#L Ingest the expanded chunks into the document store"
   ]
  },
  {
   "cell_type": "markdown",
   "id": "7c9778d5-5673-422e-8f0a-aaccf7bfce6f",
   "metadata": {},
   "source": [
    "### Performing a search on granular information"
   ]
  },
  {
   "cell_type": "code",
   "execution_count": 193,
   "id": "52c9c118-f199-451f-80ae-12bfb47804e9",
   "metadata": {},
   "outputs": [],
   "source": [
    "retrieved_docs = multi_vector_retriever.invoke(\"Cornwall Ranger\")"
   ]
  },
  {
   "cell_type": "code",
   "execution_count": 194,
   "id": "62e63f2f-ed7c-4909-b00e-1a1743218f4d",
   "metadata": {},
   "outputs": [
    {
     "data": {
      "text/plain": [
       "4"
      ]
     },
     "execution_count": 194,
     "metadata": {},
     "output_type": "execute_result"
    }
   ],
   "source": [
    "len(retrieved_docs)"
   ]
  },
  {
   "cell_type": "code",
   "execution_count": 195,
   "id": "9a481202-1bb0-4ee2-805d-4e7f8c5dc6f9",
   "metadata": {},
   "outputs": [
    {
     "data": {
      "text/plain": [
       "Document(page_content=\"Buses only serve designated stops when in towns; otherwise, you can flag them\\ndown anywhere that's safe for them to stop.\\n\\n### By train\\n\\n[edit]\\n\\n**CrossCountry Trains** and **Great Western Railway** operate regular train\\nservices between the main centres of population, the latter company also\\nserving a number of other towns on branch lines. For train times and fares\\nvisit National Rail Enquiries.\\nThe **Cornwall Ranger** ticket allows unlimited train travel in Cornwall and\\nPlymouth for a calendar day. As of 2023, this costs £14 for adults and £7 for\\nunder-16s.\\n\\n## See\\n\\n[edit]\\n\\nThe **Eden Project** , near St Austell, a fabulous collection of flora from\\nall over the planet housed in two space age transparent domes, and a massive\\nzip line.\\n## See\\n\\n[edit]\\n\\nThe **Eden Project** , near St Austell, a fabulous collection of flora from\\nall over the planet housed in two space age transparent domes, and a massive\\nzip line.\\n\\nThe **Lost Gardens of Heligan** , near Mevagissey, 80 acres (32 hectares) of\\nstunning landscaped scenery with a huge complex of walled flower and vegetable\\ngardens.\\n\\nThe **National Maritime Museum** Falmouth is the ome of the National Maritime\\nMuseum's small boat collection and other exhibits.\\n\")"
      ]
     },
     "execution_count": 195,
     "metadata": {},
     "output_type": "execute_result"
    }
   ],
   "source": [
    "retrieved_docs[0]"
   ]
  },
  {
   "cell_type": "markdown",
   "id": "c7d589d9-e578-467f-a720-cdad21587709",
   "metadata": {},
   "source": [
    "### Comparing with direct semantic search on granular chunks"
   ]
  },
  {
   "cell_type": "code",
   "execution_count": 196,
   "id": "8c8f7c12-3c7d-4d49-8e34-9bcae37eed43",
   "metadata": {},
   "outputs": [],
   "source": [
    "child_docs_only =  child_chunks_collection.similarity_search(\"Cornwall Ranger\")"
   ]
  },
  {
   "cell_type": "code",
   "execution_count": 197,
   "id": "a283a73d-9e54-4616-94f8-1295d813e445",
   "metadata": {},
   "outputs": [
    {
     "data": {
      "text/plain": [
       "4"
      ]
     },
     "execution_count": 197,
     "metadata": {},
     "output_type": "execute_result"
    }
   ],
   "source": [
    "len(child_docs_only)"
   ]
  },
  {
   "cell_type": "code",
   "execution_count": 198,
   "id": "e1cb88c5-d0d8-40f4-b72f-eb61e2f68660",
   "metadata": {},
   "outputs": [
    {
     "data": {
      "text/plain": [
       "Document(metadata={'doc_id': '04c7f88e-e090-4057-af5b-ea584e777b3f', 'language': 'en', 'source': 'https://en.wikivoyage.org/wiki/South_Cornwall', 'title': 'South Cornwall – Travel guide at Wikivoyage'}, page_content='The **Cornwall Ranger** ticket allows unlimited train travel in Cornwall and\\nPlymouth for a calendar day. As of 2023, this costs £14 for adults and £7 for\\nunder-16s.\\n\\n## See\\n\\n[edit]\\n\\nThe **Eden Project** , near St Austell, a fabulous collection of flora from\\nall over the planet housed in two space age transparent domes, and a massive\\nzip line.')"
      ]
     },
     "execution_count": 198,
     "metadata": {},
     "output_type": "execute_result"
    }
   ],
   "source": [
    "child_docs_only[0]"
   ]
  },
  {
   "cell_type": "code",
   "execution_count": null,
   "id": "74285c39-547f-4c5d-aaf7-4429cd1c1243",
   "metadata": {},
   "outputs": [],
   "source": [
    "# COMMENT: the expanded chunk has more useful context"
   ]
  },
  {
   "cell_type": "code",
   "execution_count": null,
   "id": "cb57b7ad-7c1b-448c-867e-36bbfb6513b6",
   "metadata": {},
   "outputs": [],
   "source": []
  }
 ],
 "metadata": {
  "kernelspec": {
   "display_name": "Python 3 (ipykernel)",
   "language": "python",
   "name": "python3"
  },
  "language_info": {
   "codemirror_mode": {
    "name": "ipython",
    "version": 3
   },
   "file_extension": ".py",
   "mimetype": "text/x-python",
   "name": "python",
   "nbconvert_exporter": "python",
   "pygments_lexer": "ipython3",
   "version": "3.11.9"
  }
 },
 "nbformat": 4,
 "nbformat_minor": 5
}
