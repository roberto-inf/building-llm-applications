{
 "cells": [
  {
   "cell_type": "markdown",
   "id": "a3fa8177-c120-4e5e-b0d8-7713b9061a0c",
   "metadata": {},
   "source": [
    "# Question transformations"
   ]
  },
  {
   "cell_type": "markdown",
   "id": "948924c1-cae3-4046-b38d-e367dcf24b2b",
   "metadata": {},
   "source": [
    "# Splitting and ingesting the content of various URLs (across UK destinations)"
   ]
  },
  {
   "cell_type": "markdown",
   "id": "916b44a1-ef1b-4cc3-b4ce-0559affc9fc7",
   "metadata": {},
   "source": [
    "### Preparing the Chroma DB collections"
   ]
  },
  {
   "cell_type": "code",
   "execution_count": 1,
   "id": "3f6f8160-3d18-4668-b1a4-60d110718f17",
   "metadata": {},
   "outputs": [
    {
     "name": "stdin",
     "output_type": "stream",
     "text": [
      "Enter your OPENAI_API_KEY ········\n"
     ]
    }
   ],
   "source": [
    "from langchain_chroma import Chroma\n",
    "from langchain_openai import OpenAIEmbeddings\n",
    "import getpass\n",
    "\n",
    "OPENAI_API_KEY = getpass.getpass('Enter your OPENAI_API_KEY')"
   ]
  },
  {
   "cell_type": "code",
   "execution_count": 17,
   "id": "e1723ba1-6b0e-4c81-ad98-f89ff60d2463",
   "metadata": {},
   "outputs": [],
   "source": [
    "uk_granular_collection = Chroma(\n",
    "    collection_name=\"uk_granular\",\n",
    "    embedding_function=OpenAIEmbeddings(openai_api_key=OPENAI_API_KEY),\n",
    ")\n",
    "\n",
    "uk_granular_collection.reset_collection() #A"
   ]
  },
  {
   "cell_type": "markdown",
   "id": "0a65632b-6508-4d10-8c02-819f0b2acf53",
   "metadata": {},
   "source": [
    "### Splitting and ingesting HTML content with the HTMLSectionSplitter "
   ]
  },
  {
   "cell_type": "code",
   "execution_count": 18,
   "id": "0f0d88ea-1b56-4a03-8db2-c23a293e1491",
   "metadata": {},
   "outputs": [],
   "source": [
    "from langchain_text_splitters import HTMLSectionSplitter\n",
    "from langchain_community.document_loaders import AsyncHtmlLoader"
   ]
  },
  {
   "cell_type": "code",
   "execution_count": 19,
   "id": "00fbb432-b8ef-4c85-a490-434e3e6720da",
   "metadata": {},
   "outputs": [],
   "source": [
    "uk_destinations = [\n",
    "    \"Cornwall\", \"North_Cornwall\", \"South_Cornwall\", \"West_Cornwall\", \n",
    "    \"Tintagel\", \"Bodmin\", \"Wadebridge\", \"Penzance\", \"Newquay\",\n",
    "    \"St_Ives\", \"Port_Isaac\", \"Looe\", \"Polperro\", \"Porthleven\"\n",
    "    \"East_Sussex\", \"Brighton\", \"Battle\", \"Hastings_(England)\", \n",
    "    \"Rye_(England)\", \"Seaford\", \"Ashdown_Forest\"\n",
    "]\n",
    "\n",
    "wikivoyage_root_url = \"https://en.wikivoyage.org/wiki\""
   ]
  },
  {
   "cell_type": "code",
   "execution_count": 20,
   "id": "9a9393f8-c15e-444f-97dc-ed05b64d138a",
   "metadata": {},
   "outputs": [],
   "source": [
    "uk_destination_urls = [f'{wikivoyage_root_url}/{d}' for d in uk_destinations]"
   ]
  },
  {
   "cell_type": "code",
   "execution_count": 21,
   "id": "f2246836-ce23-4963-81d2-4051cf34c120",
   "metadata": {},
   "outputs": [],
   "source": [
    "headers_to_split_on = [(\"h1\", \"Header 1\"),(\"h2\", \"Header 2\")]\n",
    "html_section_splitter = HTMLSectionSplitter(headers_to_split_on=headers_to_split_on)"
   ]
  },
  {
   "cell_type": "code",
   "execution_count": 22,
   "id": "fdf1ebee-a9b9-4102-b208-9a29c9a070db",
   "metadata": {},
   "outputs": [],
   "source": [
    "def split_docs_into_granular_chunks(docs):\n",
    "    all_chunks = []\n",
    "    for doc in docs:\n",
    "        html_string = doc.page_content #B\n",
    "        temp_chunks = html_section_splitter.split_text(html_string) #C\n",
    "        h2_temp_chunks = [chunk for chunk in temp_chunks if \"Header 2\" in chunk.metadata] #D\n",
    "        all_chunks.extend(h2_temp_chunks) \n",
    "\n",
    "    return all_chunks"
   ]
  },
  {
   "cell_type": "code",
   "execution_count": 23,
   "id": "9829e9e6-9cfe-4bbc-83ee-af4641346cf8",
   "metadata": {},
   "outputs": [
    {
     "name": "stderr",
     "output_type": "stream",
     "text": [
      "Fetching pages: 100%|####################################################################| 1/1 [00:00<00:00,  7.64it/s]\n"
     ]
    },
    {
     "name": "stdout",
     "output_type": "stream",
     "text": [
      "{'source': 'https://en.wikivoyage.org/wiki/Cornwall', 'title': 'Cornwall – Travel guide at Wikivoyage', 'language': 'en'}\n"
     ]
    },
    {
     "name": "stderr",
     "output_type": "stream",
     "text": [
      "Fetching pages: 100%|####################################################################| 1/1 [00:00<00:00, 11.90it/s]\n"
     ]
    },
    {
     "name": "stdout",
     "output_type": "stream",
     "text": [
      "{'source': 'https://en.wikivoyage.org/wiki/North_Cornwall', 'title': 'North Cornwall – Travel guide at Wikivoyage', 'language': 'en'}\n"
     ]
    },
    {
     "name": "stderr",
     "output_type": "stream",
     "text": [
      "Fetching pages: 100%|####################################################################| 1/1 [00:00<00:00, 10.87it/s]\n"
     ]
    },
    {
     "name": "stdout",
     "output_type": "stream",
     "text": [
      "{'source': 'https://en.wikivoyage.org/wiki/South_Cornwall', 'title': 'South Cornwall – Travel guide at Wikivoyage', 'language': 'en'}\n"
     ]
    },
    {
     "name": "stderr",
     "output_type": "stream",
     "text": [
      "Fetching pages: 100%|####################################################################| 1/1 [00:00<00:00,  8.70it/s]\n"
     ]
    },
    {
     "name": "stdout",
     "output_type": "stream",
     "text": [
      "{'source': 'https://en.wikivoyage.org/wiki/West_Cornwall', 'title': 'West Cornwall – Travel guide at Wikivoyage', 'language': 'en'}\n"
     ]
    },
    {
     "name": "stderr",
     "output_type": "stream",
     "text": [
      "Fetching pages: 100%|####################################################################| 1/1 [00:00<00:00,  9.84it/s]\n"
     ]
    },
    {
     "name": "stdout",
     "output_type": "stream",
     "text": [
      "{'source': 'https://en.wikivoyage.org/wiki/Tintagel', 'title': 'Tintagel – Travel guide at Wikivoyage', 'language': 'en'}\n"
     ]
    },
    {
     "name": "stderr",
     "output_type": "stream",
     "text": [
      "Fetching pages: 100%|####################################################################| 1/1 [00:00<00:00, 10.66it/s]\n"
     ]
    },
    {
     "name": "stdout",
     "output_type": "stream",
     "text": [
      "{'source': 'https://en.wikivoyage.org/wiki/Bodmin', 'title': 'Bodmin – Travel guide at Wikivoyage', 'language': 'en'}\n"
     ]
    },
    {
     "name": "stderr",
     "output_type": "stream",
     "text": [
      "Fetching pages: 100%|####################################################################| 1/1 [00:00<00:00, 10.67it/s]\n"
     ]
    },
    {
     "name": "stdout",
     "output_type": "stream",
     "text": [
      "{'source': 'https://en.wikivoyage.org/wiki/Wadebridge', 'title': 'Wadebridge – Travel guide at Wikivoyage', 'language': 'en'}\n"
     ]
    },
    {
     "name": "stderr",
     "output_type": "stream",
     "text": [
      "Fetching pages: 100%|####################################################################| 1/1 [00:00<00:00,  8.91it/s]\n"
     ]
    },
    {
     "name": "stdout",
     "output_type": "stream",
     "text": [
      "{'source': 'https://en.wikivoyage.org/wiki/Penzance', 'title': 'Penzance – Travel guide at Wikivoyage', 'language': 'en'}\n"
     ]
    },
    {
     "name": "stderr",
     "output_type": "stream",
     "text": [
      "Fetching pages: 100%|####################################################################| 1/1 [00:00<00:00,  9.90it/s]\n"
     ]
    },
    {
     "name": "stdout",
     "output_type": "stream",
     "text": [
      "{'source': 'https://en.wikivoyage.org/wiki/Newquay', 'title': 'Newquay – Travel guide at Wikivoyage', 'language': 'en'}\n"
     ]
    },
    {
     "name": "stderr",
     "output_type": "stream",
     "text": [
      "Fetching pages: 100%|####################################################################| 1/1 [00:00<00:00, 11.63it/s]\n"
     ]
    },
    {
     "name": "stdout",
     "output_type": "stream",
     "text": [
      "{'source': 'https://en.wikivoyage.org/wiki/St_Ives', 'title': 'St Ives – Travel guide at Wikivoyage', 'language': 'en'}\n"
     ]
    },
    {
     "name": "stderr",
     "output_type": "stream",
     "text": [
      "Fetching pages: 100%|####################################################################| 1/1 [00:00<00:00, 12.48it/s]\n"
     ]
    },
    {
     "name": "stdout",
     "output_type": "stream",
     "text": [
      "{'source': 'https://en.wikivoyage.org/wiki/Port_Isaac', 'title': 'Port Isaac – Travel guide at Wikivoyage', 'language': 'en'}\n"
     ]
    },
    {
     "name": "stderr",
     "output_type": "stream",
     "text": [
      "Fetching pages: 100%|####################################################################| 1/1 [00:00<00:00, 12.99it/s]\n"
     ]
    },
    {
     "name": "stdout",
     "output_type": "stream",
     "text": [
      "{'source': 'https://en.wikivoyage.org/wiki/Looe', 'title': 'Looe – Travel guide at Wikivoyage', 'language': 'en'}\n"
     ]
    },
    {
     "name": "stderr",
     "output_type": "stream",
     "text": [
      "Fetching pages: 100%|####################################################################| 1/1 [00:00<00:00, 11.16it/s]\n"
     ]
    },
    {
     "name": "stdout",
     "output_type": "stream",
     "text": [
      "{'source': 'https://en.wikivoyage.org/wiki/Polperro', 'title': 'Polperro – Travel guide at Wikivoyage', 'language': 'en'}\n"
     ]
    },
    {
     "name": "stderr",
     "output_type": "stream",
     "text": [
      "Fetching pages: 100%|####################################################################| 1/1 [00:00<00:00, 11.68it/s]\n"
     ]
    },
    {
     "name": "stdout",
     "output_type": "stream",
     "text": [
      "{'source': 'https://en.wikivoyage.org/wiki/PorthlevenEast_Sussex', 'title': 'PorthlevenEast Sussex – Travel guide at Wikivoyage', 'language': 'en'}\n"
     ]
    },
    {
     "name": "stderr",
     "output_type": "stream",
     "text": [
      "Fetching pages: 100%|####################################################################| 1/1 [00:00<00:00,  7.41it/s]\n"
     ]
    },
    {
     "name": "stdout",
     "output_type": "stream",
     "text": [
      "{'source': 'https://en.wikivoyage.org/wiki/Brighton', 'title': 'Brighton – Travel guide at Wikivoyage', 'language': 'en'}\n"
     ]
    },
    {
     "name": "stderr",
     "output_type": "stream",
     "text": [
      "Fetching pages: 100%|####################################################################| 1/1 [00:00<00:00, 12.05it/s]\n"
     ]
    },
    {
     "name": "stdout",
     "output_type": "stream",
     "text": [
      "{'source': 'https://en.wikivoyage.org/wiki/Battle', 'title': 'Battle – Travel guide at Wikivoyage', 'language': 'en'}\n"
     ]
    },
    {
     "name": "stderr",
     "output_type": "stream",
     "text": [
      "Fetching pages: 100%|####################################################################| 1/1 [00:00<00:00,  9.51it/s]\n"
     ]
    },
    {
     "name": "stdout",
     "output_type": "stream",
     "text": [
      "{'source': 'https://en.wikivoyage.org/wiki/Hastings_(England)', 'title': 'Hastings (England) – Travel guide at Wikivoyage', 'language': 'en'}\n"
     ]
    },
    {
     "name": "stderr",
     "output_type": "stream",
     "text": [
      "Fetching pages: 100%|####################################################################| 1/1 [00:00<00:00, 12.81it/s]\n"
     ]
    },
    {
     "name": "stdout",
     "output_type": "stream",
     "text": [
      "{'source': 'https://en.wikivoyage.org/wiki/Rye_(England)', 'title': 'Rye (England) – Travel guide at Wikivoyage', 'language': 'en'}\n"
     ]
    },
    {
     "name": "stderr",
     "output_type": "stream",
     "text": [
      "Fetching pages: 100%|####################################################################| 1/1 [00:00<00:00, 10.71it/s]\n"
     ]
    },
    {
     "name": "stdout",
     "output_type": "stream",
     "text": [
      "{'source': 'https://en.wikivoyage.org/wiki/Seaford', 'title': 'Seaford – Travel guide at Wikivoyage', 'language': 'en'}\n"
     ]
    },
    {
     "name": "stderr",
     "output_type": "stream",
     "text": [
      "Fetching pages: 100%|####################################################################| 1/1 [00:00<00:00, 11.36it/s]\n"
     ]
    },
    {
     "name": "stdout",
     "output_type": "stream",
     "text": [
      "{'source': 'https://en.wikivoyage.org/wiki/Ashdown_Forest', 'title': 'Ashdown Forest – Travel guide at Wikivoyage', 'language': 'en'}\n"
     ]
    }
   ],
   "source": [
    "for destination_url in uk_destination_urls:\n",
    "    html_loader = AsyncHtmlLoader(destination_url) #E\n",
    "    docs =  html_loader.load() #F\n",
    "    \n",
    "    for doc in docs:\n",
    "        print(doc.metadata)\n",
    "        granular_chunks = split_docs_into_granular_chunks(docs)\n",
    "        uk_granular_collection.add_documents(documents=granular_chunks)\n",
    "\n",
    "#A In case it exists\n",
    "#B Extract the HTML text from the document\n",
    "#C Each chunk is a H1 or H2 HTML section\n",
    "#D Only keep content associated with H2 sections        \n",
    "#E Loader for one destination\n",
    "#F Documents of one destination"
   ]
  },
  {
   "cell_type": "markdown",
   "id": "9b764315-24d2-48c4-aa74-c97a93459261",
   "metadata": {},
   "source": [
    "# Rewrite-retrieve-read"
   ]
  },
  {
   "cell_type": "markdown",
   "id": "f86d9495-4e11-4cbb-8e3f-07d4d8c30a59",
   "metadata": {},
   "source": [
    "## Retrieving content with original user question"
   ]
  },
  {
   "cell_type": "code",
   "execution_count": 9,
   "id": "8b024738-b46d-4709-91f8-50e941e68276",
   "metadata": {},
   "outputs": [
    {
     "name": "stdout",
     "output_type": "stream",
     "text": [
      "page_content='Stay safe \n",
      " [ edit ] \n",
      " \n",
      " Some paths may be muddy in the winter; in the summer there are some snakes (adders are the only poisonous ones, however rarely attack humans, dogs can be killed by Adder Venom) \n",
      " Often there are deep pools, which can be nice to swim in (from this area's idilic industrial past), but children should  always  be accompanied,  monsters from the deep are rare . \n",
      " Car parks are generally free of crime, however it is always important as with any car park to ensure that valuables are hidden out of site or taken with you. If you do not want to take your dog with you (paths can be muddy), give an area of shade for your animal, leave drinking water for the dog, and keep the windows well open.  Dogs die in hot cars. \n",
      " Some paths may lead abruptly onto (often fast) roads; for your children's and pets' safety keep listening out for cars and if in any doubt keep more adventurous animals on a lead. \n",
      " In the summer months the whole forest is at risk from wildfires, please do not smoke (for your own health and the forest's) and  Do not light fires .' metadata={'Header 2': 'Stay safe'}\n",
      "page_content='Do \n",
      " [ edit ] \n",
      " \n",
      " Playing 'pooh sticks' at Pooh Sticks Bridge near Hartfield \n",
      " \n",
      "   \n",
      " The forest way .   A 10   km (6.2   mi) cycle route through beautiful countryside.   \n",
      "   \n",
      " Walking .   Get a map and go for walk! Some beautiful landscapes accessible from all the main roads; at larger car parks there's usually an ice cream van there for the kids (even in mid winter). A  Forest Map and Guide  can be obtained from the Visitor Centre for £2.50 whilst several walking routes can be downloaded from the  Tourist Information website for the Forest . Walking trails are rarely signposted on the forest, however on the forest way (above) there are some signed paths.   \n",
      " Play 'pooh sticks' at  Poohsticks Bridge , just like Christopher Robin in A.A. Milne's famous Winnie the Pooh stories. Park at Pooh car park and its a good downhill stroll along a signposted path. \n",
      "   \n",
      " Ashdown Forest Llama Park \n",
      "   ( on the A22 between Forest Row and Nutley. ).   Llots of llamas to llook at.   \n",
      "   \n",
      " Local Churches .   Often very interesting with varied histories; can be incorporated into a walk or a drive.' metadata={'Header 2': 'Do'}\n",
      "page_content='Understand \n",
      " [ edit ] \n",
      " \n",
      " Friends Clump, Ashdown Forest, present in Winnie the Pooh \n",
      " \n",
      " Flora and fauna \n",
      " [ edit ] \n",
      " \n",
      " There are several hundred deer, mainly Roe and Fallow and including small numbers of Muntjac and Sika, living happily in the woodland areas. Nightjar and Stonechat, Skylark and Meadow Pipit, Dartford Warbler and Woodcock are among the birds which enjoy the gorse and heather habitat. Many rare species of butterfly, moth and dragonfly are also to be seen, as are adders and a small number of grass snakes. \n",
      " \n",
      " Climate \n",
      " [ edit ] \n",
      " \n",
      " Summer is the warmest time and best for walking, cycling, etc.; winter months can be cold and a little damp. It is advisable to take a light coat if the weather looks a bit iffy, just to keep you dry if anything; when the wind blows it can get quite cold on the ridges, however most of the valleys and copses provide enough shelter \n",
      " \n",
      " History \n",
      " [ edit ] \n",
      " \n",
      " Man has lived and worked in Ashdown Forest for 5,000 years, with iron-working during the Roman Period and Saxon Farming, however the forest took on its role as an area of enjoyment in the 11th century, when it was set up as a hunting ground for the Crown (remnants of this can still be seen) and used for rabbit farming (many localities are known as 'Warrens' - indicating their past usage). Ashdown Forest has, throughout history had an important part in the nation's economy, in 1496 French ironmasters were employed to operate the first water powered blast furnace in Britain, at Newbridge near Coleman’s Hatch and in 1505 a water powered steel forge was established at Pippingford. However by the 18th century most iron-working had stopped.' metadata={'Header 2': 'Understand'}\n",
      "page_content='Eat \n",
      " [ edit ] \n",
      " \n",
      " You need not travel far within the Ashdown Forest area to find excellent provision for the hungry, the thirsty and the merely peckish. Everything from the humble pint in a friendly local pub to fine cuisine in a world class restaurant can be found in Ashdown forest.  Restaurants are often attached to pubs, with separate areas; food varies in quality and price, but is rarely of poor quality. \n",
      " \n",
      " Budget \n",
      " [ edit ] \n",
      " \n",
      " \n",
      "   \n",
      " Duddleswell Tea Rooms \n",
      "   ( near Uckfield ),   ☏   +44 1825 712126 .   \n",
      "   \n",
      " St Ives Tea Gardens ,   Hartfield ,   ☏   +44 1892 770589 .   \n",
      "   \n",
      " Deerview Products ,   Newick ,   ☏   +44 1825 721365 .   Farm shop.   \n",
      " \n",
      " \n",
      " Mid-Range \n",
      " [ edit ] \n",
      " \n",
      "   \n",
      " Ashdown Forest Llama Park \n",
      "   ( near Forest Row ),   ☏   +44 1825 712040 .   \n",
      " \n",
      " Splurge \n",
      " [ edit ] \n",
      " \n",
      " \n",
      "   \n",
      " Barnsgate Manor Vineyard \n",
      "   ( near Uckfield ),   ☏   +44 1825 713366 .   \n",
      "   \n",
      " Wilderness Wood \n",
      "   ( near Uckfield ),   ☏   +44 1825 830509 .   \n",
      "   \n",
      " Nightingale Farm ,   Hartfield ,   ☏   +44 1342 825827 .   Loy grazed meat.   \n",
      " \n",
      " Towns such as  Crowborough ,  Uckfield ,  East Grinstead  and Forest Row have supermarkets and more specialist establishments.' metadata={'Header 2': 'Eat'}\n"
     ]
    }
   ],
   "source": [
    "user_question = \"What are the best activities to do with children and pets in Ashdown Forest while ensuring their safety?\"\n",
    "initial_results = uk_granular_collection.similarity_search(query=user_question,k=4)\n",
    "for doc in initial_results:\n",
    "    print(doc)"
   ]
  },
  {
   "cell_type": "code",
   "execution_count": 159,
   "id": "1a637f6a-117f-4e93-9c9b-84d361369dde",
   "metadata": {},
   "outputs": [],
   "source": [
    "# COMMENT: the retrieval from the vector store against the original question is bad"
   ]
  },
  {
   "cell_type": "markdown",
   "id": "4c4b329e-739c-44e9-a5f9-1567d9e79fcd",
   "metadata": {},
   "source": [
    "## Question rewrite"
   ]
  },
  {
   "cell_type": "markdown",
   "id": "f9dbfa99-ec8a-4775-a4a7-33502ee21533",
   "metadata": {},
   "source": [
    "### Setting up the query rewriter chain"
   ]
  },
  {
   "cell_type": "code",
   "execution_count": 152,
   "id": "4f4fc6b2-eb69-48e3-9d15-b4e5ff6a5096",
   "metadata": {},
   "outputs": [],
   "source": [
    "from langchain_openai import ChatOpenAI\n",
    "from langchain_core.output_parsers import StrOutputParser\n",
    "from langchain_core.prompts import ChatPromptTemplate"
   ]
  },
  {
   "cell_type": "code",
   "execution_count": 153,
   "id": "3034a15b-cec3-433e-856e-dbfdcfa8eedd",
   "metadata": {},
   "outputs": [],
   "source": [
    "llm = ChatOpenAI(model=\"gpt-4o-mini\", openai_api_key=OPENAI_API_KEY)"
   ]
  },
  {
   "cell_type": "code",
   "execution_count": 154,
   "id": "7e60da8d-6566-4d5a-a7a8-bbabc9fcb050",
   "metadata": {},
   "outputs": [],
   "source": [
    "rewriter_prompt_template = \"\"\"\n",
    "Generate search query for the Chroma DB vector store from a user question, allowing for a more accurate response through semantic search.\n",
    "Just return the revised Chroma DB query, with now quotes around it. \n",
    "\n",
    "User question: {user_question}\n",
    "Revised Chroma DB query:\n",
    "\"\"\"\n",
    "\n",
    "rewriter_prompt = ChatPromptTemplate.from_template(rewriter_prompt_template) "
   ]
  },
  {
   "cell_type": "code",
   "execution_count": 155,
   "id": "3037753f-2919-4a08-a4dd-e1e4157d5429",
   "metadata": {},
   "outputs": [],
   "source": [
    "rewriter_chain = rewriter_prompt | llm | StrOutputParser()"
   ]
  },
  {
   "cell_type": "markdown",
   "id": "5342f6fb-ee59-4b1a-a8f9-4f27a34f5039",
   "metadata": {},
   "source": [
    "### Retrieving content with the rewritten query"
   ]
  },
  {
   "cell_type": "code",
   "execution_count": 204,
   "id": "329c68fc-28ea-4ea0-8a68-d051880191ef",
   "metadata": {},
   "outputs": [
    {
     "name": "stdout",
     "output_type": "stream",
     "text": [
      "\"best activities children pets Ashdown Forest safety\"\n"
     ]
    }
   ],
   "source": [
    "user_question = \"What are the best activities to do with children and pets in Ashdown Forest while ensuring their safety?\"\n",
    "\n",
    "search_query = rewriter_chain.invoke({\"user_question\": user_question})\n",
    "print(search_query)"
   ]
  },
  {
   "cell_type": "code",
   "execution_count": 205,
   "id": "ef23e323-16dd-49bd-923f-2476687bf71f",
   "metadata": {},
   "outputs": [
    {
     "name": "stdout",
     "output_type": "stream",
     "text": [
      "page_content='Stay safe \n",
      " [ edit ] \n",
      " \n",
      " Some paths may be muddy in the winter; in the summer there are some snakes (adders are the only poisonous ones, however rarely attack humans, dogs can be killed by Adder Venom) \n",
      " Often there are deep pools, which can be nice to swim in (from this area's idilic industrial past), but children should  always  be accompanied,  monsters from the deep are rare . \n",
      " Car parks are generally free of crime, however it is always important as with any car park to ensure that valuables are hidden out of site or taken with you. If you do not want to take your dog with you (paths can be muddy), give an area of shade for your animal, leave drinking water for the dog, and keep the windows well open.  Dogs die in hot cars. \n",
      " Some paths may lead abruptly onto (often fast) roads; for your children's and pets' safety keep listening out for cars and if in any doubt keep more adventurous animals on a lead. \n",
      " In the summer months the whole forest is at risk from wildfires, please do not smoke (for your own health and the forest's) and  Do not light fires .' metadata={'Header 2': 'Stay safe'}\n",
      "page_content='Understand \n",
      " [ edit ] \n",
      " \n",
      " Friends Clump, Ashdown Forest, present in Winnie the Pooh \n",
      " \n",
      " Flora and fauna \n",
      " [ edit ] \n",
      " \n",
      " There are several hundred deer, mainly Roe and Fallow and including small numbers of Muntjac and Sika, living happily in the woodland areas. Nightjar and Stonechat, Skylark and Meadow Pipit, Dartford Warbler and Woodcock are among the birds which enjoy the gorse and heather habitat. Many rare species of butterfly, moth and dragonfly are also to be seen, as are adders and a small number of grass snakes. \n",
      " \n",
      " Climate \n",
      " [ edit ] \n",
      " \n",
      " Summer is the warmest time and best for walking, cycling, etc.; winter months can be cold and a little damp. It is advisable to take a light coat if the weather looks a bit iffy, just to keep you dry if anything; when the wind blows it can get quite cold on the ridges, however most of the valleys and copses provide enough shelter \n",
      " \n",
      " History \n",
      " [ edit ] \n",
      " \n",
      " Man has lived and worked in Ashdown Forest for 5,000 years, with iron-working during the Roman Period and Saxon Farming, however the forest took on its role as an area of enjoyment in the 11th century, when it was set up as a hunting ground for the Crown (remnants of this can still be seen) and used for rabbit farming (many localities are known as 'Warrens' - indicating their past usage). Ashdown Forest has, throughout history had an important part in the nation's economy, in 1496 French ironmasters were employed to operate the first water powered blast furnace in Britain, at Newbridge near Coleman’s Hatch and in 1505 a water powered steel forge was established at Pippingford. However by the 18th century most iron-working had stopped.' metadata={'Header 2': 'Understand'}\n",
      "page_content='Do \n",
      " [ edit ] \n",
      " \n",
      " Playing 'pooh sticks' at Pooh Sticks Bridge near Hartfield \n",
      " \n",
      "   \n",
      " The forest way .   A 10   km (6.2   mi) cycle route through beautiful countryside.   \n",
      "   \n",
      " Walking .   Get a map and go for walk! Some beautiful landscapes accessible from all the main roads; at larger car parks there's usually an ice cream van there for the kids (even in mid winter). A  Forest Map and Guide  can be obtained from the Visitor Centre for £2.50 whilst several walking routes can be downloaded from the  Tourist Information website for the Forest . Walking trails are rarely signposted on the forest, however on the forest way (above) there are some signed paths.   \n",
      " Play 'pooh sticks' at  Poohsticks Bridge , just like Christopher Robin in A.A. Milne's famous Winnie the Pooh stories. Park at Pooh car park and its a good downhill stroll along a signposted path. \n",
      "   \n",
      " Ashdown Forest Llama Park \n",
      "   ( on the A22 between Forest Row and Nutley. ).   Llots of llamas to llook at.   \n",
      "   \n",
      " Local Churches .   Often very interesting with varied histories; can be incorporated into a walk or a drive.' metadata={'Header 2': 'Do'}\n"
     ]
    }
   ],
   "source": [
    "improved_results = uk_granular_collection.similarity_search(query=search_query,k=3)\n",
    "for doc in improved_results:\n",
    "    print(doc)"
   ]
  },
  {
   "cell_type": "code",
   "execution_count": null,
   "id": "3d7388f1-f8d3-46d9-ae8d-366d96107912",
   "metadata": {},
   "outputs": [],
   "source": [
    "# COMMENT: FIND A BETTER QUESTION!!"
   ]
  },
  {
   "cell_type": "markdown",
   "id": "b5482c37-a227-4a99-ae35-c8adec9183dc",
   "metadata": {},
   "source": [
    "### Combining everything in a single RAG chain"
   ]
  },
  {
   "cell_type": "code",
   "execution_count": 209,
   "id": "1102bfee-cabb-45dc-88e4-198c394489e1",
   "metadata": {},
   "outputs": [],
   "source": [
    "from langchain_core.runnables import RunnablePassthrough"
   ]
  },
  {
   "cell_type": "code",
   "execution_count": 215,
   "id": "41036bbe-1043-41a1-af38-e1db6aa7532f",
   "metadata": {},
   "outputs": [],
   "source": [
    "retriever = uk_granular_collection.as_retriever()\n",
    "\n",
    "rag_prompt_template = \"\"\"\n",
    "Given a question and some context, answer the question.\n",
    "If you do not the answer, just say I do not know.\n",
    "\n",
    "Context: {context}\n",
    "Question: {question}\n",
    "\"\"\"\n",
    "\n",
    "rag_prompt = ChatPromptTemplate.from_template(rag_prompt_template) \n",
    "\n",
    "rewrite_retrieve_read_rag_chain = (\n",
    "    {\n",
    "        \"context\": {\"user_question\": RunnablePassthrough()} | rewriter_chain | retriever,#A\n",
    "        \"question\": RunnablePassthrough(),#B\n",
    "    }\n",
    "    | rag_prompt\n",
    "    | llm\n",
    "    | StrOutputParser()\n",
    ")\n",
    "#A The context is returned by the retriver after feeding to it the rewritten query\n",
    "#B This is the original user question"
   ]
  },
  {
   "cell_type": "code",
   "execution_count": 216,
   "id": "9b549250-fcea-42f6-9792-b8aa0013f541",
   "metadata": {},
   "outputs": [
    {
     "name": "stdout",
     "output_type": "stream",
     "text": [
      "The best activities to do with children and pets in Ashdown Forest while ensuring their safety include:\n",
      "\n",
      "1. **Walking**: Take a map and explore the beautiful landscapes. Ensure children are accompanied and pets are kept on a lead, especially when paths lead to fast roads.\n",
      "\n",
      "2. **Playing 'pooh sticks'**: Visit Pooh Sticks Bridge, where children can enjoy this fun game, similar to the stories of Winnie the Pooh.\n",
      "\n",
      "3. **Supervising swimming**: If swimming in deep pools, make sure children are always accompanied by an adult.\n",
      "\n",
      "4. **Exploring nature**: Observe the forest's flora and fauna, but keep pets on a lead to avoid encounters with wildlife like snakes.\n",
      "\n",
      "5. **Providing shade and water for pets**: If you don't want to take your dog on a muddy path, provide a shaded area and drinking water in the car with windows left open to prevent heatstroke.\n",
      "\n",
      "6. **Cycling**: Use the cycle route through the countryside, ensuring children are safe and within sight.\n",
      "\n",
      "Always be mindful of the environment and potential hazards, such as wildfires in summer or muddy paths in winter, to ensure a safe and enjoyable experience.\n"
     ]
    }
   ],
   "source": [
    "user_question = \"What are the best activities to do with children and pets in Ashdown Forest while ensuring their safety?\"\n",
    "\n",
    "answer = rewrite_retrieve_read_rag_chain.invoke(user_question)\n",
    "print(answer)"
   ]
  },
  {
   "cell_type": "code",
   "execution_count": 217,
   "id": "074868cd-0c53-4511-add1-04a1e7c4eb2e",
   "metadata": {},
   "outputs": [],
   "source": [
    "# COMMENT: Change the example query"
   ]
  },
  {
   "cell_type": "markdown",
   "id": "0e47b64c-6d58-4928-8271-b151cdfa1a2a",
   "metadata": {},
   "source": [
    "# Multiple query generation with MultiQueryRetriever"
   ]
  },
  {
   "cell_type": "code",
   "execution_count": 224,
   "id": "837afc94-3573-439b-a152-9b33f05d6d9b",
   "metadata": {},
   "outputs": [],
   "source": [
    "from langchain.retrievers.multi_query import MultiQueryRetriever\n",
    "from langchain_core.prompts import ChatPromptTemplate\n",
    "\n",
    "from typing import List\n",
    "from langchain_core.output_parsers import BaseOutputParser\n",
    "from langchain_core.pydantic_v1 import BaseModel, Field"
   ]
  },
  {
   "cell_type": "markdown",
   "id": "addc5a70-f0b2-476a-ba84-a03688ed6296",
   "metadata": {},
   "source": [
    "## Implementing a custom MultiQueryRetriver"
   ]
  },
  {
   "cell_type": "markdown",
   "id": "10667ae0-b50a-4728-bed5-cdfbfcde2235",
   "metadata": {},
   "source": [
    "### Setting up the prompt"
   ]
  },
  {
   "cell_type": "code",
   "execution_count": 225,
   "id": "3d58e44f-813e-4c76-85c5-1802519e0bab",
   "metadata": {},
   "outputs": [],
   "source": [
    "multi_query_gen_prompt_template = \"\"\"\n",
    "You are an AI language model assistant. Your task is to generate five \n",
    "different versions of the given user question to retrieve relevant documents from a vector \n",
    "database. By generating multiple perspectives on the user question, your goal is to help\n",
    "the user overcome some of the limitations of the distance-based similarity search. \n",
    "Provide these alternative questions separated by newlines.\n",
    "Original question: {question}\n",
    "\"\"\"\n",
    "\n",
    "multi_query_gen_prompt = ChatPromptTemplate.from_template(multi_query_gen_prompt_template) "
   ]
  },
  {
   "cell_type": "markdown",
   "id": "939cc90e-5c63-451e-9930-edba6a3a521f",
   "metadata": {},
   "source": [
    "### Setting up the multi-query parser"
   ]
  },
  {
   "cell_type": "code",
   "execution_count": 230,
   "id": "5984c9da-e776-4471-88ed-ef0d42b08254",
   "metadata": {},
   "outputs": [],
   "source": [
    "class LineListOutputParser(BaseOutputParser[List[str]]):\n",
    "    \"\"\"Parse out a question from each output line.\"\"\"\n",
    "\n",
    "    def parse(self, text: str) -> List[str]:\n",
    "        lines = text.strip().split(\"\\n\")\n",
    "        return list(filter(None, lines))  \n",
    "\n",
    "\n",
    "questions_parser = LineListOutputParser()"
   ]
  },
  {
   "cell_type": "markdown",
   "id": "1e6b33ae-fe7a-4ca2-8ca5-034dbdcffbe8",
   "metadata": {},
   "source": [
    "### Setting up the chain to generate multiple queries"
   ]
  },
  {
   "cell_type": "code",
   "execution_count": 228,
   "id": "6c06e206-74e7-4ed1-9117-2151895fc3bf",
   "metadata": {},
   "outputs": [],
   "source": [
    "llm = ChatOpenAI(model=\"gpt-4o-mini\", openai_api_key=OPENAI_API_KEY)"
   ]
  },
  {
   "cell_type": "code",
   "execution_count": 229,
   "id": "35b9fd98-0045-4605-b8bb-cf7dc919a299",
   "metadata": {},
   "outputs": [],
   "source": [
    "multi_query_gen_chain = multi_query_gen_prompt | llm | questions_parser"
   ]
  },
  {
   "cell_type": "markdown",
   "id": "f816a8e1-636b-4f8b-806b-2f024e6b47b8",
   "metadata": {},
   "source": [
    "### Testing the Multi query gen chain"
   ]
  },
  {
   "cell_type": "code",
   "execution_count": 236,
   "id": "fd9d8c1c-d503-413a-894b-044471c89725",
   "metadata": {},
   "outputs": [],
   "source": [
    "user_question = \"What are the best activities to do with children and pets in Ashdown Forest while ensuring their safety?\"\n",
    "\n",
    "multiple_queries = multi_query_gen_chain.invoke(user_question)"
   ]
  },
  {
   "cell_type": "code",
   "execution_count": 237,
   "id": "6c417263-b925-4679-a108-9bacfa7bffe9",
   "metadata": {},
   "outputs": [
    {
     "data": {
      "text/plain": [
       "['What are some safe and enjoyable activities for kids and pets in Ashdown Forest?  ',\n",
       " 'Can you suggest family-friendly and pet-friendly things to do in Ashdown Forest that prioritize safety?  ',\n",
       " 'What are the top outdoor activities in Ashdown Forest for children and pets that ensure their well-being?  ',\n",
       " 'How can I find safe activities for both kids and pets to enjoy together in Ashdown Forest?  ',\n",
       " 'What recommendations do you have for safe and fun experiences with children and pets in Ashdown Forest?']"
      ]
     },
     "execution_count": 237,
     "metadata": {},
     "output_type": "execute_result"
    }
   ],
   "source": [
    "multiple_queries"
   ]
  },
  {
   "cell_type": "markdown",
   "id": "8148b035-078d-4b36-b96c-987ad1b41764",
   "metadata": {},
   "source": [
    "### Setting up the MultiQueryRetriever"
   ]
  },
  {
   "cell_type": "code",
   "execution_count": 232,
   "id": "6d579012-5db2-4963-89d3-40abf0fdd6b5",
   "metadata": {},
   "outputs": [],
   "source": [
    "basic_retriever = uk_granular_collection.as_retriever()\n",
    "\n",
    "multi_query_retriever = MultiQueryRetriever(\n",
    "    retriever=basic_retriever, llm_chain=multi_query_gen_chain, \n",
    "    parser_key=\"lines\" #A\n",
    ")  \n",
    "#A this is the key for the parsed output"
   ]
  },
  {
   "cell_type": "markdown",
   "id": "976d14f0-f022-4f1b-b602-c52ec6a2b608",
   "metadata": {},
   "source": [
    "### Using the multi_query retriever"
   ]
  },
  {
   "cell_type": "code",
   "execution_count": 238,
   "id": "44b9ca51-9b00-49b1-b69b-3fb3355e7d09",
   "metadata": {},
   "outputs": [],
   "source": [
    "user_question = \"What are the best activities to do with children and pets in Ashdown Forest while ensuring their safety?\"\n",
    "\n",
    "retrieved_docs = multi_query_retriever.invoke(user_question)"
   ]
  },
  {
   "cell_type": "code",
   "execution_count": 239,
   "id": "c08ad10b-683c-4799-aec5-7e4e289479fd",
   "metadata": {},
   "outputs": [
    {
     "data": {
      "text/plain": [
       "[Document(metadata={'Header 2': 'Stay safe'}, page_content=\"Stay safe \\n [ edit ] \\n \\n Some paths may be muddy in the winter; in the summer there are some snakes (adders are the only poisonous ones, however rarely attack humans, dogs can be killed by Adder Venom) \\n Often there are deep pools, which can be nice to swim in (from this area's idilic industrial past), but children should  always  be accompanied,  monsters from the deep are rare . \\n Car parks are generally free of crime, however it is always important as with any car park to ensure that valuables are hidden out of site or taken with you. If you do not want to take your dog with you (paths can be muddy), give an area of shade for your animal, leave drinking water for the dog, and keep the windows well open.  Dogs die in hot cars. \\n Some paths may lead abruptly onto (often fast) roads; for your children's and pets' safety keep listening out for cars and if in any doubt keep more adventurous animals on a lead. \\n In the summer months the whole forest is at risk from wildfires, please do not smoke (for your own health and the forest's) and  Do not light fires .\"),\n",
       " Document(metadata={'Header 2': 'Understand'}, page_content=\"Understand \\n [ edit ] \\n \\n Friends Clump, Ashdown Forest, present in Winnie the Pooh \\n \\n Flora and fauna \\n [ edit ] \\n \\n There are several hundred deer, mainly Roe and Fallow and including small numbers of Muntjac and Sika, living happily in the woodland areas. Nightjar and Stonechat, Skylark and Meadow Pipit, Dartford Warbler and Woodcock are among the birds which enjoy the gorse and heather habitat. Many rare species of butterfly, moth and dragonfly are also to be seen, as are adders and a small number of grass snakes. \\n \\n Climate \\n [ edit ] \\n \\n Summer is the warmest time and best for walking, cycling, etc.; winter months can be cold and a little damp. It is advisable to take a light coat if the weather looks a bit iffy, just to keep you dry if anything; when the wind blows it can get quite cold on the ridges, however most of the valleys and copses provide enough shelter \\n \\n History \\n [ edit ] \\n \\n Man has lived and worked in Ashdown Forest for 5,000 years, with iron-working during the Roman Period and Saxon Farming, however the forest took on its role as an area of enjoyment in the 11th century, when it was set up as a hunting ground for the Crown (remnants of this can still be seen) and used for rabbit farming (many localities are known as 'Warrens' - indicating their past usage). Ashdown Forest has, throughout history had an important part in the nation's economy, in 1496 French ironmasters were employed to operate the first water powered blast furnace in Britain, at Newbridge near Coleman’s Hatch and in 1505 a water powered steel forge was established at Pippingford. However by the 18th century most iron-working had stopped.\"),\n",
       " Document(metadata={'Header 2': 'Do'}, page_content=\"Do \\n [ edit ] \\n \\n Playing 'pooh sticks' at Pooh Sticks Bridge near Hartfield \\n \\n   \\n The forest way .   A 10 \\xa0 km (6.2 \\xa0 mi) cycle route through beautiful countryside. \\xa0 \\n   \\n Walking .   Get a map and go for walk! Some beautiful landscapes accessible from all the main roads; at larger car parks there's usually an ice cream van there for the kids (even in mid winter). A  Forest Map and Guide  can be obtained from the Visitor Centre for £2.50 whilst several walking routes can be downloaded from the  Tourist Information website for the Forest . Walking trails are rarely signposted on the forest, however on the forest way (above) there are some signed paths. \\xa0 \\n Play 'pooh sticks' at  Poohsticks Bridge , just like Christopher Robin in A.A. Milne's famous Winnie the Pooh stories. Park at Pooh car park and its a good downhill stroll along a signposted path. \\n   \\n Ashdown Forest Llama Park \\n   ( on the A22 between Forest Row and Nutley. ).   Llots of llamas to llook at. \\xa0 \\n   \\n Local Churches .   Often very interesting with varied histories; can be incorporated into a walk or a drive.\"),\n",
       " Document(metadata={'Header 2': 'Eat'}, page_content='Eat \\n [ edit ] \\n \\n You need not travel far within the Ashdown Forest area to find excellent provision for the hungry, the thirsty and the merely peckish. Everything from the humble pint in a friendly local pub to fine cuisine in a world class restaurant can be found in Ashdown forest.  Restaurants are often attached to pubs, with separate areas; food varies in quality and price, but is rarely of poor quality. \\n \\n Budget \\n [ edit ] \\n \\n \\n   \\n Duddleswell Tea Rooms \\n   ( near Uckfield ),   ☏   +44 1825 712126 . \\xa0 \\n   \\n St Ives Tea Gardens ,   Hartfield ,   ☏   +44 1892 770589 . \\xa0 \\n   \\n Deerview Products ,   Newick ,   ☏   +44 1825 721365 .   Farm shop. \\xa0 \\n \\n \\n Mid-Range \\n [ edit ] \\n \\n   \\n Ashdown Forest Llama Park \\n   ( near Forest Row ),   ☏   +44 1825 712040 . \\xa0 \\n \\n Splurge \\n [ edit ] \\n \\n \\n   \\n Barnsgate Manor Vineyard \\n   ( near Uckfield ),   ☏   +44 1825 713366 . \\xa0 \\n   \\n Wilderness Wood \\n   ( near Uckfield ),   ☏   +44 1825 830509 . \\xa0 \\n   \\n Nightingale Farm ,   Hartfield ,   ☏   +44 1342 825827 .   Loy grazed meat. \\xa0 \\n \\n Towns such as  Crowborough ,  Uckfield ,  East Grinstead  and Forest Row have supermarkets and more specialist establishments.'),\n",
       " Document(metadata={'Header 2': 'See'}, page_content='See \\n [ edit ] \\n \\n body.skin-minerva .mw-parser-output .ambox{margin:0!important;border:none!important}body.skin-minerva .mw-parser-output .mbox-text{font-size:100%!important;padding:8px 8px 8px 32px!important;line-height:normal} \\n \\n \\n \\n This article does not match our  manual of style \\xa0 or needs other editing.   Plunge forward \\nwith these  suggested fixes : Create proper lists \\n \\n \\n \\n Bridge Cottage, Uckfield \\n The area in and around Ashdown Forest is rich in the diversity of places to visit, from  East Grinstead  in the north to  Uckfield  in the south, Crowborough in the east and Haywards Heath in the west, and the whole of Ashdown Forest itself in between. The four towns themselves, although very different in character, each offers a wide range of shopping, cafes, restaurants and pubs, and each has a leisure centre with a swimming pool. \\n Just off the A22 are two of the foremost attractions of the area - the Ashdown Forest Centre, where you can learn everything about the Forest, and the  Ashdown Forest Llama Park . The A275, which forks off the A22 just south of Wych Cross, will take you to three more treats – Heaven Farm, with its farm museum, craft shop and tearoom, Sheffield Park Garden (National Trust) and the  Bluebell Railway . \\n To the north, in East Grinstead, with fast links to London and just outside the town: \\n 51.1031 -0.0169 1   Standen \\n .   An Arts and Crafts house by Philip Webb, owned by the National Trust.       ( updated Dec 2023 ) \\n On the east side of the area, just off the A26, is  Barnsgate Manor Vineyard  with its tearoom and restaurant, its giftshop selling Barnsgate wines and its magnificent views. A little farther south, off the A272, is Wilderness Wood, a working woodland with fascinating walks, picnic and barbecue areas and a teashop. Along with wood ‘workshops’ in the looking after of the forest. It is open most days. \\n Just beyond the Forest boundary, in the northeast of the forest, is Groombridge Place Gardens and the Enchanted Forest. A few miles away, on the outskirts of the village of Hartfield, is Bolebroke Castle. \\n Ashdown Forest  is part of the  High Weald Area of Outstanding Natural Beauty , this area extending from  Horsham  (in the West) to  Rye  in the East carries with it outstanding countryside, beautiful buildings and an interesting past. There are 31  United Kingdom Areas of Outstanding Natural Beauty \\n Pooh Bear  One of the Forest\\'s more famous inhabitants, Christopher Milne wrote that \"Pooh\\'s Forest and Ashdown Forest are identical\". many of the sites described in the stories can be recognised on the Forest although their names have been altered. For example, the Five Hundred Acre Wood became the 100 Aker Wood and Gills Lap became Galleons Leap. The North Pole and the Gloomy Place are in Wrens Warren Valley while the name, Enchanted Place, is applied to a memorial to Milne and Shepard.  Hartfield  is \\'Pooh Central\\' with walks and other activities centred around Pooh Bear. \\n \\n Unusual places \\n [ edit ] \\n \\n \\n 51.02938 0.07926 2   Airman’s Grave ,   Uckfield, TN22 3JA   ( west of Duddleswell ).   A memorial to six of the crew who died when their bomber crashed here on its return from a raid on Cologne in 1941. \\xa0 \\n   \\n Greenwich Meridian .   Traverses the Ashdown Forest area from the east side of  East Grinstead  through the Weir Wood reservoir and the western side of the Forest, then almost down the center of the village of Danehill. \\xa0 \\n   \\n Hanging Tree \\n   ( at the foot of Wall Hill in Forest Row ).   Brothers John and William Beatson were found guilty and sentenced to be hanged here at the spot where their crime was committed. Their hangings were the last hangings of highwaymen, and one of the last public hangings in England. \\xa0 \\n 51.04276 0.06834 3   Nutley Windmill ,   Maresfield, Uckfield TN22 3HY   ( just north of the Nutley to Duddleswell road ).   Open April–October on the last Sunday of each month and Bank Holiday Sundays and Mondays .   One of the best preserved of the surviving windmills in Sussex, it is over 300 years old. Nutley mill has been restored to full working order and is managed by the Uckfield and District Preservation Society. Organic flour is on sale there, ground by the mill. \\xa0 \\n   \\n Old Radio Station \\n   ( near Duddleswell crossroads ).   A communications station built by the Canadians during World War II. Later it was refit to become a nuclear fallout shelter. \\xa0 \\n Two lengths of  Roman Road  can be seen crossing Ashdown Forest. One can be seen at Roman Road car park; the other is between Coleman’s Hatch and Wych Cross.'),\n",
       " Document(metadata={'Header 2': 'Get around'}, page_content='Get around \\n [ edit ] \\n \\n \\n \\n 51°4′21″N 0°2′35″E Map of Ashdown Forest \\n \\n \\n \\n Get a map \\n [ edit ] \\n \\n Roads allow full access to all attractions in Ashdown Forest, although it is worth getting a  map  (AA or RAC for  driving ) if you are planning to go  walking ,  horse riding  or  cycling . \\n It is worth getting an OS (Ordnance Survey) map; Royal Tunbridge Wells, East Grinstead,  Haywards Heath  and  Crowborough . Scale 1:25,000 (4 \\xa0 cm:1 \\xa0 km, 2½ \\xa0 in:1 \\xa0 mi) would be fine, costing usually under £8.00 \\n \\n Cycling \\n [ edit ] \\n \\n Cycling is very limited on Ashdown Forest land to the few public bridleways, although several groups are petitioning for more open access for off-road cycling however it is fully allowed on roads. \\n \\n Public transport \\n [ edit ] \\n \\n As for  public transport , it is fairly limited, buses go from East Grinstead to Uckfield, East Grinstead to Tunbridge Wells and beyond. From Uckfield, there are regular buses to Tunbridge Wells, via Crowborough. Uckfield, Crowborough, Tunbridge Wells and East Grinstead all have routes to London (as do smaller stations, ask at the desk) journeys vary from 1hr 20–50 \\xa0 min.')]"
      ]
     },
     "execution_count": 239,
     "metadata": {},
     "output_type": "execute_result"
    }
   ],
   "source": [
    "retrieved_docs"
   ]
  },
  {
   "cell_type": "markdown",
   "id": "bfb2842c-ab2d-47a8-b926-ed28bb3b571a",
   "metadata": {},
   "source": [
    "## Using directly a standard MultiQueryRetriever "
   ]
  },
  {
   "cell_type": "code",
   "execution_count": 243,
   "id": "67fac8ee-282a-4912-9936-b07d1a5ad124",
   "metadata": {},
   "outputs": [],
   "source": [
    "import logging\n",
    "\n",
    "logging.basicConfig()\n",
    "logging.getLogger(\"MultiQueryRetriever\").setLevel(logging.INFO)"
   ]
  },
  {
   "cell_type": "code",
   "execution_count": 244,
   "id": "35b39b6f-4f93-4028-b59f-bcf307ccc9d7",
   "metadata": {},
   "outputs": [],
   "source": [
    "std_multi_query_retriever = MultiQueryRetriever.from_llm(\n",
    "    retriever=basic_retriever, llm=llm\n",
    ")"
   ]
  },
  {
   "cell_type": "code",
   "execution_count": 245,
   "id": "86a7807a-0f4a-47d7-81be-54ab1aff099d",
   "metadata": {},
   "outputs": [
    {
     "name": "stderr",
     "output_type": "stream",
     "text": [
      "INFO:langchain.retrievers.multi_query:Generated queries: ['What fun and safe activities can I do with kids and pets in Ashdown Forest?  ', 'What are some family-friendly and pet-safe things to enjoy in Ashdown Forest?  ', 'Can you suggest activities for children and pets in Ashdown Forest that prioritize safety?  ', 'What are the safest ways to engage children and pets in activities at Ashdown Forest?  ', 'Which activities in Ashdown Forest are ideal for children and pets while keeping them safe?']\n"
     ]
    }
   ],
   "source": [
    "user_question = \"What are the best activities to do with children and pets in Ashdown Forest while ensuring their safety?\"\n",
    "\n",
    "retrieved_docs = multi_query_retriever.invoke(user_question)"
   ]
  },
  {
   "cell_type": "code",
   "execution_count": 246,
   "id": "cd7716b1-9db0-42a8-8372-1ad66e092412",
   "metadata": {},
   "outputs": [
    {
     "data": {
      "text/plain": [
       "[Document(metadata={'Header 2': 'Stay safe'}, page_content=\"Stay safe \\n [ edit ] \\n \\n Some paths may be muddy in the winter; in the summer there are some snakes (adders are the only poisonous ones, however rarely attack humans, dogs can be killed by Adder Venom) \\n Often there are deep pools, which can be nice to swim in (from this area's idilic industrial past), but children should  always  be accompanied,  monsters from the deep are rare . \\n Car parks are generally free of crime, however it is always important as with any car park to ensure that valuables are hidden out of site or taken with you. If you do not want to take your dog with you (paths can be muddy), give an area of shade for your animal, leave drinking water for the dog, and keep the windows well open.  Dogs die in hot cars. \\n Some paths may lead abruptly onto (often fast) roads; for your children's and pets' safety keep listening out for cars and if in any doubt keep more adventurous animals on a lead. \\n In the summer months the whole forest is at risk from wildfires, please do not smoke (for your own health and the forest's) and  Do not light fires .\"),\n",
       " Document(metadata={'Header 2': 'Do'}, page_content=\"Do \\n [ edit ] \\n \\n Playing 'pooh sticks' at Pooh Sticks Bridge near Hartfield \\n \\n   \\n The forest way .   A 10 \\xa0 km (6.2 \\xa0 mi) cycle route through beautiful countryside. \\xa0 \\n   \\n Walking .   Get a map and go for walk! Some beautiful landscapes accessible from all the main roads; at larger car parks there's usually an ice cream van there for the kids (even in mid winter). A  Forest Map and Guide  can be obtained from the Visitor Centre for £2.50 whilst several walking routes can be downloaded from the  Tourist Information website for the Forest . Walking trails are rarely signposted on the forest, however on the forest way (above) there are some signed paths. \\xa0 \\n Play 'pooh sticks' at  Poohsticks Bridge , just like Christopher Robin in A.A. Milne's famous Winnie the Pooh stories. Park at Pooh car park and its a good downhill stroll along a signposted path. \\n   \\n Ashdown Forest Llama Park \\n   ( on the A22 between Forest Row and Nutley. ).   Llots of llamas to llook at. \\xa0 \\n   \\n Local Churches .   Often very interesting with varied histories; can be incorporated into a walk or a drive.\"),\n",
       " Document(metadata={'Header 2': 'Eat'}, page_content='Eat \\n [ edit ] \\n \\n You need not travel far within the Ashdown Forest area to find excellent provision for the hungry, the thirsty and the merely peckish. Everything from the humble pint in a friendly local pub to fine cuisine in a world class restaurant can be found in Ashdown forest.  Restaurants are often attached to pubs, with separate areas; food varies in quality and price, but is rarely of poor quality. \\n \\n Budget \\n [ edit ] \\n \\n \\n   \\n Duddleswell Tea Rooms \\n   ( near Uckfield ),   ☏   +44 1825 712126 . \\xa0 \\n   \\n St Ives Tea Gardens ,   Hartfield ,   ☏   +44 1892 770589 . \\xa0 \\n   \\n Deerview Products ,   Newick ,   ☏   +44 1825 721365 .   Farm shop. \\xa0 \\n \\n \\n Mid-Range \\n [ edit ] \\n \\n   \\n Ashdown Forest Llama Park \\n   ( near Forest Row ),   ☏   +44 1825 712040 . \\xa0 \\n \\n Splurge \\n [ edit ] \\n \\n \\n   \\n Barnsgate Manor Vineyard \\n   ( near Uckfield ),   ☏   +44 1825 713366 . \\xa0 \\n   \\n Wilderness Wood \\n   ( near Uckfield ),   ☏   +44 1825 830509 . \\xa0 \\n   \\n Nightingale Farm ,   Hartfield ,   ☏   +44 1342 825827 .   Loy grazed meat. \\xa0 \\n \\n Towns such as  Crowborough ,  Uckfield ,  East Grinstead  and Forest Row have supermarkets and more specialist establishments.'),\n",
       " Document(metadata={'Header 2': 'Understand'}, page_content=\"Understand \\n [ edit ] \\n \\n Friends Clump, Ashdown Forest, present in Winnie the Pooh \\n \\n Flora and fauna \\n [ edit ] \\n \\n There are several hundred deer, mainly Roe and Fallow and including small numbers of Muntjac and Sika, living happily in the woodland areas. Nightjar and Stonechat, Skylark and Meadow Pipit, Dartford Warbler and Woodcock are among the birds which enjoy the gorse and heather habitat. Many rare species of butterfly, moth and dragonfly are also to be seen, as are adders and a small number of grass snakes. \\n \\n Climate \\n [ edit ] \\n \\n Summer is the warmest time and best for walking, cycling, etc.; winter months can be cold and a little damp. It is advisable to take a light coat if the weather looks a bit iffy, just to keep you dry if anything; when the wind blows it can get quite cold on the ridges, however most of the valleys and copses provide enough shelter \\n \\n History \\n [ edit ] \\n \\n Man has lived and worked in Ashdown Forest for 5,000 years, with iron-working during the Roman Period and Saxon Farming, however the forest took on its role as an area of enjoyment in the 11th century, when it was set up as a hunting ground for the Crown (remnants of this can still be seen) and used for rabbit farming (many localities are known as 'Warrens' - indicating their past usage). Ashdown Forest has, throughout history had an important part in the nation's economy, in 1496 French ironmasters were employed to operate the first water powered blast furnace in Britain, at Newbridge near Coleman’s Hatch and in 1505 a water powered steel forge was established at Pippingford. However by the 18th century most iron-working had stopped.\"),\n",
       " Document(metadata={'Header 2': 'Get around'}, page_content='Get around \\n [ edit ] \\n \\n \\n \\n 51°4′21″N 0°2′35″E Map of Ashdown Forest \\n \\n \\n \\n Get a map \\n [ edit ] \\n \\n Roads allow full access to all attractions in Ashdown Forest, although it is worth getting a  map  (AA or RAC for  driving ) if you are planning to go  walking ,  horse riding  or  cycling . \\n It is worth getting an OS (Ordnance Survey) map; Royal Tunbridge Wells, East Grinstead,  Haywards Heath  and  Crowborough . Scale 1:25,000 (4 \\xa0 cm:1 \\xa0 km, 2½ \\xa0 in:1 \\xa0 mi) would be fine, costing usually under £8.00 \\n \\n Cycling \\n [ edit ] \\n \\n Cycling is very limited on Ashdown Forest land to the few public bridleways, although several groups are petitioning for more open access for off-road cycling however it is fully allowed on roads. \\n \\n Public transport \\n [ edit ] \\n \\n As for  public transport , it is fairly limited, buses go from East Grinstead to Uckfield, East Grinstead to Tunbridge Wells and beyond. From Uckfield, there are regular buses to Tunbridge Wells, via Crowborough. Uckfield, Crowborough, Tunbridge Wells and East Grinstead all have routes to London (as do smaller stations, ask at the desk) journeys vary from 1hr 20–50 \\xa0 min.')]"
      ]
     },
     "execution_count": 246,
     "metadata": {},
     "output_type": "execute_result"
    }
   ],
   "source": [
    "retrieved_docs"
   ]
  },
  {
   "cell_type": "markdown",
   "id": "fdaab05e-fd6a-451e-81bc-05018cbf7db1",
   "metadata": {},
   "source": [
    "# Step-back question"
   ]
  },
  {
   "cell_type": "markdown",
   "id": "b48a25f8-803a-4bc4-8088-1f54cf74afbe",
   "metadata": {},
   "source": [
    "### Setting up the chain to generate the step-back question"
   ]
  },
  {
   "cell_type": "code",
   "execution_count": 263,
   "id": "78d73ffc-8940-4ef4-9b03-fe581ad04a96",
   "metadata": {},
   "outputs": [],
   "source": [
    "llm = ChatOpenAI(model=\"gpt-4o-mini\", openai_api_key=OPENAI_API_KEY)"
   ]
  },
  {
   "cell_type": "code",
   "execution_count": 264,
   "id": "e9a69eac-866c-4826-b6ac-ddd99fa61e2f",
   "metadata": {},
   "outputs": [],
   "source": [
    "step_back_prompt_template = \"\"\"\n",
    "Generate a less specific question (aka Step-back question) for the following detailed question, so that a wider context can be retrieved.\n",
    "Detailed question: {detailed_question}\n",
    "Step-back question:\n",
    "\"\"\"\n",
    "\n",
    "step_back_prompt = ChatPromptTemplate.from_template(step_back_prompt_template) "
   ]
  },
  {
   "cell_type": "code",
   "execution_count": 265,
   "id": "0a9d61b8-9510-412d-85c9-3ae6cc9b1bdc",
   "metadata": {},
   "outputs": [],
   "source": [
    "step_back_question_gen_chain = step_back_prompt | llm | StrOutputParser()"
   ]
  },
  {
   "cell_type": "markdown",
   "id": "285f278a-b2a0-4211-ba97-4d88dd3f7be3",
   "metadata": {},
   "source": [
    "### Testing the step-back-question generation chain"
   ]
  },
  {
   "cell_type": "code",
   "execution_count": 266,
   "id": "0e183515-84d5-419e-bf40-29be2b846dd2",
   "metadata": {},
   "outputs": [],
   "source": [
    "user_question = \"Can you give me some tips for a trip to Brighton?\"\n",
    "\n",
    "step_back_question = step_back_question_gen_chain.invoke(user_question)"
   ]
  },
  {
   "cell_type": "code",
   "execution_count": 267,
   "id": "4e6b3e21-4b68-4398-9ed3-9933e440fd60",
   "metadata": {},
   "outputs": [
    {
     "data": {
      "text/plain": [
       "'What are some general tips for planning a successful trip to a coastal city?'"
      ]
     },
     "execution_count": 267,
     "metadata": {},
     "output_type": "execute_result"
    }
   ],
   "source": [
    "step_back_question"
   ]
  },
  {
   "cell_type": "markdown",
   "id": "3ebb2415-2c81-463c-b0fc-66680bb4fbcf",
   "metadata": {},
   "source": [
    "### Incorporating step-back question generation chain into the RAG chain"
   ]
  },
  {
   "cell_type": "code",
   "execution_count": 260,
   "id": "4b363b6f-e94b-40c9-9945-165939501253",
   "metadata": {},
   "outputs": [],
   "source": [
    "retriever = uk_granular_collection.as_retriever()\n",
    "\n",
    "rag_prompt_template = \"\"\"\n",
    "Given a question and some context, answer the question.\n",
    "If you do not the answer, just say I do not know.\n",
    "\n",
    "Context: {context}\n",
    "Question: {question}\n",
    "\"\"\"\n",
    "\n",
    "rag_prompt = ChatPromptTemplate.from_template(rag_prompt_template) \n",
    "\n",
    "step_back_question_rag_chain = (\n",
    "    {\n",
    "        \"context\": {\"detailed_question\": RunnablePassthrough()} | step_back_question_gen_chain | retriever,#A\n",
    "        \"question\": RunnablePassthrough(),#B\n",
    "    }\n",
    "    | rag_prompt\n",
    "    | llm\n",
    "    | StrOutputParser()\n",
    ")\n",
    "#A The context is returned by the retriver after feeding to it the step-back question\n",
    "#B This is the original user question"
   ]
  },
  {
   "cell_type": "code",
   "execution_count": 261,
   "id": "ba003a95-793a-49db-a01b-8c97781e9970",
   "metadata": {},
   "outputs": [
    {
     "name": "stdout",
     "output_type": "stream",
     "text": [
      "Here are some tips for a trip to Brighton:\n",
      "\n",
      "1. **Stay Safe**: While Brighton is generally safe, be cautious in busy areas, especially West Street after midnight due to the nightlife crowd. \n",
      "\n",
      "2. **Watch for Traffic**: Be mindful of traffic, especially in busy areas.\n",
      "\n",
      "3. **Valuables**: Take standard precautions with your valuables to avoid theft.\n",
      "\n",
      "4. **Homelessness**: Be aware that there may be homeless individuals asking for money, but most are harmless.\n",
      "\n",
      "5. **LGBT-Friendly Environment**: Brighton is known for its LGBT-friendly atmosphere. While same-sex displays of affection are generally accepted in many areas, exercise caution in certain places.\n",
      "\n",
      "6. **Beaches**: Lifeguards patrol the beaches from late May to early September. Pay attention to signposts about which areas are covered.\n",
      "\n",
      "7. **Emergency Contacts**: In case of emergencies related to the sea, call 999 and ask for the Coastguard.\n",
      "\n",
      "8. **Explore Local Venues**: Enjoy local venues favored by residents for a civilized night out.\n",
      "\n",
      "9. **Cultural Areas**: Visit areas like The Lanes and North Laine for a vibrant cultural experience. \n",
      "\n",
      "10. **Stay Informed**: Keep an eye on your surroundings, especially in crowded places. \n",
      "\n",
      "Enjoy your trip to Brighton!\n"
     ]
    }
   ],
   "source": [
    "user_question = \"Can you give me some tips for a trip to Brighton?\"\n",
    "\n",
    "answer = step_back_question_rag_chain.invoke(user_question)\n",
    "print(answer)"
   ]
  },
  {
   "cell_type": "markdown",
   "id": "5f6b7455-cfb2-4287-8c49-df30c0be7433",
   "metadata": {},
   "source": [
    "# Hypotetical DocumentEmbeddings (HyDE)"
   ]
  },
  {
   "cell_type": "markdown",
   "id": "30a4e050-c671-4159-9576-5ab064b05600",
   "metadata": {},
   "source": [
    "### Setting up the chain to generate the hypotetical document associated to the user question"
   ]
  },
  {
   "cell_type": "code",
   "execution_count": 310,
   "id": "8d11a9b8-5363-434e-9e12-ef52d2f7321e",
   "metadata": {},
   "outputs": [],
   "source": [
    "llm = ChatOpenAI(model=\"gpt-4o-mini\", openai_api_key=OPENAI_API_KEY)"
   ]
  },
  {
   "cell_type": "code",
   "execution_count": 311,
   "id": "c523665a-9b43-458f-8862-3fd269b38743",
   "metadata": {},
   "outputs": [],
   "source": [
    "hyde_prompt_template = \"\"\"\n",
    "Write one sentence that could answer the provided question. Do not add anything else.\n",
    "Question: {question}\n",
    "Sentence:\n",
    "\"\"\"\n",
    "\n",
    "hyde_prompt = ChatPromptTemplate.from_template(hyde_prompt_template)"
   ]
  },
  {
   "cell_type": "code",
   "execution_count": 312,
   "id": "40524475-bafc-42d7-afa8-68b5b72e5496",
   "metadata": {},
   "outputs": [],
   "source": [
    "hyde_chain = hyde_prompt | llm | StrOutputParser()"
   ]
  },
  {
   "cell_type": "markdown",
   "id": "8b8ccd86-59d8-4952-af3e-47357c252eec",
   "metadata": {},
   "source": [
    "### Testing the hyde generation chain"
   ]
  },
  {
   "cell_type": "code",
   "execution_count": 317,
   "id": "220297aa-972d-48f0-8a8f-55ef80d3a8bb",
   "metadata": {},
   "outputs": [],
   "source": [
    "user_question = \"What are the best beaches in Cornwall?\"\n",
    "\n",
    "hypotetical_document = hyde_chain.invoke(user_question)"
   ]
  },
  {
   "cell_type": "code",
   "execution_count": 318,
   "id": "8091c832-0199-4fe9-80b0-e5858829844d",
   "metadata": {},
   "outputs": [
    {
     "data": {
      "text/plain": [
       "'Some of the best beaches in Cornwall include Porthcurno, Fistral Beach, and St Ives.'"
      ]
     },
     "execution_count": 318,
     "metadata": {},
     "output_type": "execute_result"
    }
   ],
   "source": [
    "hypotetical_document"
   ]
  },
  {
   "cell_type": "markdown",
   "id": "c2149b19-41ee-4f73-96f7-af75bff52e4f",
   "metadata": {},
   "source": [
    "### Incorporating hyde chain into the RAG chain"
   ]
  },
  {
   "cell_type": "code",
   "execution_count": 319,
   "id": "2630c47f-4a6d-41ea-a1d4-627f7f98a00a",
   "metadata": {},
   "outputs": [],
   "source": [
    "retriever = uk_granular_collection.as_retriever()\n",
    "\n",
    "rag_prompt_template = \"\"\"\n",
    "Given a question and some context, answer the question.\n",
    "Only use the provided context to answer the question.\n",
    "If you do not the answer, just say I do not know. \n",
    "\n",
    "Context: {context}\n",
    "Question: {question}\n",
    "\"\"\"\n",
    "\n",
    "rag_prompt = ChatPromptTemplate.from_template(rag_prompt_template) \n",
    "\n",
    "hyde_rag_chain = (\n",
    "    {\n",
    "        \"context\": {\"question\": RunnablePassthrough()} | hyde_chain | retriever,#A\n",
    "        \"question\": RunnablePassthrough(),#B\n",
    "    }\n",
    "    | rag_prompt\n",
    "    | llm\n",
    "    | StrOutputParser()\n",
    ")\n",
    "#A The context is returned by the retriver after feeding to it the hypotetical document\n",
    "#B This is the original user question"
   ]
  },
  {
   "cell_type": "code",
   "execution_count": 320,
   "id": "f793a751-6212-44f0-8911-9115beb24960",
   "metadata": {},
   "outputs": [
    {
     "name": "stdout",
     "output_type": "stream",
     "text": [
      "The best beaches in Cornwall mentioned in the context include Bude, Polzeath, Watergate Bay, Perranporth, Porthtowan, Fistral Beach, Newquay, St Agnes, St Ives, Gyllyngvase beach in Falmouth, and Praa Sands. Additionally, in Newquay, popular beaches are Crantock Beach, Fistral Beach, Great Western, Harbour, Holywell Bay, Lusty Glaze Beach, Porth Joke, Porth, Tolcarne Beach, Towan Beach, Whipsiderry, and Watergate Bay.\n"
     ]
    }
   ],
   "source": [
    "user_question = \"What are the best beaches in Cornwall?\"\n",
    "\n",
    "answer = hyde_rag_chain.invoke(user_question)\n",
    "print(answer)"
   ]
  },
  {
   "cell_type": "code",
   "execution_count": null,
   "id": "8b82f624-96d2-44bc-98b9-9c16ffd1ac25",
   "metadata": {},
   "outputs": [],
   "source": []
  },
  {
   "cell_type": "code",
   "execution_count": null,
   "id": "4e1ee653-57d7-4fd4-a6be-2200c75405ee",
   "metadata": {},
   "outputs": [],
   "source": []
  }
 ],
 "metadata": {
  "kernelspec": {
   "display_name": "Python 3 (ipykernel)",
   "language": "python",
   "name": "python3"
  },
  "language_info": {
   "codemirror_mode": {
    "name": "ipython",
    "version": 3
   },
   "file_extension": ".py",
   "mimetype": "text/x-python",
   "name": "python",
   "nbconvert_exporter": "python",
   "pygments_lexer": "ipython3",
   "version": "3.11.9"
  }
 },
 "nbformat": 4,
 "nbformat_minor": 5
}
