{
 "cells": [
  {
   "cell_type": "markdown",
   "id": "a3fa8177-c120-4e5e-b0d8-7713b9061a0c",
   "metadata": {},
   "source": [
    "# Question transformations"
   ]
  },
  {
   "cell_type": "markdown",
   "id": "948924c1-cae3-4046-b38d-e367dcf24b2b",
   "metadata": {},
   "source": [
    "# Splitting and ingesting the content of various URLs (across UK destinations)"
   ]
  },
  {
   "cell_type": "markdown",
   "id": "916b44a1-ef1b-4cc3-b4ce-0559affc9fc7",
   "metadata": {},
   "source": [
    "### Preparing the Chroma DB collections"
   ]
  },
  {
   "cell_type": "code",
   "execution_count": 1,
   "id": "3f6f8160-3d18-4668-b1a4-60d110718f17",
   "metadata": {},
   "outputs": [
    {
     "name": "stdin",
     "output_type": "stream",
     "text": [
      "Enter your OPENAI_API_KEY ········\n"
     ]
    }
   ],
   "source": [
    "from langchain_chroma import Chroma\n",
    "from langchain_openai import OpenAIEmbeddings\n",
    "import getpass\n",
    "\n",
    "OPENAI_API_KEY = getpass.getpass('Enter your OPENAI_API_KEY')"
   ]
  },
  {
   "cell_type": "code",
   "execution_count": 2,
   "id": "e1723ba1-6b0e-4c81-ad98-f89ff60d2463",
   "metadata": {},
   "outputs": [],
   "source": [
    "uk_granular_collection = Chroma(\n",
    "    collection_name=\"uk_granular\",\n",
    "    embedding_function=OpenAIEmbeddings(openai_api_key=OPENAI_API_KEY),\n",
    ")\n",
    "\n",
    "uk_granular_collection.reset_collection() #A"
   ]
  },
  {
   "cell_type": "markdown",
   "id": "0a65632b-6508-4d10-8c02-819f0b2acf53",
   "metadata": {},
   "source": [
    "### Splitting and ingesting HTML content with the HTMLSectionSplitter "
   ]
  },
  {
   "cell_type": "code",
   "execution_count": 3,
   "id": "0f0d88ea-1b56-4a03-8db2-c23a293e1491",
   "metadata": {},
   "outputs": [
    {
     "name": "stderr",
     "output_type": "stream",
     "text": [
      "USER_AGENT environment variable not set, consider setting it to identify your requests.\n"
     ]
    }
   ],
   "source": [
    "from langchain_text_splitters import HTMLSectionSplitter\n",
    "from langchain_community.document_loaders import AsyncHtmlLoader"
   ]
  },
  {
   "cell_type": "code",
   "execution_count": 4,
   "id": "00fbb432-b8ef-4c85-a490-434e3e6720da",
   "metadata": {},
   "outputs": [],
   "source": [
    "uk_destinations = [\n",
    "    \"Cornwall\", \"North_Cornwall\", \"South_Cornwall\", \"West_Cornwall\", \n",
    "    \"Tintagel\", \"Bodmin\", \"Wadebridge\", \"Penzance\", \"Newquay\",\n",
    "    \"St_Ives\", \"Port_Isaac\", \"Looe\", \"Polperro\", \"Porthleven\",\n",
    "    \"East_Sussex\", \"Brighton\", \"Battle\", \"Hastings_(England)\", \n",
    "    \"Rye_(England)\", \"Seaford\", \"Ashdown_Forest\"\n",
    "]\n",
    "\n",
    "wikivoyage_root_url = \"https://en.wikivoyage.org/wiki\""
   ]
  },
  {
   "cell_type": "code",
   "execution_count": 5,
   "id": "9a9393f8-c15e-444f-97dc-ed05b64d138a",
   "metadata": {},
   "outputs": [],
   "source": [
    "uk_destination_urls = [f'{wikivoyage_root_url}/{d}' for d in uk_destinations]"
   ]
  },
  {
   "cell_type": "code",
   "execution_count": 6,
   "id": "f2246836-ce23-4963-81d2-4051cf34c120",
   "metadata": {},
   "outputs": [],
   "source": [
    "headers_to_split_on = [(\"h1\", \"Header 1\"),(\"h2\", \"Header 2\")]\n",
    "html_section_splitter = HTMLSectionSplitter(headers_to_split_on=headers_to_split_on)"
   ]
  },
  {
   "cell_type": "code",
   "execution_count": 7,
   "id": "fdf1ebee-a9b9-4102-b208-9a29c9a070db",
   "metadata": {},
   "outputs": [],
   "source": [
    "def split_docs_into_granular_chunks(docs):\n",
    "    all_chunks = []\n",
    "    for doc in docs:\n",
    "        html_string = doc.page_content #B\n",
    "        temp_chunks = html_section_splitter.split_text(html_string) #C\n",
    "        h2_temp_chunks = [chunk for chunk in temp_chunks if \"Header 2\" in chunk.metadata] #D\n",
    "        all_chunks.extend(h2_temp_chunks) \n",
    "\n",
    "    return all_chunks"
   ]
  },
  {
   "cell_type": "code",
   "execution_count": 8,
   "id": "9829e9e6-9cfe-4bbc-83ee-af4641346cf8",
   "metadata": {},
   "outputs": [
    {
     "name": "stderr",
     "output_type": "stream",
     "text": [
      "Fetching pages: 100%|####################################################################| 1/1 [00:01<00:00,  1.88s/it]\n"
     ]
    },
    {
     "name": "stdout",
     "output_type": "stream",
     "text": [
      "{'source': 'https://en.wikivoyage.org/wiki/Cornwall', 'title': 'Cornwall – Travel guide at Wikivoyage', 'language': 'en'}\n"
     ]
    },
    {
     "name": "stderr",
     "output_type": "stream",
     "text": [
      "Fetching pages: 100%|####################################################################| 1/1 [00:00<00:00,  1.02it/s]\n"
     ]
    },
    {
     "name": "stdout",
     "output_type": "stream",
     "text": [
      "{'source': 'https://en.wikivoyage.org/wiki/North_Cornwall', 'title': 'North Cornwall – Travel guide at Wikivoyage', 'language': 'en'}\n"
     ]
    },
    {
     "name": "stderr",
     "output_type": "stream",
     "text": [
      "Fetching pages: 100%|####################################################################| 1/1 [00:01<00:00,  1.26s/it]\n"
     ]
    },
    {
     "name": "stdout",
     "output_type": "stream",
     "text": [
      "{'source': 'https://en.wikivoyage.org/wiki/South_Cornwall', 'title': 'South Cornwall – Travel guide at Wikivoyage', 'language': 'en'}\n"
     ]
    },
    {
     "name": "stderr",
     "output_type": "stream",
     "text": [
      "Fetching pages: 100%|####################################################################| 1/1 [00:02<00:00,  2.29s/it]\n"
     ]
    },
    {
     "name": "stdout",
     "output_type": "stream",
     "text": [
      "{'source': 'https://en.wikivoyage.org/wiki/West_Cornwall', 'title': 'West Cornwall – Travel guide at Wikivoyage', 'language': 'en'}\n"
     ]
    },
    {
     "name": "stderr",
     "output_type": "stream",
     "text": [
      "Fetching pages: 100%|####################################################################| 1/1 [00:01<00:00,  1.81s/it]\n"
     ]
    },
    {
     "name": "stdout",
     "output_type": "stream",
     "text": [
      "{'source': 'https://en.wikivoyage.org/wiki/Tintagel', 'title': 'Tintagel – Travel guide at Wikivoyage', 'language': 'en'}\n"
     ]
    },
    {
     "name": "stderr",
     "output_type": "stream",
     "text": [
      "Fetching pages: 100%|####################################################################| 1/1 [00:01<00:00,  1.63s/it]\n"
     ]
    },
    {
     "name": "stdout",
     "output_type": "stream",
     "text": [
      "{'source': 'https://en.wikivoyage.org/wiki/Bodmin', 'title': 'Bodmin – Travel guide at Wikivoyage', 'language': 'en'}\n"
     ]
    },
    {
     "name": "stderr",
     "output_type": "stream",
     "text": [
      "Fetching pages: 100%|####################################################################| 1/1 [00:00<00:00,  1.00it/s]\n"
     ]
    },
    {
     "name": "stdout",
     "output_type": "stream",
     "text": [
      "{'source': 'https://en.wikivoyage.org/wiki/Wadebridge', 'title': 'Wadebridge – Travel guide at Wikivoyage', 'language': 'en'}\n"
     ]
    },
    {
     "name": "stderr",
     "output_type": "stream",
     "text": [
      "Fetching pages: 100%|####################################################################| 1/1 [00:00<00:00,  5.16it/s]\n"
     ]
    },
    {
     "name": "stdout",
     "output_type": "stream",
     "text": [
      "{'source': 'https://en.wikivoyage.org/wiki/Penzance', 'title': 'Penzance – Travel guide at Wikivoyage', 'language': 'en'}\n"
     ]
    },
    {
     "name": "stderr",
     "output_type": "stream",
     "text": [
      "Fetching pages: 100%|####################################################################| 1/1 [00:00<00:00,  1.27it/s]\n"
     ]
    },
    {
     "name": "stdout",
     "output_type": "stream",
     "text": [
      "{'source': 'https://en.wikivoyage.org/wiki/Newquay', 'title': 'Newquay – Travel guide at Wikivoyage', 'language': 'en'}\n"
     ]
    },
    {
     "name": "stderr",
     "output_type": "stream",
     "text": [
      "Fetching pages: 100%|####################################################################| 1/1 [00:00<00:00,  2.02it/s]\n"
     ]
    },
    {
     "name": "stdout",
     "output_type": "stream",
     "text": [
      "{'source': 'https://en.wikivoyage.org/wiki/St_Ives', 'title': 'St Ives – Travel guide at Wikivoyage', 'language': 'en'}\n"
     ]
    },
    {
     "name": "stderr",
     "output_type": "stream",
     "text": [
      "Fetching pages: 100%|####################################################################| 1/1 [00:00<00:00,  1.60it/s]\n"
     ]
    },
    {
     "name": "stdout",
     "output_type": "stream",
     "text": [
      "{'source': 'https://en.wikivoyage.org/wiki/Port_Isaac', 'title': 'Port Isaac – Travel guide at Wikivoyage', 'language': 'en'}\n"
     ]
    },
    {
     "name": "stderr",
     "output_type": "stream",
     "text": [
      "Fetching pages: 100%|####################################################################| 1/1 [00:00<00:00,  2.35it/s]\n"
     ]
    },
    {
     "name": "stdout",
     "output_type": "stream",
     "text": [
      "{'source': 'https://en.wikivoyage.org/wiki/Looe', 'title': 'Looe – Travel guide at Wikivoyage', 'language': 'en'}\n"
     ]
    },
    {
     "name": "stderr",
     "output_type": "stream",
     "text": [
      "Fetching pages: 100%|####################################################################| 1/1 [00:00<00:00,  4.72it/s]\n"
     ]
    },
    {
     "name": "stdout",
     "output_type": "stream",
     "text": [
      "{'source': 'https://en.wikivoyage.org/wiki/Polperro', 'title': 'Polperro – Travel guide at Wikivoyage', 'language': 'en'}\n"
     ]
    },
    {
     "name": "stderr",
     "output_type": "stream",
     "text": [
      "Fetching pages: 100%|####################################################################| 1/1 [00:00<00:00,  1.42it/s]\n"
     ]
    },
    {
     "name": "stdout",
     "output_type": "stream",
     "text": [
      "{'source': 'https://en.wikivoyage.org/wiki/Porthleven', 'title': 'Porthleven – Travel guide at Wikivoyage', 'language': 'en'}\n"
     ]
    },
    {
     "name": "stderr",
     "output_type": "stream",
     "text": [
      "Fetching pages: 100%|####################################################################| 1/1 [00:00<00:00,  1.66it/s]\n"
     ]
    },
    {
     "name": "stdout",
     "output_type": "stream",
     "text": [
      "{'source': 'https://en.wikivoyage.org/wiki/East_Sussex', 'title': 'East Sussex – Travel guide at Wikivoyage', 'language': 'en'}\n"
     ]
    },
    {
     "name": "stderr",
     "output_type": "stream",
     "text": [
      "Fetching pages: 100%|####################################################################| 1/1 [00:00<00:00,  3.51it/s]\n"
     ]
    },
    {
     "name": "stdout",
     "output_type": "stream",
     "text": [
      "{'source': 'https://en.wikivoyage.org/wiki/Brighton', 'title': 'Brighton – Travel guide at Wikivoyage', 'language': 'en'}\n"
     ]
    },
    {
     "name": "stderr",
     "output_type": "stream",
     "text": [
      "Fetching pages: 100%|####################################################################| 1/1 [00:00<00:00, 10.42it/s]\n"
     ]
    },
    {
     "name": "stdout",
     "output_type": "stream",
     "text": [
      "{'source': 'https://en.wikivoyage.org/wiki/Battle', 'title': 'Battle – Travel guide at Wikivoyage', 'language': 'en'}\n"
     ]
    },
    {
     "name": "stderr",
     "output_type": "stream",
     "text": [
      "Fetching pages: 100%|####################################################################| 1/1 [00:00<00:00,  1.51it/s]\n"
     ]
    },
    {
     "name": "stdout",
     "output_type": "stream",
     "text": [
      "{'source': 'https://en.wikivoyage.org/wiki/Hastings_(England)', 'title': 'Hastings (England) – Travel guide at Wikivoyage', 'language': 'en'}\n"
     ]
    },
    {
     "name": "stderr",
     "output_type": "stream",
     "text": [
      "Fetching pages: 100%|####################################################################| 1/1 [00:00<00:00,  9.35it/s]\n"
     ]
    },
    {
     "name": "stdout",
     "output_type": "stream",
     "text": [
      "{'source': 'https://en.wikivoyage.org/wiki/Rye_(England)', 'title': 'Rye (England) – Travel guide at Wikivoyage', 'language': 'en'}\n"
     ]
    },
    {
     "name": "stderr",
     "output_type": "stream",
     "text": [
      "Fetching pages: 100%|####################################################################| 1/1 [00:00<00:00,  2.01it/s]\n"
     ]
    },
    {
     "name": "stdout",
     "output_type": "stream",
     "text": [
      "{'source': 'https://en.wikivoyage.org/wiki/Seaford', 'title': 'Seaford – Travel guide at Wikivoyage', 'language': 'en'}\n"
     ]
    },
    {
     "name": "stderr",
     "output_type": "stream",
     "text": [
      "Fetching pages: 100%|####################################################################| 1/1 [00:00<00:00,  1.07it/s]\n"
     ]
    },
    {
     "name": "stdout",
     "output_type": "stream",
     "text": [
      "{'source': 'https://en.wikivoyage.org/wiki/Ashdown_Forest', 'title': 'Ashdown Forest – Travel guide at Wikivoyage', 'language': 'en'}\n"
     ]
    }
   ],
   "source": [
    "for destination_url in uk_destination_urls:\n",
    "    html_loader = AsyncHtmlLoader(destination_url) #E\n",
    "    docs =  html_loader.load() #F\n",
    "    \n",
    "    for doc in docs:\n",
    "        print(doc.metadata)\n",
    "        granular_chunks = split_docs_into_granular_chunks(docs)\n",
    "        uk_granular_collection.add_documents(documents=granular_chunks)\n",
    "\n",
    "#A In case it exists\n",
    "#B Extract the HTML text from the document\n",
    "#C Each chunk is a H1 or H2 HTML section\n",
    "#D Only keep content associated with H2 sections        \n",
    "#E Loader for one destination\n",
    "#F Documents of one destination"
   ]
  },
  {
   "cell_type": "markdown",
   "id": "9b764315-24d2-48c4-aa74-c97a93459261",
   "metadata": {},
   "source": [
    "# Rewrite-retrieve-read"
   ]
  },
  {
   "cell_type": "markdown",
   "id": "f86d9495-4e11-4cbb-8e3f-07d4d8c30a59",
   "metadata": {},
   "source": [
    "## Retrieving content with original user question"
   ]
  },
  {
   "cell_type": "code",
   "execution_count": 9,
   "id": "8b024738-b46d-4709-91f8-50e941e68276",
   "metadata": {},
   "outputs": [
    {
     "name": "stdout",
     "output_type": "stream",
     "text": [
      "page_content='Do \n",
      " [ edit ] \n",
      " \n",
      " Cornwall, in particular Newquay, is the UK's  surfing  capital, with equipment hire and surf schools present on many of the county's beaches, and events like the UK championships or Boardmasters festival. \n",
      " The  South West Coast Path  runs along the coastline of Britain's south-west peninsula. The Cornish section is supposed to be the most scenic (unless you talk to someone in Devon, in which case the Devon part is most scenic). It is particularly scenic around Penwith and the Lizard. The trail takes walkers to busy towns, remote cliffs, beaches, heaths, farms and fishing villages. Walking along it is a great way to experience the region in all its variety. (Walking the entire path takes several weeks, walking on a choice part of it is easier.) \n",
      " The  Camel Trail  is an  18-mile (29   km)  off-road cycle-track that follows the route of a former railway line along the scenic estuary of the river Camel from  Padstow  to Wenford Bridge via  Wadebridge  and  Bodmin . \n",
      " The  Cornish Film Festival  is held annually each November around  Newquay . \n",
      " The  Royal Cornwall Show  is an agricultural show at the beginning of June each year. It is one of Cornwall's major tourist attractions. \n",
      " Camel Creek Adventure Park , Tredinnick,  Wadebridge  offers great family days out at Cornwall's top theme park. \n",
      " \n",
      " Festivals \n",
      " [ edit ] \n",
      " \n",
      " Mummer's Day , or \"Darkie Day\" as it is sometimes known, is an ancient Cornish midwinter celebration that occurs every year on Boxing Day and New Year's Day in  Padstow . Now considered somewhat \"un-PC\" as people will paint themselves black. \n",
      " ' Obby 'Oss  is held annually on May Day (1 May), mainly in  Padstow , with large marching bands and traditional music. It attracts large crowds, so show up early. \n",
      " St Piran's Day  (Cornish:  Gool Peran ) is the national day of Cornwall, held on 5 March every year. There is large parties widespread across the whole of Cornwall, with people dressing in the black, white and silver national colours.' metadata={'Header 2': 'Do'}\n",
      "page_content='Do \n",
      " [ edit ] \n",
      " \n",
      " The  South West Coast Path  runs along the coastline of Britain’s south-west peninsula. The Cornish section is supposed to be the most scenic (unless you talk to someone in Devon, in which case the Devon part is most scenic). It is particularly scenic around Penwith and the Lizard. The trail takes walkers to busy towns, remote cliffs, beaches, heaths, farms and fishing villages. Walking along it is a great way to experience the region in all its variety. (Walking the entire path takes several weeks, walking on a choice part of it is easier.) \n",
      " The  Camel Trail  is an  18-mile (29   km)  off-road cycle-track following the scenic estuary of the river Camel from  Padstow  to Wenford Bridge via  Wadebridge  and  Bodmin . \n",
      " The  Cornish Film Festival  is held annually each November around  Newquay . \n",
      " Cornwall, in particular Newquay, is the UK's  surfing  capital, with equipment hire and surf schools present on many of the county's beaches, and events like the UK championships or Boardmasters festival. \n",
      " \n",
      " Cricket:   Cornwall CCC  play in the National Counties Cricket Championship, the tier formerly known as \"Minor Counties\" below the first class competitions. They don't have a permanent ground but play at various venues including Camborne, Falmouth, Truro and St Austell.' metadata={'Header 2': 'Do'}\n",
      "page_content='Buy \n",
      " [ edit ] \n",
      " \n",
      " In the village centre you will find the usual array of touristy goods and souvenirs that you would find in any seaside town in Cornwall.' metadata={'Header 2': 'Buy'}\n",
      "page_content='Do \n",
      " [ edit ] \n",
      " \n",
      " The  South West Coast Path  runs along the coastline of Britain's south-west peninsula. The Cornish section is supposed to be the most scenic (unless you talk to someone in Devon, in which case the Devon part is most scenic). It is particularly scenic around Penwith and the Lizard. The trail takes walkers to busy towns, remote cliffs, beaches, heaths, farms and fishing villages. Walking along it is a great way to experience the region in all its variety. (Walking the entire path takes several weeks, walking on a choice part of it is easier.) \n",
      " St Piran's Day  (Cornish:  Gool Peran ) is the national day of Cornwall, held on 5 March every year. There is large parties widespread across the whole of Cornwall, with people dressing in the black, white and silver national colours.' metadata={'Header 2': 'Do'}\n"
     ]
    }
   ],
   "source": [
    "user_question = \"Tell me some fun things I can enjoy in Cornwall\"\n",
    "initial_results = uk_granular_collection.similarity_search(query=user_question,k=4)\n",
    "for doc in initial_results:\n",
    "    print(doc)"
   ]
  },
  {
   "cell_type": "code",
   "execution_count": 10,
   "id": "1a637f6a-117f-4e93-9c9b-84d361369dde",
   "metadata": {},
   "outputs": [],
   "source": [
    "# COMMENT: the retrieval from the vector store against the original question is bad"
   ]
  },
  {
   "cell_type": "markdown",
   "id": "4c4b329e-739c-44e9-a5f9-1567d9e79fcd",
   "metadata": {},
   "source": [
    "## Question rewrite"
   ]
  },
  {
   "cell_type": "markdown",
   "id": "f9dbfa99-ec8a-4775-a4a7-33502ee21533",
   "metadata": {},
   "source": [
    "### Setting up the query rewriter chain"
   ]
  },
  {
   "cell_type": "code",
   "execution_count": 11,
   "id": "4f4fc6b2-eb69-48e3-9d15-b4e5ff6a5096",
   "metadata": {},
   "outputs": [],
   "source": [
    "from langchain_openai import ChatOpenAI\n",
    "from langchain_core.output_parsers import StrOutputParser\n",
    "from langchain_core.prompts import ChatPromptTemplate"
   ]
  },
  {
   "cell_type": "code",
   "execution_count": 12,
   "id": "3034a15b-cec3-433e-856e-dbfdcfa8eedd",
   "metadata": {},
   "outputs": [],
   "source": [
    "llm = ChatOpenAI(model=\"gpt-4o-mini\", openai_api_key=OPENAI_API_KEY)"
   ]
  },
  {
   "cell_type": "code",
   "execution_count": 13,
   "id": "7e60da8d-6566-4d5a-a7a8-bbabc9fcb050",
   "metadata": {},
   "outputs": [],
   "source": [
    "rewriter_prompt_template = \"\"\"\n",
    "Generate search query for the Chroma DB vector store from a user question, allowing for a more accurate response through semantic search.\n",
    "Just return the revised Chroma DB query, with quotes around it. \n",
    "\n",
    "User question: {user_question}\n",
    "Revised Chroma DB query:\n",
    "\"\"\"\n",
    "\n",
    "rewriter_prompt = ChatPromptTemplate.from_template(rewriter_prompt_template) "
   ]
  },
  {
   "cell_type": "code",
   "execution_count": 14,
   "id": "3037753f-2919-4a08-a4dd-e1e4157d5429",
   "metadata": {},
   "outputs": [],
   "source": [
    "rewriter_chain = rewriter_prompt | llm | StrOutputParser()"
   ]
  },
  {
   "cell_type": "markdown",
   "id": "5342f6fb-ee59-4b1a-a8f9-4f27a34f5039",
   "metadata": {},
   "source": [
    "### Retrieving content with the rewritten query"
   ]
  },
  {
   "cell_type": "code",
   "execution_count": 15,
   "id": "329c68fc-28ea-4ea0-8a68-d051880191ef",
   "metadata": {},
   "outputs": [
    {
     "name": "stdout",
     "output_type": "stream",
     "text": [
      "\"fun activities in Cornwall, things to do in Cornwall, attractions and experiences in Cornwall\"\n"
     ]
    }
   ],
   "source": [
    "user_question =\"Tell me some fun things I can do in Cornwall\"\n",
    "\n",
    "search_query = rewriter_chain.invoke({\"user_question\": user_question})\n",
    "print(search_query)"
   ]
  },
  {
   "cell_type": "code",
   "execution_count": 18,
   "id": "ef23e323-16dd-49bd-923f-2476687bf71f",
   "metadata": {},
   "outputs": [
    {
     "name": "stdout",
     "output_type": "stream",
     "text": [
      "page_content='Do \n",
      " [ edit ] \n",
      " \n",
      " Cornwall, in particular Newquay, is the UK's  surfing  capital, with equipment hire and surf schools present on many of the county's beaches, and events like the UK championships or Boardmasters festival. \n",
      " The  South West Coast Path  runs along the coastline of Britain's south-west peninsula. The Cornish section is supposed to be the most scenic (unless you talk to someone in Devon, in which case the Devon part is most scenic). It is particularly scenic around Penwith and the Lizard. The trail takes walkers to busy towns, remote cliffs, beaches, heaths, farms and fishing villages. Walking along it is a great way to experience the region in all its variety. (Walking the entire path takes several weeks, walking on a choice part of it is easier.) \n",
      " The  Camel Trail  is an  18-mile (29   km)  off-road cycle-track that follows the route of a former railway line along the scenic estuary of the river Camel from  Padstow  to Wenford Bridge via  Wadebridge  and  Bodmin . \n",
      " The  Cornish Film Festival  is held annually each November around  Newquay . \n",
      " The  Royal Cornwall Show  is an agricultural show at the beginning of June each year. It is one of Cornwall's major tourist attractions. \n",
      " Camel Creek Adventure Park , Tredinnick,  Wadebridge  offers great family days out at Cornwall's top theme park. \n",
      " \n",
      " Festivals \n",
      " [ edit ] \n",
      " \n",
      " Mummer's Day , or \"Darkie Day\" as it is sometimes known, is an ancient Cornish midwinter celebration that occurs every year on Boxing Day and New Year's Day in  Padstow . Now considered somewhat \"un-PC\" as people will paint themselves black. \n",
      " ' Obby 'Oss  is held annually on May Day (1 May), mainly in  Padstow , with large marching bands and traditional music. It attracts large crowds, so show up early. \n",
      " St Piran's Day  (Cornish:  Gool Peran ) is the national day of Cornwall, held on 5 March every year. There is large parties widespread across the whole of Cornwall, with people dressing in the black, white and silver national colours.' metadata={'Header 2': 'Do'}\n",
      "page_content='Stay safe \n",
      " [ edit ] \n",
      " \n",
      " Visitors to Cornwall should at all times be aware of the unpredictable and dangerous nature of some of the tides and currents around the Cornish coast and seek advice from local lifeguards before swimming or surfing. There is a small chance of getting great white or tiger sharks off the south coast, but don't let this worry you as they are very very rarely seen, and there have been no known attacks. \n",
      " Cornwall's roads become very dangerous in summer due to the influx of tourists to the region. The local infrastructure is very poor and often cannot cope with the traffic. Drive sensibly and with caution. \n",
      " Be very alert when driving at night as some roads, especially the A39 in North Cornwall, contain sudden hairpin bends that are deceptively sharp and are not illuminated by street lighting.  There is also a risk of running over nocturnal wildlife.  Use your headlights' full beam where possible and err on the side of caution. \n",
      " Newquay in the summer attracts tens of thousands of tourists, and with that inevitably comes increased crime during the months of June, July and August. Assaults and muggings are particularly common, usually at night and often down on some of Newquay's many beaches. \n",
      " Crime rates are mostly low in Cornwall, but there are some impoverished areas of some towns where crime is more common. Occasionally, outsiders can attract attention in local pubs, but this is no worse than in other areas of the country. \n",
      " \n",
      " \n",
      " \n",
      " \n",
      " \n",
      " \n",
      " \n",
      " \n",
      " \n",
      " \n",
      " \n",
      " This  region  travel guide to  Cornwall   is an  outline   and may need more content. It has a  template , but there is not enough  information  present. If there are  Cities  and  Other destinations  listed, they may not all be at  usable  status or there may not be a  valid regional structure  and a \"Get in\" section describing all of the typical ways to get here. Please  plunge forward  and  help it grow ! \n",
      " \n",
      " \n",
      " \n",
      " \n",
      " \n",
      " \n",
      " \n",
      "  \n",
      "NewPP limit report\n",
      "Parsed by mw‐web.codfw.main‐74954c4898‐7mkjh\n",
      "Cached time: 20250517114057\n",
      "Cache expiry: 2592000\n",
      "Reduced expiry: false\n",
      "Complications: [show‐toc]\n",
      "CPU time usage: 1.378 seconds\n",
      "Real time usage: 1.719 seconds\n",
      "Preprocessor visited node count: 7865/1000000\n",
      "Post‐expand include size: 78834/2097152 bytes\n",
      "Template argument size: 17298/2097152 bytes\n",
      "Highest expansion depth: 21/100\n",
      "Expensive parser function count: 37/500\n",
      "Unstrip recursion depth: 0/20\n",
      "Unstrip post‐expand size: 7700/5000000 bytes\n",
      "Lua time usage: 0.354/10.000 seconds\n",
      "Lua memory usage: 6431197/52428800 bytes\n",
      "Number of Wikibase entities loaded: 30/500\n",
      " \n",
      " \n",
      "Transclusion expansion time report (%,ms,calls,template)\n",
      "100.00% 1445.246      1 -total\n",
      " 24.16%  349.131     32 Template:Marker\n",
      " 15.38%  222.298     20 Template:Listing\n",
      " 14.86%  214.705     19 Template:Eat\n",
      " 10.25%  148.161      1 Template:Pagebanner\n",
      "  8.38%  121.091      1 Template:CountryData2HTML\n",
      "  4.77%   68.970      1 Template:Rint\n",
      "  4.23%   61.127      8 Template:Convert\n",
      "  2.90%   41.844      6 Template:Mile\n",
      "  2.47%   35.749      5 Template:IATA\n",
      " \n",
      "  Saved in parser cache with key enwikivoyage:parsoid-pcache:8276:|#|:idhash:useParsoid=1 and timestamp 20250517114057 and revision id 5062152. Rendering was triggered because: page-view\n",
      "  \n",
      " Parsoid 0.22.0.0-alpha2 \n",
      " \n",
      " esi <esi:include src=\"/esitest-fa8a495983347898/content\" />  \n",
      " Retrieved from \" https://en.wikivoyage.org/w/index.php?title=Cornwall&oldid=5062152 \" \n",
      " \n",
      " Hidden categories:  \n",
      " Has custom banner \n",
      " Has mapframe \n",
      " Maps with non-default size \n",
      " Has map markers \n",
      " Listing without plain text name \n",
      " Eat listing with no coordinates \n",
      " Do listing with no coordinates \n",
      " Has Geo parameter \n",
      " West Country \n",
      " All destination articles \n",
      " Outline regions \n",
      " Outline articles \n",
      " Region articles \n",
      " Pages using the Kartographer extension \n",
      " \n",
      " \n",
      " \n",
      " \n",
      " \n",
      " \n",
      " \n",
      " \n",
      " \n",
      " \n",
      " \n",
      " This article is partly based on  Creative Commons Attribution-ShareAlike 3.0 Licensed  work from other websites. Details of contributors can be found in the  article history . \n",
      " Text is available under the  Creative Commons Attribution-ShareAlike License ; additional terms may apply.  By using this site, you agree to the  Terms of Use  and  Privacy Policy. \n",
      " \n",
      " \n",
      " \n",
      " Privacy policy \n",
      " About Wikivoyage \n",
      " Disclaimer \n",
      " Code of Conduct \n",
      " Developers \n",
      " Statistics \n",
      " Cookie statement \n",
      " Mobile view \n",
      " \n",
      " \n",
      " \n",
      " \n",
      " \n",
      " \n",
      " \n",
      " \n",
      " \n",
      " \n",
      " \n",
      " \n",
      " \n",
      " \n",
      " Search \n",
      " \n",
      " \n",
      " \n",
      " \n",
      " \n",
      " \n",
      " \n",
      " \n",
      " \n",
      " \n",
      " \n",
      " \n",
      " \n",
      " Search \n",
      " \n",
      " \n",
      " \n",
      " \n",
      " \n",
      " \n",
      " \n",
      " \n",
      " \n",
      " Toggle the table of contents \n",
      " \n",
      " \n",
      " \n",
      " \n",
      " \n",
      " \n",
      " \n",
      " \n",
      " \n",
      " \n",
      " \n",
      " \n",
      " \n",
      " \n",
      " \n",
      " \n",
      " \n",
      " \n",
      " \n",
      " \n",
      " \n",
      " \n",
      " \n",
      " \n",
      " \n",
      " \n",
      " \n",
      " \n",
      " \n",
      " \n",
      " \n",
      " \n",
      " \n",
      " \n",
      " \n",
      " \n",
      " 5 languages \n",
      " \n",
      " \n",
      " Add topic \n",
      " \n",
      " \n",
      " \n",
      " \n",
      " \n",
      " \n",
      " \n",
      " \n",
      " \n",
      " \n",
      " \n",
      " \n",
      " \n",
      " (RLQ=window.RLQ||[]).push(function(){mw.config.set({\"wgHostname\":\"mw-web.eqiad.main-64c56cddd9-2crck\",\"wgBackendResponseTime\":386,\"wgKartographerLiveData\":{\"mask\":[{\"type\":\"ExternalData\",\"service\":\"geomask\",\"url\":\"https://maps.wikimedia.org/geoshape?getgeojson=1\\u0026ids=Q23148\",\"properties\":{\"fill\":\"#555555\",\"fill-opacity\":0.5,\"stroke\":\"#000000\",\"stroke-width\":1,\"stroke-opacity\":1}}],\"city\":[{\"type\":\"Feature\",\"geometry\":{\"coordinates\":[-5.051,50.26],\"type\":\"Point\"},\"properties\":{\"marker-size\":\"medium\",\"title\":\"\\u003Ca rel=\\\"mw:WikiLink\\\" href=\\\"./Truro_(England)\\\" title=\\\"Truro (England)\\\" data-parsoid='{\\\"tsr\\\":[0,25],\\\"stx\\\":\\\"piped\\\",\\\"a\\\":{\\\"href\\\":\\\"./Truro_(England)\\\"},\\\"sa\\\":{\\\"href\\\":\\\"Truro (England)\\\"}}'\\u003ETruro\\u003C/a\\u003E\",\"marker-symbol\":\"1\",\"marker-color\":\"0000FF\",\"description\":\"\\u003Cspan typeof=\\\"mw:File\\\" data-parsoid='{\\\"tsr\\\":[0,33],\\\"optList\\\":[{\\\"ck\\\":\\\"width\\\",\\\"ak\\\":\\\"300px\\\"}]}'\\u003E\\u003Ca href=\\\"./File:TruroCathedral.jpg\\\" class=\\\"mw-file-description\\\" data-parsoid=\\\"{}\\\"\\u003E\\u003Cimg resource=\\\"./File:TruroCathedral.jpg\\\" src=\\\"//upload.wikimedia.org/wikipedia/commons/thumb/0/01/TruroCathedral.jpg/330px-TruroCathedral.jpg\\\" decoding=\\\"async\\\" data-file-width=\\\"4320\\\" data-file-height=\\\"2880\\\" data-file-type=\\\"bitmap\\\" height=\\\"200\\\" width=\\\"300\\\" srcset=\\\"//upload.wikimedia.org/wikipedia/commons/thumb/0/01/TruroCathedral.jpg/500px-TruroCathedral.jpg 1.5x, //upload.wikimedia.org/wikipedia/commons/thumb/0/01/TruroCathedral.jpg/960px-TruroCathedral.jpg 2x\\\" class=\\\"mw-file-element\\\" data-parsoid='{\\\"a\\\":{\\\"resource\\\":\\\"./File:TruroCathedral.jpg\\\",\\\"height\\\":\\\"200\\\",\\\"width\\\":\\\"300\\\"},\\\"sa\\\":{\\\"resource\\\":\\\"File:TruroCathedral.jpg\\\"}}'/\\u003E\\u003C/a\\u003E\\u003C/span\\u003E\"}},{\"type\":\"Feature\",\"geometry\":{\"coordinates\":[-5.0757,50.412],\"type\":\"Point\"},\"properties\":{\"marker-size\":\"medium\",\"title\":\"\\u003Ca rel=\\\"mw:WikiLink\\\" href=\\\"./Newquay\\\" title=\\\"Newquay\\\" data-parsoid='{\\\"tsr\\\":[0,11],\\\"stx\\\":\\\"simple\\\",\\\"a\\\":{\\\"href\\\":\\\"./Newquay\\\"},\\\"sa\\\":{\\\"href\\\":\\\"Newquay\\\"}}'\\u003ENewquay\\u003C/a\\u003E\",\"marker-symbol\":\"2\",\"marker-color\":\"0000FF\",\"description\":\"\\u003Cspan typeof=\\\"mw:File\\\" data-parsoid='{\\\"tsr\\\":[0,30],\\\"optList\\\":[{\\\"ck\\\":\\\"width\\\",\\\"ak\\\":\\\"300px\\\"}]}'\\u003E\\u003Ca href=\\\"./File:Newquayhill.jpg\\\" class=\\\"mw-file-description\\\" data-parsoid=\\\"{}\\\"\\u003E\\u003Cimg resource=\\\"./File:Newquayhill.jpg\\\" src=\\\"//upload.wikimedia.org/wikipedia/commons/thumb/f/fa/Newquayhill.jpg/330px-Newquayhill.jpg\\\" decoding=\\\"async\\\" data-file-width=\\\"3648\\\" data-file-height=\\\"2736\\\" data-file-type=\\\"bitmap\\\" height=\\\"225\\\" width=\\\"300\\\" srcset=\\\"//upload.wikimedia.org/wikipedia/commons/thumb/f/fa/Newquayhill.jpg/500px-Newquayhill.jpg 1.5x, //upload.wikimedia.org/wikipedia/commons/thumb/f/fa/Newquayhill.jpg/960px-Newquayhill.jpg 2x\\\" class=\\\"mw-file-element\\\" data-parsoid='{\\\"a\\\":{\\\"resource\\\":\\\"./File:Newquayhill.jpg\\\",\\\"height\\\":\\\"225\\\",\\\"width\\\":\\\"300\\\"},\\\"sa\\\":{\\\"resource\\\":\\\"File:Newquayhill.jpg\\\"}}'/\\u003E\\u003C/a\\u003E\\u003C/span\\u003E\"}},{\"type\":\"Feature\",\"geometry\":{\"coordinates\":[-4.83,50.5938],\"type\":\"Point\"},\"properties\":{\"marker-size\":\"medium\",\"title\":\"\\u003Ca rel=\\\"mw:WikiLink\\\" href=\\\"./Port_Isaac\\\" title=\\\"Port Isaac\\\" data-parsoid='{\\\"tsr\\\":[0,14],\\\"stx\\\":\\\"simple\\\",\\\"a\\\":{\\\"href\\\":\\\"./Port_Isaac\\\"},\\\"sa\\\":{\\\"href\\\":\\\"Port Isaac\\\"}}'\\u003EPort Isaac\\u003C/a\\u003E\",\"marker-symbol\":\"3\",\"marker-color\":\"0000FF\",\"description\":\"\\u003Cspan typeof=\\\"mw:File\\\" data-parsoid='{\\\"tsr\\\":[0,59],\\\"optList\\\":[{\\\"ck\\\":\\\"width\\\",\\\"ak\\\":\\\"300px\\\"}]}'\\u003E\\u003Ca href=\\\"./File:2006-07-08.Port_Isaac,_Cornwall,_England.JPG\\\" class=\\\"mw-file-description\\\" data-parsoid=\\\"{}\\\"\\u003E\\u003Cimg resource=\\\"./File:2006-07-08.Port_Isaac,_Cornwall,_England.JPG\\\" src=\\\"//upload.wikimedia.org/wikipedia/commons/thumb/b/bc/2006-07-08.Port_Isaac%2C_Cornwall%2C_England.JPG/330px-2006-07-08.Port_Isaac%2C_Cornwall%2C_England.JPG\\\" decoding=\\\"async\\\" data-file-width=\\\"3456\\\" data-file-height=\\\"2304\\\" data-file-type=\\\"bitmap\\\" height=\\\"200\\\" width=\\\"300\\\" srcset=\\\"//upload.wikimedia.org/wikipedia/commons/thumb/b/bc/2006-07-08.Port_Isaac%2C_Cornwall%2C_England.JPG/500px-2006-07-08.Port_Isaac%2C_Cornwall%2C_England.JPG 1.5x, //upload.wikimedia.org/wikipedia/commons/thumb/b/bc/2006-07-08.Port_Isaac%2C_Cornwall%2C_England.JPG/960px-2006-07-08.Port_Isaac%2C_Cornwall%2C_England.JPG 2x\\\" class=\\\"mw-file-element\\\" data-parsoid='{\\\"a\\\":{\\\"resource\\\":\\\"./File:2006-07-08.Port_Isaac,_Cornwall,_England.JPG\\\",\\\"height\\\":\\\"200\\\",\\\"width\\\":\\\"300\\\"},\\\"sa\\\":{\\\"resource\\\":\\\"File:2006-07-08.Port Isaac, Cornwall, England.JPG\\\"}}'/\\u003E\\u003C/a\\u003E\\u003C/span\\u003E\"}},{\"type\":\"Feature\",\"geometry\":{\"coordinates\":[-4.75,50.663],\"type\":\"Point\"},\"properties\":{\"marker-size\":\"medium\",\"title\":\"\\u003Ca rel=\\\"mw:WikiLink\\\" href=\\\"./Tintagel\\\" title=\\\"Tintagel\\\" data-parsoid='{\\\"tsr\\\":[0,12],\\\"stx\\\":\\\"simple\\\",\\\"a\\\":{\\\"href\\\":\\\"./Tintagel\\\"},\\\"sa\\\":{\\\"href\\\":\\\"Tintagel\\\"}}'\\u003ETintagel\\u003C/a\\u003E\",\"marker-symbol\":\"4\",\"marker-color\":\"0000FF\",\"description\":\"\\u003Cspan typeof=\\\"mw:File\\\" data-parsoid='{\\\"tsr\\\":[0,36],\\\"optList\\\":[{\\\"ck\\\":\\\"width\\\",\\\"ak\\\":\\\"300px\\\"}]}'\\u003E\\u003Ca href=\\\"./File:RemainsofTintagel.jpg\\\" class=\\\"mw-file-description\\\" data-parsoid=\\\"{}\\\"\\u003E\\u003Cimg resource=\\\"./File:RemainsofTintagel.jpg\\\" src=\\\"//upload.wikimedia.org/wikipedia/commons/thumb/7/74/RemainsofTintagel.jpg/330px-RemainsofTintagel.jpg\\\" decoding=\\\"async\\\" data-file-width=\\\"2032\\\" data-file-height=\\\"1524\\\" data-file-type=\\\"bitmap\\\" height=\\\"225\\\" width=\\\"300\\\" srcset=\\\"//upload.wikimedia.org/wikipedia/commons/thumb/7/74/RemainsofTintagel.jpg/500px-RemainsofTintagel.jpg 1.5x, //upload.wikimedia.org/wikipedia/commons/thumb/7/74/RemainsofTintagel.jpg/960px-RemainsofTintagel.jpg 2x\\\" class=\\\"mw-file-element\\\" data-parsoid='{\\\"a\\\":{\\\"resource\\\":\\\"./File:RemainsofTintagel.jpg\\\",\\\"height\\\":\\\"225\\\",\\\"width\\\":\\\"300\\\"},\\\"sa\\\":{\\\"resource\\\":\\\"File:RemainsofTintagel.jpg\\\"}}'/\\u003E\\u003C/a\\u003E\\u003C/span\\u003E\"}},{\"type\":\"Feature\",\"geometry\":{\"coordinates\":[-5.07,50.15],\"type\":\"Point\"},\"properties\":{\"marker-size\":\"medium\",\"title\":\"\\u003Ca rel=\\\"mw:WikiLink\\\" href=\\\"./Falmouth_(Cornwall)\\\" title=\\\"Falmouth (Cornwall)\\\" data-parsoid='{\\\"tsr\\\":[0,32],\\\"stx\\\":\\\"piped\\\",\\\"a\\\":{\\\"href\\\":\\\"./Falmouth_(Cornwall)\\\"},\\\"sa\\\":{\\\"href\\\":\\\"Falmouth (Cornwall)\\\"}}'\\u003EFalmouth\\u003C/a\\u003E\",\"marker-symbol\":\"5\",\"marker-color\":\"0000FF\",\"description\":\"\\u003Cspan typeof=\\\"mw:File\\\" data-parsoid='{\\\"tsr\\\":[0,36],\\\"optList\\\":[{\\\"ck\\\":\\\"width\\\",\\\"ak\\\":\\\"300px\\\"}]}'\\u003E\\u003Ca href=\\\"./File:Falmouth_Cornwall.jpg\\\" class=\\\"mw-file-description\\\" data-parsoid=\\\"{}\\\"\\u003E\\u003Cimg resource=\\\"./File:Falmouth_Cornwall.jpg\\\" src=\\\"//upload.wikimedia.org/wikipedia/commons/thumb/3/32/Falmouth_Cornwall.jpg/330px-Falmouth_Cornwall.jpg\\\" decoding=\\\"async\\\" data-file-width=\\\"1600\\\" data-file-height=\\\"1200\\\" data-file-type=\\\"bitmap\\\" height=\\\"225\\\" width=\\\"300\\\" srcset=\\\"//upload.wikimedia.org/wikipedia/commons/thumb/3/32/Falmouth_Cornwall.jpg/500px-Falmouth_Cornwall.jpg 1.5x, //upload.wikimedia.org/wikipedia/commons/thumb/3/32/Falmouth_Cornwall.jpg/960px-Falmouth_Cornwall.jpg 2x\\\" class=\\\"mw-file-element\\\" data-parsoid='{\\\"a\\\":{\\\"resource\\\":\\\"./File:Falmouth_Cornwall.jpg\\\",\\\"height\\\":\\\"225\\\",\\\"width\\\":\\\"300\\\"},\\\"sa\\\":{\\\"resource\\\":\\\"File:Falmouth Cornwall.jpg\\\"}}'/\\u003E\\u003C/a\\u003E\\u003C/span\\u003E\"}},{\"type\":\"Feature\",\"geometry\":{\"coordinates\":[-4.795,50.338],\"type\":\"Point\"},\"properties\":{\"marker-size\":\"medium\",\"title\":\"\\u003Ca rel=\\\"mw:WikiLink\\\" href=\\\"./St_Austell\\\" title=\\\"St Austell\\\" data-parsoid='{\\\"tsr\\\":[0,14],\\\"stx\\\":\\\"simple\\\",\\\"a\\\":{\\\"href\\\":\\\"./St_Austell\\\"},\\\"sa\\\":{\\\"href\\\":\\\"St Austell\\\"}}'\\u003ESt Austell\\u003C/a\\u003E\",\"marker-symbol\":\"6\",\"marker-color\":\"0000FF\",\"description\":\"\\u003Cspan typeof=\\\"mw:File\\\" data-parsoid='{\\\"tsr\\\":[0,76],\\\"optList\\\":[{\\\"ck\\\":\\\"width\\\",\\\"ak\\\":\\\"300px\\\"}]}'\\u003E\\u003Ca href=\\\"./File:High_Cross_Street,_St_Austell_-_geograph.org.uk_-_1313370.jpg\\\" class=\\\"mw-file-description\\\" data-parsoid=\\\"{}\\\"\\u003E\\u003Cimg resource=\\\"./File:High_Cross_Street,_St_Austell_-_geograph.org.uk_-_1313370.jpg\\\" src=\\\"//upload.wikimedia.org/wikipedia/commons/thumb/0/04/High_Cross_Street%2C_St_Austell_-_geograph.org.uk_-_1313370.jpg/330px-High_Cross_Street%2C_St_Austell_-_geograph.org.uk_-_1313370.jpg\\\" decoding=\\\"async\\\" data-file-width=\\\"640\\\" data-file-height=\\\"480\\\" data-file-type=\\\"bitmap\\\" height=\\\"225\\\" width=\\\"300\\\" srcset=\\\"//upload.wikimedia.org/wikipedia/commons/thumb/0/04/High_Cross_Street%2C_St_Austell_-_geograph.org.uk_-_1313370.jpg/500px-High_Cross_Street%2C_St_Austell_-_geograph.org.uk_-_1313370.jpg 1.5x, //upload.wikimedia.org/wikipedia/commons/thumb/0/04/High_Cross_Street%2C_St_Austell_-_geograph.org.uk_-_1313370.jpg/600px-High_Cross_Street%2C_St_Austell_-_geograph.org.uk_-_1313370.jpg 2x\\\" class=\\\"mw-file-element\\\" data-parsoid='{\\\"a\\\":{\\\"resource\\\":\\\"./File:High_Cross_Street,_St_Austell_-_geograph.org.uk_-_1313370.jpg\\\",\\\"height\\\":\\\"225\\\",\\\"width\\\":\\\"300\\\"},\\\"sa\\\":{\\\"resource\\\":\\\"File:High Cross Street, St Austell - geograph.org.uk - 1313370.jpg\\\"}}'/\\u003E\\u003C/a\\u003E\\u003C/span\\u003E\"}},{\"type\":\"Feature\",\"geometry\":{\"coordinates\":[-5.537,50.119],\"type\":\"Point\"},\"properties\":{\"marker-size\":\"medium\",\"title\":\"\\u003Ca rel=\\\"mw:WikiLink\\\" href=\\\"./Penzance\\\" title=\\\"Penzance\\\" data-parsoid='{\\\"tsr\\\":[0,12],\\\"stx\\\":\\\"simple\\\",\\\"a\\\":{\\\"href\\\":\\\"./Penzance\\\"},\\\"sa\\\":{\\\"href\\\":\\\"Penzance\\\"}}'\\u003EPenzance\\u003C/a\\u003E\",\"marker-symbol\":\"7\",\"marker-color\":\"0000FF\",\"description\":\"\\u003Cspan typeof=\\\"mw:File\\\" data-parsoid='{\\\"tsr\\\":[0,36],\\\"optList\\\":[{\\\"ck\\\":\\\"width\\\",\\\"ak\\\":\\\"300px\\\"}]}'\\u003E\\u003Ca href=\\\"./File:PZHARBOURPANORAMA.jpg\\\" class=\\\"mw-file-description\\\" data-parsoid=\\\"{}\\\"\\u003E\\u003Cimg resource=\\\"./File:PZHARBOURPANORAMA.jpg\\\" src=\\\"//upload.wikimedia.org/wikipedia/commons/thumb/3/33/PZHARBOURPANORAMA.jpg/330px-PZHARBOURPANORAMA.jpg\\\" decoding=\\\"async\\\" data-file-width=\\\"1600\\\" data-file-height=\\\"633\\\" data-file-type=\\\"bitmap\\\" height=\\\"119\\\" width=\\\"300\\\" srcset=\\\"//upload.wikimedia.org/wikipedia/commons/thumb/3/33/PZHARBOURPANORAMA.jpg/500px-PZHARBOURPANORAMA.jpg 1.5x, //upload.wikimedia.org/wikipedia/commons/thumb/3/33/PZHARBOURPANORAMA.jpg/960px-PZHARBOURPANORAMA.jpg 2x\\\" class=\\\"mw-file-element\\\" data-parsoid='{\\\"a\\\":{\\\"resource\\\":\\\"./File:PZHARBOURPANORAMA.jpg\\\",\\\"height\\\":\\\"119\\\",\\\"width\\\":\\\"300\\\"},\\\"sa\\\":{\\\"resource\\\":\\\"File:PZHARBOURPANORAMA.jpg\\\"}}'/\\u003E\\u003C/a\\u003E\\u003C/span\\u003E\"}},{\"type\":\"Feature\",\"geometry\":{\"coordinates\":[-5.48,50.211],\"type\":\"Point\"},\"properties\":{\"marker-size\":\"medium\",\"title\":\"\\u003Ca rel=\\\"mw:WikiLink\\\" href=\\\"./St_Ives\\\" title=\\\"St Ives\\\" data-parsoid='{\\\"tsr\\\":[0,11],\\\"stx\\\":\\\"simple\\\",\\\"a\\\":{\\\"href\\\":\\\"./St_Ives\\\"},\\\"sa\\\":{\\\"href\\\":\\\"St Ives\\\"}}'\\u003ESt Ives\\u003C/a\\u003E\",\"marker-symbol\":\"8\",\"marker-color\":\"0000FF\",\"description\":\"\\u003Cspan typeof=\\\"mw:File\\\" data-parsoid='{\\\"tsr\\\":[0,26],\\\"optList\\\":[{\\\"ck\\\":\\\"width\\\",\\\"ak\\\":\\\"300px\\\"}]}'\\u003E\\u003Ca href=\\\"./File:Stives1.jpg\\\" class=\\\"mw-file-description\\\" data-parsoid=\\\"{}\\\"\\u003E\\u003Cimg resource=\\\"./File:Stives1.jpg\\\" src=\\\"//upload.wikimedia.org/wikipedia/commons/thumb/5/54/Stives1.jpg/330px-Stives1.jpg\\\" decoding=\\\"async\\\" data-file-width=\\\"800\\\" data-file-height=\\\"600\\\" data-file-type=\\\"bitmap\\\" height=\\\"225\\\" width=\\\"300\\\" srcset=\\\"//upload.wikimedia.org/wikipedia/commons/thumb/5/54/Stives1.jpg/500px-Stives1.jpg 1.5x, //upload.wikimedia.org/wikipedia/commons/thumb/5/54/Stives1.jpg/600px-Stives1.jpg 2x\\\" class=\\\"mw-file-element\\\" data-parsoid='{\\\"a\\\":{\\\"resource\\\":\\\"./File:Stives1.jpg\\\",\\\"height\\\":\\\"225\\\",\\\"width\\\":\\\"300\\\"},\\\"sa\\\":{\\\"resource\\\":\\\"File:Stives1.jpg\\\"}}'/\\u003E\\u003C/a\\u003E\\u003C/span\\u003E\"}},{\"type\":\"Feature\",\"geometry\":{\"coordinates\":[-5.539,50.083],\"type\":\"Point\"},\"properties\":{\"marker-size\":\"medium\",\"title\":\"\\u003Ca rel=\\\"mw:WikiLink\\\" href=\\\"./Mousehole\\\" title=\\\"Mousehole\\\" data-parsoid='{\\\"tsr\\\":[0,13],\\\"stx\\\":\\\"simple\\\",\\\"a\\\":{\\\"href\\\":\\\"./Mousehole\\\"},\\\"sa\\\":{\\\"href\\\":\\\"Mousehole\\\"}}'\\u003EMousehole\\u003C/a\\u003E\",\"marker-symbol\":\"9\",\"marker-color\":\"0000FF\",\"description\":\"\\u003Cspan typeof=\\\"mw:File\\\" data-parsoid='{\\\"tsr\\\":[0,31],\\\"optList\\\":[{\\\"ck\\\":\\\"width\\\",\\\"ak\\\":\\\"300px\\\"}]}'\\u003E\\u003Ca href=\\\"./File:Mousehole_08.jpg\\\" class=\\\"mw-file-description\\\" data-parsoid=\\\"{}\\\"\\u003E\\u003Cimg resource=\\\"./File:Mousehole_08.jpg\\\" src=\\\"//upload.wikimedia.org/wikipedia/commons/thumb/4/4e/Mousehole_08.jpg/330px-Mousehole_08.jpg\\\" decoding=\\\"async\\\" data-file-width=\\\"4098\\\" data-file-height=\\\"3074\\\" data-file-type=\\\"bitmap\\\" height=\\\"225\\\" width=\\\"300\\\" srcset=\\\"//upload.wikimedia.org/wikipedia/commons/thumb/4/4e/Mousehole_08.jpg/500px-Mousehole_08.jpg 1.5x, //upload.wikimedia.org/wikipedia/commons/thumb/4/4e/Mousehole_08.jpg/960px-Mousehole_08.jpg 2x\\\" class=\\\"mw-file-element\\\" data-parsoid='{\\\"a\\\":{\\\"resource\\\":\\\"./File:Mousehole_08.jpg\\\",\\\"height\\\":\\\"225\\\",\\\"width\\\":\\\"300\\\"},\\\"sa\\\":{\\\"resource\\\":\\\"File:Mousehole 08.jpg\\\"}}'/\\u003E\\u003C/a\\u003E\\u003C/span\\u003E\"}}],\"vicinity\":[{\"type\":\"Feature\",\"geometry\":{\"coordinates\":[-5.716111,50.068611],\"type\":\"Point\"},\"properties\":{\"marker-size\":\"medium\",\"title\":\"\\u003Ca rel=\\\"mw:WikiLink\\\" href=\\\"./Land's_End\\\" title=\\\"Land's End\\\" data-parsoid='{\\\"tsr\\\":[0,14],\\\"stx\\\":\\\"simple\\\",\\\"a\\\":{\\\"href\\\":\\\"./Land\\u0026apos;s_End\\\"},\\\"sa\\\":{\\\"href\\\":\\\"Land\\u0026apos;s End\\\"}}'\\u003ELand's End\\u003C/a\\u003E\",\"marker-symbol\":\"1\",\"marker-color\":\"800000\",\"description\":\"\\u003Cspan typeof=\\\"mw:File\\\" data-parsoid='{\\\"tsr\\\":[0,31],\\\"optList\\\":[{\\\"ck\\\":\\\"width\\\",\\\"ak\\\":\\\"300px\\\"}]}'\\u003E\\u003Ca href=\\\"./File:Lands_End_UK.jpg\\\" class=\\\"mw-file-description\\\" data-parsoid=\\\"{}\\\"\\u003E\\u003Cimg resource=\\\"./File:Lands_End_UK.jpg\\\" src=\\\"//upload.wikimedia.org/wikipedia/commons/thumb/2/2a/Lands_End_UK.jpg/330px-Lands_End_UK.jpg\\\" decoding=\\\"async\\\" data-file-width=\\\"3072\\\" data-file-height=\\\"1948\\\" data-file-type=\\\"bitmap\\\" height=\\\"190\\\" width=\\\"300\\\" srcset=\\\"//upload.wikimedia.org/wikipedia/commons/thumb/2/2a/Lands_End_UK.jpg/500px-Lands_End_UK.jpg 1.5x, //upload.wikimedia.org/wikipedia/commons/thumb/2/2a/Lands_End_UK.jpg/960px-Lands_End_UK.jpg 2x\\\" class=\\\"mw-file-element\\\" data-parsoid='{\\\"a\\\":{\\\"resource\\\":\\\"./File:Lands_End_UK.jpg\\\",\\\"height\\\":\\\"190\\\",\\\"width\\\":\\\"300\\\"},\\\"sa\\\":{\\\"resource\\\":\\\"File:Lands End UK.jpg\\\"}}'/\\u003E\\u003C/a\\u003E\\u003C/span\\u003E\"}},{\"type\":\"Feature\",\"geometry\":{\"coordinates\":[-5.2025,49.9687],\"type\":\"Point\"},\"properties\":{\"marker-size\":\"medium\",\"title\":\"\\u003Ca rel=\\\"mw:WikiLink\\\" href=\\\"./Lizard\\\" title=\\\"Lizard\\\" data-parsoid='{\\\"tsr\\\":[0,10],\\\"stx\\\":\\\"simple\\\",\\\"a\\\":{\\\"href\\\":\\\"./Lizard\\\"},\\\"sa\\\":{\\\"href\\\":\\\"Lizard\\\"}}'\\u003ELizard\\u003C/a\\u003E\",\"marker-symbol\":\"2\",\"marker-color\":\"800000\",\"description\":\"\\u003Cspan typeof=\\\"mw:File\\\" data-parsoid='{\\\"tsr\\\":[0,42],\\\"optList\\\":[{\\\"ck\\\":\\\"width\\\",\\\"ak\\\":\\\"300px\\\"}]}'\\u003E\\u003Ca href=\\\"./File:LizardVillageCornwallUK.jpg\\\" class=\\\"mw-file-description\\\" data-parsoid=\\\"{}\\\"\\u003E\\u003Cimg resource=\\\"./File:LizardVillageCornwallUK.jpg\\\" src=\\\"//upload.wikimedia.org/wikipedia/commons/thumb/d/d3/LizardVillageCornwallUK.jpg/330px-LizardVillageCornwallUK.jpg\\\" decoding=\\\"async\\\" data-file-width=\\\"640\\\" data-file-height=\\\"440\\\" data-file-type=\\\"bitmap\\\" height=\\\"206\\\" width=\\\"300\\\" srcset=\\\"//upload.wikimedia.org/wikipedia/commons/thumb/d/d3/LizardVillageCornwallUK.jpg/500px-LizardVillageCornwallUK.jpg 1.5x, //upload.wikimedia.org/wikipedia/commons/thumb/d/d3/LizardVillageCornwallUK.jpg/600px-LizardVillageCornwallUK.jpg 2x\\\" class=\\\"mw-file-element\\\" data-parsoid='{\\\"a\\\":{\\\"resource\\\":\\\"./File:LizardVillageCornwallUK.jpg\\\",\\\"height\\\":\\\"206\\\",\\\"width\\\":\\\"300\\\"},\\\"sa\\\":{\\\"resource\\\":\\\"File:LizardVillageCornwallUK.jpg\\\"}}'/\\u003E\\u003C/a\\u003E\\u003C/span\\u003E\"}},{\"type\":\"Feature\",\"geometry\":{\"coordinates\":[-4.6108,50.5654],\"type\":\"Point\"},\"properties\":{\"marker-size\":\"medium\",\"title\":\"\\u003Ca rel=\\\"mw:WikiLink\\\" href=\\\"./Bodmin_Moor\\\" title=\\\"Bodmin Moor\\\" data-parsoid='{\\\"tsr\\\":[0,15],\\\"stx\\\":\\\"simple\\\",\\\"a\\\":{\\\"href\\\":\\\"./Bodmin_Moor\\\"},\\\"sa\\\":{\\\"href\\\":\\\"Bodmin Moor\\\"}}'\\u003EBodmin Moor\\u003C/a\\u003E\",\"marker-symbol\":\"3\",\"marker-color\":\"800000\",\"description\":\"\\u003Cspan typeof=\\\"mw:File\\\" data-parsoid='{\\\"tsr\\\":[0,27],\\\"optList\\\":[{\\\"ck\\\":\\\"width\\\",\\\"ak\\\":\\\"300px\\\"}]}'\\u003E\\u003Ca href=\\\"./File:RoughTor.jpg\\\" class=\\\"mw-file-description\\\" data-parsoid=\\\"{}\\\"\\u003E\\u003Cimg resource=\\\"./File:RoughTor.jpg\\\" src=\\\"//upload.wikimedia.org/wikipedia/commons/thumb/3/3a/RoughTor.jpg/330px-RoughTor.jpg\\\" decoding=\\\"async\\\" data-file-width=\\\"960\\\" data-file-height=\\\"692\\\" data-file-type=\\\"bitmap\\\" height=\\\"216\\\" width=\\\"300\\\" srcset=\\\"//upload.wikimedia.org/wikipedia/commons/thumb/3/3a/RoughTor.jpg/500px-RoughTor.jpg 1.5x, //upload.wikimedia.org/wikipedia/commons/thumb/3/3a/RoughTor.jpg/960px-RoughTor.jpg 2x\\\" class=\\\"mw-file-element\\\" data-parsoid='{\\\"a\\\":{\\\"resource\\\":\\\"./File:RoughTor.jpg\\\",\\\"height\\\":\\\"216\\\",\\\"width\\\":\\\"300\\\"},\\\"sa\\\":{\\\"resource\\\":\\\"File:RoughTor.jpg\\\"}}'/\\u003E\\u003C/a\\u003E\\u003C/span\\u003E\"}}],\"around\":[],\"buy\":[],\"do\":[],\"event\":[],\"drink\":[],\"eat\":[],\"go\":[],\"listing\":[],\"other\":[],\"see\":[],\"sleep\":[],\"view\":[],\"black\":[],\"blue\":[],\"brown\":[],\"chocolate\":[],\"forestgreen\":[],\"gold\":[],\"gray\":[],\"grey\":[],\"lime\":[],\"magenta\":[],\"maroon\":[],\"mediumaquamarine\":[],\"navy\":[],\"red\":[],\"royalblue\":[],\"orange\":[],\"silver\":[],\"steelblue\":[],\"teal\":[],\"fuchsia\":[],\"route1\":[],\"route2\":[],\"route3\":[],\"route4\":[],\"route5\":[]},\"wgPageParseReport\":{\"limitreport\":{\"cputime\":\"1.378\",\"walltime\":\"1.719\",\"ppvisitednodes\":{\"value\":7865,\"limit\":1000000},\"postexpandincludesize\":{\"value\":78834,\"limit\":2097152},\"templateargumentsize\":{\"value\":17298,\"limit\":2097152},\"expansiondepth\":{\"value\":21,\"limit\":100},\"expensivefunctioncount\":{\"value\":37,\"limit\":500},\"unstrip-depth\":{\"value\":0,\"limit\":20},\"unstrip-size\":{\"value\":7700,\"limit\":5000000},\"entityaccesscount\":{\"value\":30,\"limit\":500},\"timingprofile\":[\"100.00% 1445.246      1 -total\",\" 24.16%  349.131     32 Template:Marker\",\" 15.38%  222.298     20 Template:Listing\",\" 14.86%  214.705     19 Template:Eat\",\" 10.25%  148.161      1 Template:Pagebanner\",\"  8.38%  121.091      1 Template:CountryData2HTML\",\"  4.77%   68.970      1 Template:Rint\",\"  4.23%   61.127      8 Template:Convert\",\"  2.90%   41.844      6 Template:Mile\",\"  2.47%   35.749      5 Template:IATA\"]},\"scribunto\":{\"limitreport-timeusage\":{\"value\":\"0.354\",\"limit\":\"10.000\"},\"limitreport-memusage\":{\"value\":6431197,\"limit\":52428800},\"limitreport-logs\":\"entity: Q23148\\n\"},\"cachereport\":{\"origin\":\"mw-web.codfw.main-74954c4898-7mkjh\",\"timestamp\":\"20250517114057\",\"ttl\":2592000,\"transientcontent\":false}}});}); \n",
      " {\"@context\":\"https:\\/\\/schema.org\",\"@type\":\"Article\",\"name\":\"Cornwall\",\"url\":\"https:\\/\\/en.wikivoyage.org\\/wiki\\/Cornwall\",\"sameAs\":\"http:\\/\\/www.wikidata.org\\/entity\\/Q23148\",\"mainEntity\":\"http:\\/\\/www.wikidata.org\\/entity\\/Q23148\",\"author\":{\"@type\":\"Organization\",\"name\":\"Contributors to Wikimedia projects\"},\"publisher\":{\"@type\":\"Organization\",\"name\":\"Wikimedia Foundation, Inc.\",\"logo\":{\"@type\":\"ImageObject\",\"url\":\"https:\\/\\/www.wikimedia.org\\/static\\/images\\/wmf-hor-googpub.png\"}},\"datePublished\":\"2003-11-10T16:41:49Z\",\"dateModified\":\"2025-05-13T21:00:09Z\",\"image\":\"https:\\/\\/upload.wikimedia.org\\/wikipedia\\/commons\\/b\\/b8\\/Flag_of_Cornwall.svg\",\"headline\":\"historic county of England; Celtic nation\"}' metadata={'Header 2': 'Stay safe'}\n",
      "page_content='Contents \n",
      " \n",
      " \n",
      " \n",
      " \n",
      " \n",
      " \n",
      " \n",
      " 1   Towns and villages \n",
      " \n",
      " \n",
      " \n",
      " \n",
      " \n",
      " \n",
      " 2   Other destinations \n",
      " \n",
      " \n",
      " \n",
      " \n",
      " \n",
      " \n",
      " 3   Understand \n",
      " \n",
      " \n",
      " \n",
      " \n",
      " \n",
      " \n",
      " 4   Get in \n",
      " \n",
      " \n",
      " \n",
      " \n",
      " 4.1   By train \n",
      " \n",
      " \n",
      " \n",
      " \n",
      " \n",
      " \n",
      " 4.2   By car \n",
      " \n",
      " \n",
      " \n",
      " \n",
      " \n",
      " \n",
      " 4.3   By plane \n",
      " \n",
      " \n",
      " \n",
      " \n",
      " \n",
      " \n",
      " \n",
      " \n",
      " 5   Get around \n",
      " \n",
      " \n",
      " \n",
      " \n",
      " 5.1   By bus \n",
      " \n",
      " \n",
      " \n",
      " \n",
      " \n",
      " \n",
      " 5.2   By train \n",
      " \n",
      " \n",
      " \n",
      " \n",
      " \n",
      " \n",
      " \n",
      " \n",
      " 6   See \n",
      " \n",
      " \n",
      " \n",
      " \n",
      " 6.1   National Trust properties \n",
      " \n",
      " \n",
      " \n",
      " \n",
      " \n",
      " \n",
      " \n",
      " \n",
      " 7   Do \n",
      " \n",
      " \n",
      " \n",
      " \n",
      " 7.1   Festivals \n",
      " \n",
      " \n",
      " \n",
      " \n",
      " \n",
      " \n",
      " \n",
      " \n",
      " 8   Drink \n",
      " \n",
      " \n",
      " \n",
      " \n",
      " \n",
      " \n",
      " 9   Stay safe \n",
      " \n",
      " \n",
      " \n",
      " \n",
      " \n",
      " \n",
      " 10   Go next \n",
      " \n",
      " \n",
      " \n",
      " \n",
      " \n",
      " \n",
      " \n",
      " \n",
      " \n",
      " \n",
      " \n",
      " \n",
      " \n",
      " North Cornwall  is in  Cornwall . It includes much of the Cornish coast along the Celtic Sea and some top surfing areas.' metadata={'Header 2': 'Contents'}\n"
     ]
    }
   ],
   "source": [
    "improved_results = uk_granular_collection.similarity_search(query=search_query,k=3)\n",
    "for doc in improved_results:\n",
    "    print(doc)"
   ]
  },
  {
   "cell_type": "markdown",
   "id": "b5482c37-a227-4a99-ae35-c8adec9183dc",
   "metadata": {},
   "source": [
    "### Combining everything in a single RAG chain"
   ]
  },
  {
   "cell_type": "code",
   "execution_count": 19,
   "id": "1102bfee-cabb-45dc-88e4-198c394489e1",
   "metadata": {},
   "outputs": [],
   "source": [
    "from langchain_core.runnables import RunnablePassthrough"
   ]
  },
  {
   "cell_type": "code",
   "execution_count": 20,
   "id": "41036bbe-1043-41a1-af38-e1db6aa7532f",
   "metadata": {},
   "outputs": [],
   "source": [
    "retriever = uk_granular_collection.as_retriever()\n",
    "\n",
    "rag_prompt_template = \"\"\"\n",
    "Given a question and some context, answer the question.\n",
    "If you do not know the answer, just say I do not know.\n",
    "\n",
    "Context: {context}\n",
    "Question: {question}\n",
    "\"\"\"\n",
    "\n",
    "rag_prompt = ChatPromptTemplate.from_template(rag_prompt_template) \n",
    "\n",
    "rewrite_retrieve_read_rag_chain = (\n",
    "    {\n",
    "        \"context\": {\"user_question\": RunnablePassthrough()} | rewriter_chain | retriever,#A\n",
    "        \"question\": RunnablePassthrough(),#B\n",
    "    }\n",
    "    | rag_prompt\n",
    "    | llm\n",
    "    | StrOutputParser()\n",
    ")\n",
    "#A The context is returned by the retriver after feeding to it the rewritten query\n",
    "#B This is the original user question"
   ]
  },
  {
   "cell_type": "code",
   "execution_count": 21,
   "id": "9b549250-fcea-42f6-9792-b8aa0013f541",
   "metadata": {},
   "outputs": [
    {
     "name": "stdout",
     "output_type": "stream",
     "text": [
      "In Cornwall, you can enjoy a variety of fun activities including:\n",
      "\n",
      "1. **Surfing in Newquay**: Known as the UK's surfing capital, Newquay offers equipment hire and surf schools at its beaches.\n",
      "\n",
      "2. **Walking the South West Coast Path**: This scenic trail runs along the coast and takes you to beautiful towns, cliffs, beaches, and fishing villages. It's a great way to experience Cornwall’s natural beauty.\n",
      "\n",
      "3. **Cycling the Camel Trail**: An 18-mile off-road cycle track that follows the scenic estuary of the River Camel from Padstow to Wenford Bridge.\n",
      "\n",
      "4. **Visiting the Helford River**: Explore this idyllic river estuary, take a ferry ride, or visit attractions like the Gweek Seal Sanctuary and Trebah Gardens.\n",
      "\n",
      "5. **Attending Festivals**: Cornwall hosts various festivals throughout the year, including St Piran's Day celebrations, the Cornish Film Festival in November, the Furry Dance in Helston, and Midsummer celebrations in Penzance.\n",
      "\n",
      "6. **Exploring Camel Creek Adventure Park**: This theme park offers a range of family-friendly attractions.\n",
      "\n",
      "7. **Enjoying Local Food and Drink**: Experience traditional Cornish cuisine, including pasties and cream teas, at local restaurants and pubs.\n",
      "\n",
      "These activities offer a blend of adventure, culture, and relaxation in the scenic setting of Cornwall.\n"
     ]
    }
   ],
   "source": [
    "user_question = \"Tell me some fun things I can do in Cornwall\"\n",
    "\n",
    "answer = rewrite_retrieve_read_rag_chain.invoke(user_question)\n",
    "print(answer)"
   ]
  },
  {
   "cell_type": "markdown",
   "id": "0e47b64c-6d58-4928-8271-b151cdfa1a2a",
   "metadata": {},
   "source": [
    "# Multiple query generation with MultiQueryRetriever"
   ]
  },
  {
   "cell_type": "code",
   "execution_count": 22,
   "id": "837afc94-3573-439b-a152-9b33f05d6d9b",
   "metadata": {},
   "outputs": [],
   "source": [
    "from langchain.retrievers.multi_query import MultiQueryRetriever\n",
    "from langchain_core.prompts import ChatPromptTemplate\n",
    "\n",
    "from typing import List\n",
    "from langchain_core.output_parsers import BaseOutputParser\n",
    "from pydantic import BaseModel, Field"
   ]
  },
  {
   "cell_type": "markdown",
   "id": "addc5a70-f0b2-476a-ba84-a03688ed6296",
   "metadata": {},
   "source": [
    "## Implementing a custom MultiQueryRetriver"
   ]
  },
  {
   "cell_type": "markdown",
   "id": "10667ae0-b50a-4728-bed5-cdfbfcde2235",
   "metadata": {},
   "source": [
    "### Setting up the prompt"
   ]
  },
  {
   "cell_type": "code",
   "execution_count": 23,
   "id": "3d58e44f-813e-4c76-85c5-1802519e0bab",
   "metadata": {},
   "outputs": [],
   "source": [
    "multi_query_gen_prompt_template = \"\"\"\n",
    "You are an AI language model assistant. Your task is to generate five \n",
    "different versions of the given user question to retrieve relevant documents from a vector \n",
    "database. By generating multiple perspectives on the user question, your goal is to help\n",
    "the user overcome some of the limitations of the distance-based similarity search. \n",
    "Provide these alternative questions separated by newlines.\n",
    "Original question: {question}\n",
    "\"\"\"\n",
    "\n",
    "multi_query_gen_prompt = ChatPromptTemplate.from_template(multi_query_gen_prompt_template) "
   ]
  },
  {
   "cell_type": "markdown",
   "id": "939cc90e-5c63-451e-9930-edba6a3a521f",
   "metadata": {},
   "source": [
    "### Setting up the multi-query parser"
   ]
  },
  {
   "cell_type": "code",
   "execution_count": 24,
   "id": "5984c9da-e776-4471-88ed-ef0d42b08254",
   "metadata": {},
   "outputs": [],
   "source": [
    "class LineListOutputParser(BaseOutputParser[List[str]]):\n",
    "    \"\"\"Parse out a question from each output line.\"\"\"\n",
    "\n",
    "    def parse(self, text: str) -> List[str]:\n",
    "        lines = text.strip().split(\"\\n\")\n",
    "        return list(filter(None, lines))  \n",
    "\n",
    "\n",
    "questions_parser = LineListOutputParser()"
   ]
  },
  {
   "cell_type": "markdown",
   "id": "1e6b33ae-fe7a-4ca2-8ca5-034dbdcffbe8",
   "metadata": {},
   "source": [
    "### Setting up the chain to generate multiple queries"
   ]
  },
  {
   "cell_type": "code",
   "execution_count": 25,
   "id": "6c06e206-74e7-4ed1-9117-2151895fc3bf",
   "metadata": {},
   "outputs": [],
   "source": [
    "llm = ChatOpenAI(model=\"gpt-4o-mini\", openai_api_key=OPENAI_API_KEY)"
   ]
  },
  {
   "cell_type": "code",
   "execution_count": 26,
   "id": "35b9fd98-0045-4605-b8bb-cf7dc919a299",
   "metadata": {},
   "outputs": [],
   "source": [
    "multi_query_gen_chain = multi_query_gen_prompt | llm | questions_parser"
   ]
  },
  {
   "cell_type": "markdown",
   "id": "f816a8e1-636b-4f8b-806b-2f024e6b47b8",
   "metadata": {},
   "source": [
    "### Testing the Multi query gen chain"
   ]
  },
  {
   "cell_type": "code",
   "execution_count": 27,
   "id": "fd9d8c1c-d503-413a-894b-044471c89725",
   "metadata": {},
   "outputs": [],
   "source": [
    "user_question = \"Tell me some fun things I can do in Cornwall\"\n",
    "\n",
    "multiple_queries = multi_query_gen_chain.invoke(user_question)"
   ]
  },
  {
   "cell_type": "code",
   "execution_count": 28,
   "id": "6c417263-b925-4679-a108-9bacfa7bffe9",
   "metadata": {},
   "outputs": [
    {
     "data": {
      "text/plain": [
       "['What are some entertaining activities to try out in Cornwall?  ',\n",
       " 'Can you suggest enjoyable experiences or attractions in Cornwall?  ',\n",
       " 'What fun places or events are happening in Cornwall that I should check out?  ',\n",
       " 'What are some exciting things to do while visiting Cornwall?  ',\n",
       " 'Could you list some interesting or entertaining things to do in Cornwall?']"
      ]
     },
     "execution_count": 28,
     "metadata": {},
     "output_type": "execute_result"
    }
   ],
   "source": [
    "multiple_queries"
   ]
  },
  {
   "cell_type": "markdown",
   "id": "8148b035-078d-4b36-b96c-987ad1b41764",
   "metadata": {},
   "source": [
    "### Setting up the MultiQueryRetriever"
   ]
  },
  {
   "cell_type": "code",
   "execution_count": 29,
   "id": "6d579012-5db2-4963-89d3-40abf0fdd6b5",
   "metadata": {},
   "outputs": [],
   "source": [
    "basic_retriever = uk_granular_collection.as_retriever()\n",
    "\n",
    "multi_query_retriever = MultiQueryRetriever(\n",
    "    retriever=basic_retriever, llm_chain=multi_query_gen_chain, \n",
    "    parser_key=\"lines\" #A\n",
    ")  \n",
    "#A this is the key for the parsed output"
   ]
  },
  {
   "cell_type": "markdown",
   "id": "976d14f0-f022-4f1b-b602-c52ec6a2b608",
   "metadata": {},
   "source": [
    "### Using the multi_query retriever"
   ]
  },
  {
   "cell_type": "code",
   "execution_count": 30,
   "id": "44b9ca51-9b00-49b1-b69b-3fb3355e7d09",
   "metadata": {},
   "outputs": [],
   "source": [
    "user_question = \"Tell me some fun things I can do in Cornwall\"\n",
    "\n",
    "retrieved_docs = multi_query_retriever.invoke(user_question)"
   ]
  },
  {
   "cell_type": "code",
   "execution_count": 31,
   "id": "c08ad10b-683c-4799-aec5-7e4e289479fd",
   "metadata": {},
   "outputs": [
    {
     "data": {
      "text/plain": [
       "[Document(id='e1a8ca2f-c967-4a0e-ac8c-0d2102c13997', metadata={'Header 2': 'Do'}, page_content='Do \\n [ edit ] \\n \\n Cornwall, in particular Newquay, is the UK\\'s  surfing  capital, with equipment hire and surf schools present on many of the county\\'s beaches, and events like the UK championships or Boardmasters festival. \\n The  South West Coast Path  runs along the coastline of Britain\\'s south-west peninsula. The Cornish section is supposed to be the most scenic (unless you talk to someone in Devon, in which case the Devon part is most scenic). It is particularly scenic around Penwith and the Lizard. The trail takes walkers to busy towns, remote cliffs, beaches, heaths, farms and fishing villages. Walking along it is a great way to experience the region in all its variety. (Walking the entire path takes several weeks, walking on a choice part of it is easier.) \\n The  Camel Trail  is an  18-mile (29 \\xa0 km)  off-road cycle-track that follows the route of a former railway line along the scenic estuary of the river Camel from  Padstow  to Wenford Bridge via  Wadebridge  and  Bodmin . \\n The  Cornish Film Festival  is held annually each November around  Newquay . \\n The  Royal Cornwall Show  is an agricultural show at the beginning of June each year. It is one of Cornwall\\'s major tourist attractions. \\n Camel Creek Adventure Park , Tredinnick,  Wadebridge  offers great family days out at Cornwall\\'s top theme park. \\n \\n Festivals \\n [ edit ] \\n \\n Mummer\\'s Day , or \"Darkie Day\" as it is sometimes known, is an ancient Cornish midwinter celebration that occurs every year on Boxing Day and New Year\\'s Day in  Padstow . Now considered somewhat \"un-PC\" as people will paint themselves black. \\n \\' Obby \\'Oss  is held annually on May Day (1 May), mainly in  Padstow , with large marching bands and traditional music. It attracts large crowds, so show up early. \\n St Piran\\'s Day  (Cornish:  Gool Peran ) is the national day of Cornwall, held on 5 March every year. There is large parties widespread across the whole of Cornwall, with people dressing in the black, white and silver national colours.'),\n",
       " Document(id='d6a61b24-110c-443a-89e1-871cdad4aa2b', metadata={'Header 2': 'Do'}, page_content='Do \\n [ edit ] \\n \\n The  South West Coast Path  runs along the coastline of Britain’s south-west peninsula. The Cornish section is supposed to be the most scenic (unless you talk to someone in Devon, in which case the Devon part is most scenic). It is particularly scenic around Penwith and the Lizard. The trail takes walkers to busy towns, remote cliffs, beaches, heaths, farms and fishing villages. Walking along it is a great way to experience the region in all its variety. (Walking the entire path takes several weeks, walking on a choice part of it is easier.) \\n The  Camel Trail  is an  18-mile (29 \\xa0 km)  off-road cycle-track following the scenic estuary of the river Camel from  Padstow  to Wenford Bridge via  Wadebridge  and  Bodmin . \\n The  Cornish Film Festival  is held annually each November around  Newquay . \\n Cornwall, in particular Newquay, is the UK\\'s  surfing  capital, with equipment hire and surf schools present on many of the county\\'s beaches, and events like the UK championships or Boardmasters festival. \\n \\n Cricket:   Cornwall CCC  play in the National Counties Cricket Championship, the tier formerly known as \"Minor Counties\" below the first class competitions. They don\\'t have a permanent ground but play at various venues including Camborne, Falmouth, Truro and St Austell.'),\n",
       " Document(id='bcfc45f4-7aa8-411d-9297-472897e51d76', metadata={'Header 2': 'Stay safe'}, page_content='Stay safe \\n [ edit ] \\n \\n Visitors to Cornwall should at all times be aware of the unpredictable and dangerous nature of some of the tides and currents around the Cornish coast and seek advice from local lifeguards before swimming or surfing. There is a small chance of getting great white or tiger sharks off the south coast, but don\\'t let this worry you as they are very very rarely seen, and there have been no known attacks. \\n Cornwall\\'s roads become very dangerous in summer due to the influx of tourists to the region. The local infrastructure is very poor and often cannot cope with the traffic. Drive sensibly and with caution. \\n Be very alert when driving at night as some roads, especially the A39 in North Cornwall, contain sudden hairpin bends that are deceptively sharp and are not illuminated by street lighting.  There is also a risk of running over nocturnal wildlife.  Use your headlights\\' full beam where possible and err on the side of caution. \\n Newquay in the summer attracts tens of thousands of tourists, and with that inevitably comes increased crime during the months of June, July and August. Assaults and muggings are particularly common, usually at night and often down on some of Newquay\\'s many beaches. \\n Crime rates are mostly low in Cornwall, but there are some impoverished areas of some towns where crime is more common. Occasionally, outsiders can attract attention in local pubs, but this is no worse than in other areas of the country. \\n \\n \\n \\n \\n \\n \\n \\n \\n \\n \\n \\n This  region  travel guide to  Cornwall   is an  outline   and may need more content. It has a  template , but there is not enough  information  present. If there are  Cities  and  Other destinations  listed, they may not all be at  usable  status or there may not be a  valid regional structure  and a \"Get in\" section describing all of the typical ways to get here. Please  plunge forward  and  help it grow ! \\n \\n \\n \\n \\n \\n \\n \\n  \\nNewPP limit report\\nParsed by mw‐web.codfw.main‐74954c4898‐7mkjh\\nCached time: 20250517114057\\nCache expiry: 2592000\\nReduced expiry: false\\nComplications: [show‐toc]\\nCPU time usage: 1.378 seconds\\nReal time usage: 1.719 seconds\\nPreprocessor visited node count: 7865/1000000\\nPost‐expand include size: 78834/2097152 bytes\\nTemplate argument size: 17298/2097152 bytes\\nHighest expansion depth: 21/100\\nExpensive parser function count: 37/500\\nUnstrip recursion depth: 0/20\\nUnstrip post‐expand size: 7700/5000000 bytes\\nLua time usage: 0.354/10.000 seconds\\nLua memory usage: 6431197/52428800 bytes\\nNumber of Wikibase entities loaded: 30/500\\n \\n \\nTransclusion expansion time report (%,ms,calls,template)\\n100.00% 1445.246      1 -total\\n 24.16%  349.131     32 Template:Marker\\n 15.38%  222.298     20 Template:Listing\\n 14.86%  214.705     19 Template:Eat\\n 10.25%  148.161      1 Template:Pagebanner\\n  8.38%  121.091      1 Template:CountryData2HTML\\n  4.77%   68.970      1 Template:Rint\\n  4.23%   61.127      8 Template:Convert\\n  2.90%   41.844      6 Template:Mile\\n  2.47%   35.749      5 Template:IATA\\n \\n  Saved in parser cache with key enwikivoyage:parsoid-pcache:8276:|#|:idhash:useParsoid=1 and timestamp 20250517114057 and revision id 5062152. Rendering was triggered because: page-view\\n  \\n Parsoid 0.22.0.0-alpha2 \\n \\n esi <esi:include src=\"/esitest-fa8a495983347898/content\" />  \\n Retrieved from \" https://en.wikivoyage.org/w/index.php?title=Cornwall&oldid=5062152 \" \\n \\n Hidden categories:  \\n Has custom banner \\n Has mapframe \\n Maps with non-default size \\n Has map markers \\n Listing without plain text name \\n Eat listing with no coordinates \\n Do listing with no coordinates \\n Has Geo parameter \\n West Country \\n All destination articles \\n Outline regions \\n Outline articles \\n Region articles \\n Pages using the Kartographer extension \\n \\n \\n \\n \\n \\n \\n \\n \\n \\n \\n \\n This article is partly based on  Creative Commons Attribution-ShareAlike 3.0 Licensed  work from other websites. Details of contributors can be found in the  article history . \\n Text is available under the  Creative Commons Attribution-ShareAlike License ; additional terms may apply.  By using this site, you agree to the  Terms of Use  and  Privacy Policy. \\n \\n \\n \\n Privacy policy \\n About Wikivoyage \\n Disclaimer \\n Code of Conduct \\n Developers \\n Statistics \\n Cookie statement \\n Mobile view \\n \\n \\n \\n \\n \\n \\n \\n \\n \\n \\n \\n \\n \\n \\n Search \\n \\n \\n \\n \\n \\n \\n \\n \\n \\n \\n \\n \\n \\n Search \\n \\n \\n \\n \\n \\n \\n \\n \\n \\n Toggle the table of contents \\n \\n \\n \\n \\n \\n \\n \\n \\n \\n \\n \\n \\n \\n \\n \\n \\n \\n \\n \\n \\n \\n \\n \\n \\n \\n \\n \\n \\n \\n \\n \\n \\n \\n \\n \\n \\n 5 languages \\n \\n \\n Add topic \\n \\n \\n \\n \\n \\n \\n \\n \\n \\n \\n \\n \\n \\n (RLQ=window.RLQ||[]).push(function(){mw.config.set({\"wgHostname\":\"mw-web.eqiad.main-64c56cddd9-2crck\",\"wgBackendResponseTime\":386,\"wgKartographerLiveData\":{\"mask\":[{\"type\":\"ExternalData\",\"service\":\"geomask\",\"url\":\"https://maps.wikimedia.org/geoshape?getgeojson=1\\\\u0026ids=Q23148\",\"properties\":{\"fill\":\"#555555\",\"fill-opacity\":0.5,\"stroke\":\"#000000\",\"stroke-width\":1,\"stroke-opacity\":1}}],\"city\":[{\"type\":\"Feature\",\"geometry\":{\"coordinates\":[-5.051,50.26],\"type\":\"Point\"},\"properties\":{\"marker-size\":\"medium\",\"title\":\"\\\\u003Ca rel=\\\\\"mw:WikiLink\\\\\" href=\\\\\"./Truro_(England)\\\\\" title=\\\\\"Truro (England)\\\\\" data-parsoid=\\'{\\\\\"tsr\\\\\":[0,25],\\\\\"stx\\\\\":\\\\\"piped\\\\\",\\\\\"a\\\\\":{\\\\\"href\\\\\":\\\\\"./Truro_(England)\\\\\"},\\\\\"sa\\\\\":{\\\\\"href\\\\\":\\\\\"Truro (England)\\\\\"}}\\'\\\\u003ETruro\\\\u003C/a\\\\u003E\",\"marker-symbol\":\"1\",\"marker-color\":\"0000FF\",\"description\":\"\\\\u003Cspan typeof=\\\\\"mw:File\\\\\" data-parsoid=\\'{\\\\\"tsr\\\\\":[0,33],\\\\\"optList\\\\\":[{\\\\\"ck\\\\\":\\\\\"width\\\\\",\\\\\"ak\\\\\":\\\\\"300px\\\\\"}]}\\'\\\\u003E\\\\u003Ca href=\\\\\"./File:TruroCathedral.jpg\\\\\" class=\\\\\"mw-file-description\\\\\" data-parsoid=\\\\\"{}\\\\\"\\\\u003E\\\\u003Cimg resource=\\\\\"./File:TruroCathedral.jpg\\\\\" src=\\\\\"//upload.wikimedia.org/wikipedia/commons/thumb/0/01/TruroCathedral.jpg/330px-TruroCathedral.jpg\\\\\" decoding=\\\\\"async\\\\\" data-file-width=\\\\\"4320\\\\\" data-file-height=\\\\\"2880\\\\\" data-file-type=\\\\\"bitmap\\\\\" height=\\\\\"200\\\\\" width=\\\\\"300\\\\\" srcset=\\\\\"//upload.wikimedia.org/wikipedia/commons/thumb/0/01/TruroCathedral.jpg/500px-TruroCathedral.jpg 1.5x, //upload.wikimedia.org/wikipedia/commons/thumb/0/01/TruroCathedral.jpg/960px-TruroCathedral.jpg 2x\\\\\" class=\\\\\"mw-file-element\\\\\" data-parsoid=\\'{\\\\\"a\\\\\":{\\\\\"resource\\\\\":\\\\\"./File:TruroCathedral.jpg\\\\\",\\\\\"height\\\\\":\\\\\"200\\\\\",\\\\\"width\\\\\":\\\\\"300\\\\\"},\\\\\"sa\\\\\":{\\\\\"resource\\\\\":\\\\\"File:TruroCathedral.jpg\\\\\"}}\\'/\\\\u003E\\\\u003C/a\\\\u003E\\\\u003C/span\\\\u003E\"}},{\"type\":\"Feature\",\"geometry\":{\"coordinates\":[-5.0757,50.412],\"type\":\"Point\"},\"properties\":{\"marker-size\":\"medium\",\"title\":\"\\\\u003Ca rel=\\\\\"mw:WikiLink\\\\\" href=\\\\\"./Newquay\\\\\" title=\\\\\"Newquay\\\\\" data-parsoid=\\'{\\\\\"tsr\\\\\":[0,11],\\\\\"stx\\\\\":\\\\\"simple\\\\\",\\\\\"a\\\\\":{\\\\\"href\\\\\":\\\\\"./Newquay\\\\\"},\\\\\"sa\\\\\":{\\\\\"href\\\\\":\\\\\"Newquay\\\\\"}}\\'\\\\u003ENewquay\\\\u003C/a\\\\u003E\",\"marker-symbol\":\"2\",\"marker-color\":\"0000FF\",\"description\":\"\\\\u003Cspan typeof=\\\\\"mw:File\\\\\" data-parsoid=\\'{\\\\\"tsr\\\\\":[0,30],\\\\\"optList\\\\\":[{\\\\\"ck\\\\\":\\\\\"width\\\\\",\\\\\"ak\\\\\":\\\\\"300px\\\\\"}]}\\'\\\\u003E\\\\u003Ca href=\\\\\"./File:Newquayhill.jpg\\\\\" class=\\\\\"mw-file-description\\\\\" data-parsoid=\\\\\"{}\\\\\"\\\\u003E\\\\u003Cimg resource=\\\\\"./File:Newquayhill.jpg\\\\\" src=\\\\\"//upload.wikimedia.org/wikipedia/commons/thumb/f/fa/Newquayhill.jpg/330px-Newquayhill.jpg\\\\\" decoding=\\\\\"async\\\\\" data-file-width=\\\\\"3648\\\\\" data-file-height=\\\\\"2736\\\\\" data-file-type=\\\\\"bitmap\\\\\" height=\\\\\"225\\\\\" width=\\\\\"300\\\\\" srcset=\\\\\"//upload.wikimedia.org/wikipedia/commons/thumb/f/fa/Newquayhill.jpg/500px-Newquayhill.jpg 1.5x, //upload.wikimedia.org/wikipedia/commons/thumb/f/fa/Newquayhill.jpg/960px-Newquayhill.jpg 2x\\\\\" class=\\\\\"mw-file-element\\\\\" data-parsoid=\\'{\\\\\"a\\\\\":{\\\\\"resource\\\\\":\\\\\"./File:Newquayhill.jpg\\\\\",\\\\\"height\\\\\":\\\\\"225\\\\\",\\\\\"width\\\\\":\\\\\"300\\\\\"},\\\\\"sa\\\\\":{\\\\\"resource\\\\\":\\\\\"File:Newquayhill.jpg\\\\\"}}\\'/\\\\u003E\\\\u003C/a\\\\u003E\\\\u003C/span\\\\u003E\"}},{\"type\":\"Feature\",\"geometry\":{\"coordinates\":[-4.83,50.5938],\"type\":\"Point\"},\"properties\":{\"marker-size\":\"medium\",\"title\":\"\\\\u003Ca rel=\\\\\"mw:WikiLink\\\\\" href=\\\\\"./Port_Isaac\\\\\" title=\\\\\"Port Isaac\\\\\" data-parsoid=\\'{\\\\\"tsr\\\\\":[0,14],\\\\\"stx\\\\\":\\\\\"simple\\\\\",\\\\\"a\\\\\":{\\\\\"href\\\\\":\\\\\"./Port_Isaac\\\\\"},\\\\\"sa\\\\\":{\\\\\"href\\\\\":\\\\\"Port Isaac\\\\\"}}\\'\\\\u003EPort Isaac\\\\u003C/a\\\\u003E\",\"marker-symbol\":\"3\",\"marker-color\":\"0000FF\",\"description\":\"\\\\u003Cspan typeof=\\\\\"mw:File\\\\\" data-parsoid=\\'{\\\\\"tsr\\\\\":[0,59],\\\\\"optList\\\\\":[{\\\\\"ck\\\\\":\\\\\"width\\\\\",\\\\\"ak\\\\\":\\\\\"300px\\\\\"}]}\\'\\\\u003E\\\\u003Ca href=\\\\\"./File:2006-07-08.Port_Isaac,_Cornwall,_England.JPG\\\\\" class=\\\\\"mw-file-description\\\\\" data-parsoid=\\\\\"{}\\\\\"\\\\u003E\\\\u003Cimg resource=\\\\\"./File:2006-07-08.Port_Isaac,_Cornwall,_England.JPG\\\\\" src=\\\\\"//upload.wikimedia.org/wikipedia/commons/thumb/b/bc/2006-07-08.Port_Isaac%2C_Cornwall%2C_England.JPG/330px-2006-07-08.Port_Isaac%2C_Cornwall%2C_England.JPG\\\\\" decoding=\\\\\"async\\\\\" data-file-width=\\\\\"3456\\\\\" data-file-height=\\\\\"2304\\\\\" data-file-type=\\\\\"bitmap\\\\\" height=\\\\\"200\\\\\" width=\\\\\"300\\\\\" srcset=\\\\\"//upload.wikimedia.org/wikipedia/commons/thumb/b/bc/2006-07-08.Port_Isaac%2C_Cornwall%2C_England.JPG/500px-2006-07-08.Port_Isaac%2C_Cornwall%2C_England.JPG 1.5x, //upload.wikimedia.org/wikipedia/commons/thumb/b/bc/2006-07-08.Port_Isaac%2C_Cornwall%2C_England.JPG/960px-2006-07-08.Port_Isaac%2C_Cornwall%2C_England.JPG 2x\\\\\" class=\\\\\"mw-file-element\\\\\" data-parsoid=\\'{\\\\\"a\\\\\":{\\\\\"resource\\\\\":\\\\\"./File:2006-07-08.Port_Isaac,_Cornwall,_England.JPG\\\\\",\\\\\"height\\\\\":\\\\\"200\\\\\",\\\\\"width\\\\\":\\\\\"300\\\\\"},\\\\\"sa\\\\\":{\\\\\"resource\\\\\":\\\\\"File:2006-07-08.Port Isaac, Cornwall, England.JPG\\\\\"}}\\'/\\\\u003E\\\\u003C/a\\\\u003E\\\\u003C/span\\\\u003E\"}},{\"type\":\"Feature\",\"geometry\":{\"coordinates\":[-4.75,50.663],\"type\":\"Point\"},\"properties\":{\"marker-size\":\"medium\",\"title\":\"\\\\u003Ca rel=\\\\\"mw:WikiLink\\\\\" href=\\\\\"./Tintagel\\\\\" title=\\\\\"Tintagel\\\\\" data-parsoid=\\'{\\\\\"tsr\\\\\":[0,12],\\\\\"stx\\\\\":\\\\\"simple\\\\\",\\\\\"a\\\\\":{\\\\\"href\\\\\":\\\\\"./Tintagel\\\\\"},\\\\\"sa\\\\\":{\\\\\"href\\\\\":\\\\\"Tintagel\\\\\"}}\\'\\\\u003ETintagel\\\\u003C/a\\\\u003E\",\"marker-symbol\":\"4\",\"marker-color\":\"0000FF\",\"description\":\"\\\\u003Cspan typeof=\\\\\"mw:File\\\\\" data-parsoid=\\'{\\\\\"tsr\\\\\":[0,36],\\\\\"optList\\\\\":[{\\\\\"ck\\\\\":\\\\\"width\\\\\",\\\\\"ak\\\\\":\\\\\"300px\\\\\"}]}\\'\\\\u003E\\\\u003Ca href=\\\\\"./File:RemainsofTintagel.jpg\\\\\" class=\\\\\"mw-file-description\\\\\" data-parsoid=\\\\\"{}\\\\\"\\\\u003E\\\\u003Cimg resource=\\\\\"./File:RemainsofTintagel.jpg\\\\\" src=\\\\\"//upload.wikimedia.org/wikipedia/commons/thumb/7/74/RemainsofTintagel.jpg/330px-RemainsofTintagel.jpg\\\\\" decoding=\\\\\"async\\\\\" data-file-width=\\\\\"2032\\\\\" data-file-height=\\\\\"1524\\\\\" data-file-type=\\\\\"bitmap\\\\\" height=\\\\\"225\\\\\" width=\\\\\"300\\\\\" srcset=\\\\\"//upload.wikimedia.org/wikipedia/commons/thumb/7/74/RemainsofTintagel.jpg/500px-RemainsofTintagel.jpg 1.5x, //upload.wikimedia.org/wikipedia/commons/thumb/7/74/RemainsofTintagel.jpg/960px-RemainsofTintagel.jpg 2x\\\\\" class=\\\\\"mw-file-element\\\\\" data-parsoid=\\'{\\\\\"a\\\\\":{\\\\\"resource\\\\\":\\\\\"./File:RemainsofTintagel.jpg\\\\\",\\\\\"height\\\\\":\\\\\"225\\\\\",\\\\\"width\\\\\":\\\\\"300\\\\\"},\\\\\"sa\\\\\":{\\\\\"resource\\\\\":\\\\\"File:RemainsofTintagel.jpg\\\\\"}}\\'/\\\\u003E\\\\u003C/a\\\\u003E\\\\u003C/span\\\\u003E\"}},{\"type\":\"Feature\",\"geometry\":{\"coordinates\":[-5.07,50.15],\"type\":\"Point\"},\"properties\":{\"marker-size\":\"medium\",\"title\":\"\\\\u003Ca rel=\\\\\"mw:WikiLink\\\\\" href=\\\\\"./Falmouth_(Cornwall)\\\\\" title=\\\\\"Falmouth (Cornwall)\\\\\" data-parsoid=\\'{\\\\\"tsr\\\\\":[0,32],\\\\\"stx\\\\\":\\\\\"piped\\\\\",\\\\\"a\\\\\":{\\\\\"href\\\\\":\\\\\"./Falmouth_(Cornwall)\\\\\"},\\\\\"sa\\\\\":{\\\\\"href\\\\\":\\\\\"Falmouth (Cornwall)\\\\\"}}\\'\\\\u003EFalmouth\\\\u003C/a\\\\u003E\",\"marker-symbol\":\"5\",\"marker-color\":\"0000FF\",\"description\":\"\\\\u003Cspan typeof=\\\\\"mw:File\\\\\" data-parsoid=\\'{\\\\\"tsr\\\\\":[0,36],\\\\\"optList\\\\\":[{\\\\\"ck\\\\\":\\\\\"width\\\\\",\\\\\"ak\\\\\":\\\\\"300px\\\\\"}]}\\'\\\\u003E\\\\u003Ca href=\\\\\"./File:Falmouth_Cornwall.jpg\\\\\" class=\\\\\"mw-file-description\\\\\" data-parsoid=\\\\\"{}\\\\\"\\\\u003E\\\\u003Cimg resource=\\\\\"./File:Falmouth_Cornwall.jpg\\\\\" src=\\\\\"//upload.wikimedia.org/wikipedia/commons/thumb/3/32/Falmouth_Cornwall.jpg/330px-Falmouth_Cornwall.jpg\\\\\" decoding=\\\\\"async\\\\\" data-file-width=\\\\\"1600\\\\\" data-file-height=\\\\\"1200\\\\\" data-file-type=\\\\\"bitmap\\\\\" height=\\\\\"225\\\\\" width=\\\\\"300\\\\\" srcset=\\\\\"//upload.wikimedia.org/wikipedia/commons/thumb/3/32/Falmouth_Cornwall.jpg/500px-Falmouth_Cornwall.jpg 1.5x, //upload.wikimedia.org/wikipedia/commons/thumb/3/32/Falmouth_Cornwall.jpg/960px-Falmouth_Cornwall.jpg 2x\\\\\" class=\\\\\"mw-file-element\\\\\" data-parsoid=\\'{\\\\\"a\\\\\":{\\\\\"resource\\\\\":\\\\\"./File:Falmouth_Cornwall.jpg\\\\\",\\\\\"height\\\\\":\\\\\"225\\\\\",\\\\\"width\\\\\":\\\\\"300\\\\\"},\\\\\"sa\\\\\":{\\\\\"resource\\\\\":\\\\\"File:Falmouth Cornwall.jpg\\\\\"}}\\'/\\\\u003E\\\\u003C/a\\\\u003E\\\\u003C/span\\\\u003E\"}},{\"type\":\"Feature\",\"geometry\":{\"coordinates\":[-4.795,50.338],\"type\":\"Point\"},\"properties\":{\"marker-size\":\"medium\",\"title\":\"\\\\u003Ca rel=\\\\\"mw:WikiLink\\\\\" href=\\\\\"./St_Austell\\\\\" title=\\\\\"St Austell\\\\\" data-parsoid=\\'{\\\\\"tsr\\\\\":[0,14],\\\\\"stx\\\\\":\\\\\"simple\\\\\",\\\\\"a\\\\\":{\\\\\"href\\\\\":\\\\\"./St_Austell\\\\\"},\\\\\"sa\\\\\":{\\\\\"href\\\\\":\\\\\"St Austell\\\\\"}}\\'\\\\u003ESt Austell\\\\u003C/a\\\\u003E\",\"marker-symbol\":\"6\",\"marker-color\":\"0000FF\",\"description\":\"\\\\u003Cspan typeof=\\\\\"mw:File\\\\\" data-parsoid=\\'{\\\\\"tsr\\\\\":[0,76],\\\\\"optList\\\\\":[{\\\\\"ck\\\\\":\\\\\"width\\\\\",\\\\\"ak\\\\\":\\\\\"300px\\\\\"}]}\\'\\\\u003E\\\\u003Ca href=\\\\\"./File:High_Cross_Street,_St_Austell_-_geograph.org.uk_-_1313370.jpg\\\\\" class=\\\\\"mw-file-description\\\\\" data-parsoid=\\\\\"{}\\\\\"\\\\u003E\\\\u003Cimg resource=\\\\\"./File:High_Cross_Street,_St_Austell_-_geograph.org.uk_-_1313370.jpg\\\\\" src=\\\\\"//upload.wikimedia.org/wikipedia/commons/thumb/0/04/High_Cross_Street%2C_St_Austell_-_geograph.org.uk_-_1313370.jpg/330px-High_Cross_Street%2C_St_Austell_-_geograph.org.uk_-_1313370.jpg\\\\\" decoding=\\\\\"async\\\\\" data-file-width=\\\\\"640\\\\\" data-file-height=\\\\\"480\\\\\" data-file-type=\\\\\"bitmap\\\\\" height=\\\\\"225\\\\\" width=\\\\\"300\\\\\" srcset=\\\\\"//upload.wikimedia.org/wikipedia/commons/thumb/0/04/High_Cross_Street%2C_St_Austell_-_geograph.org.uk_-_1313370.jpg/500px-High_Cross_Street%2C_St_Austell_-_geograph.org.uk_-_1313370.jpg 1.5x, //upload.wikimedia.org/wikipedia/commons/thumb/0/04/High_Cross_Street%2C_St_Austell_-_geograph.org.uk_-_1313370.jpg/600px-High_Cross_Street%2C_St_Austell_-_geograph.org.uk_-_1313370.jpg 2x\\\\\" class=\\\\\"mw-file-element\\\\\" data-parsoid=\\'{\\\\\"a\\\\\":{\\\\\"resource\\\\\":\\\\\"./File:High_Cross_Street,_St_Austell_-_geograph.org.uk_-_1313370.jpg\\\\\",\\\\\"height\\\\\":\\\\\"225\\\\\",\\\\\"width\\\\\":\\\\\"300\\\\\"},\\\\\"sa\\\\\":{\\\\\"resource\\\\\":\\\\\"File:High Cross Street, St Austell - geograph.org.uk - 1313370.jpg\\\\\"}}\\'/\\\\u003E\\\\u003C/a\\\\u003E\\\\u003C/span\\\\u003E\"}},{\"type\":\"Feature\",\"geometry\":{\"coordinates\":[-5.537,50.119],\"type\":\"Point\"},\"properties\":{\"marker-size\":\"medium\",\"title\":\"\\\\u003Ca rel=\\\\\"mw:WikiLink\\\\\" href=\\\\\"./Penzance\\\\\" title=\\\\\"Penzance\\\\\" data-parsoid=\\'{\\\\\"tsr\\\\\":[0,12],\\\\\"stx\\\\\":\\\\\"simple\\\\\",\\\\\"a\\\\\":{\\\\\"href\\\\\":\\\\\"./Penzance\\\\\"},\\\\\"sa\\\\\":{\\\\\"href\\\\\":\\\\\"Penzance\\\\\"}}\\'\\\\u003EPenzance\\\\u003C/a\\\\u003E\",\"marker-symbol\":\"7\",\"marker-color\":\"0000FF\",\"description\":\"\\\\u003Cspan typeof=\\\\\"mw:File\\\\\" data-parsoid=\\'{\\\\\"tsr\\\\\":[0,36],\\\\\"optList\\\\\":[{\\\\\"ck\\\\\":\\\\\"width\\\\\",\\\\\"ak\\\\\":\\\\\"300px\\\\\"}]}\\'\\\\u003E\\\\u003Ca href=\\\\\"./File:PZHARBOURPANORAMA.jpg\\\\\" class=\\\\\"mw-file-description\\\\\" data-parsoid=\\\\\"{}\\\\\"\\\\u003E\\\\u003Cimg resource=\\\\\"./File:PZHARBOURPANORAMA.jpg\\\\\" src=\\\\\"//upload.wikimedia.org/wikipedia/commons/thumb/3/33/PZHARBOURPANORAMA.jpg/330px-PZHARBOURPANORAMA.jpg\\\\\" decoding=\\\\\"async\\\\\" data-file-width=\\\\\"1600\\\\\" data-file-height=\\\\\"633\\\\\" data-file-type=\\\\\"bitmap\\\\\" height=\\\\\"119\\\\\" width=\\\\\"300\\\\\" srcset=\\\\\"//upload.wikimedia.org/wikipedia/commons/thumb/3/33/PZHARBOURPANORAMA.jpg/500px-PZHARBOURPANORAMA.jpg 1.5x, //upload.wikimedia.org/wikipedia/commons/thumb/3/33/PZHARBOURPANORAMA.jpg/960px-PZHARBOURPANORAMA.jpg 2x\\\\\" class=\\\\\"mw-file-element\\\\\" data-parsoid=\\'{\\\\\"a\\\\\":{\\\\\"resource\\\\\":\\\\\"./File:PZHARBOURPANORAMA.jpg\\\\\",\\\\\"height\\\\\":\\\\\"119\\\\\",\\\\\"width\\\\\":\\\\\"300\\\\\"},\\\\\"sa\\\\\":{\\\\\"resource\\\\\":\\\\\"File:PZHARBOURPANORAMA.jpg\\\\\"}}\\'/\\\\u003E\\\\u003C/a\\\\u003E\\\\u003C/span\\\\u003E\"}},{\"type\":\"Feature\",\"geometry\":{\"coordinates\":[-5.48,50.211],\"type\":\"Point\"},\"properties\":{\"marker-size\":\"medium\",\"title\":\"\\\\u003Ca rel=\\\\\"mw:WikiLink\\\\\" href=\\\\\"./St_Ives\\\\\" title=\\\\\"St Ives\\\\\" data-parsoid=\\'{\\\\\"tsr\\\\\":[0,11],\\\\\"stx\\\\\":\\\\\"simple\\\\\",\\\\\"a\\\\\":{\\\\\"href\\\\\":\\\\\"./St_Ives\\\\\"},\\\\\"sa\\\\\":{\\\\\"href\\\\\":\\\\\"St Ives\\\\\"}}\\'\\\\u003ESt Ives\\\\u003C/a\\\\u003E\",\"marker-symbol\":\"8\",\"marker-color\":\"0000FF\",\"description\":\"\\\\u003Cspan typeof=\\\\\"mw:File\\\\\" data-parsoid=\\'{\\\\\"tsr\\\\\":[0,26],\\\\\"optList\\\\\":[{\\\\\"ck\\\\\":\\\\\"width\\\\\",\\\\\"ak\\\\\":\\\\\"300px\\\\\"}]}\\'\\\\u003E\\\\u003Ca href=\\\\\"./File:Stives1.jpg\\\\\" class=\\\\\"mw-file-description\\\\\" data-parsoid=\\\\\"{}\\\\\"\\\\u003E\\\\u003Cimg resource=\\\\\"./File:Stives1.jpg\\\\\" src=\\\\\"//upload.wikimedia.org/wikipedia/commons/thumb/5/54/Stives1.jpg/330px-Stives1.jpg\\\\\" decoding=\\\\\"async\\\\\" data-file-width=\\\\\"800\\\\\" data-file-height=\\\\\"600\\\\\" data-file-type=\\\\\"bitmap\\\\\" height=\\\\\"225\\\\\" width=\\\\\"300\\\\\" srcset=\\\\\"//upload.wikimedia.org/wikipedia/commons/thumb/5/54/Stives1.jpg/500px-Stives1.jpg 1.5x, //upload.wikimedia.org/wikipedia/commons/thumb/5/54/Stives1.jpg/600px-Stives1.jpg 2x\\\\\" class=\\\\\"mw-file-element\\\\\" data-parsoid=\\'{\\\\\"a\\\\\":{\\\\\"resource\\\\\":\\\\\"./File:Stives1.jpg\\\\\",\\\\\"height\\\\\":\\\\\"225\\\\\",\\\\\"width\\\\\":\\\\\"300\\\\\"},\\\\\"sa\\\\\":{\\\\\"resource\\\\\":\\\\\"File:Stives1.jpg\\\\\"}}\\'/\\\\u003E\\\\u003C/a\\\\u003E\\\\u003C/span\\\\u003E\"}},{\"type\":\"Feature\",\"geometry\":{\"coordinates\":[-5.539,50.083],\"type\":\"Point\"},\"properties\":{\"marker-size\":\"medium\",\"title\":\"\\\\u003Ca rel=\\\\\"mw:WikiLink\\\\\" href=\\\\\"./Mousehole\\\\\" title=\\\\\"Mousehole\\\\\" data-parsoid=\\'{\\\\\"tsr\\\\\":[0,13],\\\\\"stx\\\\\":\\\\\"simple\\\\\",\\\\\"a\\\\\":{\\\\\"href\\\\\":\\\\\"./Mousehole\\\\\"},\\\\\"sa\\\\\":{\\\\\"href\\\\\":\\\\\"Mousehole\\\\\"}}\\'\\\\u003EMousehole\\\\u003C/a\\\\u003E\",\"marker-symbol\":\"9\",\"marker-color\":\"0000FF\",\"description\":\"\\\\u003Cspan typeof=\\\\\"mw:File\\\\\" data-parsoid=\\'{\\\\\"tsr\\\\\":[0,31],\\\\\"optList\\\\\":[{\\\\\"ck\\\\\":\\\\\"width\\\\\",\\\\\"ak\\\\\":\\\\\"300px\\\\\"}]}\\'\\\\u003E\\\\u003Ca href=\\\\\"./File:Mousehole_08.jpg\\\\\" class=\\\\\"mw-file-description\\\\\" data-parsoid=\\\\\"{}\\\\\"\\\\u003E\\\\u003Cimg resource=\\\\\"./File:Mousehole_08.jpg\\\\\" src=\\\\\"//upload.wikimedia.org/wikipedia/commons/thumb/4/4e/Mousehole_08.jpg/330px-Mousehole_08.jpg\\\\\" decoding=\\\\\"async\\\\\" data-file-width=\\\\\"4098\\\\\" data-file-height=\\\\\"3074\\\\\" data-file-type=\\\\\"bitmap\\\\\" height=\\\\\"225\\\\\" width=\\\\\"300\\\\\" srcset=\\\\\"//upload.wikimedia.org/wikipedia/commons/thumb/4/4e/Mousehole_08.jpg/500px-Mousehole_08.jpg 1.5x, //upload.wikimedia.org/wikipedia/commons/thumb/4/4e/Mousehole_08.jpg/960px-Mousehole_08.jpg 2x\\\\\" class=\\\\\"mw-file-element\\\\\" data-parsoid=\\'{\\\\\"a\\\\\":{\\\\\"resource\\\\\":\\\\\"./File:Mousehole_08.jpg\\\\\",\\\\\"height\\\\\":\\\\\"225\\\\\",\\\\\"width\\\\\":\\\\\"300\\\\\"},\\\\\"sa\\\\\":{\\\\\"resource\\\\\":\\\\\"File:Mousehole 08.jpg\\\\\"}}\\'/\\\\u003E\\\\u003C/a\\\\u003E\\\\u003C/span\\\\u003E\"}}],\"vicinity\":[{\"type\":\"Feature\",\"geometry\":{\"coordinates\":[-5.716111,50.068611],\"type\":\"Point\"},\"properties\":{\"marker-size\":\"medium\",\"title\":\"\\\\u003Ca rel=\\\\\"mw:WikiLink\\\\\" href=\\\\\"./Land\\'s_End\\\\\" title=\\\\\"Land\\'s End\\\\\" data-parsoid=\\'{\\\\\"tsr\\\\\":[0,14],\\\\\"stx\\\\\":\\\\\"simple\\\\\",\\\\\"a\\\\\":{\\\\\"href\\\\\":\\\\\"./Land\\\\u0026apos;s_End\\\\\"},\\\\\"sa\\\\\":{\\\\\"href\\\\\":\\\\\"Land\\\\u0026apos;s End\\\\\"}}\\'\\\\u003ELand\\'s End\\\\u003C/a\\\\u003E\",\"marker-symbol\":\"1\",\"marker-color\":\"800000\",\"description\":\"\\\\u003Cspan typeof=\\\\\"mw:File\\\\\" data-parsoid=\\'{\\\\\"tsr\\\\\":[0,31],\\\\\"optList\\\\\":[{\\\\\"ck\\\\\":\\\\\"width\\\\\",\\\\\"ak\\\\\":\\\\\"300px\\\\\"}]}\\'\\\\u003E\\\\u003Ca href=\\\\\"./File:Lands_End_UK.jpg\\\\\" class=\\\\\"mw-file-description\\\\\" data-parsoid=\\\\\"{}\\\\\"\\\\u003E\\\\u003Cimg resource=\\\\\"./File:Lands_End_UK.jpg\\\\\" src=\\\\\"//upload.wikimedia.org/wikipedia/commons/thumb/2/2a/Lands_End_UK.jpg/330px-Lands_End_UK.jpg\\\\\" decoding=\\\\\"async\\\\\" data-file-width=\\\\\"3072\\\\\" data-file-height=\\\\\"1948\\\\\" data-file-type=\\\\\"bitmap\\\\\" height=\\\\\"190\\\\\" width=\\\\\"300\\\\\" srcset=\\\\\"//upload.wikimedia.org/wikipedia/commons/thumb/2/2a/Lands_End_UK.jpg/500px-Lands_End_UK.jpg 1.5x, //upload.wikimedia.org/wikipedia/commons/thumb/2/2a/Lands_End_UK.jpg/960px-Lands_End_UK.jpg 2x\\\\\" class=\\\\\"mw-file-element\\\\\" data-parsoid=\\'{\\\\\"a\\\\\":{\\\\\"resource\\\\\":\\\\\"./File:Lands_End_UK.jpg\\\\\",\\\\\"height\\\\\":\\\\\"190\\\\\",\\\\\"width\\\\\":\\\\\"300\\\\\"},\\\\\"sa\\\\\":{\\\\\"resource\\\\\":\\\\\"File:Lands End UK.jpg\\\\\"}}\\'/\\\\u003E\\\\u003C/a\\\\u003E\\\\u003C/span\\\\u003E\"}},{\"type\":\"Feature\",\"geometry\":{\"coordinates\":[-5.2025,49.9687],\"type\":\"Point\"},\"properties\":{\"marker-size\":\"medium\",\"title\":\"\\\\u003Ca rel=\\\\\"mw:WikiLink\\\\\" href=\\\\\"./Lizard\\\\\" title=\\\\\"Lizard\\\\\" data-parsoid=\\'{\\\\\"tsr\\\\\":[0,10],\\\\\"stx\\\\\":\\\\\"simple\\\\\",\\\\\"a\\\\\":{\\\\\"href\\\\\":\\\\\"./Lizard\\\\\"},\\\\\"sa\\\\\":{\\\\\"href\\\\\":\\\\\"Lizard\\\\\"}}\\'\\\\u003ELizard\\\\u003C/a\\\\u003E\",\"marker-symbol\":\"2\",\"marker-color\":\"800000\",\"description\":\"\\\\u003Cspan typeof=\\\\\"mw:File\\\\\" data-parsoid=\\'{\\\\\"tsr\\\\\":[0,42],\\\\\"optList\\\\\":[{\\\\\"ck\\\\\":\\\\\"width\\\\\",\\\\\"ak\\\\\":\\\\\"300px\\\\\"}]}\\'\\\\u003E\\\\u003Ca href=\\\\\"./File:LizardVillageCornwallUK.jpg\\\\\" class=\\\\\"mw-file-description\\\\\" data-parsoid=\\\\\"{}\\\\\"\\\\u003E\\\\u003Cimg resource=\\\\\"./File:LizardVillageCornwallUK.jpg\\\\\" src=\\\\\"//upload.wikimedia.org/wikipedia/commons/thumb/d/d3/LizardVillageCornwallUK.jpg/330px-LizardVillageCornwallUK.jpg\\\\\" decoding=\\\\\"async\\\\\" data-file-width=\\\\\"640\\\\\" data-file-height=\\\\\"440\\\\\" data-file-type=\\\\\"bitmap\\\\\" height=\\\\\"206\\\\\" width=\\\\\"300\\\\\" srcset=\\\\\"//upload.wikimedia.org/wikipedia/commons/thumb/d/d3/LizardVillageCornwallUK.jpg/500px-LizardVillageCornwallUK.jpg 1.5x, //upload.wikimedia.org/wikipedia/commons/thumb/d/d3/LizardVillageCornwallUK.jpg/600px-LizardVillageCornwallUK.jpg 2x\\\\\" class=\\\\\"mw-file-element\\\\\" data-parsoid=\\'{\\\\\"a\\\\\":{\\\\\"resource\\\\\":\\\\\"./File:LizardVillageCornwallUK.jpg\\\\\",\\\\\"height\\\\\":\\\\\"206\\\\\",\\\\\"width\\\\\":\\\\\"300\\\\\"},\\\\\"sa\\\\\":{\\\\\"resource\\\\\":\\\\\"File:LizardVillageCornwallUK.jpg\\\\\"}}\\'/\\\\u003E\\\\u003C/a\\\\u003E\\\\u003C/span\\\\u003E\"}},{\"type\":\"Feature\",\"geometry\":{\"coordinates\":[-4.6108,50.5654],\"type\":\"Point\"},\"properties\":{\"marker-size\":\"medium\",\"title\":\"\\\\u003Ca rel=\\\\\"mw:WikiLink\\\\\" href=\\\\\"./Bodmin_Moor\\\\\" title=\\\\\"Bodmin Moor\\\\\" data-parsoid=\\'{\\\\\"tsr\\\\\":[0,15],\\\\\"stx\\\\\":\\\\\"simple\\\\\",\\\\\"a\\\\\":{\\\\\"href\\\\\":\\\\\"./Bodmin_Moor\\\\\"},\\\\\"sa\\\\\":{\\\\\"href\\\\\":\\\\\"Bodmin Moor\\\\\"}}\\'\\\\u003EBodmin Moor\\\\u003C/a\\\\u003E\",\"marker-symbol\":\"3\",\"marker-color\":\"800000\",\"description\":\"\\\\u003Cspan typeof=\\\\\"mw:File\\\\\" data-parsoid=\\'{\\\\\"tsr\\\\\":[0,27],\\\\\"optList\\\\\":[{\\\\\"ck\\\\\":\\\\\"width\\\\\",\\\\\"ak\\\\\":\\\\\"300px\\\\\"}]}\\'\\\\u003E\\\\u003Ca href=\\\\\"./File:RoughTor.jpg\\\\\" class=\\\\\"mw-file-description\\\\\" data-parsoid=\\\\\"{}\\\\\"\\\\u003E\\\\u003Cimg resource=\\\\\"./File:RoughTor.jpg\\\\\" src=\\\\\"//upload.wikimedia.org/wikipedia/commons/thumb/3/3a/RoughTor.jpg/330px-RoughTor.jpg\\\\\" decoding=\\\\\"async\\\\\" data-file-width=\\\\\"960\\\\\" data-file-height=\\\\\"692\\\\\" data-file-type=\\\\\"bitmap\\\\\" height=\\\\\"216\\\\\" width=\\\\\"300\\\\\" srcset=\\\\\"//upload.wikimedia.org/wikipedia/commons/thumb/3/3a/RoughTor.jpg/500px-RoughTor.jpg 1.5x, //upload.wikimedia.org/wikipedia/commons/thumb/3/3a/RoughTor.jpg/960px-RoughTor.jpg 2x\\\\\" class=\\\\\"mw-file-element\\\\\" data-parsoid=\\'{\\\\\"a\\\\\":{\\\\\"resource\\\\\":\\\\\"./File:RoughTor.jpg\\\\\",\\\\\"height\\\\\":\\\\\"216\\\\\",\\\\\"width\\\\\":\\\\\"300\\\\\"},\\\\\"sa\\\\\":{\\\\\"resource\\\\\":\\\\\"File:RoughTor.jpg\\\\\"}}\\'/\\\\u003E\\\\u003C/a\\\\u003E\\\\u003C/span\\\\u003E\"}}],\"around\":[],\"buy\":[],\"do\":[],\"event\":[],\"drink\":[],\"eat\":[],\"go\":[],\"listing\":[],\"other\":[],\"see\":[],\"sleep\":[],\"view\":[],\"black\":[],\"blue\":[],\"brown\":[],\"chocolate\":[],\"forestgreen\":[],\"gold\":[],\"gray\":[],\"grey\":[],\"lime\":[],\"magenta\":[],\"maroon\":[],\"mediumaquamarine\":[],\"navy\":[],\"red\":[],\"royalblue\":[],\"orange\":[],\"silver\":[],\"steelblue\":[],\"teal\":[],\"fuchsia\":[],\"route1\":[],\"route2\":[],\"route3\":[],\"route4\":[],\"route5\":[]},\"wgPageParseReport\":{\"limitreport\":{\"cputime\":\"1.378\",\"walltime\":\"1.719\",\"ppvisitednodes\":{\"value\":7865,\"limit\":1000000},\"postexpandincludesize\":{\"value\":78834,\"limit\":2097152},\"templateargumentsize\":{\"value\":17298,\"limit\":2097152},\"expansiondepth\":{\"value\":21,\"limit\":100},\"expensivefunctioncount\":{\"value\":37,\"limit\":500},\"unstrip-depth\":{\"value\":0,\"limit\":20},\"unstrip-size\":{\"value\":7700,\"limit\":5000000},\"entityaccesscount\":{\"value\":30,\"limit\":500},\"timingprofile\":[\"100.00% 1445.246      1 -total\",\" 24.16%  349.131     32 Template:Marker\",\" 15.38%  222.298     20 Template:Listing\",\" 14.86%  214.705     19 Template:Eat\",\" 10.25%  148.161      1 Template:Pagebanner\",\"  8.38%  121.091      1 Template:CountryData2HTML\",\"  4.77%   68.970      1 Template:Rint\",\"  4.23%   61.127      8 Template:Convert\",\"  2.90%   41.844      6 Template:Mile\",\"  2.47%   35.749      5 Template:IATA\"]},\"scribunto\":{\"limitreport-timeusage\":{\"value\":\"0.354\",\"limit\":\"10.000\"},\"limitreport-memusage\":{\"value\":6431197,\"limit\":52428800},\"limitreport-logs\":\"entity: Q23148\\\\n\"},\"cachereport\":{\"origin\":\"mw-web.codfw.main-74954c4898-7mkjh\",\"timestamp\":\"20250517114057\",\"ttl\":2592000,\"transientcontent\":false}}});}); \\n {\"@context\":\"https:\\\\/\\\\/schema.org\",\"@type\":\"Article\",\"name\":\"Cornwall\",\"url\":\"https:\\\\/\\\\/en.wikivoyage.org\\\\/wiki\\\\/Cornwall\",\"sameAs\":\"http:\\\\/\\\\/www.wikidata.org\\\\/entity\\\\/Q23148\",\"mainEntity\":\"http:\\\\/\\\\/www.wikidata.org\\\\/entity\\\\/Q23148\",\"author\":{\"@type\":\"Organization\",\"name\":\"Contributors to Wikimedia projects\"},\"publisher\":{\"@type\":\"Organization\",\"name\":\"Wikimedia Foundation, Inc.\",\"logo\":{\"@type\":\"ImageObject\",\"url\":\"https:\\\\/\\\\/www.wikimedia.org\\\\/static\\\\/images\\\\/wmf-hor-googpub.png\"}},\"datePublished\":\"2003-11-10T16:41:49Z\",\"dateModified\":\"2025-05-13T21:00:09Z\",\"image\":\"https:\\\\/\\\\/upload.wikimedia.org\\\\/wikipedia\\\\/commons\\\\/b\\\\/b8\\\\/Flag_of_Cornwall.svg\",\"headline\":\"historic county of England; Celtic nation\"}'),\n",
       " Document(id='ea0174c9-4b1c-42ac-8e5f-115e1c878104', metadata={'Header 2': 'Contents'}, page_content='Contents \\n \\n \\n \\n \\n \\n \\n \\n 1   Towns and villages \\n \\n \\n \\n \\n \\n \\n 2   Other destinations \\n \\n \\n \\n \\n \\n \\n 3   Understand \\n \\n \\n \\n \\n \\n \\n 4   Get in \\n \\n \\n \\n \\n 4.1   By train \\n \\n \\n \\n \\n \\n \\n 4.2   By car \\n \\n \\n \\n \\n \\n \\n 4.3   By plane \\n \\n \\n \\n \\n \\n \\n \\n \\n 5   Get around \\n \\n \\n \\n \\n 5.1   By bus \\n \\n \\n \\n \\n \\n \\n 5.2   By train \\n \\n \\n \\n \\n \\n \\n \\n \\n 6   See \\n \\n \\n \\n \\n 6.1   National Trust properties \\n \\n \\n \\n \\n \\n \\n \\n \\n 7   Do \\n \\n \\n \\n \\n 7.1   Festivals \\n \\n \\n \\n \\n \\n \\n \\n \\n 8   Drink \\n \\n \\n \\n \\n \\n \\n 9   Stay safe \\n \\n \\n \\n \\n \\n \\n 10   Go next \\n \\n \\n \\n \\n \\n \\n \\n \\n \\n \\n \\n \\n \\n North Cornwall  is in  Cornwall . It includes much of the Cornish coast along the Celtic Sea and some top surfing areas.'),\n",
       " Document(id='da97963a-6c54-4c86-872c-927afd317678', metadata={'Header 2': 'Sleep'}, page_content=\"Sleep \\n [ edit ] \\n \\n Main article:  Sleep \\n Cornwall has a large range of tourist accommodation, ranging from 5-star luxury  hotels  to  B&Bs , guest houses and  hostels . There is also a large number of serviced holiday cottages that can be rented from anything from a long weekend to upwards of a month.  \\n There are Tourist Information Centres (TICs) in most major towns. These are normally run by the local council and can check the latest availability on the day to save having to phone around a number of B&Bs and guest houses. They are unbiased and won't express an opinion on accommodations, more than giving its tourist board rating and facilities.\"),\n",
       " Document(id='baba2fb6-c0c4-4edd-a98a-ddfbacff7055', metadata={'Header 2': 'See'}, page_content=\"See \\n [ edit ] \\n \\n The Cheesewring at Minions,  Bodmin Moor . \\n St. Michael's Mount lies offshore close to Penzance. \\n Cornwall boasts many attractions for the traveller, many lying outside of cities and towns amidst the Cornish landscape: \\n \\n Within the 208 m² of the  Bodmin Moor , is  King Arthur's Hall , a megalithic monument and  Brown Willy , the highest point in Cornwall at 417 m (1,368 ft).  Dozmary Pool  is a small beautiful lake where, according to legend, King Arthur was entrusted with the sword Excalibur. There is also a reputed  Beast of the Moor , a large wild-cat that haunts and stalks at night, but is similar in fantasy to the Loch Ness Monster, in that no one can prove it exists, though sightings, theories and track-marks abound. \\n The  Eden Project , near  St Austell , a fabulous collection of flora from all over the planet housed in two 'space age' transparent domes. \\n The  Lost Gardens of Heligan  - near  Mevagissey ,  80 acres (32 hectares)  of stunning landscaped scenery with a huge complex of walled flower and vegetable gardens \\n \\n Tintagel Castle  legendary birthplace of the famous King Arthur and seat of the kings of Cornwall. Earl Richard of Cornwall and King of the Romans built the present medieval castle at the site. Ongoing excavations are revealing a Cornish royal seat of the period 400 to 700 AD. \\n \\n Minack Theatre  is an outdoor theatre built by hand into the side of cliff over looking the ocean; between the villages of Porthcurno and  St Levan , the theatre includes a museum and offers tours when there are no performances. \\n The  Tate  St Ives , one of the four Tate galleries in the UK - Modern Art \\n The  National Maritime Museum   Falmouth . Home of the National Maritime Museum's small boat collection and other exhibits. \\n \\n Mining heritage  is evident across the county in the remnants of former tin and copper mines as featured in the 1975 and 2015 TV adaptations of Winston Graham's  Poldark.  A large selection of Industrial Heritage attractions includes:  Geevor Tin Mine ,  Poldark Mine ,  King Edward Mine  and Crown Hill Mines,  Botallack . \\n \\n Communication heritage : due to its geographical location, the county formed the backdrop to major advancements in communication. Visitor sites are  The Marconi Centre  and the  Telegraph Museum  at Porthcurno. Rising above the Lizard Peninsula can also be seen the large dishes that form part of the Goonhilly Satellite Earth station. \\n \\n \\n National Trust properties \\n [ edit ] \\n \\n \\n \\n Antony House  near Torpoint: an 18th-century house set within a magnificent landscape garden, still home to the Carew Pole family. \\n \\n St Michael's Mount , Marazion, near  Penzance : a rocky island crowned by medieval church and castle, home to a living community. \\n \\n Cotehele - St Dominick , near  Saltash : an atmospheric Tudor house with Medieval roots, a mill on a historic quay, a glorious garden with valley views and an expansive estate to explore. \\n \\n Godrevy - Gwithian , near  Hayle : stunning mix of long sandy beaches, high cliffs, and smugglers coves. \\n \\n Levant Mine and Beam Engine, National Trust property at Pendeen \\n \\n \\n Lanhydrock  near  Bodmin : a magnificent late Victorian country house with garden and wooded estate. \\n \\n Trerice - Kestle Mill , near  Newquay : an Elizabethan manor house with fine interiors and delightful garden. \\n \\n East Pool Mine , Pool near  Redruth : an impressive Cornish beam engine and industrial heritage at the heart of the Cornish Mining World Heritage Site. \\n \\n Levant Mine and Beam Engine   Pendeen \\xa0 : high-up on the exposed cliffs of the 'Tin Coast' and part of the Cornish Mining World Heritage Site. At its heart, the restored 1840s beam engine running on steam. \\n \\n Tintagel   Old Post Office : one of the Trust's most delightful medieval buildings, enhanced by a cottage garden. \\n \\n Hawker's Hut :  the smallest National Trust property in the country in Morwenstow north of  Bude . \\n \\n The Hurlers  (Cornish: Hr Carwynnen): a group of three stone circles similar to but smaller than Stonehenge, on the eastern flank of  Bodmin  Moor. Each stellar alignment was given with tabulated declinations at a date in the range of 2100 to 1500 BC! \\n \\n \\n National Trust gardens \\n [ edit ] \\n \\n \\n \\n Trelissick, Feock , near  Truro , is a welcoming house and garden set in an estate with stunning maritime views and lovely woodland walks. \\n \\n Glendurgan, Mawnan Smith , near  Falmouth , is a historic and exotic wooded valley garden leading down to the River Helford. \\n \\n Trengwainton ,  Madron   is a sheltered garden bursting with exotic trees and shrubs. \\n \\n Kynance Cove offers great views towards the Lizard.\")]"
      ]
     },
     "execution_count": 31,
     "metadata": {},
     "output_type": "execute_result"
    }
   ],
   "source": [
    "retrieved_docs"
   ]
  },
  {
   "cell_type": "markdown",
   "id": "bfb2842c-ab2d-47a8-b926-ed28bb3b571a",
   "metadata": {},
   "source": [
    "## Using directly a standard MultiQueryRetriever "
   ]
  },
  {
   "cell_type": "code",
   "execution_count": 32,
   "id": "35b39b6f-4f93-4028-b59f-bcf307ccc9d7",
   "metadata": {},
   "outputs": [],
   "source": [
    "std_multi_query_retriever = MultiQueryRetriever.from_llm(\n",
    "    retriever=basic_retriever, llm=llm\n",
    ")"
   ]
  },
  {
   "cell_type": "code",
   "execution_count": 33,
   "id": "86a7807a-0f4a-47d7-81be-54ab1aff099d",
   "metadata": {},
   "outputs": [],
   "source": [
    "user_question = \"Tell me some fun things I can do in Cornwall\"\n",
    "\n",
    "retrieved_docs = multi_query_retriever.invoke(user_question)"
   ]
  },
  {
   "cell_type": "code",
   "execution_count": 34,
   "id": "cd7716b1-9db0-42a8-8372-1ad66e092412",
   "metadata": {},
   "outputs": [
    {
     "data": {
      "text/plain": [
       "[Document(id='e1a8ca2f-c967-4a0e-ac8c-0d2102c13997', metadata={'Header 2': 'Do'}, page_content='Do \\n [ edit ] \\n \\n Cornwall, in particular Newquay, is the UK\\'s  surfing  capital, with equipment hire and surf schools present on many of the county\\'s beaches, and events like the UK championships or Boardmasters festival. \\n The  South West Coast Path  runs along the coastline of Britain\\'s south-west peninsula. The Cornish section is supposed to be the most scenic (unless you talk to someone in Devon, in which case the Devon part is most scenic). It is particularly scenic around Penwith and the Lizard. The trail takes walkers to busy towns, remote cliffs, beaches, heaths, farms and fishing villages. Walking along it is a great way to experience the region in all its variety. (Walking the entire path takes several weeks, walking on a choice part of it is easier.) \\n The  Camel Trail  is an  18-mile (29 \\xa0 km)  off-road cycle-track that follows the route of a former railway line along the scenic estuary of the river Camel from  Padstow  to Wenford Bridge via  Wadebridge  and  Bodmin . \\n The  Cornish Film Festival  is held annually each November around  Newquay . \\n The  Royal Cornwall Show  is an agricultural show at the beginning of June each year. It is one of Cornwall\\'s major tourist attractions. \\n Camel Creek Adventure Park , Tredinnick,  Wadebridge  offers great family days out at Cornwall\\'s top theme park. \\n \\n Festivals \\n [ edit ] \\n \\n Mummer\\'s Day , or \"Darkie Day\" as it is sometimes known, is an ancient Cornish midwinter celebration that occurs every year on Boxing Day and New Year\\'s Day in  Padstow . Now considered somewhat \"un-PC\" as people will paint themselves black. \\n \\' Obby \\'Oss  is held annually on May Day (1 May), mainly in  Padstow , with large marching bands and traditional music. It attracts large crowds, so show up early. \\n St Piran\\'s Day  (Cornish:  Gool Peran ) is the national day of Cornwall, held on 5 March every year. There is large parties widespread across the whole of Cornwall, with people dressing in the black, white and silver national colours.'),\n",
       " Document(id='d6a61b24-110c-443a-89e1-871cdad4aa2b', metadata={'Header 2': 'Do'}, page_content='Do \\n [ edit ] \\n \\n The  South West Coast Path  runs along the coastline of Britain’s south-west peninsula. The Cornish section is supposed to be the most scenic (unless you talk to someone in Devon, in which case the Devon part is most scenic). It is particularly scenic around Penwith and the Lizard. The trail takes walkers to busy towns, remote cliffs, beaches, heaths, farms and fishing villages. Walking along it is a great way to experience the region in all its variety. (Walking the entire path takes several weeks, walking on a choice part of it is easier.) \\n The  Camel Trail  is an  18-mile (29 \\xa0 km)  off-road cycle-track following the scenic estuary of the river Camel from  Padstow  to Wenford Bridge via  Wadebridge  and  Bodmin . \\n The  Cornish Film Festival  is held annually each November around  Newquay . \\n Cornwall, in particular Newquay, is the UK\\'s  surfing  capital, with equipment hire and surf schools present on many of the county\\'s beaches, and events like the UK championships or Boardmasters festival. \\n \\n Cricket:   Cornwall CCC  play in the National Counties Cricket Championship, the tier formerly known as \"Minor Counties\" below the first class competitions. They don\\'t have a permanent ground but play at various venues including Camborne, Falmouth, Truro and St Austell.'),\n",
       " Document(id='ef5b3192-0a4e-45bb-abb2-2b666906df95', metadata={'Header 2': 'Do'}, page_content=\"Do \\n [ edit ] \\n \\n The  South West Coast Path  runs along the coastline of Britain's south-west peninsula. The Cornish section is supposed to be the most scenic (unless you talk to someone in Devon, in which case the Devon part is most scenic). It is particularly scenic around Penwith and the Lizard. The trail takes walkers to busy towns, remote cliffs, beaches, heaths, farms and fishing villages. Walking along it is a great way to experience the region in all its variety. (Walking the entire path takes several weeks, walking on a choice part of it is easier.) \\n St Piran's Day  (Cornish:  Gool Peran ) is the national day of Cornwall, held on 5 March every year. There is large parties widespread across the whole of Cornwall, with people dressing in the black, white and silver national colours.\"),\n",
       " Document(id='baba2fb6-c0c4-4edd-a98a-ddfbacff7055', metadata={'Header 2': 'See'}, page_content=\"See \\n [ edit ] \\n \\n The Cheesewring at Minions,  Bodmin Moor . \\n St. Michael's Mount lies offshore close to Penzance. \\n Cornwall boasts many attractions for the traveller, many lying outside of cities and towns amidst the Cornish landscape: \\n \\n Within the 208 m² of the  Bodmin Moor , is  King Arthur's Hall , a megalithic monument and  Brown Willy , the highest point in Cornwall at 417 m (1,368 ft).  Dozmary Pool  is a small beautiful lake where, according to legend, King Arthur was entrusted with the sword Excalibur. There is also a reputed  Beast of the Moor , a large wild-cat that haunts and stalks at night, but is similar in fantasy to the Loch Ness Monster, in that no one can prove it exists, though sightings, theories and track-marks abound. \\n The  Eden Project , near  St Austell , a fabulous collection of flora from all over the planet housed in two 'space age' transparent domes. \\n The  Lost Gardens of Heligan  - near  Mevagissey ,  80 acres (32 hectares)  of stunning landscaped scenery with a huge complex of walled flower and vegetable gardens \\n \\n Tintagel Castle  legendary birthplace of the famous King Arthur and seat of the kings of Cornwall. Earl Richard of Cornwall and King of the Romans built the present medieval castle at the site. Ongoing excavations are revealing a Cornish royal seat of the period 400 to 700 AD. \\n \\n Minack Theatre  is an outdoor theatre built by hand into the side of cliff over looking the ocean; between the villages of Porthcurno and  St Levan , the theatre includes a museum and offers tours when there are no performances. \\n The  Tate  St Ives , one of the four Tate galleries in the UK - Modern Art \\n The  National Maritime Museum   Falmouth . Home of the National Maritime Museum's small boat collection and other exhibits. \\n \\n Mining heritage  is evident across the county in the remnants of former tin and copper mines as featured in the 1975 and 2015 TV adaptations of Winston Graham's  Poldark.  A large selection of Industrial Heritage attractions includes:  Geevor Tin Mine ,  Poldark Mine ,  King Edward Mine  and Crown Hill Mines,  Botallack . \\n \\n Communication heritage : due to its geographical location, the county formed the backdrop to major advancements in communication. Visitor sites are  The Marconi Centre  and the  Telegraph Museum  at Porthcurno. Rising above the Lizard Peninsula can also be seen the large dishes that form part of the Goonhilly Satellite Earth station. \\n \\n \\n National Trust properties \\n [ edit ] \\n \\n \\n \\n Antony House  near Torpoint: an 18th-century house set within a magnificent landscape garden, still home to the Carew Pole family. \\n \\n St Michael's Mount , Marazion, near  Penzance : a rocky island crowned by medieval church and castle, home to a living community. \\n \\n Cotehele - St Dominick , near  Saltash : an atmospheric Tudor house with Medieval roots, a mill on a historic quay, a glorious garden with valley views and an expansive estate to explore. \\n \\n Godrevy - Gwithian , near  Hayle : stunning mix of long sandy beaches, high cliffs, and smugglers coves. \\n \\n Levant Mine and Beam Engine, National Trust property at Pendeen \\n \\n \\n Lanhydrock  near  Bodmin : a magnificent late Victorian country house with garden and wooded estate. \\n \\n Trerice - Kestle Mill , near  Newquay : an Elizabethan manor house with fine interiors and delightful garden. \\n \\n East Pool Mine , Pool near  Redruth : an impressive Cornish beam engine and industrial heritage at the heart of the Cornish Mining World Heritage Site. \\n \\n Levant Mine and Beam Engine   Pendeen \\xa0 : high-up on the exposed cliffs of the 'Tin Coast' and part of the Cornish Mining World Heritage Site. At its heart, the restored 1840s beam engine running on steam. \\n \\n Tintagel   Old Post Office : one of the Trust's most delightful medieval buildings, enhanced by a cottage garden. \\n \\n Hawker's Hut :  the smallest National Trust property in the country in Morwenstow north of  Bude . \\n \\n The Hurlers  (Cornish: Hr Carwynnen): a group of three stone circles similar to but smaller than Stonehenge, on the eastern flank of  Bodmin  Moor. Each stellar alignment was given with tabulated declinations at a date in the range of 2100 to 1500 BC! \\n \\n \\n National Trust gardens \\n [ edit ] \\n \\n \\n \\n Trelissick, Feock , near  Truro , is a welcoming house and garden set in an estate with stunning maritime views and lovely woodland walks. \\n \\n Glendurgan, Mawnan Smith , near  Falmouth , is a historic and exotic wooded valley garden leading down to the River Helford. \\n \\n Trengwainton ,  Madron   is a sheltered garden bursting with exotic trees and shrubs. \\n \\n Kynance Cove offers great views towards the Lizard.\"),\n",
       " Document(id='bcfc45f4-7aa8-411d-9297-472897e51d76', metadata={'Header 2': 'Stay safe'}, page_content='Stay safe \\n [ edit ] \\n \\n Visitors to Cornwall should at all times be aware of the unpredictable and dangerous nature of some of the tides and currents around the Cornish coast and seek advice from local lifeguards before swimming or surfing. There is a small chance of getting great white or tiger sharks off the south coast, but don\\'t let this worry you as they are very very rarely seen, and there have been no known attacks. \\n Cornwall\\'s roads become very dangerous in summer due to the influx of tourists to the region. The local infrastructure is very poor and often cannot cope with the traffic. Drive sensibly and with caution. \\n Be very alert when driving at night as some roads, especially the A39 in North Cornwall, contain sudden hairpin bends that are deceptively sharp and are not illuminated by street lighting.  There is also a risk of running over nocturnal wildlife.  Use your headlights\\' full beam where possible and err on the side of caution. \\n Newquay in the summer attracts tens of thousands of tourists, and with that inevitably comes increased crime during the months of June, July and August. Assaults and muggings are particularly common, usually at night and often down on some of Newquay\\'s many beaches. \\n Crime rates are mostly low in Cornwall, but there are some impoverished areas of some towns where crime is more common. Occasionally, outsiders can attract attention in local pubs, but this is no worse than in other areas of the country. \\n \\n \\n \\n \\n \\n \\n \\n \\n \\n \\n \\n This  region  travel guide to  Cornwall   is an  outline   and may need more content. It has a  template , but there is not enough  information  present. If there are  Cities  and  Other destinations  listed, they may not all be at  usable  status or there may not be a  valid regional structure  and a \"Get in\" section describing all of the typical ways to get here. Please  plunge forward  and  help it grow ! \\n \\n \\n \\n \\n \\n \\n \\n  \\nNewPP limit report\\nParsed by mw‐web.codfw.main‐74954c4898‐7mkjh\\nCached time: 20250517114057\\nCache expiry: 2592000\\nReduced expiry: false\\nComplications: [show‐toc]\\nCPU time usage: 1.378 seconds\\nReal time usage: 1.719 seconds\\nPreprocessor visited node count: 7865/1000000\\nPost‐expand include size: 78834/2097152 bytes\\nTemplate argument size: 17298/2097152 bytes\\nHighest expansion depth: 21/100\\nExpensive parser function count: 37/500\\nUnstrip recursion depth: 0/20\\nUnstrip post‐expand size: 7700/5000000 bytes\\nLua time usage: 0.354/10.000 seconds\\nLua memory usage: 6431197/52428800 bytes\\nNumber of Wikibase entities loaded: 30/500\\n \\n \\nTransclusion expansion time report (%,ms,calls,template)\\n100.00% 1445.246      1 -total\\n 24.16%  349.131     32 Template:Marker\\n 15.38%  222.298     20 Template:Listing\\n 14.86%  214.705     19 Template:Eat\\n 10.25%  148.161      1 Template:Pagebanner\\n  8.38%  121.091      1 Template:CountryData2HTML\\n  4.77%   68.970      1 Template:Rint\\n  4.23%   61.127      8 Template:Convert\\n  2.90%   41.844      6 Template:Mile\\n  2.47%   35.749      5 Template:IATA\\n \\n  Saved in parser cache with key enwikivoyage:parsoid-pcache:8276:|#|:idhash:useParsoid=1 and timestamp 20250517114057 and revision id 5062152. Rendering was triggered because: page-view\\n  \\n Parsoid 0.22.0.0-alpha2 \\n \\n esi <esi:include src=\"/esitest-fa8a495983347898/content\" />  \\n Retrieved from \" https://en.wikivoyage.org/w/index.php?title=Cornwall&oldid=5062152 \" \\n \\n Hidden categories:  \\n Has custom banner \\n Has mapframe \\n Maps with non-default size \\n Has map markers \\n Listing without plain text name \\n Eat listing with no coordinates \\n Do listing with no coordinates \\n Has Geo parameter \\n West Country \\n All destination articles \\n Outline regions \\n Outline articles \\n Region articles \\n Pages using the Kartographer extension \\n \\n \\n \\n \\n \\n \\n \\n \\n \\n \\n \\n This article is partly based on  Creative Commons Attribution-ShareAlike 3.0 Licensed  work from other websites. Details of contributors can be found in the  article history . \\n Text is available under the  Creative Commons Attribution-ShareAlike License ; additional terms may apply.  By using this site, you agree to the  Terms of Use  and  Privacy Policy. \\n \\n \\n \\n Privacy policy \\n About Wikivoyage \\n Disclaimer \\n Code of Conduct \\n Developers \\n Statistics \\n Cookie statement \\n Mobile view \\n \\n \\n \\n \\n \\n \\n \\n \\n \\n \\n \\n \\n \\n \\n Search \\n \\n \\n \\n \\n \\n \\n \\n \\n \\n \\n \\n \\n \\n Search \\n \\n \\n \\n \\n \\n \\n \\n \\n \\n Toggle the table of contents \\n \\n \\n \\n \\n \\n \\n \\n \\n \\n \\n \\n \\n \\n \\n \\n \\n \\n \\n \\n \\n \\n \\n \\n \\n \\n \\n \\n \\n \\n \\n \\n \\n \\n \\n \\n \\n 5 languages \\n \\n \\n Add topic \\n \\n \\n \\n \\n \\n \\n \\n \\n \\n \\n \\n \\n \\n (RLQ=window.RLQ||[]).push(function(){mw.config.set({\"wgHostname\":\"mw-web.eqiad.main-64c56cddd9-2crck\",\"wgBackendResponseTime\":386,\"wgKartographerLiveData\":{\"mask\":[{\"type\":\"ExternalData\",\"service\":\"geomask\",\"url\":\"https://maps.wikimedia.org/geoshape?getgeojson=1\\\\u0026ids=Q23148\",\"properties\":{\"fill\":\"#555555\",\"fill-opacity\":0.5,\"stroke\":\"#000000\",\"stroke-width\":1,\"stroke-opacity\":1}}],\"city\":[{\"type\":\"Feature\",\"geometry\":{\"coordinates\":[-5.051,50.26],\"type\":\"Point\"},\"properties\":{\"marker-size\":\"medium\",\"title\":\"\\\\u003Ca rel=\\\\\"mw:WikiLink\\\\\" href=\\\\\"./Truro_(England)\\\\\" title=\\\\\"Truro (England)\\\\\" data-parsoid=\\'{\\\\\"tsr\\\\\":[0,25],\\\\\"stx\\\\\":\\\\\"piped\\\\\",\\\\\"a\\\\\":{\\\\\"href\\\\\":\\\\\"./Truro_(England)\\\\\"},\\\\\"sa\\\\\":{\\\\\"href\\\\\":\\\\\"Truro (England)\\\\\"}}\\'\\\\u003ETruro\\\\u003C/a\\\\u003E\",\"marker-symbol\":\"1\",\"marker-color\":\"0000FF\",\"description\":\"\\\\u003Cspan typeof=\\\\\"mw:File\\\\\" data-parsoid=\\'{\\\\\"tsr\\\\\":[0,33],\\\\\"optList\\\\\":[{\\\\\"ck\\\\\":\\\\\"width\\\\\",\\\\\"ak\\\\\":\\\\\"300px\\\\\"}]}\\'\\\\u003E\\\\u003Ca href=\\\\\"./File:TruroCathedral.jpg\\\\\" class=\\\\\"mw-file-description\\\\\" data-parsoid=\\\\\"{}\\\\\"\\\\u003E\\\\u003Cimg resource=\\\\\"./File:TruroCathedral.jpg\\\\\" src=\\\\\"//upload.wikimedia.org/wikipedia/commons/thumb/0/01/TruroCathedral.jpg/330px-TruroCathedral.jpg\\\\\" decoding=\\\\\"async\\\\\" data-file-width=\\\\\"4320\\\\\" data-file-height=\\\\\"2880\\\\\" data-file-type=\\\\\"bitmap\\\\\" height=\\\\\"200\\\\\" width=\\\\\"300\\\\\" srcset=\\\\\"//upload.wikimedia.org/wikipedia/commons/thumb/0/01/TruroCathedral.jpg/500px-TruroCathedral.jpg 1.5x, //upload.wikimedia.org/wikipedia/commons/thumb/0/01/TruroCathedral.jpg/960px-TruroCathedral.jpg 2x\\\\\" class=\\\\\"mw-file-element\\\\\" data-parsoid=\\'{\\\\\"a\\\\\":{\\\\\"resource\\\\\":\\\\\"./File:TruroCathedral.jpg\\\\\",\\\\\"height\\\\\":\\\\\"200\\\\\",\\\\\"width\\\\\":\\\\\"300\\\\\"},\\\\\"sa\\\\\":{\\\\\"resource\\\\\":\\\\\"File:TruroCathedral.jpg\\\\\"}}\\'/\\\\u003E\\\\u003C/a\\\\u003E\\\\u003C/span\\\\u003E\"}},{\"type\":\"Feature\",\"geometry\":{\"coordinates\":[-5.0757,50.412],\"type\":\"Point\"},\"properties\":{\"marker-size\":\"medium\",\"title\":\"\\\\u003Ca rel=\\\\\"mw:WikiLink\\\\\" href=\\\\\"./Newquay\\\\\" title=\\\\\"Newquay\\\\\" data-parsoid=\\'{\\\\\"tsr\\\\\":[0,11],\\\\\"stx\\\\\":\\\\\"simple\\\\\",\\\\\"a\\\\\":{\\\\\"href\\\\\":\\\\\"./Newquay\\\\\"},\\\\\"sa\\\\\":{\\\\\"href\\\\\":\\\\\"Newquay\\\\\"}}\\'\\\\u003ENewquay\\\\u003C/a\\\\u003E\",\"marker-symbol\":\"2\",\"marker-color\":\"0000FF\",\"description\":\"\\\\u003Cspan typeof=\\\\\"mw:File\\\\\" data-parsoid=\\'{\\\\\"tsr\\\\\":[0,30],\\\\\"optList\\\\\":[{\\\\\"ck\\\\\":\\\\\"width\\\\\",\\\\\"ak\\\\\":\\\\\"300px\\\\\"}]}\\'\\\\u003E\\\\u003Ca href=\\\\\"./File:Newquayhill.jpg\\\\\" class=\\\\\"mw-file-description\\\\\" data-parsoid=\\\\\"{}\\\\\"\\\\u003E\\\\u003Cimg resource=\\\\\"./File:Newquayhill.jpg\\\\\" src=\\\\\"//upload.wikimedia.org/wikipedia/commons/thumb/f/fa/Newquayhill.jpg/330px-Newquayhill.jpg\\\\\" decoding=\\\\\"async\\\\\" data-file-width=\\\\\"3648\\\\\" data-file-height=\\\\\"2736\\\\\" data-file-type=\\\\\"bitmap\\\\\" height=\\\\\"225\\\\\" width=\\\\\"300\\\\\" srcset=\\\\\"//upload.wikimedia.org/wikipedia/commons/thumb/f/fa/Newquayhill.jpg/500px-Newquayhill.jpg 1.5x, //upload.wikimedia.org/wikipedia/commons/thumb/f/fa/Newquayhill.jpg/960px-Newquayhill.jpg 2x\\\\\" class=\\\\\"mw-file-element\\\\\" data-parsoid=\\'{\\\\\"a\\\\\":{\\\\\"resource\\\\\":\\\\\"./File:Newquayhill.jpg\\\\\",\\\\\"height\\\\\":\\\\\"225\\\\\",\\\\\"width\\\\\":\\\\\"300\\\\\"},\\\\\"sa\\\\\":{\\\\\"resource\\\\\":\\\\\"File:Newquayhill.jpg\\\\\"}}\\'/\\\\u003E\\\\u003C/a\\\\u003E\\\\u003C/span\\\\u003E\"}},{\"type\":\"Feature\",\"geometry\":{\"coordinates\":[-4.83,50.5938],\"type\":\"Point\"},\"properties\":{\"marker-size\":\"medium\",\"title\":\"\\\\u003Ca rel=\\\\\"mw:WikiLink\\\\\" href=\\\\\"./Port_Isaac\\\\\" title=\\\\\"Port Isaac\\\\\" data-parsoid=\\'{\\\\\"tsr\\\\\":[0,14],\\\\\"stx\\\\\":\\\\\"simple\\\\\",\\\\\"a\\\\\":{\\\\\"href\\\\\":\\\\\"./Port_Isaac\\\\\"},\\\\\"sa\\\\\":{\\\\\"href\\\\\":\\\\\"Port Isaac\\\\\"}}\\'\\\\u003EPort Isaac\\\\u003C/a\\\\u003E\",\"marker-symbol\":\"3\",\"marker-color\":\"0000FF\",\"description\":\"\\\\u003Cspan typeof=\\\\\"mw:File\\\\\" data-parsoid=\\'{\\\\\"tsr\\\\\":[0,59],\\\\\"optList\\\\\":[{\\\\\"ck\\\\\":\\\\\"width\\\\\",\\\\\"ak\\\\\":\\\\\"300px\\\\\"}]}\\'\\\\u003E\\\\u003Ca href=\\\\\"./File:2006-07-08.Port_Isaac,_Cornwall,_England.JPG\\\\\" class=\\\\\"mw-file-description\\\\\" data-parsoid=\\\\\"{}\\\\\"\\\\u003E\\\\u003Cimg resource=\\\\\"./File:2006-07-08.Port_Isaac,_Cornwall,_England.JPG\\\\\" src=\\\\\"//upload.wikimedia.org/wikipedia/commons/thumb/b/bc/2006-07-08.Port_Isaac%2C_Cornwall%2C_England.JPG/330px-2006-07-08.Port_Isaac%2C_Cornwall%2C_England.JPG\\\\\" decoding=\\\\\"async\\\\\" data-file-width=\\\\\"3456\\\\\" data-file-height=\\\\\"2304\\\\\" data-file-type=\\\\\"bitmap\\\\\" height=\\\\\"200\\\\\" width=\\\\\"300\\\\\" srcset=\\\\\"//upload.wikimedia.org/wikipedia/commons/thumb/b/bc/2006-07-08.Port_Isaac%2C_Cornwall%2C_England.JPG/500px-2006-07-08.Port_Isaac%2C_Cornwall%2C_England.JPG 1.5x, //upload.wikimedia.org/wikipedia/commons/thumb/b/bc/2006-07-08.Port_Isaac%2C_Cornwall%2C_England.JPG/960px-2006-07-08.Port_Isaac%2C_Cornwall%2C_England.JPG 2x\\\\\" class=\\\\\"mw-file-element\\\\\" data-parsoid=\\'{\\\\\"a\\\\\":{\\\\\"resource\\\\\":\\\\\"./File:2006-07-08.Port_Isaac,_Cornwall,_England.JPG\\\\\",\\\\\"height\\\\\":\\\\\"200\\\\\",\\\\\"width\\\\\":\\\\\"300\\\\\"},\\\\\"sa\\\\\":{\\\\\"resource\\\\\":\\\\\"File:2006-07-08.Port Isaac, Cornwall, England.JPG\\\\\"}}\\'/\\\\u003E\\\\u003C/a\\\\u003E\\\\u003C/span\\\\u003E\"}},{\"type\":\"Feature\",\"geometry\":{\"coordinates\":[-4.75,50.663],\"type\":\"Point\"},\"properties\":{\"marker-size\":\"medium\",\"title\":\"\\\\u003Ca rel=\\\\\"mw:WikiLink\\\\\" href=\\\\\"./Tintagel\\\\\" title=\\\\\"Tintagel\\\\\" data-parsoid=\\'{\\\\\"tsr\\\\\":[0,12],\\\\\"stx\\\\\":\\\\\"simple\\\\\",\\\\\"a\\\\\":{\\\\\"href\\\\\":\\\\\"./Tintagel\\\\\"},\\\\\"sa\\\\\":{\\\\\"href\\\\\":\\\\\"Tintagel\\\\\"}}\\'\\\\u003ETintagel\\\\u003C/a\\\\u003E\",\"marker-symbol\":\"4\",\"marker-color\":\"0000FF\",\"description\":\"\\\\u003Cspan typeof=\\\\\"mw:File\\\\\" data-parsoid=\\'{\\\\\"tsr\\\\\":[0,36],\\\\\"optList\\\\\":[{\\\\\"ck\\\\\":\\\\\"width\\\\\",\\\\\"ak\\\\\":\\\\\"300px\\\\\"}]}\\'\\\\u003E\\\\u003Ca href=\\\\\"./File:RemainsofTintagel.jpg\\\\\" class=\\\\\"mw-file-description\\\\\" data-parsoid=\\\\\"{}\\\\\"\\\\u003E\\\\u003Cimg resource=\\\\\"./File:RemainsofTintagel.jpg\\\\\" src=\\\\\"//upload.wikimedia.org/wikipedia/commons/thumb/7/74/RemainsofTintagel.jpg/330px-RemainsofTintagel.jpg\\\\\" decoding=\\\\\"async\\\\\" data-file-width=\\\\\"2032\\\\\" data-file-height=\\\\\"1524\\\\\" data-file-type=\\\\\"bitmap\\\\\" height=\\\\\"225\\\\\" width=\\\\\"300\\\\\" srcset=\\\\\"//upload.wikimedia.org/wikipedia/commons/thumb/7/74/RemainsofTintagel.jpg/500px-RemainsofTintagel.jpg 1.5x, //upload.wikimedia.org/wikipedia/commons/thumb/7/74/RemainsofTintagel.jpg/960px-RemainsofTintagel.jpg 2x\\\\\" class=\\\\\"mw-file-element\\\\\" data-parsoid=\\'{\\\\\"a\\\\\":{\\\\\"resource\\\\\":\\\\\"./File:RemainsofTintagel.jpg\\\\\",\\\\\"height\\\\\":\\\\\"225\\\\\",\\\\\"width\\\\\":\\\\\"300\\\\\"},\\\\\"sa\\\\\":{\\\\\"resource\\\\\":\\\\\"File:RemainsofTintagel.jpg\\\\\"}}\\'/\\\\u003E\\\\u003C/a\\\\u003E\\\\u003C/span\\\\u003E\"}},{\"type\":\"Feature\",\"geometry\":{\"coordinates\":[-5.07,50.15],\"type\":\"Point\"},\"properties\":{\"marker-size\":\"medium\",\"title\":\"\\\\u003Ca rel=\\\\\"mw:WikiLink\\\\\" href=\\\\\"./Falmouth_(Cornwall)\\\\\" title=\\\\\"Falmouth (Cornwall)\\\\\" data-parsoid=\\'{\\\\\"tsr\\\\\":[0,32],\\\\\"stx\\\\\":\\\\\"piped\\\\\",\\\\\"a\\\\\":{\\\\\"href\\\\\":\\\\\"./Falmouth_(Cornwall)\\\\\"},\\\\\"sa\\\\\":{\\\\\"href\\\\\":\\\\\"Falmouth (Cornwall)\\\\\"}}\\'\\\\u003EFalmouth\\\\u003C/a\\\\u003E\",\"marker-symbol\":\"5\",\"marker-color\":\"0000FF\",\"description\":\"\\\\u003Cspan typeof=\\\\\"mw:File\\\\\" data-parsoid=\\'{\\\\\"tsr\\\\\":[0,36],\\\\\"optList\\\\\":[{\\\\\"ck\\\\\":\\\\\"width\\\\\",\\\\\"ak\\\\\":\\\\\"300px\\\\\"}]}\\'\\\\u003E\\\\u003Ca href=\\\\\"./File:Falmouth_Cornwall.jpg\\\\\" class=\\\\\"mw-file-description\\\\\" data-parsoid=\\\\\"{}\\\\\"\\\\u003E\\\\u003Cimg resource=\\\\\"./File:Falmouth_Cornwall.jpg\\\\\" src=\\\\\"//upload.wikimedia.org/wikipedia/commons/thumb/3/32/Falmouth_Cornwall.jpg/330px-Falmouth_Cornwall.jpg\\\\\" decoding=\\\\\"async\\\\\" data-file-width=\\\\\"1600\\\\\" data-file-height=\\\\\"1200\\\\\" data-file-type=\\\\\"bitmap\\\\\" height=\\\\\"225\\\\\" width=\\\\\"300\\\\\" srcset=\\\\\"//upload.wikimedia.org/wikipedia/commons/thumb/3/32/Falmouth_Cornwall.jpg/500px-Falmouth_Cornwall.jpg 1.5x, //upload.wikimedia.org/wikipedia/commons/thumb/3/32/Falmouth_Cornwall.jpg/960px-Falmouth_Cornwall.jpg 2x\\\\\" class=\\\\\"mw-file-element\\\\\" data-parsoid=\\'{\\\\\"a\\\\\":{\\\\\"resource\\\\\":\\\\\"./File:Falmouth_Cornwall.jpg\\\\\",\\\\\"height\\\\\":\\\\\"225\\\\\",\\\\\"width\\\\\":\\\\\"300\\\\\"},\\\\\"sa\\\\\":{\\\\\"resource\\\\\":\\\\\"File:Falmouth Cornwall.jpg\\\\\"}}\\'/\\\\u003E\\\\u003C/a\\\\u003E\\\\u003C/span\\\\u003E\"}},{\"type\":\"Feature\",\"geometry\":{\"coordinates\":[-4.795,50.338],\"type\":\"Point\"},\"properties\":{\"marker-size\":\"medium\",\"title\":\"\\\\u003Ca rel=\\\\\"mw:WikiLink\\\\\" href=\\\\\"./St_Austell\\\\\" title=\\\\\"St Austell\\\\\" data-parsoid=\\'{\\\\\"tsr\\\\\":[0,14],\\\\\"stx\\\\\":\\\\\"simple\\\\\",\\\\\"a\\\\\":{\\\\\"href\\\\\":\\\\\"./St_Austell\\\\\"},\\\\\"sa\\\\\":{\\\\\"href\\\\\":\\\\\"St Austell\\\\\"}}\\'\\\\u003ESt Austell\\\\u003C/a\\\\u003E\",\"marker-symbol\":\"6\",\"marker-color\":\"0000FF\",\"description\":\"\\\\u003Cspan typeof=\\\\\"mw:File\\\\\" data-parsoid=\\'{\\\\\"tsr\\\\\":[0,76],\\\\\"optList\\\\\":[{\\\\\"ck\\\\\":\\\\\"width\\\\\",\\\\\"ak\\\\\":\\\\\"300px\\\\\"}]}\\'\\\\u003E\\\\u003Ca href=\\\\\"./File:High_Cross_Street,_St_Austell_-_geograph.org.uk_-_1313370.jpg\\\\\" class=\\\\\"mw-file-description\\\\\" data-parsoid=\\\\\"{}\\\\\"\\\\u003E\\\\u003Cimg resource=\\\\\"./File:High_Cross_Street,_St_Austell_-_geograph.org.uk_-_1313370.jpg\\\\\" src=\\\\\"//upload.wikimedia.org/wikipedia/commons/thumb/0/04/High_Cross_Street%2C_St_Austell_-_geograph.org.uk_-_1313370.jpg/330px-High_Cross_Street%2C_St_Austell_-_geograph.org.uk_-_1313370.jpg\\\\\" decoding=\\\\\"async\\\\\" data-file-width=\\\\\"640\\\\\" data-file-height=\\\\\"480\\\\\" data-file-type=\\\\\"bitmap\\\\\" height=\\\\\"225\\\\\" width=\\\\\"300\\\\\" srcset=\\\\\"//upload.wikimedia.org/wikipedia/commons/thumb/0/04/High_Cross_Street%2C_St_Austell_-_geograph.org.uk_-_1313370.jpg/500px-High_Cross_Street%2C_St_Austell_-_geograph.org.uk_-_1313370.jpg 1.5x, //upload.wikimedia.org/wikipedia/commons/thumb/0/04/High_Cross_Street%2C_St_Austell_-_geograph.org.uk_-_1313370.jpg/600px-High_Cross_Street%2C_St_Austell_-_geograph.org.uk_-_1313370.jpg 2x\\\\\" class=\\\\\"mw-file-element\\\\\" data-parsoid=\\'{\\\\\"a\\\\\":{\\\\\"resource\\\\\":\\\\\"./File:High_Cross_Street,_St_Austell_-_geograph.org.uk_-_1313370.jpg\\\\\",\\\\\"height\\\\\":\\\\\"225\\\\\",\\\\\"width\\\\\":\\\\\"300\\\\\"},\\\\\"sa\\\\\":{\\\\\"resource\\\\\":\\\\\"File:High Cross Street, St Austell - geograph.org.uk - 1313370.jpg\\\\\"}}\\'/\\\\u003E\\\\u003C/a\\\\u003E\\\\u003C/span\\\\u003E\"}},{\"type\":\"Feature\",\"geometry\":{\"coordinates\":[-5.537,50.119],\"type\":\"Point\"},\"properties\":{\"marker-size\":\"medium\",\"title\":\"\\\\u003Ca rel=\\\\\"mw:WikiLink\\\\\" href=\\\\\"./Penzance\\\\\" title=\\\\\"Penzance\\\\\" data-parsoid=\\'{\\\\\"tsr\\\\\":[0,12],\\\\\"stx\\\\\":\\\\\"simple\\\\\",\\\\\"a\\\\\":{\\\\\"href\\\\\":\\\\\"./Penzance\\\\\"},\\\\\"sa\\\\\":{\\\\\"href\\\\\":\\\\\"Penzance\\\\\"}}\\'\\\\u003EPenzance\\\\u003C/a\\\\u003E\",\"marker-symbol\":\"7\",\"marker-color\":\"0000FF\",\"description\":\"\\\\u003Cspan typeof=\\\\\"mw:File\\\\\" data-parsoid=\\'{\\\\\"tsr\\\\\":[0,36],\\\\\"optList\\\\\":[{\\\\\"ck\\\\\":\\\\\"width\\\\\",\\\\\"ak\\\\\":\\\\\"300px\\\\\"}]}\\'\\\\u003E\\\\u003Ca href=\\\\\"./File:PZHARBOURPANORAMA.jpg\\\\\" class=\\\\\"mw-file-description\\\\\" data-parsoid=\\\\\"{}\\\\\"\\\\u003E\\\\u003Cimg resource=\\\\\"./File:PZHARBOURPANORAMA.jpg\\\\\" src=\\\\\"//upload.wikimedia.org/wikipedia/commons/thumb/3/33/PZHARBOURPANORAMA.jpg/330px-PZHARBOURPANORAMA.jpg\\\\\" decoding=\\\\\"async\\\\\" data-file-width=\\\\\"1600\\\\\" data-file-height=\\\\\"633\\\\\" data-file-type=\\\\\"bitmap\\\\\" height=\\\\\"119\\\\\" width=\\\\\"300\\\\\" srcset=\\\\\"//upload.wikimedia.org/wikipedia/commons/thumb/3/33/PZHARBOURPANORAMA.jpg/500px-PZHARBOURPANORAMA.jpg 1.5x, //upload.wikimedia.org/wikipedia/commons/thumb/3/33/PZHARBOURPANORAMA.jpg/960px-PZHARBOURPANORAMA.jpg 2x\\\\\" class=\\\\\"mw-file-element\\\\\" data-parsoid=\\'{\\\\\"a\\\\\":{\\\\\"resource\\\\\":\\\\\"./File:PZHARBOURPANORAMA.jpg\\\\\",\\\\\"height\\\\\":\\\\\"119\\\\\",\\\\\"width\\\\\":\\\\\"300\\\\\"},\\\\\"sa\\\\\":{\\\\\"resource\\\\\":\\\\\"File:PZHARBOURPANORAMA.jpg\\\\\"}}\\'/\\\\u003E\\\\u003C/a\\\\u003E\\\\u003C/span\\\\u003E\"}},{\"type\":\"Feature\",\"geometry\":{\"coordinates\":[-5.48,50.211],\"type\":\"Point\"},\"properties\":{\"marker-size\":\"medium\",\"title\":\"\\\\u003Ca rel=\\\\\"mw:WikiLink\\\\\" href=\\\\\"./St_Ives\\\\\" title=\\\\\"St Ives\\\\\" data-parsoid=\\'{\\\\\"tsr\\\\\":[0,11],\\\\\"stx\\\\\":\\\\\"simple\\\\\",\\\\\"a\\\\\":{\\\\\"href\\\\\":\\\\\"./St_Ives\\\\\"},\\\\\"sa\\\\\":{\\\\\"href\\\\\":\\\\\"St Ives\\\\\"}}\\'\\\\u003ESt Ives\\\\u003C/a\\\\u003E\",\"marker-symbol\":\"8\",\"marker-color\":\"0000FF\",\"description\":\"\\\\u003Cspan typeof=\\\\\"mw:File\\\\\" data-parsoid=\\'{\\\\\"tsr\\\\\":[0,26],\\\\\"optList\\\\\":[{\\\\\"ck\\\\\":\\\\\"width\\\\\",\\\\\"ak\\\\\":\\\\\"300px\\\\\"}]}\\'\\\\u003E\\\\u003Ca href=\\\\\"./File:Stives1.jpg\\\\\" class=\\\\\"mw-file-description\\\\\" data-parsoid=\\\\\"{}\\\\\"\\\\u003E\\\\u003Cimg resource=\\\\\"./File:Stives1.jpg\\\\\" src=\\\\\"//upload.wikimedia.org/wikipedia/commons/thumb/5/54/Stives1.jpg/330px-Stives1.jpg\\\\\" decoding=\\\\\"async\\\\\" data-file-width=\\\\\"800\\\\\" data-file-height=\\\\\"600\\\\\" data-file-type=\\\\\"bitmap\\\\\" height=\\\\\"225\\\\\" width=\\\\\"300\\\\\" srcset=\\\\\"//upload.wikimedia.org/wikipedia/commons/thumb/5/54/Stives1.jpg/500px-Stives1.jpg 1.5x, //upload.wikimedia.org/wikipedia/commons/thumb/5/54/Stives1.jpg/600px-Stives1.jpg 2x\\\\\" class=\\\\\"mw-file-element\\\\\" data-parsoid=\\'{\\\\\"a\\\\\":{\\\\\"resource\\\\\":\\\\\"./File:Stives1.jpg\\\\\",\\\\\"height\\\\\":\\\\\"225\\\\\",\\\\\"width\\\\\":\\\\\"300\\\\\"},\\\\\"sa\\\\\":{\\\\\"resource\\\\\":\\\\\"File:Stives1.jpg\\\\\"}}\\'/\\\\u003E\\\\u003C/a\\\\u003E\\\\u003C/span\\\\u003E\"}},{\"type\":\"Feature\",\"geometry\":{\"coordinates\":[-5.539,50.083],\"type\":\"Point\"},\"properties\":{\"marker-size\":\"medium\",\"title\":\"\\\\u003Ca rel=\\\\\"mw:WikiLink\\\\\" href=\\\\\"./Mousehole\\\\\" title=\\\\\"Mousehole\\\\\" data-parsoid=\\'{\\\\\"tsr\\\\\":[0,13],\\\\\"stx\\\\\":\\\\\"simple\\\\\",\\\\\"a\\\\\":{\\\\\"href\\\\\":\\\\\"./Mousehole\\\\\"},\\\\\"sa\\\\\":{\\\\\"href\\\\\":\\\\\"Mousehole\\\\\"}}\\'\\\\u003EMousehole\\\\u003C/a\\\\u003E\",\"marker-symbol\":\"9\",\"marker-color\":\"0000FF\",\"description\":\"\\\\u003Cspan typeof=\\\\\"mw:File\\\\\" data-parsoid=\\'{\\\\\"tsr\\\\\":[0,31],\\\\\"optList\\\\\":[{\\\\\"ck\\\\\":\\\\\"width\\\\\",\\\\\"ak\\\\\":\\\\\"300px\\\\\"}]}\\'\\\\u003E\\\\u003Ca href=\\\\\"./File:Mousehole_08.jpg\\\\\" class=\\\\\"mw-file-description\\\\\" data-parsoid=\\\\\"{}\\\\\"\\\\u003E\\\\u003Cimg resource=\\\\\"./File:Mousehole_08.jpg\\\\\" src=\\\\\"//upload.wikimedia.org/wikipedia/commons/thumb/4/4e/Mousehole_08.jpg/330px-Mousehole_08.jpg\\\\\" decoding=\\\\\"async\\\\\" data-file-width=\\\\\"4098\\\\\" data-file-height=\\\\\"3074\\\\\" data-file-type=\\\\\"bitmap\\\\\" height=\\\\\"225\\\\\" width=\\\\\"300\\\\\" srcset=\\\\\"//upload.wikimedia.org/wikipedia/commons/thumb/4/4e/Mousehole_08.jpg/500px-Mousehole_08.jpg 1.5x, //upload.wikimedia.org/wikipedia/commons/thumb/4/4e/Mousehole_08.jpg/960px-Mousehole_08.jpg 2x\\\\\" class=\\\\\"mw-file-element\\\\\" data-parsoid=\\'{\\\\\"a\\\\\":{\\\\\"resource\\\\\":\\\\\"./File:Mousehole_08.jpg\\\\\",\\\\\"height\\\\\":\\\\\"225\\\\\",\\\\\"width\\\\\":\\\\\"300\\\\\"},\\\\\"sa\\\\\":{\\\\\"resource\\\\\":\\\\\"File:Mousehole 08.jpg\\\\\"}}\\'/\\\\u003E\\\\u003C/a\\\\u003E\\\\u003C/span\\\\u003E\"}}],\"vicinity\":[{\"type\":\"Feature\",\"geometry\":{\"coordinates\":[-5.716111,50.068611],\"type\":\"Point\"},\"properties\":{\"marker-size\":\"medium\",\"title\":\"\\\\u003Ca rel=\\\\\"mw:WikiLink\\\\\" href=\\\\\"./Land\\'s_End\\\\\" title=\\\\\"Land\\'s End\\\\\" data-parsoid=\\'{\\\\\"tsr\\\\\":[0,14],\\\\\"stx\\\\\":\\\\\"simple\\\\\",\\\\\"a\\\\\":{\\\\\"href\\\\\":\\\\\"./Land\\\\u0026apos;s_End\\\\\"},\\\\\"sa\\\\\":{\\\\\"href\\\\\":\\\\\"Land\\\\u0026apos;s End\\\\\"}}\\'\\\\u003ELand\\'s End\\\\u003C/a\\\\u003E\",\"marker-symbol\":\"1\",\"marker-color\":\"800000\",\"description\":\"\\\\u003Cspan typeof=\\\\\"mw:File\\\\\" data-parsoid=\\'{\\\\\"tsr\\\\\":[0,31],\\\\\"optList\\\\\":[{\\\\\"ck\\\\\":\\\\\"width\\\\\",\\\\\"ak\\\\\":\\\\\"300px\\\\\"}]}\\'\\\\u003E\\\\u003Ca href=\\\\\"./File:Lands_End_UK.jpg\\\\\" class=\\\\\"mw-file-description\\\\\" data-parsoid=\\\\\"{}\\\\\"\\\\u003E\\\\u003Cimg resource=\\\\\"./File:Lands_End_UK.jpg\\\\\" src=\\\\\"//upload.wikimedia.org/wikipedia/commons/thumb/2/2a/Lands_End_UK.jpg/330px-Lands_End_UK.jpg\\\\\" decoding=\\\\\"async\\\\\" data-file-width=\\\\\"3072\\\\\" data-file-height=\\\\\"1948\\\\\" data-file-type=\\\\\"bitmap\\\\\" height=\\\\\"190\\\\\" width=\\\\\"300\\\\\" srcset=\\\\\"//upload.wikimedia.org/wikipedia/commons/thumb/2/2a/Lands_End_UK.jpg/500px-Lands_End_UK.jpg 1.5x, //upload.wikimedia.org/wikipedia/commons/thumb/2/2a/Lands_End_UK.jpg/960px-Lands_End_UK.jpg 2x\\\\\" class=\\\\\"mw-file-element\\\\\" data-parsoid=\\'{\\\\\"a\\\\\":{\\\\\"resource\\\\\":\\\\\"./File:Lands_End_UK.jpg\\\\\",\\\\\"height\\\\\":\\\\\"190\\\\\",\\\\\"width\\\\\":\\\\\"300\\\\\"},\\\\\"sa\\\\\":{\\\\\"resource\\\\\":\\\\\"File:Lands End UK.jpg\\\\\"}}\\'/\\\\u003E\\\\u003C/a\\\\u003E\\\\u003C/span\\\\u003E\"}},{\"type\":\"Feature\",\"geometry\":{\"coordinates\":[-5.2025,49.9687],\"type\":\"Point\"},\"properties\":{\"marker-size\":\"medium\",\"title\":\"\\\\u003Ca rel=\\\\\"mw:WikiLink\\\\\" href=\\\\\"./Lizard\\\\\" title=\\\\\"Lizard\\\\\" data-parsoid=\\'{\\\\\"tsr\\\\\":[0,10],\\\\\"stx\\\\\":\\\\\"simple\\\\\",\\\\\"a\\\\\":{\\\\\"href\\\\\":\\\\\"./Lizard\\\\\"},\\\\\"sa\\\\\":{\\\\\"href\\\\\":\\\\\"Lizard\\\\\"}}\\'\\\\u003ELizard\\\\u003C/a\\\\u003E\",\"marker-symbol\":\"2\",\"marker-color\":\"800000\",\"description\":\"\\\\u003Cspan typeof=\\\\\"mw:File\\\\\" data-parsoid=\\'{\\\\\"tsr\\\\\":[0,42],\\\\\"optList\\\\\":[{\\\\\"ck\\\\\":\\\\\"width\\\\\",\\\\\"ak\\\\\":\\\\\"300px\\\\\"}]}\\'\\\\u003E\\\\u003Ca href=\\\\\"./File:LizardVillageCornwallUK.jpg\\\\\" class=\\\\\"mw-file-description\\\\\" data-parsoid=\\\\\"{}\\\\\"\\\\u003E\\\\u003Cimg resource=\\\\\"./File:LizardVillageCornwallUK.jpg\\\\\" src=\\\\\"//upload.wikimedia.org/wikipedia/commons/thumb/d/d3/LizardVillageCornwallUK.jpg/330px-LizardVillageCornwallUK.jpg\\\\\" decoding=\\\\\"async\\\\\" data-file-width=\\\\\"640\\\\\" data-file-height=\\\\\"440\\\\\" data-file-type=\\\\\"bitmap\\\\\" height=\\\\\"206\\\\\" width=\\\\\"300\\\\\" srcset=\\\\\"//upload.wikimedia.org/wikipedia/commons/thumb/d/d3/LizardVillageCornwallUK.jpg/500px-LizardVillageCornwallUK.jpg 1.5x, //upload.wikimedia.org/wikipedia/commons/thumb/d/d3/LizardVillageCornwallUK.jpg/600px-LizardVillageCornwallUK.jpg 2x\\\\\" class=\\\\\"mw-file-element\\\\\" data-parsoid=\\'{\\\\\"a\\\\\":{\\\\\"resource\\\\\":\\\\\"./File:LizardVillageCornwallUK.jpg\\\\\",\\\\\"height\\\\\":\\\\\"206\\\\\",\\\\\"width\\\\\":\\\\\"300\\\\\"},\\\\\"sa\\\\\":{\\\\\"resource\\\\\":\\\\\"File:LizardVillageCornwallUK.jpg\\\\\"}}\\'/\\\\u003E\\\\u003C/a\\\\u003E\\\\u003C/span\\\\u003E\"}},{\"type\":\"Feature\",\"geometry\":{\"coordinates\":[-4.6108,50.5654],\"type\":\"Point\"},\"properties\":{\"marker-size\":\"medium\",\"title\":\"\\\\u003Ca rel=\\\\\"mw:WikiLink\\\\\" href=\\\\\"./Bodmin_Moor\\\\\" title=\\\\\"Bodmin Moor\\\\\" data-parsoid=\\'{\\\\\"tsr\\\\\":[0,15],\\\\\"stx\\\\\":\\\\\"simple\\\\\",\\\\\"a\\\\\":{\\\\\"href\\\\\":\\\\\"./Bodmin_Moor\\\\\"},\\\\\"sa\\\\\":{\\\\\"href\\\\\":\\\\\"Bodmin Moor\\\\\"}}\\'\\\\u003EBodmin Moor\\\\u003C/a\\\\u003E\",\"marker-symbol\":\"3\",\"marker-color\":\"800000\",\"description\":\"\\\\u003Cspan typeof=\\\\\"mw:File\\\\\" data-parsoid=\\'{\\\\\"tsr\\\\\":[0,27],\\\\\"optList\\\\\":[{\\\\\"ck\\\\\":\\\\\"width\\\\\",\\\\\"ak\\\\\":\\\\\"300px\\\\\"}]}\\'\\\\u003E\\\\u003Ca href=\\\\\"./File:RoughTor.jpg\\\\\" class=\\\\\"mw-file-description\\\\\" data-parsoid=\\\\\"{}\\\\\"\\\\u003E\\\\u003Cimg resource=\\\\\"./File:RoughTor.jpg\\\\\" src=\\\\\"//upload.wikimedia.org/wikipedia/commons/thumb/3/3a/RoughTor.jpg/330px-RoughTor.jpg\\\\\" decoding=\\\\\"async\\\\\" data-file-width=\\\\\"960\\\\\" data-file-height=\\\\\"692\\\\\" data-file-type=\\\\\"bitmap\\\\\" height=\\\\\"216\\\\\" width=\\\\\"300\\\\\" srcset=\\\\\"//upload.wikimedia.org/wikipedia/commons/thumb/3/3a/RoughTor.jpg/500px-RoughTor.jpg 1.5x, //upload.wikimedia.org/wikipedia/commons/thumb/3/3a/RoughTor.jpg/960px-RoughTor.jpg 2x\\\\\" class=\\\\\"mw-file-element\\\\\" data-parsoid=\\'{\\\\\"a\\\\\":{\\\\\"resource\\\\\":\\\\\"./File:RoughTor.jpg\\\\\",\\\\\"height\\\\\":\\\\\"216\\\\\",\\\\\"width\\\\\":\\\\\"300\\\\\"},\\\\\"sa\\\\\":{\\\\\"resource\\\\\":\\\\\"File:RoughTor.jpg\\\\\"}}\\'/\\\\u003E\\\\u003C/a\\\\u003E\\\\u003C/span\\\\u003E\"}}],\"around\":[],\"buy\":[],\"do\":[],\"event\":[],\"drink\":[],\"eat\":[],\"go\":[],\"listing\":[],\"other\":[],\"see\":[],\"sleep\":[],\"view\":[],\"black\":[],\"blue\":[],\"brown\":[],\"chocolate\":[],\"forestgreen\":[],\"gold\":[],\"gray\":[],\"grey\":[],\"lime\":[],\"magenta\":[],\"maroon\":[],\"mediumaquamarine\":[],\"navy\":[],\"red\":[],\"royalblue\":[],\"orange\":[],\"silver\":[],\"steelblue\":[],\"teal\":[],\"fuchsia\":[],\"route1\":[],\"route2\":[],\"route3\":[],\"route4\":[],\"route5\":[]},\"wgPageParseReport\":{\"limitreport\":{\"cputime\":\"1.378\",\"walltime\":\"1.719\",\"ppvisitednodes\":{\"value\":7865,\"limit\":1000000},\"postexpandincludesize\":{\"value\":78834,\"limit\":2097152},\"templateargumentsize\":{\"value\":17298,\"limit\":2097152},\"expansiondepth\":{\"value\":21,\"limit\":100},\"expensivefunctioncount\":{\"value\":37,\"limit\":500},\"unstrip-depth\":{\"value\":0,\"limit\":20},\"unstrip-size\":{\"value\":7700,\"limit\":5000000},\"entityaccesscount\":{\"value\":30,\"limit\":500},\"timingprofile\":[\"100.00% 1445.246      1 -total\",\" 24.16%  349.131     32 Template:Marker\",\" 15.38%  222.298     20 Template:Listing\",\" 14.86%  214.705     19 Template:Eat\",\" 10.25%  148.161      1 Template:Pagebanner\",\"  8.38%  121.091      1 Template:CountryData2HTML\",\"  4.77%   68.970      1 Template:Rint\",\"  4.23%   61.127      8 Template:Convert\",\"  2.90%   41.844      6 Template:Mile\",\"  2.47%   35.749      5 Template:IATA\"]},\"scribunto\":{\"limitreport-timeusage\":{\"value\":\"0.354\",\"limit\":\"10.000\"},\"limitreport-memusage\":{\"value\":6431197,\"limit\":52428800},\"limitreport-logs\":\"entity: Q23148\\\\n\"},\"cachereport\":{\"origin\":\"mw-web.codfw.main-74954c4898-7mkjh\",\"timestamp\":\"20250517114057\",\"ttl\":2592000,\"transientcontent\":false}}});}); \\n {\"@context\":\"https:\\\\/\\\\/schema.org\",\"@type\":\"Article\",\"name\":\"Cornwall\",\"url\":\"https:\\\\/\\\\/en.wikivoyage.org\\\\/wiki\\\\/Cornwall\",\"sameAs\":\"http:\\\\/\\\\/www.wikidata.org\\\\/entity\\\\/Q23148\",\"mainEntity\":\"http:\\\\/\\\\/www.wikidata.org\\\\/entity\\\\/Q23148\",\"author\":{\"@type\":\"Organization\",\"name\":\"Contributors to Wikimedia projects\"},\"publisher\":{\"@type\":\"Organization\",\"name\":\"Wikimedia Foundation, Inc.\",\"logo\":{\"@type\":\"ImageObject\",\"url\":\"https:\\\\/\\\\/www.wikimedia.org\\\\/static\\\\/images\\\\/wmf-hor-googpub.png\"}},\"datePublished\":\"2003-11-10T16:41:49Z\",\"dateModified\":\"2025-05-13T21:00:09Z\",\"image\":\"https:\\\\/\\\\/upload.wikimedia.org\\\\/wikipedia\\\\/commons\\\\/b\\\\/b8\\\\/Flag_of_Cornwall.svg\",\"headline\":\"historic county of England; Celtic nation\"}'),\n",
       " Document(id='210a9759-b79c-4264-b3e2-d335f794da80', metadata={'Header 2': 'Contents'}, page_content='Contents \\n \\n \\n \\n \\n \\n \\n \\n 1   Understand \\n \\n \\n \\n \\n \\n \\n 2   Get in \\n \\n \\n \\n \\n \\n \\n 3   Get around \\n \\n \\n \\n \\n \\n \\n 4   See \\n \\n \\n \\n \\n \\n \\n 5   Do \\n \\n \\n \\n \\n 5.1   Events \\n \\n \\n \\n \\n \\n \\n \\n \\n 6   Buy \\n \\n \\n \\n \\n \\n \\n 7   Eat \\n \\n \\n \\n \\n \\n \\n 8   Drink \\n \\n \\n \\n \\n \\n \\n 9   Sleep \\n \\n \\n \\n \\n \\n \\n 10   Connect \\n \\n \\n \\n \\n \\n \\n 11   Go next \\n \\n \\n \\n \\n \\n \\n \\n \\n \\n \\n \\n \\n \\n Porthleven  (Cornish:  Porthleven ) is near  Helston  on the south coast of  West Cornwall  at the top of the  Lizard  Peninsula. The South West Coast Path from Somerset to Dorset passes through the town. It is one of Britain\\'s best-known surfing spots, described as \"Cornwall\\'s best reef break\".'),\n",
       " Document(id='da97963a-6c54-4c86-872c-927afd317678', metadata={'Header 2': 'Sleep'}, page_content=\"Sleep \\n [ edit ] \\n \\n Main article:  Sleep \\n Cornwall has a large range of tourist accommodation, ranging from 5-star luxury  hotels  to  B&Bs , guest houses and  hostels . There is also a large number of serviced holiday cottages that can be rented from anything from a long weekend to upwards of a month.  \\n There are Tourist Information Centres (TICs) in most major towns. These are normally run by the local council and can check the latest availability on the day to save having to phone around a number of B&Bs and guest houses. They are unbiased and won't express an opinion on accommodations, more than giving its tourist board rating and facilities.\")]"
      ]
     },
     "execution_count": 34,
     "metadata": {},
     "output_type": "execute_result"
    }
   ],
   "source": [
    "retrieved_docs"
   ]
  },
  {
   "cell_type": "markdown",
   "id": "fdaab05e-fd6a-451e-81bc-05018cbf7db1",
   "metadata": {},
   "source": [
    "# Step-back question"
   ]
  },
  {
   "cell_type": "markdown",
   "id": "b48a25f8-803a-4bc4-8088-1f54cf74afbe",
   "metadata": {},
   "source": [
    "### Setting up the chain to generate the step-back question"
   ]
  },
  {
   "cell_type": "code",
   "execution_count": 58,
   "id": "78d73ffc-8940-4ef4-9b03-fe581ad04a96",
   "metadata": {},
   "outputs": [],
   "source": [
    "llm = ChatOpenAI(model=\"o4-mini\", openai_api_key=OPENAI_API_KEY)"
   ]
  },
  {
   "cell_type": "code",
   "execution_count": 59,
   "id": "e9a69eac-866c-4826-b6ac-ddd99fa61e2f",
   "metadata": {},
   "outputs": [],
   "source": [
    "step_back_prompt_template = \"\"\"\n",
    "Generate a less specific question (aka Step-back question) for the following detailed question, so that a wider context can be retrieved.\n",
    "Detailed question: {detailed_question}\n",
    "Step-back question:\n",
    "\"\"\"\n",
    "\n",
    "step_back_prompt = ChatPromptTemplate.from_template(step_back_prompt_template) "
   ]
  },
  {
   "cell_type": "code",
   "execution_count": 60,
   "id": "0a9d61b8-9510-412d-85c9-3ae6cc9b1bdc",
   "metadata": {},
   "outputs": [],
   "source": [
    "step_back_question_gen_chain = step_back_prompt | llm | StrOutputParser()"
   ]
  },
  {
   "cell_type": "markdown",
   "id": "285f278a-b2a0-4211-ba97-4d88dd3f7be3",
   "metadata": {},
   "source": [
    "### Testing the step-back-question generation chain"
   ]
  },
  {
   "cell_type": "code",
   "execution_count": 61,
   "id": "0e183515-84d5-419e-bf40-29be2b846dd2",
   "metadata": {},
   "outputs": [],
   "source": [
    "user_question = \"Can you give me some tips for a trip to Brighton?\"\n",
    "\n",
    "step_back_question = step_back_question_gen_chain.invoke(user_question)"
   ]
  },
  {
   "cell_type": "code",
   "execution_count": 62,
   "id": "4e6b3e21-4b68-4398-9ed3-9933e440fd60",
   "metadata": {},
   "outputs": [
    {
     "data": {
      "text/plain": [
       "'Step-back question: What should I consider when planning a trip to any seaside destination in the UK?'"
      ]
     },
     "execution_count": 62,
     "metadata": {},
     "output_type": "execute_result"
    }
   ],
   "source": [
    "step_back_question"
   ]
  },
  {
   "cell_type": "markdown",
   "id": "3ebb2415-2c81-463c-b0fc-66680bb4fbcf",
   "metadata": {},
   "source": [
    "### Incorporating step-back question generation chain into the RAG chain"
   ]
  },
  {
   "cell_type": "code",
   "execution_count": 63,
   "id": "4b363b6f-e94b-40c9-9945-165939501253",
   "metadata": {},
   "outputs": [],
   "source": [
    "retriever = uk_granular_collection.as_retriever()\n",
    "\n",
    "rag_prompt_template = \"\"\"\n",
    "Given a question and some context, answer the question.\n",
    "If you do not know the answer, just say I do not know.\n",
    "\n",
    "Context: {context}\n",
    "Question: {question}\n",
    "\"\"\"\n",
    "\n",
    "rag_prompt = ChatPromptTemplate.from_template(rag_prompt_template) \n",
    "\n",
    "step_back_question_rag_chain = (\n",
    "    {\n",
    "        \"context\": {\"detailed_question\": RunnablePassthrough()} | step_back_question_gen_chain | retriever,#A\n",
    "        \"question\": RunnablePassthrough(),#B\n",
    "    }\n",
    "    | rag_prompt\n",
    "    | llm\n",
    "    | StrOutputParser()\n",
    ")\n",
    "#A The context is returned by the retriver after feeding to it the step-back question\n",
    "#B This is the original user question"
   ]
  },
  {
   "cell_type": "code",
   "execution_count": 64,
   "id": "ba003a95-793a-49db-a01b-8c97781e9970",
   "metadata": {},
   "outputs": [
    {
     "name": "stdout",
     "output_type": "stream",
     "text": [
      "Here are a few practical tips and safety pointers for a visit to Brighton:\n",
      "\n",
      "• Getting out at night  \n",
      "  – The city centre (especially West Street) can get very busy and rowdy on Friday/Saturday nights—West Street in particular is best avoided after midnight.  \n",
      "  – If you’d rather something more low-key, head to venues popular with locals (avoid the biggest tourist clubs on those peak nights).  \n",
      "\n",
      "• Areas to be aware of  \n",
      "  – You’ll see a number of homeless people around the centre; they’re generally harmless and only ask for money.  \n",
      "  – “Party” or drug-user crowds sometimes gather around London Road and the Level—safe during daylight, but use more caution after dark.  \n",
      "  – Outlying districts like Whitehawk and Moulsecoomb have a rougher reputation and little for tourists to see.  \n",
      "\n",
      "• LGBTQ+ travellers  \n",
      "  – Brighton & Hove is famously welcoming, but if you want to hold hands or kiss, stick to Hove, The Lanes, North Laine or Kemp Town—any homophobic abuse there is very unlikely and would be frowned on by locals.  \n",
      "\n",
      "• Beach and water safety  \n",
      "  – Lifeguards patrol from late May until the first weekend in September; look for the signposted “covered” zones.  \n",
      "  – If you get into trouble in the water, dial 999 and ask for the Coastguard.  \n",
      "  – Always watch for traffic on Marine Parade and use designated crossings.  \n",
      "\n",
      "• General precautions  \n",
      "  – Brighton is generally safe, but take common-sense measures: keep valuables secure, be aware of taxi scams, lock bikes, and watch your belongings on crowded streets or trains.  \n",
      "\n",
      "Enjoy your trip—and don’t forget to sample the pier, the Lanes and a bit of real ale in a tucked-away pub!\n"
     ]
    }
   ],
   "source": [
    "user_question = \"Can you give me some tips for a trip to Brighton?\"\n",
    "\n",
    "answer = step_back_question_rag_chain.invoke(user_question)\n",
    "print(answer)"
   ]
  },
  {
   "cell_type": "markdown",
   "id": "5f6b7455-cfb2-4287-8c49-df30c0be7433",
   "metadata": {},
   "source": [
    "# Hypotetical DocumentEmbeddings (HyDE)"
   ]
  },
  {
   "cell_type": "markdown",
   "id": "30a4e050-c671-4159-9576-5ab064b05600",
   "metadata": {},
   "source": [
    "### Setting up the chain to generate the hypotetical document associated to the user question"
   ]
  },
  {
   "cell_type": "code",
   "execution_count": 54,
   "id": "8d11a9b8-5363-434e-9e12-ef52d2f7321e",
   "metadata": {},
   "outputs": [],
   "source": [
    "llm = ChatOpenAI(model=\"gpt-4o-mini\", openai_api_key=OPENAI_API_KEY)"
   ]
  },
  {
   "cell_type": "code",
   "execution_count": 55,
   "id": "c523665a-9b43-458f-8862-3fd269b38743",
   "metadata": {},
   "outputs": [],
   "source": [
    "hyde_prompt_template = \"\"\"\n",
    "Write one sentence that could answer the provided question. Do not add anything else.\n",
    "Question: {question}\n",
    "Sentence:\n",
    "\"\"\"\n",
    "\n",
    "hyde_prompt = ChatPromptTemplate.from_template(hyde_prompt_template)"
   ]
  },
  {
   "cell_type": "code",
   "execution_count": 56,
   "id": "40524475-bafc-42d7-afa8-68b5b72e5496",
   "metadata": {},
   "outputs": [],
   "source": [
    "hyde_chain = hyde_prompt | llm | StrOutputParser()"
   ]
  },
  {
   "cell_type": "markdown",
   "id": "8b8ccd86-59d8-4952-af3e-47357c252eec",
   "metadata": {},
   "source": [
    "### Testing the hyde generation chain"
   ]
  },
  {
   "cell_type": "code",
   "execution_count": 57,
   "id": "220297aa-972d-48f0-8a8f-55ef80d3a8bb",
   "metadata": {},
   "outputs": [],
   "source": [
    "user_question = \"What are the best beaches in Cornwall?\"\n",
    "\n",
    "hypotetical_document = hyde_chain.invoke(user_question)"
   ]
  },
  {
   "cell_type": "code",
   "execution_count": 58,
   "id": "8091c832-0199-4fe9-80b0-e5858829844d",
   "metadata": {},
   "outputs": [
    {
     "data": {
      "text/plain": [
       "'Some of the best beaches in Cornwall include Fistral Beach, Porthcurno Beach, and St Ives Bay.'"
      ]
     },
     "execution_count": 58,
     "metadata": {},
     "output_type": "execute_result"
    }
   ],
   "source": [
    "hypotetical_document"
   ]
  },
  {
   "cell_type": "markdown",
   "id": "c2149b19-41ee-4f73-96f7-af75bff52e4f",
   "metadata": {},
   "source": [
    "### Incorporating hyde chain into the RAG chain"
   ]
  },
  {
   "cell_type": "code",
   "execution_count": 319,
   "id": "2630c47f-4a6d-41ea-a1d4-627f7f98a00a",
   "metadata": {},
   "outputs": [],
   "source": [
    "retriever = uk_granular_collection.as_retriever()\n",
    "\n",
    "rag_prompt_template = \"\"\"\n",
    "Given a question and some context, answer the question.\n",
    "Only use the provided context to answer the question.\n",
    "If you do not know the answer, just say I do not know. \n",
    "\n",
    "Context: {context}\n",
    "Question: {question}\n",
    "\"\"\"\n",
    "\n",
    "rag_prompt = ChatPromptTemplate.from_template(rag_prompt_template) \n",
    "\n",
    "hyde_rag_chain = (\n",
    "    {\n",
    "        \"context\": {\"question\": RunnablePassthrough()} | hyde_chain | retriever,#A\n",
    "        \"question\": RunnablePassthrough(),#B\n",
    "    }\n",
    "    | rag_prompt\n",
    "    | llm\n",
    "    | StrOutputParser()\n",
    ")\n",
    "#A The context is returned by the retriver after feeding to it the hypotetical document\n",
    "#B This is the original user question"
   ]
  },
  {
   "cell_type": "code",
   "execution_count": 320,
   "id": "f793a751-6212-44f0-8911-9115beb24960",
   "metadata": {},
   "outputs": [
    {
     "name": "stdout",
     "output_type": "stream",
     "text": [
      "The best beaches in Cornwall mentioned in the context include Bude, Polzeath, Watergate Bay, Perranporth, Porthtowan, Fistral Beach, Newquay, St Agnes, St Ives, Gyllyngvase beach in Falmouth, and Praa Sands. Additionally, in Newquay, popular beaches are Crantock Beach, Fistral Beach, Great Western, Harbour, Holywell Bay, Lusty Glaze Beach, Porth Joke, Porth, Tolcarne Beach, Towan Beach, Whipsiderry, and Watergate Bay.\n"
     ]
    }
   ],
   "source": [
    "user_question = \"What are the best beaches in Cornwall?\"\n",
    "\n",
    "answer = hyde_rag_chain.invoke(user_question)\n",
    "print(answer)"
   ]
  },
  {
   "cell_type": "code",
   "execution_count": null,
   "id": "8b82f624-96d2-44bc-98b9-9c16ffd1ac25",
   "metadata": {},
   "outputs": [],
   "source": []
  },
  {
   "cell_type": "code",
   "execution_count": null,
   "id": "4e1ee653-57d7-4fd4-a6be-2200c75405ee",
   "metadata": {},
   "outputs": [],
   "source": []
  }
 ],
 "metadata": {
  "kernelspec": {
   "display_name": "Python 3 (ipykernel)",
   "language": "python",
   "name": "python3"
  },
  "language_info": {
   "codemirror_mode": {
    "name": "ipython",
    "version": 3
   },
   "file_extension": ".py",
   "mimetype": "text/x-python",
   "name": "python",
   "nbconvert_exporter": "python",
   "pygments_lexer": "ipython3",
   "version": "3.11.9"
  }
 },
 "nbformat": 4,
 "nbformat_minor": 5
}
