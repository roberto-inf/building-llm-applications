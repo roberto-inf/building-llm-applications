{
 "cells": [
  {
   "cell_type": "markdown",
   "id": "c54188ab-acab-4f76-8a00-c5b7655e288b",
   "metadata": {},
   "source": [
    "# Chapter 4"
   ]
  },
  {
   "cell_type": "markdown",
   "id": "81631471-2964-4915-baea-a2c049b33743",
   "metadata": {},
   "source": [
    "## Summarizing a document bigger than the LLM’s context window"
   ]
  },
  {
   "cell_type": "code",
   "execution_count": 1,
   "id": "02505e40-3967-4861-a109-2742bc64bca8",
   "metadata": {},
   "outputs": [],
   "source": [
    "with open(\"./Moby-Dick.txt\", 'r', encoding='utf-8') as f:\n",
    "    mobi_dick_book = f.read()"
   ]
  },
  {
   "cell_type": "code",
   "execution_count": 2,
   "id": "fafe5efe-b554-415d-b34a-649012c31bc0",
   "metadata": {},
   "outputs": [],
   "source": [
    "from langchain.text_splitter import TokenTextSplitter\n",
    "from langchain.schema import Document\n",
    "\n",
    "text_splitter = TokenTextSplitter(chunk_size=3000, chunk_overlap=100)\n",
    "text_chunks = text_splitter.split_text(mobi_dick_book)\n",
    "chunk_docs = [Document(page_content=text_chunk, metadata={}) for text_chunk in text_chunks]"
   ]
  },
  {
   "cell_type": "code",
   "execution_count": 3,
   "id": "e9d211ad-6929-4169-9e10-09012c505554",
   "metadata": {},
   "outputs": [],
   "source": [
    "from langchain_openai import ChatOpenAI\n",
    "from langchain.chains import (\n",
    "    LLMChain,\n",
    "    MapReduceChain,\n",
    "    StuffDocumentsChain, \n",
    "    ReduceDocumentsChain, \n",
    "    MapReduceDocumentsChain\n",
    ")\n",
    "from langchain_text_splitters import CharacterTextSplitter\n",
    "from langchain_core.prompts import PromptTemplate\n",
    "import getpass"
   ]
  },
  {
   "cell_type": "code",
   "execution_count": 5,
   "id": "e629d25f-5046-42bd-973e-fb6e1512de3e",
   "metadata": {},
   "outputs": [
    {
     "name": "stdin",
     "output_type": "stream",
     "text": [
      "Enter your OPENAI_API_KEY ········\n"
     ]
    }
   ],
   "source": [
    "OPENAI_API_KEY = getpass.getpass('Enter your OPENAI_API_KEY')"
   ]
  },
  {
   "cell_type": "code",
   "execution_count": 6,
   "id": "42d498d8-d621-4375-971b-ab36b227a56e",
   "metadata": {},
   "outputs": [],
   "source": [
    "model = ChatOpenAI(openai_api_key=OPENAI_API_KEY,model_name=\"gpt-3.5-turbo\")"
   ]
  },
  {
   "cell_type": "code",
   "execution_count": 7,
   "id": "feeb749c-b27f-4426-85cc-c650af9bc01f",
   "metadata": {},
   "outputs": [],
   "source": [
    "# Map\n",
    "map_prompt_template = \"\"\"\n",
    "Write a concise summary of the following text, and include the main details.\n",
    "Text: {chunk}\n",
    "\"\"\"\n",
    "\n",
    "map_prompt = PromptTemplate(template=map_prompt_template, input_variables=[\"chunk\"])\n",
    "map_chain = LLMChain(llm=model, prompt=map_prompt)"
   ]
  },
  {
   "cell_type": "code",
   "execution_count": 8,
   "id": "f160f444-2042-46ef-af1a-e6f58b7e3196",
   "metadata": {},
   "outputs": [],
   "source": [
    "# Reduce \n",
    "reduce_prompt_template = \"\"\"\n",
    "Write a coincise summary of the following summaries, and include the main details.\n",
    "Text: {summaries}\n",
    "\"\"\"\n",
    "\n",
    "reduce_prompt = PromptTemplate(\n",
    "    template=reduce_prompt_template, input_variables=[\"summaries\"]\n",
    ")\n",
    "\n",
    "reduce_chain = LLMChain(llm=model, prompt=reduce_prompt)\n"
   ]
  },
  {
   "cell_type": "code",
   "execution_count": 9,
   "id": "309d141a-4ef4-4a0b-af6a-37abe3ee631e",
   "metadata": {},
   "outputs": [],
   "source": [
    "combine_documents_chain = StuffDocumentsChain(\n",
    "    llm_chain=reduce_chain, document_variable_name=\"summaries\"\n",
    ")"
   ]
  },
  {
   "cell_type": "code",
   "execution_count": 10,
   "id": "ca553c17-96c3-42b8-b850-9d870c04058e",
   "metadata": {},
   "outputs": [],
   "source": [
    "reduce_documents_chain = ReduceDocumentsChain(\n",
    "    combine_documents_chain=combine_documents_chain,\n",
    "    collapse_documents_chain=combine_documents_chain,\n",
    "    # LLM token limit you do not want to exceed# ANNOTATION\n",
    "    token_max=4000,\n",
    ")"
   ]
  },
  {
   "cell_type": "code",
   "execution_count": 11,
   "id": "05cc807c-0cab-480e-991b-5c1afb8e997c",
   "metadata": {},
   "outputs": [],
   "source": [
    "# map reduce\n",
    "map_reduce_chain = MapReduceDocumentsChain(\n",
    "    # Map chain (DO THIS AND BELOW COMMENTS AS CODE ANNOTATION)\n",
    "    llm_chain=map_chain,\n",
    "    # Reduce chain\n",
    "    reduce_documents_chain=reduce_documents_chain, \n",
    "    # The variable name used in the map chain\n",
    "    document_variable_name=\"chunk\",\n",
    "    # Return output of map steps \n",
    "    return_intermediate_steps=False,\n",
    ")"
   ]
  },
  {
   "cell_type": "code",
   "execution_count": 12,
   "id": "f8f7ab85-31b5-4cc6-b9fc-34e71e6c81bd",
   "metadata": {},
   "outputs": [],
   "source": [
    "map_reduce_response = map_reduce_chain.invoke(chunk_docs)"
   ]
  },
  {
   "cell_type": "code",
   "execution_count": 13,
   "id": "506851a5-4e9c-4c6a-bab1-d4dc4ed725e1",
   "metadata": {},
   "outputs": [
    {
     "name": "stdout",
     "output_type": "stream",
     "text": [
      "The text is an eBook of the novel \"Moby-Dick; or The Whale\" by Herman Melville, available for free on Project Gutenberg. The narrator, Ishmael, describes his decision to embark on a whaling voyage, his arrival in New Bedford, and his stay at \"The Spouter Inn\" where he encounters a mysterious harpooneer named Queequeg. Initially wary of Queequeg's strange behavior, the narrator eventually forms a connection with him, leading to a realization about human understanding and connection. The text explores themes of adventure, mystery, and the contrast between civilized and savage behaviors.\n"
     ]
    }
   ],
   "source": [
    "print(map_reduce_response['output_text'])"
   ]
  },
  {
   "cell_type": "markdown",
   "id": "0bc1b8ce-97d1-4bf8-980a-acf763b0b17d",
   "metadata": {},
   "source": [
    "## Summarizing across documents"
   ]
  },
  {
   "cell_type": "code",
   "execution_count": 14,
   "id": "7bbe6bb1-c8a0-4440-a465-3c4426124000",
   "metadata": {},
   "outputs": [],
   "source": [
    "from langchain.document_loaders import WikipediaLoader\n",
    "\n",
    "wikipedia_loader = WikipediaLoader(query=\"Paestum\", load_max_docs=2)\n",
    "wikipedia_docs = wikipedia_loader.load()"
   ]
  },
  {
   "cell_type": "code",
   "execution_count": 15,
   "id": "84b99620-6eea-4f29-ab39-d8c6dea5e8ea",
   "metadata": {},
   "outputs": [],
   "source": [
    "from langchain.document_loaders import Docx2txtLoader\n",
    "from langchain.document_loaders import PyPDFLoader\n",
    "from langchain.document_loaders import TextLoader\n",
    "\n",
    "word_loader = Docx2txtLoader(\"Paestum/Paestum-Britannica.docx\")\n",
    "word_docs = word_loader.load()\n",
    "\n",
    "pdf_loader = PyPDFLoader(\"Paestum/PaestumRevisited.pdf\")\n",
    "pdf_docs = pdf_loader.load()\n",
    "\n",
    "txt_loader = TextLoader(\"Paestum/Paestum-Encyclopedia.txt\")\n",
    "txt_docs = txt_loader.load()"
   ]
  },
  {
   "cell_type": "code",
   "execution_count": 16,
   "id": "b3615a11-ca38-41de-95b8-4ece197644d6",
   "metadata": {},
   "outputs": [],
   "source": [
    "all_docs = wikipedia_docs + word_docs + pdf_docs + txt_docs"
   ]
  },
  {
   "cell_type": "code",
   "execution_count": 17,
   "id": "5dc508b9-2ee1-4cf2-b5a2-c347e8d4ba19",
   "metadata": {},
   "outputs": [],
   "source": [
    "from langchain_openai import ChatOpenAI\n",
    "from langchain.chains import (\n",
    "    LLMChain,\n",
    "    load_summarize_chain\n",
    ")\n",
    "from langchain_core.prompts import PromptTemplate\n",
    "import getpass"
   ]
  },
  {
   "cell_type": "code",
   "execution_count": 58,
   "id": "4b9e5655-397b-40aa-aeb3-867150ed4fe8",
   "metadata": {},
   "outputs": [
    {
     "name": "stdin",
     "output_type": "stream",
     "text": [
      "Enter your OPENAI_API_KEY ········\n"
     ]
    }
   ],
   "source": [
    "OPENAI_API_KEY = getpass.getpass('Enter your OPENAI_API_KEY')"
   ]
  },
  {
   "cell_type": "code",
   "execution_count": 18,
   "id": "776b6bd0-07ed-410c-bc1e-57cd94d002a2",
   "metadata": {},
   "outputs": [],
   "source": [
    "model = ChatOpenAI(openai_api_key=OPENAI_API_KEY,model_name=\"gpt-3.5-turbo\")"
   ]
  },
  {
   "cell_type": "code",
   "execution_count": 19,
   "id": "67a7db89-2e71-4dee-95d2-b02696170311",
   "metadata": {},
   "outputs": [],
   "source": [
    "doc_summary_template = \"\"\"Write a concise summary of the following text:\n",
    "{text}\n",
    "DOC SUMMARY:\"\"\"\n",
    "doc_summary_prompt = PromptTemplate.from_template(doc_summary_template)\n",
    "\n",
    "refine_summary_template = \"\"\"\n",
    "Your must produce a final summary from a temporary final summary\n",
    "which has generated so far and from the content of an additional document.\n",
    "This is the temporary final summary generated so far: {existing_answer}\n",
    "This is the content of the additional document: {text}\n",
    "Only use the content of the additional document if it is useful, \n",
    "otherwise return the temporary final summary as it is.\"\"\"\n",
    "\n",
    "refine_summary_prompt = PromptTemplate.from_template(refine_summary_template)"
   ]
  },
  {
   "cell_type": "code",
   "execution_count": 20,
   "id": "83dc5933-63e0-4bb5-9893-244227abc7bf",
   "metadata": {},
   "outputs": [],
   "source": [
    "summary_refine_chain = load_summarize_chain(\n",
    "    llm=model,\n",
    "    chain_type=\"refine\",\n",
    "    question_prompt=doc_summary_prompt,\n",
    "    refine_prompt=refine_summary_prompt,\n",
    "    return_intermediate_steps=True,\n",
    "    input_key=\"input_documents\",\n",
    "    output_key=\"final_summary\",\n",
    ")"
   ]
  },
  {
   "cell_type": "code",
   "execution_count": 21,
   "id": "4e6970b9-ebb9-4704-af28-feaad15b58b2",
   "metadata": {},
   "outputs": [],
   "source": [
    "summary_result = summary_refine_chain.invoke({\"input_documents\": all_docs}, return_only_outputs=True)"
   ]
  },
  {
   "cell_type": "code",
   "execution_count": 22,
   "id": "b63be6b6-7c7e-4266-afbc-b816b6baedf0",
   "metadata": {},
   "outputs": [
    {
     "name": "stdout",
     "output_type": "stream",
     "text": [
      "{'intermediate_steps': ['Paestum was a major ancient Greek city in Magna Graecia known for its well-preserved Greek temples, city walls, and amphitheatre. Established around 600 BC as Poseidonia, it was later conquered by the Lucanians and Romans. The city declined due to trade route shifts and natural disasters. Today, the ruins of Paestum are located in modern-day Italy and are a popular tourist destination.', \"Capaccio Paestum, formerly known as Capaccio, is a town and comune in the province of Salerno in the Campania region of south-western Italy. The ruins of the ancient Greek city of Paestum are located within the borders of the comune. The municipality of Capaccio is a hill town surrounded by a plain where most of the population resides. The nearest airport is Salerno-Pontecagnano, located 35 km away. Notable people from Capaccio include Vincenzo Romano and Michele Siano. The ruins of Paestum are a major tourist destination in modern-day Italy, known for its well-preserved Greek temples, city walls, and amphitheatre. Established around 600 BC as Poseidonia, the city was later conquered by the Lucanians and Romans, and eventually declined due to trade route shifts and natural disasters. Today, Paestum's ruins attract visitors from around the world.\", 'Paestum, formerly known as Poseidonia, is an ancient city in southern Italy near the west coast, known for its splendidly preserved Greek temples. Founded around 600 BC by Greek colonists, it later came under Roman rule and eventually declined due to natural disasters and raids. The ruins of Paestum, including the Temple of Athena, Temple of Hera I, and Temple of Hera II, attract visitors from around the world. The city also features a Roman forum, town layout, and an archaeological museum with treasures from the site. Notable people from Capaccio Paestum include Vincenzo Romano and Michele Siano. The municipality of Capaccio is a hill town surrounded by a plain where most of the population resides, with the nearest airport being Salerno-Pontecagnano located 35 km away. Today, Paestum remains a major tourist destination in modern-day Italy.', \"Paestum, formerly known as Poseidonia, is an ancient city in southern Italy near the west coast, known for its splendidly preserved Greek temples. Founded around 600 BC by Greek colonists, it later came under Roman rule and eventually declined due to natural disasters and raids. The ruins of Paestum, including the Temple of Athena, Temple of Hera I, and Temple of Hera II, attract visitors from around the world. The city also features a Roman forum, town layout, and an archaeological museum with treasures from the site. Notable people from Capaccio Paestum include Vincenzo Romano and Michele Siano. The municipality of Capaccio is a hill town surrounded by a plain where most of the population resides, with the nearest airport being Salerno-Pontecagnano located 35 km away. Today, Paestum remains a major tourist destination in modern-day Italy. The additional document provides further insights into the history and cultural exchange of Poseidonia, shedding light on its Greek origins, temples, agora, and commercial interactions with other populations like the Etruscans. The Lucanian period also played a significant role in the city's development, marking a shift in its cultural landscape.\", \"The additional document provides further insights into the history and cultural exchange of Poseidonia, shedding light on its Greek origins, temples, agora, and commercial interactions with other populations like the Etruscans. The Lucanian period also played a significant role in the city's development, marking a shift in its cultural landscape. The traditional interpretation among scholars suggests that Poseidonia came under the control of the Lucanians around 400 BC, leading to a supposed cultural change. However, recent research indicates that the transition to a Lucanian city was gradual and peaceful, with Greek practices continuing to be observed. The renaming of Poseidonia to Paistos or Paistom (later Paestum) may not necessarily indicate a conflict between Greeks and Lucanians, as it could have occurred under Roman rule. The archaeological evidence does not strongly support the idea of a violent conquest or subjugation of the Greeks by the Lucanians. Despite differing scholarly opinions, Paestum remains a fascinating destination in modern-day Italy, showcasing the rich history and cultural heritage of the ancient city.\", \"The additional document provides further insights into the history and cultural exchange of Poseidonia, shedding light on its Greek origins, temples, agora, and commercial interactions with other populations like the Etruscans. The Lucanian period also played a significant role in the city's development, marking a shift in its cultural landscape. Recent research suggests that the transition to a Lucanian city was gradual and peaceful, with Greek practices continuing to be observed. The archaeological evidence does not strongly support the idea of a violent conquest or subjugation of the Greeks by the Lucanians. The renaming of Poseidonia to Paistos or Paistom (later Paestum) may not necessarily indicate a conflict between Greeks and Lucanians. The city continued to prosper during the Lucanian period, with new constructions like stoai and an Asklepieion at the Greek agora. The establishment of the Latin colony in 273 BC marked a new phase in Poseidonia's history under Roman rule. Despite differing scholarly opinions, Paestum remains a fascinating destination in modern-day Italy, showcasing the rich history and cultural heritage of the ancient city.\", \"The additional document provides further insights into the Roman colonization of Poseidonia, now known as Paestum, highlighting the city's adaptation to Roman political systems while maintaining its Greek and Lucanian roots. The strong bonds with Rome, both politically and emotionally, led to Paestum's loyalty and support during times of conflict, ultimately earning the city a degree of autonomy and the privilege to mint its own coins. Despite Roman influence, Paestum retained elements of its Greek and Lucanian heritage. The construction of the via Popilia in 133 BC, however, physically isolated the city from major routes, impacting its connectivity. Overall, Paestum's history reflects a complex blend of Greek, Lucanian, and Roman influences, showcasing its rich cultural heritage.\", \"The additional document provides further insight into the architectural significance of Paestum's Doric temples and their influence on Neo-Classical architects. The temples' exaggerated entasis and wide squat capitals were admired for their powerful effects. The Paestum Order's unique characteristics contributed to its popularity in the 18th and 19th centuries. This information enhances the understanding of Paestum's cultural legacy, showcasing the city's rich architectural heritage in addition to its complex blend of Greek, Lucanian, and Roman influences.\"], 'final_summary': \"The additional document provides further insight into the architectural significance of Paestum's Doric temples and their influence on Neo-Classical architects. The temples' exaggerated entasis and wide squat capitals were admired for their powerful effects. The Paestum Order's unique characteristics contributed to its popularity in the 18th and 19th centuries. This information enhances the understanding of Paestum's cultural legacy, showcasing the city's rich architectural heritage in addition to its complex blend of Greek, Lucanian, and Roman influences.\"}\n"
     ]
    }
   ],
   "source": [
    "print(summary_result)"
   ]
  },
  {
   "cell_type": "markdown",
   "id": "e0aead77-9945-471c-b4bd-f35e2056e744",
   "metadata": {},
   "source": [
    "## Summarizing structured data"
   ]
  },
  {
   "cell_type": "code",
   "execution_count": 23,
   "id": "1ef4e547-4b28-439d-b0cc-62e906e19338",
   "metadata": {},
   "outputs": [],
   "source": [
    "watches = [\n",
    "  {\"brand\": \"Rolex\", \"model\": \"Submariner\", \"dial-size\": 41, \"dial-color\": \"black\", \"material\": \"steel\", \"status\": \"available\"},\n",
    "  {\"brand\": \"Rolex\", \"model\": \"Dytona\", \"dial-size\": 40, \"dial-color\": \"black\", \"material\": \"steel\", \"status\": \"available\"},\n",
    "  {\"brand\": \"Rolex\", \"model\": \"Dytona\", \"dial-size\": 40, \"dial-color\": \"white\", \"material\": \"gold\", \"status\": \"sold_yesterday\"},\n",
    "  {\"brand\": \"Omega\", \"model\": \"Speedmaster Moonwatch\", \"dial-size\": 42, \"dial-color\": \"black\", \"material\": \"steel\", \"status\": \"available\"},\n",
    "  {\"brand\": \"Omega\", \"model\": \"Seamaster\", \"dial-size\": 43, \"dial-color\": \"blue\", \"material\": \"steel\", \"status\": \"sold_yesterday\"},    \n",
    "]"
   ]
  },
  {
   "cell_type": "code",
   "execution_count": 24,
   "id": "25e334f7-7d73-4d05-abfb-b5e49b84e5d5",
   "metadata": {},
   "outputs": [],
   "source": [
    "from langchain.schema import Document\n",
    "\n",
    "row_docs = [Document(page_content=f\"We have {row['status']} a {row['material']} {row['brand']} {row['model']}  with a {row['dial-color']} {row['dial-size']}mm dial.\", metadata={}) \n",
    "            for row in watches]"
   ]
  },
  {
   "cell_type": "code",
   "execution_count": 25,
   "id": "01a86e74-1129-43a5-9894-3ca9f22f3fd2",
   "metadata": {},
   "outputs": [],
   "source": [
    "from langchain_openai import ChatOpenAI\n",
    "from langchain.chains import (\n",
    "    load_summarize_chain\n",
    ")\n",
    "import getpass"
   ]
  },
  {
   "cell_type": "code",
   "execution_count": 26,
   "id": "23deeec3-7d49-4e5b-bd8f-216e4da45fe2",
   "metadata": {},
   "outputs": [
    {
     "name": "stdin",
     "output_type": "stream",
     "text": [
      "Enter your OPENAI_API_KEY ········\n"
     ]
    }
   ],
   "source": [
    "OPENAI_API_KEY = getpass.getpass('Enter your OPENAI_API_KEY')"
   ]
  },
  {
   "cell_type": "code",
   "execution_count": 27,
   "id": "77baf015-90e1-4ce3-8f21-2184b6f3f469",
   "metadata": {},
   "outputs": [],
   "source": [
    "model = ChatOpenAI(openai_api_key=OPENAI_API_KEY,model_name=\"gpt-3.5-turbo\")"
   ]
  },
  {
   "cell_type": "code",
   "execution_count": 29,
   "id": "7dd2536c-6a80-4c81-9ab5-c9e5153d8e7d",
   "metadata": {},
   "outputs": [],
   "source": [
    "structured_data_summary_chain = load_summarize_chain(model, chain_type=\"stuff\")"
   ]
  },
  {
   "cell_type": "code",
   "execution_count": 32,
   "id": "4f5265c0-e3ae-437f-a191-6bf2ddb02c16",
   "metadata": {},
   "outputs": [
    {
     "name": "stdout",
     "output_type": "stream",
     "text": [
      "Available: Steel Rolex Submariner (41mm black dial), Steel Rolex Daytona (40mm black dial), Steel Omega Speedmaster Moonwatch (42mm black dial)\n",
      "\n",
      "Sold: Gold Rolex Daytona (40mm white dial), Steel Omega Seamaster (43mm blue dial)\n"
     ]
    }
   ],
   "source": [
    "summary_result = structured_data_summary_chain.invoke(row_docs)\n",
    "print(summary_result['output_text'])"
   ]
  },
  {
   "cell_type": "code",
   "execution_count": null,
   "id": "7789018a-3254-47f4-bff2-5b1c826a8710",
   "metadata": {},
   "outputs": [],
   "source": []
  }
 ],
 "metadata": {
  "kernelspec": {
   "display_name": "Python 3 (ipykernel)",
   "language": "python",
   "name": "python3"
  },
  "language_info": {
   "codemirror_mode": {
    "name": "ipython",
    "version": 3
   },
   "file_extension": ".py",
   "mimetype": "text/x-python",
   "name": "python",
   "nbconvert_exporter": "python",
   "pygments_lexer": "ipython3",
   "version": "3.11.8"
  }
 },
 "nbformat": 4,
 "nbformat_minor": 5
}
